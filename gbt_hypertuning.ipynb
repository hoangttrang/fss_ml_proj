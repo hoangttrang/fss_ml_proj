{
 "cells": [
  {
   "cell_type": "markdown",
   "metadata": {
    "application/vnd.databricks.v1+cell": {
     "cellMetadata": {},
     "inputWidgets": {},
     "nuid": "e46b0778-bf65-4dfd-bcc6-6e3c4b0941c2",
     "showTitle": false,
     "tableResultSettingsMap": {},
     "title": ""
    }
   },
   "source": [
    "# Gradient Boosted Classifier Hyperparameter Tuning and Training "
   ]
  },
  {
   "cell_type": "code",
   "execution_count": 0,
   "metadata": {
    "application/vnd.databricks.v1+cell": {
     "cellMetadata": {
      "byteLimit": 2048000,
      "rowLimit": 10000
     },
     "inputWidgets": {},
     "nuid": "896a9da6-3c9e-4d40-b9af-cdd564d074c7",
     "showTitle": false,
     "tableResultSettingsMap": {},
     "title": ""
    }
   },
   "outputs": [],
   "source": [
    "# import libraries\n",
    "from pyspark.sql import SparkSession, functions as F\n",
    "from pyspark.sql import Window\n",
    "from pyspark.sql.types import StructType, StructField, StringType, IntegerType, NumericType, DateType, DoubleType\n",
    "from pyspark.ml import Pipeline\n",
    "from pyspark.ml.evaluation import BinaryClassificationEvaluator, MulticlassClassificationEvaluator\n",
    "from pyspark.ml.feature import VectorAssembler, MinMaxScaler\n",
    "from pyspark.ml.classification import RandomForestClassifier, GBTClassifier\n",
    "from pyspark.ml.tuning import CrossValidator, ParamGridBuilder, TrainValidationSplit\n",
    "from pyspark.sql.functions import col, count, mean, stddev, min, max, when, isnan, countDistinct, lit, to_timestamp, to_date, hour, avg, sum, date_sub, current_date, datediff, floor, row_number, date_format, weekofyear, year, round, substring, concat, regexp_replace, lag, last, rank, unix_timestamp, expr, ntile, rand, monotonically_increasing_id\n",
    "from pyspark.mllib.evaluation import BinaryClassificationMetrics, MulticlassMetrics\n",
    "import matplotlib.pyplot as plt\n",
    "import seaborn as sns\n",
    "from sklearn.metrics import roc_curve, auc, precision_recall_curve, confusion_matrix, ConfusionMatrixDisplay\n",
    "import numpy as np\n",
    "import optuna\n",
    "import gc\n",
    "from functools import partial"
   ]
  },
  {
   "cell_type": "code",
   "execution_count": 0,
   "metadata": {
    "application/vnd.databricks.v1+cell": {
     "cellMetadata": {
      "byteLimit": 2048000,
      "rowLimit": 10000
     },
     "inputWidgets": {},
     "nuid": "7500cfdb-ec36-43b1-b733-302f501bbee7",
     "showTitle": false,
     "tableResultSettingsMap": {},
     "title": ""
    }
   },
   "outputs": [],
   "source": [
    "app_name = \"basic-training\"\n",
    "master = \"local[*]\"\n",
    "spark = SparkSession\\\n",
    "        .builder\\\n",
    "        .appName(app_name)\\\n",
    "        .master(master)\\\n",
    "        .getOrCreate()\n",
    "\n",
    "sc = spark.sparkContext"
   ]
  },
  {
   "cell_type": "markdown",
   "metadata": {
    "application/vnd.databricks.v1+cell": {
     "cellMetadata": {},
     "inputWidgets": {},
     "nuid": "24a391f8-0efe-4f81-bf58-127ed4e48091",
     "showTitle": false,
     "tableResultSettingsMap": {},
     "title": ""
    }
   },
   "source": [
    "## Load data"
   ]
  },
  {
   "cell_type": "code",
   "execution_count": 0,
   "metadata": {
    "application/vnd.databricks.v1+cell": {
     "cellMetadata": {
      "byteLimit": 2048000,
      "rowLimit": 10000
     },
     "inputWidgets": {},
     "nuid": "183d7ddd-18fc-4d6a-9a0d-25905b5e8f75",
     "showTitle": false,
     "tableResultSettingsMap": {},
     "title": ""
    }
   },
   "outputs": [],
   "source": [
    "train_data = spark.read.parquet(\"dbfs:/FileStore/tables/train_data3.parquet\")\n",
    "test_data = spark.read.parquet(\"dbfs:/FileStore/tables/test_data3.parquet\")\n",
    "\n",
    "\n",
    "# switch is_accident to label\n",
    "train_data = train_data.withColumn(\"label\", (col(\"is_accident\") == 1).cast(IntegerType())).drop(\"is_accident\")\n",
    "test_data = test_data.withColumn(\"label\", (col(\"is_accident\") == 1).cast(IntegerType())).drop(\"is_accident\")\n"
   ]
  },
  {
   "cell_type": "code",
   "execution_count": 0,
   "metadata": {
    "application/vnd.databricks.v1+cell": {
     "cellMetadata": {
      "byteLimit": 2048000,
      "rowLimit": 10000
     },
     "inputWidgets": {},
     "nuid": "e2a8d9af-8e31-4c05-8db3-42a23b31d513",
     "showTitle": false,
     "tableResultSettingsMap": {},
     "title": ""
    }
   },
   "outputs": [
    {
     "output_type": "stream",
     "name": "stdout",
     "output_type": "stream",
     "text": [
      "+-----+------+\n|label| count|\n+-----+------+\n|    1|   260|\n|    0|166819|\n+-----+------+\n\n"
     ]
    }
   ],
   "source": [
    "train_data.groupBy(\"label\").count().show()"
   ]
  },
  {
   "cell_type": "code",
   "execution_count": 0,
   "metadata": {
    "application/vnd.databricks.v1+cell": {
     "cellMetadata": {
      "byteLimit": 2048000,
      "rowLimit": 10000
     },
     "inputWidgets": {},
     "nuid": "d279508d-94a4-4797-9d53-02c9e665b3b8",
     "showTitle": false,
     "tableResultSettingsMap": {},
     "title": ""
    }
   },
   "outputs": [],
   "source": [
    "# drop labelm id columns , and EDA feature \n",
    "drop_columns = ['zipcode',\"trip_date\", 'vehicle_id_encoded', 'driver_id_encoded']\n",
    "\n",
    "# drop \n",
    "drop_columns.extend([\"year\", \"month\"])\n",
    "\n",
    "train_data = train_data.drop(*drop_columns)\n",
    "test_data = test_data.drop(*drop_columns)\n",
    "\n",
    "schema = train_data.schema"
   ]
  },
  {
   "cell_type": "markdown",
   "metadata": {
    "application/vnd.databricks.v1+cell": {
     "cellMetadata": {},
     "inputWidgets": {},
     "nuid": "6b6a1d1b-a75d-4df9-95dc-119c554a904f",
     "showTitle": false,
     "tableResultSettingsMap": {},
     "title": ""
    }
   },
   "source": [
    "## Set up pipeline"
   ]
  },
  {
   "cell_type": "code",
   "execution_count": 0,
   "metadata": {
    "application/vnd.databricks.v1+cell": {
     "cellMetadata": {
      "byteLimit": 2048000,
      "rowLimit": 10000
     },
     "inputWidgets": {},
     "nuid": "597f7a54-2783-4339-888e-fc2e43c904c1",
     "showTitle": false,
     "tableResultSettingsMap": {},
     "title": ""
    }
   },
   "outputs": [
    {
     "output_type": "stream",
     "name": "stdout",
     "output_type": "stream",
     "text": [
      "Non-numerical columns: []\n"
     ]
    }
   ],
   "source": [
    "# find non-numerical columns\n",
    "numerical_cols = [field.name for field in schema if isinstance(field.dataType, NumericType) and field.name != \"label\"]\n",
    "non_numerical_cols = [field.name for field in schema if not isinstance(field.dataType, NumericType)]\n",
    "\n",
    "# Show results\n",
    "print(\"Non-numerical columns:\", non_numerical_cols)"
   ]
  },
  {
   "cell_type": "code",
   "execution_count": 0,
   "metadata": {
    "application/vnd.databricks.v1+cell": {
     "cellMetadata": {
      "byteLimit": 2048000,
      "rowLimit": 10000
     },
     "inputWidgets": {},
     "nuid": "c18d2cd5-540d-4fd1-8d9f-d320a26d8d88",
     "showTitle": false,
     "tableResultSettingsMap": {},
     "title": ""
    }
   },
   "outputs": [
    {
     "output_type": "stream",
     "name": "stdout",
     "output_type": "stream",
     "text": [
      "Positive (label=1): 260\nNegative (label=0): 166819\nScale positive weight: 641.6115384615384\n"
     ]
    }
   ],
   "source": [
    "label_counts=train_data.groupBy('label').count()\n",
    "counts = {row[\"label\"]: row[\"count\"] for row in label_counts.collect()}\n",
    "\n",
    "# Assign positive and negative counts\n",
    "num_positive = counts.get(1, 0)\n",
    "num_negative = counts.get(0, 0)\n",
    "\n",
    "print(f\"Positive (label=1): {num_positive}\")\n",
    "print(f\"Negative (label=0): {num_negative}\")\n",
    "\n",
    "# create POS weight\n",
    "scale_pos_weight = num_negative / num_positive\n",
    "print(f\"Scale positive weight: {scale_pos_weight}\")\n",
    "\n",
    "train_data = train_data.withColumn(\n",
    "    \"class_weight\",\n",
    "    when(col(\"label\") == 1, scale_pos_weight).otherwise(1.0)\n",
    ")"
   ]
  },
  {
   "cell_type": "markdown",
   "metadata": {
    "application/vnd.databricks.v1+cell": {
     "cellMetadata": {},
     "inputWidgets": {},
     "nuid": "db91a5d4-91a1-4557-a36d-41dcf0811221",
     "showTitle": false,
     "tableResultSettingsMap": {},
     "title": ""
    }
   },
   "source": [
    "#### Assemble Features "
   ]
  },
  {
   "cell_type": "code",
   "execution_count": 0,
   "metadata": {
    "application/vnd.databricks.v1+cell": {
     "cellMetadata": {
      "byteLimit": 2048000,
      "rowLimit": 10000
     },
     "inputWidgets": {},
     "nuid": "7bda6f96-f505-4d9c-b4f5-5c32e5bb0e2f",
     "showTitle": false,
     "tableResultSettingsMap": {},
     "title": ""
    }
   },
   "outputs": [],
   "source": [
    "# process data for training\n",
    "feature_cols = [col for col in train_data.columns if col not in ['label', 'class_weight']]\n",
    "# Assemble features into a single vector\n",
    "assembler = VectorAssembler(inputCols=feature_cols, outputCol=\"features\")\n",
    "\n",
    "# Transform both datasets\n",
    "train_prepared = assembler.transform(train_data).select(\"label\", \"features\", \"class_weight\")\n",
    "test_prepared = assembler.transform(test_data).select(\"label\", \"features\")"
   ]
  },
  {
   "cell_type": "code",
   "execution_count": 0,
   "metadata": {
    "application/vnd.databricks.v1+cell": {
     "cellMetadata": {
      "byteLimit": 2048000,
      "rowLimit": 10000
     },
     "inputWidgets": {},
     "nuid": "7933e46e-c5f4-43c9-a2ba-6a510a499655",
     "showTitle": false,
     "tableResultSettingsMap": {},
     "title": ""
    }
   },
   "outputs": [],
   "source": [
    "# Function to make sure train/val split is stratified \n",
    "def stratified_split(df, label_col=\"label\", train_frac=0.8, seed=42):\n",
    "    fractions = df.select(label_col).distinct().withColumn(\n",
    "        \"fraction\", F.lit(train_frac)\n",
    "    ).rdd.collectAsMap()\n",
    "    \n",
    "    # Sample by class\n",
    "    train_subset = df.stat.sampleBy(label_col, fractions, seed)\n",
    "    \n",
    "    # Get the validation set as the remaining data\n",
    "    # Using a left anti join to get rows in df that aren't in train_subset\n",
    "    validation_subset = df.join(\n",
    "        train_subset, \n",
    "        on=df.columns, \n",
    "        how=\"left_anti\"\n",
    "    )\n",
    "    return train_subset, validation_subset"
   ]
  },
  {
   "cell_type": "code",
   "execution_count": 0,
   "metadata": {
    "application/vnd.databricks.v1+cell": {
     "cellMetadata": {
      "byteLimit": 2048000,
      "rowLimit": 10000
     },
     "inputWidgets": {},
     "nuid": "1730393d-1685-45b1-b49b-a703ccc709f3",
     "showTitle": false,
     "tableResultSettingsMap": {},
     "title": ""
    }
   },
   "outputs": [],
   "source": [
    "train_subset, validation_subset = stratified_split(train_prepared)"
   ]
  },
  {
   "cell_type": "markdown",
   "metadata": {
    "application/vnd.databricks.v1+cell": {
     "cellMetadata": {},
     "inputWidgets": {},
     "nuid": "c4590d19-477d-4ea8-a7e8-0a7ae7a247ca",
     "showTitle": false,
     "tableResultSettingsMap": {},
     "title": ""
    }
   },
   "source": [
    "### Initial Hyperparameter Tuning with All Features"
   ]
  },
  {
   "cell_type": "code",
   "execution_count": 0,
   "metadata": {
    "application/vnd.databricks.v1+cell": {
     "cellMetadata": {
      "byteLimit": 2048000,
      "rowLimit": 10000
     },
     "inputWidgets": {},
     "nuid": "6090bb2b-0d7a-40de-ac01-0ab6c378dd09",
     "showTitle": false,
     "tableResultSettingsMap": {},
     "title": ""
    }
   },
   "outputs": [],
   "source": [
    "def objective(trial):\n",
    "    # Hyperparameters to tune\n",
    "    max_depth = trial.suggest_int('max_depth', 3, 15)\n",
    "    step_size = trial.suggest_float('step_size', 0.05, 0.3)\n",
    "    subsample_rate = trial.suggest_float('subsample_rate', 0.5, 1.0)\n",
    "    min_instances = trial.suggest_int('min_instances_per_node', 1, 20)\n",
    "    \n",
    "    # Create model with suggested hyperparameters\n",
    "    gbt = GBTClassifier(\n",
    "        featuresCol=\"features\", \n",
    "        labelCol=\"label\", \n",
    "        maxDepth=max_depth,\n",
    "        stepSize=step_size,\n",
    "        subsamplingRate=subsample_rate,\n",
    "        minInstancesPerNode=min_instances,\n",
    "        weightCol=\"class_weight\",\n",
    "    )\n",
    "    \n",
    "    # Create and fit pipeline\n",
    "    pipeline = Pipeline(stages=[gbt])\n",
    "    model = pipeline.fit(train_subset)\n",
    "    \n",
    "    # Evaluate on validation set\n",
    "    predictions = model.transform(validation_subset)\n",
    "    evaluator = BinaryClassificationEvaluator(\n",
    "        labelCol=\"label\", \n",
    "        rawPredictionCol=\"rawPrediction\", \n",
    "        metricName=\"areaUnderROC\"\n",
    "    )\n",
    "    auc = evaluator.evaluate(predictions)\n",
    "    \n",
    "    return auc"
   ]
  },
  {
   "cell_type": "code",
   "execution_count": 0,
   "metadata": {
    "application/vnd.databricks.v1+cell": {
     "cellMetadata": {
      "byteLimit": 2048000,
      "rowLimit": 10000
     },
     "inputWidgets": {},
     "nuid": "392e637e-a44a-463d-a6d5-a0c3029b0cdc",
     "showTitle": false,
     "tableResultSettingsMap": {},
     "title": ""
    }
   },
   "outputs": [
    {
     "output_type": "stream",
     "name": "stderr",
     "output_type": "stream",
     "text": [
      "[I 2025-04-05 18:30:38,998] A new study created in memory with name: gbt_accident_prediction\n"
     ]
    }
   ],
   "source": [
    "study = optuna.create_study(direction='maximize', study_name='gbt_accident_prediction')"
   ]
  },
  {
   "cell_type": "code",
   "execution_count": 0,
   "metadata": {
    "application/vnd.databricks.v1+cell": {
     "cellMetadata": {
      "byteLimit": 2048000,
      "rowLimit": 10000
     },
     "inputWidgets": {},
     "nuid": "37f4fc4c-2295-4841-91bc-6442bf7ee31d",
     "showTitle": false,
     "tableResultSettingsMap": {},
     "title": ""
    }
   },
   "outputs": [
    {
     "output_type": "execute_result",
     "data": {
      "text/plain": [
       "DataFrame[label: int, features: vector, class_weight: double]"
      ]
     },
     "execution_count": 42,
     "metadata": {},
     "output_type": "execute_result"
    }
   ],
   "source": [
    "train_subset.cache()\n",
    "validation_subset.cache()"
   ]
  },
  {
   "cell_type": "code",
   "execution_count": 0,
   "metadata": {
    "application/vnd.databricks.v1+cell": {
     "cellMetadata": {
      "byteLimit": 2048000,
      "rowLimit": 10000
     },
     "inputWidgets": {},
     "nuid": "dde325d6-8e49-4b16-a98b-d22ae84140e6",
     "showTitle": false,
     "tableResultSettingsMap": {},
     "title": ""
    }
   },
   "outputs": [
    {
     "output_type": "stream",
     "name": "stdout",
     "output_type": "stream",
     "text": [
      "+-----+------+\n|label| count|\n+-----+------+\n|    1|   206|\n|    0|133327|\n+-----+------+\n\n"
     ]
    }
   ],
   "source": [
    "train_subset.groupBy('label').count().show()"
   ]
  },
  {
   "cell_type": "code",
   "execution_count": 0,
   "metadata": {
    "application/vnd.databricks.v1+cell": {
     "cellMetadata": {
      "byteLimit": 2048000,
      "rowLimit": 10000
     },
     "inputWidgets": {},
     "nuid": "a307e708-e798-4f6d-be04-4335767df007",
     "showTitle": false,
     "tableResultSettingsMap": {},
     "title": ""
    }
   },
   "outputs": [
    {
     "output_type": "stream",
     "name": "stdout",
     "output_type": "stream",
     "text": [
      "+-----+-----+\n|label|count|\n+-----+-----+\n|    1|   54|\n|    0|33492|\n+-----+-----+\n\n"
     ]
    }
   ],
   "source": [
    "validation_subset.groupBy('label').count().show()"
   ]
  },
  {
   "cell_type": "code",
   "execution_count": 0,
   "metadata": {
    "application/vnd.databricks.v1+cell": {
     "cellMetadata": {
      "byteLimit": 2048000,
      "rowLimit": 10000
     },
     "inputWidgets": {},
     "nuid": "03a31682-1410-453e-b179-3a13355b434c",
     "showTitle": false,
     "tableResultSettingsMap": {},
     "title": ""
    },
    "jupyter": {
     "outputs_hidden": true
    }
   },
   "outputs": [
    {
     "output_type": "display_data",
     "data": {
      "application/vnd.jupyter.widget-view+json": {
       "model_id": "bdfb6683690543ae8cdc507adc40705a",
       "version_major": 2,
       "version_minor": 0
      },
      "text/plain": [
       "Downloading artifacts:   0%|          | 0/20 [00:00<?, ?it/s]"
      ]
     },
     "metadata": {},
     "output_type": "display_data"
    },
    {
     "output_type": "display_data",
     "data": {
      "application/vnd.jupyter.widget-view+json": {
       "model_id": "c0b84b40b24841d38c44cddcfe46c12c",
       "version_major": 2,
       "version_minor": 0
      },
      "text/plain": [
       "Uploading artifacts:   0%|          | 0/4 [00:00<?, ?it/s]"
      ]
     },
     "metadata": {},
     "output_type": "display_data"
    },
    {
     "output_type": "stream",
     "name": "stderr",
     "output_type": "stream",
     "text": [
      "[I 2025-04-05 18:54:52,177] Trial 1 finished with value: 0.5244093669687843 and parameters: {'max_depth': 11, 'step_size': 0.16400527992851954, 'subsample_rate': 0.5468862648657284, 'min_instances_per_node': 6}. Best is trial 1 with value: 0.5244093669687843.\n"
     ]
    },
    {
     "output_type": "display_data",
     "data": {
      "application/vnd.jupyter.widget-view+json": {
       "model_id": "6b52a98aba7e44cb9da223a5c09a848c",
       "version_major": 2,
       "version_minor": 0
      },
      "text/plain": [
       "Downloading artifacts:   0%|          | 0/20 [00:00<?, ?it/s]"
      ]
     },
     "metadata": {},
     "output_type": "display_data"
    },
    {
     "output_type": "display_data",
     "data": {
      "application/vnd.jupyter.widget-view+json": {
       "model_id": "0455730d5742410f8b5211722213464b",
       "version_major": 2,
       "version_minor": 0
      },
      "text/plain": [
       "Uploading artifacts:   0%|          | 0/4 [00:00<?, ?it/s]"
      ]
     },
     "metadata": {},
     "output_type": "display_data"
    },
    {
     "output_type": "stream",
     "name": "stderr",
     "output_type": "stream",
     "text": [
      "[I 2025-04-05 19:01:51,023] Trial 2 finished with value: 0.5681481149727301 and parameters: {'max_depth': 9, 'step_size': 0.2756128218952987, 'subsample_rate': 0.6633134778799832, 'min_instances_per_node': 4}. Best is trial 2 with value: 0.5681481149727301.\n"
     ]
    },
    {
     "output_type": "display_data",
     "data": {
      "application/vnd.jupyter.widget-view+json": {
       "model_id": "1fbdfb42159d4039af79310fdbfa94a1",
       "version_major": 2,
       "version_minor": 0
      },
      "text/plain": [
       "Downloading artifacts:   0%|          | 0/20 [00:00<?, ?it/s]"
      ]
     },
     "metadata": {},
     "output_type": "display_data"
    },
    {
     "output_type": "display_data",
     "data": {
      "application/vnd.jupyter.widget-view+json": {
       "model_id": "ebc6cc4dde644f40870b1778c222e43a",
       "version_major": 2,
       "version_minor": 0
      },
      "text/plain": [
       "Uploading artifacts:   0%|          | 0/4 [00:00<?, ?it/s]"
      ]
     },
     "metadata": {},
     "output_type": "display_data"
    },
    {
     "output_type": "stream",
     "name": "stderr",
     "output_type": "stream",
     "text": [
      "[I 2025-04-05 19:04:28,540] Trial 3 finished with value: 0.6936695219643383 and parameters: {'max_depth': 3, 'step_size': 0.07897169527839405, 'subsample_rate': 0.6363004300975026, 'min_instances_per_node': 7}. Best is trial 3 with value: 0.6936695219643383.\n"
     ]
    },
    {
     "output_type": "display_data",
     "data": {
      "application/vnd.jupyter.widget-view+json": {
       "model_id": "da3ba143d3e24c4198d9c4c961df46f8",
       "version_major": 2,
       "version_minor": 0
      },
      "text/plain": [
       "Downloading artifacts:   0%|          | 0/20 [00:00<?, ?it/s]"
      ]
     },
     "metadata": {},
     "output_type": "display_data"
    },
    {
     "output_type": "display_data",
     "data": {
      "application/vnd.jupyter.widget-view+json": {
       "model_id": "9d5f6ad0604241c6a0746b4c2cda6838",
       "version_major": 2,
       "version_minor": 0
      },
      "text/plain": [
       "Uploading artifacts:   0%|          | 0/4 [00:00<?, ?it/s]"
      ]
     },
     "metadata": {},
     "output_type": "display_data"
    },
    {
     "output_type": "stream",
     "name": "stderr",
     "output_type": "stream",
     "text": [
      "[I 2025-04-05 19:22:18,874] Trial 4 finished with value: 0.619382019365598 and parameters: {'max_depth': 14, 'step_size': 0.2364213537161448, 'subsample_rate': 0.7802880806773, 'min_instances_per_node': 3}. Best is trial 3 with value: 0.6936695219643383.\n"
     ]
    },
    {
     "output_type": "display_data",
     "data": {
      "application/vnd.jupyter.widget-view+json": {
       "model_id": "dda01a5eb694423f9b6585bc430652d7",
       "version_major": 2,
       "version_minor": 0
      },
      "text/plain": [
       "Downloading artifacts:   0%|          | 0/20 [00:00<?, ?it/s]"
      ]
     },
     "metadata": {},
     "output_type": "display_data"
    },
    {
     "output_type": "display_data",
     "data": {
      "application/vnd.jupyter.widget-view+json": {
       "model_id": "30affcfa1f3a4056807867c0a4d13fd8",
       "version_major": 2,
       "version_minor": 0
      },
      "text/plain": [
       "Uploading artifacts:   0%|          | 0/4 [00:00<?, ?it/s]"
      ]
     },
     "metadata": {},
     "output_type": "display_data"
    },
    {
     "output_type": "stream",
     "name": "stderr",
     "output_type": "stream",
     "text": [
      "[I 2025-04-05 19:33:30,280] Trial 5 finished with value: 0.5821235364111295 and parameters: {'max_depth': 11, 'step_size': 0.09730831169010508, 'subsample_rate': 0.7407347020495545, 'min_instances_per_node': 14}. Best is trial 3 with value: 0.6936695219643383.\n"
     ]
    },
    {
     "output_type": "display_data",
     "data": {
      "application/vnd.jupyter.widget-view+json": {
       "model_id": "2dc09476db1b4529a8cc22ec15f88b9e",
       "version_major": 2,
       "version_minor": 0
      },
      "text/plain": [
       "Downloading artifacts:   0%|          | 0/20 [00:00<?, ?it/s]"
      ]
     },
     "metadata": {},
     "output_type": "display_data"
    },
    {
     "output_type": "display_data",
     "data": {
      "application/vnd.jupyter.widget-view+json": {
       "model_id": "7fef44df4eb94fdf8ad69f90c43802a2",
       "version_major": 2,
       "version_minor": 0
      },
      "text/plain": [
       "Uploading artifacts:   0%|          | 0/4 [00:00<?, ?it/s]"
      ]
     },
     "metadata": {},
     "output_type": "display_data"
    },
    {
     "output_type": "stream",
     "name": "stderr",
     "output_type": "stream",
     "text": [
      "[I 2025-04-05 19:49:00,853] Trial 6 finished with value: 0.46708390284468293 and parameters: {'max_depth': 14, 'step_size': 0.2996538840475324, 'subsample_rate': 0.9004811288422889, 'min_instances_per_node': 17}. Best is trial 3 with value: 0.6936695219643383.\n"
     ]
    },
    {
     "output_type": "display_data",
     "data": {
      "application/vnd.jupyter.widget-view+json": {
       "model_id": "25df54a920e746668c2bf2b5613b694d",
       "version_major": 2,
       "version_minor": 0
      },
      "text/plain": [
       "Downloading artifacts:   0%|          | 0/20 [00:00<?, ?it/s]"
      ]
     },
     "metadata": {},
     "output_type": "display_data"
    },
    {
     "output_type": "display_data",
     "data": {
      "application/vnd.jupyter.widget-view+json": {
       "model_id": "c736a3dd2e1f43608100e2a4f79c8920",
       "version_major": 2,
       "version_minor": 0
      },
      "text/plain": [
       "Uploading artifacts:   0%|          | 0/4 [00:00<?, ?it/s]"
      ]
     },
     "metadata": {},
     "output_type": "display_data"
    },
    {
     "output_type": "stream",
     "name": "stderr",
     "output_type": "stream",
     "text": [
      "[I 2025-04-05 19:54:39,637] Trial 7 finished with value: 0.5989241211831685 and parameters: {'max_depth': 7, 'step_size': 0.09954876225484259, 'subsample_rate': 0.7320510618933611, 'min_instances_per_node': 4}. Best is trial 3 with value: 0.6936695219643383.\n"
     ]
    },
    {
     "output_type": "display_data",
     "data": {
      "application/vnd.jupyter.widget-view+json": {
       "model_id": "4e7f225e1473493ab2a68387cd6dd353",
       "version_major": 2,
       "version_minor": 0
      },
      "text/plain": [
       "Downloading artifacts:   0%|          | 0/20 [00:00<?, ?it/s]"
      ]
     },
     "metadata": {},
     "output_type": "display_data"
    },
    {
     "output_type": "display_data",
     "data": {
      "application/vnd.jupyter.widget-view+json": {
       "model_id": "a3d90f2d0ea34f6a94ef8c9f2603f79f",
       "version_major": 2,
       "version_minor": 0
      },
      "text/plain": [
       "Uploading artifacts:   0%|          | 0/4 [00:00<?, ?it/s]"
      ]
     },
     "metadata": {},
     "output_type": "display_data"
    },
    {
     "output_type": "stream",
     "name": "stderr",
     "output_type": "stream",
     "text": [
      "[I 2025-04-05 20:01:40,995] Trial 8 finished with value: 0.6528709454109529 and parameters: {'max_depth': 9, 'step_size': 0.1297341168347636, 'subsample_rate': 0.9419495097305894, 'min_instances_per_node': 13}. Best is trial 3 with value: 0.6936695219643383.\n"
     ]
    },
    {
     "output_type": "display_data",
     "data": {
      "application/vnd.jupyter.widget-view+json": {
       "model_id": "49b412b152fa4b1eb336faac4a20ff2b",
       "version_major": 2,
       "version_minor": 0
      },
      "text/plain": [
       "Downloading artifacts:   0%|          | 0/20 [00:00<?, ?it/s]"
      ]
     },
     "metadata": {},
     "output_type": "display_data"
    },
    {
     "output_type": "display_data",
     "data": {
      "application/vnd.jupyter.widget-view+json": {
       "model_id": "16712be270f34601ab2e680ef4482492",
       "version_major": 2,
       "version_minor": 0
      },
      "text/plain": [
       "Uploading artifacts:   0%|          | 0/4 [00:00<?, ?it/s]"
      ]
     },
     "metadata": {},
     "output_type": "display_data"
    },
    {
     "output_type": "stream",
     "name": "stderr",
     "output_type": "stream",
     "text": [
      "[I 2025-04-05 20:16:19,630] Trial 9 finished with value: 0.6119700779843504 and parameters: {'max_depth': 15, 'step_size': 0.052586184762479296, 'subsample_rate': 0.9340228094241931, 'min_instances_per_node': 9}. Best is trial 3 with value: 0.6936695219643383.\n"
     ]
    },
    {
     "output_type": "display_data",
     "data": {
      "application/vnd.jupyter.widget-view+json": {
       "model_id": "e708872a67574bf5a36b0251046698ac",
       "version_major": 2,
       "version_minor": 0
      },
      "text/plain": [
       "Downloading artifacts:   0%|          | 0/20 [00:00<?, ?it/s]"
      ]
     },
     "metadata": {},
     "output_type": "display_data"
    },
    {
     "output_type": "display_data",
     "data": {
      "application/vnd.jupyter.widget-view+json": {
       "model_id": "b248dbfbb01244da910b09d503b78627",
       "version_major": 2,
       "version_minor": 0
      },
      "text/plain": [
       "Uploading artifacts:   0%|          | 0/4 [00:00<?, ?it/s]"
      ]
     },
     "metadata": {},
     "output_type": "display_data"
    },
    {
     "output_type": "stream",
     "name": "stderr",
     "output_type": "stream",
     "text": [
      "[I 2025-04-05 20:20:50,748] Trial 10 finished with value: 0.6229962047321416 and parameters: {'max_depth': 6, 'step_size': 0.2622000948300727, 'subsample_rate': 0.5024540045336313, 'min_instances_per_node': 2}. Best is trial 3 with value: 0.6936695219643383.\n"
     ]
    },
    {
     "output_type": "display_data",
     "data": {
      "application/vnd.jupyter.widget-view+json": {
       "model_id": "a46174bd45e74f278a8c33b7a5907b2a",
       "version_major": 2,
       "version_minor": 0
      },
      "text/plain": [
       "Downloading artifacts:   0%|          | 0/20 [00:00<?, ?it/s]"
      ]
     },
     "metadata": {},
     "output_type": "display_data"
    },
    {
     "output_type": "display_data",
     "data": {
      "application/vnd.jupyter.widget-view+json": {
       "model_id": "e4ea77cf425d4e479d1c6fdcdb57f470",
       "version_major": 2,
       "version_minor": 0
      },
      "text/plain": [
       "Uploading artifacts:   0%|          | 0/4 [00:00<?, ?it/s]"
      ]
     },
     "metadata": {},
     "output_type": "display_data"
    },
    {
     "output_type": "stream",
     "name": "stderr",
     "output_type": "stream",
     "text": [
      "[I 2025-04-05 20:23:26,967] Trial 11 finished with value: 0.6969483591438088 and parameters: {'max_depth': 3, 'step_size': 0.18827556652539013, 'subsample_rate': 0.6003573561922851, 'min_instances_per_node': 20}. Best is trial 11 with value: 0.6969483591438088.\n"
     ]
    },
    {
     "output_type": "display_data",
     "data": {
      "application/vnd.jupyter.widget-view+json": {
       "model_id": "b6b6ccb8fb6f4ddcbd320298fed14a90",
       "version_major": 2,
       "version_minor": 0
      },
      "text/plain": [
       "Downloading artifacts:   0%|          | 0/20 [00:00<?, ?it/s]"
      ]
     },
     "metadata": {},
     "output_type": "display_data"
    },
    {
     "output_type": "display_data",
     "data": {
      "application/vnd.jupyter.widget-view+json": {
       "model_id": "ec52e4b9f6054a11ae450eb34152e01d",
       "version_major": 2,
       "version_minor": 0
      },
      "text/plain": [
       "Uploading artifacts:   0%|          | 0/4 [00:00<?, ?it/s]"
      ]
     },
     "metadata": {},
     "output_type": "display_data"
    },
    {
     "output_type": "stream",
     "name": "stderr",
     "output_type": "stream",
     "text": [
      "[I 2025-04-05 20:26:39,889] Trial 12 finished with value: 0.6252269751538223 and parameters: {'max_depth': 4, 'step_size': 0.2031207386419805, 'subsample_rate': 0.621023474293736, 'min_instances_per_node': 20}. Best is trial 11 with value: 0.6969483591438088.\n"
     ]
    },
    {
     "output_type": "display_data",
     "data": {
      "application/vnd.jupyter.widget-view+json": {
       "model_id": "3dcd5e484af34090b26bd0816687d055",
       "version_major": 2,
       "version_minor": 0
      },
      "text/plain": [
       "Downloading artifacts:   0%|          | 0/20 [00:00<?, ?it/s]"
      ]
     },
     "metadata": {},
     "output_type": "display_data"
    },
    {
     "output_type": "display_data",
     "data": {
      "application/vnd.jupyter.widget-view+json": {
       "model_id": "2fb7a9e307b54ed09afddcf399c34832",
       "version_major": 2,
       "version_minor": 0
      },
      "text/plain": [
       "Uploading artifacts:   0%|          | 0/4 [00:00<?, ?it/s]"
      ]
     },
     "metadata": {},
     "output_type": "display_data"
    },
    {
     "output_type": "stream",
     "name": "stderr",
     "output_type": "stream",
     "text": [
      "[I 2025-04-05 20:29:14,672] Trial 13 finished with value: 0.685421007117234 and parameters: {'max_depth': 3, 'step_size': 0.18302621144713221, 'subsample_rate': 0.6119749140314771, 'min_instances_per_node': 9}. Best is trial 11 with value: 0.6969483591438088.\n"
     ]
    },
    {
     "output_type": "display_data",
     "data": {
      "application/vnd.jupyter.widget-view+json": {
       "model_id": "f2dc5ad56e3a4499a127d9dd0cad4764",
       "version_major": 2,
       "version_minor": 0
      },
      "text/plain": [
       "Downloading artifacts:   0%|          | 0/20 [00:00<?, ?it/s]"
      ]
     },
     "metadata": {},
     "output_type": "display_data"
    },
    {
     "output_type": "display_data",
     "data": {
      "application/vnd.jupyter.widget-view+json": {
       "model_id": "74413403e5aa435ba9d9ad5b0a3cad98",
       "version_major": 2,
       "version_minor": 0
      },
      "text/plain": [
       "Uploading artifacts:   0%|          | 0/4 [00:00<?, ?it/s]"
      ]
     },
     "metadata": {},
     "output_type": "display_data"
    },
    {
     "output_type": "stream",
     "name": "stderr",
     "output_type": "stream",
     "text": [
      "[I 2025-04-05 20:33:05,665] Trial 14 finished with value: 0.626280847609821 and parameters: {'max_depth': 5, 'step_size': 0.05104948362926892, 'subsample_rate': 0.6710601869260905, 'min_instances_per_node': 20}. Best is trial 11 with value: 0.6969483591438088.\n"
     ]
    },
    {
     "output_type": "display_data",
     "data": {
      "application/vnd.jupyter.widget-view+json": {
       "model_id": "29bdf098c57647c38814ee42d668231f",
       "version_major": 2,
       "version_minor": 0
      },
      "text/plain": [
       "Downloading artifacts:   0%|          | 0/20 [00:00<?, ?it/s]"
      ]
     },
     "metadata": {},
     "output_type": "display_data"
    },
    {
     "output_type": "display_data",
     "data": {
      "application/vnd.jupyter.widget-view+json": {
       "model_id": "5058e8e9394b4111a6c1a330b7d32d20",
       "version_major": 2,
       "version_minor": 0
      },
      "text/plain": [
       "Uploading artifacts:   0%|          | 0/4 [00:00<?, ?it/s]"
      ]
     },
     "metadata": {},
     "output_type": "display_data"
    },
    {
     "output_type": "stream",
     "name": "stderr",
     "output_type": "stream",
     "text": [
      "[I 2025-04-05 20:35:40,348] Trial 15 finished with value: 0.7120558917331279 and parameters: {'max_depth': 3, 'step_size': 0.15092628742402206, 'subsample_rate': 0.8262330776154888, 'min_instances_per_node': 12}. Best is trial 15 with value: 0.7120558917331279.\n"
     ]
    },
    {
     "output_type": "display_data",
     "data": {
      "application/vnd.jupyter.widget-view+json": {
       "model_id": "6cb0cf9ee56c4d4c8d2cbeeb391368ec",
       "version_major": 2,
       "version_minor": 0
      },
      "text/plain": [
       "Downloading artifacts:   0%|          | 0/20 [00:00<?, ?it/s]"
      ]
     },
     "metadata": {},
     "output_type": "display_data"
    },
    {
     "output_type": "display_data",
     "data": {
      "application/vnd.jupyter.widget-view+json": {
       "model_id": "cdd2481fc89c4534a7c06a7fad764f1b",
       "version_major": 2,
       "version_minor": 0
      },
      "text/plain": [
       "Uploading artifacts:   0%|          | 0/4 [00:00<?, ?it/s]"
      ]
     },
     "metadata": {},
     "output_type": "display_data"
    },
    {
     "output_type": "stream",
     "name": "stderr",
     "output_type": "stream",
     "text": [
      "[I 2025-04-05 20:40:59,586] Trial 16 finished with value: 0.5965600961644751 and parameters: {'max_depth': 7, 'step_size': 0.1468785238864846, 'subsample_rate': 0.8395765152875102, 'min_instances_per_node': 14}. Best is trial 15 with value: 0.7120558917331279.\n"
     ]
    },
    {
     "output_type": "display_data",
     "data": {
      "application/vnd.jupyter.widget-view+json": {
       "model_id": "2fe915421f3946a59783d579df196099",
       "version_major": 2,
       "version_minor": 0
      },
      "text/plain": [
       "Downloading artifacts:   0%|          | 0/20 [00:00<?, ?it/s]"
      ]
     },
     "metadata": {},
     "output_type": "display_data"
    },
    {
     "output_type": "display_data",
     "data": {
      "application/vnd.jupyter.widget-view+json": {
       "model_id": "1ae636cb67264ade95baba309009a489",
       "version_major": 2,
       "version_minor": 0
      },
      "text/plain": [
       "Uploading artifacts:   0%|          | 0/4 [00:00<?, ?it/s]"
      ]
     },
     "metadata": {},
     "output_type": "display_data"
    },
    {
     "output_type": "stream",
     "name": "stderr",
     "output_type": "stream",
     "text": [
      "[I 2025-04-05 20:44:51,309] Trial 17 finished with value: 0.6545722914482622 and parameters: {'max_depth': 5, 'step_size': 0.2091140808431473, 'subsample_rate': 0.8362089155036465, 'min_instances_per_node': 17}. Best is trial 15 with value: 0.7120558917331279.\n"
     ]
    },
    {
     "output_type": "display_data",
     "data": {
      "application/vnd.jupyter.widget-view+json": {
       "model_id": "fe428f45067644de8d5c13136efabf06",
       "version_major": 2,
       "version_minor": 0
      },
      "text/plain": [
       "Downloading artifacts:   0%|          | 0/20 [00:00<?, ?it/s]"
      ]
     },
     "metadata": {},
     "output_type": "display_data"
    },
    {
     "output_type": "display_data",
     "data": {
      "application/vnd.jupyter.widget-view+json": {
       "model_id": "1101cda9518f47caa1261bbe9a39b148",
       "version_major": 2,
       "version_minor": 0
      },
      "text/plain": [
       "Uploading artifacts:   0%|          | 0/4 [00:00<?, ?it/s]"
      ]
     },
     "metadata": {},
     "output_type": "display_data"
    },
    {
     "output_type": "stream",
     "name": "stderr",
     "output_type": "stream",
     "text": [
      "[I 2025-04-05 20:47:33,545] Trial 18 finished with value: 0.7207423221023496 and parameters: {'max_depth': 3, 'step_size': 0.12594244300077537, 'subsample_rate': 0.9966825036391354, 'min_instances_per_node': 12}. Best is trial 18 with value: 0.7207423221023496.\n"
     ]
    },
    {
     "output_type": "display_data",
     "data": {
      "application/vnd.jupyter.widget-view+json": {
       "model_id": "0865135d52994821ac75f13db977eec3",
       "version_major": 2,
       "version_minor": 0
      },
      "text/plain": [
       "Downloading artifacts:   0%|          | 0/20 [00:00<?, ?it/s]"
      ]
     },
     "metadata": {},
     "output_type": "display_data"
    },
    {
     "output_type": "display_data",
     "data": {
      "application/vnd.jupyter.widget-view+json": {
       "model_id": "d4452037b7fa4477803d088689b7e79e",
       "version_major": 2,
       "version_minor": 0
      },
      "text/plain": [
       "Uploading artifacts:   0%|          | 0/4 [00:00<?, ?it/s]"
      ]
     },
     "metadata": {},
     "output_type": "display_data"
    },
    {
     "output_type": "stream",
     "name": "stderr",
     "output_type": "stream",
     "text": [
      "[I 2025-04-05 20:52:52,405] Trial 19 finished with value: 0.6566029035126154 and parameters: {'max_depth': 7, 'step_size': 0.12817708169649328, 'subsample_rate': 0.9943831779133947, 'min_instances_per_node': 12}. Best is trial 18 with value: 0.7207423221023496.\n"
     ]
    },
    {
     "output_type": "display_data",
     "data": {
      "application/vnd.jupyter.widget-view+json": {
       "model_id": "916e867354b34a71a5b7895e01aa6651",
       "version_major": 2,
       "version_minor": 0
      },
      "text/plain": [
       "Downloading artifacts:   0%|          | 0/20 [00:00<?, ?it/s]"
      ]
     },
     "metadata": {},
     "output_type": "display_data"
    },
    {
     "output_type": "display_data",
     "data": {
      "application/vnd.jupyter.widget-view+json": {
       "model_id": "cd33163341b84bd680c907268af52a17",
       "version_major": 2,
       "version_minor": 0
      },
      "text/plain": [
       "Uploading artifacts:   0%|          | 0/4 [00:00<?, ?it/s]"
      ]
     },
     "metadata": {},
     "output_type": "display_data"
    },
    {
     "output_type": "stream",
     "name": "stderr",
     "output_type": "stream",
     "text": [
      "[I 2025-04-05 20:56:41,328] Trial 20 finished with value: 0.653896342299543 and parameters: {'max_depth': 5, 'step_size': 0.1452675902319761, 'subsample_rate': 0.8515332921621452, 'min_instances_per_node': 11}. Best is trial 18 with value: 0.7207423221023496.\n"
     ]
    },
    {
     "output_type": "display_data",
     "data": {
      "application/vnd.jupyter.widget-view+json": {
       "model_id": "2155ffce145a40f48e7f88bafebe2e5e",
       "version_major": 2,
       "version_minor": 0
      },
      "text/plain": [
       "Downloading artifacts:   0%|          | 0/20 [00:00<?, ?it/s]"
      ]
     },
     "metadata": {},
     "output_type": "display_data"
    },
    {
     "output_type": "display_data",
     "data": {
      "application/vnd.jupyter.widget-view+json": {
       "model_id": "3337b0b876314adcaff66b876cef04fa",
       "version_major": 2,
       "version_minor": 0
      },
      "text/plain": [
       "Uploading artifacts:   0%|          | 0/4 [00:00<?, ?it/s]"
      ]
     },
     "metadata": {},
     "output_type": "display_data"
    },
    {
     "output_type": "stream",
     "name": "stderr",
     "output_type": "stream",
     "text": [
      "[I 2025-04-05 20:59:51,909] Trial 21 finished with value: 0.6934030127703251 and parameters: {'max_depth': 4, 'step_size': 0.11137324798663689, 'subsample_rate': 0.9892551236663056, 'min_instances_per_node': 16}. Best is trial 18 with value: 0.7207423221023496.\n"
     ]
    },
    {
     "output_type": "display_data",
     "data": {
      "application/vnd.jupyter.widget-view+json": {
       "model_id": "5e52217725f94936a3ea176debb11f3f",
       "version_major": 2,
       "version_minor": 0
      },
      "text/plain": [
       "Downloading artifacts:   0%|          | 0/20 [00:00<?, ?it/s]"
      ]
     },
     "metadata": {},
     "output_type": "display_data"
    },
    {
     "output_type": "display_data",
     "data": {
      "application/vnd.jupyter.widget-view+json": {
       "model_id": "8afbe74e59714e1295409aa5da729bab",
       "version_major": 2,
       "version_minor": 0
      },
      "text/plain": [
       "Uploading artifacts:   0%|          | 0/4 [00:00<?, ?it/s]"
      ]
     },
     "metadata": {},
     "output_type": "display_data"
    },
    {
     "output_type": "stream",
     "name": "stderr",
     "output_type": "stream",
     "text": [
      "[I 2025-04-05 21:02:27,349] Trial 22 finished with value: 0.7039837595268742 and parameters: {'max_depth': 3, 'step_size': 0.17463647325046455, 'subsample_rate': 0.7872116888826665, 'min_instances_per_node': 9}. Best is trial 18 with value: 0.7207423221023496.\n"
     ]
    },
    {
     "output_type": "display_data",
     "data": {
      "application/vnd.jupyter.widget-view+json": {
       "model_id": "16c9586422b248738ddbbb3e932c6a34",
       "version_major": 2,
       "version_minor": 0
      },
      "text/plain": [
       "Downloading artifacts:   0%|          | 0/20 [00:00<?, ?it/s]"
      ]
     },
     "metadata": {},
     "output_type": "display_data"
    },
    {
     "output_type": "display_data",
     "data": {
      "application/vnd.jupyter.widget-view+json": {
       "model_id": "67c2ed3f4c4b4b698d4a2209db6badde",
       "version_major": 2,
       "version_minor": 0
      },
      "text/plain": [
       "Uploading artifacts:   0%|          | 0/4 [00:00<?, ?it/s]"
      ]
     },
     "metadata": {},
     "output_type": "display_data"
    },
    {
     "output_type": "stream",
     "name": "stderr",
     "output_type": "stream",
     "text": [
      "[I 2025-04-05 21:05:39,786] Trial 23 finished with value: 0.679257014389285 and parameters: {'max_depth': 4, 'step_size': 0.1627859505527392, 'subsample_rate': 0.791447148306759, 'min_instances_per_node': 9}. Best is trial 18 with value: 0.7207423221023496.\n"
     ]
    },
    {
     "output_type": "display_data",
     "data": {
      "application/vnd.jupyter.widget-view+json": {
       "model_id": "6728351e5a9f4920ad1b2989263bca0f",
       "version_major": 2,
       "version_minor": 0
      },
      "text/plain": [
       "Downloading artifacts:   0%|          | 0/20 [00:00<?, ?it/s]"
      ]
     },
     "metadata": {},
     "output_type": "display_data"
    },
    {
     "output_type": "display_data",
     "data": {
      "application/vnd.jupyter.widget-view+json": {
       "model_id": "6bb58914b9df47bea64bf3a39d59cc89",
       "version_major": 2,
       "version_minor": 0
      },
      "text/plain": [
       "Uploading artifacts:   0%|          | 0/4 [00:00<?, ?it/s]"
      ]
     },
     "metadata": {},
     "output_type": "display_data"
    },
    {
     "output_type": "stream",
     "name": "stderr",
     "output_type": "stream",
     "text": [
      "[I 2025-04-05 21:08:17,796] Trial 24 finished with value: 0.7428788964528845 and parameters: {'max_depth': 3, 'step_size': 0.22789612028218414, 'subsample_rate': 0.8844231267740584, 'min_instances_per_node': 10}. Best is trial 24 with value: 0.7428788964528845.\n"
     ]
    },
    {
     "output_type": "display_data",
     "data": {
      "application/vnd.jupyter.widget-view+json": {
       "model_id": "21cba34b4b044da79a3c20186b19e47c",
       "version_major": 2,
       "version_minor": 0
      },
      "text/plain": [
       "Downloading artifacts:   0%|          | 0/20 [00:00<?, ?it/s]"
      ]
     },
     "metadata": {},
     "output_type": "display_data"
    },
    {
     "output_type": "display_data",
     "data": {
      "application/vnd.jupyter.widget-view+json": {
       "model_id": "1bc3b9ebca29401f8b3eaec578398319",
       "version_major": 2,
       "version_minor": 0
      },
      "text/plain": [
       "Uploading artifacts:   0%|          | 0/4 [00:00<?, ?it/s]"
      ]
     },
     "metadata": {},
     "output_type": "display_data"
    },
    {
     "output_type": "stream",
     "name": "stderr",
     "output_type": "stream",
     "text": [
      "[I 2025-04-05 21:12:48,444] Trial 25 finished with value: 0.6567162528586171 and parameters: {'max_depth': 6, 'step_size': 0.2289852118022254, 'subsample_rate': 0.8941770261081812, 'min_instances_per_node': 7}. Best is trial 24 with value: 0.7428788964528845.\n[I 2025-04-05 21:15:31,399] Trial 26 finished with value: 0.6896030450610658 and parameters: {'max_depth': 4, 'step_size': 0.21180426215291026, 'subsample_rate': 0.9447690125459578, 'min_instances_per_node': 11}. Best is trial 24 with value: 0.7428788964528845.\n"
     ]
    },
    {
     "output_type": "display_data",
     "data": {
      "application/vnd.jupyter.widget-view+json": {
       "model_id": "34bfd449ecda45c49b78974ab3efa11b",
       "version_major": 2,
       "version_minor": 0
      },
      "text/plain": [
       "Downloading artifacts:   0%|          | 0/20 [00:00<?, ?it/s]"
      ]
     },
     "metadata": {},
     "output_type": "display_data"
    },
    {
     "output_type": "display_data",
     "data": {
      "application/vnd.jupyter.widget-view+json": {
       "model_id": "fca85804caeb45d2ab51df061c9df227",
       "version_major": 2,
       "version_minor": 0
      },
      "text/plain": [
       "Uploading artifacts:   0%|          | 0/4 [00:00<?, ?it/s]"
      ]
     },
     "metadata": {},
     "output_type": "display_data"
    },
    {
     "output_type": "stream",
     "name": "stderr",
     "output_type": "stream",
     "text": [
      "[I 2025-04-05 21:19:58,049] Trial 27 finished with value: 0.6641876335310587 and parameters: {'max_depth': 6, 'step_size': 0.2308784480495615, 'subsample_rate': 0.8755272314810933, 'min_instances_per_node': 15}. Best is trial 24 with value: 0.7428788964528845.\n"
     ]
    },
    {
     "output_type": "display_data",
     "data": {
      "application/vnd.jupyter.widget-view+json": {
       "model_id": "349b220894864b9aafa8508a9a7e10d0",
       "version_major": 2,
       "version_minor": 0
      },
      "text/plain": [
       "Downloading artifacts:   0%|          | 0/20 [00:00<?, ?it/s]"
      ]
     },
     "metadata": {},
     "output_type": "display_data"
    },
    {
     "output_type": "display_data",
     "data": {
      "application/vnd.jupyter.widget-view+json": {
       "model_id": "5a7c32f1e6ca4ebba67ea946e0045e5e",
       "version_major": 2,
       "version_minor": 0
      },
      "text/plain": [
       "Uploading artifacts:   0%|          | 0/4 [00:00<?, ?it/s]"
      ]
     },
     "metadata": {},
     "output_type": "display_data"
    },
    {
     "output_type": "stream",
     "name": "stderr",
     "output_type": "stream",
     "text": [
      "[I 2025-04-05 21:29:50,114] Trial 28 finished with value: 0.6578063418129722 and parameters: {'max_depth': 11, 'step_size': 0.14458340348832366, 'subsample_rate': 0.9631806652449796, 'min_instances_per_node': 12}. Best is trial 24 with value: 0.7428788964528845.\n"
     ]
    },
    {
     "output_type": "display_data",
     "data": {
      "application/vnd.jupyter.widget-view+json": {
       "model_id": "bf0eefe0cae948e8afe73e50c24e38f4",
       "version_major": 2,
       "version_minor": 0
      },
      "text/plain": [
       "Downloading artifacts:   0%|          | 0/20 [00:00<?, ?it/s]"
      ]
     },
     "metadata": {},
     "output_type": "display_data"
    },
    {
     "output_type": "display_data",
     "data": {
      "application/vnd.jupyter.widget-view+json": {
       "model_id": "bb43f00e5f5c44089b485ac58c2b8a02",
       "version_major": 2,
       "version_minor": 0
      },
      "text/plain": [
       "Uploading artifacts:   0%|          | 0/4 [00:00<?, ?it/s]"
      ]
     },
     "metadata": {},
     "output_type": "display_data"
    },
    {
     "output_type": "stream",
     "name": "stderr",
     "output_type": "stream",
     "text": [
      "[I 2025-04-05 21:36:02,455] Trial 29 finished with value: 0.6726481945937339 and parameters: {'max_depth': 8, 'step_size': 0.08080520406455541, 'subsample_rate': 0.9034605915848197, 'min_instances_per_node': 10}. Best is trial 24 with value: 0.7428788964528845.\n"
     ]
    },
    {
     "output_type": "display_data",
     "data": {
      "application/vnd.jupyter.widget-view+json": {
       "model_id": "2daee528b58d40569db2e951ffd8bf03",
       "version_major": 2,
       "version_minor": 0
      },
      "text/plain": [
       "Downloading artifacts:   0%|          | 0/20 [00:00<?, ?it/s]"
      ]
     },
     "metadata": {},
     "output_type": "display_data"
    },
    {
     "output_type": "display_data",
     "data": {
      "application/vnd.jupyter.widget-view+json": {
       "model_id": "9a3b862717b046a5904a059b3536782d",
       "version_major": 2,
       "version_minor": 0
      },
      "text/plain": [
       "Uploading artifacts:   0%|          | 0/4 [00:00<?, ?it/s]"
      ]
     },
     "metadata": {},
     "output_type": "display_data"
    },
    {
     "output_type": "stream",
     "name": "stderr",
     "output_type": "stream",
     "text": [
      "[I 2025-04-05 21:39:54,082] Trial 30 finished with value: 0.6399242384029785 and parameters: {'max_depth': 5, 'step_size': 0.16248602629725115, 'subsample_rate': 0.8222016849997468, 'min_instances_per_node': 6}. Best is trial 24 with value: 0.7428788964528845.\n"
     ]
    }
   ],
   "source": [
    "study.optimize(objective, n_trials=30) \n",
    "\n",
    "# Hid results from notebook because output is really long "
   ]
  },
  {
   "cell_type": "code",
   "execution_count": 0,
   "metadata": {
    "application/vnd.databricks.v1+cell": {
     "cellMetadata": {
      "byteLimit": 2048000,
      "rowLimit": 10000
     },
     "inputWidgets": {},
     "nuid": "05435cfe-6ee2-4de5-a918-cfb5f0ed8024",
     "showTitle": false,
     "tableResultSettingsMap": {},
     "title": ""
    }
   },
   "outputs": [
    {
     "output_type": "display_data",
     "data": {
      "application/vnd.jupyter.widget-view+json": {
       "model_id": "630ecd1cbf034df08a9fe6ac02a06011",
       "version_major": 2,
       "version_minor": 0
      },
      "text/plain": [
       "Uploading artifacts:   0%|          | 0/9 [00:00<?, ?it/s]"
      ]
     },
     "metadata": {},
     "output_type": "display_data"
    },
    {
     "output_type": "display_data",
     "data": {
      "text/html": [
       "<html>\n",
       "<head><meta charset=\"utf-8\" /></head>\n",
       "<body>\n",
       "    <div>            <script src=\"https://cdnjs.cloudflare.com/ajax/libs/mathjax/2.7.5/MathJax.js?config=TeX-AMS-MML_SVG\"></script><script type=\"text/javascript\">if (window.MathJax && window.MathJax.Hub && window.MathJax.Hub.Config) {window.MathJax.Hub.Config({SVG: {font: \"STIX-Web\"}});}</script>                <script type=\"text/javascript\">window.PlotlyConfig = {MathJaxConfig: 'local'};</script>\n",
       "        <script src=\"https://cdn.plot.ly/plotly-2.12.1.min.js\"></script>                <div id=\"54c66312-9075-4fce-9321-bbd62d816f00\" class=\"plotly-graph-div\" style=\"height:100%; width:100%;\"></div>            <script type=\"text/javascript\">                                    window.PLOTLYENV=window.PLOTLYENV || {};                                    if (document.getElementById(\"54c66312-9075-4fce-9321-bbd62d816f00\")) {                    Plotly.newPlot(                        \"54c66312-9075-4fce-9321-bbd62d816f00\",                        [{\"cliponaxis\":false,\"hovertemplate\":[\"min_instances_per_node (IntDistribution): 0.0599061621433527<extra></extra>\",\"subsample_rate (FloatDistribution): 0.25990440576232254<extra></extra>\",\"step_size (FloatDistribution): 0.26666669498253553<extra></extra>\",\"max_depth (IntDistribution): 0.4135227371117891<extra></extra>\"],\"name\":\"Objective Value\",\"orientation\":\"h\",\"text\":[\"0.06\",\"0.26\",\"0.27\",\"0.41\"],\"textposition\":\"outside\",\"x\":[0.0599061621433527,0.25990440576232254,0.26666669498253553,0.4135227371117891],\"y\":[\"min_instances_per_node\",\"subsample_rate\",\"step_size\",\"max_depth\"],\"type\":\"bar\"}],                        {\"title\":{\"text\":\"Hyperparameter Importances\"},\"xaxis\":{\"title\":{\"text\":\"Hyperparameter Importance\"}},\"yaxis\":{\"title\":{\"text\":\"Hyperparameter\"}},\"template\":{\"data\":{\"histogram2dcontour\":[{\"type\":\"histogram2dcontour\",\"colorbar\":{\"outlinewidth\":0,\"ticks\":\"\"},\"colorscale\":[[0.0,\"#0d0887\"],[0.1111111111111111,\"#46039f\"],[0.2222222222222222,\"#7201a8\"],[0.3333333333333333,\"#9c179e\"],[0.4444444444444444,\"#bd3786\"],[0.5555555555555556,\"#d8576b\"],[0.6666666666666666,\"#ed7953\"],[0.7777777777777778,\"#fb9f3a\"],[0.8888888888888888,\"#fdca26\"],[1.0,\"#f0f921\"]]}],\"choropleth\":[{\"type\":\"choropleth\",\"colorbar\":{\"outlinewidth\":0,\"ticks\":\"\"}}],\"histogram2d\":[{\"type\":\"histogram2d\",\"colorbar\":{\"outlinewidth\":0,\"ticks\":\"\"},\"colorscale\":[[0.0,\"#0d0887\"],[0.1111111111111111,\"#46039f\"],[0.2222222222222222,\"#7201a8\"],[0.3333333333333333,\"#9c179e\"],[0.4444444444444444,\"#bd3786\"],[0.5555555555555556,\"#d8576b\"],[0.6666666666666666,\"#ed7953\"],[0.7777777777777778,\"#fb9f3a\"],[0.8888888888888888,\"#fdca26\"],[1.0,\"#f0f921\"]]}],\"heatmap\":[{\"type\":\"heatmap\",\"colorbar\":{\"outlinewidth\":0,\"ticks\":\"\"},\"colorscale\":[[0.0,\"#0d0887\"],[0.1111111111111111,\"#46039f\"],[0.2222222222222222,\"#7201a8\"],[0.3333333333333333,\"#9c179e\"],[0.4444444444444444,\"#bd3786\"],[0.5555555555555556,\"#d8576b\"],[0.6666666666666666,\"#ed7953\"],[0.7777777777777778,\"#fb9f3a\"],[0.8888888888888888,\"#fdca26\"],[1.0,\"#f0f921\"]]}],\"heatmapgl\":[{\"type\":\"heatmapgl\",\"colorbar\":{\"outlinewidth\":0,\"ticks\":\"\"},\"colorscale\":[[0.0,\"#0d0887\"],[0.1111111111111111,\"#46039f\"],[0.2222222222222222,\"#7201a8\"],[0.3333333333333333,\"#9c179e\"],[0.4444444444444444,\"#bd3786\"],[0.5555555555555556,\"#d8576b\"],[0.6666666666666666,\"#ed7953\"],[0.7777777777777778,\"#fb9f3a\"],[0.8888888888888888,\"#fdca26\"],[1.0,\"#f0f921\"]]}],\"contourcarpet\":[{\"type\":\"contourcarpet\",\"colorbar\":{\"outlinewidth\":0,\"ticks\":\"\"}}],\"contour\":[{\"type\":\"contour\",\"colorbar\":{\"outlinewidth\":0,\"ticks\":\"\"},\"colorscale\":[[0.0,\"#0d0887\"],[0.1111111111111111,\"#46039f\"],[0.2222222222222222,\"#7201a8\"],[0.3333333333333333,\"#9c179e\"],[0.4444444444444444,\"#bd3786\"],[0.5555555555555556,\"#d8576b\"],[0.6666666666666666,\"#ed7953\"],[0.7777777777777778,\"#fb9f3a\"],[0.8888888888888888,\"#fdca26\"],[1.0,\"#f0f921\"]]}],\"surface\":[{\"type\":\"surface\",\"colorbar\":{\"outlinewidth\":0,\"ticks\":\"\"},\"colorscale\":[[0.0,\"#0d0887\"],[0.1111111111111111,\"#46039f\"],[0.2222222222222222,\"#7201a8\"],[0.3333333333333333,\"#9c179e\"],[0.4444444444444444,\"#bd3786\"],[0.5555555555555556,\"#d8576b\"],[0.6666666666666666,\"#ed7953\"],[0.7777777777777778,\"#fb9f3a\"],[0.8888888888888888,\"#fdca26\"],[1.0,\"#f0f921\"]]}],\"mesh3d\":[{\"type\":\"mesh3d\",\"colorbar\":{\"outlinewidth\":0,\"ticks\":\"\"}}],\"scatter\":[{\"fillpattern\":{\"fillmode\":\"overlay\",\"size\":10,\"solidity\":0.2},\"type\":\"scatter\"}],\"parcoords\":[{\"type\":\"parcoords\",\"line\":{\"colorbar\":{\"outlinewidth\":0,\"ticks\":\"\"}}}],\"scatterpolargl\":[{\"type\":\"scatterpolargl\",\"marker\":{\"colorbar\":{\"outlinewidth\":0,\"ticks\":\"\"}}}],\"bar\":[{\"error_x\":{\"color\":\"#2a3f5f\"},\"error_y\":{\"color\":\"#2a3f5f\"},\"marker\":{\"line\":{\"color\":\"#E5ECF6\",\"width\":0.5},\"pattern\":{\"fillmode\":\"overlay\",\"size\":10,\"solidity\":0.2}},\"type\":\"bar\"}],\"scattergeo\":[{\"type\":\"scattergeo\",\"marker\":{\"colorbar\":{\"outlinewidth\":0,\"ticks\":\"\"}}}],\"scatterpolar\":[{\"type\":\"scatterpolar\",\"marker\":{\"colorbar\":{\"outlinewidth\":0,\"ticks\":\"\"}}}],\"histogram\":[{\"marker\":{\"pattern\":{\"fillmode\":\"overlay\",\"size\":10,\"solidity\":0.2}},\"type\":\"histogram\"}],\"scattergl\":[{\"type\":\"scattergl\",\"marker\":{\"colorbar\":{\"outlinewidth\":0,\"ticks\":\"\"}}}],\"scatter3d\":[{\"type\":\"scatter3d\",\"line\":{\"colorbar\":{\"outlinewidth\":0,\"ticks\":\"\"}},\"marker\":{\"colorbar\":{\"outlinewidth\":0,\"ticks\":\"\"}}}],\"scattermapbox\":[{\"type\":\"scattermapbox\",\"marker\":{\"colorbar\":{\"outlinewidth\":0,\"ticks\":\"\"}}}],\"scatterternary\":[{\"type\":\"scatterternary\",\"marker\":{\"colorbar\":{\"outlinewidth\":0,\"ticks\":\"\"}}}],\"scattercarpet\":[{\"type\":\"scattercarpet\",\"marker\":{\"colorbar\":{\"outlinewidth\":0,\"ticks\":\"\"}}}],\"carpet\":[{\"aaxis\":{\"endlinecolor\":\"#2a3f5f\",\"gridcolor\":\"white\",\"linecolor\":\"white\",\"minorgridcolor\":\"white\",\"startlinecolor\":\"#2a3f5f\"},\"baxis\":{\"endlinecolor\":\"#2a3f5f\",\"gridcolor\":\"white\",\"linecolor\":\"white\",\"minorgridcolor\":\"white\",\"startlinecolor\":\"#2a3f5f\"},\"type\":\"carpet\"}],\"table\":[{\"cells\":{\"fill\":{\"color\":\"#EBF0F8\"},\"line\":{\"color\":\"white\"}},\"header\":{\"fill\":{\"color\":\"#C8D4E3\"},\"line\":{\"color\":\"white\"}},\"type\":\"table\"}],\"barpolar\":[{\"marker\":{\"line\":{\"color\":\"#E5ECF6\",\"width\":0.5},\"pattern\":{\"fillmode\":\"overlay\",\"size\":10,\"solidity\":0.2}},\"type\":\"barpolar\"}],\"pie\":[{\"automargin\":true,\"type\":\"pie\"}]},\"layout\":{\"autotypenumbers\":\"strict\",\"colorway\":[\"#636efa\",\"#EF553B\",\"#00cc96\",\"#ab63fa\",\"#FFA15A\",\"#19d3f3\",\"#FF6692\",\"#B6E880\",\"#FF97FF\",\"#FECB52\"],\"font\":{\"color\":\"#2a3f5f\"},\"hovermode\":\"closest\",\"hoverlabel\":{\"align\":\"left\"},\"paper_bgcolor\":\"white\",\"plot_bgcolor\":\"#E5ECF6\",\"polar\":{\"bgcolor\":\"#E5ECF6\",\"angularaxis\":{\"gridcolor\":\"white\",\"linecolor\":\"white\",\"ticks\":\"\"},\"radialaxis\":{\"gridcolor\":\"white\",\"linecolor\":\"white\",\"ticks\":\"\"}},\"ternary\":{\"bgcolor\":\"#E5ECF6\",\"aaxis\":{\"gridcolor\":\"white\",\"linecolor\":\"white\",\"ticks\":\"\"},\"baxis\":{\"gridcolor\":\"white\",\"linecolor\":\"white\",\"ticks\":\"\"},\"caxis\":{\"gridcolor\":\"white\",\"linecolor\":\"white\",\"ticks\":\"\"}},\"coloraxis\":{\"colorbar\":{\"outlinewidth\":0,\"ticks\":\"\"}},\"colorscale\":{\"sequential\":[[0.0,\"#0d0887\"],[0.1111111111111111,\"#46039f\"],[0.2222222222222222,\"#7201a8\"],[0.3333333333333333,\"#9c179e\"],[0.4444444444444444,\"#bd3786\"],[0.5555555555555556,\"#d8576b\"],[0.6666666666666666,\"#ed7953\"],[0.7777777777777778,\"#fb9f3a\"],[0.8888888888888888,\"#fdca26\"],[1.0,\"#f0f921\"]],\"sequentialminus\":[[0.0,\"#0d0887\"],[0.1111111111111111,\"#46039f\"],[0.2222222222222222,\"#7201a8\"],[0.3333333333333333,\"#9c179e\"],[0.4444444444444444,\"#bd3786\"],[0.5555555555555556,\"#d8576b\"],[0.6666666666666666,\"#ed7953\"],[0.7777777777777778,\"#fb9f3a\"],[0.8888888888888888,\"#fdca26\"],[1.0,\"#f0f921\"]],\"diverging\":[[0,\"#8e0152\"],[0.1,\"#c51b7d\"],[0.2,\"#de77ae\"],[0.3,\"#f1b6da\"],[0.4,\"#fde0ef\"],[0.5,\"#f7f7f7\"],[0.6,\"#e6f5d0\"],[0.7,\"#b8e186\"],[0.8,\"#7fbc41\"],[0.9,\"#4d9221\"],[1,\"#276419\"]]},\"xaxis\":{\"gridcolor\":\"white\",\"linecolor\":\"white\",\"ticks\":\"\",\"title\":{\"standoff\":15},\"zerolinecolor\":\"white\",\"automargin\":true,\"zerolinewidth\":2},\"yaxis\":{\"gridcolor\":\"white\",\"linecolor\":\"white\",\"ticks\":\"\",\"title\":{\"standoff\":15},\"zerolinecolor\":\"white\",\"automargin\":true,\"zerolinewidth\":2},\"scene\":{\"xaxis\":{\"backgroundcolor\":\"#E5ECF6\",\"gridcolor\":\"white\",\"linecolor\":\"white\",\"showbackground\":true,\"ticks\":\"\",\"zerolinecolor\":\"white\",\"gridwidth\":2},\"yaxis\":{\"backgroundcolor\":\"#E5ECF6\",\"gridcolor\":\"white\",\"linecolor\":\"white\",\"showbackground\":true,\"ticks\":\"\",\"zerolinecolor\":\"white\",\"gridwidth\":2},\"zaxis\":{\"backgroundcolor\":\"#E5ECF6\",\"gridcolor\":\"white\",\"linecolor\":\"white\",\"showbackground\":true,\"ticks\":\"\",\"zerolinecolor\":\"white\",\"gridwidth\":2}},\"shapedefaults\":{\"line\":{\"color\":\"#2a3f5f\"}},\"annotationdefaults\":{\"arrowcolor\":\"#2a3f5f\",\"arrowhead\":0,\"arrowwidth\":1},\"geo\":{\"bgcolor\":\"white\",\"landcolor\":\"#E5ECF6\",\"subunitcolor\":\"white\",\"showland\":true,\"showlakes\":true,\"lakecolor\":\"white\"},\"title\":{\"x\":0.05},\"mapbox\":{\"style\":\"light\"}}}},                        {\"responsive\": true}                    )                };                            </script>        </div>\n",
       "</body>\n",
       "</html>"
      ]
     },
     "metadata": {},
     "output_type": "display_data"
    }
   ],
   "source": [
    "optuna.visualization.plot_param_importances(study)"
   ]
  },
  {
   "cell_type": "code",
   "execution_count": 0,
   "metadata": {
    "application/vnd.databricks.v1+cell": {
     "cellMetadata": {
      "byteLimit": 2048000,
      "rowLimit": 10000
     },
     "inputWidgets": {},
     "nuid": "857b518e-efd0-4f5d-ab41-5771c53bb75a",
     "showTitle": false,
     "tableResultSettingsMap": {},
     "title": ""
    }
   },
   "outputs": [
    {
     "output_type": "display_data",
     "data": {
      "text/html": [
       "<html>\n",
       "<head><meta charset=\"utf-8\" /></head>\n",
       "<body>\n",
       "    <div>            <script src=\"https://cdnjs.cloudflare.com/ajax/libs/mathjax/2.7.5/MathJax.js?config=TeX-AMS-MML_SVG\"></script><script type=\"text/javascript\">if (window.MathJax && window.MathJax.Hub && window.MathJax.Hub.Config) {window.MathJax.Hub.Config({SVG: {font: \"STIX-Web\"}});}</script>                <script type=\"text/javascript\">window.PlotlyConfig = {MathJaxConfig: 'local'};</script>\n",
       "        <script src=\"https://cdn.plot.ly/plotly-2.12.1.min.js\"></script>                <div id=\"e273a0c6-067e-4e24-851e-6636fdb4c9c0\" class=\"plotly-graph-div\" style=\"height:100%; width:100%;\"></div>            <script type=\"text/javascript\">                                    window.PLOTLYENV=window.PLOTLYENV || {};                                    if (document.getElementById(\"e273a0c6-067e-4e24-851e-6636fdb4c9c0\")) {                    Plotly.newPlot(                        \"e273a0c6-067e-4e24-851e-6636fdb4c9c0\",                        [{\"mode\":\"markers\",\"name\":\"Objective Value\",\"x\":[1,2,3,4,5,6,7,8,9,10,11,12,13,14,15,16,17,18,19,20,21,22,23,24,25,26,27,28,29,30],\"y\":[0.5244093669687843,0.5681481149727301,0.6936695219643383,0.619382019365598,0.5821235364111295,0.46708390284468293,0.5989241211831685,0.6528709454109529,0.6119700779843504,0.6229962047321416,0.6969483591438088,0.6252269751538223,0.685421007117234,0.626280847609821,0.7120558917331279,0.5965600961644751,0.6545722914482622,0.7207423221023496,0.6566029035126154,0.653896342299543,0.6934030127703251,0.7039837595268742,0.679257014389285,0.7428788964528845,0.6567162528586171,0.6896030450610658,0.6641876335310587,0.6578063418129722,0.6726481945937339,0.6399242384029785],\"type\":\"scatter\"},{\"mode\":\"lines\",\"name\":\"Best Value\",\"x\":[0,1,2,3,4,5,6,7,8,9,10,11,12,13,14,15,16,17,18,19,20,21,22,23,24,25,26,27,28,29,30],\"y\":[null,0.5244093669687843,0.5681481149727301,0.6936695219643383,0.6936695219643383,0.6936695219643383,0.6936695219643383,0.6936695219643383,0.6936695219643383,0.6936695219643383,0.6936695219643383,0.6969483591438088,0.6969483591438088,0.6969483591438088,0.6969483591438088,0.7120558917331279,0.7120558917331279,0.7120558917331279,0.7207423221023496,0.7207423221023496,0.7207423221023496,0.7207423221023496,0.7207423221023496,0.7207423221023496,0.7428788964528845,0.7428788964528845,0.7428788964528845,0.7428788964528845,0.7428788964528845,0.7428788964528845,0.7428788964528845],\"type\":\"scatter\"},{\"marker\":{\"color\":\"#cccccc\"},\"mode\":\"markers\",\"name\":\"Infeasible Trial\",\"showlegend\":false,\"x\":[],\"y\":[],\"type\":\"scatter\"}],                        {\"title\":{\"text\":\"Optimization History Plot\"},\"xaxis\":{\"title\":{\"text\":\"Trial\"}},\"yaxis\":{\"title\":{\"text\":\"Objective Value\"}},\"template\":{\"data\":{\"histogram2dcontour\":[{\"type\":\"histogram2dcontour\",\"colorbar\":{\"outlinewidth\":0,\"ticks\":\"\"},\"colorscale\":[[0.0,\"#0d0887\"],[0.1111111111111111,\"#46039f\"],[0.2222222222222222,\"#7201a8\"],[0.3333333333333333,\"#9c179e\"],[0.4444444444444444,\"#bd3786\"],[0.5555555555555556,\"#d8576b\"],[0.6666666666666666,\"#ed7953\"],[0.7777777777777778,\"#fb9f3a\"],[0.8888888888888888,\"#fdca26\"],[1.0,\"#f0f921\"]]}],\"choropleth\":[{\"type\":\"choropleth\",\"colorbar\":{\"outlinewidth\":0,\"ticks\":\"\"}}],\"histogram2d\":[{\"type\":\"histogram2d\",\"colorbar\":{\"outlinewidth\":0,\"ticks\":\"\"},\"colorscale\":[[0.0,\"#0d0887\"],[0.1111111111111111,\"#46039f\"],[0.2222222222222222,\"#7201a8\"],[0.3333333333333333,\"#9c179e\"],[0.4444444444444444,\"#bd3786\"],[0.5555555555555556,\"#d8576b\"],[0.6666666666666666,\"#ed7953\"],[0.7777777777777778,\"#fb9f3a\"],[0.8888888888888888,\"#fdca26\"],[1.0,\"#f0f921\"]]}],\"heatmap\":[{\"type\":\"heatmap\",\"colorbar\":{\"outlinewidth\":0,\"ticks\":\"\"},\"colorscale\":[[0.0,\"#0d0887\"],[0.1111111111111111,\"#46039f\"],[0.2222222222222222,\"#7201a8\"],[0.3333333333333333,\"#9c179e\"],[0.4444444444444444,\"#bd3786\"],[0.5555555555555556,\"#d8576b\"],[0.6666666666666666,\"#ed7953\"],[0.7777777777777778,\"#fb9f3a\"],[0.8888888888888888,\"#fdca26\"],[1.0,\"#f0f921\"]]}],\"heatmapgl\":[{\"type\":\"heatmapgl\",\"colorbar\":{\"outlinewidth\":0,\"ticks\":\"\"},\"colorscale\":[[0.0,\"#0d0887\"],[0.1111111111111111,\"#46039f\"],[0.2222222222222222,\"#7201a8\"],[0.3333333333333333,\"#9c179e\"],[0.4444444444444444,\"#bd3786\"],[0.5555555555555556,\"#d8576b\"],[0.6666666666666666,\"#ed7953\"],[0.7777777777777778,\"#fb9f3a\"],[0.8888888888888888,\"#fdca26\"],[1.0,\"#f0f921\"]]}],\"contourcarpet\":[{\"type\":\"contourcarpet\",\"colorbar\":{\"outlinewidth\":0,\"ticks\":\"\"}}],\"contour\":[{\"type\":\"contour\",\"colorbar\":{\"outlinewidth\":0,\"ticks\":\"\"},\"colorscale\":[[0.0,\"#0d0887\"],[0.1111111111111111,\"#46039f\"],[0.2222222222222222,\"#7201a8\"],[0.3333333333333333,\"#9c179e\"],[0.4444444444444444,\"#bd3786\"],[0.5555555555555556,\"#d8576b\"],[0.6666666666666666,\"#ed7953\"],[0.7777777777777778,\"#fb9f3a\"],[0.8888888888888888,\"#fdca26\"],[1.0,\"#f0f921\"]]}],\"surface\":[{\"type\":\"surface\",\"colorbar\":{\"outlinewidth\":0,\"ticks\":\"\"},\"colorscale\":[[0.0,\"#0d0887\"],[0.1111111111111111,\"#46039f\"],[0.2222222222222222,\"#7201a8\"],[0.3333333333333333,\"#9c179e\"],[0.4444444444444444,\"#bd3786\"],[0.5555555555555556,\"#d8576b\"],[0.6666666666666666,\"#ed7953\"],[0.7777777777777778,\"#fb9f3a\"],[0.8888888888888888,\"#fdca26\"],[1.0,\"#f0f921\"]]}],\"mesh3d\":[{\"type\":\"mesh3d\",\"colorbar\":{\"outlinewidth\":0,\"ticks\":\"\"}}],\"scatter\":[{\"fillpattern\":{\"fillmode\":\"overlay\",\"size\":10,\"solidity\":0.2},\"type\":\"scatter\"}],\"parcoords\":[{\"type\":\"parcoords\",\"line\":{\"colorbar\":{\"outlinewidth\":0,\"ticks\":\"\"}}}],\"scatterpolargl\":[{\"type\":\"scatterpolargl\",\"marker\":{\"colorbar\":{\"outlinewidth\":0,\"ticks\":\"\"}}}],\"bar\":[{\"error_x\":{\"color\":\"#2a3f5f\"},\"error_y\":{\"color\":\"#2a3f5f\"},\"marker\":{\"line\":{\"color\":\"#E5ECF6\",\"width\":0.5},\"pattern\":{\"fillmode\":\"overlay\",\"size\":10,\"solidity\":0.2}},\"type\":\"bar\"}],\"scattergeo\":[{\"type\":\"scattergeo\",\"marker\":{\"colorbar\":{\"outlinewidth\":0,\"ticks\":\"\"}}}],\"scatterpolar\":[{\"type\":\"scatterpolar\",\"marker\":{\"colorbar\":{\"outlinewidth\":0,\"ticks\":\"\"}}}],\"histogram\":[{\"marker\":{\"pattern\":{\"fillmode\":\"overlay\",\"size\":10,\"solidity\":0.2}},\"type\":\"histogram\"}],\"scattergl\":[{\"type\":\"scattergl\",\"marker\":{\"colorbar\":{\"outlinewidth\":0,\"ticks\":\"\"}}}],\"scatter3d\":[{\"type\":\"scatter3d\",\"line\":{\"colorbar\":{\"outlinewidth\":0,\"ticks\":\"\"}},\"marker\":{\"colorbar\":{\"outlinewidth\":0,\"ticks\":\"\"}}}],\"scattermapbox\":[{\"type\":\"scattermapbox\",\"marker\":{\"colorbar\":{\"outlinewidth\":0,\"ticks\":\"\"}}}],\"scatterternary\":[{\"type\":\"scatterternary\",\"marker\":{\"colorbar\":{\"outlinewidth\":0,\"ticks\":\"\"}}}],\"scattercarpet\":[{\"type\":\"scattercarpet\",\"marker\":{\"colorbar\":{\"outlinewidth\":0,\"ticks\":\"\"}}}],\"carpet\":[{\"aaxis\":{\"endlinecolor\":\"#2a3f5f\",\"gridcolor\":\"white\",\"linecolor\":\"white\",\"minorgridcolor\":\"white\",\"startlinecolor\":\"#2a3f5f\"},\"baxis\":{\"endlinecolor\":\"#2a3f5f\",\"gridcolor\":\"white\",\"linecolor\":\"white\",\"minorgridcolor\":\"white\",\"startlinecolor\":\"#2a3f5f\"},\"type\":\"carpet\"}],\"table\":[{\"cells\":{\"fill\":{\"color\":\"#EBF0F8\"},\"line\":{\"color\":\"white\"}},\"header\":{\"fill\":{\"color\":\"#C8D4E3\"},\"line\":{\"color\":\"white\"}},\"type\":\"table\"}],\"barpolar\":[{\"marker\":{\"line\":{\"color\":\"#E5ECF6\",\"width\":0.5},\"pattern\":{\"fillmode\":\"overlay\",\"size\":10,\"solidity\":0.2}},\"type\":\"barpolar\"}],\"pie\":[{\"automargin\":true,\"type\":\"pie\"}]},\"layout\":{\"autotypenumbers\":\"strict\",\"colorway\":[\"#636efa\",\"#EF553B\",\"#00cc96\",\"#ab63fa\",\"#FFA15A\",\"#19d3f3\",\"#FF6692\",\"#B6E880\",\"#FF97FF\",\"#FECB52\"],\"font\":{\"color\":\"#2a3f5f\"},\"hovermode\":\"closest\",\"hoverlabel\":{\"align\":\"left\"},\"paper_bgcolor\":\"white\",\"plot_bgcolor\":\"#E5ECF6\",\"polar\":{\"bgcolor\":\"#E5ECF6\",\"angularaxis\":{\"gridcolor\":\"white\",\"linecolor\":\"white\",\"ticks\":\"\"},\"radialaxis\":{\"gridcolor\":\"white\",\"linecolor\":\"white\",\"ticks\":\"\"}},\"ternary\":{\"bgcolor\":\"#E5ECF6\",\"aaxis\":{\"gridcolor\":\"white\",\"linecolor\":\"white\",\"ticks\":\"\"},\"baxis\":{\"gridcolor\":\"white\",\"linecolor\":\"white\",\"ticks\":\"\"},\"caxis\":{\"gridcolor\":\"white\",\"linecolor\":\"white\",\"ticks\":\"\"}},\"coloraxis\":{\"colorbar\":{\"outlinewidth\":0,\"ticks\":\"\"}},\"colorscale\":{\"sequential\":[[0.0,\"#0d0887\"],[0.1111111111111111,\"#46039f\"],[0.2222222222222222,\"#7201a8\"],[0.3333333333333333,\"#9c179e\"],[0.4444444444444444,\"#bd3786\"],[0.5555555555555556,\"#d8576b\"],[0.6666666666666666,\"#ed7953\"],[0.7777777777777778,\"#fb9f3a\"],[0.8888888888888888,\"#fdca26\"],[1.0,\"#f0f921\"]],\"sequentialminus\":[[0.0,\"#0d0887\"],[0.1111111111111111,\"#46039f\"],[0.2222222222222222,\"#7201a8\"],[0.3333333333333333,\"#9c179e\"],[0.4444444444444444,\"#bd3786\"],[0.5555555555555556,\"#d8576b\"],[0.6666666666666666,\"#ed7953\"],[0.7777777777777778,\"#fb9f3a\"],[0.8888888888888888,\"#fdca26\"],[1.0,\"#f0f921\"]],\"diverging\":[[0,\"#8e0152\"],[0.1,\"#c51b7d\"],[0.2,\"#de77ae\"],[0.3,\"#f1b6da\"],[0.4,\"#fde0ef\"],[0.5,\"#f7f7f7\"],[0.6,\"#e6f5d0\"],[0.7,\"#b8e186\"],[0.8,\"#7fbc41\"],[0.9,\"#4d9221\"],[1,\"#276419\"]]},\"xaxis\":{\"gridcolor\":\"white\",\"linecolor\":\"white\",\"ticks\":\"\",\"title\":{\"standoff\":15},\"zerolinecolor\":\"white\",\"automargin\":true,\"zerolinewidth\":2},\"yaxis\":{\"gridcolor\":\"white\",\"linecolor\":\"white\",\"ticks\":\"\",\"title\":{\"standoff\":15},\"zerolinecolor\":\"white\",\"automargin\":true,\"zerolinewidth\":2},\"scene\":{\"xaxis\":{\"backgroundcolor\":\"#E5ECF6\",\"gridcolor\":\"white\",\"linecolor\":\"white\",\"showbackground\":true,\"ticks\":\"\",\"zerolinecolor\":\"white\",\"gridwidth\":2},\"yaxis\":{\"backgroundcolor\":\"#E5ECF6\",\"gridcolor\":\"white\",\"linecolor\":\"white\",\"showbackground\":true,\"ticks\":\"\",\"zerolinecolor\":\"white\",\"gridwidth\":2},\"zaxis\":{\"backgroundcolor\":\"#E5ECF6\",\"gridcolor\":\"white\",\"linecolor\":\"white\",\"showbackground\":true,\"ticks\":\"\",\"zerolinecolor\":\"white\",\"gridwidth\":2}},\"shapedefaults\":{\"line\":{\"color\":\"#2a3f5f\"}},\"annotationdefaults\":{\"arrowcolor\":\"#2a3f5f\",\"arrowhead\":0,\"arrowwidth\":1},\"geo\":{\"bgcolor\":\"white\",\"landcolor\":\"#E5ECF6\",\"subunitcolor\":\"white\",\"showland\":true,\"showlakes\":true,\"lakecolor\":\"white\"},\"title\":{\"x\":0.05},\"mapbox\":{\"style\":\"light\"}}}},                        {\"responsive\": true}                    )                };                            </script>        </div>\n",
       "</body>\n",
       "</html>"
      ]
     },
     "metadata": {},
     "output_type": "display_data"
    }
   ],
   "source": [
    "optuna.visualization.plot_optimization_history(study)"
   ]
  },
  {
   "cell_type": "code",
   "execution_count": 0,
   "metadata": {
    "application/vnd.databricks.v1+cell": {
     "cellMetadata": {
      "byteLimit": 2048000,
      "rowLimit": 10000
     },
     "inputWidgets": {},
     "nuid": "45d6ec94-b7e6-4fab-a330-bac7b42d02e8",
     "showTitle": false,
     "tableResultSettingsMap": {},
     "title": ""
    }
   },
   "outputs": [
    {
     "output_type": "execute_result",
     "data": {
      "text/plain": [
       "{'max_depth': 3,\n",
       " 'step_size': 0.22789612028218414,\n",
       " 'subsample_rate': 0.8844231267740584,\n",
       " 'min_instances_per_node': 10}"
      ]
     },
     "execution_count": 48,
     "metadata": {},
     "output_type": "execute_result"
    }
   ],
   "source": [
    "study.best_params"
   ]
  },
  {
   "cell_type": "code",
   "execution_count": 0,
   "metadata": {
    "application/vnd.databricks.v1+cell": {
     "cellMetadata": {
      "byteLimit": 2048000,
      "rowLimit": 10000
     },
     "inputWidgets": {},
     "nuid": "ae390889-ae31-4edc-8b07-e82d1cf852a2",
     "showTitle": false,
     "tableResultSettingsMap": {},
     "title": ""
    }
   },
   "outputs": [
    {
     "output_type": "execute_result",
     "data": {
      "text/plain": [
       "0.7428788964528845"
      ]
     },
     "execution_count": 50,
     "metadata": {},
     "output_type": "execute_result"
    }
   ],
   "source": [
    "study.best_value"
   ]
  },
  {
   "cell_type": "code",
   "execution_count": 0,
   "metadata": {
    "application/vnd.databricks.v1+cell": {
     "cellMetadata": {
      "byteLimit": 2048000,
      "rowLimit": 10000
     },
     "inputWidgets": {},
     "nuid": "b38a8788-2634-48d5-9c95-bff3fdc4b2d2",
     "showTitle": false,
     "tableResultSettingsMap": {},
     "title": ""
    }
   },
   "outputs": [
    {
     "output_type": "execute_result",
     "data": {
      "text/plain": [
       "{'max_depth': 13,\n",
       " 'step_size': 0.17293475741961029,\n",
       " 'subsample_rate': 0.5056055223522435,\n",
       " 'min_instances_per_node': 5}"
      ]
     },
     "execution_count": 57,
     "metadata": {},
     "output_type": "execute_result"
    }
   ],
   "source": [
    "study.trials[0].params"
   ]
  },
  {
   "cell_type": "code",
   "execution_count": 0,
   "metadata": {
    "application/vnd.databricks.v1+cell": {
     "cellMetadata": {
      "byteLimit": 2048000,
      "rowLimit": 10000
     },
     "inputWidgets": {},
     "nuid": "7f57c1b6-3114-4474-8eee-2673ff5be6ef",
     "showTitle": false,
     "tableResultSettingsMap": {},
     "title": ""
    }
   },
   "outputs": [],
   "source": [
    "study_params_and_values = [(study.params, study.values) for study in study.trials]"
   ]
  },
  {
   "cell_type": "code",
   "execution_count": 0,
   "metadata": {
    "application/vnd.databricks.v1+cell": {
     "cellMetadata": {
      "byteLimit": 2048000,
      "rowLimit": 10000
     },
     "inputWidgets": {},
     "nuid": "03847024-dfb3-4ba8-8be7-1467740fc9d3",
     "showTitle": false,
     "tableResultSettingsMap": {},
     "title": ""
    }
   },
   "outputs": [],
   "source": [
    "# Remove first one that failed \n",
    "study_params_and_values = study_params_and_values[1:]"
   ]
  },
  {
   "cell_type": "markdown",
   "metadata": {
    "application/vnd.databricks.v1+cell": {
     "cellMetadata": {},
     "inputWidgets": {},
     "nuid": "ae3560b5-e39e-49d3-9901-1cd3f7c3a03a",
     "showTitle": false,
     "tableResultSettingsMap": {},
     "title": ""
    }
   },
   "source": [
    "## Candidate Model Selection with Cross-Validation"
   ]
  },
  {
   "cell_type": "code",
   "execution_count": 0,
   "metadata": {
    "application/vnd.databricks.v1+cell": {
     "cellMetadata": {
      "byteLimit": 2048000,
      "rowLimit": 10000
     },
     "inputWidgets": {},
     "nuid": "f66d1e58-91f2-4dfd-b8bf-c44c1d211228",
     "showTitle": false,
     "tableResultSettingsMap": {},
     "title": ""
    }
   },
   "outputs": [
    {
     "output_type": "stream",
     "name": "stdout",
     "output_type": "stream",
     "text": [
      "Rank 1: Score = 0.7428788964528845\nParameters: {'max_depth': 3, 'step_size': 0.22789612028218414, 'subsample_rate': 0.8844231267740584, 'min_instances_per_node': 10}\n\nRank 2: Score = 0.7207423221023496\nParameters: {'max_depth': 3, 'step_size': 0.12594244300077537, 'subsample_rate': 0.9966825036391354, 'min_instances_per_node': 12}\n\nRank 3: Score = 0.7120558917331279\nParameters: {'max_depth': 3, 'step_size': 0.15092628742402206, 'subsample_rate': 0.8262330776154888, 'min_instances_per_node': 12}\n\nRank 4: Score = 0.7039837595268742\nParameters: {'max_depth': 3, 'step_size': 0.17463647325046455, 'subsample_rate': 0.7872116888826665, 'min_instances_per_node': 9}\n\nRank 5: Score = 0.6969483591438088\nParameters: {'max_depth': 3, 'step_size': 0.18827556652539013, 'subsample_rate': 0.6003573561922851, 'min_instances_per_node': 20}\n\nRank 6: Score = 0.6936695219643383\nParameters: {'max_depth': 3, 'step_size': 0.07897169527839405, 'subsample_rate': 0.6363004300975026, 'min_instances_per_node': 7}\n\nRank 7: Score = 0.6934030127703251\nParameters: {'max_depth': 4, 'step_size': 0.11137324798663689, 'subsample_rate': 0.9892551236663056, 'min_instances_per_node': 16}\n\nRank 8: Score = 0.6896030450610658\nParameters: {'max_depth': 4, 'step_size': 0.21180426215291026, 'subsample_rate': 0.9447690125459578, 'min_instances_per_node': 11}\n\nRank 9: Score = 0.685421007117234\nParameters: {'max_depth': 3, 'step_size': 0.18302621144713221, 'subsample_rate': 0.6119749140314771, 'min_instances_per_node': 9}\n\nRank 10: Score = 0.679257014389285\nParameters: {'max_depth': 4, 'step_size': 0.1627859505527392, 'subsample_rate': 0.791447148306759, 'min_instances_per_node': 9}\n\nRank 11: Score = 0.6726481945937339\nParameters: {'max_depth': 8, 'step_size': 0.08080520406455541, 'subsample_rate': 0.9034605915848197, 'min_instances_per_node': 10}\n\nRank 12: Score = 0.6641876335310587\nParameters: {'max_depth': 6, 'step_size': 0.2308784480495615, 'subsample_rate': 0.8755272314810933, 'min_instances_per_node': 15}\n\nRank 13: Score = 0.6578063418129722\nParameters: {'max_depth': 11, 'step_size': 0.14458340348832366, 'subsample_rate': 0.9631806652449796, 'min_instances_per_node': 12}\n\nRank 14: Score = 0.6567162528586171\nParameters: {'max_depth': 6, 'step_size': 0.2289852118022254, 'subsample_rate': 0.8941770261081812, 'min_instances_per_node': 7}\n\nRank 15: Score = 0.6566029035126154\nParameters: {'max_depth': 7, 'step_size': 0.12817708169649328, 'subsample_rate': 0.9943831779133947, 'min_instances_per_node': 12}\n\nRank 16: Score = 0.6545722914482622\nParameters: {'max_depth': 5, 'step_size': 0.2091140808431473, 'subsample_rate': 0.8362089155036465, 'min_instances_per_node': 17}\n\nRank 17: Score = 0.653896342299543\nParameters: {'max_depth': 5, 'step_size': 0.1452675902319761, 'subsample_rate': 0.8515332921621452, 'min_instances_per_node': 11}\n\nRank 18: Score = 0.6528709454109529\nParameters: {'max_depth': 9, 'step_size': 0.1297341168347636, 'subsample_rate': 0.9419495097305894, 'min_instances_per_node': 13}\n\nRank 19: Score = 0.6399242384029785\nParameters: {'max_depth': 5, 'step_size': 0.16248602629725115, 'subsample_rate': 0.8222016849997468, 'min_instances_per_node': 6}\n\nRank 20: Score = 0.626280847609821\nParameters: {'max_depth': 5, 'step_size': 0.05104948362926892, 'subsample_rate': 0.6710601869260905, 'min_instances_per_node': 20}\n\nRank 21: Score = 0.6252269751538223\nParameters: {'max_depth': 4, 'step_size': 0.2031207386419805, 'subsample_rate': 0.621023474293736, 'min_instances_per_node': 20}\n\nRank 22: Score = 0.6229962047321416\nParameters: {'max_depth': 6, 'step_size': 0.2622000948300727, 'subsample_rate': 0.5024540045336313, 'min_instances_per_node': 2}\n\nRank 23: Score = 0.619382019365598\nParameters: {'max_depth': 14, 'step_size': 0.2364213537161448, 'subsample_rate': 0.7802880806773, 'min_instances_per_node': 3}\n\nRank 24: Score = 0.6119700779843504\nParameters: {'max_depth': 15, 'step_size': 0.052586184762479296, 'subsample_rate': 0.9340228094241931, 'min_instances_per_node': 9}\n\nRank 25: Score = 0.5989241211831685\nParameters: {'max_depth': 7, 'step_size': 0.09954876225484259, 'subsample_rate': 0.7320510618933611, 'min_instances_per_node': 4}\n\nRank 26: Score = 0.5965600961644751\nParameters: {'max_depth': 7, 'step_size': 0.1468785238864846, 'subsample_rate': 0.8395765152875102, 'min_instances_per_node': 14}\n\nRank 27: Score = 0.5821235364111295\nParameters: {'max_depth': 11, 'step_size': 0.09730831169010508, 'subsample_rate': 0.7407347020495545, 'min_instances_per_node': 14}\n\nRank 28: Score = 0.5681481149727301\nParameters: {'max_depth': 9, 'step_size': 0.2756128218952987, 'subsample_rate': 0.6633134778799832, 'min_instances_per_node': 4}\n\nRank 29: Score = 0.5244093669687843\nParameters: {'max_depth': 11, 'step_size': 0.16400527992851954, 'subsample_rate': 0.5468862648657284, 'min_instances_per_node': 6}\n\nRank 30: Score = 0.46708390284468293\nParameters: {'max_depth': 14, 'step_size': 0.2996538840475324, 'subsample_rate': 0.9004811288422889, 'min_instances_per_node': 17}\n\n"
     ]
    }
   ],
   "source": [
    "# Sort the list by the value in the second element \n",
    "sorted_results = sorted(study_params_and_values, key=lambda x: x[1][0], reverse=True)\n",
    "\n",
    "# Print the sorted results\n",
    "for i, (params, score) in enumerate(sorted_results):\n",
    "    print(f\"Rank {i+1}: Score = {score[0]}\")\n",
    "    print(f\"Parameters: {params}\")\n",
    "    print()"
   ]
  },
  {
   "cell_type": "code",
   "execution_count": 0,
   "metadata": {
    "application/vnd.databricks.v1+cell": {
     "cellMetadata": {
      "byteLimit": 2048000,
      "rowLimit": 10000
     },
     "inputWidgets": {},
     "nuid": "57df6dc8-4c29-4388-a9b5-68e3c4fd694a",
     "showTitle": false,
     "tableResultSettingsMap": {},
     "title": ""
    }
   },
   "outputs": [],
   "source": [
    "# Create GBT classifier\n",
    "gbt = GBTClassifier(\n",
    "    labelCol=\"label\",\n",
    "    featuresCol=\"features\", \n",
    "    weightCol=\"class_weight\",\n",
    "    seed=42\n",
    ")\n",
    "\n",
    "# Create parameter grid with the 5 specific best hyperparameter sets from initial tuning \n",
    "param_grid = ParamGridBuilder() \\\n",
    "    .addGrid(gbt.maxDepth, [3]) \\\n",
    "    .addGrid(gbt.stepSize, [0.22789612028218414, 0.12594244300077537, 0.15092628742402206, 0.17463647325046455, 0.18827556652539013]) \\\n",
    "    .addGrid(gbt.subsamplingRate, [0.8844231267740584, 0.9966825036391354, 0.8262330776154888, 0.7872116888826665, 0.6003573561922851]) \\\n",
    "    .addGrid(gbt.minInstancesPerNode, [10, 12, 12, 9, 20]) \\\n",
    "    .build()\n",
    "\n",
    "# We need to ensure we get exactly the 5 combinations you want\n",
    "# Let's create a filtered param grid\n",
    "filtered_param_grid = []\n",
    "\n",
    "# Define the specific hyperparameter combinations\n",
    "hyperparameter_sets = [\n",
    "    # Rank 1\n",
    "    (3, 0.22789612028218414, 0.8844231267740584, 10),\n",
    "    # Rank 2\n",
    "    (3, 0.12594244300077537, 0.9966825036391354, 12),\n",
    "    # Rank 3\n",
    "    (3, 0.15092628742402206, 0.8262330776154888, 12),\n",
    "    # Rank 4\n",
    "    (3, 0.17463647325046455, 0.7872116888826665, 9),\n",
    "    # Rank 5\n",
    "    (3, 0.18827556652539013, 0.6003573561922851, 20)\n",
    "]\n",
    "\n",
    "# Filter the param grid to include only the specific combinations\n",
    "for params in param_grid:\n",
    "    md = params[gbt.maxDepth]\n",
    "    ss = params[gbt.stepSize]\n",
    "    sr = params[gbt.subsamplingRate]\n",
    "    min_inst = params[gbt.minInstancesPerNode]\n",
    "    \n",
    "    if (md, ss, sr, min_inst) in hyperparameter_sets:\n",
    "        filtered_param_grid.append(params)\n"
   ]
  },
  {
   "cell_type": "code",
   "execution_count": 0,
   "metadata": {
    "application/vnd.databricks.v1+cell": {
     "cellMetadata": {
      "byteLimit": 2048000,
      "rowLimit": 10000
     },
     "inputWidgets": {},
     "nuid": "7ffc383f-6927-4246-872f-8210002fde4a",
     "showTitle": false,
     "tableResultSettingsMap": {},
     "title": ""
    }
   },
   "outputs": [
    {
     "output_type": "stream",
     "name": "stdout",
     "output_type": "stream",
     "text": [
      "Label distribution:\nLabel 1: 260 instances\nLabel 0: 166819 instances\n"
     ]
    }
   ],
   "source": [
    "# Check the label distribution\n",
    "label_distribution = train_prepared.groupBy(\"label\").count().collect()\n",
    "print(\"Label distribution:\")\n",
    "for row in label_distribution:\n",
    "    print(f\"Label {row['label']}: {row['count']} instances\")\n",
    "\n",
    "# Create stratified folds outside the objective function\n",
    "num_folds = 3\n",
    "\n",
    "# 1. Add a random column for shuffling\n",
    "train_data_shuffled = train_prepared.withColumn(\"random\", rand(seed=42))\n",
    "\n",
    "# 2. For each label, distribute rows evenly across folds\n",
    "stratified_dfs = []\n",
    "\n",
    "for row in label_distribution:\n",
    "    label_val = row[\"label\"]\n",
    "    \n",
    "    # Filter for this label\n",
    "    label_df = train_data_shuffled.filter(col(\"label\") == label_val)\n",
    "    \n",
    "    # Sort by random column\n",
    "    label_df = label_df.orderBy(\"random\")\n",
    "    \n",
    "    # Add fold column - use row_number and modulo\n",
    "    window = Window.orderBy(\"random\")\n",
    "    label_df = label_df.withColumn(\"row_idx\", row_number().over(window))\n",
    "    label_df = label_df.withColumn(\"fold\", (col(\"row_idx\") - 1) % num_folds)\n",
    "    \n",
    "    # Drop temporary columns\n",
    "    label_df = label_df.drop(\"random\", \"row_idx\")\n",
    "    \n",
    "    stratified_dfs.append(label_df)\n",
    "\n",
    "# 3. Union all the labeled dataframes\n",
    "stratified_train_data = stratified_dfs[0]\n",
    "for df in stratified_dfs[1:]:\n",
    "    stratified_train_data = stratified_train_data.union(df)"
   ]
  },
  {
   "cell_type": "code",
   "execution_count": 0,
   "metadata": {
    "application/vnd.databricks.v1+cell": {
     "cellMetadata": {
      "byteLimit": 2048000,
      "rowLimit": 10000
     },
     "inputWidgets": {},
     "nuid": "6b5acbc0-fe3b-46a7-be87-e34eb1a853ef",
     "showTitle": false,
     "tableResultSettingsMap": {},
     "title": ""
    }
   },
   "outputs": [
    {
     "output_type": "display_data",
     "data": {
      "application/vnd.jupyter.widget-view+json": {
       "model_id": "164d55ae41214ce8846b9e985c0524d5",
       "version_major": 2,
       "version_minor": 0
      },
      "text/plain": [
       "Downloading artifacts:   0%|          | 0/45 [00:00<?, ?it/s]"
      ]
     },
     "metadata": {},
     "output_type": "display_data"
    },
    {
     "output_type": "display_data",
     "data": {
      "application/vnd.jupyter.widget-view+json": {
       "model_id": "4383801cc8b74f3fb89ea3ff2ebc99b7",
       "version_major": 2,
       "version_minor": 0
      },
      "text/plain": [
       "Uploading artifacts:   0%|          | 0/4 [00:00<?, ?it/s]"
      ]
     },
     "metadata": {},
     "output_type": "display_data"
    },
    {
     "output_type": "display_data",
     "data": {
      "application/vnd.jupyter.widget-view+json": {
       "model_id": "e56e5d5f293f46cdb89d72f5b5627e99",
       "version_major": 2,
       "version_minor": 0
      },
      "text/plain": [
       "Downloading artifacts:   0%|          | 0/20 [00:00<?, ?it/s]"
      ]
     },
     "metadata": {},
     "output_type": "display_data"
    },
    {
     "output_type": "display_data",
     "data": {
      "application/vnd.jupyter.widget-view+json": {
       "model_id": "9b39b0bf1fbe456e964d1a55dc0767f8",
       "version_major": 2,
       "version_minor": 0
      },
      "text/plain": [
       "Uploading artifacts:   0%|          | 0/4 [00:00<?, ?it/s]"
      ]
     },
     "metadata": {},
     "output_type": "display_data"
    }
   ],
   "source": [
    "# Create pipeline\n",
    "pipeline = Pipeline(stages=[gbt])\n",
    "\n",
    "# Create evaluator\n",
    "evaluator = BinaryClassificationEvaluator(\n",
    "    labelCol=\"label\", \n",
    "    rawPredictionCol=\"rawPrediction\", \n",
    "    metricName=\"areaUnderROC\"\n",
    ")\n",
    "\n",
    "# Set up cross-validation\n",
    "cv = CrossValidator(\n",
    "    estimator=pipeline,\n",
    "    estimatorParamMaps=filtered_param_grid, \n",
    "    evaluator=evaluator,\n",
    "    numFolds=num_folds,\n",
    "    foldCol=\"fold\",  \n",
    "    parallelism=1,\n",
    "    seed=42\n",
    ")\n",
    "cv_model = cv.fit(stratified_train_data)"
   ]
  },
  {
   "cell_type": "code",
   "execution_count": 0,
   "metadata": {
    "application/vnd.databricks.v1+cell": {
     "cellMetadata": {
      "byteLimit": 2048000,
      "rowLimit": 10000
     },
     "inputWidgets": {},
     "nuid": "5e023b63-e70d-49da-b0ad-d4cf813424f2",
     "showTitle": false,
     "tableResultSettingsMap": {},
     "title": ""
    }
   },
   "outputs": [
    {
     "output_type": "stream",
     "name": "stdout",
     "output_type": "stream",
     "text": [
      "Best maxDepth: 3\nBest stepSize: 0.22789612028218414\nBest subsamplingRate: 0.8844231267740584\nBest minInstancesPerNode: 10\n"
     ]
    }
   ],
   "source": [
    "best_model = cv_model.bestModel.stages[-1] # Print out the parameters of the best model\n",
    "print(f\"Best maxDepth: {best_model.getMaxDepth()}\")\n",
    "print(f\"Best stepSize: {best_model.getStepSize()}\")\n",
    "print(f\"Best subsamplingRate: {best_model.getSubsamplingRate()}\")\n",
    "print(f\"Best minInstancesPerNode: {best_model.getMinInstancesPerNode()}\")  "
   ]
  },
  {
   "cell_type": "code",
   "execution_count": 0,
   "metadata": {
    "application/vnd.databricks.v1+cell": {
     "cellMetadata": {
      "byteLimit": 2048000,
      "rowLimit": 10000
     },
     "inputWidgets": {},
     "nuid": "8b2bdbfa-18ec-4d3c-be7f-bb11f19ca27f",
     "showTitle": false,
     "tableResultSettingsMap": {},
     "title": ""
    }
   },
   "outputs": [
    {
     "output_type": "execute_result",
     "data": {
      "text/plain": [
       "[0.6743526666201253,\n",
       " 0.6691819013410498,\n",
       " 0.6691691790704536,\n",
       " 0.6664452987968199,\n",
       " 0.6664458635664515,\n",
       " 0.6740461174318778,\n",
       " 0.6153061929664284]"
      ]
     },
     "execution_count": 91,
     "metadata": {},
     "output_type": "execute_result"
    }
   ],
   "source": [
    "cv_model.avgMetrics"
   ]
  },
  {
   "cell_type": "markdown",
   "metadata": {
    "application/vnd.databricks.v1+cell": {
     "cellMetadata": {},
     "inputWidgets": {},
     "nuid": "caba24d8-d48f-405a-89bd-15f82f83adc3",
     "showTitle": false,
     "tableResultSettingsMap": {},
     "title": ""
    }
   },
   "source": [
    "### Feature Importance Analysis and Filtering\n"
   ]
  },
  {
   "cell_type": "code",
   "execution_count": 0,
   "metadata": {
    "application/vnd.databricks.v1+cell": {
     "cellMetadata": {
      "byteLimit": 2048000,
      "rowLimit": 10000
     },
     "inputWidgets": {},
     "nuid": "15a3bb27-879b-48d9-baf0-39aac960f02b",
     "showTitle": false,
     "tableResultSettingsMap": {},
     "title": ""
    }
   },
   "outputs": [],
   "source": [
    "def get_feature_importances(model, features_col=\"features\"):\n",
    "    if hasattr(model, \"featureImportances\"):\n",
    "        importances = model.featureImportances.toArray()\n",
    "    else:\n",
    "        raise ValueError(f\"Model type {type(model)} doesn't support direct feature importance extraction\")\n",
    "    \n",
    "    return importances"
   ]
  },
  {
   "cell_type": "code",
   "execution_count": 0,
   "metadata": {
    "application/vnd.databricks.v1+cell": {
     "cellMetadata": {
      "byteLimit": 2048000,
      "rowLimit": 10000
     },
     "inputWidgets": {},
     "nuid": "8eb9a258-e53c-4ae5-a283-8412f0d4504e",
     "showTitle": false,
     "tableResultSettingsMap": {},
     "title": ""
    }
   },
   "outputs": [],
   "source": [
    "feature_importances = get_feature_importances(best_model)"
   ]
  },
  {
   "cell_type": "code",
   "execution_count": 0,
   "metadata": {
    "application/vnd.databricks.v1+cell": {
     "cellMetadata": {
      "byteLimit": 2048000,
      "rowLimit": 10000
     },
     "inputWidgets": {},
     "nuid": "4ff19651-4199-4456-b63a-023f6e76b37e",
     "showTitle": false,
     "tableResultSettingsMap": {},
     "title": ""
    }
   },
   "outputs": [
    {
     "output_type": "execute_result",
     "data": {
      "text/plain": [
       "StructType([StructField('label', IntegerType(), True), StructField('features', VectorUDT(), True), StructField('class_weight', DoubleType(), False)])"
      ]
     },
     "execution_count": 94,
     "metadata": {},
     "output_type": "execute_result"
    }
   ],
   "source": [
    "train_prepared.schema"
   ]
  },
  {
   "cell_type": "code",
   "execution_count": 0,
   "metadata": {
    "application/vnd.databricks.v1+cell": {
     "cellMetadata": {
      "byteLimit": 2048000,
      "rowLimit": 10000
     },
     "inputWidgets": {},
     "nuid": "a45fb847-106e-4f78-9b6c-4b184deee73e",
     "showTitle": false,
     "tableResultSettingsMap": {},
     "title": ""
    }
   },
   "outputs": [],
   "source": [
    "feature_names  = [feature[\"name\"] for feature in train_prepared.schema[\"features\"].metadata[\"ml_attr\"][\"attrs\"][\"numeric\"]]"
   ]
  },
  {
   "cell_type": "code",
   "execution_count": 0,
   "metadata": {
    "application/vnd.databricks.v1+cell": {
     "cellMetadata": {
      "byteLimit": 2048000,
      "rowLimit": 10000
     },
     "inputWidgets": {},
     "nuid": "905f732b-dc3b-47bc-a0b0-c853aec29974",
     "showTitle": false,
     "tableResultSettingsMap": {},
     "title": ""
    }
   },
   "outputs": [],
   "source": [
    "# Create a DataFrame with feature names and importances\n",
    "feature_importance_list = [(name, float(importance)) for name, importance in zip(feature_names, feature_importances)]\n",
    "feature_importances_df = spark.createDataFrame(feature_importance_list, [\"feature\", \"importance\"])\n",
    "\n",
    "# Sort by importance in descending order\n",
    "feature_importances_df = feature_importances_df.orderBy(\"importance\", ascending=False)"
   ]
  },
  {
   "cell_type": "code",
   "execution_count": 0,
   "metadata": {
    "application/vnd.databricks.v1+cell": {
     "cellMetadata": {
      "byteLimit": 2048000,
      "rowLimit": 10000
     },
     "inputWidgets": {},
     "nuid": "b80dfc76-ccc1-4d5f-949a-32122134e364",
     "showTitle": false,
     "tableResultSettingsMap": {},
     "title": ""
    }
   },
   "outputs": [
    {
     "output_type": "execute_result",
     "data": {
      "text/plain": [
       "86"
      ]
     },
     "execution_count": 97,
     "metadata": {},
     "output_type": "execute_result"
    }
   ],
   "source": [
    "# Check for importance of 0 \n",
    "feature_importances_df.filter(feature_importances_df.importance == 0).count()"
   ]
  },
  {
   "cell_type": "code",
   "execution_count": 0,
   "metadata": {
    "application/vnd.databricks.v1+cell": {
     "cellMetadata": {
      "byteLimit": 2048000,
      "rowLimit": 10000
     },
     "inputWidgets": {},
     "nuid": "6176a818-d185-4fe6-8184-0d18217489cd",
     "showTitle": false,
     "tableResultSettingsMap": {},
     "title": ""
    }
   },
   "outputs": [
    {
     "output_type": "display_data",
     "data": {
      "text/html": [
       "<style scoped>\n",
       "  .table-result-container {\n",
       "    max-height: 300px;\n",
       "    overflow: auto;\n",
       "  }\n",
       "  table, th, td {\n",
       "    border: 1px solid black;\n",
       "    border-collapse: collapse;\n",
       "  }\n",
       "  th, td {\n",
       "    padding: 5px;\n",
       "  }\n",
       "  th {\n",
       "    text-align: left;\n",
       "  }\n",
       "</style><div class='table-result-container'><table class='table-result'><thead style='background-color: white'><tr><th>feature</th><th>importance</th></tr></thead><tbody><tr><td>last_has_issues</td><td>0.0</td></tr><tr><td>ratio_seat_belt_violation_roll15d_per_year</td><td>0.0</td></tr><tr><td>group_nc__griffin_hook_trucks</td><td>0.0</td></tr><tr><td>ratio_tailgating_roll15d_per_year</td><td>0.0</td></tr><tr><td>crash_roll15d</td><td>0.0</td></tr><tr><td>ratio_unsafe_lane_change_roll15d_per_year</td><td>0.0</td></tr><tr><td>group_tn__maxwell_septic</td><td>0.0</td></tr><tr><td>ratio_total_events_per_trip_roll15d_per_year</td><td>0.0</td></tr><tr><td>vehicle_rolling_15trip_num_issues</td><td>0.0</td></tr><tr><td>ratio_trip_ts_roll15d_per_year</td><td>0.0</td></tr><tr><td>group_ky__lex</td><td>0.0</td></tr><tr><td>ratio_low_roll15d_per_year</td><td>0.0</td></tr><tr><td>driver_facing_cam_obstruction_roll15d</td><td>0.0</td></tr><tr><td>ratio_high_roll15d_per_year</td><td>0.0</td></tr><tr><td>group_nc__asc</td><td>0.0</td></tr><tr><td>prev_review_rate_per_km</td><td>0.0</td></tr><tr><td>vehicle_rolling_15trip_issues_distance</td><td>0.0</td></tr><tr><td>prev_review_rate_per_min</td><td>0.0</td></tr><tr><td>group_tn__chattanooga_bolles</td><td>0.0</td></tr><tr><td>prev_review_rate_per_event</td><td>0.0</td></tr><tr><td>drowsiness_roll15d</td><td>0.0</td></tr><tr><td>group_wi__buckys</td><td>0.0</td></tr><tr><td>group_tn__etp_</td><td>0.0</td></tr><tr><td>group_ga_psi_augusta</td><td>0.0</td></tr><tr><td>vehicle_rolling_15trip_issues_minutes</td><td>0.0</td></tr><tr><td>group_nc__denver</td><td>0.0</td></tr><tr><td>group_sc__littlejohn</td><td>0.0</td></tr><tr><td>group_tn__memphis__safety_quip</td><td>0.0</td></tr><tr><td>forward_collision_warning_roll15d</td><td>0.0</td></tr><tr><td>group_fl__freedom</td><td>0.0</td></tr><tr><td>group_tx__acp</td><td>0.0</td></tr><tr><td>group_fl__jw_craft</td><td>0.0</td></tr><tr><td>vehicle_rolling_15trip_issues_events</td><td>0.0</td></tr><tr><td>group_ms__american_johnny</td><td>0.0</td></tr><tr><td>group_va__r_r</td><td>0.0</td></tr><tr><td>group_fl__gainsville_porta_serve</td><td>0.0</td></tr><tr><td>manual_event_roll15d</td><td>0.0</td></tr><tr><td>group_pa__port_a_bowl</td><td>0.0</td></tr><tr><td>group_sc__psi_columbia</td><td>0.0</td></tr><tr><td>group_ia__cedar_rapids</td><td>0.0</td></tr><tr><td>vehicle_rolling_15trip_issues_given_date</td><td>0.0</td></tr><tr><td>group_ga__gci</td><td>0.0</td></tr><tr><td>group_ky__bullitt_sep_service</td><td>0.0</td></tr><tr><td>group_ms__gotta_go</td><td>0.0</td></tr><tr><td>near_miss_roll15d</td><td>0.0</td></tr><tr><td>group_pa__malvern</td><td>0.0</td></tr><tr><td>group_ky__moon_minis</td><td>0.0</td></tr><tr><td>group_tx__forza</td><td>0.0</td></tr><tr><td>prev_sum_travel_distance</td><td>0.0</td></tr><tr><td>group_tn__fusionsite_(clark)</td><td>0.0</td></tr><tr><td>group_ky__moon_leasing</td><td>0.0</td></tr><tr><td>group_san_angelo_tops_septic</td><td>0.0</td></tr><tr><td>ran_a_red_light_roll15d</td><td>0.0</td></tr><tr><td>group_wi__stranders</td><td>0.0</td></tr><tr><td>group_nc__greensboro</td><td>0.0</td></tr><tr><td>group_az__stamback_admin</td><td>0.0</td></tr><tr><td>prev_sum_minutes_driving</td><td>0.0</td></tr><tr><td>group_oh__rent__a__john</td><td>0.0</td></tr><tr><td>group_tn__fusionsite_(woodycrest)</td><td>0.0</td></tr><tr><td>group_az__stamback_rolloffs_</td><td>0.0</td></tr><tr><td>road_facing_cam_obstruction_roll15d</td><td>0.0</td></tr><tr><td>group_ky__moon_portables</td><td>0.0</td></tr><tr><td>years_since_min_trip_date</td><td>0.0</td></tr><tr><td>group_tx__j_bar</td><td>0.0</td></tr><tr><td>stop_sign_violation_roll15d</td><td>0.0</td></tr><tr><td>group_ar__fay</td><td>0.0</td></tr><tr><td>driver_sum_travel_distance_roll15d</td><td>0.0</td></tr><tr><td>group_lubbock_hd_</td><td>0.0</td></tr><tr><td>unsafe_lane_change_roll15d</td><td>0.0</td></tr><tr><td>group_az__stamback_septic</td><td>0.0</td></tr><tr><td>driver_sum_minutes_driving_roll15d</td><td>0.0</td></tr><tr><td>group_kermit</td><td>0.0</td></tr><tr><td>total_events_per_trip_roll15d</td><td>0.0</td></tr><tr><td>group_lubbock</td><td>0.0</td></tr><tr><td>high_roll15d</td><td>0.0</td></tr><tr><td>group_wi__cesspool</td><td>0.0</td></tr><tr><td>ratio_camera_obstruction_roll15d_per_year</td><td>0.0</td></tr><tr><td>total_fatalities_prev_3m_avg</td><td>0.0</td></tr><tr><td>ratio_crash_roll15d_per_year</td><td>0.0</td></tr><tr><td>total_vehicles_prev_3m_avg</td><td>0.0</td></tr><tr><td>ratio_driver_facing_cam_obstruction_roll15d_per_year</td><td>0.0</td></tr><tr><td>ratio_drowsiness_roll15d_per_year</td><td>0.0</td></tr><tr><td>ratio_forward_collision_warning_roll15d_per_year</td><td>0.0</td></tr><tr><td>ratio_manual_event_roll15d_per_year</td><td>0.0</td></tr><tr><td>ratio_ran_a_red_light_roll15d_per_year</td><td>0.0</td></tr><tr><td>ratio_road_facing_cam_obstruction_roll15d_per_year</td><td>0.0</td></tr></tbody></table></div>"
      ]
     },
     "metadata": {
      "application/vnd.databricks.v1+output": {
       "addedWidgets": {},
       "aggData": [],
       "aggError": "",
       "aggOverflow": false,
       "aggSchema": [],
       "aggSeriesLimitReached": false,
       "aggType": "",
       "arguments": {},
       "columnCustomDisplayInfos": {},
       "data": [
        [
         "last_has_issues",
         0.0
        ],
        [
         "ratio_seat_belt_violation_roll15d_per_year",
         0.0
        ],
        [
         "group_nc__griffin_hook_trucks",
         0.0
        ],
        [
         "ratio_tailgating_roll15d_per_year",
         0.0
        ],
        [
         "crash_roll15d",
         0.0
        ],
        [
         "ratio_unsafe_lane_change_roll15d_per_year",
         0.0
        ],
        [
         "group_tn__maxwell_septic",
         0.0
        ],
        [
         "ratio_total_events_per_trip_roll15d_per_year",
         0.0
        ],
        [
         "vehicle_rolling_15trip_num_issues",
         0.0
        ],
        [
         "ratio_trip_ts_roll15d_per_year",
         0.0
        ],
        [
         "group_ky__lex",
         0.0
        ],
        [
         "ratio_low_roll15d_per_year",
         0.0
        ],
        [
         "driver_facing_cam_obstruction_roll15d",
         0.0
        ],
        [
         "ratio_high_roll15d_per_year",
         0.0
        ],
        [
         "group_nc__asc",
         0.0
        ],
        [
         "prev_review_rate_per_km",
         0.0
        ],
        [
         "vehicle_rolling_15trip_issues_distance",
         0.0
        ],
        [
         "prev_review_rate_per_min",
         0.0
        ],
        [
         "group_tn__chattanooga_bolles",
         0.0
        ],
        [
         "prev_review_rate_per_event",
         0.0
        ],
        [
         "drowsiness_roll15d",
         0.0
        ],
        [
         "group_wi__buckys",
         0.0
        ],
        [
         "group_tn__etp_",
         0.0
        ],
        [
         "group_ga_psi_augusta",
         0.0
        ],
        [
         "vehicle_rolling_15trip_issues_minutes",
         0.0
        ],
        [
         "group_nc__denver",
         0.0
        ],
        [
         "group_sc__littlejohn",
         0.0
        ],
        [
         "group_tn__memphis__safety_quip",
         0.0
        ],
        [
         "forward_collision_warning_roll15d",
         0.0
        ],
        [
         "group_fl__freedom",
         0.0
        ],
        [
         "group_tx__acp",
         0.0
        ],
        [
         "group_fl__jw_craft",
         0.0
        ],
        [
         "vehicle_rolling_15trip_issues_events",
         0.0
        ],
        [
         "group_ms__american_johnny",
         0.0
        ],
        [
         "group_va__r_r",
         0.0
        ],
        [
         "group_fl__gainsville_porta_serve",
         0.0
        ],
        [
         "manual_event_roll15d",
         0.0
        ],
        [
         "group_pa__port_a_bowl",
         0.0
        ],
        [
         "group_sc__psi_columbia",
         0.0
        ],
        [
         "group_ia__cedar_rapids",
         0.0
        ],
        [
         "vehicle_rolling_15trip_issues_given_date",
         0.0
        ],
        [
         "group_ga__gci",
         0.0
        ],
        [
         "group_ky__bullitt_sep_service",
         0.0
        ],
        [
         "group_ms__gotta_go",
         0.0
        ],
        [
         "near_miss_roll15d",
         0.0
        ],
        [
         "group_pa__malvern",
         0.0
        ],
        [
         "group_ky__moon_minis",
         0.0
        ],
        [
         "group_tx__forza",
         0.0
        ],
        [
         "prev_sum_travel_distance",
         0.0
        ],
        [
         "group_tn__fusionsite_(clark)",
         0.0
        ],
        [
         "group_ky__moon_leasing",
         0.0
        ],
        [
         "group_san_angelo_tops_septic",
         0.0
        ],
        [
         "ran_a_red_light_roll15d",
         0.0
        ],
        [
         "group_wi__stranders",
         0.0
        ],
        [
         "group_nc__greensboro",
         0.0
        ],
        [
         "group_az__stamback_admin",
         0.0
        ],
        [
         "prev_sum_minutes_driving",
         0.0
        ],
        [
         "group_oh__rent__a__john",
         0.0
        ],
        [
         "group_tn__fusionsite_(woodycrest)",
         0.0
        ],
        [
         "group_az__stamback_rolloffs_",
         0.0
        ],
        [
         "road_facing_cam_obstruction_roll15d",
         0.0
        ],
        [
         "group_ky__moon_portables",
         0.0
        ],
        [
         "years_since_min_trip_date",
         0.0
        ],
        [
         "group_tx__j_bar",
         0.0
        ],
        [
         "stop_sign_violation_roll15d",
         0.0
        ],
        [
         "group_ar__fay",
         0.0
        ],
        [
         "driver_sum_travel_distance_roll15d",
         0.0
        ],
        [
         "group_lubbock_hd_",
         0.0
        ],
        [
         "unsafe_lane_change_roll15d",
         0.0
        ],
        [
         "group_az__stamback_septic",
         0.0
        ],
        [
         "driver_sum_minutes_driving_roll15d",
         0.0
        ],
        [
         "group_kermit",
         0.0
        ],
        [
         "total_events_per_trip_roll15d",
         0.0
        ],
        [
         "group_lubbock",
         0.0
        ],
        [
         "high_roll15d",
         0.0
        ],
        [
         "group_wi__cesspool",
         0.0
        ],
        [
         "ratio_camera_obstruction_roll15d_per_year",
         0.0
        ],
        [
         "total_fatalities_prev_3m_avg",
         0.0
        ],
        [
         "ratio_crash_roll15d_per_year",
         0.0
        ],
        [
         "total_vehicles_prev_3m_avg",
         0.0
        ],
        [
         "ratio_driver_facing_cam_obstruction_roll15d_per_year",
         0.0
        ],
        [
         "ratio_drowsiness_roll15d_per_year",
         0.0
        ],
        [
         "ratio_forward_collision_warning_roll15d_per_year",
         0.0
        ],
        [
         "ratio_manual_event_roll15d_per_year",
         0.0
        ],
        [
         "ratio_ran_a_red_light_roll15d_per_year",
         0.0
        ],
        [
         "ratio_road_facing_cam_obstruction_roll15d_per_year",
         0.0
        ]
       ],
       "datasetInfos": [],
       "dbfsResultPath": null,
       "isJsonSchema": true,
       "metadata": {},
       "overflow": false,
       "plotOptions": {
        "customPlotOptions": {},
        "displayType": "table",
        "pivotAggregation": null,
        "pivotColumns": null,
        "xColumns": null,
        "yColumns": null
       },
       "removedWidgets": [],
       "schema": [
        {
         "metadata": "{}",
         "name": "feature",
         "type": "\"string\""
        },
        {
         "metadata": "{}",
         "name": "importance",
         "type": "\"double\""
        }
       ],
       "type": "table"
      }
     },
     "output_type": "display_data"
    }
   ],
   "source": [
    "display(feature_importances_df.filter(feature_importances_df.importance == 0))"
   ]
  },
  {
   "cell_type": "code",
   "execution_count": 0,
   "metadata": {
    "application/vnd.databricks.v1+cell": {
     "cellMetadata": {
      "byteLimit": 2048000,
      "rowLimit": 10000
     },
     "inputWidgets": {},
     "nuid": "c1d494b6-5323-4384-a6e4-d2c827badd99",
     "showTitle": false,
     "tableResultSettingsMap": {},
     "title": ""
    }
   },
   "outputs": [
    {
     "output_type": "stream",
     "name": "stdout",
     "output_type": "stream",
     "text": [
      "Found 86 features with zero importance\nSample of zero importance features: ['last_has_issues', 'vehicle_rolling_15trip_num_issues', 'vehicle_rolling_15trip_issues_distance', 'vehicle_rolling_15trip_issues_minutes', 'vehicle_rolling_15trip_issues_events']\n"
     ]
    }
   ],
   "source": [
    "# Find features with zero or near-zero importance\n",
    "threshold = 1e-10\n",
    "zero_importance_features_df = feature_importances_df.filter(feature_importances_df.importance <= threshold)\n",
    "\n",
    "# Collect the list of zero importance features\n",
    "zero_importance_features = [row.feature for row in zero_importance_features_df.collect()]\n",
    "\n",
    "print(f\"Found {len(zero_importance_features)} features with zero importance\")\n",
    "if zero_importance_features:\n",
    "    print(\"Sample of zero importance features:\", zero_importance_features[:5])"
   ]
  },
  {
   "cell_type": "code",
   "execution_count": 0,
   "metadata": {
    "application/vnd.databricks.v1+cell": {
     "cellMetadata": {
      "byteLimit": 2048000,
      "rowLimit": 10000
     },
     "inputWidgets": {},
     "nuid": "64312486-b3d3-4b0e-b9f2-32b836d27941",
     "showTitle": false,
     "tableResultSettingsMap": {},
     "title": ""
    }
   },
   "outputs": [],
   "source": [
    "# Filter out zero importance features\n",
    "important_feature_cols = [col for col in feature_cols if col not in zero_importance_features]\n",
    "\n",
    "# Create a new VectorAssembler with only the important features\n",
    "filtered_assembler = VectorAssembler(inputCols=important_feature_cols, outputCol=\"features\")\n",
    "\n",
    "# Transform both datasets with the filtered features\n",
    "train_prepared_filtered = filtered_assembler.transform(train_data).select(\"label\", \"features\", \"class_weight\")\n",
    "test_prepared_filtered = filtered_assembler.transform(test_data).select(\"label\", \"features\")\n"
   ]
  },
  {
   "cell_type": "markdown",
   "metadata": {
    "application/vnd.databricks.v1+cell": {
     "cellMetadata": {},
     "inputWidgets": {},
     "nuid": "edc75e4f-8718-455b-b0bd-c8871cbb3c1e",
     "showTitle": false,
     "tableResultSettingsMap": {},
     "title": ""
    }
   },
   "source": [
    "### Refined Hyperparameter Tuning on Filtered Dataset\n"
   ]
  },
  {
   "cell_type": "code",
   "execution_count": 0,
   "metadata": {
    "application/vnd.databricks.v1+cell": {
     "cellMetadata": {
      "byteLimit": 2048000,
      "rowLimit": 10000
     },
     "inputWidgets": {},
     "nuid": "16d8e7bf-f2a1-4c42-8382-9146d7272b8b",
     "showTitle": false,
     "tableResultSettingsMap": {},
     "title": ""
    }
   },
   "outputs": [],
   "source": [
    "num_folds=3"
   ]
  },
  {
   "cell_type": "code",
   "execution_count": 0,
   "metadata": {
    "application/vnd.databricks.v1+cell": {
     "cellMetadata": {
      "byteLimit": 2048000,
      "rowLimit": 10000
     },
     "inputWidgets": {},
     "nuid": "b7b88282-5b62-4a17-8072-f8fa37cefd8f",
     "showTitle": false,
     "tableResultSettingsMap": {},
     "title": ""
    }
   },
   "outputs": [
    {
     "output_type": "stream",
     "name": "stdout",
     "output_type": "stream",
     "text": [
      "Label distribution:\nLabel 1: 260 instances\nLabel 0: 166819 instances\n\nOverall fold distribution:\n+----+-----+\n|fold|count|\n+----+-----+\n|   0|55694|\n|   1|55693|\n|   2|55692|\n+----+-----+\n\n\nFold distribution by label:\n+----+-----+-----+\n|fold|label|count|\n+----+-----+-----+\n|   0|    0|55607|\n|   0|    1|   87|\n|   1|    0|55606|\n|   1|    1|   87|\n|   2|    0|55606|\n|   2|    1|   86|\n+----+-----+-----+\n\n"
     ]
    }
   ],
   "source": [
    "# Check the label distribution\n",
    "label_distribution = train_prepared_filtered.groupBy(\"label\").count().collect()\n",
    "print(\"Label distribution:\")\n",
    "for row in label_distribution:\n",
    "    print(f\"Label {row['label']}: {row['count']} instances\")\n",
    "\n",
    "# Create stratified folds outside the objective function\n",
    "num_folds = 3\n",
    "\n",
    "# Same stratification process as before \n",
    "train_data_shuffled = train_prepared_filtered.withColumn(\"random\", rand(seed=42))\n",
    "stratified_dfs = []\n",
    "\n",
    "for row in label_distribution:\n",
    "    label_val = row[\"label\"]\n",
    "\n",
    "    label_df = train_data_shuffled.filter(col(\"label\") == label_val)\n",
    "    label_df = label_df.orderBy(\"random\")\n",
    "    \n",
    "    window = Window.orderBy(\"random\")\n",
    "    label_df = label_df.withColumn(\"row_idx\", row_number().over(window))\n",
    "    label_df = label_df.withColumn(\"fold\", (col(\"row_idx\") - 1) % num_folds)\n",
    "    \n",
    "    label_df = label_df.drop(\"random\", \"row_idx\")\n",
    "    \n",
    "    stratified_dfs.append(label_df)\n",
    "\n",
    "stratified_train_data = stratified_dfs[0]\n",
    "for df in stratified_dfs[1:]:\n",
    "    stratified_train_data = stratified_train_data.union(df)\n",
    "\n",
    "print(\"\\nOverall fold distribution:\")\n",
    "stratified_train_data.groupBy(\"fold\").count().orderBy(\"fold\").show()\n",
    "\n",
    "print(\"\\nFold distribution by label:\")\n",
    "stratified_train_data.groupBy(\"fold\", \"label\").count().orderBy(\"fold\", \"label\").show(100)"
   ]
  },
  {
   "cell_type": "code",
   "execution_count": 0,
   "metadata": {
    "application/vnd.databricks.v1+cell": {
     "cellMetadata": {
      "byteLimit": 2048000,
      "rowLimit": 10000
     },
     "inputWidgets": {},
     "nuid": "71d6fbae-5eaa-4425-b2ec-341470c69e6f",
     "showTitle": false,
     "tableResultSettingsMap": {},
     "title": ""
    }
   },
   "outputs": [],
   "source": [
    "def cv_objective(trial, train_data_with_folds, num_folds=3):\n",
    "    # Get hyperparameters from Optuna\n",
    "    step_size = trial.suggest_float('step_size', 0.12, 0.3)\n",
    "    subsample_rate = trial.suggest_float('subsample_rate', 0.6, 1.0)\n",
    "    min_instances = trial.suggest_int('min_instances_per_node', 9, 20)\n",
    "    \n",
    "    # Create base model with suggested hyperparameters\n",
    "    gbt = GBTClassifier(\n",
    "        featuresCol=\"features\", \n",
    "        labelCol=\"label\", \n",
    "        maxDepth=3,\n",
    "        stepSize=step_size,\n",
    "        subsamplingRate=subsample_rate,\n",
    "        minInstancesPerNode=min_instances,\n",
    "        weightCol=\"class_weight\",\n",
    "    )\n",
    "    \n",
    "    # Create pipeline\n",
    "    pipeline = Pipeline(stages=[gbt])\n",
    "    \n",
    "    # Create evaluator\n",
    "    evaluator = BinaryClassificationEvaluator(\n",
    "        labelCol=\"label\", \n",
    "        rawPredictionCol=\"rawPrediction\", \n",
    "        metricName=\"areaUnderROC\"\n",
    "    )\n",
    "    \n",
    "    # Set up cross-validation\n",
    "    cv = CrossValidator(\n",
    "        estimator=pipeline,\n",
    "        estimatorParamMaps=[{}], \n",
    "        evaluator=evaluator,\n",
    "        numFolds=num_folds,\n",
    "        foldCol=\"fold\",  \n",
    "        parallelism=1,\n",
    "        seed=42\n",
    "    )\n",
    "    \n",
    "    # Run cross-validation\n",
    "    cv_model = cv.fit(train_data_with_folds)\n",
    "    \n",
    "    # Get average metric across all folds\n",
    "    avg_metric = cv_model.avgMetrics[0]\n",
    "    \n",
    "    return avg_metric\n",
    "\n",
    "# pass the stratified data\n",
    "def objective_func(trial):\n",
    "    return cv_objective(trial, stratified_train_data, num_folds=3)"
   ]
  },
  {
   "cell_type": "code",
   "execution_count": 0,
   "metadata": {
    "application/vnd.databricks.v1+cell": {
     "cellMetadata": {
      "byteLimit": 2048000,
      "rowLimit": 10000
     },
     "inputWidgets": {},
     "nuid": "cb3b2650-0b89-414c-a527-9b078fe8a2ba",
     "showTitle": false,
     "tableResultSettingsMap": {},
     "title": ""
    }
   },
   "outputs": [
    {
     "output_type": "stream",
     "name": "stderr",
     "output_type": "stream",
     "text": [
      "[I 2025-04-06 15:04:25,976] A new study created in memory with name: no-name-4654471c-b6d3-44e2-b810-97cdabe8cd10\n"
     ]
    },
    {
     "output_type": "display_data",
     "data": {
      "application/vnd.jupyter.widget-view+json": {
       "model_id": "a341f31e7da14f3a86515f75a64d1be0",
       "version_major": 2,
       "version_minor": 0
      },
      "text/plain": [
       "Downloading artifacts:   0%|          | 0/45 [00:00<?, ?it/s]"
      ]
     },
     "metadata": {},
     "output_type": "display_data"
    },
    {
     "output_type": "display_data",
     "data": {
      "application/vnd.jupyter.widget-view+json": {
       "model_id": "54ddc4b5900a46178d30c461e47e2101",
       "version_major": 2,
       "version_minor": 0
      },
      "text/plain": [
       "Uploading artifacts:   0%|          | 0/4 [00:00<?, ?it/s]"
      ]
     },
     "metadata": {},
     "output_type": "display_data"
    },
    {
     "output_type": "display_data",
     "data": {
      "application/vnd.jupyter.widget-view+json": {
       "model_id": "21ce44e52c754acd9fa79714a08a7d81",
       "version_major": 2,
       "version_minor": 0
      },
      "text/plain": [
       "Downloading artifacts:   0%|          | 0/20 [00:00<?, ?it/s]"
      ]
     },
     "metadata": {},
     "output_type": "display_data"
    },
    {
     "output_type": "display_data",
     "data": {
      "application/vnd.jupyter.widget-view+json": {
       "model_id": "44376ce3ddfd495ba3c25928bb65942c",
       "version_major": 2,
       "version_minor": 0
      },
      "text/plain": [
       "Uploading artifacts:   0%|          | 0/4 [00:00<?, ?it/s]"
      ]
     },
     "metadata": {},
     "output_type": "display_data"
    },
    {
     "output_type": "stream",
     "name": "stderr",
     "output_type": "stream",
     "text": [
      "[I 2025-04-06 15:13:23,788] Trial 0 finished with value: 0.6805324899936469 and parameters: {'step_size': 0.26139811980844574, 'subsample_rate': 0.9006490494294722, 'min_instances_per_node': 12}. Best is trial 0 with value: 0.6805324899936469.\n"
     ]
    },
    {
     "output_type": "display_data",
     "data": {
      "application/vnd.jupyter.widget-view+json": {
       "model_id": "61ecb7f67fcb498dbf37429693cc346e",
       "version_major": 2,
       "version_minor": 0
      },
      "text/plain": [
       "Downloading artifacts:   0%|          | 0/45 [00:00<?, ?it/s]"
      ]
     },
     "metadata": {},
     "output_type": "display_data"
    },
    {
     "output_type": "display_data",
     "data": {
      "application/vnd.jupyter.widget-view+json": {
       "model_id": "f2229886c9f4445f9fcfc489ceb33f7b",
       "version_major": 2,
       "version_minor": 0
      },
      "text/plain": [
       "Uploading artifacts:   0%|          | 0/4 [00:00<?, ?it/s]"
      ]
     },
     "metadata": {},
     "output_type": "display_data"
    },
    {
     "output_type": "display_data",
     "data": {
      "application/vnd.jupyter.widget-view+json": {
       "model_id": "33bd1c973f8b45db93fe43a59a52bce6",
       "version_major": 2,
       "version_minor": 0
      },
      "text/plain": [
       "Downloading artifacts:   0%|          | 0/20 [00:00<?, ?it/s]"
      ]
     },
     "metadata": {},
     "output_type": "display_data"
    },
    {
     "output_type": "display_data",
     "data": {
      "application/vnd.jupyter.widget-view+json": {
       "model_id": "3e47b1ff49de467eb66cab035e15959f",
       "version_major": 2,
       "version_minor": 0
      },
      "text/plain": [
       "Uploading artifacts:   0%|          | 0/4 [00:00<?, ?it/s]"
      ]
     },
     "metadata": {},
     "output_type": "display_data"
    },
    {
     "output_type": "stream",
     "name": "stderr",
     "output_type": "stream",
     "text": [
      "[I 2025-04-06 15:22:17,010] Trial 1 finished with value: 0.6773600112892705 and parameters: {'step_size': 0.15180290080336026, 'subsample_rate': 0.9119571386066195, 'min_instances_per_node': 17}. Best is trial 0 with value: 0.6805324899936469.\n"
     ]
    },
    {
     "output_type": "display_data",
     "data": {
      "application/vnd.jupyter.widget-view+json": {
       "model_id": "9e1c1304d6f8430c81a0d01973d680b6",
       "version_major": 2,
       "version_minor": 0
      },
      "text/plain": [
       "Downloading artifacts:   0%|          | 0/45 [00:00<?, ?it/s]"
      ]
     },
     "metadata": {},
     "output_type": "display_data"
    },
    {
     "output_type": "display_data",
     "data": {
      "application/vnd.jupyter.widget-view+json": {
       "model_id": "d199fe2b8be84d1799aa68cb5fed32d7",
       "version_major": 2,
       "version_minor": 0
      },
      "text/plain": [
       "Uploading artifacts:   0%|          | 0/4 [00:00<?, ?it/s]"
      ]
     },
     "metadata": {},
     "output_type": "display_data"
    },
    {
     "output_type": "display_data",
     "data": {
      "application/vnd.jupyter.widget-view+json": {
       "model_id": "59458e881f2c45be9b6bd9fd7b12a603",
       "version_major": 2,
       "version_minor": 0
      },
      "text/plain": [
       "Downloading artifacts:   0%|          | 0/20 [00:00<?, ?it/s]"
      ]
     },
     "metadata": {},
     "output_type": "display_data"
    },
    {
     "output_type": "display_data",
     "data": {
      "application/vnd.jupyter.widget-view+json": {
       "model_id": "1b538cf4d0e94bee8097cf32ad5448b6",
       "version_major": 2,
       "version_minor": 0
      },
      "text/plain": [
       "Uploading artifacts:   0%|          | 0/4 [00:00<?, ?it/s]"
      ]
     },
     "metadata": {},
     "output_type": "display_data"
    },
    {
     "output_type": "stream",
     "name": "stderr",
     "output_type": "stream",
     "text": [
      "[I 2025-04-06 15:31:07,565] Trial 2 finished with value: 0.6507202419334549 and parameters: {'step_size': 0.28173182270977243, 'subsample_rate': 0.9270042893960543, 'min_instances_per_node': 14}. Best is trial 0 with value: 0.6805324899936469.\n"
     ]
    },
    {
     "output_type": "display_data",
     "data": {
      "application/vnd.jupyter.widget-view+json": {
       "model_id": "0fe94c2351404f9b906b52005d85c480",
       "version_major": 2,
       "version_minor": 0
      },
      "text/plain": [
       "Downloading artifacts:   0%|          | 0/45 [00:00<?, ?it/s]"
      ]
     },
     "metadata": {},
     "output_type": "display_data"
    },
    {
     "output_type": "display_data",
     "data": {
      "application/vnd.jupyter.widget-view+json": {
       "model_id": "13f7c3f833e54712a334de6fefe5570d",
       "version_major": 2,
       "version_minor": 0
      },
      "text/plain": [
       "Uploading artifacts:   0%|          | 0/4 [00:00<?, ?it/s]"
      ]
     },
     "metadata": {},
     "output_type": "display_data"
    },
    {
     "output_type": "display_data",
     "data": {
      "application/vnd.jupyter.widget-view+json": {
       "model_id": "e5a1c05e550547d5974f331a68bf50b0",
       "version_major": 2,
       "version_minor": 0
      },
      "text/plain": [
       "Downloading artifacts:   0%|          | 0/20 [00:00<?, ?it/s]"
      ]
     },
     "metadata": {},
     "output_type": "display_data"
    },
    {
     "output_type": "display_data",
     "data": {
      "application/vnd.jupyter.widget-view+json": {
       "model_id": "5c7fdb0eefef4ff2bc5c1b4aa90f1d73",
       "version_major": 2,
       "version_minor": 0
      },
      "text/plain": [
       "Uploading artifacts:   0%|          | 0/4 [00:00<?, ?it/s]"
      ]
     },
     "metadata": {},
     "output_type": "display_data"
    },
    {
     "output_type": "stream",
     "name": "stderr",
     "output_type": "stream",
     "text": [
      "[I 2025-04-06 15:39:57,618] Trial 3 finished with value: 0.6622461650983679 and parameters: {'step_size': 0.1960915767141762, 'subsample_rate': 0.6593576303624354, 'min_instances_per_node': 9}. Best is trial 0 with value: 0.6805324899936469.\n"
     ]
    },
    {
     "output_type": "display_data",
     "data": {
      "application/vnd.jupyter.widget-view+json": {
       "model_id": "fdbbe0e3053a4736a436e62542d0d276",
       "version_major": 2,
       "version_minor": 0
      },
      "text/plain": [
       "Downloading artifacts:   0%|          | 0/45 [00:00<?, ?it/s]"
      ]
     },
     "metadata": {},
     "output_type": "display_data"
    },
    {
     "output_type": "display_data",
     "data": {
      "application/vnd.jupyter.widget-view+json": {
       "model_id": "8c8c013480264b45ba07e15565fc090a",
       "version_major": 2,
       "version_minor": 0
      },
      "text/plain": [
       "Uploading artifacts:   0%|          | 0/4 [00:00<?, ?it/s]"
      ]
     },
     "metadata": {},
     "output_type": "display_data"
    },
    {
     "output_type": "display_data",
     "data": {
      "application/vnd.jupyter.widget-view+json": {
       "model_id": "ce9638ee20ae40b9a80412fc1bd99afe",
       "version_major": 2,
       "version_minor": 0
      },
      "text/plain": [
       "Downloading artifacts:   0%|          | 0/20 [00:00<?, ?it/s]"
      ]
     },
     "metadata": {},
     "output_type": "display_data"
    },
    {
     "output_type": "display_data",
     "data": {
      "application/vnd.jupyter.widget-view+json": {
       "model_id": "86efd283c21c4e0eb7971393aa59bb50",
       "version_major": 2,
       "version_minor": 0
      },
      "text/plain": [
       "Uploading artifacts:   0%|          | 0/4 [00:00<?, ?it/s]"
      ]
     },
     "metadata": {},
     "output_type": "display_data"
    },
    {
     "output_type": "stream",
     "name": "stderr",
     "output_type": "stream",
     "text": [
      "[I 2025-04-06 15:48:48,252] Trial 4 finished with value: 0.6757780703879214 and parameters: {'step_size': 0.20132630456022219, 'subsample_rate': 0.9966850075265519, 'min_instances_per_node': 18}. Best is trial 0 with value: 0.6805324899936469.\n"
     ]
    },
    {
     "output_type": "display_data",
     "data": {
      "application/vnd.jupyter.widget-view+json": {
       "model_id": "a8608fb71c5744e791777a57ad48b448",
       "version_major": 2,
       "version_minor": 0
      },
      "text/plain": [
       "Downloading artifacts:   0%|          | 0/45 [00:00<?, ?it/s]"
      ]
     },
     "metadata": {},
     "output_type": "display_data"
    },
    {
     "output_type": "display_data",
     "data": {
      "application/vnd.jupyter.widget-view+json": {
       "model_id": "fdaf65cc2e7b4299852527baa13c1b71",
       "version_major": 2,
       "version_minor": 0
      },
      "text/plain": [
       "Uploading artifacts:   0%|          | 0/4 [00:00<?, ?it/s]"
      ]
     },
     "metadata": {},
     "output_type": "display_data"
    },
    {
     "output_type": "display_data",
     "data": {
      "application/vnd.jupyter.widget-view+json": {
       "model_id": "07a346b3b80e478a8d9ec8ff9dfe6169",
       "version_major": 2,
       "version_minor": 0
      },
      "text/plain": [
       "Downloading artifacts:   0%|          | 0/20 [00:00<?, ?it/s]"
      ]
     },
     "metadata": {},
     "output_type": "display_data"
    },
    {
     "output_type": "display_data",
     "data": {
      "application/vnd.jupyter.widget-view+json": {
       "model_id": "08201b2d03584a18b588078ee2e8b5c8",
       "version_major": 2,
       "version_minor": 0
      },
      "text/plain": [
       "Uploading artifacts:   0%|          | 0/4 [00:00<?, ?it/s]"
      ]
     },
     "metadata": {},
     "output_type": "display_data"
    },
    {
     "output_type": "stream",
     "name": "stderr",
     "output_type": "stream",
     "text": [
      "[I 2025-04-06 15:57:34,873] Trial 5 finished with value: 0.6690939826001565 and parameters: {'step_size': 0.19610589845491289, 'subsample_rate': 0.7293680585565592, 'min_instances_per_node': 12}. Best is trial 0 with value: 0.6805324899936469.\n"
     ]
    },
    {
     "output_type": "display_data",
     "data": {
      "application/vnd.jupyter.widget-view+json": {
       "model_id": "dced0d33c5d04986884c8cd8a587e12b",
       "version_major": 2,
       "version_minor": 0
      },
      "text/plain": [
       "Downloading artifacts:   0%|          | 0/45 [00:00<?, ?it/s]"
      ]
     },
     "metadata": {},
     "output_type": "display_data"
    },
    {
     "output_type": "display_data",
     "data": {
      "application/vnd.jupyter.widget-view+json": {
       "model_id": "784fffb35efa411faab6888919307268",
       "version_major": 2,
       "version_minor": 0
      },
      "text/plain": [
       "Uploading artifacts:   0%|          | 0/4 [00:00<?, ?it/s]"
      ]
     },
     "metadata": {},
     "output_type": "display_data"
    },
    {
     "output_type": "display_data",
     "data": {
      "application/vnd.jupyter.widget-view+json": {
       "model_id": "b2053e6ae38b4b80bf1edbdef6507c03",
       "version_major": 2,
       "version_minor": 0
      },
      "text/plain": [
       "Downloading artifacts:   0%|          | 0/20 [00:00<?, ?it/s]"
      ]
     },
     "metadata": {},
     "output_type": "display_data"
    },
    {
     "output_type": "display_data",
     "data": {
      "application/vnd.jupyter.widget-view+json": {
       "model_id": "a561591a400f4f398733d4b7b04446fe",
       "version_major": 2,
       "version_minor": 0
      },
      "text/plain": [
       "Uploading artifacts:   0%|          | 0/4 [00:00<?, ?it/s]"
      ]
     },
     "metadata": {},
     "output_type": "display_data"
    },
    {
     "output_type": "stream",
     "name": "stderr",
     "output_type": "stream",
     "text": [
      "[I 2025-04-06 16:06:27,997] Trial 6 finished with value: 0.6542091077642491 and parameters: {'step_size': 0.28197539463764937, 'subsample_rate': 0.7657553371737382, 'min_instances_per_node': 20}. Best is trial 0 with value: 0.6805324899936469.\n"
     ]
    },
    {
     "output_type": "display_data",
     "data": {
      "application/vnd.jupyter.widget-view+json": {
       "model_id": "33c83e5390664eeda2734052e5da2bf1",
       "version_major": 2,
       "version_minor": 0
      },
      "text/plain": [
       "Downloading artifacts:   0%|          | 0/45 [00:00<?, ?it/s]"
      ]
     },
     "metadata": {},
     "output_type": "display_data"
    },
    {
     "output_type": "display_data",
     "data": {
      "application/vnd.jupyter.widget-view+json": {
       "model_id": "7c146572795a4b3686e96f315e20a4b4",
       "version_major": 2,
       "version_minor": 0
      },
      "text/plain": [
       "Uploading artifacts:   0%|          | 0/4 [00:00<?, ?it/s]"
      ]
     },
     "metadata": {},
     "output_type": "display_data"
    },
    {
     "output_type": "display_data",
     "data": {
      "application/vnd.jupyter.widget-view+json": {
       "model_id": "bc3a00437563422daeb1e61888d62547",
       "version_major": 2,
       "version_minor": 0
      },
      "text/plain": [
       "Downloading artifacts:   0%|          | 0/20 [00:00<?, ?it/s]"
      ]
     },
     "metadata": {},
     "output_type": "display_data"
    },
    {
     "output_type": "display_data",
     "data": {
      "application/vnd.jupyter.widget-view+json": {
       "model_id": "6b83fd4488294b3e954e6708b8106fa4",
       "version_major": 2,
       "version_minor": 0
      },
      "text/plain": [
       "Uploading artifacts:   0%|          | 0/4 [00:00<?, ?it/s]"
      ]
     },
     "metadata": {},
     "output_type": "display_data"
    },
    {
     "output_type": "stream",
     "name": "stderr",
     "output_type": "stream",
     "text": [
      "[I 2025-04-06 16:15:25,750] Trial 7 finished with value: 0.6712950996456559 and parameters: {'step_size': 0.13230586304870431, 'subsample_rate': 0.6516526940336156, 'min_instances_per_node': 20}. Best is trial 0 with value: 0.6805324899936469.\n"
     ]
    },
    {
     "output_type": "display_data",
     "data": {
      "application/vnd.jupyter.widget-view+json": {
       "model_id": "2d19a27d481b43e3bf821dec5b90b534",
       "version_major": 2,
       "version_minor": 0
      },
      "text/plain": [
       "Downloading artifacts:   0%|          | 0/45 [00:00<?, ?it/s]"
      ]
     },
     "metadata": {},
     "output_type": "display_data"
    },
    {
     "output_type": "display_data",
     "data": {
      "application/vnd.jupyter.widget-view+json": {
       "model_id": "72f0fde419b64eeb897c76f31ddf7821",
       "version_major": 2,
       "version_minor": 0
      },
      "text/plain": [
       "Uploading artifacts:   0%|          | 0/4 [00:00<?, ?it/s]"
      ]
     },
     "metadata": {},
     "output_type": "display_data"
    },
    {
     "output_type": "display_data",
     "data": {
      "application/vnd.jupyter.widget-view+json": {
       "model_id": "8b0123fcd073428c811a831a1137ab12",
       "version_major": 2,
       "version_minor": 0
      },
      "text/plain": [
       "Downloading artifacts:   0%|          | 0/20 [00:00<?, ?it/s]"
      ]
     },
     "metadata": {},
     "output_type": "display_data"
    },
    {
     "output_type": "display_data",
     "data": {
      "application/vnd.jupyter.widget-view+json": {
       "model_id": "539420de88cb405f9272f0f98e2f5c9a",
       "version_major": 2,
       "version_minor": 0
      },
      "text/plain": [
       "Uploading artifacts:   0%|          | 0/4 [00:00<?, ?it/s]"
      ]
     },
     "metadata": {},
     "output_type": "display_data"
    },
    {
     "output_type": "stream",
     "name": "stderr",
     "output_type": "stream",
     "text": [
      "[I 2025-04-06 16:24:16,601] Trial 8 finished with value: 0.6597390935964283 and parameters: {'step_size': 0.23917847432938055, 'subsample_rate': 0.7658890745638423, 'min_instances_per_node': 20}. Best is trial 0 with value: 0.6805324899936469.\n"
     ]
    },
    {
     "output_type": "display_data",
     "data": {
      "application/vnd.jupyter.widget-view+json": {
       "model_id": "6e6ba78ee45d404593ba0bddfa458429",
       "version_major": 2,
       "version_minor": 0
      },
      "text/plain": [
       "Downloading artifacts:   0%|          | 0/45 [00:00<?, ?it/s]"
      ]
     },
     "metadata": {},
     "output_type": "display_data"
    },
    {
     "output_type": "display_data",
     "data": {
      "application/vnd.jupyter.widget-view+json": {
       "model_id": "db07e2e3b62c48f5a569dde26bb79230",
       "version_major": 2,
       "version_minor": 0
      },
      "text/plain": [
       "Uploading artifacts:   0%|          | 0/4 [00:00<?, ?it/s]"
      ]
     },
     "metadata": {},
     "output_type": "display_data"
    },
    {
     "output_type": "display_data",
     "data": {
      "application/vnd.jupyter.widget-view+json": {
       "model_id": "99bc521200b64826bbb0033d0f1d9fc9",
       "version_major": 2,
       "version_minor": 0
      },
      "text/plain": [
       "Downloading artifacts:   0%|          | 0/20 [00:00<?, ?it/s]"
      ]
     },
     "metadata": {},
     "output_type": "display_data"
    },
    {
     "output_type": "display_data",
     "data": {
      "application/vnd.jupyter.widget-view+json": {
       "model_id": "cc643b6817b141d1a50a374e9ba00f9a",
       "version_major": 2,
       "version_minor": 0
      },
      "text/plain": [
       "Uploading artifacts:   0%|          | 0/4 [00:00<?, ?it/s]"
      ]
     },
     "metadata": {},
     "output_type": "display_data"
    },
    {
     "output_type": "stream",
     "name": "stderr",
     "output_type": "stream",
     "text": [
      "[I 2025-04-06 16:33:14,372] Trial 9 finished with value: 0.663790916353789 and parameters: {'step_size': 0.28855651990231784, 'subsample_rate': 0.6340867343349439, 'min_instances_per_node': 18}. Best is trial 0 with value: 0.6805324899936469.\n"
     ]
    }
   ],
   "source": [
    "# Create study object\n",
    "study = optuna.create_study(direction=\"maximize\")\n",
    "\n",
    "study.optimize(objective_func, n_trials=10)"
   ]
  },
  {
   "cell_type": "code",
   "execution_count": 0,
   "metadata": {
    "application/vnd.databricks.v1+cell": {
     "cellMetadata": {
      "byteLimit": 2048000,
      "rowLimit": 10000
     },
     "inputWidgets": {},
     "nuid": "baed2acd-46cb-4d16-9eba-da74badb1945",
     "showTitle": false,
     "tableResultSettingsMap": {},
     "title": ""
    }
   },
   "outputs": [
    {
     "output_type": "stream",
     "name": "stdout",
     "output_type": "stream",
     "text": [
      "Best hyperparameters: {'step_size': 0.26139811980844574, 'subsample_rate': 0.9006490494294722, 'min_instances_per_node': 12}\nBest metric value: 0.6805324899936469\n"
     ]
    }
   ],
   "source": [
    "# Get the best hyperparameters from the study\n",
    "best_params = study.best_params\n",
    "print(f\"Best hyperparameters: {best_params}\")\n",
    "print(f\"Best metric value: {study.best_value}\")"
   ]
  },
  {
   "cell_type": "code",
   "execution_count": 0,
   "metadata": {
    "application/vnd.databricks.v1+cell": {
     "cellMetadata": {
      "byteLimit": 2048000,
      "rowLimit": 10000
     },
     "inputWidgets": {},
     "nuid": "e7716241-a9f0-4add-876a-49103e303d68",
     "showTitle": false,
     "tableResultSettingsMap": {},
     "title": ""
    }
   },
   "outputs": [],
   "source": [
    "# Create the best model with optimal hyperparameters\n",
    "best_gbt = GBTClassifier(\n",
    "    featuresCol=\"features\", \n",
    "    labelCol=\"label\", \n",
    "    maxDepth=3,\n",
    "    stepSize=best_params['step_size'],\n",
    "    subsamplingRate=best_params['subsample_rate'],\n",
    "    minInstancesPerNode=best_params['min_instances_per_node'],\n",
    "    weightCol=\"class_weight\"\n",
    ")"
   ]
  },
  {
   "cell_type": "code",
   "execution_count": 0,
   "metadata": {
    "application/vnd.databricks.v1+cell": {
     "cellMetadata": {
      "byteLimit": 2048000,
      "rowLimit": 10000
     },
     "inputWidgets": {},
     "nuid": "9e4df807-16f4-4379-8c3a-cc04b049efd2",
     "showTitle": false,
     "tableResultSettingsMap": {},
     "title": ""
    }
   },
   "outputs": [
    {
     "output_type": "display_data",
     "data": {
      "application/vnd.jupyter.widget-view+json": {
       "model_id": "82ffde75dbb64c1696446d5ffb8208dc",
       "version_major": 2,
       "version_minor": 0
      },
      "text/plain": [
       "Downloading artifacts:   0%|          | 0/20 [00:00<?, ?it/s]"
      ]
     },
     "metadata": {},
     "output_type": "display_data"
    },
    {
     "output_type": "display_data",
     "data": {
      "application/vnd.jupyter.widget-view+json": {
       "model_id": "c148229dfd5747d8b8ad1c78486338ac",
       "version_major": 2,
       "version_minor": 0
      },
      "text/plain": [
       "Uploading artifacts:   0%|          | 0/4 [00:00<?, ?it/s]"
      ]
     },
     "metadata": {},
     "output_type": "display_data"
    }
   ],
   "source": [
    "# Create and fit the final pipeline\n",
    "best_pipeline = Pipeline(stages=[best_gbt])\n",
    "best_model = best_pipeline.fit(train_prepared_filtered)"
   ]
  },
  {
   "cell_type": "code",
   "execution_count": 0,
   "metadata": {
    "application/vnd.databricks.v1+cell": {
     "cellMetadata": {
      "byteLimit": 2048000,
      "rowLimit": 10000
     },
     "inputWidgets": {},
     "nuid": "c6d7749e-9591-4853-9db7-cf21438e7eb3",
     "showTitle": false,
     "tableResultSettingsMap": {},
     "title": ""
    }
   },
   "outputs": [],
   "source": [
    "auc_evaluator = BinaryClassificationEvaluator(\n",
    "    labelCol=\"label\", \n",
    "    rawPredictionCol=\"rawPrediction\", \n",
    "    metricName=\"areaUnderROC\"\n",
    ")\n",
    "\n",
    "auprc_evaluator = BinaryClassificationEvaluator(\n",
    "    labelCol=\"label\", \n",
    "    rawPredictionCol=\"rawPrediction\", \n",
    "    metricName=\"areaUnderPR\"\n",
    ")\n",
    "\n",
    "precision_evaluator = MulticlassClassificationEvaluator(\n",
    "    labelCol=\"label\", \n",
    "    predictionCol=\"prediction\",\n",
    "    metricName=\"weightedPrecision\"\n",
    ")\n",
    "recall_evaluator = MulticlassClassificationEvaluator(\n",
    "    labelCol=\"label\", \n",
    "    predictionCol=\"prediction\",\n",
    "    metricName=\"weightedRecall\"\n",
    ")\n",
    "f1_evaluator = MulticlassClassificationEvaluator(\n",
    "    labelCol=\"label\", \n",
    "    predictionCol=\"prediction\",\n",
    "    metricName=\"f1\"\n",
    ")"
   ]
  },
  {
   "cell_type": "code",
   "execution_count": 0,
   "metadata": {
    "application/vnd.databricks.v1+cell": {
     "cellMetadata": {
      "byteLimit": 2048000,
      "rowLimit": 10000
     },
     "inputWidgets": {},
     "nuid": "4eaed375-b4d8-4d5f-b0c6-6103edc47a3b",
     "showTitle": false,
     "tableResultSettingsMap": {},
     "title": ""
    }
   },
   "outputs": [],
   "source": [
    "train_predictions = best_model.transform(train_prepared_filtered )"
   ]
  },
  {
   "cell_type": "code",
   "execution_count": 0,
   "metadata": {
    "application/vnd.databricks.v1+cell": {
     "cellMetadata": {
      "byteLimit": 2048000,
      "rowLimit": 10000
     },
     "inputWidgets": {},
     "nuid": "f1234b3f-e9b1-4c1f-a370-3a0908937f25",
     "showTitle": false,
     "tableResultSettingsMap": {},
     "title": ""
    }
   },
   "outputs": [
    {
     "output_type": "stream",
     "name": "stdout",
     "output_type": "stream",
     "text": [
      "Precision: 0.9981907119004729\nRecall: 0.8149557993524023\nF1 Score: 0.8965189101846868\nAUC: 0.9162940418611235\nAUPRC: 0.016974585551475827\n"
     ]
    }
   ],
   "source": [
    "auprc = auprc_evaluator.evaluate(train_predictions)\n",
    "auc = auc_evaluator.evaluate(train_predictions)\n",
    "precision = precision_evaluator.evaluate(train_predictions)\n",
    "recall = recall_evaluator.evaluate(train_predictions)\n",
    "f1 = f1_evaluator.evaluate(train_predictions)\n",
    "\n",
    "print(f\"Precision: {precision}\")\n",
    "print(f\"Recall: {recall}\")\n",
    "print(f\"F1 Score: {f1}\")\n",
    "print(f\"AUC: {auc}\")\n",
    "print(f\"AUPRC: {auprc}\")"
   ]
  },
  {
   "cell_type": "code",
   "execution_count": 0,
   "metadata": {
    "application/vnd.databricks.v1+cell": {
     "cellMetadata": {
      "byteLimit": 2048000,
      "rowLimit": 10000
     },
     "inputWidgets": {},
     "nuid": "148f193f-e15e-4769-a94d-0fda0b4970bc",
     "showTitle": false,
     "tableResultSettingsMap": {},
     "title": ""
    }
   },
   "outputs": [],
   "source": [
    "# Calculate metrics using PySpark DataFrame operations\n",
    "from pyspark.sql.functions import sum, when, col\n",
    "\n",
    "# Calculate TP, FP, TN, FN using DataFrame operations\n",
    "metrics = train_predictions.select(\n",
    "    sum(when(col(\"prediction\") == 1.0, 1).otherwise(0)).alias(\"predicted_positives\"),\n",
    "    sum(when(col(\"label\") == 1.0, 1).otherwise(0)).alias(\"actual_positives\"),\n",
    "    sum(when((col(\"prediction\") == 1.0) & (col(\"label\") == 1.0), 1).otherwise(0)).alias(\"true_positives\"),\n",
    "    sum(when((col(\"prediction\") == 1.0) & (col(\"label\") == 0.0), 1).otherwise(0)).alias(\"false_positives\"),\n",
    "    sum(when((col(\"prediction\") == 0.0) & (col(\"label\") == 0.0), 1).otherwise(0)).alias(\"true_negatives\"),\n",
    "    sum(when((col(\"prediction\") == 0.0) & (col(\"label\") == 1.0), 1).otherwise(0)).alias(\"false_negatives\")\n",
    ").collect()[0]\n",
    "\n",
    "# Extract values from the Row\n",
    "predicted_positives = metrics.predicted_positives\n",
    "actual_positives = metrics.actual_positives\n",
    "actual_negatives = train_predictions.count() - actual_positives\n",
    "true_positives = metrics.true_positives\n",
    "false_positives = metrics.false_positives\n",
    "true_negatives = metrics.true_negatives\n",
    "false_negatives = metrics.false_negatives\n",
    "\n",
    "# Calculate TPR, FPR, and PPV\n",
    "tpr = float(true_positives) / float(actual_positives) if actual_positives > 0 else 0.0\n",
    "fpr = float(false_positives) / float(actual_negatives) if actual_negatives > 0 else 0.0\n",
    "ppv = float(true_positives) / float(predicted_positives) if predicted_positives > 0 else 0.0"
   ]
  },
  {
   "cell_type": "code",
   "execution_count": 0,
   "metadata": {
    "application/vnd.databricks.v1+cell": {
     "cellMetadata": {
      "byteLimit": 2048000,
      "rowLimit": 10000
     },
     "inputWidgets": {},
     "nuid": "c7b80ea8-11e5-41fe-bc22-b813697588b1",
     "showTitle": false,
     "tableResultSettingsMap": {},
     "title": ""
    }
   },
   "outputs": [
    {
     "output_type": "stream",
     "name": "stdout",
     "output_type": "stream",
     "text": [
      "TPR (True Positive Rate): 0.8615\nFPR (False Positive Rate): 0.1851\nPPV (Positive Predictive Value): 0.0072\n"
     ]
    }
   ],
   "source": [
    "print(f\"TPR (True Positive Rate): {tpr:.4f}\")\n",
    "print(f\"FPR (False Positive Rate): {fpr:.4f}\")\n",
    "print(f\"PPV (Positive Predictive Value): {ppv:.4f}\")"
   ]
  },
  {
   "cell_type": "code",
   "execution_count": 0,
   "metadata": {
    "application/vnd.databricks.v1+cell": {
     "cellMetadata": {
      "byteLimit": 2048000,
      "rowLimit": 10000
     },
     "inputWidgets": {},
     "nuid": "7eb9edce-09bd-4775-b4b1-62f3a9fb13c1",
     "showTitle": false,
     "tableResultSettingsMap": {},
     "title": ""
    }
   },
   "outputs": [
    {
     "output_type": "stream",
     "name": "stderr",
     "output_type": "stream",
     "text": [
      "WARNING:matplotlib.legend:No artists with labels found to put in legend.  Note that artists whose label start with an underscore are ignored when legend() is called with no argument.\n"
     ]
    },
    {
     "output_type": "display_data",
     "data": {
      "image/png": "[encoded data removed]",
      "text/plain": [
       "<Figure size 2000x1600 with 5 Axes>"
      ]
     },
     "metadata": {},
     "output_type": "display_data"
    }
   ],
   "source": [
    "pandas_df = train_predictions.select(\"label\", \"prediction\", \"probability\").toPandas()\n",
    "pandas_df[\"probability_pos\"] = pandas_df[\"probability\"].apply(lambda x: x[1])\n",
    "\n",
    "# Get data for calculations\n",
    "y_true = pandas_df[\"label\"]\n",
    "y_pred = pandas_df[\"prediction\"]\n",
    "y_prob = pandas_df[\"probability_pos\"]\n",
    "\n",
    "threshold = 0.5 \n",
    "\n",
    "# Multiple subplots\n",
    "fig = plt.figure(figsize=(20, 16))\n",
    "\n",
    "# 1. ROC Curve\n",
    "fpr, tpr, thresholds_roc = roc_curve(y_true, y_prob)\n",
    "\n",
    "ax1 = plt.subplot(2, 2, 1)\n",
    "ax1.plot(fpr, tpr)\n",
    "ax1.plot([0, 1], [0, 1], 'k--')\n",
    "ax1.set_xlabel('False Positive Rate')\n",
    "ax1.set_ylabel('True Positive Rate')\n",
    "ax1.set_title('ROC Curve', fontsize=14)\n",
    "ax1.legend()\n",
    "ax1.grid(alpha=0.3)\n",
    "\n",
    "# 2. Precision-Recall Curve\n",
    "precision_curve, recall_curve, thresholds_pr = precision_recall_curve(y_true, y_prob)\n",
    "\n",
    "ax2 = plt.subplot(2, 2, 2)\n",
    "ax2.plot(recall_curve, precision_curve, linewidth=2, label=f'AUPRC = {auprc:.3f}')\n",
    "ax2.set_xlabel('Recall')\n",
    "ax2.set_ylabel('Precision')\n",
    "ax2.set_title('Precision-Recall Curve', fontsize=14)\n",
    "ax2.legend()\n",
    "ax2.grid(alpha=0.3)\n",
    "\n",
    "# 3. Sensitivity vs Specificity at different thresholds\n",
    "thresholds_range = np.linspace(0, 1, 100)\n",
    "sensitivity = []\n",
    "specificity = []\n",
    "\n",
    "for t in thresholds_range:\n",
    "    y_pred_t = (y_prob >= t).astype(int)\n",
    "    tn, fp, fn, tp = confusion_matrix(y_true, y_pred_t).ravel()\n",
    "    \n",
    "    sens = tp / (tp + fn) if (tp + fn) > 0 else 0\n",
    "    spec = tn / (tn + fp) if (tn + fp) > 0 else 0\n",
    "    \n",
    "    sensitivity.append(sens)\n",
    "    specificity.append(spec)\n",
    "\n",
    "ax3 = plt.subplot(2, 2, 3)\n",
    "ax3.plot(thresholds_range, sensitivity, 'r-', linewidth=2, label='Sensitivity')\n",
    "ax3.plot(thresholds_range, specificity, 'b-', linewidth=2, label='Specificity')\n",
    "ax3.axvline(x=threshold, color='k', linestyle='--', alpha=0.5)\n",
    "ax3.set_xlabel('Threshold')\n",
    "ax3.set_ylabel('Value')\n",
    "ax3.set_title('Sensitivity vs Specificity', fontsize=14)\n",
    "ax3.legend()\n",
    "ax3.grid(alpha=0.3)\n",
    "\n",
    "# 4. Confusion Matrix\n",
    "cm = confusion_matrix(y_true, y_pred)\n",
    "\n",
    "ax4 = plt.subplot(2, 2, 4)\n",
    "ConfusionMatrixDisplay(cm, display_labels=[\"Negative\", \"Positive\"]).plot(ax=ax4, cmap='Blues', values_format='d')\n",
    "ax4.set_title('Confusion Matrix', fontsize=14)\n",
    "\n",
    "\n",
    "plt.suptitle(\"Model Evaluation Metrics (Train Data)\", fontsize=16, y=0.98)\n",
    "\n",
    "plt.tight_layout(rect=[0, 0.08, 1, 0.95])"
   ]
  },
  {
   "cell_type": "code",
   "execution_count": 0,
   "metadata": {
    "application/vnd.databricks.v1+cell": {
     "cellMetadata": {
      "byteLimit": 2048000,
      "rowLimit": 10000
     },
     "inputWidgets": {},
     "nuid": "bd4af7dd-a80c-4db6-bc1d-a0a504fa5960",
     "showTitle": false,
     "tableResultSettingsMap": {},
     "title": ""
    }
   },
   "outputs": [],
   "source": [
    "test_predictions = best_model.transform(test_prepared_filtered )"
   ]
  },
  {
   "cell_type": "code",
   "execution_count": 0,
   "metadata": {
    "application/vnd.databricks.v1+cell": {
     "cellMetadata": {
      "byteLimit": 2048000,
      "rowLimit": 10000
     },
     "inputWidgets": {},
     "nuid": "f86ce8e3-01ff-4a38-8478-16421a041435",
     "showTitle": false,
     "tableResultSettingsMap": {},
     "title": ""
    }
   },
   "outputs": [],
   "source": [
    "auprc = auprc_evaluator.evaluate(test_predictions)\n",
    "auc = auc_evaluator.evaluate(test_predictions)\n",
    "precision = precision_evaluator.evaluate(test_predictions)\n",
    "recall = recall_evaluator.evaluate(test_predictions)\n",
    "f1 = f1_evaluator.evaluate(test_predictions)"
   ]
  },
  {
   "cell_type": "code",
   "execution_count": 0,
   "metadata": {
    "application/vnd.databricks.v1+cell": {
     "cellMetadata": {
      "byteLimit": 2048000,
      "rowLimit": 10000
     },
     "inputWidgets": {},
     "nuid": "bbd590ee-2dfe-4cd9-be1a-168d814b025e",
     "showTitle": false,
     "tableResultSettingsMap": {},
     "title": ""
    }
   },
   "outputs": [
    {
     "output_type": "stream",
     "name": "stdout",
     "output_type": "stream",
     "text": [
      "Precision: 0.9954207791491896\nRecall: 0.7799474277131054\nF1 Score: 0.8742029869681178\nAUC: 0.5591897169183894\nAUPRC: 0.0029287603291472683\n"
     ]
    }
   ],
   "source": [
    "print(f\"Precision: {precision}\")\n",
    "print(f\"Recall: {recall}\")\n",
    "print(f\"F1 Score: {f1}\")\n",
    "print(f\"AUC: {auc}\")\n",
    "print(f\"AUPRC: {auprc}\")"
   ]
  },
  {
   "cell_type": "code",
   "execution_count": 0,
   "metadata": {
    "application/vnd.databricks.v1+cell": {
     "cellMetadata": {
      "byteLimit": 2048000,
      "rowLimit": 10000
     },
     "inputWidgets": {},
     "nuid": "5923f2b8-eba3-46f1-a710-f33c9faa2478",
     "showTitle": false,
     "tableResultSettingsMap": {},
     "title": ""
    }
   },
   "outputs": [],
   "source": [
    "# Calculate metrics using PySpark DataFrame operations\n",
    "from pyspark.sql.functions import sum, when, col\n",
    "\n",
    "# Calculate TP, FP, TN, FN using DataFrame operations\n",
    "metrics = test_predictions.select(\n",
    "    sum(when(col(\"prediction\") == 1.0, 1).otherwise(0)).alias(\"predicted_positives\"),\n",
    "    sum(when(col(\"label\") == 1.0, 1).otherwise(0)).alias(\"actual_positives\"),\n",
    "    sum(when((col(\"prediction\") == 1.0) & (col(\"label\") == 1.0), 1).otherwise(0)).alias(\"true_positives\"),\n",
    "    sum(when((col(\"prediction\") == 1.0) & (col(\"label\") == 0.0), 1).otherwise(0)).alias(\"false_positives\"),\n",
    "    sum(when((col(\"prediction\") == 0.0) & (col(\"label\") == 0.0), 1).otherwise(0)).alias(\"true_negatives\"),\n",
    "    sum(when((col(\"prediction\") == 0.0) & (col(\"label\") == 1.0), 1).otherwise(0)).alias(\"false_negatives\")\n",
    ").collect()[0]\n",
    "\n",
    "# Extract values from the Row\n",
    "predicted_positives = metrics.predicted_positives\n",
    "actual_positives = metrics.actual_positives\n",
    "actual_negatives = test_predictions.count() - actual_positives\n",
    "true_positives = metrics.true_positives\n",
    "false_positives = metrics.false_positives\n",
    "true_negatives = metrics.true_negatives\n",
    "false_negatives = metrics.false_negatives\n",
    "\n",
    "# Calculate TPR, FPR, and PPV\n",
    "tpr = float(true_positives) / float(actual_positives) if actual_positives > 0 else 0.0\n",
    "fpr = float(false_positives) / float(actual_negatives) if actual_negatives > 0 else 0.0\n",
    "ppv = float(true_positives) / float(predicted_positives) if predicted_positives > 0 else 0.0"
   ]
  },
  {
   "cell_type": "code",
   "execution_count": 0,
   "metadata": {
    "application/vnd.databricks.v1+cell": {
     "cellMetadata": {
      "byteLimit": 2048000,
      "rowLimit": 10000
     },
     "inputWidgets": {},
     "nuid": "d4d3cfee-e63f-47b1-8575-7763bb4945ba",
     "showTitle": false,
     "tableResultSettingsMap": {},
     "title": ""
    }
   },
   "outputs": [
    {
     "output_type": "stream",
     "name": "stdout",
     "output_type": "stream",
     "text": [
      "TPR (True Positive Rate): 0.2778\nFPR (False Positive Rate): 0.2189\nPPV (Positive Predictive Value): 0.0030\n"
     ]
    }
   ],
   "source": [
    "print(f\"TPR (True Positive Rate): {tpr:.4f}\")\n",
    "print(f\"FPR (False Positive Rate): {fpr:.4f}\")\n",
    "print(f\"PPV (Positive Predictive Value): {ppv:.4f}\")"
   ]
  },
  {
   "cell_type": "markdown",
   "metadata": {
    "application/vnd.databricks.v1+cell": {
     "cellMetadata": {
      "byteLimit": 2048000,
      "rowLimit": 10000
     },
     "inputWidgets": {},
     "nuid": "0789db64-1968-48ba-a9c5-3f93bde062fc",
     "showTitle": false,
     "tableResultSettingsMap": {},
     "title": ""
    }
   },
   "source": [
    "Even though an AUC of 0.86 sounds pretty good, the model has a positive predictive values of 0.0027, meaning that only 0.27% a true positive prediction is correct. A 23.65% false positive rate seems reasonable until you realize that with such a large negative class, this translates to over 10,600 false positives compared to only 29 true positives."
   ]
  },
  {
   "cell_type": "code",
   "execution_count": 0,
   "metadata": {
    "application/vnd.databricks.v1+cell": {
     "cellMetadata": {
      "byteLimit": 2048000,
      "rowLimit": 10000
     },
     "inputWidgets": {},
     "nuid": "a1ab8b87-69fe-435d-9300-179b143f4dad",
     "showTitle": false,
     "tableResultSettingsMap": {},
     "title": ""
    }
   },
   "outputs": [],
   "source": [
    "feature_importances = get_feature_importances(best_model.stages[-1])\n",
    "\n",
    "# Create a DataFrame with feature names and importances\n",
    "feature_importance_list = [(name, float(importance)) for name, importance in zip(feature_names, feature_importances)]\n",
    "feature_importances_df = spark.createDataFrame(feature_importance_list, [\"feature\", \"importance\"])\n",
    "\n",
    "# Sort by importance in descending order\n",
    "feature_importances_df = feature_importances_df.orderBy(\"importance\", ascending=False)"
   ]
  },
  {
   "cell_type": "code",
   "execution_count": 0,
   "metadata": {
    "application/vnd.databricks.v1+cell": {
     "cellMetadata": {
      "byteLimit": 2048000,
      "rowLimit": 10000
     },
     "inputWidgets": {},
     "nuid": "2c1ab4ef-8442-46c3-8da3-3188775d510f",
     "showTitle": false,
     "tableResultSettingsMap": {},
     "title": ""
    }
   },
   "outputs": [
    {
     "output_type": "display_data",
     "data": {
      "text/html": [
       "<style scoped>\n",
       "  .table-result-container {\n",
       "    max-height: 300px;\n",
       "    overflow: auto;\n",
       "  }\n",
       "  table, th, td {\n",
       "    border: 1px solid black;\n",
       "    border-collapse: collapse;\n",
       "  }\n",
       "  th, td {\n",
       "    padding: 5px;\n",
       "  }\n",
       "  th {\n",
       "    text-align: left;\n",
       "  }\n",
       "</style><div class='table-result-container'><table class='table-result'><thead style='background-color: white'><tr><th>feature</th><th>importance</th></tr></thead><tbody><tr><td>rolling_15trip_avg_speed_mph</td><td>0.05871705251883081</td></tr><tr><td>rolling_15day_total_distance</td><td>0.048208701247375564</td></tr><tr><td>driving_year_since_first_trip</td><td>0.04492437443749487</td></tr><tr><td>vehicle_inspection_rate</td><td>0.03931892910054573</td></tr><tr><td>vehicle_rolling_15trip_num_inspect</td><td>0.03585372417336555</td></tr><tr><td>vehicle_rolling_15trip_insp_minutes</td><td>0.0347828518368149</td></tr><tr><td>days_since_last_inspection</td><td>0.03355275817894705</td></tr><tr><td>low_roll15d</td><td>0.0320200150577962</td></tr><tr><td>prev_trip_date_distance</td><td>0.031978196217895626</td></tr><tr><td>cell_phone_roll15d</td><td>0.02999463370336512</td></tr><tr><td>trip_ts_roll15d</td><td>0.029027121283505212</td></tr><tr><td>rolling_15day_total_minutes</td><td>0.02878144291897125</td></tr><tr><td>prev_sum_minutes_driving</td><td>0.028334112598335074</td></tr><tr><td>prev_sum_travel_distance</td><td>0.026394126425260737</td></tr><tr><td>prev_trip_date_minutes</td><td>0.023585151214520553</td></tr><tr><td>vehicle_rolling_15trip_issues_minutes</td><td>0.023428779059287926</td></tr><tr><td>last_has_issues</td><td>0.021882691631029193</td></tr><tr><td>driver_sum_minutes_driving_roll15d</td><td>0.020765586082621426</td></tr><tr><td>previous_trip_date_avg_speed_mph</td><td>0.020224362008739224</td></tr><tr><td>days_since_last_trip</td><td>0.019784855846250077</td></tr><tr><td>prev_pending_review_count</td><td>0.01892387534206013</td></tr><tr><td>vehicle_rolling_15trip_issues_distance</td><td>0.017358760454396733</td></tr><tr><td>tailgating_roll15d</td><td>0.016449990704736548</td></tr><tr><td>forward_collision_warning_roll15d</td><td>0.01638103196849858</td></tr><tr><td>total_events_per_trip_roll15d</td><td>0.015980115607074977</td></tr></tbody></table></div>"
      ]
     },
     "metadata": {
      "application/vnd.databricks.v1+output": {
       "addedWidgets": {},
       "aggData": [],
       "aggError": "",
       "aggOverflow": false,
       "aggSchema": [],
       "aggSeriesLimitReached": false,
       "aggType": "",
       "arguments": {},
       "columnCustomDisplayInfos": {},
       "data": [
        [
         "rolling_15trip_avg_speed_mph",
         0.05871705251883081
        ],
        [
         "rolling_15day_total_distance",
         0.048208701247375564
        ],
        [
         "driving_year_since_first_trip",
         0.04492437443749487
        ],
        [
         "vehicle_inspection_rate",
         0.03931892910054573
        ],
        [
         "vehicle_rolling_15trip_num_inspect",
         0.03585372417336555
        ],
        [
         "vehicle_rolling_15trip_insp_minutes",
         0.0347828518368149
        ],
        [
         "days_since_last_inspection",
         0.03355275817894705
        ],
        [
         "low_roll15d",
         0.0320200150577962
        ],
        [
         "prev_trip_date_distance",
         0.031978196217895626
        ],
        [
         "cell_phone_roll15d",
         0.02999463370336512
        ],
        [
         "trip_ts_roll15d",
         0.029027121283505212
        ],
        [
         "rolling_15day_total_minutes",
         0.02878144291897125
        ],
        [
         "prev_sum_minutes_driving",
         0.028334112598335074
        ],
        [
         "prev_sum_travel_distance",
         0.026394126425260737
        ],
        [
         "prev_trip_date_minutes",
         0.023585151214520553
        ],
        [
         "vehicle_rolling_15trip_issues_minutes",
         0.023428779059287926
        ],
        [
         "last_has_issues",
         0.021882691631029193
        ],
        [
         "driver_sum_minutes_driving_roll15d",
         0.020765586082621426
        ],
        [
         "previous_trip_date_avg_speed_mph",
         0.020224362008739224
        ],
        [
         "days_since_last_trip",
         0.019784855846250077
        ],
        [
         "prev_pending_review_count",
         0.01892387534206013
        ],
        [
         "vehicle_rolling_15trip_issues_distance",
         0.017358760454396733
        ],
        [
         "tailgating_roll15d",
         0.016449990704736548
        ],
        [
         "forward_collision_warning_roll15d",
         0.01638103196849858
        ],
        [
         "total_events_per_trip_roll15d",
         0.015980115607074977
        ]
       ],
       "datasetInfos": [],
       "dbfsResultPath": null,
       "isJsonSchema": true,
       "metadata": {},
       "overflow": false,
       "plotOptions": {
        "customPlotOptions": {},
        "displayType": "table",
        "pivotAggregation": null,
        "pivotColumns": null,
        "xColumns": null,
        "yColumns": null
       },
       "removedWidgets": [],
       "schema": [
        {
         "metadata": "{}",
         "name": "feature",
         "type": "\"string\""
        },
        {
         "metadata": "{}",
         "name": "importance",
         "type": "\"double\""
        }
       ],
       "type": "table"
      }
     },
     "output_type": "display_data"
    }
   ],
   "source": [
    "# Show most importsnt features\n",
    "display(feature_importances_df.limit(25))"
   ]
  },
  {
   "cell_type": "markdown",
   "metadata": {
    "application/vnd.databricks.v1+cell": {
     "cellMetadata": {},
     "inputWidgets": {},
     "nuid": "1b31507e-aa36-49b3-a598-f68f41aa1a5d",
     "showTitle": false,
     "tableResultSettingsMap": {},
     "title": ""
    }
   },
   "source": [
    "The performance on the test set was much higher than what we expected from cross-validation. We think this could be due to two reasons. First, the model might have overfit to the validation folds during cross-validation, particularly given the extreme class imbalance observed in our data. As shown in our fold distribution, each fold contained approximately 55,600 examples of class 0 and only 86-87 examples of class 1, creating a significant imbalance ratio of roughly 640:1. The test set maintained a similar imbalance with 166,819 examples of class 0 and 260 examples of class 1. With such severe class imbalance, the model likely struggled to generalize properly during cross-validation, leading to inconsistent performance across folds.\n",
    "\n",
    "Secondly, the training/validation data and the test data might come from different distributions. For example, the test set may contain more representative or easier examples compared to the training data because adherence to the Motive API has increased with driver incentives, resulting in more high-quality complete data.\n",
    "\n",
    "The most important features in our model are total_events_per_trip_roll15d (safety events flagged by Motive), cell_phone_roll15d (cell phone usage), rolling_15trip_avg_speed_mph (speed), and vehicle_rolling_15trip_num_inspect (number of vehicle inspections), which aligns with what we would expect to be associated with crashes.\n",
    "\n",
    "We have found no evidence of data leakage in the variables, but before something like this is put into production, we would want to run it silently in the background and evaluate its performance in real time."
   ]
  },
  {
   "cell_type": "code",
   "execution_count": 0,
   "metadata": {
    "application/vnd.databricks.v1+cell": {
     "cellMetadata": {
      "byteLimit": 2048000,
      "rowLimit": 10000
     },
     "inputWidgets": {},
     "nuid": "40e6c399-b9bf-4db6-a631-a44f49085d03",
     "showTitle": false,
     "tableResultSettingsMap": {},
     "title": ""
    }
   },
   "outputs": [
    {
     "output_type": "execute_result",
     "data": {
      "text/plain": [
       "DataFrame[label: int, features: vector, rawPrediction: vector, probability: vector, prediction: double]"
      ]
     },
     "execution_count": 116,
     "metadata": {},
     "output_type": "execute_result"
    }
   ],
   "source": [
    "test_predictions"
   ]
  },
  {
   "cell_type": "code",
   "execution_count": 0,
   "metadata": {
    "application/vnd.databricks.v1+cell": {
     "cellMetadata": {
      "byteLimit": 2048000,
      "rowLimit": 10000
     },
     "inputWidgets": {},
     "nuid": "a54f2ca8-9d80-4540-9e95-5c34e487cbb6",
     "showTitle": false,
     "tableResultSettingsMap": {},
     "title": ""
    }
   },
   "outputs": [],
   "source": [
    "pandas_df = test_predictions.select(\"label\", \"prediction\", \"probability\").toPandas()\n",
    "pandas_df[\"probability_pos\"] = pandas_df[\"probability\"].apply(lambda x: x[1])\n",
    "\n",
    "# Get data for calculations\n",
    "y_true = pandas_df[\"label\"]\n",
    "y_pred = pandas_df[\"prediction\"]\n",
    "y_prob = pandas_df[\"probability_pos\"]"
   ]
  },
  {
   "cell_type": "code",
   "execution_count": 0,
   "metadata": {
    "application/vnd.databricks.v1+cell": {
     "cellMetadata": {},
     "inputWidgets": {},
     "nuid": "6348e148-00e9-4ed4-8f1e-38ca38180c0b",
     "showTitle": false,
     "tableResultSettingsMap": {},
     "title": ""
    }
   },
   "outputs": [],
   "source": []
  },
  {
   "cell_type": "code",
   "execution_count": 0,
   "metadata": {
    "application/vnd.databricks.v1+cell": {
     "cellMetadata": {
      "byteLimit": 2048000,
      "rowLimit": 10000
     },
     "inputWidgets": {},
     "nuid": "86f73251-15e0-43e3-a89c-562d70212dd1",
     "showTitle": false,
     "tableResultSettingsMap": {},
     "title": ""
    }
   },
   "outputs": [
    {
     "output_type": "stream",
     "name": "stderr",
     "output_type": "stream",
     "text": [
      "WARNING:matplotlib.legend:No artists with labels found to put in legend.  Note that artists whose label start with an underscore are ignored when legend() is called with no argument.\n"
     ]
    },
    {
     "output_type": "display_data",
     "data": {
      "image/png": "[encoded data removed]",
      "text/plain": [
       "<Figure size 2000x1600 with 5 Axes>"
      ]
     },
     "metadata": {},
     "output_type": "display_data"
    }
   ],
   "source": [
    "threshold = 0.5 \n",
    "\n",
    "# Multiple subplots\n",
    "fig = plt.figure(figsize=(20, 16))\n",
    "\n",
    "# 1. ROC Curve\n",
    "fpr, tpr, thresholds_roc = roc_curve(y_true, y_prob)\n",
    "\n",
    "ax1 = plt.subplot(2, 2, 1)\n",
    "ax1.plot(fpr, tpr)\n",
    "ax1.plot([0, 1], [0, 1], 'k--')\n",
    "ax1.set_xlabel('False Positive Rate')\n",
    "ax1.set_ylabel('True Positive Rate')\n",
    "ax1.set_title('ROC Curve', fontsize=14)\n",
    "ax1.legend()\n",
    "ax1.grid(alpha=0.3)\n",
    "\n",
    "# 2. Precision-Recall Curve\n",
    "precision_curve, recall_curve, thresholds_pr = precision_recall_curve(y_true, y_prob)\n",
    "\n",
    "ax2 = plt.subplot(2, 2, 2)\n",
    "ax2.plot(recall_curve, precision_curve, linewidth=2, label=f'AUPRC = {auprc:.3f}')\n",
    "ax2.set_xlabel('Recall')\n",
    "ax2.set_ylabel('Precision')\n",
    "ax2.set_title('Precision-Recall Curve', fontsize=14)\n",
    "ax2.legend()\n",
    "ax2.grid(alpha=0.3)\n",
    "\n",
    "# 3. Sensitivity vs Specificity at different thresholds\n",
    "thresholds_range = np.linspace(0, 1, 100)\n",
    "sensitivity = []\n",
    "specificity = []\n",
    "\n",
    "for t in thresholds_range:\n",
    "    y_pred_t = (y_prob >= t).astype(int)\n",
    "    tn, fp, fn, tp = confusion_matrix(y_true, y_pred_t).ravel()\n",
    "    \n",
    "    sens = tp / (tp + fn) if (tp + fn) > 0 else 0\n",
    "    spec = tn / (tn + fp) if (tn + fp) > 0 else 0\n",
    "    \n",
    "    sensitivity.append(sens)\n",
    "    specificity.append(spec)\n",
    "\n",
    "ax3 = plt.subplot(2, 2, 3)\n",
    "ax3.plot(thresholds_range, sensitivity, 'r-', linewidth=2, label='Sensitivity')\n",
    "ax3.plot(thresholds_range, specificity, 'b-', linewidth=2, label='Specificity')\n",
    "ax3.axvline(x=threshold, color='k', linestyle='--', alpha=0.5)\n",
    "ax3.set_xlabel('Threshold')\n",
    "ax3.set_ylabel('Value')\n",
    "ax3.set_title('Sensitivity vs Specificity', fontsize=14)\n",
    "ax3.legend()\n",
    "ax3.grid(alpha=0.3)\n",
    "\n",
    "# 4. Confusion Matrix\n",
    "cm = confusion_matrix(y_true, y_pred)\n",
    "\n",
    "ax4 = plt.subplot(2, 2, 4)\n",
    "ConfusionMatrixDisplay(cm, display_labels=[\"Negative\", \"Positive\"]).plot(ax=ax4, cmap='Blues', values_format='d')\n",
    "ax4.set_title('Confusion Matrix', fontsize=14)\n",
    "\n",
    "\n",
    "plt.suptitle(\"Model Evaluation Metrics\", fontsize=16, y=0.98)\n",
    "\n",
    "plt.tight_layout(rect=[0, 0.08, 1, 0.95])"
   ]
  },
  {
   "cell_type": "code",
   "execution_count": 0,
   "metadata": {
    "application/vnd.databricks.v1+cell": {
     "cellMetadata": {},
     "inputWidgets": {},
     "nuid": "2092de59-59a4-4f1c-8951-dfee5c079db6",
     "showTitle": false,
     "tableResultSettingsMap": {},
     "title": ""
    }
   },
   "outputs": [],
   "source": [
    "# Save train"
   ]
  },
  {
   "cell_type": "code",
   "execution_count": 0,
   "metadata": {
    "application/vnd.databricks.v1+cell": {
     "cellMetadata": {},
     "inputWidgets": {},
     "nuid": "c8e34c5e-7bec-4978-9c3a-86d8e9fe7aa5",
     "showTitle": false,
     "tableResultSettingsMap": {},
     "title": ""
    }
   },
   "outputs": [],
   "source": [
    "# Save stratified_train_data to dbfs:/FileStore/tables/stratified_train_data\n",
    "\n",
    "\n",
    "# Save predictions test_predictions to dbfs:/FileStore/tables/best_model_test_predictions\n",
    "\n",
    "# Save model to Workspace '/Workspace/Users/isabel.c.arvelo@vanderbilt.edu'\n"
   ]
  },
  {
   "cell_type": "code",
   "execution_count": 0,
   "metadata": {
    "application/vnd.databricks.v1+cell": {
     "cellMetadata": {
      "byteLimit": 2048000,
      "rowLimit": 10000
     },
     "inputWidgets": {},
     "nuid": "31c2a226-006e-4e85-9f65-8948682fb934",
     "showTitle": false,
     "tableResultSettingsMap": {},
     "title": ""
    }
   },
   "outputs": [],
   "source": [
    "# Save stratified_train_data \n",
    "stratified_train_data.write.format(\"parquet\").save(\"dbfs:/FileStore/tables/stratified_train_data\")\n",
    "\n",
    "# Save predictions\n",
    "test_predictions.write.format(\"parquet\").save(\"dbfs:/FileStore/tables/best_model_test_predictions\")"
   ]
  }
 ],
 "metadata": {
  "application/vnd.databricks.v1+notebook": {
   "computePreferences": null,
   "dashboards": [],
   "environmentMetadata": {
    "base_environment": "",
    "environment_version": "2"
   },
   "inputWidgetPreferences": null,
   "language": "python",
   "notebookMetadata": {
    "pythonIndentUnit": 4
   },
   "notebookName": "isa_hypertuning",
   "widgets": {}
  },
  "language_info": {
   "name": "python"
  }
 },
 "nbformat": 4,
 "nbformat_minor": 0
}