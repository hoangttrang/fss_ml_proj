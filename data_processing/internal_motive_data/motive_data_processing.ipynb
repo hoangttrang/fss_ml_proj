{
 "cells": [
  {
   "cell_type": "markdown",
   "metadata": {
    "application/vnd.databricks.v1+cell": {
     "cellMetadata": {
      "byteLimit": 2048000,
      "rowLimit": 10000
     },
     "inputWidgets": {},
     "nuid": "5e774cc7-7a7d-459f-a58f-71ca3ee3fe02",
     "showTitle": false,
     "tableResultSettingsMap": {},
     "title": ""
    }
   },
   "source": [
    "## Notebook Description\n",
    "This notebook is used to clean the data and aggregated them into 1 big table for our data analysis. We are going to clean the following tables:\n",
    "- `data_combined_events_w_vehicle_map.csv`\n",
    "- `data_driving_periods_w_vehicle_map.csv`\n",
    "- `data_inspections_w_vehicle_map.csv`\n",
    "- `data_idle_events_w_vehicle_map.csv`\n",
    "\n",
    "Once all these tables are cleaned, I would first cache all of the table before joining. For the joined, we are planning to aggregated them so that we would have an aggregated table in which it will records for all (driver_id, vehicle_id, start_date and event type) primary keys \n",
    "\n",
    "## System SetUp\n",
    "\n"
   ]
  },
  {
   "cell_type": "code",
   "execution_count": 0,
   "metadata": {
    "application/vnd.databricks.v1+cell": {
     "cellMetadata": {
      "byteLimit": 2048000,
      "rowLimit": 10000
     },
     "inputWidgets": {},
     "nuid": "4b26b36b-05a2-497e-a0a8-f2f1d52282f9",
     "showTitle": false,
     "tableResultSettingsMap": {},
     "title": ""
    }
   },
   "outputs": [],
   "source": [
    "# import libraries\n",
    "from pyspark.sql import SparkSession\n",
    "from pyspark.sql import SparkSession\n",
    "from pyspark.sql import functions as F\n",
    "from pyspark.sql.types import *\n",
    "from pyspark.sql.functions import col, count, mean, stddev, min, max, when, isnan, countDistinct, lit, to_timestamp, to_date\n",
    "import matplotlib.pyplot as plt\n",
    "import seaborn as sns"
   ]
  },
  {
   "cell_type": "code",
   "execution_count": 0,
   "metadata": {
    "application/vnd.databricks.v1+cell": {
     "cellMetadata": {
      "byteLimit": 2048000,
      "rowLimit": 10000
     },
     "inputWidgets": {},
     "nuid": "23ba2e93-3e64-4fe3-824d-0534388b4954",
     "showTitle": false,
     "tableResultSettingsMap": {},
     "title": ""
    }
   },
   "outputs": [],
   "source": [
    "app_name = \"final-proj\"\n",
    "master = \"local[*]\"\n",
    "spark = SparkSession\\\n",
    "        .builder\\\n",
    "        .appName(app_name)\\\n",
    "        .master(master)\\\n",
    "        .getOrCreate()\n",
    "\n",
    "sc = spark.sparkContext"
   ]
  },
  {
   "cell_type": "markdown",
   "metadata": {
    "application/vnd.databricks.v1+cell": {
     "cellMetadata": {
      "byteLimit": 2048000,
      "rowLimit": 10000
     },
     "inputWidgets": {},
     "nuid": "067b3478-bed3-4441-a26d-408c4360cf28",
     "showTitle": false,
     "tableResultSettingsMap": {},
     "title": ""
    }
   },
   "source": [
    "## Data Cleaning \n",
    "### `data_combined_events_w_vehicle_map`\n",
    "Here are some of the data cleaning steps that I am going to do for this table \n",
    "- drop NULL values from column driver_id \n",
    "- Checking if event_id is unique and not null (primary key); if event_id is primary key, drop the id column because the primary key for this table is event_id \n",
    "- Create new column called `main_event_type` with value \"hazard\" \n",
    "- Create `trip_date` column that is converted from `start_date` timestamp to date \n",
    "\n"
   ]
  },
  {
   "cell_type": "code",
   "execution_count": 0,
   "metadata": {
    "application/vnd.databricks.v1+cell": {
     "cellMetadata": {
      "byteLimit": 2048000,
      "rowLimit": 10000
     },
     "inputWidgets": {},
     "nuid": "ab3176f4-c9af-4c28-9521-4b1170e92c3d",
     "showTitle": false,
     "tableResultSettingsMap": {},
     "title": ""
    }
   },
   "outputs": [
    {
     "output_type": "stream",
     "name": "stdout",
     "output_type": "stream",
     "text": [
      "event_id is a primary key\n+---------+-------------------+---------+-----------------+----------------+----------+---------------+-------------------+--------+-----+--------------------+--------------------+---------------------+---------------------+-----------+---------+-----------+--------------+--------------------+--------+--------------------+---------------+----------+\n| event_id|               type|driver_id|driver_first_name|driver_last_name|vehicle_id|coaching_status|         start_date|severity|month|          created_at|          updated_at|max_over_speed_in_kph|max_over_speed_in_mph|not_current|   number|     status|          make|               model|group_id|          group_name|main_event_type| trip_date|\n+---------+-------------------+---------+-----------------+----------------+----------+---------------+-------------------+--------+-----+--------------------+--------------------+---------------------+---------------------+-----------+---------+-----------+--------------+--------------------+--------+--------------------+---------------+----------+\n|819188700|         cell_phone|3933445.0|        Jerdarian|         Kennedy|   1189499|        coached|2023-03-08 00:41:18|    high|March|2024-08-09 18:47:...|2024-12-20 20:02:...|                 NULL|                 NULL|       NULL|110210033|     active| International|MV607 CONCRETE TR...| 63332.0|TN - Memphis - Sa...|         hazard|2023-03-08|\n|819203892|         cell_phone|3933445.0|        Jerdarian|         Kennedy|   1189499| pending_review|2023-03-08 00:53:07|    NULL|March|2024-08-09 18:47:...|2024-12-20 20:02:...|                 NULL|                 NULL|       NULL|110210033|     active| International|MV607 CONCRETE TR...| 63332.0|TN - Memphis - Sa...|         hazard|2023-03-08|\n|819402525| camera_obstruction|3838164.0|             John|          Miller|   1123247|        coached|2023-03-08 10:47:12|  medium|March|2024-08-09 18:47:...|2024-12-20 20:02:...|                 NULL|                 NULL|       NULL|      323|     active|Chevrolet 5500|              Pumper| 55431.0|           TN - ETP |         hazard|2023-03-08|\n|819427412|        distraction|3601232.0|          Anthony|           Swain|   1048398|    uncoachable|2023-03-08 11:19:41|     low|March|2024-08-09 18:47:...|2024-12-20 20:02:...|                 NULL|                 NULL|       NULL|       71|     active|          Hino|                NULL| 50046.0|    PA - Port A Bowl|         hazard|2023-03-08|\n|819432276|         tailgating|3797900.0|              Lee|          Jordan|   1137812|      coachable|2023-03-08 11:33:39|    high|March|2024-08-09 18:47:...|2024-12-20 20:02:...|                 NULL|                 NULL|       NULL|      D10|deactivated|         Dodge|     4500 (Flat Bed)| 53753.0|NC - Griffin Wast...|         hazard|2023-03-08|\n|819462651|         cell_phone|3797917.0|            Jerry|          Parker|   1135051|      coachable|2023-03-08 11:57:44|    high|March|2024-08-09 18:47:...|2024-12-20 20:02:...|                 NULL|                 NULL|       NULL|      F40|     active|          Ford|         F450 (Hook)| 68660.0|NC - Griffin Hook...|         hazard|2023-03-08|\n|819471575|         cell_phone|3795688.0|          Maurice|        Crawford|   1139837|        coached|2023-03-08 12:10:07|    high|March|2024-08-09 18:47:...|2024-12-20 20:02:...|                 NULL|                 NULL|       NULL|      319|     active|     Chevrolet|           SILVERADO| 55431.0|           TN - ETP |         hazard|2023-03-08|\n|819477303|         tailgating|3796825.0|         Jonathon|          Messer|   1137856|      coachable|2023-03-08 12:23:12|    high|March|2024-08-09 18:47:...|2024-12-20 20:02:...|                 NULL|                 NULL|       NULL|      F26|deactivated|          Ford|         F450 (Hook)| 68660.0|NC - Griffin Hook...|         hazard|2023-03-08|\n|819478382|         cell_phone|3848268.0|             Clay|      Hutchinson|   1123214|        coached|2023-03-08 12:24:28|    high|March|2024-08-09 18:47:...|2024-12-20 20:02:...|                 NULL|                 NULL|       NULL|170220007|     active|          Ford|                F550| 55428.0|TN - FusionSite (...|         hazard|2023-03-08|\n|819479763|         tailgating|3797917.0|            Jerry|          Parker|   1135051|      coachable|2023-03-08 12:25:41|    high|March|2024-08-09 18:47:...|2024-12-20 20:02:...|                 NULL|                 NULL|       NULL|      F40|     active|          Ford|         F450 (Hook)| 68660.0|NC - Griffin Hook...|         hazard|2023-03-08|\n|819486958|seat_belt_violation|3941935.0|           Travis|           Kelly|   1165815|        coached|2023-03-08 12:31:19|    high|March|2024-08-09 18:47:...|2024-12-20 20:02:...|                 NULL|                 NULL|       NULL|     P-07|     active|          Hino|                NULL| 60498.0|        FL - Freedom|         hazard|2023-03-08|\n|819488969|    ran_a_red_light|3735391.0|               Al|         Shaheed|   1032413|        coached|2023-03-08 12:33:59|  medium|March|2024-08-09 18:47:...|2024-12-20 20:02:...|                 NULL|                 NULL|       NULL|       69|     active|      Hino 338|1500/500 Aluminum...| 50046.0|    PA - Port A Bowl|         hazard|2023-03-08|\n|819493586|         cell_phone|3798033.0|          William|          Huskey|   1137870|      coachable|2023-03-08 12:37:27|    high|March|2024-08-09 18:47:...|2024-12-20 20:02:...|                 NULL|                 NULL|       NULL|      F29|deactivated|          Ford|         F450 (Hook)| 68660.0|NC - Griffin Hook...|         hazard|2023-03-08|\n|819509023|         tailgating|3797900.0|              Lee|          Jordan|   1137812| pending_review|2023-03-08 12:49:28|    NULL|March|2024-08-09 18:47:...|2024-12-20 20:02:...|                 NULL|                 NULL|       NULL|      D10|deactivated|         Dodge|     4500 (Flat Bed)| 53753.0|NC - Griffin Wast...|         hazard|2023-03-08|\n|819511442|         tailgating|3796825.0|         Jonathon|          Messer|   1137856| pending_review|2023-03-08 12:51:57|    NULL|March|2024-08-09 18:47:...|2024-12-20 20:02:...|                 NULL|                 NULL|       NULL|      F26|deactivated|          Ford|         F450 (Hook)| 68660.0|NC - Griffin Hook...|         hazard|2023-03-08|\n|821683713|        distraction|3786829.0|          Michael|           Smith|   1123162| pending_review|2023-03-08 12:59:19|    NULL|March|2024-08-09 18:47:...|2024-12-20 20:02:...|                 NULL|                 NULL|       NULL|       T7|     active|           RAM|         5500 Pumper| 55542.0|    AR - Little Rock|         hazard|2023-03-08|\n|819522032|         tailgating|3848287.0|             John|         Marenka|   1123203|        coached|2023-03-08 13:00:14|    high|March|2024-08-09 18:47:...|2024-12-20 20:02:...|                 NULL|                 NULL|       NULL|170180003|     active|Dodge Ram 5500|               Truck| 55428.0|TN - FusionSite (...|         hazard|2023-03-08|\n|819523176|stop_sign_violation|3811998.0|            Lenon|           Smith|   1123146| pending_review|2023-03-08 13:01:32|  medium|March|2024-08-09 18:47:...|2024-12-20 20:02:...|                 NULL|                 NULL|       NULL|      MB3|     active|         Dodge|     5500 w/hooklift| 55542.0|    AR - Little Rock|         hazard|2023-03-08|\n|819531076|seat_belt_violation|3810669.0|            James|         Tillmon|   1123152|        coached|2023-03-08 13:06:50|    high|March|2024-08-09 18:47:...|2024-12-20 20:02:...|                 NULL|                 NULL|       NULL|      PD1|deactivated|           Ram|              Pumper| 55542.0|    AR - Little Rock|         hazard|2023-03-08|\n|819529800|seat_belt_violation|3810669.0|            James|         Tillmon|   1123152|        coached|2023-03-08 13:07:34|    high|March|2024-08-09 18:47:...|2024-12-20 20:02:...|                 NULL|                 NULL|       NULL|      PD1|deactivated|           Ram|              Pumper| 55542.0|    AR - Little Rock|         hazard|2023-03-08|\n+---------+-------------------+---------+-----------------+----------------+----------+---------------+-------------------+--------+-----+--------------------+--------------------+---------------------+---------------------+-----------+---------+-----------+--------------+--------------------+--------+--------------------+---------------+----------+\nonly showing top 20 rows\n\n"
     ]
    }
   ],
   "source": [
    "# Load the data\n",
    "combined_event_data = spark.read.csv('dbfs:/FileStore/tables/data_combined_events_w_vehicle_map.csv', inferSchema=True, header=True)\n",
    "\n",
    "# drop Null values\n",
    "cleaned_combined_event_data = combined_event_data.dropna(subset=['driver_id'])\n",
    "# chek if event_id is unique and not null\n",
    "event_id_unique_count = cleaned_combined_event_data.select(countDistinct(\"event_id\")).collect()[0][0]\n",
    "total_count = cleaned_combined_event_data.count()\n",
    "# check event_id not null \n",
    "null_event_id_count = cleaned_combined_event_data.filter(col(\"event_id\").isNull()).count()\n",
    "\n",
    "if null_event_id_count == 0 and event_id_unique_count == total_count:\n",
    "    print(\"event_id is a primary key\")\n",
    "    # event_id is a primary key, so drop the id column\n",
    "    cleaned_combined_event_data = cleaned_combined_event_data.drop(\"id\")\n",
    "\n",
    "# add main_event_type columns \n",
    "cleaned_combined_event_data = cleaned_combined_event_data.withColumn(\"main_event_type\", lit(\"hazard\"))\n",
    "\n",
    "# add trip_date column\n",
    "cleaned_combined_event_data = cleaned_combined_event_data.withColumn(\"trip_date\", to_date(\"start_date\"))\n",
    "# cache the data\n",
    "cleaned_combined_event_data = cleaned_combined_event_data.cache()\n",
    "cleaned_combined_event_data.show()"
   ]
  },
  {
   "cell_type": "code",
   "execution_count": 0,
   "metadata": {
    "application/vnd.databricks.v1+cell": {
     "cellMetadata": {
      "byteLimit": 2048000,
      "rowLimit": 10000
     },
     "inputWidgets": {},
     "nuid": "13b1bb5a-116b-4e87-b28a-72b4c8aab4f7",
     "showTitle": false,
     "tableResultSettingsMap": {},
     "title": ""
    }
   },
   "outputs": [
    {
     "output_type": "stream",
     "name": "stdout",
     "output_type": "stream",
     "text": [
      "root\n |-- event_id: integer (nullable = true)\n |-- type: string (nullable = true)\n |-- driver_id: double (nullable = true)\n |-- driver_first_name: string (nullable = true)\n |-- driver_last_name: string (nullable = true)\n |-- vehicle_id: integer (nullable = true)\n |-- coaching_status: string (nullable = true)\n |-- start_date: timestamp (nullable = true)\n |-- severity: string (nullable = true)\n |-- month: string (nullable = true)\n |-- created_at: timestamp (nullable = true)\n |-- updated_at: timestamp (nullable = true)\n |-- max_over_speed_in_kph: double (nullable = true)\n |-- max_over_speed_in_mph: double (nullable = true)\n |-- not_current: boolean (nullable = true)\n |-- number: string (nullable = true)\n |-- status: string (nullable = true)\n |-- make: string (nullable = true)\n |-- model: string (nullable = true)\n |-- group_id: double (nullable = true)\n |-- group_name: string (nullable = true)\n |-- main_event_type: string (nullable = false)\n |-- trip_date: date (nullable = true)\n\n"
     ]
    }
   ],
   "source": [
    "cleaned_combined_event_data.printSchema()"
   ]
  },
  {
   "cell_type": "markdown",
   "metadata": {
    "application/vnd.databricks.v1+cell": {
     "cellMetadata": {
      "byteLimit": 2048000,
      "rowLimit": 10000
     },
     "inputWidgets": {},
     "nuid": "68717c97-0fca-461d-84fc-cfe49d6a1808",
     "showTitle": false,
     "tableResultSettingsMap": {},
     "title": ""
    }
   },
   "source": [
    "### `data_driving_periods_w_vehicle_map`\n",
    "Here are some of the data cleaning steps that I am going to do for this table \n",
    "- drop NULL values from column `driver_id` \n",
    "- Filter `minutes_driving` to be not null and have values larger than 0 \n",
    "- Filter `driving_distance` to be not null and have values larger than 0 and less than 10000 (larger than 10000 are outliers from data exploratory)\n",
    "- Count how many trip have `driving_distance` larger than 500 \n",
    "- Check how many vehicle_id is null\n",
    "- Checking if `event_id` is unique and not null (primary key); if `event_id` is primary key, drop the id column because the primary key for this table is `event_id`\n",
    "- Create new column called `main_event_type` with value \"driving\" \n",
    "- Create a `trip_date` column from `start_date` timestamp\n"
   ]
  },
  {
   "cell_type": "code",
   "execution_count": 0,
   "metadata": {
    "application/vnd.databricks.v1+cell": {
     "cellMetadata": {
      "byteLimit": 2048000,
      "rowLimit": 10000
     },
     "inputWidgets": {},
     "nuid": "20242169-7e00-4ece-aa7a-c068fe6d8dca",
     "showTitle": false,
     "tableResultSettingsMap": {},
     "title": ""
    }
   },
   "outputs": [
    {
     "output_type": "stream",
     "name": "stdout",
     "output_type": "stream",
     "text": [
      "Number of trips with driving_distance > 500: 19\nNumber of NULL vehicle_id values: 0\n"
     ]
    }
   ],
   "source": [
    "# Load the data\n",
    "driving_period = spark.read.csv('dbfs:/FileStore/tables/data_driving_periods_w_vehicle_map.csv', inferSchema=True, header=True)\n",
    "\n",
    "# Drop NULL values from driver_id\n",
    "cleaned_driving_period = driving_period.dropna(subset=['driver_id'])\n",
    "\n",
    "# Filter minutes_driving to be non-null and greater than 0\n",
    "cleaned_driving_period = cleaned_driving_period.filter((col(\"minutes_driving\").isNotNull()) & (col(\"minutes_driving\") > 0))\n",
    "\n",
    "# Filter driving_distance to be non-null and greater than 0\n",
    "cleaned_driving_period = cleaned_driving_period.filter((col(\"driving_distance\").isNotNull()) & (col(\"driving_distance\") > 0) & (col(\"driving_distance\")<10000))\n",
    "\n",
    "# Count how many trips have driving_distance > 500\n",
    "high_distance_trips = cleaned_driving_period.filter(col(\"driving_distance\") > 500).count()\n",
    "print(f\"Number of trips with driving_distance > 500: {high_distance_trips}\")\n",
    "\n",
    "# Check how many vehicle_id values are NULL\n",
    "null_vehicle_id_count = cleaned_driving_period.filter(col(\"vehicle_id\").isNull()).count()\n",
    "print(f\"Number of NULL vehicle_id values: {null_vehicle_id_count}\")\n",
    "\n",
    "# add main_event_type column\n",
    "cleaned_driving_period = cleaned_driving_period.withColumn(\"main_event_type\", lit(\"driving\"))\n",
    "# add trip_date column\n",
    "cleaned_driving_period = cleaned_driving_period.withColumn(\"trip_date\", to_date(\"start_date\"))\n",
    "\n",
    "# Convert 'end_date' from string to timestamp\n",
    "cleaned_driving_period = cleaned_driving_period.withColumn(\"end_date\", to_timestamp(\"end_date\"))\n",
    "# cache data \n",
    "cleaned_driving_period = cleaned_driving_period.cache()\n",
    "\n"
   ]
  },
  {
   "cell_type": "code",
   "execution_count": 0,
   "metadata": {
    "application/vnd.databricks.v1+cell": {
     "cellMetadata": {
      "byteLimit": 2048000,
      "rowLimit": 10000
     },
     "inputWidgets": {},
     "nuid": "65e289ab-6ca2-47cf-a2c6-a5b3d80bf72f",
     "showTitle": false,
     "tableResultSettingsMap": {},
     "title": ""
    }
   },
   "outputs": [
    {
     "output_type": "stream",
     "name": "stdout",
     "output_type": "stream",
     "text": [
      "event_id is a primary key (unique and non-null)\n"
     ]
    }
   ],
   "source": [
    "from pyspark.sql.functions import col, count, when\n",
    "\n",
    "null_event_id_count = cleaned_driving_period.filter(col(\"event_id\").isNull()).count()\n",
    "event_id_unique_count = cleaned_driving_period.select(countDistinct(\"event_id\")).collect()[0][0]\n",
    "total_count = cleaned_driving_period.count()\n",
    "\n",
    "if null_event_id_count == 0 and event_id_unique_count == total_count:\n",
    "    print(\"event_id is a primary key (unique and non-null)\")\n",
    "    # Drop id column since event_id is the primary key\n",
    "    cleaned_driving_period = cleaned_driving_period.drop(\"id_y\", \"id_x\")\n"
   ]
  },
  {
   "cell_type": "code",
   "execution_count": 0,
   "metadata": {
    "application/vnd.databricks.v1+cell": {
     "cellMetadata": {
      "byteLimit": 2048000,
      "rowLimit": 10000
     },
     "inputWidgets": {},
     "nuid": "98fb519f-fedb-47fe-8e98-fae45e194bdf",
     "showTitle": false,
     "tableResultSettingsMap": {},
     "title": ""
    }
   },
   "outputs": [
    {
     "output_type": "stream",
     "name": "stdout",
     "output_type": "stream",
     "text": [
      "root\n |-- event_id: long (nullable = true)\n |-- driver_id: double (nullable = true)\n |-- vehicle_id: integer (nullable = true)\n |-- start_date: timestamp (nullable = true)\n |-- end_date: timestamp (nullable = true)\n |-- driving_distance: double (nullable = true)\n |-- driving_period_type: string (nullable = true)\n |-- driver_company_id: string (nullable = true)\n |-- minutes_driving: double (nullable = true)\n |-- month: string (nullable = true)\n |-- created_at: timestamp (nullable = true)\n |-- updated_at: timestamp (nullable = true)\n |-- unassigned: boolean (nullable = true)\n |-- not_current: string (nullable = true)\n |-- number: string (nullable = true)\n |-- status: string (nullable = true)\n |-- make: string (nullable = true)\n |-- model: string (nullable = true)\n |-- group_id: double (nullable = true)\n |-- group_name: string (nullable = true)\n |-- main_event_type: string (nullable = false)\n |-- trip_date: date (nullable = true)\n\nNone\nnumber of rows:  2450719\n+----------+---------+----------+-------------------+-------------------+----------------+-------------------+-----------------+------------------+-----+--------------------+--------------------+----------+-----------+-------------+------+-----------+--------------------+--------+--------------------+---------------+----------+\n|  event_id|driver_id|vehicle_id|         start_date|           end_date|driving_distance|driving_period_type|driver_company_id|   minutes_driving|month|          created_at|          updated_at|unassigned|not_current|       number|status|       make|               model|group_id|          group_name|main_event_type| trip_date|\n+----------+---------+----------+-------------------+-------------------+----------------+-------------------+-----------------+------------------+-----+--------------------+--------------------+----------+-----------+-------------+------+-----------+--------------------+--------+--------------------+---------------+----------+\n|1873322883|3972537.0|   1033102|2023-07-19 17:50:00|2023-07-19 17:57:46|             2.1|            driving|           1272.0| 7.766666666666667| July|2024-08-09 19:07:...|2024-08-09 19:07:...|     false|        nan|           63|active|   Hino 268|1500/500 Aluminum...| 50046.0|    PA - Port A Bowl|        driving|2023-07-19|\n|1872655132|3912433.0|   1156138|2023-07-19 17:49:51|2023-07-19 18:00:11|             1.6|            driving|           1179.0|10.333333333333334| July|2024-08-09 19:07:...|2024-08-09 19:07:...|     false|        nan|         P#22|active|      Dodge|                5500| 60569.0|      TN - MC Septic|        driving|2023-07-19|\n|1872653938|3791962.0|   1123228|2023-07-19 17:49:20|2023-07-19 18:07:01|             9.0|            driving|           1033.0|17.683333333333334| July|2024-08-09 19:07:...|2024-08-09 19:07:...|     false|        nan|          353|active|  Dodge Ram|         4500 Pumper| 55431.0|           TN - ETP |        driving|2023-07-19|\n|1876064881|3906745.0|   1123151|2023-07-19 17:48:52|2023-07-19 17:58:07|             4.6|            driving|            494.0|              9.25| July|2024-08-09 19:07:...|2024-08-09 19:07:...|     false|        nan|          PD5|active|       Ford|                F250| 55542.0|    AR - Little Rock|        driving|2023-07-19|\n|1894103211|4210116.0|   1194292|2023-07-19 17:34:39|2023-07-19 17:41:19|             2.5|            driving|           1450.0| 6.666666666666667| July|2024-08-09 19:07:...|2024-08-09 19:07:...|     false|        nan|    140170018|active|  Chevrolet|        3500 FLATBED| 63332.0|TN - Memphis - Sa...|        driving|2023-07-19|\n|1872614868|3912433.0|   1156138|2023-07-19 17:34:36|2023-07-19 17:41:44|             1.8|            driving|           1179.0| 7.133333333333334| July|2024-08-09 19:07:...|2024-08-09 19:07:...|     false|        nan|         P#22|active|      Dodge|                5500| 60569.0|      TN - MC Septic|        driving|2023-07-19|\n|1872614598|3895357.0|   1123213|2023-07-19 17:34:17|2023-07-19 18:27:38|            14.7|            driving|              2.0|             53.35| July|2024-08-09 19:07:...|2024-08-09 19:07:...|     false|        nan|    170190012|active|Int'l DV515|              Pumper| 55428.0|TN - FusionSite (...|        driving|2023-07-19|\n|1873805028|3890083.0|   1177252|2023-07-19 17:33:51|2023-07-19 17:47:12|             6.2|            driving|            529.0|             13.35| July|2024-08-09 19:07:...|2024-08-09 19:07:...|     false|        nan|      SC-F250|active|       Ford|               F-250| 53751.0|     GA -PSI Augusta|        driving|2023-07-19|\n|1872612949|3601232.0|   1033100|2023-07-19 17:33:36|2023-07-19 17:43:22|             2.7|            driving|            840.0| 9.766666666666667| July|2024-08-09 19:07:...|2024-08-09 19:07:...|     false|        nan|           55|active|   Hino 268|10 Unit Flatbed w...| 50046.0|    PA - Port A Bowl|        driving|2023-07-19|\n|1886255558|3757081.0|   1086403|2023-07-19 17:33:28|2023-07-19 17:34:42|             0.3|            driving|           1082.0|1.2333333333333334| July|2024-08-09 19:07:...|2024-08-09 19:07:...|     false|        nan|          548|active|       FORD|         F550 PUMPER| 50049.0|OH - Rent - A - John|        driving|2023-07-19|\n|1872611952|3895377.0|   1212471|2023-07-19 17:33:18|2023-07-19 18:20:40|             4.7|            driving|             77.0| 47.36666666666667| July|2024-08-09 19:07:...|2024-08-09 19:07:...|     false|        nan|    170220002|active|  Chevrolet|                5500| 55428.0|TN - FusionSite (...|        driving|2023-07-19|\n|1872968296|3906256.0|   1159003|2023-07-19 17:33:16|2023-07-19 17:58:05|             4.8|            driving|            679.0|24.816666666666663| July|2024-08-09 19:07:...|2024-08-09 19:07:...|     false|        nan|PMCSEPTIC #24|active|      Dodge|                5500| 60569.0|      TN - MC Septic|        driving|2023-07-19|\n|1875032332|3895415.0|   1123196|2023-07-19 17:33:15|2023-07-19 17:35:37|             0.5|            driving|            675.0|2.3666666666666667| July|2024-08-09 19:07:...|2024-08-09 19:07:...|     false|        nan|    140150001|active|       HINO|            Delivery| 55542.0|    AR - Little Rock|        driving|2023-07-19|\n|1872659209|3735315.0|   1086404|2023-07-19 17:33:10|2023-07-19 17:40:46|             0.1|            driving|            717.0|               7.6| July|2024-08-09 19:07:...|2024-08-09 19:07:...|     false|        nan|          549|active|       FORD|         F550 PUMPER| 50049.0|OH - Rent - A - John|        driving|2023-07-19|\n|1874026822|3928527.0|   1190982|2023-07-19 17:32:48|2023-07-19 17:36:13|             0.4|            driving|           1126.0|3.4166666666666665| July|2024-08-09 19:07:...|2024-08-09 19:07:...|     false|        nan|    170190037|active|  Chevrolet|6500 PUMP TRUCK T...| 63332.0|TN - Memphis - Sa...|        driving|2023-07-19|\n|1872624470|3601236.0|   1033103|2023-07-19 17:32:23|2023-07-19 17:40:25|             2.3|            driving|            899.0| 8.033333333333333| July|2024-08-09 19:07:...|2024-08-09 19:07:...|     false|        nan|           50|active|  Ford F550|Trailer Delivery ...| 99738.0|        PA - Malvern|        driving|2023-07-19|\n|1872608845|3919305.0|   1192256|2023-07-19 17:32:08|2023-07-19 18:00:10|            16.8|            driving|           1158.0| 28.03333333333333| July|2024-08-09 19:07:...|2024-08-09 19:07:...|     false|        nan|         5787|active|       FORD|               F-550| 76130.0|OH - C&L and Safeway|        driving|2023-07-19|\n|1872608817|3848306.0|   1123209|2023-07-19 17:31:56|2023-07-19 17:42:03|             2.9|            driving|             14.0|10.116666666666667| July|2024-08-09 19:07:...|2024-08-09 19:07:...|     false|        nan|    180200001|active| Dodge 5500|            Roll Off| 55428.0|TN - FusionSite (...|        driving|2023-07-19|\n|1872607485|4039724.0|   1123194|2023-07-19 17:31:32|2023-07-19 17:36:39|             2.0|            driving|           1031.0| 5.116666666666666| July|2024-08-09 19:07:...|2024-08-09 19:07:...|     false|        nan|          310|active|       Hino|          Pump Truck| 55550.0|         NC - Denver|        driving|2023-07-19|\n|1872607655|3811924.0|   1123154|2023-07-19 17:31:32|2023-07-19 18:13:40|            15.5|            driving|             55.0| 42.13333333333333| July|2024-08-09 19:07:...|2024-08-09 19:07:...|     false|        nan|          MB4|active|  Peterbilt|Model #337 Roll O...| 55542.0|    AR - Little Rock|        driving|2023-07-19|\n+----------+---------+----------+-------------------+-------------------+----------------+-------------------+-----------------+------------------+-----+--------------------+--------------------+----------+-----------+-------------+------+-----------+--------------------+--------+--------------------+---------------+----------+\nonly showing top 20 rows\n\n"
     ]
    }
   ],
   "source": [
    "print(cleaned_driving_period.printSchema())\n",
    "print(\"number of rows: \", cleaned_driving_period.count())\n",
    "cleaned_driving_period.show()"
   ]
  },
  {
   "cell_type": "markdown",
   "metadata": {
    "application/vnd.databricks.v1+cell": {
     "cellMetadata": {
      "byteLimit": 2048000,
      "rowLimit": 10000
     },
     "inputWidgets": {},
     "nuid": "bb89a63b-d366-4ce7-9951-12902aa40623",
     "showTitle": false,
     "tableResultSettingsMap": {},
     "title": ""
    }
   },
   "source": [
    "### `data_inspections_w_vehicle_map`\n",
    "Here are some of the data cleaning steps that I am going to do for this table \n",
    "- drop NULL values from column `driver_id` \n",
    "- Rename columns \"status\" to \"inspection_status\" and \"status-2\" to \"status\"\n",
    "- Checking if `inspection_id` is unique and not null (primary key); if `inspection_id` is primary key, drop the `id` column because the primary key for this table is `inspection_id` \n"
   ]
  },
  {
   "cell_type": "code",
   "execution_count": 0,
   "metadata": {
    "application/vnd.databricks.v1+cell": {
     "cellMetadata": {
      "byteLimit": 2048000,
      "rowLimit": 10000
     },
     "inputWidgets": {},
     "nuid": "1d664c36-cc57-4677-bae7-40f4795ea28d",
     "showTitle": false,
     "tableResultSettingsMap": {},
     "title": ""
    }
   },
   "outputs": [
    {
     "output_type": "stream",
     "name": "stdout",
     "output_type": "stream",
     "text": [
      "inspection_id is a primary key (unique and non-null)\nroot\n |-- inspection_id: long (nullable = true)\n |-- vehicle_id: integer (nullable = true)\n |-- date: date (nullable = true)\n |-- location: string (nullable = true)\n |-- inspection_status: string (nullable = true)\n |-- inspection_type: string (nullable = true)\n |-- driver_id: integer (nullable = true)\n |-- mechanic_id: string (nullable = true)\n |-- reviewer_id: string (nullable = true)\n |-- number: string (nullable = true)\n |-- status: string (nullable = true)\n |-- make: string (nullable = true)\n |-- model: string (nullable = true)\n |-- main_event_type: string (nullable = false)\n\nNone\n215292\n+-------------+----------+----------+--------------------+-----------------+---------------+---------+-----------+-----------+-------------+-----------+--------------+--------------------+---------------+\n|inspection_id|vehicle_id|      date|            location|inspection_status|inspection_type|driver_id|mechanic_id|reviewer_id|       number|     status|          make|               model|main_event_type|\n+-------------+----------+----------+--------------------+-----------------+---------------+---------+-----------+-----------+-------------+-----------+--------------+--------------------+---------------+\n|  10434972607|   1032418|2023-01-30|4.5 mi N of Doyle...|       acceptable|       pre_trip|  3601232|       NULL|       NULL|           20|deactivated|     Ford F350|PU Truck - Traile...|     inspection|\n|  10434961565|   1048398|2023-01-30|4.6 mi N of Doyle...|       acceptable|      post_trip|  3601225|       NULL|       NULL|           71|     active|          Hino|                NULL|     inspection|\n|  10434959570|   1086409|2023-01-30|        Columbus, OH|       acceptable|       pre_trip|  3789906|       NULL|       NULL|          543|     active|          FORD|         F550 PUMPER|     inspection|\n|  10434952082|   1123132|2023-01-30|      Louisville, KY|             open|       pre_trip|  3809049|       NULL|       NULL|            I|     active|          Ford|Pump Truck - 2000...|     inspection|\n|  10434945711|   1123116|2023-01-30|  Shepherdsville, KY|       acceptable|       pre_trip|  3809038|       NULL|       NULL|         LZ03|     active|     Peterbilt|     LZ03 s/b Pumper|     inspection|\n|  10434934283|   1123116|2023-01-30|                NULL|       acceptable|       pre_trip|  3809038|       NULL|       NULL|         LZ03|     active|     Peterbilt|     LZ03 s/b Pumper|     inspection|\n|  10435423796|   1123228|2023-01-30|                NULL|       acceptable|       pre_trip|  3791960|       NULL|       NULL|          353|     active|     Dodge Ram|         4500 Pumper|     inspection|\n|  10434922038|   1177224|2023-01-30|                NULL|         resolved|       pre_trip|  3868348|    3887007|       NULL|       SC-130|     active|          Hino|                 195|     inspection|\n|  10434923310|   1177237|2023-01-30|3.4 mi N of Dents...|       acceptable|       pre_trip|  3868355|       NULL|       NULL|          117|     active|         Isuzu|               JW5R0|     inspection|\n|  10434918874|   1123134|2023-01-30|      Louisville, KY|       acceptable|       pre_trip|  3809051|       NULL|       NULL|            K|deactivated|          Hino|195-K Pump Truck ...|     inspection|\n|  10434918454|   1086401|2023-01-30|6.7 mi N of Weste...|       acceptable|       pre_trip|  3756409|       NULL|       NULL|          546|     active|     PETERBILT|          337 PUMPER|     inspection|\n|  10434916096|   1033101|2023-01-30|4.4 mi N of Doyle...|       acceptable|       pre_trip|  3601222|       NULL|       NULL|           65|     active|    Dodge 3500|PU Truck - Traile...|     inspection|\n|  10434915813|   1032412|2023-01-30|4.6 mi N of Doyle...|       acceptable|       pre_trip|  3672415|       NULL|       NULL|           74|     active|         Chevy|   Ops Manager Truck|     inspection|\n|  10434914623|   1123116|2023-01-30|                NULL|       acceptable|       pre_trip|  3809038|       NULL|       NULL|         LZ03|     active|     Peterbilt|     LZ03 s/b Pumper|     inspection|\n|  10434912150|   1123224|2023-01-30|      Crossville, TN|       acceptable|       pre_trip|  3791958|       NULL|       NULL|          500|     active|           GMC|            Roll Off|     inspection|\n|  10435348225|   1170562|2023-01-30|                NULL|       acceptable|       pre_trip|  3827497|       NULL|       NULL|PMCSEPTIC #25|     active|         Dodge|                5500|     inspection|\n|  10435457124|   1123138|2023-01-30|                NULL|       acceptable|       pre_trip|  3775022|       NULL|       NULL|       2500PD|     active|         Dodge|    P & D Pick Truck|     inspection|\n|  10436102987|   1123247|2023-01-30|                NULL|       acceptable|       pre_trip|  3799191|       NULL|       NULL|          323|     active|Chevrolet 5500|              Pumper|     inspection|\n|  10434893281|   1177252|2023-01-30|3.4 mi N of Dents...|         resolved|       pre_trip|  3663775|    3887007|       NULL|      SC-F250|     active|          Ford|               F-250|     inspection|\n|  10434884300|   1123116|2023-01-30|                NULL|       acceptable|       pre_trip|  3809038|       NULL|       NULL|         LZ03|     active|     Peterbilt|     LZ03 s/b Pumper|     inspection|\n+-------------+----------+----------+--------------------+-----------------+---------------+---------+-----------+-----------+-------------+-----------+--------------+--------------------+---------------+\nonly showing top 20 rows\n\n"
     ]
    }
   ],
   "source": [
    "inspection_data = spark.read.csv('dbfs:/FileStore/tables/data_inspections_w_vehicle_map.csv', inferSchema=True, header=True)\n",
    "\n",
    "cleaned_inspection_data = inspection_data.dropna(subset=['driver_id'])\n",
    "\n",
    "# Rename columns: \"status\" → \"inspection_status\" and \"status-2\" → \"status\"\n",
    "cleaned_inspection_data = cleaned_inspection_data.withColumnRenamed(\"status\", \"inspection_status\").withColumnRenamed(\"status-2\", \"status\")\n",
    "\n",
    "# Check if inspection_id is unique and not null\n",
    "null_inspection_id_count = cleaned_inspection_data.filter(col(\"inspection_id\").isNull()).count()\n",
    "inspection_id_unique_count = cleaned_inspection_data.select(countDistinct(\"inspection_id\")).collect()[0][0]\n",
    "total_count = cleaned_inspection_data.count()\n",
    "\n",
    "if null_inspection_id_count == 0 and inspection_id_unique_count == total_count:\n",
    "    print(\"inspection_id is a primary key (unique and non-null)\")\n",
    "    # Drop id column since inspection_id is the primary key\n",
    "    cleaned_inspection_data = cleaned_inspection_data.drop(\"id\")\n",
    "\n",
    "# add main_event_type column\n",
    "cleaned_inspection_data = cleaned_inspection_data.withColumn(\"main_event_type\", lit(\"inspection\"))\n",
    "# cache data \n",
    "cleaned_inspection_data = cleaned_inspection_data.cache()\n",
    "\n",
    "print(cleaned_inspection_data.printSchema())\n",
    "print(cleaned_inspection_data.count())\n",
    "cleaned_inspection_data.show()\n"
   ]
  },
  {
   "cell_type": "markdown",
   "metadata": {
    "application/vnd.databricks.v1+cell": {
     "cellMetadata": {
      "byteLimit": 2048000,
      "rowLimit": 10000
     },
     "inputWidgets": {},
     "nuid": "5b68c768-8421-4c12-b33d-4c6017846033",
     "showTitle": false,
     "tableResultSettingsMap": {},
     "title": ""
    }
   },
   "source": [
    "### `data_idle_events_w_vehicle_map`\n",
    "Here are some of the data cleaning steps that I am going to do for this table \n",
    "- drop NULL values from column `driver_id` \n",
    "- Remove idling events that is larger than 500 minutes from column `minutes_idling` \n",
    "- Checking if `event_id` is unique and not null (primary key); if `event_id` is primary key, drop the `id_x` and `id_y column because the primary key for this table is `event_id` \n",
    "- Create `trip_date` from `start_date` timestamp \n",
    "\n"
   ]
  },
  {
   "cell_type": "code",
   "execution_count": 0,
   "metadata": {
    "application/vnd.databricks.v1+cell": {
     "cellMetadata": {
      "byteLimit": 2048000,
      "rowLimit": 10000
     },
     "inputWidgets": {},
     "nuid": "7dd2c0e1-3d3e-4393-bed7-e5b22c12d152",
     "showTitle": false,
     "tableResultSettingsMap": {},
     "title": ""
    }
   },
   "outputs": [
    {
     "output_type": "stream",
     "name": "stdout",
     "output_type": "stream",
     "text": [
      "event_id is a primary key (unique and non-null)\nroot\n |-- event_id: long (nullable = true)\n |-- start_time: timestamp (nullable = true)\n |-- end_time: timestamp (nullable = true)\n |-- vehicle_id: integer (nullable = true)\n |-- driver_id: double (nullable = true)\n |-- driver_company_id: double (nullable = true)\n |-- minutes_idling: double (nullable = true)\n |-- number: string (nullable = true)\n |-- status: string (nullable = true)\n |-- make: string (nullable = true)\n |-- model: string (nullable = true)\n |-- group_id: double (nullable = true)\n |-- group_name: string (nullable = true)\n |-- idle_date: date (nullable = true)\n |-- main_event_type: string (nullable = false)\n\nNone\n4264634\n+----------+-------------------+-------------------+----------+---------+-----------------+------------------+------------+-----------+-------------+--------------------+--------+--------------------+----------+---------------+\n|  event_id|         start_time|           end_time|vehicle_id|driver_id|driver_company_id|    minutes_idling|      number|     status|         make|               model|group_id|          group_name| idle_date|main_event_type|\n+----------+-------------------+-------------------+----------+---------+-----------------+------------------+------------+-----------+-------------+--------------------+--------+--------------------+----------+---------------+\n|2009232020|2023-07-10 14:07:58|2023-07-10 14:17:47|   1146884|3601229.0|            835.0| 9.816666666666666|          81|     active|         Hino|                  M2| 50046.0|    PA - Port A Bowl|2023-07-10|           idle|\n|2009231690|2023-07-10 14:09:44|2023-07-10 14:17:59|   1136641|3860058.0|            632.0|              8.25|          T5|     active| FREIGHTLINER|                  M2| 55542.0|    AR - Little Rock|2023-07-10|           idle|\n|2009231976|2023-07-10 13:53:33|2023-07-10 14:18:00|   1033098|3606675.0|            834.0|             24.45|          52|     active|     Hino 338|1000/600 Stainles...| 50046.0|    PA - Port A Bowl|2023-07-10|           idle|\n|2009233427|2023-07-10 14:15:14|2023-07-10 14:18:14|   1165790|3941826.0|            455.0|               3.0|        P-08|     active|         Hino|338 - Pump (1500 ...| 60498.0|        FL - Freedom|2023-07-10|           idle|\n|2009232316|2023-07-10 14:08:45|2023-07-10 14:18:16|   1235042|3904785.0|            502.0| 9.516666666666667|      GA 407|deactivated|         HINO|Conventional Type...| 53751.0|     GA -PSI Augusta|2023-07-10|           idle|\n|2009231287|2023-07-10 14:00:33|2023-07-10 14:18:18|   1281781|4227640.0|           1323.0|             17.75|   170160011|     active|         HINO|                 338| 63332.0|TN - Memphis - Sa...|2023-07-10|           idle|\n|2009234090|2023-07-10 14:10:18|2023-07-10 14:18:19|   1189499|3933445.0|           1117.0| 8.016666666666667|   110210033|     active|International|MV607 CONCRETE TR...| 63332.0|TN - Memphis - Sa...|2023-07-10|           idle|\n|2009235262|2023-07-10 14:16:12|2023-07-10 14:18:27|   1123238|3782039.0|            238.0|              2.25|         343|     active|         Ford|         F550 Pumper| 55431.0|           TN - ETP |2023-07-10|           idle|\n|2009232087|2023-07-10 14:14:26|2023-07-10 14:18:36|   1123170|4181872.0|           1446.0| 4.166666666666667|        FAY9|     active|    Peterbilt|          337 Pumper| 55543.0|            AR - Fay|2023-07-10|           idle|\n|2009279149|2023-07-10 14:09:13|2023-07-10 14:18:36|   1137872|3798012.0|            158.0| 9.383333333333333|         F30|     active|         Ford|     F450 (Flat Bed)| 53753.0|NC - Griffin Wast...|2023-07-10|           idle|\n|2009231826|2023-07-10 14:01:10|2023-07-10 14:18:38|   1165793|3941824.0|            453.0|17.466666666666665|        P-09|     active|         Hino|                NULL| 60498.0|        FL - Freedom|2023-07-10|           idle|\n|2009236167|2023-07-10 14:11:14|2023-07-10 14:18:40|   1123161|3906274.0|              7.0| 7.433333333333334|         T11|     active|         Ford|       F550 (Pumper)| 55542.0|    AR - Little Rock|2023-07-10|           idle|\n|2009236048|2023-07-10 14:12:16|2023-07-10 14:18:45|   1192177|3919401.0|           1173.0| 6.483333333333333|        4017|deactivated|         Ford|950 White Route T...| 76130.0|OH - C&L and Safeway|2023-07-10|           idle|\n|2009234934|2023-07-10 14:14:29|2023-07-10 14:18:47|   1123128|3805017.0|            339.0|               4.3|         D 6|     active|International|Hook Lift-Dumpste...| 54015.0|     KY - Moon Minis|2023-07-10|           idle|\n|2009234944|2023-07-10 13:53:10|2023-07-10 14:19:04|   1156509|3905647.0|            911.0|              25.9|PMCSEPTIC 19|     active|         Ford|                 550| 60569.0|      TN - MC Septic|2023-07-10|           idle|\n|2009234761|2023-07-10 14:14:21|2023-07-10 14:19:10|   1123078|4043672.0|           1016.0| 4.816666666666666|         234|     active|         Mack|1500 Tank (1200 s...| 55550.0|         NC - Denver|2023-07-10|           idle|\n|2009156338|2023-07-10 13:41:31|2023-07-10 13:51:16|   1146884|3601229.0|            835.0|              9.75|          81|     active|         Hino|                  M2| 50046.0|    PA - Port A Bowl|2023-07-10|           idle|\n|2009157628|2023-07-10 13:48:23|2023-07-10 13:51:33|   1123096|4036804.0|           1040.0|3.1666666666666665|       NC112|     active|         Mack|         Frontloader| 55552.0|           NC -  ASC|2023-07-10|           idle|\n|2009157963|2023-07-10 13:44:39|2023-07-10 13:51:46|   1287691|3886528.0|           1209.0| 7.116666666666666|        FPD1|     active|         FORD|     F-600 (flatbed)| 53753.0|NC - Griffin Wast...|2023-07-10|           idle|\n|2009157797|2023-07-10 13:48:43|2023-07-10 13:51:51|   1192256|3919349.0|           1160.0|3.1333333333333333|        5787|     active|         FORD|               F-550| 76130.0|OH - C&L and Safeway|2023-07-10|           idle|\n+----------+-------------------+-------------------+----------+---------+-----------------+------------------+------------+-----------+-------------+--------------------+--------+--------------------+----------+---------------+\nonly showing top 20 rows\n\n"
     ]
    }
   ],
   "source": [
    "idle_data = spark.read.csv('dbfs:/FileStore/tables/data_idle_events_w_vehicle_map.csv', inferSchema=True, header=True)\n",
    "\n",
    "cleaned_idle_data = idle_data.dropna(subset=['driver_id'])\n",
    "\n",
    "# Remove idling events where minutes_idling > 500\n",
    "cleaned_idle_data = cleaned_idle_data.filter(col(\"minutes_idling\") <= 500)\n",
    "\n",
    "# Check if event_id is unique and not null\n",
    "null_event_id_count = cleaned_idle_data.filter(col(\"event_id\").isNull()).count()\n",
    "event_id_unique_count = cleaned_idle_data.select(countDistinct(\"event_id\")).collect()[0][0]\n",
    "total_count = cleaned_idle_data.count()\n",
    "\n",
    "if null_event_id_count == 0 and event_id_unique_count == total_count:\n",
    "    print(\"event_id is a primary key (unique and non-null)\")\n",
    "    # Drop id_x and id_y columns since event_id is the primary key\n",
    "    cleaned_idle_data = cleaned_idle_data.drop(\"id_x\", \"id_y\")\n",
    "\n",
    "# add trip_date from start_date timestamp\n",
    "cleaned_idle_data = cleaned_idle_data.withColumn(\"idle_date\", to_date(\"start_time\"))\n",
    "\n",
    "# add main_event_type column\n",
    "cleaned_idle_data = cleaned_idle_data.withColumn(\"main_event_type\", lit(\"idle\"))\n",
    "# cache data \n",
    "cleaned_idle_data = cleaned_idle_data.cache()\n",
    "\n",
    "print(cleaned_idle_data.printSchema())\n",
    "print(cleaned_idle_data.count())\n",
    "cleaned_idle_data.show()"
   ]
  },
  {
   "cell_type": "markdown",
   "metadata": {
    "application/vnd.databricks.v1+cell": {
     "cellMetadata": {
      "byteLimit": 2048000,
      "rowLimit": 10000
     },
     "inputWidgets": {},
     "nuid": "61ab29b7-7371-4f79-b22a-b9d74b09daf8",
     "showTitle": false,
     "tableResultSettingsMap": {},
     "title": ""
    }
   },
   "source": [
    "## Aggregated tables"
   ]
  },
  {
   "cell_type": "code",
   "execution_count": 0,
   "metadata": {
    "application/vnd.databricks.v1+cell": {
     "cellMetadata": {
      "byteLimit": 2048000,
      "rowLimit": 10000
     },
     "inputWidgets": {},
     "nuid": "ebbd0d59-2b7c-44e6-855e-f3937411cee3",
     "showTitle": false,
     "tableResultSettingsMap": {},
     "title": ""
    }
   },
   "outputs": [
    {
     "output_type": "stream",
     "name": "stdout",
     "output_type": "stream",
     "text": [
      "+---------+----------+----------+---------------+\n|driver_id|vehicle_id| trip_date|main_event_type|\n+---------+----------+----------+---------------+\n|3757580.0|   1292577|2023-07-18|         hazard|\n|4210116.0|   1194292|2023-07-19|         hazard|\n|3862130.0|   1123168|2023-07-19|         hazard|\n|3895392.0|   1311984|2023-07-19|         hazard|\n|4178853.0|   1123166|2023-07-19|         hazard|\n|4105456.0|   1123074|2023-07-19|         hazard|\n|3601235.0|   1175213|2023-07-19|         hazard|\n|3933445.0|   1189499|2023-07-18|         hazard|\n|4039747.0|   1123105|2023-07-18|         hazard|\n|3601236.0|   1033103|2023-07-19|         hazard|\n|3773186.0|   1123248|2023-07-18|         hazard|\n|3926379.0|   1163496|2023-07-18|         hazard|\n|4134532.0|   1193220|2023-07-19|         hazard|\n|4036826.0|   1123065|2023-07-19|         hazard|\n|3749443.0|   1086398|2023-07-18|         hazard|\n|4165548.0|   1164772|2023-07-18|         hazard|\n|3792802.0|   1123233|2023-07-19|         hazard|\n|3904680.0|   1164529|2023-07-18|         hazard|\n|4064954.0|   1123098|2023-07-18|         hazard|\n|4207825.0|   1123070|2023-07-18|         hazard|\n+---------+----------+----------+---------------+\nonly showing top 20 rows\n\n"
     ]
    }
   ],
   "source": [
    "# Create the main dataframe that other tables will join based on driver, vehicle_id, trip_date and main_event_type\n",
    "all_trips_df =  cleaned_driving_period.select(\"driver_id\", \"vehicle_id\", \"trip_date\").distinct()\n",
    "main_event_types = [\"hazard\", \"driving\", \"inspection\", \"idle\"]\n",
    "main_event_df = spark.createDataFrame([Row(main_event_type=t) for t in main_event_types])\n",
    "all_trips_df = all_trips_df.crossJoin(main_event_df)\n",
    "\n",
    "all_trips_df.show()"
   ]
  },
  {
   "cell_type": "code",
   "execution_count": 0,
   "metadata": {
    "application/vnd.databricks.v1+cell": {
     "cellMetadata": {
      "byteLimit": 2048000,
      "rowLimit": 10000
     },
     "inputWidgets": {},
     "nuid": "3f0c3f28-66ec-41f1-8185-3c7a773644dc",
     "showTitle": false,
     "tableResultSettingsMap": {},
     "title": ""
    }
   },
   "outputs": [
    {
     "output_type": "stream",
     "name": "stdout",
     "output_type": "stream",
     "text": [
      "Number of rows in the joined DataFrame: 3312011\nroot\n |-- driver_id: double (nullable = true)\n |-- vehicle_id: integer (nullable = true)\n |-- trip_date: date (nullable = true)\n |-- main_event_type: string (nullable = true)\n |-- event_id_driving_period: long (nullable = true)\n |-- start_date_driving_period: timestamp (nullable = true)\n |-- end_date_driving_period: timestamp (nullable = true)\n |-- driving_distance: double (nullable = true)\n |-- driving_period_type: string (nullable = true)\n |-- driver_company_id: string (nullable = true)\n |-- minutes_driving: double (nullable = true)\n |-- month: string (nullable = true)\n |-- created_at_driving_period: timestamp (nullable = true)\n |-- updated_at_driving_period: timestamp (nullable = true)\n |-- unassigned: boolean (nullable = true)\n |-- not_current_driving_period: string (nullable = true)\n |-- number: string (nullable = true)\n |-- status: string (nullable = true)\n |-- make: string (nullable = true)\n |-- model: string (nullable = true)\n |-- group_id: double (nullable = true)\n |-- group_name: string (nullable = true)\n |-- event_id_combined_event: integer (nullable = true)\n |-- hazard_type: string (nullable = true)\n |-- driver_first_name: string (nullable = true)\n |-- driver_last_name: string (nullable = true)\n |-- coaching_status: string (nullable = true)\n |-- start_date_combined_event: timestamp (nullable = true)\n |-- severity: string (nullable = true)\n |-- created_at_combined_event: timestamp (nullable = true)\n |-- updated_at_combined_event: timestamp (nullable = true)\n |-- max_over_speed_in_kph: double (nullable = true)\n |-- max_over_speed_in_mph: double (nullable = true)\n |-- not_current_combined_event: boolean (nullable = true)\n\nSchema None\n+---------+----------+----------+---------------+-----------------------+-------------------------+-----------------------+----------------+-------------------+-----------------+------------------+-----+-------------------------+-------------------------+----------+--------------------------+------+------+-------------+------+--------+----------+-----------------------+-----------+-----------------+----------------+---------------+-------------------------+--------+-------------------------+-------------------------+---------------------+---------------------+--------------------------+\n|driver_id|vehicle_id| trip_date|main_event_type|event_id_driving_period|start_date_driving_period|end_date_driving_period|driving_distance|driving_period_type|driver_company_id|   minutes_driving|month|created_at_driving_period|updated_at_driving_period|unassigned|not_current_driving_period|number|status|         make| model|group_id|group_name|event_id_combined_event|hazard_type|driver_first_name|driver_last_name|coaching_status|start_date_combined_event|severity|created_at_combined_event|updated_at_combined_event|max_over_speed_in_kph|max_over_speed_in_mph|not_current_combined_event|\n+---------+----------+----------+---------------+-----------------------+-------------------------+-----------------------+----------------+-------------------+-----------------+------------------+-----+-------------------------+-------------------------+----------+--------------------------+------+------+-------------+------+--------+----------+-----------------------+-----------+-----------------+----------------+---------------+-------------------------+--------+-------------------------+-------------------------+---------------------+---------------------+--------------------------+\n|3601235.0|   1175213|2023-07-19|         hazard|                   NULL|                     NULL|                   NULL|            NULL|               NULL|             NULL|              NULL| NULL|                     NULL|                     NULL|      NULL|                      NULL|  NULL|  NULL|         NULL|  NULL|    NULL|      NULL|                   NULL|       NULL|             NULL|            NULL|           NULL|                     NULL|    NULL|                     NULL|                     NULL|                 NULL|                 NULL|                      NULL|\n|3601236.0|   1033103|2023-07-19|         hazard|                   NULL|                     NULL|                   NULL|            NULL|               NULL|             NULL|              NULL| NULL|                     NULL|                     NULL|      NULL|                      NULL|  NULL|  NULL|         NULL|  NULL|    NULL|      NULL|                   NULL|       NULL|             NULL|            NULL|           NULL|                     NULL|    NULL|                     NULL|                     NULL|                 NULL|                 NULL|                      NULL|\n|3601236.0|   1033103|2023-07-19|           idle|                   NULL|                     NULL|                   NULL|            NULL|               NULL|             NULL|              NULL| NULL|                     NULL|                     NULL|      NULL|                      NULL|  NULL|  NULL|         NULL|  NULL|    NULL|      NULL|                   NULL|       NULL|             NULL|            NULL|           NULL|                     NULL|    NULL|                     NULL|                     NULL|                 NULL|                 NULL|                      NULL|\n|3757580.0|   1292577|2023-07-18|         hazard|                   NULL|                     NULL|                   NULL|            NULL|               NULL|             NULL|              NULL| NULL|                     NULL|                     NULL|      NULL|                      NULL|  NULL|  NULL|         NULL|  NULL|    NULL|      NULL|              967868940| tailgating|        Frederick|         Johnson|        coached|      2023-07-18 15:16:43|    high|     2024-08-09 18:56:...|     2024-12-20 20:17:...|                 NULL|                 NULL|                      NULL|\n|3757580.0|   1292577|2023-07-18|         hazard|                   NULL|                     NULL|                   NULL|            NULL|               NULL|             NULL|              NULL| NULL|                     NULL|                     NULL|      NULL|                      NULL|  NULL|  NULL|         NULL|  NULL|    NULL|      NULL|              968094863| cell_phone|        Frederick|         Johnson|        coached|      2023-07-18 18:37:52|    high|     2024-08-09 18:56:...|     2024-12-20 20:17:...|                 NULL|                 NULL|                      NULL|\n|3757580.0|   1292577|2023-07-18|         hazard|                   NULL|                     NULL|                   NULL|            NULL|               NULL|             NULL|              NULL| NULL|                     NULL|                     NULL|      NULL|                      NULL|  NULL|  NULL|         NULL|  NULL|    NULL|      NULL|             1032720369|   speeding|        Frederick|         Johnson| pending_review|      2023-07-18 18:33:50|    NULL|     2024-08-09 18:56:...|     2024-12-20 20:17:...|   24.368700000000004|   15.142003487700002|                      NULL|\n|3757580.0|   1292577|2023-07-18|         hazard|                   NULL|                     NULL|                   NULL|            NULL|               NULL|             NULL|              NULL| NULL|                     NULL|                     NULL|      NULL|                      NULL|  NULL|  NULL|         NULL|  NULL|    NULL|      NULL|             1032720368|   speeding|        Frederick|         Johnson| pending_review|      2023-07-18 18:24:36|    NULL|     2024-08-09 18:56:...|     2024-12-20 20:17:...|              23.4178|        14.5511418038|                      NULL|\n|3757580.0|   1292577|2023-07-18|         hazard|                   NULL|                     NULL|                   NULL|            NULL|               NULL|             NULL|              NULL| NULL|                     NULL|                     NULL|      NULL|                      NULL|  NULL|  NULL|         NULL|  NULL|    NULL|      NULL|             1032369599|   speeding|        Frederick|         Johnson|        coached|      2023-07-18 14:44:02|    NULL|     2024-08-09 18:56:...|     2024-12-20 20:17:...|   24.257900000000006|   15.073155580900004|                      NULL|\n|3757580.0|   1292577|2023-07-18|         hazard|                   NULL|                     NULL|                   NULL|            NULL|               NULL|             NULL|              NULL| NULL|                     NULL|                     NULL|      NULL|                      NULL|  NULL|  NULL|         NULL|  NULL|    NULL|      NULL|             1032296572|   speeding|        Frederick|         Johnson|        coached|      2023-07-18 13:26:25|    NULL|     2024-08-09 18:56:...|     2024-12-20 20:17:...|              21.3022|        13.2365693162|                      NULL|\n|3792802.0|   1123233|2023-07-19|         hazard|                   NULL|                     NULL|                   NULL|            NULL|               NULL|             NULL|              NULL| NULL|                     NULL|                     NULL|      NULL|                      NULL|  NULL|  NULL|         NULL|  NULL|    NULL|      NULL|                   NULL|       NULL|             NULL|            NULL|           NULL|                     NULL|    NULL|                     NULL|                     NULL|                 NULL|                 NULL|                      NULL|\n|3792802.0|   1123233|2023-07-19|           idle|                   NULL|                     NULL|                   NULL|            NULL|               NULL|             NULL|              NULL| NULL|                     NULL|                     NULL|      NULL|                      NULL|  NULL|  NULL|         NULL|  NULL|    NULL|      NULL|                   NULL|       NULL|             NULL|            NULL|           NULL|                     NULL|    NULL|                     NULL|                     NULL|                 NULL|                 NULL|                      NULL|\n|3862130.0|   1123168|2023-07-19|        driving|             1872481671|      2023-07-19 16:42:25|    2023-07-19 17:32:34|            38.6|            driving|            421.0|             50.15| July|     2024-08-09 19:07:...|     2024-08-09 19:07:...|     false|                       nan|  FAY5|active|Peterbilt 337|Pumper| 55543.0|  AR - Fay|                   NULL|       NULL|             NULL|            NULL|           NULL|                     NULL|    NULL|                     NULL|                     NULL|                 NULL|                 NULL|                      NULL|\n|3862130.0|   1123168|2023-07-19|        driving|             1872327781|      2023-07-19 15:42:40|    2023-07-19 16:26:18|            14.6|            driving|            421.0| 43.63333333333333| July|     2024-08-09 19:07:...|     2024-08-09 19:07:...|     false|                       nan|  FAY5|active|Peterbilt 337|Pumper| 55543.0|  AR - Fay|                   NULL|       NULL|             NULL|            NULL|           NULL|                     NULL|    NULL|                     NULL|                     NULL|                 NULL|                 NULL|                      NULL|\n|3862130.0|   1123168|2023-07-19|        driving|             1872104293|      2023-07-19 14:15:44|    2023-07-19 15:32:05|            22.9|            driving|            421.0|             76.35| July|     2024-08-09 19:07:...|     2024-08-09 19:07:...|     false|                       nan|  FAY5|active|Peterbilt 337|Pumper| 55543.0|  AR - Fay|                   NULL|       NULL|             NULL|            NULL|           NULL|                     NULL|    NULL|                     NULL|                     NULL|                 NULL|                 NULL|                      NULL|\n|3862130.0|   1123168|2023-07-19|        driving|             1872038370|      2023-07-19 13:49:15|    2023-07-19 14:06:50|             7.4|            driving|            421.0|17.583333333333332| July|     2024-08-09 19:07:...|     2024-08-09 19:07:...|     false|                       nan|  FAY5|active|Peterbilt 337|Pumper| 55543.0|  AR - Fay|                   NULL|       NULL|             NULL|            NULL|           NULL|                     NULL|    NULL|                     NULL|                     NULL|                 NULL|                 NULL|                      NULL|\n|3862130.0|   1123168|2023-07-19|        driving|             1871978093|      2023-07-19 13:25:02|    2023-07-19 13:30:07|             2.1|            driving|            421.0| 5.083333333333333| July|     2024-08-09 19:07:...|     2024-08-09 19:07:...|     false|                       nan|  FAY5|active|Peterbilt 337|Pumper| 55543.0|  AR - Fay|                   NULL|       NULL|             NULL|            NULL|           NULL|                     NULL|    NULL|                     NULL|                     NULL|                 NULL|                 NULL|                      NULL|\n|3862130.0|   1123168|2023-07-19|        driving|             1871842085|      2023-07-19 12:26:07|    2023-07-19 13:12:15|            39.1|            driving|            421.0| 46.13333333333333| July|     2024-08-09 19:07:...|     2024-08-09 19:07:...|     false|                       nan|  FAY5|active|Peterbilt 337|Pumper| 55543.0|  AR - Fay|                   NULL|       NULL|             NULL|            NULL|           NULL|                     NULL|    NULL|                     NULL|                     NULL|                 NULL|                 NULL|                      NULL|\n|3862130.0|   1123168|2023-07-19|         hazard|                   NULL|                     NULL|                   NULL|            NULL|               NULL|             NULL|              NULL| NULL|                     NULL|                     NULL|      NULL|                      NULL|  NULL|  NULL|         NULL|  NULL|    NULL|      NULL|                   NULL|       NULL|             NULL|            NULL|           NULL|                     NULL|    NULL|                     NULL|                     NULL|                 NULL|                 NULL|                      NULL|\n|3862130.0|   1123168|2023-07-19|           idle|                   NULL|                     NULL|                   NULL|            NULL|               NULL|             NULL|              NULL| NULL|                     NULL|                     NULL|      NULL|                      NULL|  NULL|  NULL|         NULL|  NULL|    NULL|      NULL|                   NULL|       NULL|             NULL|            NULL|           NULL|                     NULL|    NULL|                     NULL|                     NULL|                 NULL|                 NULL|                      NULL|\n|3895392.0|   1311984|2023-07-19|           idle|                   NULL|                     NULL|                   NULL|            NULL|               NULL|             NULL|              NULL| NULL|                     NULL|                     NULL|      NULL|                      NULL|  NULL|  NULL|         NULL|  NULL|    NULL|      NULL|                   NULL|       NULL|             NULL|            NULL|           NULL|                     NULL|    NULL|                     NULL|                     NULL|                 NULL|                 NULL|                      NULL|\n+---------+----------+----------+---------------+-----------------------+-------------------------+-----------------------+----------------+-------------------+-----------------+------------------+-----+-------------------------+-------------------------+----------+--------------------------+------+------+-------------+------+--------+----------+-----------------------+-----------+-----------------+----------------+---------------+-------------------------+--------+-------------------------+-------------------------+---------------------+---------------------+--------------------------+\nonly showing top 20 rows\n\n"
     ]
    }
   ],
   "source": [
    "from pyspark.sql.functions import col\n",
    "\n",
    "# Rename created_at and updated_at columns in both tables\n",
    "joining_driving_period= cleaned_driving_period.withColumnRenamed(\"created_at\", \"created_at_driving_period\") \\\n",
    "                                               .withColumnRenamed(\"updated_at\", \"updated_at_driving_period\") \\\n",
    "                                               .withColumnRenamed(\"start_date\", \"start_date_driving_period\") \\\n",
    "                                               .withColumnRenamed(\"end_date\", \"end_date_driving_period\") \\\n",
    "                                                .withColumnRenamed(\"event_id\", \n",
    "                                                \"event_id_driving_period\") \\\n",
    "                                                .withColumnRenamed(\"not_current\", \"not_current_driving_period\")\n",
    "\n",
    "main_joined_df = all_trips_df.join(\n",
    "    joining_driving_period,\n",
    "    on=[\"driver_id\", \"vehicle_id\", \"trip_date\", \"main_event_type\"], \n",
    "    how=\"left\"\n",
    ")\n",
    "\n",
    "# rename combined_event\n",
    "joining_combined_event_data = cleaned_combined_event_data.withColumnRenamed(\"created_at\", \"created_at_combined_event\") \\\n",
    "                                                         .withColumnRenamed(\"updated_at\", \"updated_at_combined_event\") \\\n",
    "                                               .withColumnRenamed(\"start_date\", \"start_date_combined_event\") \\\n",
    "                                                .withColumnRenamed(\"event_id\", \n",
    "                                                    \"event_id_combined_event\") \\\n",
    "                                                .withColumnRenamed(\"type\", \"hazard_type\") \\\n",
    "                                                .withColumnRenamed(\"not_current\", \"not_current_combined_event\")\n",
    "# drop following columns from combined_event\n",
    "drop_col = [\"number\", \"status\", \"make\", \"model\", \"group_id\", \"group_name\", \"month\"]\n",
    "joining_combined_event_data = joining_combined_event_data.drop(*drop_col)\n",
    "\n",
    "\n",
    "# join on driver_id, vehicle_id, trip_date\n",
    "main_joined_df = main_joined_df.join(\n",
    "    joining_combined_event_data,\n",
    "    on=[\"driver_id\", \"vehicle_id\", \"trip_date\", \"main_event_type\"], \n",
    "    how=\"left\"\n",
    ")\n",
    "\n",
    "# Show the joined DataFrame\n",
    "print(\"Number of rows in the joined DataFrame:\", main_joined_df.count())\n",
    "print(\"Schema\", main_joined_df.printSchema())\n",
    "main_joined_df.show()\n"
   ]
  },
  {
   "cell_type": "code",
   "execution_count": 0,
   "metadata": {
    "application/vnd.databricks.v1+cell": {
     "cellMetadata": {
      "byteLimit": 2048000,
      "rowLimit": 10000
     },
     "inputWidgets": {},
     "nuid": "fabe6bbf-a56e-4a20-8282-d9e010e1a3d1",
     "showTitle": false,
     "tableResultSettingsMap": {},
     "title": ""
    }
   },
   "outputs": [
    {
     "output_type": "stream",
     "name": "stdout",
     "output_type": "stream",
     "text": [
      "Number of rows in the joined DataFrame: 3355239\nroot\n |-- driver_id: double (nullable = true)\n |-- vehicle_id: integer (nullable = true)\n |-- trip_date: date (nullable = true)\n |-- main_event_type: string (nullable = true)\n |-- event_id_driving_period: long (nullable = true)\n |-- start_date_driving_period: timestamp (nullable = true)\n |-- end_date_driving_period: timestamp (nullable = true)\n |-- driving_distance: double (nullable = true)\n |-- driving_period_type: string (nullable = true)\n |-- driver_company_id: string (nullable = true)\n |-- minutes_driving: double (nullable = true)\n |-- month: string (nullable = true)\n |-- created_at_driving_period: timestamp (nullable = true)\n |-- updated_at_driving_period: timestamp (nullable = true)\n |-- unassigned: boolean (nullable = true)\n |-- not_current_driving_period: string (nullable = true)\n |-- number: string (nullable = true)\n |-- status: string (nullable = true)\n |-- make: string (nullable = true)\n |-- model: string (nullable = true)\n |-- group_id: double (nullable = true)\n |-- group_name: string (nullable = true)\n |-- event_id_combined_event: integer (nullable = true)\n |-- hazard_type: string (nullable = true)\n |-- driver_first_name: string (nullable = true)\n |-- driver_last_name: string (nullable = true)\n |-- coaching_status: string (nullable = true)\n |-- start_date_combined_event: timestamp (nullable = true)\n |-- severity: string (nullable = true)\n |-- created_at_combined_event: timestamp (nullable = true)\n |-- updated_at_combined_event: timestamp (nullable = true)\n |-- max_over_speed_in_kph: double (nullable = true)\n |-- max_over_speed_in_mph: double (nullable = true)\n |-- not_current_combined_event: boolean (nullable = true)\n |-- inspection_id: long (nullable = true)\n |-- inspection_location: string (nullable = true)\n |-- inspection_status: string (nullable = true)\n |-- inspection_type: string (nullable = true)\n |-- mechanic_id: string (nullable = true)\n |-- reviewer_id: string (nullable = true)\n\nSchema None\n+---------+----------+----------+---------------+-----------------------+-------------------------+-----------------------+----------------+-------------------+-----------------+------------------+-----+-------------------------+-------------------------+----------+--------------------------+------+------+-------------+------+--------+----------+-----------------------+-----------+-----------------+----------------+---------------+-------------------------+--------+-------------------------+-------------------------+---------------------+---------------------+--------------------------+-------------+-------------------+-----------------+---------------+-----------+-----------+\n|driver_id|vehicle_id| trip_date|main_event_type|event_id_driving_period|start_date_driving_period|end_date_driving_period|driving_distance|driving_period_type|driver_company_id|   minutes_driving|month|created_at_driving_period|updated_at_driving_period|unassigned|not_current_driving_period|number|status|         make| model|group_id|group_name|event_id_combined_event|hazard_type|driver_first_name|driver_last_name|coaching_status|start_date_combined_event|severity|created_at_combined_event|updated_at_combined_event|max_over_speed_in_kph|max_over_speed_in_mph|not_current_combined_event|inspection_id|inspection_location|inspection_status|inspection_type|mechanic_id|reviewer_id|\n+---------+----------+----------+---------------+-----------------------+-------------------------+-----------------------+----------------+-------------------+-----------------+------------------+-----+-------------------------+-------------------------+----------+--------------------------+------+------+-------------+------+--------+----------+-----------------------+-----------+-----------------+----------------+---------------+-------------------------+--------+-------------------------+-------------------------+---------------------+---------------------+--------------------------+-------------+-------------------+-----------------+---------------+-----------+-----------+\n|3601235.0|   1175213|2023-07-19|         hazard|                   NULL|                     NULL|                   NULL|            NULL|               NULL|             NULL|              NULL| NULL|                     NULL|                     NULL|      NULL|                      NULL|  NULL|  NULL|         NULL|  NULL|    NULL|      NULL|                   NULL|       NULL|             NULL|            NULL|           NULL|                     NULL|    NULL|                     NULL|                     NULL|                 NULL|                 NULL|                      NULL|         NULL|               NULL|             NULL|           NULL|       NULL|       NULL|\n|3601236.0|   1033103|2023-07-19|         hazard|                   NULL|                     NULL|                   NULL|            NULL|               NULL|             NULL|              NULL| NULL|                     NULL|                     NULL|      NULL|                      NULL|  NULL|  NULL|         NULL|  NULL|    NULL|      NULL|                   NULL|       NULL|             NULL|            NULL|           NULL|                     NULL|    NULL|                     NULL|                     NULL|                 NULL|                 NULL|                      NULL|         NULL|               NULL|             NULL|           NULL|       NULL|       NULL|\n|3601236.0|   1033103|2023-07-19|           idle|                   NULL|                     NULL|                   NULL|            NULL|               NULL|             NULL|              NULL| NULL|                     NULL|                     NULL|      NULL|                      NULL|  NULL|  NULL|         NULL|  NULL|    NULL|      NULL|                   NULL|       NULL|             NULL|            NULL|           NULL|                     NULL|    NULL|                     NULL|                     NULL|                 NULL|                 NULL|                      NULL|         NULL|               NULL|             NULL|           NULL|       NULL|       NULL|\n|3757580.0|   1292577|2023-07-18|         hazard|                   NULL|                     NULL|                   NULL|            NULL|               NULL|             NULL|              NULL| NULL|                     NULL|                     NULL|      NULL|                      NULL|  NULL|  NULL|         NULL|  NULL|    NULL|      NULL|              967868940| tailgating|        Frederick|         Johnson|        coached|      2023-07-18 15:16:43|    high|     2024-08-09 18:56:...|     2024-12-20 20:17:...|                 NULL|                 NULL|                      NULL|         NULL|               NULL|             NULL|           NULL|       NULL|       NULL|\n|3757580.0|   1292577|2023-07-18|         hazard|                   NULL|                     NULL|                   NULL|            NULL|               NULL|             NULL|              NULL| NULL|                     NULL|                     NULL|      NULL|                      NULL|  NULL|  NULL|         NULL|  NULL|    NULL|      NULL|              968094863| cell_phone|        Frederick|         Johnson|        coached|      2023-07-18 18:37:52|    high|     2024-08-09 18:56:...|     2024-12-20 20:17:...|                 NULL|                 NULL|                      NULL|         NULL|               NULL|             NULL|           NULL|       NULL|       NULL|\n|3757580.0|   1292577|2023-07-18|         hazard|                   NULL|                     NULL|                   NULL|            NULL|               NULL|             NULL|              NULL| NULL|                     NULL|                     NULL|      NULL|                      NULL|  NULL|  NULL|         NULL|  NULL|    NULL|      NULL|             1032720369|   speeding|        Frederick|         Johnson| pending_review|      2023-07-18 18:33:50|    NULL|     2024-08-09 18:56:...|     2024-12-20 20:17:...|   24.368700000000004|   15.142003487700002|                      NULL|         NULL|               NULL|             NULL|           NULL|       NULL|       NULL|\n|3757580.0|   1292577|2023-07-18|         hazard|                   NULL|                     NULL|                   NULL|            NULL|               NULL|             NULL|              NULL| NULL|                     NULL|                     NULL|      NULL|                      NULL|  NULL|  NULL|         NULL|  NULL|    NULL|      NULL|             1032720368|   speeding|        Frederick|         Johnson| pending_review|      2023-07-18 18:24:36|    NULL|     2024-08-09 18:56:...|     2024-12-20 20:17:...|              23.4178|        14.5511418038|                      NULL|         NULL|               NULL|             NULL|           NULL|       NULL|       NULL|\n|3757580.0|   1292577|2023-07-18|         hazard|                   NULL|                     NULL|                   NULL|            NULL|               NULL|             NULL|              NULL| NULL|                     NULL|                     NULL|      NULL|                      NULL|  NULL|  NULL|         NULL|  NULL|    NULL|      NULL|             1032369599|   speeding|        Frederick|         Johnson|        coached|      2023-07-18 14:44:02|    NULL|     2024-08-09 18:56:...|     2024-12-20 20:17:...|   24.257900000000006|   15.073155580900004|                      NULL|         NULL|               NULL|             NULL|           NULL|       NULL|       NULL|\n|3757580.0|   1292577|2023-07-18|         hazard|                   NULL|                     NULL|                   NULL|            NULL|               NULL|             NULL|              NULL| NULL|                     NULL|                     NULL|      NULL|                      NULL|  NULL|  NULL|         NULL|  NULL|    NULL|      NULL|             1032296572|   speeding|        Frederick|         Johnson|        coached|      2023-07-18 13:26:25|    NULL|     2024-08-09 18:56:...|     2024-12-20 20:17:...|              21.3022|        13.2365693162|                      NULL|         NULL|               NULL|             NULL|           NULL|       NULL|       NULL|\n|3792802.0|   1123233|2023-07-19|         hazard|                   NULL|                     NULL|                   NULL|            NULL|               NULL|             NULL|              NULL| NULL|                     NULL|                     NULL|      NULL|                      NULL|  NULL|  NULL|         NULL|  NULL|    NULL|      NULL|                   NULL|       NULL|             NULL|            NULL|           NULL|                     NULL|    NULL|                     NULL|                     NULL|                 NULL|                 NULL|                      NULL|         NULL|               NULL|             NULL|           NULL|       NULL|       NULL|\n|3792802.0|   1123233|2023-07-19|           idle|                   NULL|                     NULL|                   NULL|            NULL|               NULL|             NULL|              NULL| NULL|                     NULL|                     NULL|      NULL|                      NULL|  NULL|  NULL|         NULL|  NULL|    NULL|      NULL|                   NULL|       NULL|             NULL|            NULL|           NULL|                     NULL|    NULL|                     NULL|                     NULL|                 NULL|                 NULL|                      NULL|         NULL|               NULL|             NULL|           NULL|       NULL|       NULL|\n|3862130.0|   1123168|2023-07-19|        driving|             1872481671|      2023-07-19 16:42:25|    2023-07-19 17:32:34|            38.6|            driving|            421.0|             50.15| July|     2024-08-09 19:07:...|     2024-08-09 19:07:...|     false|                       nan|  FAY5|active|Peterbilt 337|Pumper| 55543.0|  AR - Fay|                   NULL|       NULL|             NULL|            NULL|           NULL|                     NULL|    NULL|                     NULL|                     NULL|                 NULL|                 NULL|                      NULL|         NULL|               NULL|             NULL|           NULL|       NULL|       NULL|\n|3862130.0|   1123168|2023-07-19|        driving|             1872327781|      2023-07-19 15:42:40|    2023-07-19 16:26:18|            14.6|            driving|            421.0| 43.63333333333333| July|     2024-08-09 19:07:...|     2024-08-09 19:07:...|     false|                       nan|  FAY5|active|Peterbilt 337|Pumper| 55543.0|  AR - Fay|                   NULL|       NULL|             NULL|            NULL|           NULL|                     NULL|    NULL|                     NULL|                     NULL|                 NULL|                 NULL|                      NULL|         NULL|               NULL|             NULL|           NULL|       NULL|       NULL|\n|3862130.0|   1123168|2023-07-19|        driving|             1872104293|      2023-07-19 14:15:44|    2023-07-19 15:32:05|            22.9|            driving|            421.0|             76.35| July|     2024-08-09 19:07:...|     2024-08-09 19:07:...|     false|                       nan|  FAY5|active|Peterbilt 337|Pumper| 55543.0|  AR - Fay|                   NULL|       NULL|             NULL|            NULL|           NULL|                     NULL|    NULL|                     NULL|                     NULL|                 NULL|                 NULL|                      NULL|         NULL|               NULL|             NULL|           NULL|       NULL|       NULL|\n|3862130.0|   1123168|2023-07-19|        driving|             1872038370|      2023-07-19 13:49:15|    2023-07-19 14:06:50|             7.4|            driving|            421.0|17.583333333333332| July|     2024-08-09 19:07:...|     2024-08-09 19:07:...|     false|                       nan|  FAY5|active|Peterbilt 337|Pumper| 55543.0|  AR - Fay|                   NULL|       NULL|             NULL|            NULL|           NULL|                     NULL|    NULL|                     NULL|                     NULL|                 NULL|                 NULL|                      NULL|         NULL|               NULL|             NULL|           NULL|       NULL|       NULL|\n|3862130.0|   1123168|2023-07-19|        driving|             1871978093|      2023-07-19 13:25:02|    2023-07-19 13:30:07|             2.1|            driving|            421.0| 5.083333333333333| July|     2024-08-09 19:07:...|     2024-08-09 19:07:...|     false|                       nan|  FAY5|active|Peterbilt 337|Pumper| 55543.0|  AR - Fay|                   NULL|       NULL|             NULL|            NULL|           NULL|                     NULL|    NULL|                     NULL|                     NULL|                 NULL|                 NULL|                      NULL|         NULL|               NULL|             NULL|           NULL|       NULL|       NULL|\n|3862130.0|   1123168|2023-07-19|        driving|             1871842085|      2023-07-19 12:26:07|    2023-07-19 13:12:15|            39.1|            driving|            421.0| 46.13333333333333| July|     2024-08-09 19:07:...|     2024-08-09 19:07:...|     false|                       nan|  FAY5|active|Peterbilt 337|Pumper| 55543.0|  AR - Fay|                   NULL|       NULL|             NULL|            NULL|           NULL|                     NULL|    NULL|                     NULL|                     NULL|                 NULL|                 NULL|                      NULL|         NULL|               NULL|             NULL|           NULL|       NULL|       NULL|\n|3862130.0|   1123168|2023-07-19|         hazard|                   NULL|                     NULL|                   NULL|            NULL|               NULL|             NULL|              NULL| NULL|                     NULL|                     NULL|      NULL|                      NULL|  NULL|  NULL|         NULL|  NULL|    NULL|      NULL|                   NULL|       NULL|             NULL|            NULL|           NULL|                     NULL|    NULL|                     NULL|                     NULL|                 NULL|                 NULL|                      NULL|         NULL|               NULL|             NULL|           NULL|       NULL|       NULL|\n|3862130.0|   1123168|2023-07-19|           idle|                   NULL|                     NULL|                   NULL|            NULL|               NULL|             NULL|              NULL| NULL|                     NULL|                     NULL|      NULL|                      NULL|  NULL|  NULL|         NULL|  NULL|    NULL|      NULL|                   NULL|       NULL|             NULL|            NULL|           NULL|                     NULL|    NULL|                     NULL|                     NULL|                 NULL|                 NULL|                      NULL|         NULL|               NULL|             NULL|           NULL|       NULL|       NULL|\n|3895392.0|   1311984|2023-07-19|           idle|                   NULL|                     NULL|                   NULL|            NULL|               NULL|             NULL|              NULL| NULL|                     NULL|                     NULL|      NULL|                      NULL|  NULL|  NULL|         NULL|  NULL|    NULL|      NULL|                   NULL|       NULL|             NULL|            NULL|           NULL|                     NULL|    NULL|                     NULL|                     NULL|                 NULL|                 NULL|                      NULL|         NULL|               NULL|             NULL|           NULL|       NULL|       NULL|\n+---------+----------+----------+---------------+-----------------------+-------------------------+-----------------------+----------------+-------------------+-----------------+------------------+-----+-------------------------+-------------------------+----------+--------------------------+------+------+-------------+------+--------+----------+-----------------------+-----------+-----------------+----------------+---------------+-------------------------+--------+-------------------------+-------------------------+---------------------+---------------------+--------------------------+-------------+-------------------+-----------------+---------------+-----------+-----------+\nonly showing top 20 rows\n\n"
     ]
    }
   ],
   "source": [
    "joining_inspection_data = cleaned_inspection_data.drop(*drop_col)\n",
    "# rename: \n",
    "joining_inspection_data = joining_inspection_data.withColumnRenamed(\"date\", \"trip_date\") \\\n",
    "                                               .withColumnRenamed(\"location\", \"inspection_location\")\n",
    "\n",
    "# join on driver_id, vehicle_id, trip_date\n",
    "main_joined_df = main_joined_df.join(\n",
    "    joining_inspection_data,\n",
    "    on=[\"driver_id\", \"vehicle_id\", \"trip_date\", \"main_event_type\"], \n",
    "    how=\"left\"\n",
    ")\n",
    "\n",
    "# Show the joined DataFrame\n",
    "print(\"Number of rows in the joined DataFrame:\", main_joined_df.count())\n",
    "print(\"Schema\", main_joined_df.printSchema())\n",
    "main_joined_df.show()\n",
    "\n"
   ]
  },
  {
   "cell_type": "code",
   "execution_count": 0,
   "metadata": {
    "application/vnd.databricks.v1+cell": {
     "cellMetadata": {
      "byteLimit": 2048000,
      "rowLimit": 10000
     },
     "inputWidgets": {},
     "nuid": "4f08a8da-a894-4dcc-86fb-d5e443828c6a",
     "showTitle": false,
     "tableResultSettingsMap": {},
     "title": ""
    }
   },
   "outputs": [
    {
     "output_type": "stream",
     "name": "stdout",
     "output_type": "stream",
     "text": [
      "root\n |-- event_id: long (nullable = true)\n |-- start_time: timestamp (nullable = true)\n |-- end_time: timestamp (nullable = true)\n |-- vehicle_id: integer (nullable = true)\n |-- driver_id: double (nullable = true)\n |-- driver_company_id: double (nullable = true)\n |-- minutes_idling: double (nullable = true)\n |-- number: string (nullable = true)\n |-- status: string (nullable = true)\n |-- make: string (nullable = true)\n |-- model: string (nullable = true)\n |-- group_id: double (nullable = true)\n |-- group_name: string (nullable = true)\n |-- idle_date: date (nullable = true)\n |-- main_event_type: string (nullable = false)\n\n"
     ]
    }
   ],
   "source": [
    "cleaned_idle_data.printSchema()"
   ]
  },
  {
   "cell_type": "code",
   "execution_count": 0,
   "metadata": {
    "application/vnd.databricks.v1+cell": {
     "cellMetadata": {
      "byteLimit": 2048000,
      "rowLimit": 10000
     },
     "inputWidgets": {},
     "nuid": "a682bb7c-7089-47f4-81d6-bdef7d33b345",
     "showTitle": false,
     "tableResultSettingsMap": {},
     "title": ""
    }
   },
   "outputs": [
    {
     "output_type": "stream",
     "name": "stdout",
     "output_type": "stream",
     "text": [
      "Number of rows in the joined DataFrame: 7428575\nroot\n |-- driver_id: double (nullable = true)\n |-- vehicle_id: integer (nullable = true)\n |-- trip_date: date (nullable = true)\n |-- main_event_type: string (nullable = true)\n |-- event_id_driving_period: long (nullable = true)\n |-- start_date_driving_period: timestamp (nullable = true)\n |-- end_date_driving_period: timestamp (nullable = true)\n |-- driving_distance: double (nullable = true)\n |-- driving_period_type: string (nullable = true)\n |-- driver_company_id: string (nullable = true)\n |-- minutes_driving: double (nullable = true)\n |-- month: string (nullable = true)\n |-- created_at_driving_period: timestamp (nullable = true)\n |-- updated_at_driving_period: timestamp (nullable = true)\n |-- unassigned: boolean (nullable = true)\n |-- not_current_driving_period: string (nullable = true)\n |-- number: string (nullable = true)\n |-- status: string (nullable = true)\n |-- make: string (nullable = true)\n |-- model: string (nullable = true)\n |-- group_id: double (nullable = true)\n |-- group_name: string (nullable = true)\n |-- event_id_combined_event: integer (nullable = true)\n |-- hazard_type: string (nullable = true)\n |-- driver_first_name: string (nullable = true)\n |-- driver_last_name: string (nullable = true)\n |-- coaching_status: string (nullable = true)\n |-- start_date_combined_event: timestamp (nullable = true)\n |-- severity: string (nullable = true)\n |-- created_at_combined_event: timestamp (nullable = true)\n |-- updated_at_combined_event: timestamp (nullable = true)\n |-- max_over_speed_in_kph: double (nullable = true)\n |-- max_over_speed_in_mph: double (nullable = true)\n |-- not_current_combined_event: boolean (nullable = true)\n |-- inspection_id: long (nullable = true)\n |-- inspection_location: string (nullable = true)\n |-- inspection_status: string (nullable = true)\n |-- inspection_type: string (nullable = true)\n |-- mechanic_id: string (nullable = true)\n |-- reviewer_id: string (nullable = true)\n |-- event_id_idle: long (nullable = true)\n |-- start_time_idle: timestamp (nullable = true)\n |-- end_time_idle: timestamp (nullable = true)\n |-- minutes_idling: double (nullable = true)\n\nSchema None\n+---------+----------+----------+---------------+-----------------------+-------------------------+-----------------------+----------------+-------------------+-----------------+------------------+---------+-------------------------+-------------------------+----------+--------------------------+------+------+------------+--------------------+--------+-----------------+-----------------------+------------------+-----------------+----------------+---------------+-------------------------+--------+-------------------------+-------------------------+---------------------+---------------------+--------------------------+-------------+-------------------+-----------------+---------------+-----------+-----------+-------------+---------------+-------------+--------------+\n|driver_id|vehicle_id| trip_date|main_event_type|event_id_driving_period|start_date_driving_period|end_date_driving_period|driving_distance|driving_period_type|driver_company_id|   minutes_driving|    month|created_at_driving_period|updated_at_driving_period|unassigned|not_current_driving_period|number|status|        make|               model|group_id|       group_name|event_id_combined_event|       hazard_type|driver_first_name|driver_last_name|coaching_status|start_date_combined_event|severity|created_at_combined_event|updated_at_combined_event|max_over_speed_in_kph|max_over_speed_in_mph|not_current_combined_event|inspection_id|inspection_location|inspection_status|inspection_type|mechanic_id|reviewer_id|event_id_idle|start_time_idle|end_time_idle|minutes_idling|\n+---------+----------+----------+---------------+-----------------------+-------------------------+-----------------------+----------------+-------------------+-----------------+------------------+---------+-------------------------+-------------------------+----------+--------------------------+------+------+------------+--------------------+--------+-----------------+-----------------------+------------------+-----------------+----------------+---------------+-------------------------+--------+-------------------------+-------------------------+---------------------+---------------------+--------------------------+-------------+-------------------+-----------------+---------------+-----------+-----------+-------------+---------------+-------------+--------------+\n|  67876.0|   1123139|2023-01-19|         hazard|                   NULL|                     NULL|                   NULL|            NULL|               NULL|             NULL|              NULL|     NULL|                     NULL|                     NULL|      NULL|                      NULL|  NULL|  NULL|        NULL|                NULL|    NULL|             NULL|              834120615|          speeding|             Kent|           Lucas|    uncoachable|      2023-01-19 21:27:06|    NULL|     2024-08-09 18:44:...|     2024-12-20 19:57:...|   20.655100000000004|   12.834480142100002|                      NULL|         NULL|               NULL|             NULL|           NULL|       NULL|       NULL|         NULL|           NULL|         NULL|          NULL|\n|  67876.0|   1123139|2023-01-19|         hazard|                   NULL|                     NULL|                   NULL|            NULL|               NULL|             NULL|              NULL|     NULL|                     NULL|                     NULL|      NULL|                      NULL|  NULL|  NULL|        NULL|                NULL|    NULL|             NULL|              768175114|        cell_phone|             Kent|           Lucas|        coached|      2023-01-19 15:56:29|    high|     2024-08-09 18:44:...|     2024-12-20 19:57:...|                 NULL|                 NULL|                      NULL|         NULL|               NULL|             NULL|           NULL|       NULL|       NULL|         NULL|           NULL|         NULL|          NULL|\n|  67876.0|   1123139|2023-01-19|         hazard|                   NULL|                     NULL|                   NULL|            NULL|               NULL|             NULL|              NULL|     NULL|                     NULL|                     NULL|      NULL|                      NULL|  NULL|  NULL|        NULL|                NULL|    NULL|             NULL|              768517576|        cell_phone|             Kent|           Lucas| pending_review|      2023-01-19 19:57:37|    NULL|     2024-08-09 18:44:...|     2024-12-20 19:57:...|                 NULL|                 NULL|                      NULL|         NULL|               NULL|             NULL|           NULL|       NULL|       NULL|         NULL|           NULL|         NULL|          NULL|\n|  67876.0|   1123139|2023-01-19|         hazard|                   NULL|                     NULL|                   NULL|            NULL|               NULL|             NULL|              NULL|     NULL|                     NULL|                     NULL|      NULL|                      NULL|  NULL|  NULL|        NULL|                NULL|    NULL|             NULL|              767909692|camera_obstruction|             Kent|           Lucas|    uncoachable|      2023-01-19 14:15:02|    high|     2024-08-09 18:44:...|     2024-12-20 19:57:...|                 NULL|                 NULL|                      NULL|         NULL|               NULL|             NULL|           NULL|       NULL|       NULL|         NULL|           NULL|         NULL|          NULL|\n|  67876.0|   1123139|2023-01-19|         hazard|                   NULL|                     NULL|                   NULL|            NULL|               NULL|             NULL|              NULL|     NULL|                     NULL|                     NULL|      NULL|                      NULL|  NULL|  NULL|        NULL|                NULL|    NULL|             NULL|              768608249|        cell_phone|             Kent|           Lucas| pending_review|      2023-01-19 21:14:06|    NULL|     2024-08-09 18:44:...|     2024-12-20 19:57:...|                 NULL|                 NULL|                      NULL|         NULL|               NULL|             NULL|           NULL|       NULL|       NULL|         NULL|           NULL|         NULL|          NULL|\n|  67876.0|   1123139|2023-05-05|        driving|             1752617999|      2023-05-05 13:53:47|    2023-05-05 13:54:00|             0.1|            driving|              353|0.2166666666666666|      May|     2024-08-09 18:52:...|     2024-08-09 18:52:...|     false|                       nan| T2012|active|Freightliner|ML -T2012 (tracto...| 54014.0|KY - Moon leasing|                   NULL|              NULL|             NULL|            NULL|           NULL|                     NULL|    NULL|                     NULL|                     NULL|                 NULL|                 NULL|                      NULL|         NULL|               NULL|             NULL|           NULL|       NULL|       NULL|         NULL|           NULL|         NULL|          NULL|\n|  67876.0|   1123139|2023-05-05|        driving|             1752524262|      2023-05-05 13:11:43|    2023-05-05 13:37:44|            19.4|            driving|              353|26.016666666666666|      May|     2024-08-09 18:52:...|     2024-08-09 18:52:...|     false|                       nan| T2012|active|Freightliner|ML -T2012 (tracto...| 54014.0|KY - Moon leasing|                   NULL|              NULL|             NULL|            NULL|           NULL|                     NULL|    NULL|                     NULL|                     NULL|                 NULL|                 NULL|                      NULL|         NULL|               NULL|             NULL|           NULL|       NULL|       NULL|         NULL|           NULL|         NULL|          NULL|\n|  67876.0|   1123139|2023-05-19|     inspection|                   NULL|                     NULL|                   NULL|            NULL|               NULL|             NULL|              NULL|     NULL|                     NULL|                     NULL|      NULL|                      NULL|  NULL|  NULL|        NULL|                NULL|    NULL|             NULL|                   NULL|              NULL|             NULL|            NULL|           NULL|                     NULL|    NULL|                     NULL|                     NULL|                 NULL|                 NULL|                      NULL|  10470504731|     Louisville, KY|       acceptable|           NULL|       NULL|       NULL|         NULL|           NULL|         NULL|          NULL|\n|  67876.0|   1123139|2023-09-22|        driving|             1985883482|      2023-09-22 19:12:12|    2023-09-22 19:16:32|             0.2|            driving|              353| 4.333333333333333|September|     2024-08-09 19:26:...|     2024-08-09 19:26:...|     false|                       nan| T2012|active|Freightliner|ML -T2012 (tracto...| 54014.0|KY - Moon leasing|                   NULL|              NULL|             NULL|            NULL|           NULL|                     NULL|    NULL|                     NULL|                     NULL|                 NULL|                 NULL|                      NULL|         NULL|               NULL|             NULL|           NULL|       NULL|       NULL|         NULL|           NULL|         NULL|          NULL|\n|  67876.0|   1123139|2023-09-22|        driving|             1985836707|      2023-09-22 18:51:49|    2023-09-22 18:56:09|             1.3|            driving|              353| 4.333333333333333|September|     2024-08-09 19:26:...|     2024-08-09 19:26:...|     false|                       nan| T2012|active|Freightliner|ML -T2012 (tracto...| 54014.0|KY - Moon leasing|                   NULL|              NULL|             NULL|            NULL|           NULL|                     NULL|    NULL|                     NULL|                     NULL|                 NULL|                 NULL|                      NULL|         NULL|               NULL|             NULL|           NULL|       NULL|       NULL|         NULL|           NULL|         NULL|          NULL|\n|  67876.0|   1123139|2023-09-22|        driving|             1985642696|      2023-09-22 17:31:48|    2023-09-22 18:39:10|            50.3|            driving|              353| 67.36666666666666|September|     2024-08-09 19:26:...|     2024-08-09 19:26:...|     false|                       nan| T2012|active|Freightliner|ML -T2012 (tracto...| 54014.0|KY - Moon leasing|                   NULL|              NULL|             NULL|            NULL|           NULL|                     NULL|    NULL|                     NULL|                     NULL|                 NULL|                 NULL|                      NULL|         NULL|               NULL|             NULL|           NULL|       NULL|       NULL|         NULL|           NULL|         NULL|          NULL|\n|  67876.0|   1123139|2023-09-22|        driving|             1985337692|      2023-09-22 15:32:58|    2023-09-22 16:01:12|            15.6|            driving|              353| 28.23333333333333|September|     2024-08-09 19:26:...|     2024-08-09 19:26:...|     false|                       nan| T2012|active|Freightliner|ML -T2012 (tracto...| 54014.0|KY - Moon leasing|                   NULL|              NULL|             NULL|            NULL|           NULL|                     NULL|    NULL|                     NULL|                     NULL|                 NULL|                 NULL|                      NULL|         NULL|               NULL|             NULL|           NULL|       NULL|       NULL|         NULL|           NULL|         NULL|          NULL|\n|  67876.0|   1123139|2023-09-22|        driving|             1985522520|      2023-09-22 16:44:28|    2023-09-22 17:06:09|            15.5|            driving|              353|21.683333333333334|September|     2024-08-09 19:26:...|     2024-08-09 19:26:...|     false|                       nan| T2012|active|Freightliner|ML -T2012 (tracto...| 54014.0|KY - Moon leasing|                   NULL|              NULL|             NULL|            NULL|           NULL|                     NULL|    NULL|                     NULL|                     NULL|                 NULL|                 NULL|                      NULL|         NULL|               NULL|             NULL|           NULL|       NULL|       NULL|         NULL|           NULL|         NULL|          NULL|\n|  67876.0|   1123139|2023-09-22|        driving|             1985503522|      2023-09-22 16:33:55|    2023-09-22 16:37:48|             1.1|            driving|              353| 3.883333333333333|September|     2024-08-09 19:26:...|     2024-08-09 19:26:...|     false|                       nan| T2012|active|Freightliner|ML -T2012 (tracto...| 54014.0|KY - Moon leasing|                   NULL|              NULL|             NULL|            NULL|           NULL|                     NULL|    NULL|                     NULL|                     NULL|                 NULL|                 NULL|                      NULL|         NULL|               NULL|             NULL|           NULL|       NULL|       NULL|         NULL|           NULL|         NULL|          NULL|\n|  67876.0|   1123139|2023-09-22|        driving|             1985254868|      2023-09-22 15:01:50|    2023-09-22 15:04:19|             0.4|            driving|              353|2.4833333333333334|September|     2024-08-09 19:26:...|     2024-08-09 19:26:...|     false|                       nan| T2012|active|Freightliner|ML -T2012 (tracto...| 54014.0|KY - Moon leasing|                   NULL|              NULL|             NULL|            NULL|           NULL|                     NULL|    NULL|                     NULL|                     NULL|                 NULL|                 NULL|                      NULL|         NULL|               NULL|             NULL|           NULL|       NULL|       NULL|         NULL|           NULL|         NULL|          NULL|\n|  67876.0|   1123139|2023-09-22|        driving|             1985097050|      2023-09-22 14:00:52|    2023-09-22 14:42:55|            31.0|            driving|              353|             42.05|September|     2024-08-09 19:26:...|     2024-08-09 19:26:...|     false|                       nan| T2012|active|Freightliner|ML -T2012 (tracto...| 54014.0|KY - Moon leasing|                   NULL|              NULL|             NULL|            NULL|           NULL|                     NULL|    NULL|                     NULL|                     NULL|                 NULL|                 NULL|                      NULL|         NULL|               NULL|             NULL|           NULL|       NULL|       NULL|         NULL|           NULL|         NULL|          NULL|\n|  67876.0|   1123139|2023-09-22|        driving|             1985011570|      2023-09-22 13:26:48|    2023-09-22 13:50:31|            11.7|            driving|              353|23.716666666666665|September|     2024-08-09 19:26:...|     2024-08-09 19:26:...|     false|                       nan| T2012|active|Freightliner|ML -T2012 (tracto...| 54014.0|KY - Moon leasing|                   NULL|              NULL|             NULL|            NULL|           NULL|                     NULL|    NULL|                     NULL|                     NULL|                 NULL|                 NULL|                      NULL|         NULL|               NULL|             NULL|           NULL|       NULL|       NULL|         NULL|           NULL|         NULL|          NULL|\n|  67876.0|   1123139|2023-09-22|        driving|             1984899993|      2023-09-22 12:40:18|    2023-09-22 13:17:08|            24.3|            driving|              353|36.833333333333336|September|     2024-08-09 19:26:...|     2024-08-09 19:26:...|     false|                       nan| T2012|active|Freightliner|ML -T2012 (tracto...| 54014.0|KY - Moon leasing|                   NULL|              NULL|             NULL|            NULL|           NULL|                     NULL|    NULL|                     NULL|                     NULL|                 NULL|                 NULL|                      NULL|         NULL|               NULL|             NULL|           NULL|       NULL|       NULL|         NULL|           NULL|         NULL|          NULL|\n|  67876.0|   1123139|2023-09-22|        driving|             1984843175|      2023-09-22 12:15:00|    2023-09-22 12:17:04|             0.2|            driving|              353| 2.066666666666667|September|     2024-08-09 19:26:...|     2024-08-09 19:26:...|     false|                       nan| T2012|active|Freightliner|ML -T2012 (tracto...| 54014.0|KY - Moon leasing|                   NULL|              NULL|             NULL|            NULL|           NULL|                     NULL|    NULL|                     NULL|                     NULL|                 NULL|                 NULL|                      NULL|         NULL|               NULL|             NULL|           NULL|       NULL|       NULL|         NULL|           NULL|         NULL|          NULL|\n|  67876.0|   1123139|2023-09-22|        driving|             1984867251|      2023-09-22 12:25:58|    2023-09-22 12:32:34|             0.1|            driving|              353|               6.6|September|     2024-08-09 19:26:...|     2024-08-09 19:26:...|     false|                       nan| T2012|active|Freightliner|ML -T2012 (tracto...| 54014.0|KY - Moon leasing|                   NULL|              NULL|             NULL|            NULL|           NULL|                     NULL|    NULL|                     NULL|                     NULL|                 NULL|                 NULL|                      NULL|         NULL|               NULL|             NULL|           NULL|       NULL|       NULL|         NULL|           NULL|         NULL|          NULL|\n+---------+----------+----------+---------------+-----------------------+-------------------------+-----------------------+----------------+-------------------+-----------------+------------------+---------+-------------------------+-------------------------+----------+--------------------------+------+------+------------+--------------------+--------+-----------------+-----------------------+------------------+-----------------+----------------+---------------+-------------------------+--------+-------------------------+-------------------------+---------------------+---------------------+--------------------------+-------------+-------------------+-----------------+---------------+-----------+-----------+-------------+---------------+-------------+--------------+\nonly showing top 20 rows\n\n"
     ]
    }
   ],
   "source": [
    "# join with idle event \n",
    "joining_idle_data = cleaned_idle_data.drop(*drop_col)\n",
    "joining_idle_data= joining_idle_data.drop(\"driver_company_id\")\n",
    "# rename: \n",
    "joining_idle_data = joining_idle_data.withColumnRenamed(\"start_time\", \"start_time_idle\") \\\n",
    "                                    .withColumnRenamed(\"end_time\", \"end_time_idle\") \\\n",
    "                                    .withColumnRenamed(\"idle_date\", \"trip_date\") \\\n",
    "                                    .withColumnRenamed(\"event_id\", \"event_id_idle\") \\\n",
    "\n",
    "# join on driver_id, vehicle_id, trip_date\n",
    "main_joined_df = main_joined_df.join(\n",
    "    joining_idle_data,\n",
    "    on=[\"driver_id\", \"vehicle_id\", \"trip_date\", \"main_event_type\"], \n",
    "    how=\"left\"\n",
    ")\n",
    "\n",
    "# Show the joined DataFrame\n",
    "print(\"Number of rows in the joined DataFrame:\", main_joined_df.count())\n",
    "print(\"Schema\", main_joined_df.printSchema())\n",
    "\n",
    "# cache data for later use \n",
    "main_joined_df=main_joined_df.cache()\n",
    "main_joined_df.show()\n",
    "\n",
    "\n"
   ]
  },
  {
   "cell_type": "code",
   "execution_count": 0,
   "metadata": {
    "application/vnd.databricks.v1+cell": {
     "cellMetadata": {
      "byteLimit": 2048000,
      "rowLimit": 10000
     },
     "inputWidgets": {},
     "nuid": "337ec572-df2f-4172-b05b-b73e3b4e9b4e",
     "showTitle": false,
     "tableResultSettingsMap": {},
     "title": ""
    }
   },
   "outputs": [
    {
     "output_type": "stream",
     "name": "stdout",
     "output_type": "stream",
     "text": [
      "root\n |-- driver_id: double (nullable = true)\n |-- vehicle_id: integer (nullable = true)\n |-- trip_date: date (nullable = true)\n |-- main_event_type: string (nullable = true)\n |-- event_id_driving_period: long (nullable = true)\n |-- start_date_driving_period: timestamp (nullable = true)\n |-- end_date_driving_period: timestamp (nullable = true)\n |-- driving_distance: double (nullable = true)\n |-- driving_period_type: string (nullable = true)\n |-- driver_company_id: string (nullable = true)\n |-- minutes_driving: double (nullable = true)\n |-- month: string (nullable = true)\n |-- created_at_driving_period: timestamp (nullable = true)\n |-- updated_at_driving_period: timestamp (nullable = true)\n |-- unassigned: boolean (nullable = true)\n |-- not_current: string (nullable = true)\n |-- number: string (nullable = true)\n |-- status: string (nullable = true)\n |-- make: string (nullable = true)\n |-- model: string (nullable = true)\n |-- group_id: double (nullable = true)\n |-- group_name: string (nullable = true)\n |-- event_id_combined_event: integer (nullable = true)\n |-- hazard_type: string (nullable = true)\n |-- driver_first_name: string (nullable = true)\n |-- driver_last_name: string (nullable = true)\n |-- coaching_status: string (nullable = true)\n |-- start_date_combined_event: timestamp (nullable = true)\n |-- severity: string (nullable = true)\n |-- created_at_combined_event: timestamp (nullable = true)\n |-- updated_at_combined_event: timestamp (nullable = true)\n |-- max_over_speed_in_kph: double (nullable = true)\n |-- max_over_speed_in_mph: double (nullable = true)\n |-- not_current: boolean (nullable = true)\n |-- inspection_id: long (nullable = true)\n |-- inspection_location: string (nullable = true)\n |-- inspection_status: string (nullable = true)\n |-- inspection_type: string (nullable = true)\n |-- mechanic_id: string (nullable = true)\n |-- reviewer_id: string (nullable = true)\n |-- event_id_idle: long (nullable = true)\n |-- start_time_idle: timestamp (nullable = true)\n |-- end_time_idle: timestamp (nullable = true)\n |-- minutes_idling: double (nullable = true)\n\n"
     ]
    }
   ],
   "source": [
    "main_joined_df.printSchema()"
   ]
  },
  {
   "cell_type": "code",
   "execution_count": 0,
   "metadata": {
    "application/vnd.databricks.v1+cell": {
     "cellMetadata": {
      "byteLimit": 2048000,
      "rowLimit": 10000
     },
     "inputWidgets": {},
     "nuid": "7473a50b-96ba-48e1-bee9-2adb99bfb5a5",
     "showTitle": false,
     "tableResultSettingsMap": {},
     "title": ""
    }
   },
   "outputs": [],
   "source": [
    "# Save this data in dbfs for future use\n",
    "main_joined_df.write.mode(\"overwrite\").option(\"header\", \"true\").csv(\"dbfs:/FileStore/tables/motive_joined_events.csv\")\n"
   ]
  }
 ],
 "metadata": {
  "application/vnd.databricks.v1+notebook": {
   "computePreferences": null,
   "dashboards": [],
   "environmentMetadata": {
    "base_environment": "",
    "environment_version": "2"
   },
   "language": "python",
   "notebookMetadata": {
    "mostRecentlyExecutedCommandWithImplicitDF": {
     "commandId": 1181363975326391,
     "dataframes": [
      "_sqldf"
     ]
    },
    "pythonIndentUnit": 4
   },
   "notebookName": "motive_data_processing",
   "widgets": {}
  },
  "language_info": {
   "name": "python"
  }
 },
 "nbformat": 4,
 "nbformat_minor": 0
}