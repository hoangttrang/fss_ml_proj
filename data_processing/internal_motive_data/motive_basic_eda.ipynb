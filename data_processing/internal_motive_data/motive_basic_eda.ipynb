{
 "cells": [
  {
   "cell_type": "markdown",
   "metadata": {
    "application/vnd.databricks.v1+cell": {
     "cellMetadata": {
      "byteLimit": 2048000,
      "rowLimit": 10000
     },
     "inputWidgets": {},
     "nuid": "bf778c1a-511c-44f5-9948-e7846e0b4663",
     "showTitle": false,
     "tableResultSettingsMap": {},
     "title": ""
    }
   },
   "source": [
    "# Motive Basic Data Exploratory \n",
    "This notebook is to explore the data so that we can write up the data dictionary, additionally, draft up plan on how we should clean the data. The structure of this notebook will be. For each data set, we would go over the following steps: \n",
    "- Get the schema name\n",
    "- Understanding null values\n",
    "- Get Statistic Description for numerical values; I will ignore any id related columns if that column is integer data type \n",
    "- Determine outliers, if there is outlier, we create box plot to see the values range\n",
    "- Categorical Values; get the unique values from the categorical. \n",
    "- At the end, we would write up some key observations about the data that need to be considered. \n",
    "\n",
    "For full description of the granularity of the data, please visit our data description pdf.\n",
    "\n",
    "The tables that we are going to do data exploratory would be \n",
    "- `data_combined_events_w_vehicle_map.csv`\n",
    "- `data_driving_periods_w_vehicle_map.csv`\n",
    "- `data_inspections_w_vehicle_map.csv`\n",
    "- `data_idle_events_w_vehicle_map.csv`\n",
    "- `accident_register_combined_driverid.csv`\n",
    "- `monthly_claims_insurance_driverid.csv` \n",
    "\n",
    "Some of the main observations that I have was: \n",
    "- Each table has vehicle related information like the model of the car, tha car's make, the status of that car etc\n",
    "- For all 3 tables, the start date usually indicates the start time of the event or the start of the trips; The start date reflects when the company implements Motive. Therefore all 4 tables have date range from 2023 to March 10 2025 with a note that the data from 2023 contains loads of missing data due to slowly build rapport with vendor to use this tool\n",
    "- there are missing driver_id for all 4 tables that need to drops\n",
    "- `driving_distance` has less than values for table `data_driving_periods_w_vehicle_map.csv`, we need to drops value that less than 0 \n",
    "- `minutes_idling` from table `data_idle_events_w_vehicle_map` has outliers that need to be taken care off as well \n",
    "\n",
    "For the accident related tables like `accident_register_combined_driverid` and `monthly_claims_insurance_driverid`: \n",
    "- Most of the accidents are recorded from 2023 to 2025\n",
    "- There are a lot of drivers who doesn't have an assigned driver id, or drivers who doesn't have name associated with the accidents\n",
    "- Not all accidents involve vehicle collisions—some result from work-related incidents that cause vehicle damage.\n",
    "- Missing timestamps and location data in the accident register may introduce challenges when merging with external datasets like weather data.\n",
    "- The accident dataset includes a Region field that indicates the FusionSite region where an accident occurred.\n",
    "\n",
    "\n",
    "## System/Environment setup \n"
   ]
  },
  {
   "cell_type": "code",
   "execution_count": 0,
   "metadata": {
    "application/vnd.databricks.v1+cell": {
     "cellMetadata": {
      "byteLimit": 2048000,
      "rowLimit": 10000
     },
     "inputWidgets": {},
     "nuid": "d78cc380-1cee-4507-aee5-6dab16c8513e",
     "showTitle": false,
     "tableResultSettingsMap": {},
     "title": ""
    }
   },
   "outputs": [],
   "source": [
    "from pyspark.sql import SparkSession\n",
    "from pyspark.sql import SparkSession\n",
    "from pyspark.sql import functions as F\n",
    "from pyspark.sql.types import *\n",
    "\n",
    "app_name = \"final-proj\"\n",
    "master = \"local[*]\"\n",
    "spark = SparkSession\\\n",
    "        .builder\\\n",
    "        .appName(app_name)\\\n",
    "        .master(master)\\\n",
    "        .getOrCreate()\n",
    "\n",
    "sc = spark.sparkContext"
   ]
  },
  {
   "cell_type": "code",
   "execution_count": 0,
   "metadata": {
    "application/vnd.databricks.v1+cell": {
     "cellMetadata": {
      "byteLimit": 2048000,
      "rowLimit": 10000
     },
     "inputWidgets": {},
     "nuid": "78bae60f-40a2-4546-abe1-1e44513bd094",
     "showTitle": false,
     "tableResultSettingsMap": {},
     "title": ""
    }
   },
   "outputs": [],
   "source": [
    "# import libraries\n",
    "from pyspark.sql.functions import col, count, mean, stddev, min, max, when, isnan, countDistinct\n",
    "import matplotlib.pyplot as plt\n",
    "import seaborn as sns"
   ]
  },
  {
   "cell_type": "markdown",
   "metadata": {
    "application/vnd.databricks.v1+cell": {
     "cellMetadata": {
      "byteLimit": 2048000,
      "rowLimit": 10000
     },
     "inputWidgets": {},
     "nuid": "81d37c2e-14af-45c4-9111-209a8845cba8",
     "showTitle": false,
     "tableResultSettingsMap": {},
     "title": ""
    }
   },
   "source": [
    "## Data Exploratory \n",
    "For each table, in order to explore the data and understand what is the data about I am going to do the following \n",
    "\n",
    "### `data_combined_events_w_vehicle_map`\n",
    "\n",
    "This is the data table that record whenever the driver doesn't comply or violate harard and safety events that are classified by Motive; some of the events are \"seatbelt\", \"speeding\" and \"cellphones\" \n"
   ]
  },
  {
   "cell_type": "code",
   "execution_count": 0,
   "metadata": {
    "application/vnd.databricks.v1+cell": {
     "cellMetadata": {
      "byteLimit": 2048000,
      "rowLimit": 10000
     },
     "inputWidgets": {},
     "nuid": "d4754362-023a-4205-9d25-f369dff62e40",
     "showTitle": false,
     "tableResultSettingsMap": {},
     "title": ""
    }
   },
   "outputs": [
    {
     "name": "stdout",
     "output_type": "stream",
     "text": [
      "+-----+---------+-------------------+---------+-----------------+----------------+----------+---------------+-------------------+--------+-----+--------------------+--------------------+---------------------+---------------------+-----------+---------+-----------+--------------+--------------------+--------+--------------------+\n",
      "|   id| event_id|               type|driver_id|driver_first_name|driver_last_name|vehicle_id|coaching_status|         start_date|severity|month|          created_at|          updated_at|max_over_speed_in_kph|max_over_speed_in_mph|not_current|   number|     status|          make|               model|group_id|          group_name|\n",
      "+-----+---------+-------------------+---------+-----------------+----------------+----------+---------------+-------------------+--------+-----+--------------------+--------------------+---------------------+---------------------+-----------+---------+-----------+--------------+--------------------+--------+--------------------+\n",
      "|60370|819158654|seat_belt_violation|     NULL|             NULL|            NULL|   1168969|      coachable|2023-03-08 00:09:06|    high|March|2024-08-09 18:47:...|2024-12-20 20:02:...|                 NULL|                 NULL|       NULL|   GA-402|deactivated|          Hino|                 238| 53751.0|     GA -PSI Augusta|\n",
      "|60371|819188700|         cell_phone|3933445.0|        Jerdarian|         Kennedy|   1189499|        coached|2023-03-08 00:41:18|    high|March|2024-08-09 18:47:...|2024-12-20 20:02:...|                 NULL|                 NULL|       NULL|110210033|     active| International|MV607 CONCRETE TR...| 63332.0|TN - Memphis - Sa...|\n",
      "|60372|819203892|         cell_phone|3933445.0|        Jerdarian|         Kennedy|   1189499| pending_review|2023-03-08 00:53:07|    NULL|March|2024-08-09 18:47:...|2024-12-20 20:02:...|                 NULL|                 NULL|       NULL|110210033|     active| International|MV607 CONCRETE TR...| 63332.0|TN - Memphis - Sa...|\n",
      "|60373|819245560|seat_belt_violation|     NULL|             NULL|            NULL|   1032409|    uncoachable|2023-03-08 02:03:41|     low|March|2024-08-09 18:47:...|2024-12-20 20:02:...|                 NULL|                 NULL|       NULL|       77|     active|       Hino L7|1500/500 Aluminum...| 50046.0|    PA - Port A Bowl|\n",
      "|60374|819337412|seat_belt_violation|     NULL|             NULL|            NULL|   1163927|      coachable|2023-03-08 06:49:44|    high|March|2024-08-09 18:47:...|2024-12-20 20:02:...|                 NULL|                 NULL|       NULL|      302|deactivated|          Hino|                 238| 53751.0|     GA -PSI Augusta|\n",
      "|60375|819357240|stop_sign_violation|     NULL|             NULL|            NULL|   1123099| pending_review|2023-03-08 08:28:25|  medium|March|2024-08-09 18:47:...|2024-12-20 20:02:...|                 NULL|                 NULL|       NULL|      115|     active|          Mack|         Frontloader| 55552.0|           NC -  ASC|\n",
      "|60376|819402525| camera_obstruction|3838164.0|             John|          Miller|   1123247|        coached|2023-03-08 10:47:12|  medium|March|2024-08-09 18:47:...|2024-12-20 20:02:...|                 NULL|                 NULL|       NULL|      323|     active|Chevrolet 5500|              Pumper| 55431.0|           TN - ETP |\n",
      "|60377|819409951|seat_belt_violation|     NULL|             NULL|            NULL|   1123208| pending_review|2023-03-08 10:59:54|  medium|March|2024-08-09 18:47:...|2024-12-20 20:02:...|                 NULL|                 NULL|       NULL|170190011|     active|     Chevrolet|              Pumper| 55428.0|TN - FusionSite (...|\n",
      "|60378|819414707| camera_obstruction|     NULL|             NULL|            NULL|   1123090| pending_review|2023-03-08 11:09:03|  medium|March|2024-08-09 18:47:...|2024-12-20 20:02:...|                 NULL|                 NULL|       NULL|       A3|     active|         Mack |            Roll Off| 55552.0|           NC -  ASC|\n",
      "|60379|819418511|seat_belt_violation|     NULL|             NULL|            NULL|   1137826|      coachable|2023-03-08 11:14:22|    high|March|2024-08-09 18:47:...|2024-12-20 20:02:...|                 NULL|                 NULL|       NULL|      FP5|     active|          Ford|         F450 (Pump)| 53753.0|NC - Griffin Wast...|\n",
      "|60380|819427412|        distraction|3601232.0|          Anthony|           Swain|   1048398|    uncoachable|2023-03-08 11:19:41|     low|March|2024-08-09 18:47:...|2024-12-20 20:02:...|                 NULL|                 NULL|       NULL|       71|     active|          Hino|                NULL| 50046.0|    PA - Port A Bowl|\n",
      "|60381|819426526|stop_sign_violation|     NULL|             NULL|            NULL|   1188867| pending_review|2023-03-08 11:26:39|  medium|March|2024-08-09 18:47:...|2024-12-20 20:02:...|                 NULL|                 NULL|       NULL|   SC-129|     active|          Hino|              TK-195| 53751.0|     GA -PSI Augusta|\n",
      "|60382|819428802|stop_sign_violation|     NULL|             NULL|            NULL|   1123097| pending_review|2023-03-08 11:29:29|  medium|March|2024-08-09 18:47:...|2024-12-20 20:02:...|                 NULL|                 NULL|       NULL|    NC113|     active|          Mack|         Frontloader| 55552.0|           NC -  ASC|\n",
      "|60383|819432276|         tailgating|3797900.0|              Lee|          Jordan|   1137812|      coachable|2023-03-08 11:33:39|    high|March|2024-08-09 18:47:...|2024-12-20 20:02:...|                 NULL|                 NULL|       NULL|      D10|deactivated|         Dodge|     4500 (Flat Bed)| 53753.0|NC - Griffin Wast...|\n",
      "|60384|819433934|stop_sign_violation|     NULL|             NULL|            NULL|   1123101| pending_review|2023-03-08 11:35:57|  medium|March|2024-08-09 18:47:...|2024-12-20 20:02:...|                 NULL|                 NULL|       NULL|    NC106|     active|  Western Star|            Roll Off| 55552.0|           NC -  ASC|\n",
      "|60385|819434151|         cell_phone|     NULL|             NULL|            NULL|   1123151|        coached|2023-03-08 11:36:21|    high|March|2024-08-09 18:47:...|2024-12-20 20:02:...|                 NULL|                 NULL|       NULL|      PD5|     active|          Ford|                F250| 55542.0|    AR - Little Rock|\n",
      "|60386|819434737|stop_sign_violation|     NULL|             NULL|            NULL|   1123077| pending_review|2023-03-08 11:37:04|  medium|March|2024-08-09 18:47:...|2024-12-20 20:02:...|                 NULL|                 NULL|       NULL|      233|     active|          Hino|           L7 Pumper| 55550.0|         NC - Denver|\n",
      "|60387|819437182|stop_sign_violation|     NULL|             NULL|            NULL|   1123096| pending_review|2023-03-08 11:40:18|  medium|March|2024-08-09 18:47:...|2024-12-20 20:02:...|                 NULL|                 NULL|       NULL|    NC112|     active|          Mack|         Frontloader| 55552.0|           NC -  ASC|\n",
      "|60388|819437940|seat_belt_violation|     NULL|             NULL|            NULL|   1137940|      coachable|2023-03-08 11:41:24|     low|March|2024-08-09 18:47:...|2024-12-20 20:02:...|                 NULL|                 NULL|       NULL|      F37|     active|          Ford|         F450 (Hook)| 68660.0|NC - Griffin Hook...|\n",
      "|60389|819438068|seat_belt_violation|     NULL|             NULL|            NULL|   1137940| pending_review|2023-03-08 11:41:56|     low|March|2024-08-09 18:47:...|2024-12-20 20:02:...|                 NULL|                 NULL|       NULL|      F37|     active|          Ford|         F450 (Hook)| 68660.0|NC - Griffin Hook...|\n",
      "+-----+---------+-------------------+---------+-----------------+----------------+----------+---------------+-------------------+--------+-----+--------------------+--------------------+---------------------+---------------------+-----------+---------+-----------+--------------+--------------------+--------+--------------------+\n",
      "only showing top 20 rows\n",
      "\n"
     ]
    }
   ],
   "source": [
    "combined_event_data = spark.read.csv('dbfs:/FileStore/tables/data_combined_events_w_vehicle_map.csv', inferSchema=True, header=True)\n",
    "combined_event_data.show()"
   ]
  },
  {
   "cell_type": "code",
   "execution_count": 0,
   "metadata": {
    "application/vnd.databricks.v1+cell": {
     "cellMetadata": {
      "byteLimit": 2048000,
      "rowLimit": 10000
     },
     "inputWidgets": {},
     "nuid": "34267446-89cf-4d2b-a0f4-ed2b196f0833",
     "showTitle": false,
     "tableResultSettingsMap": {},
     "title": ""
    }
   },
   "outputs": [
    {
     "name": "stdout",
     "output_type": "stream",
     "text": [
      "Schema:\n",
      "root\n",
      " |-- id: integer (nullable = true)\n",
      " |-- event_id: integer (nullable = true)\n",
      " |-- type: string (nullable = true)\n",
      " |-- driver_id: double (nullable = true)\n",
      " |-- driver_first_name: string (nullable = true)\n",
      " |-- driver_last_name: string (nullable = true)\n",
      " |-- vehicle_id: integer (nullable = true)\n",
      " |-- coaching_status: string (nullable = true)\n",
      " |-- start_date: timestamp (nullable = true)\n",
      " |-- severity: string (nullable = true)\n",
      " |-- month: string (nullable = true)\n",
      " |-- created_at: timestamp (nullable = true)\n",
      " |-- updated_at: timestamp (nullable = true)\n",
      " |-- max_over_speed_in_kph: double (nullable = true)\n",
      " |-- max_over_speed_in_mph: double (nullable = true)\n",
      " |-- not_current: boolean (nullable = true)\n",
      " |-- number: string (nullable = true)\n",
      " |-- status: string (nullable = true)\n",
      " |-- make: string (nullable = true)\n",
      " |-- model: string (nullable = true)\n",
      " |-- group_id: double (nullable = true)\n",
      " |-- group_name: string (nullable = true)\n",
      "\n",
      "Missing Values:\n",
      "id: 0\n",
      "event_id: 0\n",
      "type: 0\n",
      "driver_id: 150390\n",
      "driver_first_name: 150390\n",
      "driver_last_name: 150390\n",
      "vehicle_id: 0\n",
      "coaching_status: 0\n",
      "start_date: 0\n",
      "severity: 299799\n",
      "month: 0\n",
      "created_at: 0\n",
      "updated_at: 0\n",
      "max_over_speed_in_kph: 250209\n",
      "max_over_speed_in_mph: 250209\n",
      "not_current: 446618\n",
      "number: 214\n",
      "status: 214\n",
      "make: 3115\n",
      "model: 20143\n",
      "group_id: 203\n",
      "group_name: 203\n"
     ]
    }
   ],
   "source": [
    "from pyspark.sql.functions import col, count, when\n",
    "# Show schema\n",
    "print(\"Schema:\")\n",
    "combined_event_data.printSchema()\n",
    "# Count missing values in each column\n",
    "print(\"Missing Values:\")\n",
    "missing_values = combined_event_data.select([\n",
    "    count(when(col(c).isNull(), c)).alias(c) for c in combined_event_data.columns\n",
    "]).collect()[0]\n",
    "for col_name, missing_count in zip(combined_event_data.columns, missing_values):\n",
    "    print(f\"{col_name}: {missing_count}\")"
   ]
  },
  {
   "cell_type": "code",
   "execution_count": 0,
   "metadata": {
    "application/vnd.databricks.v1+cell": {
     "cellMetadata": {
      "byteLimit": 2048000,
      "rowLimit": 10000
     },
     "inputWidgets": {},
     "nuid": "f79607a5-6b24-45ae-a8ca-d060da9bc017",
     "showTitle": false,
     "tableResultSettingsMap": {},
     "title": ""
    }
   },
   "outputs": [
    {
     "name": "stdout",
     "output_type": "stream",
     "text": [
      "Numerical columns: ['id', 'event_id', 'driver_id', 'vehicle_id', 'max_over_speed_in_kph', 'max_over_speed_in_mph', 'group_id']\n",
      "Categorical columns: ['type', 'driver_first_name', 'driver_last_name', 'coaching_status', 'start_date', 'severity', 'month', 'created_at', 'updated_at', 'not_current', 'number', 'status', 'make', 'model', 'group_name']\n"
     ]
    }
   ],
   "source": [
    "# identify numerical and categorical columns\n",
    "numerical_cols = [f.name for f in combined_event_data.schema.fields if f.dataType.simpleString() in ['int', 'double', 'float']]\n",
    "categorical_cols = [f.name for f in combined_event_data.schema.fields if f.dataType.simpleString() in ['string', 'boolean', 'timestamp']]\n",
    "\n",
    "print(\"Numerical columns:\", numerical_cols)\n",
    "print(\"Categorical columns:\", categorical_cols)"
   ]
  },
  {
   "cell_type": "markdown",
   "metadata": {
    "application/vnd.databricks.v1+cell": {
     "cellMetadata": {
      "byteLimit": 2048000,
      "rowLimit": 10000
     },
     "inputWidgets": {},
     "nuid": "1f57052d-6c63-40f1-a041-906b1119e7c4",
     "showTitle": false,
     "tableResultSettingsMap": {},
     "title": ""
    }
   },
   "source": [
    "#### Understanding data values for both categorical and numerical"
   ]
  },
  {
   "cell_type": "code",
   "execution_count": 0,
   "metadata": {
    "application/vnd.databricks.v1+cell": {
     "cellMetadata": {
      "byteLimit": 2048000,
      "rowLimit": 10000
     },
     "inputWidgets": {},
     "nuid": "fd19cc1b-e25f-4e8a-893d-6669e25d4fdf",
     "showTitle": false,
     "tableResultSettingsMap": {},
     "title": ""
    }
   },
   "outputs": [
    {
     "name": "stdout",
     "output_type": "stream",
     "text": [
      "Summary Statistics for Numerical Columns:\n",
      "+------------------+--------------------------+--------------------------+-----------------+----------------------------+----------------------------+------+-------------------------+-------------------------+------+-------------------------+-------------------------+\n",
      "|           id_mean|max_over_speed_in_kph_mean|max_over_speed_in_mph_mean|        id_stddev|max_over_speed_in_kph_stddev|max_over_speed_in_mph_stddev|id_min|max_over_speed_in_kph_min|max_over_speed_in_mph_min|id_max|max_over_speed_in_kph_max|max_over_speed_in_mph_max|\n",
      "+------------------+--------------------------+--------------------------+-----------------+----------------------------+----------------------------+------+-------------------------+-------------------------+------+-------------------------+-------------------------+\n",
      "|223347.18858940204|        20.731903633346562|        12.882203692556189|128951.2972390319|           7.861492825083497|           4.884903658214957|     1|        8.046799999999998|        5.000048162799999|446770|                  99.2726|       61.685114734600006|\n",
      "+------------------+--------------------------+--------------------------+-----------------+----------------------------+----------------------------+------+-------------------------+-------------------------+------+-------------------------+-------------------------+\n",
      "\n"
     ]
    }
   ],
   "source": [
    "# Summary statistics for numerical columns\n",
    "filtered_numerical_cols = [c for c in numerical_cols if \"_id\" not in c and c!= \"id_x\" and c!= \"id_y\" ]\n",
    "\n",
    "if filtered_numerical_cols:\n",
    "    print(\"Summary Statistics for Numerical Columns:\")\n",
    "    summary_stats = combined_event_data.select(\n",
    "        [mean(col(c)).alias(f\"{c}_mean\") for c in filtered_numerical_cols] +\n",
    "        [stddev(col(c)).alias(f\"{c}_stddev\") for c in filtered_numerical_cols] +\n",
    "        [min(col(c)).alias(f\"{c}_min\") for c in filtered_numerical_cols] +\n",
    "        [max(col(c)).alias(f\"{c}_max\") for c in filtered_numerical_cols]\n",
    "    )\n",
    "    summary_stats.show()\n"
   ]
  },
  {
   "cell_type": "code",
   "execution_count": 0,
   "metadata": {
    "application/vnd.databricks.v1+cell": {
     "cellMetadata": {
      "byteLimit": 2048000,
      "rowLimit": 10000
     },
     "inputWidgets": {},
     "nuid": "45fc7334-e0a1-4ad2-9fca-c758397895ba",
     "showTitle": false,
     "tableResultSettingsMap": {},
     "title": ""
    }
   },
   "outputs": [
    {
     "name": "stdout",
     "output_type": "stream",
     "text": [
      "Outliers Detection:\n",
      "Column id has 0 outliers.\n",
      "Column event_id has 10899 outliers.\n",
      "Column driver_id has 10339 outliers.\n",
      "Column vehicle_id has 88031 outliers.\n",
      "Column max_over_speed_in_kph has 9420 outliers.\n",
      "Column max_over_speed_in_mph has 9420 outliers.\n",
      "Column group_id has 75744 outliers.\n"
     ]
    }
   ],
   "source": [
    "# Detect outliers using IQR method for numerical columns\n",
    "print(\"Outliers Detection:\")\n",
    "outlier_results = {}\n",
    "for c in numerical_cols:\n",
    "    q1, q3 = combined_event_data.approxQuantile(c, [0.25, 0.75], 0.05)\n",
    "    iqr = q3 - q1\n",
    "    lower_bound, upper_bound = q1 - 1.5 * iqr, q3 + 1.5 * iqr\n",
    "    outliers_count = combined_event_data.filter((col(c) < lower_bound) | (col(c) > upper_bound)).count()\n",
    "    outlier_results[c] = outliers_count\n",
    "\n",
    "for col_name, count in outlier_results.items():\n",
    "    print(f\"Column {col_name} has {count} outliers.\")"
   ]
  },
  {
   "cell_type": "markdown",
   "metadata": {
    "application/vnd.databricks.v1+cell": {
     "cellMetadata": {
      "byteLimit": 2048000,
      "rowLimit": 10000
     },
     "inputWidgets": {},
     "nuid": "98d2dad5-7369-40e5-b068-4c698312a1a5",
     "showTitle": false,
     "tableResultSettingsMap": {},
     "title": ""
    }
   },
   "source": [
    "I will ignore the columns that related to any sort of `_id` and only focus on analyzing max_over_speed variables by creating a boxplot "
   ]
  },
  {
   "cell_type": "code",
   "execution_count": 0,
   "metadata": {
    "application/vnd.databricks.v1+cell": {
     "cellMetadata": {
      "byteLimit": 2048000,
      "rowLimit": 10000
     },
     "inputWidgets": {},
     "nuid": "643134c8-4d6a-4ae3-b43f-e91337e22ee1",
     "showTitle": false,
     "tableResultSettingsMap": {},
     "title": ""
    }
   },
   "outputs": [
    {
     "data": {
      "image/png": "[encoded data removed]",
      "text/plain": [
       "<Figure size 1000x500 with 1 Axes>"
      ]
     },
     "metadata": {},
     "output_type": "display_data"
    }
   ],
   "source": [
    "col_name = \"max_over_speed_in_mph\"\n",
    "# IQR \n",
    "q1, q3 = combined_event_data.approxQuantile(col_name, [0.25, 0.75], 0.05)\n",
    "iqr = q3 - q1\n",
    "lower_bound = q1 - 1.5 * iqr\n",
    "upper_bound = q3 + 1.5 * iqr\n",
    "\n",
    "# filter outliers\n",
    "outliers_df = combined_event_data.filter((col(col_name) < lower_bound) | (col(col_name) > upper_bound)).toPandas()\n",
    "\n",
    "# Plot outliers\n",
    "plt.figure(figsize=(10, 5))\n",
    "sns.boxplot(x=outliers_df[col_name])\n",
    "plt.title(f\"Outliers in {col_name}\")\n",
    "plt.xlabel(\"Speed Over Limit (mph)\")\n",
    "plt.show()"
   ]
  },
  {
   "cell_type": "code",
   "execution_count": 0,
   "metadata": {
    "application/vnd.databricks.v1+cell": {
     "cellMetadata": {
      "byteLimit": 2048000,
      "rowLimit": 10000
     },
     "inputWidgets": {},
     "nuid": "e9586e91-d071-4a11-88a0-98d3eae10918",
     "showTitle": false,
     "tableResultSettingsMap": {},
     "title": ""
    }
   },
   "outputs": [
    {
     "name": "stdout",
     "output_type": "stream",
     "text": [
      "Unique Value Counts for Categorical Columns:\n",
      "type: 16 unique values\n",
      "driver_first_name: 698 unique values\n",
      "driver_last_name: 1050 unique values\n",
      "coaching_status: 4 unique values\n",
      "start_date: 441772 unique values\n",
      "severity: 4 unique values\n",
      "month: 12 unique values\n",
      "created_at: 834 unique values\n",
      "updated_at: 698 unique values\n",
      "not_current: 1 unique values\n",
      "number: 1073 unique values\n",
      "status: 2 unique values\n",
      "make: 77 unique values\n",
      "model: 323 unique values\n",
      "group_name: 51 unique values\n"
     ]
    }
   ],
   "source": [
    "# Display unique value counts for categorical columns\n",
    "print(\"Unique Value Counts for Categorical Columns:\")\n",
    "for c in categorical_cols:\n",
    "    unique_count = combined_event_data.select(countDistinct(col(c))).collect()[0][0]\n",
    "    print(f\"{c}: {unique_count} unique values\")"
   ]
  },
  {
   "cell_type": "markdown",
   "metadata": {
    "application/vnd.databricks.v1+cell": {
     "cellMetadata": {
      "byteLimit": 2048000,
      "rowLimit": 10000
     },
     "inputWidgets": {},
     "nuid": "6920dae0-6d68-4b62-a522-59717f6d1782",
     "showTitle": false,
     "tableResultSettingsMap": {},
     "title": ""
    }
   },
   "source": [
    "I am interested in seeing only some of the belows column as these columns will define what information would this table tells us "
   ]
  },
  {
   "cell_type": "code",
   "execution_count": 0,
   "metadata": {
    "application/vnd.databricks.v1+cell": {
     "cellMetadata": {
      "byteLimit": 2048000,
      "rowLimit": 10000
     },
     "inputWidgets": {},
     "nuid": "4aa7759d-25e8-4736-af21-b96686e2b161",
     "showTitle": false,
     "tableResultSettingsMap": {},
     "title": ""
    }
   },
   "outputs": [
    {
     "name": "stdout",
     "output_type": "stream",
     "text": [
      "type: ['cell_phone', 'ran_a_red_light', 'seat_belt_violation', 'camera_obstruction', 'distraction', 'tailgating', 'unsafe_lane_change', 'speeding', 'stop_sign_violation', 'crash', 'manual_event', 'driver_facing_cam_obstruction', 'near_miss', 'forward_collision_warning', 'road_facing_cam_obstruction', 'drowsiness']\n",
      "coaching_status: ['uncoachable', 'coachable', 'pending_review', 'coached']\n",
      "severity: ['critical', 'low', None, 'high', 'medium']\n",
      "group_name: ['GA -PSI Augusta', 'NC - Denver', 'TN - Memphis - Safety Quip', 'TN - FusionSite (Nashville)', 'Goldthwaite', 'FL - Freedom', 'FL - JW Craft', None, 'FL - Gainsville Porta Serve', 'PA - Port A Bowl', 'GA - GCI', 'MS - Gotta Go', 'PA - Malvern', 'TN - FusionSite (Clark)', 'OH - Rent - A - John', 'NC - Griffin Hook trucks', 'KY - Lex', 'NC -  ASC', 'TN - MC Septic', 'TN - ETP ', 'TX - ACP', 'NY - A - John', 'NC - Griffin Waste Pump Trucks', 'SC - PSI Columbia', 'KY - Bullitt Sep. Service', 'KY - Moon Minis', 'OH - C&L and Safeway', 'AR - Little Rock', 'KY - Moon leasing', 'NC - Greensboro', 'TN - FusionSite (Woodycrest)', 'KY - moon portables', 'TX - J Bar', 'AR - Fay', 'WI - Buckys', 'KERMIT', 'SEMINOLE', 'TX - Forza', 'Lubbock HD ', 'SAN ANGELO- TOPS SEPTIC', 'WI - Stranders', 'AZ - Stamback Admin', 'AZ - Stamback Septic', 'AZ - Stamback Rolloffs ', 'TN - Maxwell Septic', 'TN - Chattanooga -Bolles', 'LUBBOCK', 'SC - Littlejohn', 'VA - R&R', 'MS - American Johnny', 'IA - Cedar Rapids', 'WI - Cesspool']\n",
      "make: ['RAM Flatbed Tank', 'International', 'Frtl M2106', 'FREIGHTLINER', 'RAM Flatbed Pickup', 'Ford F-650', 'INTERNATIONAL', 'RAM Tank', 'Ford F250', None, 'Chevrolet', 'Chevy Flatbed Tank', 'RAM', 'Volvo', 'Hino', 'BTL', ' Hino 268', 'Isuzu NPR', 'HINO', 'Dodge Ram', 'FORD', 'Peterbilt', 'ISUZU', 'Ford F550', 'Ram', 'Ford F-250 Super Duty', 'CHEVROLET', 'Isuzu', 'Dodge 3500', 'Hino 338', 'Mack', 'RAM Pickup', 'Mack GU713', 'Kenworth T880', 'F-350', 'Dodge Ram 5500', 'Peterbilt 337', 'Hino L7', 'Dodge Ram 4x2', 'HINO Flatbed Tank', 'Mack ', 'Ford F-550', 'Chevy Tank', 'Ram Pumper', 'KenworthT 300', 'Chevy', \"Int'l DV515\", 'Kenworth', 'GMC', 'Ford F350', 'Ford F-350', 'Dodge Ram 1500', 'Mack MRU613', 'Freightliner', 'MACK', 'Chevy 4500', 'Hino 268', 'Chevrolet 5500', 'Dodge', \"Int'l CV515\", 'Dodge 5500', 'CHEVY', 'Western Star', 'Ford', 'KENWORTH', 'Chevrolet Colorado', 'PETERBILT', 'Sterling', 'HINO Tank', 'DODGE', 'WESTERN STAR', 'VOLVO TRUCK', 'AUTOCAR', 'TOYOTA', 'GM', 'MITSUBISHI FUSO', 'MERCEDES-BENZ', 'STERLING TRUCK']\n",
      "status: ['deactivated', None, 'active']\n"
     ]
    }
   ],
   "source": [
    "# categorical columns of interest\n",
    "categorical_columns = [\"type\",\"coaching_status\", \"severity\", \"group_name\", \"make\", \"status\", \"group_name\"]\n",
    "\n",
    "#  unique values for each specified categorical column\n",
    "unique_values_dict = {}\n",
    "\n",
    "for c in categorical_columns:\n",
    "    unique_values = combined_event_data.select(col(c)).distinct().rdd.flatMap(lambda x: x).collect()\n",
    "    unique_values_dict[c] = unique_values\n",
    "\n",
    "for col_name, values in unique_values_dict.items():\n",
    "    print(f\"{col_name}: {values}\")\n"
   ]
  },
  {
   "cell_type": "code",
   "execution_count": 0,
   "metadata": {
    "application/vnd.databricks.v1+cell": {
     "cellMetadata": {
      "byteLimit": 2048000,
      "rowLimit": 10000
     },
     "inputWidgets": {},
     "nuid": "e7c61519-a1a7-420b-a9d7-79cd88190399",
     "showTitle": false,
     "tableResultSettingsMap": {},
     "title": ""
    }
   },
   "outputs": [
    {
     "name": "stdout",
     "output_type": "stream",
     "text": [
      "DateType Range: \n",
      "start_date: (2023-01-01 00:56:22, 2025-02-27 23:50:57)\n",
      "created_at: (2024-08-09 18:43:53.162886, 2025-02-28 09:20:29.457396)\n",
      "updated_at: (2024-08-12 18:15:18.031315, 2025-02-28 09:20:29.457396)\n"
     ]
    }
   ],
   "source": [
    "# get datetype range \n",
    "print(\"DateType Range: \")\n",
    "datetime_cols = [f.name for f in combined_event_data.schema.fields if f.dataType.simpleString() == 'timestamp']\n",
    "if datetime_cols:\n",
    "    date_ranges = combined_event_data.select(\n",
    "        [min(col(c)).alias(f\"{c}_min\") for c in datetime_cols] +\n",
    "        [max(col(c)).alias(f\"{c}_max\") for c in datetime_cols]\n",
    "    ).collect()[0]\n",
    "\n",
    "    # prnt the date ranges in the desired format\n",
    "    for i, col_name in enumerate(datetime_cols):\n",
    "        min_date = date_ranges[i]\n",
    "        max_date = date_ranges[i + len(datetime_cols)]\n",
    "        print(f\"{col_name}: ({min_date}, {max_date})\")\n",
    "else:\n",
    "    print(\"No datetime columns found.\")"
   ]
  },
  {
   "cell_type": "markdown",
   "metadata": {
    "application/vnd.databricks.v1+cell": {
     "cellMetadata": {
      "byteLimit": 2048000,
      "rowLimit": 10000
     },
     "inputWidgets": {},
     "nuid": "12eeaef4-ff45-465e-8505-0c3dbd97e0b0",
     "showTitle": false,
     "tableResultSettingsMap": {},
     "title": ""
    }
   },
   "source": [
    "**Observation**: \n",
    "- From the statistic table and this box plot,  I notice that overspeeding events are minor (average around 12.88 m/h over the limit  with median around 25 mph), but there are extreme cases where vehicles exceeded speed limits by nearly 55-60 mph.\n",
    "- `max_over_speed_in_mph` and `max_over_speed_in_kph` can have null because this field only associate with speeding event\n",
    "- `type` columns describe all the event that the Motive App tracks \n",
    "- `coaching_status` tells us given this hazard event, have the manager talk/ have a conversation with the driver yet\n",
    "- `group_name` tells us about all the FusionSite site\n",
    "- `make`: is the truck's make/model \n",
    "` `status`: tell us about the car status; if it is active, the vehicle is still in used;  None is when it couldn't find a matched vehicle with the database\n",
    "\n",
    " \n",
    "## `data_driving_periods_w_vehicle_map`\n",
    "\n"
   ]
  },
  {
   "cell_type": "code",
   "execution_count": 0,
   "metadata": {
    "application/vnd.databricks.v1+cell": {
     "cellMetadata": {
      "byteLimit": 2048000,
      "rowLimit": 10000
     },
     "inputWidgets": {},
     "nuid": "9eb35308-20e1-4240-9d94-2748b9a37006",
     "showTitle": false,
     "tableResultSettingsMap": {},
     "title": ""
    }
   },
   "outputs": [
    {
     "name": "stdout",
     "output_type": "stream",
     "text": [
      "+------+----------+---------+----------+-------------------+--------------------+----------------+-------------------+-----------------+------------------+-----+--------------------+--------------------+----------+-----------+-----+-------------+-----------+-----------+--------------------+--------+--------------------+\n",
      "|  id_x|  event_id|driver_id|vehicle_id|         start_date|            end_date|driving_distance|driving_period_type|driver_company_id|   minutes_driving|month|          created_at|          updated_at|unassigned|not_current| id_y|       number|     status|       make|               model|group_id|          group_name|\n",
      "+------+----------+---------+----------+-------------------+--------------------+----------------+-------------------+-----------------+------------------+-----+--------------------+--------------------+----------+-----------+-----+-------------+-----------+-----------+--------------------+--------+--------------------+\n",
      "|586900|1873322883|3972537.0|   1033102|2023-07-19 17:50:00|2023-07-19 17:57:...|             2.1|            driving|           1272.0| 7.766666666666667| July|2024-08-09 19:07:...|2024-08-09 19:07:...|     false|        nan|584.0|           63|     active|   Hino 268|1500/500 Aluminum...| 50046.0|    PA - Port A Bowl|\n",
      "|586901|1872659057|     NULL|   1123239|2023-07-19 17:49:56|2023-07-19 17:58:...|             2.6|            driving|              nan| 8.533333333333333| July|2024-08-09 19:07:...|2024-08-09 19:07:...|      true|        nan|666.0|          344|     active|       Ford|         F550 Pumper| 55431.0|           TN - ETP |\n",
      "|586902|1872655132|3912433.0|   1156138|2023-07-19 17:49:51|2023-07-19 18:00:...|             1.6|            driving|           1179.0|10.333333333333334| July|2024-08-09 19:07:...|2024-08-09 19:07:...|     false|        nan|798.0|         P#22|     active|      Dodge|                5500| 60569.0|      TN - MC Septic|\n",
      "|586903|1872655939|     NULL|   1190012|2023-07-19 17:49:38|2023-07-19 18:14:...|            19.7|            driving|              nan|24.433333333333334| July|2024-08-09 19:07:...|2024-08-09 19:07:...|      true|        nan|826.0|    140190024|     active|       Ford|       F-350 FLATBED| 63332.0|TN - Memphis - Sa...|\n",
      "|586904|1872653788|     NULL|   1123152|2023-07-19 17:49:25|2023-07-19 18:44:...|            49.6|            driving|              nan|55.516666666666666| July|2024-08-09 19:07:...|2024-08-09 19:07:...|      true|        nan| 23.0|          PD1|deactivated|        Ram|              Pumper| 55542.0|    AR - Little Rock|\n",
      "|586905|1872653938|3791962.0|   1123228|2023-07-19 17:49:20|2023-07-19 18:07:...|             9.0|            driving|           1033.0|17.683333333333334| July|2024-08-09 19:07:...|2024-08-09 19:07:...|     false|        nan|674.0|          353|     active|  Dodge Ram|         4500 Pumper| 55431.0|           TN - ETP |\n",
      "|586906|1876064881|3906745.0|   1123151|2023-07-19 17:48:52|2023-07-19 17:58:...|             4.6|            driving|            494.0|              9.25| July|2024-08-09 19:07:...|2024-08-09 19:07:...|     false|        nan| 27.0|          PD5|     active|       Ford|                F250| 55542.0|    AR - Little Rock|\n",
      "|586907|1894103211|4210116.0|   1194292|2023-07-19 17:34:39|2023-07-19 17:41:...|             2.5|            driving|           1450.0| 6.666666666666667| July|2024-08-09 19:07:...|2024-08-09 19:07:...|     false|        nan|819.0|    140170018|     active|  Chevrolet|        3500 FLATBED| 63332.0|TN - Memphis - Sa...|\n",
      "|586908|1876501825|4064970.0|   1123093|2023-07-19 17:34:39|2023-07-19 17:35:...|             0.0|            driving|           1003.0|               0.4| July|2024-08-09 19:07:...|2024-08-09 19:07:...|     false|        nan|322.0|           A5|     active|       Mack|            Roll Off| 55552.0|           NC -  ASC|\n",
      "|586909|1872615475|     NULL|   1303818|2023-07-19 17:34:37|2023-07-19 17:45:...|             3.5|            driving|              nan|              10.9| July|2024-08-09 19:07:...|2024-08-09 19:07:...|      true|        nan|244.0|  KYL - 2019a|     active|        RAM|                5500|100868.0|            KY - Lex|\n",
      "|586910|1872614868|3912433.0|   1156138|2023-07-19 17:34:36|2023-07-19 17:41:...|             1.8|            driving|           1179.0| 7.133333333333334| July|2024-08-09 19:07:...|2024-08-09 19:07:...|     false|        nan|798.0|         P#22|     active|      Dodge|                5500| 60569.0|      TN - MC Septic|\n",
      "|586911|1872616074|     NULL|   1123239|2023-07-19 17:34:33|2023-07-19 17:40:...|             1.3|            driving|              nan| 6.383333333333334| July|2024-08-09 19:07:...|2024-08-09 19:07:...|      true|        nan|666.0|          344|     active|       Ford|         F550 Pumper| 55431.0|           TN - ETP |\n",
      "|586912|1872641211|     NULL|   1135061|2023-07-19 17:34:23|2023-07-19 17:36:...|             0.8|            driving|              nan|              2.15| July|2024-08-09 19:07:...|2024-08-09 19:07:...|      true|        nan|462.0|         FP21|     active|       Ford|         F550 (Pump)| 53753.0|NC - Griffin Wast...|\n",
      "|586913|1872614598|3895357.0|   1123213|2023-07-19 17:34:17|2023-07-19 18:27:...|            14.7|            driving|              2.0|             53.35| July|2024-08-09 19:07:...|2024-08-09 19:07:...|     false|        nan|730.0|    170190012|     active|Int'l DV515|              Pumper| 55428.0|TN - FusionSite (...|\n",
      "|586914|1873805028|3890083.0|   1177252|2023-07-19 17:33:51|2023-07-19 17:47:...|             6.2|            driving|            529.0|             13.35| July|2024-08-09 19:07:...|2024-08-09 19:07:...|     false|        nan|633.0|      SC-F250|     active|       Ford|               F-250| 53751.0|     GA -PSI Augusta|\n",
      "|586915|1872727889|4153531.0|   1165039|2023-07-19 17:33:48|2023-07-19 17:34:...|             0.0|            driving|           1392.0|0.6333333333333333| July|2024-08-09 19:07:...|2024-08-09 19:07:...|     false|        nan|374.0|          308|     active|       Hino|             338 PUD| 55551.0|     NC - Greensboro|\n",
      "|586916|1872612949|3601232.0|   1033100|2023-07-19 17:33:36|2023-07-19 17:43:...|             2.7|            driving|            840.0| 9.766666666666667| July|2024-08-09 19:07:...|2024-08-09 19:07:...|     false|        nan|579.0|           55|     active|   Hino 268|10 Unit Flatbed w...| 50046.0|    PA - Port A Bowl|\n",
      "|586917|1886255558|3757081.0|   1086403|2023-07-19 17:33:28|2023-07-19 17:34:...|             0.3|            driving|           1082.0|1.2333333333333334| July|2024-08-09 19:07:...|2024-08-09 19:07:...|     false|        nan|558.0|          548|     active|       FORD|         F550 PUMPER| 50049.0|OH - Rent - A - John|\n",
      "|586918|1872611952|3895377.0|   1212471|2023-07-19 17:33:18|2023-07-19 18:20:...|             4.7|            driving|             77.0| 47.36666666666667| July|2024-08-09 19:07:...|2024-08-09 19:07:...|     false|        nan|731.0|    170220002|     active|  Chevrolet|                5500| 55428.0|TN - FusionSite (...|\n",
      "|586919|1872968296|3906256.0|   1159003|2023-07-19 17:33:16|2023-07-19 17:58:...|             4.8|            driving|            679.0|24.816666666666663| July|2024-08-09 19:07:...|2024-08-09 19:07:...|     false|        nan|803.0|PMCSEPTIC #24|     active|      Dodge|                5500| 60569.0|      TN - MC Septic|\n",
      "+------+----------+---------+----------+-------------------+--------------------+----------------+-------------------+-----------------+------------------+-----+--------------------+--------------------+----------+-----------+-----+-------------+-----------+-----------+--------------------+--------+--------------------+\n",
      "only showing top 20 rows\n",
      "\n"
     ]
    }
   ],
   "source": [
    "driving_period = spark.read.csv('dbfs:/FileStore/tables/data_driving_periods_w_vehicle_map.csv', inferSchema=True, header=True)\n",
    "driving_period.show()"
   ]
  },
  {
   "cell_type": "code",
   "execution_count": 0,
   "metadata": {
    "application/vnd.databricks.v1+cell": {
     "cellMetadata": {
      "byteLimit": 2048000,
      "rowLimit": 10000
     },
     "inputWidgets": {},
     "nuid": "cf7492a9-4b28-4bd4-a550-713faf7f4a33",
     "showTitle": false,
     "tableResultSettingsMap": {},
     "title": ""
    }
   },
   "outputs": [
    {
     "name": "stdout",
     "output_type": "stream",
     "text": [
      "Schema:\n",
      "root\n",
      " |-- id_x: integer (nullable = true)\n",
      " |-- event_id: long (nullable = true)\n",
      " |-- driver_id: double (nullable = true)\n",
      " |-- vehicle_id: integer (nullable = true)\n",
      " |-- start_date: timestamp (nullable = true)\n",
      " |-- end_date: string (nullable = true)\n",
      " |-- driving_distance: double (nullable = true)\n",
      " |-- driving_period_type: string (nullable = true)\n",
      " |-- driver_company_id: string (nullable = true)\n",
      " |-- minutes_driving: double (nullable = true)\n",
      " |-- month: string (nullable = true)\n",
      " |-- created_at: timestamp (nullable = true)\n",
      " |-- updated_at: timestamp (nullable = true)\n",
      " |-- unassigned: boolean (nullable = true)\n",
      " |-- not_current: string (nullable = true)\n",
      " |-- id_y: double (nullable = true)\n",
      " |-- number: string (nullable = true)\n",
      " |-- status: string (nullable = true)\n",
      " |-- make: string (nullable = true)\n",
      " |-- model: string (nullable = true)\n",
      " |-- group_id: double (nullable = true)\n",
      " |-- group_name: string (nullable = true)\n",
      "\n",
      "Missing Values:\n",
      "id_x: 0\n",
      "event_id: 0\n",
      "driver_id: 791144\n",
      "vehicle_id: 0\n",
      "start_date: 0\n",
      "end_date: 0\n",
      "driving_distance: 0\n",
      "driving_period_type: 0\n",
      "driver_company_id: 0\n",
      "minutes_driving: 495\n",
      "month: 0\n",
      "created_at: 0\n",
      "updated_at: 0\n",
      "unassigned: 0\n",
      "not_current: 0\n",
      "id_y: 3157\n",
      "number: 3157\n",
      "status: 3157\n",
      "make: 30379\n",
      "model: 92826\n",
      "group_id: 3157\n",
      "group_name: 3157\n"
     ]
    }
   ],
   "source": [
    "from pyspark.sql.functions import col, count, when\n",
    "# Show schema\n",
    "print(\"Schema:\")\n",
    "driving_period.printSchema()\n",
    "# Count missing values in each column\n",
    "print(\"Missing Values:\")\n",
    "missing_values = driving_period.select([\n",
    "    count(when(col(c).isNull(), c)).alias(c) for c in driving_period.columns\n",
    "]).collect()[0]\n",
    "for col_name, missing_count in zip(driving_period.columns, missing_values):\n",
    "    print(f\"{col_name}: {missing_count}\")"
   ]
  },
  {
   "cell_type": "code",
   "execution_count": 0,
   "metadata": {
    "application/vnd.databricks.v1+cell": {
     "cellMetadata": {
      "byteLimit": 2048000,
      "rowLimit": 10000
     },
     "inputWidgets": {},
     "nuid": "6345e4de-69bf-4a9d-ba62-613f087510a8",
     "showTitle": false,
     "tableResultSettingsMap": {},
     "title": ""
    }
   },
   "outputs": [
    {
     "name": "stdout",
     "output_type": "stream",
     "text": [
      "Numerical columns: ['id_x', 'driver_id', 'vehicle_id', 'driving_distance', 'minutes_driving', 'id_y', 'group_id']\n",
      "Categorical columns: ['start_date', 'end_date', 'driving_period_type', 'driver_company_id', 'month', 'created_at', 'updated_at', 'unassigned', 'not_current', 'number', 'status', 'make', 'model', 'group_name']\n"
     ]
    }
   ],
   "source": [
    "# identify numerical and categorical columns\n",
    "numerical_cols = [f.name for f in driving_period.schema.fields if f.dataType.simpleString() in ['int', 'double', 'float']]\n",
    "categorical_cols = [f.name for f in driving_period.schema.fields if f.dataType.simpleString() in ['string', 'boolean', 'timestamp']]\n",
    "\n",
    "print(\"Numerical columns:\", numerical_cols)\n",
    "print(\"Categorical columns:\", categorical_cols)"
   ]
  },
  {
   "cell_type": "markdown",
   "metadata": {
    "application/vnd.databricks.v1+cell": {
     "cellMetadata": {
      "byteLimit": 2048000,
      "rowLimit": 10000
     },
     "inputWidgets": {},
     "nuid": "a1bcd22b-f806-4ba9-9454-2f6a2e0fba58",
     "showTitle": false,
     "tableResultSettingsMap": {},
     "title": ""
    }
   },
   "source": [
    "### Understand Categorical and Numerical values"
   ]
  },
  {
   "cell_type": "code",
   "execution_count": 0,
   "metadata": {
    "application/vnd.databricks.v1+cell": {
     "cellMetadata": {
      "byteLimit": 2048000,
      "rowLimit": 10000
     },
     "inputWidgets": {},
     "nuid": "f34c81d1-01cf-4dfc-9af8-ffd0910f0c8c",
     "showTitle": false,
     "tableResultSettingsMap": {},
     "title": ""
    }
   },
   "outputs": [
    {
     "name": "stdout",
     "output_type": "stream",
     "text": [
      "Summary Statistics for Numerical Columns:\n",
      "+---------------------+--------------------+-----------------------+----------------------+--------------------+-------------------+--------------------+-------------------+\n",
      "|driving_distance_mean|minutes_driving_mean|driving_distance_stddev|minutes_driving_stddev|driving_distance_min|minutes_driving_min|driving_distance_max|minutes_driving_max|\n",
      "+---------------------+--------------------+-----------------------+----------------------+--------------------+-------------------+--------------------+-------------------+\n",
      "|    8.776980474373717|  20.505798066554817|      529.9734680918606|    213.46614829154302|           -272387.6| 0.0166666666666666|            284792.2| 199919.53333333333|\n",
      "+---------------------+--------------------+-----------------------+----------------------+--------------------+-------------------+--------------------+-------------------+\n",
      "\n"
     ]
    }
   ],
   "source": [
    "# Summary statistics for numerical columns\n",
    "filtered_numerical_cols = [c for c in numerical_cols if \"_id\" not in c and c!= \"id_x\" and c!= \"id_y\"]\n",
    "if filtered_numerical_cols:\n",
    "    print(\"Summary Statistics for Numerical Columns:\")\n",
    "    summary_stats = driving_period.select(\n",
    "        [mean(col(c)).alias(f\"{c}_mean\") for c in filtered_numerical_cols] +\n",
    "        [stddev(col(c)).alias(f\"{c}_stddev\") for c in filtered_numerical_cols] +\n",
    "        [min(col(c)).alias(f\"{c}_min\") for c in filtered_numerical_cols] +\n",
    "        [max(col(c)).alias(f\"{c}_max\") for c in filtered_numerical_cols]\n",
    "    )\n",
    "    summary_stats.show()\n"
   ]
  },
  {
   "cell_type": "code",
   "execution_count": 0,
   "metadata": {
    "application/vnd.databricks.v1+cell": {
     "cellMetadata": {
      "byteLimit": 2048000,
      "rowLimit": 10000
     },
     "inputWidgets": {},
     "nuid": "0b053061-4d20-46ed-a16c-7f9b5ee30732",
     "showTitle": false,
     "tableResultSettingsMap": {},
     "title": ""
    }
   },
   "outputs": [
    {
     "name": "stdout",
     "output_type": "stream",
     "text": [
      "Outliers Detection:\n",
      "Column driving_distance has 362793 outliers.\n",
      "Column minutes_driving has 264412 outliers.\n"
     ]
    }
   ],
   "source": [
    "# Detect outliers using IQR method for numerical columns\n",
    "print(\"Outliers Detection:\")\n",
    "outlier_results = {}\n",
    "for c in filtered_numerical_cols:\n",
    "    q1, q3 = driving_period.approxQuantile(c, [0.25, 0.75], 0.05)\n",
    "    iqr = q3 - q1\n",
    "    lower_bound, upper_bound = q1 - 1.5 * iqr, q3 + 1.5 * iqr\n",
    "    outliers_count = driving_period.filter((col(c) < lower_bound) | (col(c) > upper_bound)).count()\n",
    "    outlier_results[c] = outliers_count\n",
    "\n",
    "for col_name, count in outlier_results.items():\n",
    "    print(f\"Column {col_name} has {count} outliers.\")"
   ]
  },
  {
   "cell_type": "code",
   "execution_count": 0,
   "metadata": {
    "application/vnd.databricks.v1+cell": {
     "cellMetadata": {
      "byteLimit": 2048000,
      "rowLimit": 10000
     },
     "inputWidgets": {},
     "nuid": "ea8ba58b-63d0-44cf-b2be-f24cee28d3d2",
     "showTitle": false,
     "tableResultSettingsMap": {},
     "title": ""
    }
   },
   "outputs": [
    {
     "data": {
      "image/png": "[encoded data removed]",
      "text/plain": [
       "<Figure size 1200x600 with 2 Axes>"
      ]
     },
     "metadata": {},
     "output_type": "display_data"
    }
   ],
   "source": [
    "# visualizing outliers\n",
    "columns_to_plot = [\"driving_distance\", \"minutes_driving\"]\n",
    "\n",
    "# Convert to Pandas DataFrame\n",
    "df = driving_period.select(columns_to_plot).toPandas()\n",
    "\n",
    "# Create subplots for the box plots\n",
    "fig, axes = plt.subplots(1, 2, figsize=(12, 6))\n",
    "for i, col in enumerate(columns_to_plot):\n",
    "    # Calculate Q1, Q3, and IQR\n",
    "    Q1 = df[col].quantile(0.25)\n",
    "    Q3 = df[col].quantile(0.75)\n",
    "    IQR = Q3 - Q1\n",
    "    \n",
    "    # Plot boxplot\n",
    "    sns.boxplot(y=df[col], ax=axes[i])\n",
    "    \n",
    "    #  IQR range\n",
    "    axes[i].axhline(Q1, color='blue', linestyle='dashed', label=\"Q1 (25th percentile)\")\n",
    "    axes[i].axhline(Q3, color='green', linestyle='dashed', label=\"Q3 (75th percentile)\")\n",
    "    axes[i].axhline(Q1 - 1.5 * IQR, color='red', linestyle='dotted', label=\"Lower Bound (Q1 - 1.5*IQR)\")\n",
    "    axes[i].axhline(Q3 + 1.5 * IQR, color='red', linestyle='dotted', label=\"Upper Bound (Q3 + 1.5*IQR)\")\n",
    "    \n",
    "    axes[i].set_title(f\"Box Plot of {col} with IQR\")\n",
    "    axes[i].set_ylabel(col)\n",
    "    axes[i].legend()\n",
    "\n",
    "# Adjust layout for better spacing\n",
    "plt.tight_layout()\n",
    "plt.show()\n"
   ]
  },
  {
   "cell_type": "code",
   "execution_count": 0,
   "metadata": {
    "application/vnd.databricks.v1+cell": {
     "cellMetadata": {
      "byteLimit": 2048000,
      "rowLimit": 10000
     },
     "inputWidgets": {},
     "nuid": "259f2eb6-f335-4f15-9037-83995d2aefa7",
     "showTitle": false,
     "tableResultSettingsMap": {},
     "title": ""
    }
   },
   "outputs": [
    {
     "name": "stdout",
     "output_type": "stream",
     "text": [
      "Unique Value Counts for Categorical Columns:\n",
      "start_date: 3142446 unique values\n",
      "end_date: 3143407 unique values\n",
      "driving_period_type: 3 unique values\n",
      "driver_company_id: 1587 unique values\n",
      "month: 12 unique values\n",
      "created_at: 15933 unique values\n",
      "updated_at: 14412 unique values\n",
      "unassigned: 2 unique values\n",
      "not_current: 2 unique values\n",
      "number: 1085 unique values\n",
      "status: 2 unique values\n",
      "make: 77 unique values\n",
      "model: 328 unique values\n",
      "group_name: 50 unique values\n"
     ]
    }
   ],
   "source": [
    "from pyspark.sql.functions import col, count, when\n",
    "\n",
    "#  unique value counts for categorical columns\n",
    "print(\"Unique Value Counts for Categorical Columns:\")\n",
    "for c in categorical_cols:\n",
    "    unique_count = driving_period.select(countDistinct(col(c))).collect()[0][0]\n",
    "    print(f\"{c}: {unique_count} unique values\")"
   ]
  },
  {
   "cell_type": "code",
   "execution_count": 0,
   "metadata": {
    "application/vnd.databricks.v1+cell": {
     "cellMetadata": {
      "byteLimit": 2048000,
      "rowLimit": 10000
     },
     "inputWidgets": {},
     "nuid": "bcbd3579-af73-4fdb-bce8-04d3780ba7ce",
     "showTitle": false,
     "tableResultSettingsMap": {},
     "title": ""
    }
   },
   "outputs": [
    {
     "name": "stdout",
     "output_type": "stream",
     "text": [
      "driving_period_type: ['ym', 'driving', 'pc']\n",
      "unassigned: [True, False]\n",
      "status: ['deactivated', None, 'active']\n",
      "DateType Range: \n",
      "start_date: (2023-01-01 00:06:43, 2025-02-25 23:59:54)\n",
      "created_at: (2024-08-09 18:23:42.845445, 2025-02-26 09:00:25.066668)\n",
      "updated_at: (2024-08-09 18:23:42.845445, 2025-02-26 09:00:25.066668)\n"
     ]
    }
   ],
   "source": [
    "categorical_columns = [\"driving_period_type\",\"unassigned\", \"status\"]\n",
    "\n",
    "# Extract unique values for each specified categorical column\n",
    "unique_values_dict = {}\n",
    "\n",
    "for c in categorical_columns:\n",
    "    unique_values = driving_period.select(col(c)).distinct().rdd.flatMap(lambda x: x).collect()\n",
    "    unique_values_dict[c] = unique_values\n",
    "\n",
    "# Display unique values for each column\n",
    "for col_name, values in unique_values_dict.items():\n",
    "    print(f\"{col_name}: {values}\")\n",
    "\n",
    "# get datetype range \n",
    "print(\"DateType Range: \")\n",
    "datetime_cols = [f.name for f in driving_period.schema.fields if f.dataType.simpleString() == 'timestamp']\n",
    "if datetime_cols:\n",
    "    date_ranges = driving_period.select(\n",
    "        [min(col(c)).alias(f\"{c}_min\") for c in datetime_cols] +\n",
    "        [max(col(c)).alias(f\"{c}_max\") for c in datetime_cols]\n",
    "    ).collect()[0]\n",
    "\n",
    "    # prnt the date ranges in the desired format\n",
    "    for i, col_name in enumerate(datetime_cols):\n",
    "        min_date = date_ranges[i]\n",
    "        max_date = date_ranges[i + len(datetime_cols)]\n",
    "        print(f\"{col_name}: ({min_date}, {max_date})\")\n",
    "else:\n",
    "    print(\"No datetime columns found.\")"
   ]
  },
  {
   "cell_type": "markdown",
   "metadata": {
    "application/vnd.databricks.v1+cell": {
     "cellMetadata": {
      "byteLimit": 2048000,
      "rowLimit": 10000
     },
     "inputWidgets": {},
     "nuid": "f64eb1f1-008e-4453-a2af-79e2359f4e17",
     "showTitle": false,
     "tableResultSettingsMap": {},
     "title": ""
    }
   },
   "source": [
    "\n",
    "**Observations**: \n",
    "- `minutes_driving` can have null values when the driver didn't log off when they are done with their trip; which causes the end_date to also have null values \n",
    "- `vehicle_id` have nulls because their might be vehicle that is rental; therefore, it is not tracked by the vehicle database\n",
    "- `driving_distance` has less than 0 values; in our data cleaning, we need to put filter to make sure we only getting dring distance that is larger than 0 (as shown in the box plot)\n",
    "- `start_date` the start date for all these dataset are from 2023-March 2025; note that the data is very sporadic in 2023 as not a lot of vendors comply to the policy of implementing Motive \n",
    "\n",
    "## `data_inspections_w_vehicle_map`"
   ]
  },
  {
   "cell_type": "code",
   "execution_count": 0,
   "metadata": {
    "application/vnd.databricks.v1+cell": {
     "cellMetadata": {
      "byteLimit": 2048000,
      "rowLimit": 10000
     },
     "inputWidgets": {},
     "nuid": "92f1a8af-2bf7-4525-930b-f0d0651bc1ed",
     "showTitle": false,
     "tableResultSettingsMap": {},
     "title": ""
    }
   },
   "outputs": [
    {
     "name": "stdout",
     "output_type": "stream",
     "text": [
      "+---+-------------+----------+----------+--------------------+----------+---------------+---------+-----------+-----------+-------------+-----------+--------------+--------------------+\n",
      "| id|inspection_id|vehicle_id|      date|            location|    status|inspection_type|driver_id|mechanic_id|reviewer_id|       number|   status-2|          make|               model|\n",
      "+---+-------------+----------+----------+--------------------+----------+---------------+---------+-----------+-----------+-------------+-----------+--------------+--------------------+\n",
      "|  1|  10434972607|   1032418|2023-01-30|4.5 mi N of Doyle...|acceptable|       pre_trip|  3601232|       NULL|       NULL|           20|deactivated|     Ford F350|PU Truck - Traile...|\n",
      "|  2|  10434961565|   1048398|2023-01-30|4.6 mi N of Doyle...|acceptable|      post_trip|  3601225|       NULL|       NULL|           71|     active|          Hino|                NULL|\n",
      "|  3|  10434959570|   1086409|2023-01-30|        Columbus, OH|acceptable|       pre_trip|  3789906|       NULL|       NULL|          543|     active|          FORD|         F550 PUMPER|\n",
      "|  4|  10434952082|   1123132|2023-01-30|      Louisville, KY|      open|       pre_trip|  3809049|       NULL|       NULL|            I|     active|          Ford|Pump Truck - 2000...|\n",
      "|  5|  10434945711|   1123116|2023-01-30|  Shepherdsville, KY|acceptable|       pre_trip|  3809038|       NULL|       NULL|         LZ03|     active|     Peterbilt|     LZ03 s/b Pumper|\n",
      "|  6|  10434934283|   1123116|2023-01-30|                NULL|acceptable|       pre_trip|  3809038|       NULL|       NULL|         LZ03|     active|     Peterbilt|     LZ03 s/b Pumper|\n",
      "|  7|  10435423796|   1123228|2023-01-30|                NULL|acceptable|       pre_trip|  3791960|       NULL|       NULL|          353|     active|     Dodge Ram|         4500 Pumper|\n",
      "|  8|  10434922038|   1177224|2023-01-30|                NULL|  resolved|       pre_trip|  3868348|    3887007|       NULL|       SC-130|     active|          Hino|                 195|\n",
      "|  9|  10434923310|   1177237|2023-01-30|3.4 mi N of Dents...|acceptable|       pre_trip|  3868355|       NULL|       NULL|          117|     active|         Isuzu|               JW5R0|\n",
      "| 10|  10434918874|   1123134|2023-01-30|      Louisville, KY|acceptable|       pre_trip|  3809051|       NULL|       NULL|            K|deactivated|          Hino|195-K Pump Truck ...|\n",
      "| 11|  10434918454|   1086401|2023-01-30|6.7 mi N of Weste...|acceptable|       pre_trip|  3756409|       NULL|       NULL|          546|     active|     PETERBILT|          337 PUMPER|\n",
      "| 12|  10434916096|   1033101|2023-01-30|4.4 mi N of Doyle...|acceptable|       pre_trip|  3601222|       NULL|       NULL|           65|     active|    Dodge 3500|PU Truck - Traile...|\n",
      "| 13|  10434915813|   1032412|2023-01-30|4.6 mi N of Doyle...|acceptable|       pre_trip|  3672415|       NULL|       NULL|           74|     active|         Chevy|   Ops Manager Truck|\n",
      "| 14|  10434914623|   1123116|2023-01-30|                NULL|acceptable|       pre_trip|  3809038|       NULL|       NULL|         LZ03|     active|     Peterbilt|     LZ03 s/b Pumper|\n",
      "| 15|  10434912150|   1123224|2023-01-30|      Crossville, TN|acceptable|       pre_trip|  3791958|       NULL|       NULL|          500|     active|           GMC|            Roll Off|\n",
      "| 16|  10435348225|   1170562|2023-01-30|                NULL|acceptable|       pre_trip|  3827497|       NULL|       NULL|PMCSEPTIC #25|     active|         Dodge|                5500|\n",
      "| 17|  10435457124|   1123138|2023-01-30|                NULL|acceptable|       pre_trip|  3775022|       NULL|       NULL|       2500PD|     active|         Dodge|    P & D Pick Truck|\n",
      "| 18|  10436102987|   1123247|2023-01-30|                NULL|acceptable|       pre_trip|  3799191|       NULL|       NULL|          323|     active|Chevrolet 5500|              Pumper|\n",
      "| 19|  10434893281|   1177252|2023-01-30|3.4 mi N of Dents...|  resolved|       pre_trip|  3663775|    3887007|       NULL|      SC-F250|     active|          Ford|               F-250|\n",
      "| 20|  10434884300|   1123116|2023-01-30|                NULL|acceptable|       pre_trip|  3809038|       NULL|       NULL|         LZ03|     active|     Peterbilt|     LZ03 s/b Pumper|\n",
      "+---+-------------+----------+----------+--------------------+----------+---------------+---------+-----------+-----------+-------------+-----------+--------------+--------------------+\n",
      "only showing top 20 rows\n",
      "\n"
     ]
    }
   ],
   "source": [
    "data_inspection = spark.read.csv('dbfs:/FileStore/tables/data_inspections_w_vehicle_map.csv', inferSchema=True, header=True)\n",
    "data_inspection.show()"
   ]
  },
  {
   "cell_type": "code",
   "execution_count": 0,
   "metadata": {
    "application/vnd.databricks.v1+cell": {
     "cellMetadata": {
      "byteLimit": 2048000,
      "rowLimit": 10000
     },
     "inputWidgets": {},
     "nuid": "c36026d6-3203-46cb-900f-2bcbb6b3795d",
     "showTitle": false,
     "tableResultSettingsMap": {},
     "title": ""
    }
   },
   "outputs": [
    {
     "name": "stdout",
     "output_type": "stream",
     "text": [
      "Schema:\n",
      "root\n",
      " |-- id: integer (nullable = true)\n",
      " |-- inspection_id: long (nullable = true)\n",
      " |-- vehicle_id: integer (nullable = true)\n",
      " |-- date: date (nullable = true)\n",
      " |-- location: string (nullable = true)\n",
      " |-- status: string (nullable = true)\n",
      " |-- inspection_type: string (nullable = true)\n",
      " |-- driver_id: integer (nullable = true)\n",
      " |-- mechanic_id: string (nullable = true)\n",
      " |-- reviewer_id: string (nullable = true)\n",
      " |-- number: string (nullable = true)\n",
      " |-- status-2: string (nullable = true)\n",
      " |-- make: string (nullable = true)\n",
      " |-- model: string (nullable = true)\n",
      "\n",
      "Missing Values:\n",
      "id: 0\n",
      "inspection_id: 0\n",
      "vehicle_id: 0\n",
      "date: 0\n",
      "location: 28442\n",
      "status: 0\n",
      "inspection_type: 0\n",
      "driver_id: 0\n",
      "mechanic_id: 0\n",
      "reviewer_id: 0\n",
      "number: 0\n",
      "status-2: 0\n",
      "make: 2185\n",
      "model: 4716\n"
     ]
    }
   ],
   "source": [
    "from pyspark.sql.functions import col, count, when\n",
    "print(\"Schema:\")\n",
    "data_inspection.printSchema()\n",
    "# Count missing values in each column\n",
    "print(\"Missing Values:\")\n",
    "missing_values = data_inspection.select([\n",
    "    count(when(col(c).isNull(), c)).alias(c) for c in data_inspection.columns\n",
    "]).collect()[0]\n",
    "\n",
    "# Print missing values in readable format\n",
    "for col_name, missing_count in zip(data_inspection.columns, missing_values):\n",
    "    print(f\"{col_name}: {missing_count}\")"
   ]
  },
  {
   "cell_type": "code",
   "execution_count": 0,
   "metadata": {
    "application/vnd.databricks.v1+cell": {
     "cellMetadata": {
      "byteLimit": 2048000,
      "rowLimit": 10000
     },
     "inputWidgets": {},
     "nuid": "1c29414b-1e1a-4917-9924-9ff3d344b801",
     "showTitle": false,
     "tableResultSettingsMap": {},
     "title": ""
    }
   },
   "outputs": [
    {
     "name": "stdout",
     "output_type": "stream",
     "text": [
      "Numerical columns: ['id', 'vehicle_id', 'driver_id']\n",
      "Categorical columns: ['location', 'status', 'inspection_type', 'mechanic_id', 'reviewer_id', 'number', 'status-2', 'make', 'model']\n"
     ]
    }
   ],
   "source": [
    "# identify numerical and categorical columns\n",
    "numerical_cols = [f.name for f in data_inspection.schema.fields if f.dataType.simpleString() in ['int', 'double', 'float']]\n",
    "categorical_cols = [f.name for f in data_inspection.schema.fields if f.dataType.simpleString() in ['string', 'boolean', 'timestamp']]\n",
    "\n",
    "print(\"Numerical columns:\", numerical_cols)\n",
    "print(\"Categorical columns:\", categorical_cols)"
   ]
  },
  {
   "cell_type": "markdown",
   "metadata": {
    "application/vnd.databricks.v1+cell": {
     "cellMetadata": {
      "byteLimit": 2048000,
      "rowLimit": 10000
     },
     "inputWidgets": {},
     "nuid": "9c147ec6-1346-4768-b67c-cb8b6cf60457",
     "showTitle": false,
     "tableResultSettingsMap": {},
     "title": ""
    }
   },
   "source": [
    "### Understand Categorical values\n",
    "No need to look at numerical columns because most of them are ID related columns\n"
   ]
  },
  {
   "cell_type": "code",
   "execution_count": 0,
   "metadata": {
    "application/vnd.databricks.v1+cell": {
     "cellMetadata": {
      "byteLimit": 2048000,
      "rowLimit": 10000
     },
     "inputWidgets": {},
     "nuid": "90172154-f6db-41a0-9a12-6713fac49df1",
     "showTitle": false,
     "tableResultSettingsMap": {},
     "title": ""
    }
   },
   "outputs": [
    {
     "name": "stdout",
     "output_type": "stream",
     "text": [
      "Unique Value Counts for Categorical Columns:\n",
      "location: 5996 unique values\n",
      "status: 3 unique values\n",
      "inspection_type: 3 unique values\n",
      "mechanic_id: 28 unique values\n",
      "reviewer_id: 160 unique values\n",
      "number: 1075 unique values\n",
      "status-2: 3 unique values\n",
      "make: 78 unique values\n",
      "model: 330 unique values\n"
     ]
    }
   ],
   "source": [
    "#  unique value counts for categorical columns\n",
    "print(\"Unique Value Counts for Categorical Columns:\")\n",
    "for c in categorical_cols:\n",
    "    unique_count = data_inspection.select(countDistinct(col(c))).collect()[0][0]\n",
    "    print(f\"{c}: {unique_count} unique values\")"
   ]
  },
  {
   "cell_type": "code",
   "execution_count": 0,
   "metadata": {
    "application/vnd.databricks.v1+cell": {
     "cellMetadata": {
      "byteLimit": 2048000,
      "rowLimit": 10000
     },
     "inputWidgets": {},
     "nuid": "48d08cdb-7243-4e5e-92e7-82df2475db41",
     "showTitle": false,
     "tableResultSettingsMap": {},
     "title": ""
    }
   },
   "outputs": [
    {
     "name": "stdout",
     "output_type": "stream",
     "text": [
      "inspection_type: ['post_trip', 'pre_trip', 'NULL']\n",
      "status: ['acceptable', 'open', 'resolved']\n"
     ]
    }
   ],
   "source": [
    "categorical_columns = [\"inspection_type\",\"status\"]\n",
    "\n",
    "# Extract unique values for each specified categorical column\n",
    "unique_values_dict = {}\n",
    "\n",
    "for c in categorical_columns:\n",
    "    unique_values = data_inspection.select(col(c)).distinct().rdd.flatMap(lambda x: x).collect()\n",
    "    unique_values_dict[c] = unique_values\n",
    "\n",
    "# Display unique values for each column\n",
    "for col_name, values in unique_values_dict.items():\n",
    "    print(f\"{col_name}: {values}\")\n"
   ]
  },
  {
   "cell_type": "markdown",
   "metadata": {
    "application/vnd.databricks.v1+cell": {
     "cellMetadata": {
      "byteLimit": 2048000,
      "rowLimit": 10000
     },
     "inputWidgets": {},
     "nuid": "fce07010-199e-4320-a282-cc4b9f6e60e1",
     "showTitle": false,
     "tableResultSettingsMap": {},
     "title": ""
    }
   },
   "source": [
    "**Observation**: \n",
    "- `inspection_type`: there are 2 inspection type, pre and post trips. Ideally, we would want to focus on inspection before the trip to avoid any vehicle breakdown or vehicle-related accidents; however, sometime, the driver doesn't actually comply and do the inspections correctly \n",
    "- `status`, tell us about the status of that inspection \"resolved\" is when the car damage has been taken care off, \"open\" means that there is an issue with the car and waiting for status to be resolved, open just mean the car is good to go \n",
    " \n",
    "\n",
    "\n",
    "## `data_idle_events_w_vehicle_map`"
   ]
  },
  {
   "cell_type": "code",
   "execution_count": 0,
   "metadata": {
    "application/vnd.databricks.v1+cell": {
     "cellMetadata": {
      "byteLimit": 2048000,
      "rowLimit": 10000
     },
     "inputWidgets": {},
     "nuid": "080a24fc-f5d5-4fd4-90f7-85a7d5ccea59",
     "showTitle": false,
     "tableResultSettingsMap": {},
     "title": ""
    }
   },
   "outputs": [
    {
     "name": "stdout",
     "output_type": "stream",
     "text": [
      "+------+----------+-------------------+-------------------+----------+---------+-----------------+------------------+-----+------------+-----------+-------------+--------------------+--------+--------------------+\n",
      "|  id_x|  event_id|         start_time|           end_time|vehicle_id|driver_id|driver_company_id|    minutes_idling| id_y|      number|     status|         make|               model|group_id|          group_name|\n",
      "+------+----------+-------------------+-------------------+----------+---------+-----------------+------------------+-----+------------+-----------+-------------+--------------------+--------+--------------------+\n",
      "|958494|2009230461|2023-07-10 14:14:56|2023-07-10 14:17:44|   1137831|     NULL|             NULL|               2.8|401.0|         F25|deactivated|         Ford|         F450 (hook)| 68660.0|NC - Griffin Hook...|\n",
      "|958495|2009232020|2023-07-10 14:07:58|2023-07-10 14:17:47|   1146884|3601229.0|            835.0| 9.816666666666666|600.0|          81|     active|         Hino|                  M2| 50046.0|    PA - Port A Bowl|\n",
      "|958496|2009231690|2023-07-10 14:09:44|2023-07-10 14:17:59|   1136641|3860058.0|            632.0|              8.25| 43.0|          T5|     active| FREIGHTLINER|                  M2| 55542.0|    AR - Little Rock|\n",
      "|958497|2009231976|2023-07-10 13:53:33|2023-07-10 14:18:00|   1033098|3606675.0|            834.0|             24.45|577.0|          52|     active|     Hino 338|1000/600 Stainles...| 50046.0|    PA - Port A Bowl|\n",
      "|958498|2009233427|2023-07-10 14:15:14|2023-07-10 14:18:14|   1165790|3941826.0|            455.0|               3.0| 73.0|        P-08|     active|         Hino|338 - Pump (1500 ...| 60498.0|        FL - Freedom|\n",
      "|958499|2009232316|2023-07-10 14:08:45|2023-07-10 14:18:16|   1235042|3904785.0|            502.0| 9.516666666666667|203.0|      GA 407|deactivated|         HINO|Conventional Type...| 53751.0|     GA -PSI Augusta|\n",
      "|958500|2009231287|2023-07-10 14:00:33|2023-07-10 14:18:18|   1281781|4227640.0|           1323.0|             17.75|811.0|   170160011|     active|         HINO|                 338| 63332.0|TN - Memphis - Sa...|\n",
      "|958501|2009234090|2023-07-10 14:10:18|2023-07-10 14:18:19|   1189499|3933445.0|           1117.0| 8.016666666666667|831.0|   110210033|     active|International|MV607 CONCRETE TR...| 63332.0|TN - Memphis - Sa...|\n",
      "|958502|2009235262|2023-07-10 14:16:12|2023-07-10 14:18:27|   1123238|3782039.0|            238.0|              2.25|665.0|         343|     active|         Ford|         F550 Pumper| 55431.0|           TN - ETP |\n",
      "|958503|2009233365|2023-07-10 14:09:47|2023-07-10 14:18:33|   1273751|     NULL|             NULL| 8.766666666666667|464.0|        FP23|     active|         FORD|        F-450 (Pump)| 53753.0|NC - Griffin Wast...|\n",
      "|958504|2009232087|2023-07-10 14:14:26|2023-07-10 14:18:36|   1123170|4181872.0|           1446.0| 4.166666666666667| 14.0|        FAY9|     active|    Peterbilt|          337 Pumper| 55543.0|            AR - Fay|\n",
      "|958505|2009279149|2023-07-10 14:09:13|2023-07-10 14:18:36|   1137872|3798012.0|            158.0| 9.383333333333333|452.0|         F30|     active|         Ford|     F450 (Flat Bed)| 53753.0|NC - Griffin Wast...|\n",
      "|958506|2009231826|2023-07-10 14:01:10|2023-07-10 14:18:38|   1165793|3941824.0|            453.0|17.466666666666665| 74.0|        P-09|     active|         Hino|                NULL| 60498.0|        FL - Freedom|\n",
      "|958507|2009236167|2023-07-10 14:11:14|2023-07-10 14:18:40|   1123161|3906274.0|              7.0| 7.433333333333334| 33.0|         T11|     active|         Ford|       F550 (Pumper)| 55542.0|    AR - Little Rock|\n",
      "|958508|2009236048|2023-07-10 14:12:16|2023-07-10 14:18:45|   1192177|3919401.0|           1173.0| 6.483333333333333|516.0|        4017|deactivated|         Ford|950 White Route T...| 76130.0|OH - C&L and Safeway|\n",
      "|958509|2009234934|2023-07-10 14:14:29|2023-07-10 14:18:47|   1123128|3805017.0|            339.0|               4.3|268.0|         D 6|     active|International|Hook Lift-Dumpste...| 54015.0|     KY - Moon Minis|\n",
      "|958510|2009234944|2023-07-10 13:53:10|2023-07-10 14:19:04|   1156509|3905647.0|            911.0|              25.9|800.0|PMCSEPTIC 19|     active|         Ford|                 550| 60569.0|      TN - MC Septic|\n",
      "|958511|2009234761|2023-07-10 14:14:21|2023-07-10 14:19:10|   1123078|4043672.0|           1016.0| 4.816666666666666|347.0|         234|     active|         Mack|1500 Tank (1200 s...| 55550.0|         NC - Denver|\n",
      "|958512|2009156338|2023-07-10 13:41:31|2023-07-10 13:51:16|   1146884|3601229.0|            835.0|              9.75|600.0|          81|     active|         Hino|                  M2| 50046.0|    PA - Port A Bowl|\n",
      "|958513|2009156112|2023-07-10 13:46:16|2023-07-10 13:51:24|   1203439|     NULL|             NULL| 5.133333333333334| 65.0|    FL - 126|     active|         Hino|                 338| 60498.0|        FL - Freedom|\n",
      "+------+----------+-------------------+-------------------+----------+---------+-----------------+------------------+-----+------------+-----------+-------------+--------------------+--------+--------------------+\n",
      "only showing top 20 rows\n",
      "\n"
     ]
    }
   ],
   "source": [
    "data_idle_events = spark.read.csv('dbfs:/FileStore/tables/data_idle_events_w_vehicle_map.csv', inferSchema=True, header=True)\n",
    "data_idle_events.show()"
   ]
  },
  {
   "cell_type": "code",
   "execution_count": 0,
   "metadata": {
    "application/vnd.databricks.v1+cell": {
     "cellMetadata": {
      "byteLimit": 2048000,
      "rowLimit": 10000
     },
     "inputWidgets": {},
     "nuid": "8e90226c-f9d0-4826-a3e0-105b95492e02",
     "showTitle": false,
     "tableResultSettingsMap": {},
     "title": ""
    }
   },
   "outputs": [
    {
     "name": "stdout",
     "output_type": "stream",
     "text": [
      "Schema:\n",
      "root\n",
      " |-- id_x: integer (nullable = true)\n",
      " |-- event_id: long (nullable = true)\n",
      " |-- start_time: timestamp (nullable = true)\n",
      " |-- end_time: timestamp (nullable = true)\n",
      " |-- vehicle_id: integer (nullable = true)\n",
      " |-- driver_id: double (nullable = true)\n",
      " |-- driver_company_id: double (nullable = true)\n",
      " |-- minutes_idling: double (nullable = true)\n",
      " |-- id_y: double (nullable = true)\n",
      " |-- number: string (nullable = true)\n",
      " |-- status: string (nullable = true)\n",
      " |-- make: string (nullable = true)\n",
      " |-- model: string (nullable = true)\n",
      " |-- group_id: double (nullable = true)\n",
      " |-- group_name: string (nullable = true)\n",
      "\n",
      "Missing Values:\n",
      "id_x: 0\n",
      "event_id: 0\n",
      "start_time: 0\n",
      "end_time: 0\n",
      "vehicle_id: 0\n",
      "driver_id: 904614\n",
      "driver_company_id: 1108219\n",
      "minutes_idling: 0\n",
      "id_y: 794\n",
      "number: 794\n",
      "status: 794\n",
      "make: 34930\n",
      "model: 149798\n",
      "group_id: 794\n",
      "group_name: 794\n"
     ]
    }
   ],
   "source": [
    "# Show schema\n",
    "print(\"Schema:\")\n",
    "data_idle_events.printSchema()\n",
    "# Count missing values in each column\n",
    "print(\"Missing Values:\")\n",
    "missing_values = data_idle_events.select([\n",
    "    count(when(col(c).isNull(), c)).alias(c) for c in data_idle_events.columns\n",
    "]).collect()[0]\n",
    "for col_name, missing_count in zip(data_idle_events.columns, missing_values):\n",
    "    print(f\"{col_name}: {missing_count}\")"
   ]
  },
  {
   "cell_type": "code",
   "execution_count": 0,
   "metadata": {
    "application/vnd.databricks.v1+cell": {
     "cellMetadata": {
      "byteLimit": 2048000,
      "rowLimit": 10000
     },
     "inputWidgets": {},
     "nuid": "1555f15b-70b0-4175-b3ba-616f52a638cc",
     "showTitle": false,
     "tableResultSettingsMap": {},
     "title": ""
    }
   },
   "outputs": [
    {
     "name": "stdout",
     "output_type": "stream",
     "text": [
      "Numerical columns: ['id_x', 'vehicle_id', 'driver_id', 'driver_company_id', 'minutes_idling', 'id_y', 'group_id']\n",
      "Categorical columns: ['start_time', 'end_time', 'number', 'status', 'make', 'model', 'group_name']\n"
     ]
    }
   ],
   "source": [
    "# identify numerical and categorical columns\n",
    "numerical_cols = [f.name for f in data_idle_events.schema.fields if f.dataType.simpleString() in ['int', 'double', 'float']]\n",
    "categorical_cols = [f.name for f in data_idle_events.schema.fields if f.dataType.simpleString() in ['string', 'boolean', 'timestamp']]\n",
    "\n",
    "print(\"Numerical columns:\", numerical_cols)\n",
    "print(\"Categorical columns:\", categorical_cols)"
   ]
  },
  {
   "cell_type": "markdown",
   "metadata": {
    "application/vnd.databricks.v1+cell": {
     "cellMetadata": {
      "byteLimit": 2048000,
      "rowLimit": 10000
     },
     "inputWidgets": {},
     "nuid": "9ffe6252-d594-4378-b600-6ab8b5b7cfbf",
     "showTitle": false,
     "tableResultSettingsMap": {},
     "title": ""
    }
   },
   "source": [
    "### Understand Categorical and Numerical values\n"
   ]
  },
  {
   "cell_type": "code",
   "execution_count": 0,
   "metadata": {
    "application/vnd.databricks.v1+cell": {
     "cellMetadata": {
      "byteLimit": 2048000,
      "rowLimit": 10000
     },
     "inputWidgets": {},
     "nuid": "11bebba6-8d70-4f6d-b0bd-9f9d90404537",
     "showTitle": false,
     "tableResultSettingsMap": {},
     "title": ""
    }
   },
   "outputs": [
    {
     "name": "stdout",
     "output_type": "stream",
     "text": [
      "Summary Statistics for Numerical Columns:\n",
      "+-------------------+---------------------+------------------+------------------+\n",
      "|minutes_idling_mean|minutes_idling_stddev|minutes_idling_min|minutes_idling_max|\n",
      "+-------------------+---------------------+------------------+------------------+\n",
      "|  8.344773748282797|    9.796090187961287|               2.0|            2155.1|\n",
      "+-------------------+---------------------+------------------+------------------+\n",
      "\n"
     ]
    }
   ],
   "source": [
    "# Summary statistics for numerical columns\n",
    "filtered_numerical_cols = [c for c in numerical_cols if \"_id\" not in c and c!= \"id_x\" and c!= \"id_y\" or c == \"minutes_idling\"]\n",
    "if filtered_numerical_cols:\n",
    "    print(\"Summary Statistics for Numerical Columns:\")\n",
    "    summary_stats = data_idle_events.select(\n",
    "        [mean(col(c)).alias(f\"{c}_mean\") for c in filtered_numerical_cols] +\n",
    "        [stddev(col(c)).alias(f\"{c}_stddev\") for c in filtered_numerical_cols] +\n",
    "        [min(col(c)).alias(f\"{c}_min\") for c in filtered_numerical_cols] +\n",
    "        [max(col(c)).alias(f\"{c}_max\") for c in filtered_numerical_cols]\n",
    "    )\n",
    "    summary_stats.show()\n"
   ]
  },
  {
   "cell_type": "code",
   "execution_count": 0,
   "metadata": {
    "application/vnd.databricks.v1+cell": {
     "cellMetadata": {
      "byteLimit": 2048000,
      "rowLimit": 10000
     },
     "inputWidgets": {},
     "nuid": "e4b94152-a6cc-4f70-b7f3-2f5d37259e53",
     "showTitle": false,
     "tableResultSettingsMap": {},
     "title": ""
    }
   },
   "outputs": [
    {
     "data": {
      "image/png": "[encoded data removed]",
      "text/plain": [
       "<Figure size 1000x500 with 1 Axes>"
      ]
     },
     "metadata": {},
     "output_type": "display_data"
    }
   ],
   "source": [
    "from pyspark.sql.functions import col, count, when\n",
    "col_name = \"minutes_idling\"\n",
    "# IQR \n",
    "q1, q3 = data_idle_events.approxQuantile(col_name, [0.25, 0.75], 0.05)\n",
    "iqr = q3 - q1\n",
    "lower_bound = q1 - 1.5 * iqr\n",
    "upper_bound = q3 + 1.5 * iqr\n",
    "\n",
    "# filter outliers\n",
    "outliers_df = data_idle_events.filter((col(col_name) < lower_bound) | (col(col_name) > upper_bound)).toPandas()\n",
    "\n",
    "# Plot outliers\n",
    "plt.figure(figsize=(10, 5))\n",
    "sns.boxplot(x=outliers_df[col_name])\n",
    "plt.title(f\"Outliers in {col_name}\")\n",
    "plt.xlabel(\"Minutes Idling\")\n",
    "plt.show()"
   ]
  },
  {
   "cell_type": "code",
   "execution_count": 0,
   "metadata": {
    "application/vnd.databricks.v1+cell": {
     "cellMetadata": {
      "byteLimit": 2048000,
      "rowLimit": 10000
     },
     "inputWidgets": {},
     "nuid": "fbae4fa9-2188-4a33-9d68-0fd9b05c9134",
     "showTitle": false,
     "tableResultSettingsMap": {},
     "title": ""
    }
   },
   "outputs": [
    {
     "name": "stdout",
     "output_type": "stream",
     "text": [
      "Unique Value Counts for Categorical Columns:\n",
      "start_time: 4602400 unique values\n",
      "end_time: 4601756 unique values\n",
      "number: 1073 unique values\n",
      "status: 2 unique values\n",
      "make: 77 unique values\n",
      "model: 328 unique values\n",
      "group_name: 45 unique values\n"
     ]
    }
   ],
   "source": [
    "#  unique value counts for categorical columns\n",
    "\n",
    "print(\"Unique Value Counts for Categorical Columns:\")\n",
    "for c in categorical_cols:\n",
    "    unique_count = data_idle_events.select(countDistinct(col(c))).collect()[0][0]\n",
    "    print(f\"{c}: {unique_count} unique values\")"
   ]
  },
  {
   "cell_type": "code",
   "execution_count": 0,
   "metadata": {
    "application/vnd.databricks.v1+cell": {
     "cellMetadata": {
      "byteLimit": 2048000,
      "rowLimit": 10000
     },
     "inputWidgets": {},
     "nuid": "4b9bd1fb-c63f-4120-aa34-af284d7b81b3",
     "showTitle": false,
     "tableResultSettingsMap": {},
     "title": ""
    }
   },
   "outputs": [
    {
     "name": "stdout",
     "output_type": "stream",
     "text": [
      "DateType Range: \n",
      "start_date: (2023-01-01 00:06:43, 2025-02-25 23:59:54)\n",
      "created_at: (2024-08-09 18:23:42.845445, 2025-02-26 09:00:25.066668)\n",
      "updated_at: (2024-08-09 18:23:42.845445, 2025-02-26 09:00:25.066668)\n"
     ]
    }
   ],
   "source": [
    "# the other non-date categorical values are the same as above tables\n",
    "# get datetype range \n",
    "print(\"DateType Range: \")\n",
    "datetime_cols = [f.name for f in driving_period.schema.fields if f.dataType.simpleString() == 'timestamp']\n",
    "if datetime_cols:\n",
    "    date_ranges = driving_period.select(\n",
    "        [min(col(c)).alias(f\"{c}_min\") for c in datetime_cols] +\n",
    "        [max(col(c)).alias(f\"{c}_max\") for c in datetime_cols]\n",
    "    ).collect()[0]\n",
    "\n",
    "    # prnt the date ranges in the desired format\n",
    "    for i, col_name in enumerate(datetime_cols):\n",
    "        min_date = date_ranges[i]\n",
    "        max_date = date_ranges[i + len(datetime_cols)]\n",
    "        print(f\"{col_name}: ({min_date}, {max_date})\")\n",
    "else:\n",
    "    print(\"No datetime columns found.\")"
   ]
  },
  {
   "cell_type": "markdown",
   "metadata": {
    "application/vnd.databricks.v1+cell": {
     "cellMetadata": {
      "byteLimit": 2048000,
      "rowLimit": 10000
     },
     "inputWidgets": {},
     "nuid": "06187792-33cc-451a-b4cd-52160ce0b810",
     "showTitle": false,
     "tableResultSettingsMap": {},
     "title": ""
    }
   },
   "source": [
    "**Observation**:\n",
    "- For `minutes_idling`, there are some outliers values > 1000; typically, the average idling minutes is 8 minutes \n",
    "- There are several null `driver_id` that we need to drops\n",
    "\n",
    "### `accident_register_combined_driverid`\n"
   ]
  },
  {
   "cell_type": "code",
   "execution_count": 0,
   "metadata": {
    "application/vnd.databricks.v1+cell": {
     "cellMetadata": {
      "byteLimit": 2048000,
      "rowLimit": 10000
     },
     "inputWidgets": {},
     "nuid": "c27e8a9c-20df-448a-8c16-c5eeba8effaf",
     "showTitle": false,
     "tableResultSettingsMap": {},
     "title": ""
    }
   },
   "outputs": [
    {
     "name": "stdout",
     "output_type": "stream",
     "text": [
      "+------------------------------------------+------------------+-------------------+-------------+--------+--------------------+--------------------------------+--------+------------------+--------------+----+------+----------------+---------------+------------------+-----------------+-----------------+----------------+---------+-------------------+-----+\n",
      "|Location of Accident (street, city, state)|               DBA|   Date of Accident|Date Reported|Fatality| insured_driver_name|Copy of Sate or Insurance Report|Severity|      Claim Number|Total Incurred|Year|Region|Time of Accident|APMM Recordable|insured_first_name|insured_last_name|driver_first_name|driver_last_name|driver_id|Summary of Accident|Notes|\n",
      "+------------------------------------------+------------------+-------------------+-------------+--------+--------------------+--------------------------------+--------+------------------+--------------+----+------+----------------+---------------+------------------+-----------------+-----------------+----------------+---------+-------------------+-----+\n",
      "|                                        PA|       Port A Bowl|2023-10-31 00:00:00|         NULL|    NULL|         Neal Fisher|                            NULL|    NULL|09 PC 000000312865|          NULL|2023|  NULL|            NULL|           NULL|              Neal|           Fisher|             Neal|          Fisher|  3606675|               NULL| NULL|\n",
      "|                                      NULL|              NULL|2023-07-13 00:00:00|         NULL|    NULL|                NULL|                            NULL|    NULL|          259067GO|          NULL|2023|  NULL|            NULL|           NULL|              NULL|             NULL|             NULL|            NULL|     NULL|               NULL| NULL|\n",
      "|                                        AR|Arkansas Portables|2023-11-09 00:00:00|         NULL|    NULL|      Jerry Alderson|                            NULL|    NULL|09 PC 000000327269|          NULL|2023|  NULL|            NULL|           NULL|             Jerry|         Alderson|            Jerry|        Alderson|  3862017|               NULL| NULL|\n",
      "|                                        NC|               ASC|2023-03-28 00:00:00|         NULL|    NULL|  Howard Lee Salters|                            NULL|    NULL|09 PC 000000317068|          NULL|2023|  NULL|            NULL|           NULL|            Howard|              Lee|           Howard|         Salters|  3951635|               NULL| NULL|\n",
      "|                                      NULL|              NULL|2023-06-06 00:00:00|         NULL|    NULL|                NULL|                            NULL|    NULL|          287059GO|          NULL|2023|  NULL|            NULL|           NULL|              NULL|             NULL|             NULL|            NULL|     NULL|               NULL| NULL|\n",
      "|                                      NULL|              NULL|2023-06-20 00:00:00|         NULL|    NULL|                NULL|                            NULL|    NULL|          370164GO|          NULL|2023|  NULL|            NULL|           NULL|              NULL|             NULL|             NULL|            NULL|     NULL|               NULL| NULL|\n",
      "|                                        TX|               ACP|2023-04-19 00:00:00|         NULL|    NULL|      Mario Coronado|                            NULL|    NULL|09 PC 000000331231|          NULL|2023|  NULL|            NULL|           NULL|             Mario|         Coronado|            Mario|        Coronado|  4688972|               NULL| NULL|\n",
      "|                                        FL|      West Florida|2023-10-05 00:00:00|         NULL|    NULL|       George Madera|                            NULL|    NULL|09 PC 000000316271|          NULL|2023|  NULL|            NULL|           NULL|            George|           Madera|           George|          Madera|  4385501|               NULL| NULL|\n",
      "|                                        FL|      West Florida|2023-10-05 00:00:00|         NULL|    NULL|       George Madera|                            NULL|    NULL|09 PC 000000316271|          NULL|2023|  NULL|            NULL|           NULL|            George|           Madera|           George|          Madera|  4385501|               NULL| NULL|\n",
      "|                                        PA|       Port A Bowl|2023-12-02 00:00:00|         NULL|    NULL|       Matthew Perry|                            NULL|    NULL|09 PC 000000310693|          NULL|2023|  NULL|            NULL|           NULL|           Matthew|            Perry|          Matthew|           Perry|  4108271|               NULL| NULL|\n",
      "|                                      NULL|              NULL|2023-06-12 00:00:00|         NULL|    NULL|                NULL|                            NULL|    NULL|          285698GO|          NULL|2023|  NULL|            NULL|           NULL|              NULL|             NULL|             NULL|            NULL|     NULL|               NULL| NULL|\n",
      "|                                        PA|       Port A Bowl|2023-10-31 00:00:00|         NULL|    NULL|             Kevin L|                            NULL|    NULL|09 PC 000000308894|          NULL|2023|  NULL|            NULL|           NULL|             Kevin|                L|             NULL|            NULL|     NULL|               NULL| NULL|\n",
      "|                                        TN|       Safety-Quip|2023-11-17 00:00:00|         NULL|    NULL|       Xavier Morris|                            NULL|    NULL|09 PC 000000322260|          NULL|2023|  NULL|            NULL|           NULL|            Xavier|           Morris|           Xavier|          Morris|  4543880|               NULL| NULL|\n",
      "|                                        TN|       Safety-Quip|2023-10-05 00:00:00|         NULL|    NULL|        Kelcy Harmon|                            NULL|    NULL|09 PC 000000319273|          NULL|2023|  NULL|            NULL|           NULL|             Kelcy|           Harmon|            Kelcy|          Harmon|  4543764|               NULL| NULL|\n",
      "|                                      NULL|              NULL|2023-05-16 00:00:00|         NULL|    NULL|                NULL|                            NULL|    NULL|          359914GO|          NULL|2023|  NULL|            NULL|           NULL|              NULL|             NULL|             NULL|            NULL|     NULL|               NULL| NULL|\n",
      "|                                        TN|       Safety-Quip|2023-02-08 00:00:00|         NULL|    NULL|   Jerdarion Kennedy|                            NULL|    NULL|09 PC 000000303268|          NULL|2023|  NULL|            NULL|           NULL|         Jerdarion|          Kennedy|        Jerdarian|         Kennedy|  3933445|               NULL| NULL|\n",
      "|                                      NULL|              NULL|2023-05-08 00:00:00|         NULL|    NULL|                NULL|                            NULL|    NULL|          444177GO|          NULL|2023|  NULL|            NULL|           NULL|              NULL|             NULL|             NULL|            NULL|     NULL|               NULL| NULL|\n",
      "|                                      NULL|              NULL|2023-06-12 00:00:00|         NULL|    NULL|                NULL|                            NULL|    NULL|          257931GO|          NULL|2023|  NULL|            NULL|           NULL|              NULL|             NULL|             NULL|            NULL|     NULL|               NULL| NULL|\n",
      "|                                        FL|     Freedom Waste|2023-08-25 00:00:00|         NULL|    NULL|Bostick Delvin Mi...|                            NULL|    NULL|09 PC 000000320867|          NULL|2023|  NULL|            NULL|           NULL|           Bostick|           Delvin|             NULL|            NULL|     NULL|               NULL| NULL|\n",
      "|                                        AR|Arkansas Portables|2023-03-21 00:00:00|         NULL|    NULL|          Josh Wolfe|                            NULL|    NULL|09 PC 000000322973|          NULL|2023|  NULL|            NULL|           NULL|              Josh|            Wolfe|             Josh|           Wolfe|  3906271|               NULL| NULL|\n",
      "+------------------------------------------+------------------+-------------------+-------------+--------+--------------------+--------------------------------+--------+------------------+--------------+----+------+----------------+---------------+------------------+-----------------+-----------------+----------------+---------+-------------------+-----+\n",
      "only showing top 20 rows\n",
      "\n"
     ]
    }
   ],
   "source": [
    "# load the data \n",
    "accident_reg_data = spark.read.csv('dbfs:/FileStore/tables/accident_register_combined_driverid.tsv', inferSchema=True, header=True, sep=\"\\t\")\n",
    "accident_reg_data.show()"
   ]
  },
  {
   "cell_type": "code",
   "execution_count": 0,
   "metadata": {
    "application/vnd.databricks.v1+cell": {
     "cellMetadata": {
      "byteLimit": 2048000,
      "rowLimit": 10000
     },
     "inputWidgets": {},
     "nuid": "b9b3f383-e1f5-4078-b1e7-2a0f1e79c184",
     "showTitle": false,
     "tableResultSettingsMap": {},
     "title": ""
    }
   },
   "outputs": [
    {
     "name": "stdout",
     "output_type": "stream",
     "text": [
      "Schema:\n",
      "root\n",
      " |-- Location of Accident (street, city, state): string (nullable = true)\n",
      " |-- DBA: string (nullable = true)\n",
      " |-- Date of Accident: timestamp (nullable = true)\n",
      " |-- Date Reported: timestamp (nullable = true)\n",
      " |-- Fatality: string (nullable = true)\n",
      " |-- insured_driver_name: string (nullable = true)\n",
      " |-- Copy of Sate or Insurance Report: string (nullable = true)\n",
      " |-- Severity: string (nullable = true)\n",
      " |-- Claim Number: string (nullable = true)\n",
      " |-- Total Incurred: integer (nullable = true)\n",
      " |-- Year: integer (nullable = true)\n",
      " |-- Region: string (nullable = true)\n",
      " |-- Time of Accident: string (nullable = true)\n",
      " |-- APMM Recordable: boolean (nullable = true)\n",
      " |-- insured_first_name: string (nullable = true)\n",
      " |-- insured_last_name: string (nullable = true)\n",
      " |-- driver_first_name: string (nullable = true)\n",
      " |-- driver_last_name: string (nullable = true)\n",
      " |-- driver_id: integer (nullable = true)\n",
      " |-- Summary of Accident: string (nullable = true)\n",
      " |-- Notes: string (nullable = true)\n",
      "\n",
      "Missing Values:\n",
      "Location of Accident (street, city, state): 30\n",
      "DBA: 18\n",
      "Date of Accident: 148\n",
      "Date Reported: 75\n",
      "Fatality: 79\n",
      "insured_driver_name: 19\n",
      "Copy of Sate or Insurance Report: 75\n",
      "Severity: 80\n",
      "Claim Number: 390\n",
      "Total Incurred: 457\n",
      "Year: 0\n",
      "Region: 391\n",
      "Time of Accident: 411\n",
      "APMM Recordable: 390\n",
      "insured_first_name: 19\n",
      "insured_last_name: 26\n",
      "driver_first_name: 42\n",
      "driver_last_name: 42\n",
      "driver_id: 42\n",
      "Summary of Accident: 71\n",
      "Notes: 467\n"
     ]
    }
   ],
   "source": [
    "from pyspark.sql.functions import col, count, when\n",
    "# Show schema\n",
    "print(\"Schema:\")\n",
    "accident_reg_data.printSchema()\n",
    "# Count missing values in each column\n",
    "print(\"Missing Values:\")\n",
    "missing_values = accident_reg_data.select([\n",
    "    count(when(col(c).isNull(), c)).alias(c) for c in accident_reg_data.columns\n",
    "]).collect()[0]\n",
    "for col_name, missing_count in zip(accident_reg_data.columns, missing_values):\n",
    "    print(f\"{col_name}: {missing_count}\")"
   ]
  },
  {
   "cell_type": "code",
   "execution_count": 0,
   "metadata": {
    "application/vnd.databricks.v1+cell": {
     "cellMetadata": {
      "byteLimit": 2048000,
      "rowLimit": 10000
     },
     "inputWidgets": {},
     "nuid": "38566332-914a-4856-954f-de1e94e833d0",
     "showTitle": false,
     "tableResultSettingsMap": {},
     "title": ""
    }
   },
   "outputs": [
    {
     "name": "stdout",
     "output_type": "stream",
     "text": [
      "Numerical columns: ['Total Incurred', 'Year', 'driver_id']\n",
      "Categorical columns: ['Location of Accident (street, city, state)', 'DBA', 'Date of Accident', 'Date Reported', 'Fatality', 'insured_driver_name', 'Copy of Sate or Insurance Report', 'Severity', 'Claim Number', 'Region', 'Time of Accident', 'APMM Recordable', 'insured_first_name', 'insured_last_name', 'driver_first_name', 'driver_last_name', 'Summary of Accident', 'Notes']\n"
     ]
    }
   ],
   "source": [
    "# identify numerical and categorical columns\n",
    "numerical_cols = [f.name for f in accident_reg_data.schema.fields if f.dataType.simpleString() in ['int', 'double', 'float']]\n",
    "categorical_cols = [f.name for f in accident_reg_data.schema.fields if f.dataType.simpleString() in ['string', 'boolean', 'timestamp']]\n",
    "\n",
    "print(\"Numerical columns:\", numerical_cols)\n",
    "print(\"Categorical columns:\", categorical_cols)"
   ]
  },
  {
   "cell_type": "code",
   "execution_count": 0,
   "metadata": {
    "application/vnd.databricks.v1+cell": {
     "cellMetadata": {
      "byteLimit": 2048000,
      "rowLimit": 10000
     },
     "inputWidgets": {},
     "nuid": "2a51117a-8c57-48d6-a254-7cc5ed7c5f0d",
     "showTitle": false,
     "tableResultSettingsMap": {},
     "title": ""
    }
   },
   "outputs": [
    {
     "name": "stdout",
     "output_type": "stream",
     "text": [
      "Summary Statistics for Numerical Columns:\n",
      "+-------------------+-----------------+---------------------+------------------+------------------+--------+------------------+--------+\n",
      "|Total Incurred_mean|        Year_mean|Total Incurred_stddev|       Year_stddev|Total Incurred_min|Year_min|Total Incurred_max|Year_max|\n",
      "+-------------------+-----------------+---------------------+------------------+------------------+--------+------------------+--------+\n",
      "| 22746.846153846152|2024.031914893617|    35414.16579761587|0.5551105397049887|               291|    2023|            120000|    2025|\n",
      "+-------------------+-----------------+---------------------+------------------+------------------+--------+------------------+--------+\n",
      "\n"
     ]
    }
   ],
   "source": [
    "# Summary statistics for numerical columns\n",
    "filtered_numerical_cols = [c for c in numerical_cols if \"_id\" not in c and c!= \"id_x\" and c!= \"id_y\" ]\n",
    "\n",
    "if filtered_numerical_cols:\n",
    "    print(\"Summary Statistics for Numerical Columns:\")\n",
    "    summary_stats = accident_reg_data.select(\n",
    "        [mean(col(c)).alias(f\"{c}_mean\") for c in filtered_numerical_cols] +\n",
    "        [stddev(col(c)).alias(f\"{c}_stddev\") for c in filtered_numerical_cols] +\n",
    "        [min(col(c)).alias(f\"{c}_min\") for c in filtered_numerical_cols] +\n",
    "        [max(col(c)).alias(f\"{c}_max\") for c in filtered_numerical_cols]\n",
    "    )\n",
    "    summary_stats.show()\n"
   ]
  },
  {
   "cell_type": "code",
   "execution_count": 0,
   "metadata": {
    "application/vnd.databricks.v1+cell": {
     "cellMetadata": {
      "byteLimit": 2048000,
      "rowLimit": 10000
     },
     "inputWidgets": {},
     "nuid": "f589b51d-a473-45a3-a19d-3bb531dd7abe",
     "showTitle": false,
     "tableResultSettingsMap": {},
     "title": ""
    }
   },
   "outputs": [
    {
     "data": {
      "image/png": "[encoded data removed]",
      "text/plain": [
       "<Figure size 1000x500 with 1 Axes>"
      ]
     },
     "metadata": {},
     "output_type": "display_data"
    }
   ],
   "source": [
    "col_name = \"Total Incurred\"\n",
    "# IQR \n",
    "q1, q3 = accident_reg_data.approxQuantile(col_name, [0.25, 0.75], 0.05)\n",
    "iqr = q3 - q1\n",
    "lower_bound = q1 - 1.5 * iqr\n",
    "upper_bound = q3 + 1.5 * iqr\n",
    "\n",
    "# filter outliers\n",
    "outliers_df = accident_reg_data.filter((col(col_name) < lower_bound) | (col(col_name) > upper_bound)).toPandas()\n",
    "\n",
    "# Plot outliers\n",
    "plt.figure(figsize=(10, 5))\n",
    "sns.boxplot(x=outliers_df[col_name])\n",
    "plt.title(f\"Outliers in {col_name}\")\n",
    "plt.xlabel(\"Total Incurred (USD)\")\n",
    "plt.show()"
   ]
  },
  {
   "cell_type": "code",
   "execution_count": 0,
   "metadata": {
    "application/vnd.databricks.v1+cell": {
     "cellMetadata": {
      "byteLimit": 2048000,
      "rowLimit": 10000
     },
     "inputWidgets": {},
     "nuid": "a8eab159-67a8-4bd1-8406-11dfd7b3474f",
     "showTitle": false,
     "tableResultSettingsMap": {},
     "title": ""
    }
   },
   "outputs": [
    {
     "name": "stdout",
     "output_type": "stream",
     "text": [
      "Unique Value Counts for Categorical Columns:\n",
      "Location of Accident (street, city, state): 292 unique values\n",
      "DBA: 54 unique values\n",
      "Date of Accident: 213 unique values\n",
      "Date Reported: 286 unique values\n",
      "Fatality: 1 unique values\n",
      "insured_driver_name: 281 unique values\n",
      "Copy of Sate or Insurance Report: 1 unique values\n",
      "Severity: 3 unique values\n",
      "Claim Number: 71 unique values\n",
      "Region: 5 unique values\n",
      "Time of Accident: 35 unique values\n",
      "APMM Recordable: 2 unique values\n",
      "insured_first_name: 190 unique values\n",
      "insured_last_name: 242 unique values\n",
      "driver_first_name: 179 unique values\n",
      "driver_last_name: 223 unique values\n",
      "Summary of Accident: 288 unique values\n",
      "Notes: 1 unique values\n"
     ]
    }
   ],
   "source": [
    "# Display unique value counts for categorical columns\n",
    "print(\"Unique Value Counts for Categorical Columns:\")\n",
    "for c in categorical_cols:\n",
    "    unique_count = accident_reg_data.select(countDistinct(col(c))).collect()[0][0]\n",
    "    print(f\"{c}: {unique_count} unique values\")"
   ]
  },
  {
   "cell_type": "code",
   "execution_count": 0,
   "metadata": {
    "application/vnd.databricks.v1+cell": {
     "cellMetadata": {
      "byteLimit": 2048000,
      "rowLimit": 10000
     },
     "inputWidgets": {},
     "nuid": "3de31c2c-c0fd-4b4b-819d-cd040c99fa0a",
     "showTitle": false,
     "tableResultSettingsMap": {},
     "title": ""
    }
   },
   "outputs": [
    {
     "name": "stdout",
     "output_type": "stream",
     "text": [
      "Severity: [None, 'SEV1', 'SEV2', 'SEV3']\n",
      "Fatality: [None, 'No']\n",
      "Year: [2025, 2023, 2024]\n",
      "Region: [None, 'Southeast', 'South Central', 'West', 'Gulf South', 'North']\n"
     ]
    }
   ],
   "source": [
    "# categorical columns of interest\n",
    "categorical_columns = [\"Severity\",\"Fatality\", \"Year\", \"Region\"]\n",
    "\n",
    "#  unique values for each specified categorical column\n",
    "unique_values_dict = {}\n",
    "\n",
    "for c in categorical_columns:\n",
    "    unique_values = accident_reg_data.select(col(c)).distinct().rdd.flatMap(lambda x: x).collect()\n",
    "    unique_values_dict[c] = unique_values\n",
    "\n",
    "for col_name, values in unique_values_dict.items():\n",
    "    print(f\"{col_name}: {values}\")\n"
   ]
  },
  {
   "cell_type": "markdown",
   "metadata": {
    "application/vnd.databricks.v1+cell": {
     "cellMetadata": {},
     "inputWidgets": {},
     "nuid": "30d0c893-04df-423b-8112-1357839bb815",
     "showTitle": false,
     "tableResultSettingsMap": {},
     "title": ""
    }
   },
   "source": [
    "**Observation**:\n",
    "- There are multiple driver_id that can't be found the the driver database; we would want to eliminate those records\n",
    "- Missing timestamp and accurate locations on some incidents which might reveal some issue when joining with weather data\n",
    "- The accident records range from 2021 to 2023\n",
    "- Some accidents are not related to crashing with other vehicles, some would come from work accident that causes damage to the vehicle \n",
    "- The damage cost incurred range from 300 to 120,000 USD \n",
    "- `Region` indicates what FusionSite region does this accident happen \n",
    "\n",
    "### `monthly_claims_insurance_driverid.csv`"
   ]
  },
  {
   "cell_type": "code",
   "execution_count": 0,
   "metadata": {
    "application/vnd.databricks.v1+cell": {
     "cellMetadata": {
      "byteLimit": 2048000,
      "rowLimit": 10000
     },
     "inputWidgets": {},
     "nuid": "692b6abe-b582-466d-bfd2-c23ead5d2255",
     "showTitle": false,
     "tableResultSettingsMap": {},
     "title": ""
    }
   },
   "outputs": [
    {
     "name": "stdout",
     "output_type": "stream",
     "text": [
      "+----+----------+-------------+--------+--------------------+------------------+---------------+--------------------+----------+-------------------+-------------+--------------------+--------------------+------------------------+-------------------+--------------------+----------+------------+----------+------------+------------------+-----------------+-----------------+----------------+---------+\n",
      "|year| Loss Date|Reported Date|Lag Time|         Client Name|      Claim Number|       Adjuster|       Loss Location|State Code|        Claims Line|   Loss Cause|   Loss Cause Detail|Current Claim Status|Claim Current Close Date|insured_driver_name|    Loss Description|Gross Paid|Loss Reserve|Recoveries|Net Incurred|insured_first_name|insured_last_name|driver_first_name|driver_last_name|driver_id|\n",
      "+----+----------+-------------+--------+--------------------+------------------+---------------+--------------------+----------+-------------------+-------------+--------------------+--------------------+------------------------+-------------------+--------------------+----------+------------+----------+------------+------------------+-----------------+-----------------+----------------+---------+\n",
      "|2023|2023-05-02|   2023-05-02|       0|FusionSite Holdin...|09 PC 000000280941|   Bruce Wegner|   Hendersonville Rd|        NC|    Commercial Auto|Auto Accident|Intersection-IV g...|              Closed|              2023-10-30|         Lee Jordan|An insured vehicl...|   $38,256|          $0|  -$37,894|        $716|               Lee|           Jordan|              Lee|          Jordan|  3797900|\n",
      "|2023|2023-05-08|   2023-05-08|       0|FusionSite Holdin...|09 PC 000000281989|   Sage Vincent|Piper Rd & Mt Cal...|        SC|    Commercial Auto|Auto Accident| IV failure to yield|              Closed|              2023-06-19|   Willie Burns Jr.|An insured vehicl...|   $12,140|          $0|        $0|     $13,299|            Willie|            Burns|           Willie|       Burns Jr.|  3904736|\n",
      "|2023|2023-05-08|   2023-05-09|       1|FusionSite Holdin...|09 PC 000000282198|   Sage Vincent|          3rd Ave NW|        NC|    Commercial Auto|Auto Accident|   IV changing lanes|              Closed|              2023-07-27|    Nick Lineberger|The insured vehic...|   $16,182|          $0|   -$1,267|     $15,147|              Nick|       Lineberger|             NULL|            NULL|     NULL|\n",
      "|2023|2023-05-11|   2023-05-12|       1|FusionSite Holdin...|09 PC 000000283145|  Carrie Brooks|3715 Dallas Cherr...|        NC|    Commercial Auto|Auto Accident| IV failure to yield|              Closed|              2023-11-28|   Javories Abraham|Insured driver pu...|   $48,949|          $0|   -$3,105|     $46,508|          Javories|          Abraham|            Daryl|         Abraham|  4098920|\n",
      "|2023|2023-05-13|   2023-08-02|      81|FusionSite Holdin...|09 PC 000000299521|  Carrie Brooks|              NB 240|        TN|    Commercial Auto|Auto Accident|               Other|              Closed|              2023-11-08|            Unknown|Concrete spilling...|        $0|          $0|        $0|         $23|           Unknown|             NULL|             NULL|            NULL|     NULL|\n",
      "|2023|2023-05-16|   2023-06-08|      23|FusionSite Holdin...|09 PC 000000288411|   Sage Vincent|       2790 Park Ave|        TN|    Commercial Auto|Auto Accident|   IV hit parked car|              Closed|              2024-01-08|   Jackie Valentine|An insured vehicl...|   $17,513|          $0|        $0|     $18,536|            Jackie|        Valentine|           JACKIE|       VALENTINE|  3926365|\n",
      "|2023|2023-05-24|   2023-05-24|       0|FusionSite Holdin...|09 PC 000000285451|  Leticia Munoz|SE Indian Street ...|        FL|    Commercial Auto|Auto Accident|Intersection-IV g...|                Open|                    NULL|       Travis Kelly|Employed CDL driv...|  $131,999|    $103,632|        $0|    $278,467|            Travis|            Kelly|           Travis|           Kelly|  3941935|\n",
      "|2023|2023-05-24|   2023-05-24|       0|FusionSite Holdin...|09 PC 000000285451|  Leticia Munoz|SE Indian Street ...|        FL|    Commercial Auto|Auto Accident|Intersection-IV g...|                Open|                    NULL|       Travis Kelly|Employed CDL driv...|  $131,999|    $103,632|        $0|    $278,467|            Travis|            Kelly|           Travis|           Kelly|  3941935|\n",
      "|2023|2023-06-06|   2023-08-01|      56|FusionSite Holdin...|09 PC 000000299313|Nick Terraberry|        221 Birch St|        PA|    Commercial Auto|Auto Accident|   IV hit parked car|              Closed|              2023-10-13|  Patrick Cortlessa|The claimant is a...|    $3,011|          $0|        $0|      $3,061|           Patrick|        Cortlessa|          Patrick|       Cortlessa|  3601235|\n",
      "|2023|2023-06-07|   2023-08-21|      75|FusionSite Holdin...|09 PC 000000303770|   Amanda Lopez|   Spring Heap Court|        KY|    Commercial Auto|Auto Accident|   IV hit parked car|              Closed|              2023-08-31|    William Snawder|Insured struck pa...|    $5,148|          $0|        $0|      $5,233|           William|          Snawder|            Jason|         Snawder|  3809234|\n",
      "|2023|2023-06-12|   2023-06-12|       0|FusionSite Holdin...|09 PC 000000288948|   Sage Vincent|   Vollintine Avenue|        TN|    Commercial Auto|Auto Accident|   IV hit parked car|              Closed|              2023-08-07|       Willie Nolan|An insured vehicl...|    $7,228|          $0|     -$165|      $7,211|            Willie|            Nolan|           willie|           nolen|  4134532|\n",
      "|2023|2023-06-12|   2023-06-13|       1|FusionSite Holdin...|09 PC 000000289012|Nick Terraberry|         Warren Road|        TN|    Commercial Auto|Auto Accident|IV collision with...|              Closed|              2024-12-24|      Shaun Huffman|The insured vehic...|   $50,058|          $0|        $0|     $51,742|             Shaun|          Huffman|            Shaun|         Huffman|  4041709|\n",
      "|2023|2023-06-20|   2023-07-07|      17|FusionSite Holdin...|09 PC 000000293809|   Sage Vincent|     10100 Troy Pike|        KY|    Commercial Auto|Auto Accident|IV backing or rol...|              Closed|              2024-03-13|   Curtis Mattingly|An insured vehicl...|    $8,792|          $0|        $0|      $9,221|            Curtis|        Mattingly|             NULL|            NULL|     NULL|\n",
      "|2023|2023-06-22|   2023-08-25|      64|FusionSite Holdin...|09 PC 000000305147|  Ryan Osweiler|          2200 145th|        AR|Commercial Property|         Fire|Unknown Cause or ...|                Open|                    NULL|            Unknown|We had a restroom...|   $34,712|        $288|  -$25,712|      $9,288|           Unknown|             NULL|             NULL|            NULL|     NULL|\n",
      "|2023|2023-06-28|   2023-11-09|     134|FusionSite Holdin...|09 PC 000000320967|Nick Terraberry|3680 Hickory Vall...|        TN|    Commercial Auto|Auto Accident|   IV Upset/Overturn|              Closed|              2024-09-16|       Aaron Lawson|The insured vehic...|   $78,964|          $0|        $0|     $79,036|             Aaron|           Lawson|          Antonio|          Lawson|  4239023|\n",
      "|2023|2023-07-13|   2023-08-21|      39|FusionSite Holdin...|09 PC 000000303708|   Amanda Lopez|           Bolton Rd|        GA|    Commercial Auto|Auto Accident|Intersection-IV t...|              Closed|              2023-09-19|      Charles Perry|Insured was waiti...|        $0|          $0|        $0|          $5|           Charles|            Perry|          Charles|           Perry|  4252361|\n",
      "|2023|2023-07-17|   2024-08-09|     389|FusionSite Holdin...|09 PC 000000376349|   Amanda Lopez|10th St. exit ram...|        GA|    Commercial Auto|Auto Accident|    CV rear-ended IV|              Closed|              2024-08-29|     Aaron Buttrill|Claimant rear end...|        $0|          $0|        $0|          $3|             Aaron|         Buttrill|            Aaron|        Buttrill|  4252399|\n",
      "|2023|2023-07-29|   2023-08-08|      10|FusionSite Holdin...|09 PC 000000300677|    Cindy Lopez|              I 65 S|        KY|    Commercial Auto|Auto Accident|IV struck by othe...|              Closed|              2023-09-28|         Kent Lucas|Claimant vehicle ...|        $0|          $0|        $0|          $5|              Kent|            Lucas|             Kent|           Lucas|    67876|\n",
      "|2023|2023-08-09|   2023-08-09|       0|FusionSite Holdin...|09 PC 000000301196|Kellie Coughlin|       SW Martin Hwy|        FL|    Commercial Auto|Auto Accident|    IV rear-ended CV|                Open|                    NULL|       Travis Kelly|IV rearended the ...|  $119,481|     $25,000|        $0|    $149,585|            Travis|            Kelly|           Travis|           Kelly|  3941935|\n",
      "|2023|2023-08-09|   2023-08-09|       0|FusionSite Holdin...|09 PC 000000301196|Kellie Coughlin|       SW Martin Hwy|        FL|    Commercial Auto|Auto Accident|    IV rear-ended CV|                Open|                    NULL|       Travis Kelly|IV rearended the ...|  $119,481|     $25,000|        $0|    $149,585|            Travis|            Kelly|           Travis|           Kelly|  3941935|\n",
      "+----+----------+-------------+--------+--------------------+------------------+---------------+--------------------+----------+-------------------+-------------+--------------------+--------------------+------------------------+-------------------+--------------------+----------+------------+----------+------------+------------------+-----------------+-----------------+----------------+---------+\n",
      "only showing top 20 rows\n",
      "\n"
     ]
    }
   ],
   "source": [
    "# load the data \n",
    "monthly_claim_ins_data = spark.read.csv('dbfs:/FileStore/tables/monthly_claims_insurance_driverid.tsv', inferSchema=True, header=True, sep=\"\\t\")\n",
    "monthly_claim_ins_data.show()"
   ]
  },
  {
   "cell_type": "code",
   "execution_count": 0,
   "metadata": {
    "application/vnd.databricks.v1+cell": {
     "cellMetadata": {
      "byteLimit": 2048000,
      "rowLimit": 10000
     },
     "inputWidgets": {},
     "nuid": "188c37cd-8f5c-45ab-8db0-0a9e8bb6df4c",
     "showTitle": false,
     "tableResultSettingsMap": {},
     "title": ""
    }
   },
   "outputs": [
    {
     "name": "stdout",
     "output_type": "stream",
     "text": [
      "Schema:\n",
      "root\n",
      " |-- year: string (nullable = true)\n",
      " |-- Loss Date: string (nullable = true)\n",
      " |-- Reported Date: string (nullable = true)\n",
      " |-- Lag Time: string (nullable = true)\n",
      " |-- Client Name: string (nullable = true)\n",
      " |-- Claim Number: string (nullable = true)\n",
      " |-- Adjuster: string (nullable = true)\n",
      " |-- Loss Location: string (nullable = true)\n",
      " |-- State Code: string (nullable = true)\n",
      " |-- Claims Line: string (nullable = true)\n",
      " |-- Loss Cause: string (nullable = true)\n",
      " |-- Loss Cause Detail: string (nullable = true)\n",
      " |-- Current Claim Status: string (nullable = true)\n",
      " |-- Claim Current Close Date: date (nullable = true)\n",
      " |-- insured_driver_name: string (nullable = true)\n",
      " |-- Loss Description: string (nullable = true)\n",
      " |-- Gross Paid: string (nullable = true)\n",
      " |-- Loss Reserve: string (nullable = true)\n",
      " |-- Recoveries: string (nullable = true)\n",
      " |-- Net Incurred: string (nullable = true)\n",
      " |-- insured_first_name: string (nullable = true)\n",
      " |-- insured_last_name: string (nullable = true)\n",
      " |-- driver_first_name: string (nullable = true)\n",
      " |-- driver_last_name: string (nullable = true)\n",
      " |-- driver_id: integer (nullable = true)\n",
      "\n",
      "Missing Values:\n",
      "year: 0\n",
      "Loss Date: 1\n",
      "Reported Date: 0\n",
      "Lag Time: 0\n",
      "Client Name: 0\n",
      "Claim Number: 0\n",
      "Adjuster: 0\n",
      "Loss Location: 1\n",
      "State Code: 0\n",
      "Claims Line: 0\n",
      "Loss Cause: 1\n",
      "Loss Cause Detail: 1\n",
      "Current Claim Status: 1\n",
      "Claim Current Close Date: 40\n",
      "insured_driver_name: 2\n",
      "Loss Description: 1\n",
      "Gross Paid: 6\n",
      "Loss Reserve: 6\n",
      "Recoveries: 6\n",
      "Net Incurred: 6\n",
      "insured_first_name: 3\n",
      "insured_last_name: 9\n",
      "driver_first_name: 22\n",
      "driver_last_name: 22\n",
      "driver_id: 22\n"
     ]
    }
   ],
   "source": [
    "from pyspark.sql.functions import col, count, when\n",
    "# Show schema\n",
    "print(\"Schema:\")\n",
    "monthly_claim_ins_data.printSchema()\n",
    "# Count missing values in each column\n",
    "print(\"Missing Values:\")\n",
    "missing_values = monthly_claim_ins_data.select([\n",
    "    count(when(col(c).isNull(), c)).alias(c) for c in monthly_claim_ins_data.columns\n",
    "]).collect()[0]\n",
    "for col_name, missing_count in zip(monthly_claim_ins_data.columns, missing_values):\n",
    "    print(f\"{col_name}: {missing_count}\")"
   ]
  },
  {
   "cell_type": "code",
   "execution_count": 0,
   "metadata": {
    "application/vnd.databricks.v1+cell": {
     "cellMetadata": {
      "byteLimit": 2048000,
      "rowLimit": 10000
     },
     "inputWidgets": {},
     "nuid": "37065a75-12a4-49cc-87e7-c1f0ca6e1e58",
     "showTitle": false,
     "tableResultSettingsMap": {},
     "title": ""
    }
   },
   "outputs": [
    {
     "name": "stdout",
     "output_type": "stream",
     "text": [
      "Numerical columns: ['driver_id']\n",
      "Categorical columns: ['year', 'Loss Date', 'Reported Date', 'Lag Time', 'Client Name', 'Claim Number', 'Adjuster', 'Loss Location', 'State Code', 'Claims Line', 'Loss Cause', 'Loss Cause Detail', 'Current Claim Status', 'insured_driver_name', 'Loss Description', 'Gross Paid', 'Loss Reserve', 'Recoveries', 'Net Incurred', 'insured_first_name', 'insured_last_name', 'driver_first_name', 'driver_last_name']\n"
     ]
    }
   ],
   "source": [
    "# identify numerical and categorical columns\n",
    "numerical_cols = [f.name for f in monthly_claim_ins_data.schema.fields if f.dataType.simpleString() in ['int', 'double', 'float']]\n",
    "categorical_cols = [f.name for f in monthly_claim_ins_data.schema.fields if f.dataType.simpleString() in ['string', 'boolean', 'timestamp']]\n",
    "\n",
    "print(\"Numerical columns:\", numerical_cols)\n",
    "print(\"Categorical columns:\", categorical_cols)"
   ]
  },
  {
   "cell_type": "markdown",
   "metadata": {
    "application/vnd.databricks.v1+cell": {
     "cellMetadata": {},
     "inputWidgets": {},
     "nuid": "586df0cf-e0e6-49dd-98d4-84a026bf6db9",
     "showTitle": false,
     "tableResultSettingsMap": {},
     "title": ""
    }
   },
   "source": [
    "## Understanding the categorical and numerical values \n"
   ]
  },
  {
   "cell_type": "code",
   "execution_count": 0,
   "metadata": {
    "application/vnd.databricks.v1+cell": {
     "cellMetadata": {
      "byteLimit": 2048000,
      "rowLimit": 10000
     },
     "inputWidgets": {},
     "nuid": "f5549901-383c-4a99-a555-b8a72512fb95",
     "showTitle": false,
     "tableResultSettingsMap": {},
     "title": ""
    }
   },
   "outputs": [
    {
     "name": "stdout",
     "output_type": "stream",
     "text": [
      "Summary Statistics for Numerical Columns:\n",
      "+------------------+-----------------+------------------+------------------+-----------------+-------------------+-----------------+-------------------+--------------+----------------+--------------+----------------+--------------+----------------+--------------+----------------+\n",
      "|   Gross Paid_mean|Loss Reserve_mean|   Recoveries_mean| Net Incurred_mean|Gross Paid_stddev|Loss Reserve_stddev|Recoveries_stddev|Net Incurred_stddev|Gross Paid_min|Loss Reserve_min|Recoveries_min|Net Incurred_min|Gross Paid_max|Loss Reserve_max|Recoveries_max|Net Incurred_max|\n",
      "+------------------+-----------------+------------------+------------------+-----------------+-------------------+-----------------+-------------------+--------------+----------------+--------------+----------------+--------------+----------------+--------------+----------------+\n",
      "|22661.709401709402|21531.97435897436|-1171.982905982906|45189.094017094016|37568.40797547026|  82193.96790450785|4761.280559751848|  95056.16755833899|           0.0|        -95399.0|      -37894.0|             0.0|      166433.0|        533466.0|           0.0|        590796.0|\n",
      "+------------------+-----------------+------------------+------------------+-----------------+-------------------+-----------------+-------------------+--------------+----------------+--------------+----------------+--------------+----------------+--------------+----------------+\n",
      "\n"
     ]
    }
   ],
   "source": [
    "from pyspark.sql.functions import col, regexp_replace\n",
    "\n",
    "# List of columns to clean\n",
    "columns_to_clean = [\"Gross Paid\", \"Loss Reserve\", \"Recoveries\", \"Net Incurred\"]\n",
    "\n",
    "# Remove \"$\" and cast to float\n",
    "for col_name in columns_to_clean:\n",
    "    monthly_claim_ins_data = monthly_claim_ins_data.withColumn(\n",
    "        col_name, regexp_replace(col(col_name), r\"[\\$,]\", \"\").cast(\"double\")\n",
    "    )\n",
    "\n",
    "if columns_to_clean:\n",
    "    print(\"Summary Statistics for Numerical Columns:\")\n",
    "    summary_stats = monthly_claim_ins_data.select(\n",
    "        [mean(col(c)).alias(f\"{c}_mean\") for c in columns_to_clean] +\n",
    "        [stddev(col(c)).alias(f\"{c}_stddev\") for c in columns_to_clean] +\n",
    "        [min(col(c)).alias(f\"{c}_min\") for c in columns_to_clean] +\n",
    "        [max(col(c)).alias(f\"{c}_max\") for c in columns_to_clean]\n",
    "    )\n",
    "    summary_stats.show()\n"
   ]
  },
  {
   "cell_type": "code",
   "execution_count": 0,
   "metadata": {
    "application/vnd.databricks.v1+cell": {
     "cellMetadata": {
      "byteLimit": 2048000,
      "rowLimit": 10000
     },
     "inputWidgets": {},
     "nuid": "9520d682-d050-44aa-89ef-601350139689",
     "showTitle": false,
     "tableResultSettingsMap": {},
     "title": ""
    }
   },
   "outputs": [
    {
     "data": {
      "image/png": "[encoded data removed]",
      "text/plain": [
       "<Figure size 1200x600 with 1 Axes>"
      ]
     },
     "metadata": {},
     "output_type": "display_data"
    }
   ],
   "source": [
    "df_pandas = monthly_claim_ins_data.select(columns_to_clean).toPandas()\n",
    "\n",
    "# Create Boxplots with IQR\n",
    "plt.figure(figsize=(12, 6))\n",
    "sns.boxplot(data=df_pandas)\n",
    "\n",
    "# Add labels and title\n",
    "plt.title(\"Boxplot with IQR for Financial Columns\")\n",
    "plt.ylabel(\"Value ($)\")\n",
    "plt.xticks(rotation=45)\n",
    "\n",
    "# Show the plot\n",
    "plt.show()"
   ]
  },
  {
   "cell_type": "code",
   "execution_count": 0,
   "metadata": {
    "application/vnd.databricks.v1+cell": {
     "cellMetadata": {
      "byteLimit": 2048000,
      "rowLimit": 10000
     },
     "inputWidgets": {},
     "nuid": "2921d76a-c707-45b9-8e68-6d2282214f12",
     "showTitle": false,
     "tableResultSettingsMap": {},
     "title": ""
    }
   },
   "outputs": [
    {
     "name": "stdout",
     "output_type": "stream",
     "text": [
      "Unique Value Counts for Categorical Columns:\n",
      "year: 4 unique values\n",
      "Loss Date: 99 unique values\n",
      "Reported Date: 102 unique values\n",
      "Lag Time: 46 unique values\n",
      "Client Name: 2 unique values\n",
      "Claim Number: 117 unique values\n",
      "Adjuster: 17 unique values\n",
      "Loss Location: 112 unique values\n",
      "State Code: 14 unique values\n",
      "Claims Line: 5 unique values\n",
      "Loss Cause: 7 unique values\n",
      "Loss Cause Detail: 28 unique values\n",
      "Current Claim Status: 2 unique values\n",
      "insured_driver_name: 106 unique values\n",
      "Loss Description: 112 unique values\n",
      "Gross Paid: 82 unique values\n",
      "Loss Reserve: 30 unique values\n",
      "Recoveries: 21 unique values\n",
      "Net Incurred: 105 unique values\n",
      "insured_first_name: 87 unique values\n",
      "insured_last_name: 100 unique values\n",
      "driver_first_name: 77 unique values\n",
      "driver_last_name: 87 unique values\n"
     ]
    }
   ],
   "source": [
    "# Display unique value counts for categorical columns\n",
    "print(\"Unique Value Counts for Categorical Columns:\")\n",
    "for c in categorical_cols:\n",
    "    unique_count = monthly_claim_ins_data.select(countDistinct(col(c))).collect()[0][0]\n",
    "    print(f\"{c}: {unique_count} unique values\")"
   ]
  },
  {
   "cell_type": "code",
   "execution_count": 0,
   "metadata": {
    "application/vnd.databricks.v1+cell": {
     "cellMetadata": {
      "byteLimit": 2048000,
      "rowLimit": 10000
     },
     "inputWidgets": {},
     "nuid": "ec0b669e-c2a6-4d65-a40c-9907d6486a32",
     "showTitle": false,
     "tableResultSettingsMap": {},
     "title": ""
    }
   },
   "outputs": [
    {
     "name": "stdout",
     "output_type": "stream",
     "text": [
      "Claims Line: ['Umbrella', 'Commercial Property', 'General Liability', 'Commercial Auto']\n",
      "Loss Cause: ['Wind', 'Accident on premises-outside', 'Auto Accident', 'Theft', 'Falling or Flying Object', 'Fire', 'Delivery/Moving/Loading/Unloading']\n",
      "Current Claim Status: ['Open', 'Closed']\n"
     ]
    }
   ],
   "source": [
    "# categorical columns of interest\n",
    "categorical_columns = [\"Claims Line\",\"Loss Cause\", \"Current Claim Status\"]\n",
    "\n",
    "#  unique values for each specified categorical column\n",
    "unique_values_dict = {}\n",
    "\n",
    "for c in categorical_columns:\n",
    "    unique_values = monthly_claim_ins_data.select(col(c)).distinct().rdd.flatMap(lambda x: x).collect()\n",
    "    unique_values_dict[c] = unique_values\n",
    "\n",
    "for col_name, values in unique_values_dict.items():\n",
    "    print(f\"{col_name}: {values}\")\n"
   ]
  },
  {
   "cell_type": "markdown",
   "metadata": {
    "application/vnd.databricks.v1+cell": {
     "cellMetadata": {},
     "inputWidgets": {},
     "nuid": "a05f0a75-14c4-4d0a-8d85-e2d157ed99d8",
     "showTitle": false,
     "tableResultSettingsMap": {},
     "title": ""
    }
   },
   "source": [
    "**Observation**\n",
    "- All the records range from 2023-2025\n",
    "- Some driver_id is missing due to not being to detect/find driver id from the driver database\n",
    "- `Gross Paid` has a relatively narrow IQR, meaning most claims have similar payout amounts.\n",
    "- `Loss Reserve` typically is positive,the negative values indicate adjustments where insurers previously overestimated reserves and later released funds.\n",
    "- `Loss Reserve` and `Net Incurred` seem to have extremely high values, suggesting that some claims are significantly larger than the majority; or there are some really severed incidents happened\n"
   ]
  },
  {
   "cell_type": "code",
   "execution_count": 0,
   "metadata": {
    "application/vnd.databricks.v1+cell": {
     "cellMetadata": {
      "byteLimit": 2048000,
      "rowLimit": 10000
     },
     "inputWidgets": {},
     "nuid": "325c5126-b8e0-44b1-9271-b1cf93818ed2",
     "showTitle": false,
     "tableResultSettingsMap": {},
     "title": ""
    }
   },
   "outputs": [
    {
     "data": {
      "text/plain": []
     },
     "metadata": {
      "application/vnd.databricks.v1+output": {
       "arguments": {},
       "data": "",
       "errorSummary": "Command skipped",
       "errorTraceType": "ansi",
       "metadata": {},
       "type": "ipynbError"
      }
     },
     "output_type": "display_data"
    }
   ],
   "source": [
    "# sc.stop()\n",
    "# convert to html \n",
    "!jupyter nbconvert --to html motive_basic_data.ipynb"
   ]
  },
  {
   "cell_type": "code",
   "execution_count": 0,
   "metadata": {
    "application/vnd.databricks.v1+cell": {
     "cellMetadata": {
      "byteLimit": 2048000,
      "rowLimit": 10000
     },
     "inputWidgets": {},
     "nuid": "f85fc76c-2b06-4e2e-9325-54cdcd31b431",
     "showTitle": false,
     "tableResultSettingsMap": {},
     "title": ""
    }
   },
   "outputs": [],
   "source": []
  },
  {
   "cell_type": "code",
   "execution_count": 0,
   "metadata": {
    "application/vnd.databricks.v1+cell": {
     "cellMetadata": {
      "byteLimit": 2048000,
      "rowLimit": 10000
     },
     "inputWidgets": {},
     "nuid": "20e96583-0af8-4061-bc5d-0c650d256c76",
     "showTitle": false,
     "tableResultSettingsMap": {},
     "title": ""
    }
   },
   "outputs": [],
   "source": []
  }
 ],
 "metadata": {
  "application/vnd.databricks.v1+notebook": {
   "computePreferences": null,
   "dashboards": [],
   "environmentMetadata": null,
   "language": "python",
   "notebookMetadata": {
    "pythonIndentUnit": 4
   },
   "notebookName": "motive_basic_data",
   "widgets": {}
  },
  "kernelspec": {
   "display_name": "blurry_clear_imagedetection",
   "language": "python",
   "name": "python3"
  },
  "language_info": {
   "name": "python"
  }
 },
 "nbformat": 4,
 "nbformat_minor": 0
}
