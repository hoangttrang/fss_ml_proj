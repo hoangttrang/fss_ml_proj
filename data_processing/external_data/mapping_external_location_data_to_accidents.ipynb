{
 "cells": [
  {
   "cell_type": "markdown",
   "metadata": {
    "application/vnd.databricks.v1+cell": {
     "cellMetadata": {},
     "inputWidgets": {},
     "nuid": "15996551-2fb7-4f6a-8318-af391961785c",
     "showTitle": false,
     "tableResultSettingsMap": {},
     "title": ""
    }
   },
   "source": [
    "# Mapping Location to Accident "
   ]
  },
  {
   "cell_type": "code",
   "execution_count": 0,
   "metadata": {
    "application/vnd.databricks.v1+cell": {
     "cellMetadata": {
      "byteLimit": 2048000,
      "rowLimit": 10000
     },
     "inputWidgets": {},
     "nuid": "75e32f7c-0f29-433b-b35c-2838feb88ebd",
     "showTitle": false,
     "tableResultSettingsMap": {},
     "title": ""
    }
   },
   "outputs": [
    {
     "output_type": "display_data",
     "data": {
      "application/vnd.databricks.v1+h3_hint": "",
      "text/plain": []
     },
     "metadata": {},
     "output_type": "display_data"
    }
   ],
   "source": [
    "from pyspark.sql import SparkSession\n",
    "from pyspark.sql import functions as F\n",
    "from pyspark.sql.types import *\n",
    "from pyspark.pandas import read_excel\n",
    "import geopandas as gpd\n",
    "import numpy as np\n",
    "import gc\n",
    "import os \n",
    "import re\n",
    "import datetime\n",
    "from fuzzywuzzy import process\n",
    "import pandas as pd\n",
    "import rasterio\n",
    "from rasterio.transform import rowcol\n",
    "from functools import reduce\n",
    "from pyspark.sql import DataFrame"
   ]
  },
  {
   "cell_type": "code",
   "execution_count": 0,
   "metadata": {
    "application/vnd.databricks.v1+cell": {
     "cellMetadata": {
      "byteLimit": 2048000,
      "rowLimit": 10000
     },
     "inputWidgets": {},
     "nuid": "2af4fe0f-4b98-4ea9-b7cd-58632c6294ef",
     "showTitle": false,
     "tableResultSettingsMap": {},
     "title": ""
    }
   },
   "outputs": [],
   "source": [
    "# Initialize Spark Session\n",
    "spark = SparkSession.builder.appName(\"Accident Data Location Mapping\").getOrCreate()"
   ]
  },
  {
   "cell_type": "code",
   "execution_count": 0,
   "metadata": {
    "application/vnd.databricks.v1+cell": {
     "cellMetadata": {
      "byteLimit": 2048000,
      "rowLimit": 10000
     },
     "inputWidgets": {},
     "nuid": "ecb417d4-f45f-4f46-ac75-95f9f945f3cf",
     "showTitle": false,
     "tableResultSettingsMap": {},
     "title": ""
    }
   },
   "outputs": [],
   "source": [
    "# Read in Accident Data \"/FileStore/intermediate_output/accidents_wth_location\")\n",
    "accidents = spark.read.parquet(\"/FileStore/intermediate_output/accidents_wth_location\")"
   ]
  },
  {
   "cell_type": "code",
   "execution_count": 0,
   "metadata": {
    "application/vnd.databricks.v1+cell": {
     "cellMetadata": {
      "byteLimit": 2048000,
      "rowLimit": 10000
     },
     "inputWidgets": {},
     "nuid": "a89eb495-c09d-4f2c-b284-3042821e13b7",
     "showTitle": false,
     "tableResultSettingsMap": {},
     "title": ""
    }
   },
   "outputs": [],
   "source": [
    "monthly_claims_insurance_pandas = pd.read_csv(\"/dbfs/FileStore/tables/monthly_claims_insurance_driverid.csv\")\n",
    "# make lowercase \n",
    "monthly_claims_insurance_pandas[\"Claim Number\"] = monthly_claims_insurance_pandas[\"Claim Number\"].str.lower()"
   ]
  },
  {
   "cell_type": "code",
   "execution_count": 0,
   "metadata": {
    "application/vnd.databricks.v1+cell": {
     "cellMetadata": {
      "byteLimit": 2048000,
      "rowLimit": 10000
     },
     "inputWidgets": {},
     "nuid": "7618ae98-1dd5-4551-b63a-07e27db5cd06",
     "showTitle": false,
     "tableResultSettingsMap": {},
     "title": ""
    }
   },
   "outputs": [],
   "source": [
    "state_crash_monthly_county_counts = pd.read_csv(\"/dbfs/FileStore/tables/state_crash_monthly_county_counts.csv\")"
   ]
  },
  {
   "cell_type": "code",
   "execution_count": 0,
   "metadata": {
    "application/vnd.databricks.v1+cell": {
     "cellMetadata": {
      "byteLimit": 2048000,
      "rowLimit": 10000
     },
     "inputWidgets": {},
     "nuid": "f1f98ac4-dddd-4afc-925d-ad65eecea88c",
     "showTitle": false,
     "tableResultSettingsMap": {},
     "title": ""
    }
   },
   "outputs": [],
   "source": [
    "us_city_states_pandas = pd.read_csv(\"/dbfs/FileStore/tables/uscities.csv\")\n",
    "# Extract first two digits of county fips for state fips \n",
    "us_city_states_pandas[\"state_fips\"] = us_city_states_pandas[\"county_fips\"].apply(lambda x: str(x)[:2])\n",
    "us_city_states_pandas[\"county_code\"] = us_city_states_pandas[\"county_fips\"].apply(lambda x: str(x)[-3:])"
   ]
  },
  {
   "cell_type": "code",
   "execution_count": 0,
   "metadata": {
    "application/vnd.databricks.v1+cell": {
     "cellMetadata": {
      "byteLimit": 2048000,
      "rowLimit": 10000
     },
     "inputWidgets": {},
     "nuid": "89d359cb-da2a-40f1-905a-85dde98d847e",
     "showTitle": false,
     "tableResultSettingsMap": {},
     "title": ""
    }
   },
   "outputs": [
    {
     "output_type": "execute_result",
     "data": {
      "text/plain": [
       "Index(['city', 'city_ascii', 'state_id', 'state_name', 'county_fips',\n",
       "       'county_name', 'lat', 'lng', 'population', 'density', 'source',\n",
       "       'military', 'incorporated', 'timezone', 'ranking', 'zips', 'id',\n",
       "       'state_fips', 'county_code'],\n",
       "      dtype='object')"
      ]
     },
     "execution_count": 7,
     "metadata": {},
     "output_type": "execute_result"
    }
   ],
   "source": [
    "us_city_states_pandas.columns"
   ]
  },
  {
   "cell_type": "code",
   "execution_count": 0,
   "metadata": {
    "application/vnd.databricks.v1+cell": {
     "cellMetadata": {
      "byteLimit": 2048000,
      "rowLimit": 10000
     },
     "inputWidgets": {},
     "nuid": "c00b76ea-18fd-4f82-995d-2039e2d6bfce",
     "showTitle": false,
     "tableResultSettingsMap": {},
     "title": ""
    }
   },
   "outputs": [
    {
     "output_type": "execute_result",
     "data": {
      "text/plain": [
       "Index(['Crash Year', 'Crash Month', 'State', 'County Code', 'crash_count',\n",
       "       'total_fatalities', 'total_injuries', 'total_vehicles'],\n",
       "      dtype='object')"
      ]
     },
     "execution_count": 8,
     "metadata": {},
     "output_type": "execute_result"
    }
   ],
   "source": [
    "state_crash_monthly_county_counts.columns"
   ]
  },
  {
   "cell_type": "code",
   "execution_count": 0,
   "metadata": {
    "application/vnd.databricks.v1+cell": {
     "cellMetadata": {
      "byteLimit": 2048000,
      "rowLimit": 10000
     },
     "inputWidgets": {},
     "nuid": "439f0387-5de8-463d-aeb0-987f935b2eeb",
     "showTitle": false,
     "tableResultSettingsMap": {},
     "title": ""
    }
   },
   "outputs": [],
   "source": [
    "# For us_city_states_pandas:\n",
    "# First, make sure county_code can be converted to numeric, replacing errors with NaN\n",
    "us_city_states_pandas[\"county_code\"] = pd.to_numeric(us_city_states_pandas[\"county_code\"], errors='coerce')\n",
    "# Fill NaN values (if any) with a default like 0 or handle as needed\n",
    "us_city_states_pandas[\"county_code\"] = us_city_states_pandas[\"county_code\"].fillna(0)\n",
    "# Convert to integer then string with zero-padding to ensure 3 characters\n",
    "us_city_states_pandas[\"county_code\"] = us_city_states_pandas[\"county_code\"].astype(int).astype(str).str.zfill(3)\n",
    "\n",
    "# For state_crash_monthly_county_counts:\n",
    "# Same approach for consistency\n",
    "state_crash_monthly_county_counts[\"County Code\"] = pd.to_numeric(state_crash_monthly_county_counts[\"County Code\"], errors='coerce')\n",
    "state_crash_monthly_county_counts[\"County Code\"] = state_crash_monthly_county_counts[\"County Code\"].fillna(0)\n",
    "# Convert to integer then string with zero-padding to ensure 3 characters\n",
    "state_crash_monthly_county_counts[\"County Code\"] = state_crash_monthly_county_counts[\"County Code\"].astype(int).astype(str).str.zfill(3)\n",
    "\n",
    "# Convert state IDs to lowercase\n",
    "us_city_states_pandas[\"state_id\"] = us_city_states_pandas[\"state_id\"].str.lower()\n",
    "state_crash_monthly_county_counts[\"State\"] = state_crash_monthly_county_counts[\"State\"].str.lower()"
   ]
  },
  {
   "cell_type": "code",
   "execution_count": 0,
   "metadata": {
    "application/vnd.databricks.v1+cell": {
     "cellMetadata": {
      "byteLimit": 2048000,
      "rowLimit": 10000
     },
     "inputWidgets": {},
     "nuid": "9b806619-052c-41a5-b31d-39824eca24bd",
     "showTitle": false,
     "tableResultSettingsMap": {},
     "title": ""
    }
   },
   "outputs": [],
   "source": [
    "state_crash_monthly_county_counts = state_crash_monthly_county_counts.merge(\n",
    "    us_city_states_pandas[[\"state_id\", \"state_fips\", \"county_code\", \"county_name\", \"zips\"]],\n",
    "    how=\"left\",\n",
    "    left_on=[\"State\", \"County Code\"],\n",
    "    right_on=[\"state_id\", \"county_code\"]\n",
    ")"
   ]
  },
  {
   "cell_type": "code",
   "execution_count": 0,
   "metadata": {
    "application/vnd.databricks.v1+cell": {
     "cellMetadata": {
      "byteLimit": 2048000,
      "rowLimit": 10000
     },
     "inputWidgets": {},
     "nuid": "3849064b-e24c-4746-9a45-b7c73e40cda6",
     "showTitle": false,
     "tableResultSettingsMap": {},
     "title": ""
    }
   },
   "outputs": [],
   "source": [
    "# First, create a grouping key from state_fips and county_code\n",
    "grouped = state_crash_monthly_county_counts.groupby(['State', 'County Code'])\n",
    "\n",
    "# Initialize list to hold our combined data\n",
    "combined_data = []\n",
    "\n",
    "# Process each group\n",
    "for (state_fips, county_code), group in grouped:\n",
    "    # Get the first row for all columns except zips\n",
    "    # (assuming all other values should be identical)\n",
    "    first_row = group.iloc[0].to_dict()\n",
    "    \n",
    "    # Combine all zip codes into a single list, removing duplicates\n",
    "    all_zips = []\n",
    "    for zips_val in group['zips']:\n",
    "        if isinstance(zips_val, str):\n",
    "            if ' ' in zips_val.strip():\n",
    "                zips_list = zips_val.strip().split()\n",
    "            else:\n",
    "                zips_list = [zips_val.strip()]\n",
    "            all_zips.extend(zips_list)\n",
    "        elif isinstance(zips_val, list):\n",
    "            # If zips are already stored as lists\n",
    "            all_zips.extend(zips_val)\n",
    "        elif pd.notna(zips_val):\n",
    "            # Handle single values\n",
    "            all_zips.append(str(zips_val))\n",
    "    \n",
    "    # Remove duplicates and join with commas\n",
    "    unique_zips = sorted(set(z for z in all_zips if z))\n",
    "    first_row['zips'] = ','.join(unique_zips) if unique_zips else \"\"\n",
    "    \n",
    "    # Add to our results\n",
    "    combined_data.append(first_row)"
   ]
  },
  {
   "cell_type": "code",
   "execution_count": 0,
   "metadata": {
    "application/vnd.databricks.v1+cell": {
     "cellMetadata": {
      "byteLimit": 2048000,
      "rowLimit": 10000
     },
     "inputWidgets": {},
     "nuid": "7531cc2f-e941-41c6-8e94-8ca62ba4fc72",
     "showTitle": false,
     "tableResultSettingsMap": {},
     "title": ""
    }
   },
   "outputs": [],
   "source": [
    "state_crash_full = pd.DataFrame(combined_data)"
   ]
  },
  {
   "cell_type": "code",
   "execution_count": 0,
   "metadata": {
    "application/vnd.databricks.v1+cell": {
     "cellMetadata": {
      "byteLimit": 2048000,
      "rowLimit": 10000
     },
     "inputWidgets": {},
     "nuid": "e5a4a41b-0411-43e0-a4ea-866b3e6d1bf5",
     "showTitle": false,
     "tableResultSettingsMap": {},
     "title": ""
    }
   },
   "outputs": [],
   "source": [
    "accidents = accidents.filter(\n",
    "    (F.col(\"Date of Accident\").isNotNull() | F.col(\"Date Reported\").isNotNull())\n",
    ")"
   ]
  },
  {
   "cell_type": "code",
   "execution_count": 0,
   "metadata": {
    "application/vnd.databricks.v1+cell": {
     "cellMetadata": {
      "byteLimit": 2048000,
      "rowLimit": 10000
     },
     "inputWidgets": {},
     "nuid": "3dcc18e8-1cc1-422c-9e1a-26837488a19a",
     "showTitle": false,
     "tableResultSettingsMap": {},
     "title": ""
    }
   },
   "outputs": [],
   "source": [
    "# Convert Date of Accident to DateTime with the correct format\n",
    "accidents = accidents.withColumn(\n",
    "    \"Date of Accident\", \n",
    "    F.to_timestamp(\"Date of Accident\", \"yyyy-MM-dd HH:mm:ss\")\n",
    ")\n",
    "\n",
    "# Convert Date Reported to DateTime with the correct format\n",
    "accidents = accidents.withColumn(\n",
    "    \"Date Reported\", \n",
    "    F.to_timestamp(\"Date Reported\", \"yyyy-MM-dd HH:mm:ss\")\n",
    ")\n",
    "\n",
    "# Create a Reference_Date column that uses Date of Accident if available, otherwise Date Reported\n",
    "accidents = accidents.withColumn(\n",
    "    \"Reference_Date\", \n",
    "    F.when(F.col(\"Date of Accident\").isNotNull(), F.col(\"Date of Accident\"))\n",
    "    .otherwise(F.col(\"Date Reported\"))\n",
    ")\n",
    "\n",
    "# Extract Year, Month, and Day from Reference_Date\n",
    "accidents = accidents.withColumn(\"Year\", F.year(\"Reference_Date\"))\n",
    "accidents = accidents.withColumn(\"Month\", F.month(\"Reference_Date\"))\n",
    "accidents = accidents.withColumn(\"Day\", F.dayofmonth(\"Reference_Date\"))"
   ]
  },
  {
   "cell_type": "code",
   "execution_count": 0,
   "metadata": {
    "application/vnd.databricks.v1+cell": {
     "cellMetadata": {
      "byteLimit": 2048000,
      "rowLimit": 10000
     },
     "inputWidgets": {},
     "nuid": "e6d353cf-95b1-441c-889d-ebfa46083857",
     "showTitle": false,
     "tableResultSettingsMap": {},
     "title": ""
    }
   },
   "outputs": [],
   "source": [
    "accidents_pd = accidents.toPandas()"
   ]
  },
  {
   "cell_type": "code",
   "execution_count": 0,
   "metadata": {
    "application/vnd.databricks.v1+cell": {
     "cellMetadata": {
      "byteLimit": 2048000,
      "rowLimit": 10000
     },
     "inputWidgets": {},
     "nuid": "c7be9a75-b7cc-4844-a738-10de16cc9d32",
     "showTitle": false,
     "tableResultSettingsMap": {},
     "title": ""
    }
   },
   "outputs": [],
   "source": [
    "accidents = accidents_pd\n",
    "state_crash = state_crash_full"
   ]
  },
  {
   "cell_type": "code",
   "execution_count": 0,
   "metadata": {
    "application/vnd.databricks.v1+cell": {
     "cellMetadata": {
      "byteLimit": 2048000,
      "rowLimit": 10000
     },
     "inputWidgets": {},
     "nuid": "c5074fab-88e4-4b3d-a327-61f2a1c584ef",
     "showTitle": false,
     "tableResultSettingsMap": {},
     "title": ""
    }
   },
   "outputs": [],
   "source": [
    "# Ensure columns are of the right type for joining\n",
    "accidents_pd['Year'] = accidents_pd['Year'].astype(int)\n",
    "accidents_pd['Month'] = accidents_pd['Month'].astype(int)\n",
    "state_crash_full['Crash Year'] = state_crash_full['Crash Year'].astype(int)\n",
    "state_crash_full['Crash Month'] = state_crash_full['Crash Month'].astype(int)"
   ]
  },
  {
   "cell_type": "code",
   "execution_count": 0,
   "metadata": {
    "application/vnd.databricks.v1+cell": {
     "cellMetadata": {
      "byteLimit": 2048000,
      "rowLimit": 10000
     },
     "inputWidgets": {},
     "nuid": "5f56fd1d-40cc-455c-ab06-8055fdb120c3",
     "showTitle": false,
     "tableResultSettingsMap": {},
     "title": ""
    }
   },
   "outputs": [],
   "source": [
    "# lower case values in state_crash df\n",
    "state_crash_full['State'] = state_crash_full['State'].str.lower()\n",
    "accidents_pd['state'] = accidents_pd['state'].str.lower()"
   ]
  },
  {
   "cell_type": "code",
   "execution_count": 0,
   "metadata": {
    "application/vnd.databricks.v1+cell": {
     "cellMetadata": {
      "byteLimit": 2048000,
      "rowLimit": 10000
     },
     "inputWidgets": {},
     "nuid": "ffa40511-3e01-46a3-ad07-d0a68a69e510",
     "showTitle": false,
     "tableResultSettingsMap": {},
     "title": ""
    }
   },
   "outputs": [],
   "source": [
    "us_city_states_pandas[\"state_id\"] = us_city_states_pandas[\"state_id\"].str.lower()\n",
    "state_crash_full['state_id'] = state_crash_full['state_id'].str.lower()"
   ]
  },
  {
   "cell_type": "code",
   "execution_count": 0,
   "metadata": {
    "application/vnd.databricks.v1+cell": {
     "cellMetadata": {
      "byteLimit": 2048000,
      "rowLimit": 10000
     },
     "inputWidgets": {},
     "nuid": "e31e389b-7c8f-4000-be9c-1a454046a3d1",
     "showTitle": false,
     "tableResultSettingsMap": {},
     "title": ""
    }
   },
   "outputs": [],
   "source": [
    "zip_to_location = {}\n",
    "\n",
    "# Process each row in state_crash\n",
    "for _, row in us_city_states_pandas.iterrows():\n",
    "    if pd.notna(row['zips']):\n",
    "        # Split comma-separated zips\n",
    "        zips = [z.strip() for z in str(row['zips']).split(' ')]\n",
    "        state, county_code = row[[\"state_id\", \"county_code\"]]\n",
    "\n",
    "\n",
    "\n",
    "        # Add each zip to the dictionary with this row's location info\n",
    "        for zip_code in zips:\n",
    "            if zip_code not in zip_to_location:\n",
    "                zip_to_location[zip_code] = ()\n",
    "            \n",
    "            # Store the row index for later retrieval\n",
    "            zip_to_location[zip_code] = (state, county_code)"
   ]
  },
  {
   "cell_type": "code",
   "execution_count": 0,
   "metadata": {
    "application/vnd.databricks.v1+cell": {
     "cellMetadata": {
      "byteLimit": 2048000,
      "rowLimit": 10000
     },
     "inputWidgets": {},
     "nuid": "2e37696a-b4b3-4dc9-b0c1-4fab5e6041e1",
     "showTitle": false,
     "tableResultSettingsMap": {},
     "title": ""
    }
   },
   "outputs": [
    {
     "output_type": "execute_result",
     "data": {
      "text/plain": [
       "('tn', '037')"
      ]
     },
     "execution_count": 21,
     "metadata": {},
     "output_type": "execute_result"
    }
   ],
   "source": [
    "zip_to_location[\"37203\"]"
   ]
  },
  {
   "cell_type": "code",
   "execution_count": 0,
   "metadata": {
    "application/vnd.databricks.v1+cell": {
     "cellMetadata": {
      "byteLimit": 2048000,
      "rowLimit": 10000
     },
     "inputWidgets": {},
     "nuid": "edbbdb61-fb5f-4dda-9b75-2f4b23c896ad",
     "showTitle": false,
     "tableResultSettingsMap": {},
     "title": ""
    }
   },
   "outputs": [],
   "source": [
    "accidents_pd.loc[accidents_pd['zip'] == '18977', 'city'] = 'Washington Crossing'\n",
    "accidents_pd.loc[accidents_pd['zip'] == '18977', 'state_id'] = 'pa'\n",
    "accidents_pd.loc[accidents_pd['zip'] == '18977', 'county_code'] = '017'\n",
    "\n",
    "# Set 11600 to null\n",
    "accidents_pd.loc[accidents_pd['zip'] == '11600', 'zip_code'] = None\n",
    "\n",
    "# Fix 32694 (city name issue)\n",
    "accidents_pd.loc[accidents_pd['city'] == '32694', 'city'] = None  # First clear incorrect city\n",
    "accidents_pd.loc[accidents_pd['zip'] == '32694', 'city'] = 'Williston'  # Set correct city\n",
    "accidents_pd.loc[accidents_pd['zip'] == '32694', 'state_id'] = 'fl'\n",
    "\n",
    "# Fix Leicester (28748)\n",
    "accidents_pd.loc[accidents_pd['zip'] == '28748', 'city'] = 'Leicester'\n",
    "accidents_pd.loc[accidents_pd['zip'] == '28748', 'state_id'] = 'nc'\n",
    "accidents_pd.loc[accidents_pd['zip'] == '28748', 'county_code'] = '021'\n",
    "\n",
    "# Fix Aiken (29805)\n",
    "accidents_pd.loc[accidents_pd['zip'] == '29805', 'city'] = 'Aiken'\n",
    "accidents_pd.loc[accidents_pd['zip'] == '29805', 'state_id'] = 'sc'\n",
    "accidents_pd.loc[accidents_pd['zip'] == '29805', 'county_code'] = '005'\n",
    "\n",
    "# Fix Naples (34112)\n",
    "accidents_pd.loc[accidents_pd['zip'] == '34112', 'city'] = 'Naples'\n",
    "accidents_pd.loc[accidents_pd['zip'] == '34112', 'state_id'] = 'fl'\n",
    "accidents_pd.loc[accidents_pd['zip'] == '34112', 'county_code'] = '625'\n",
    "\n",
    "# Fix Live Oak (32060)\n",
    "accidents_pd.loc[accidents_pd['zip'] == '32060', 'city'] = 'Live Oak'\n",
    "accidents_pd.loc[accidents_pd['zip'] == '32060', 'state_id'] = 'fl'\n",
    "accidents_pd.loc[accidents_pd['zip'] == '32060', 'county_code'] = '121'"
   ]
  },
  {
   "cell_type": "code",
   "execution_count": 0,
   "metadata": {
    "application/vnd.databricks.v1+cell": {
     "cellMetadata": {
      "byteLimit": 2048000,
      "rowLimit": 10000
     },
     "inputWidgets": {},
     "nuid": "f383e927-e540-4ec1-bb63-3a66ce61d6ba",
     "showTitle": false,
     "tableResultSettingsMap": {},
     "title": ""
    }
   },
   "outputs": [],
   "source": [
    "inexact_match_count = 0"
   ]
  },
  {
   "cell_type": "code",
   "execution_count": 0,
   "metadata": {
    "application/vnd.databricks.v1+cell": {
     "cellMetadata": {
      "byteLimit": 2048000,
      "rowLimit": 10000
     },
     "inputWidgets": {},
     "nuid": "c35f531c-3794-4e77-b151-08dda4dbc124",
     "showTitle": false,
     "tableResultSettingsMap": {},
     "title": ""
    }
   },
   "outputs": [],
   "source": [
    "# Initialize columns in accidents_pd to hold county crash statistics\n",
    "accidents_pd['county_crash_count'] = None\n",
    "accidents_pd['county_total_fatalities'] = None\n",
    "accidents_pd['county_total_injuries'] = None\n",
    "accidents_pd['county_total_vehicles'] = None\n",
    "accidents_pd['dba_location'] = 0  # Initialize the new indicator variable to 0\n",
    "\n",
    "inexact_match_count = 0\n",
    "total_processed = 0\n",
    "matches_found = 0\n",
    "\n",
    "for idx, accident in accidents_pd.iterrows():\n",
    "    total_processed += 1\n",
    "    \n",
    "    # First try the primary zip\n",
    "    accident_zip = accident.get('zip')\n",
    "    used_dba = False\n",
    "    \n",
    "    # If primary zip is missing, try dba_zip and mark the indicator\n",
    "    if accident_zip is None:\n",
    "        accident_zip = accident.get('dba_zip')\n",
    "        if accident_zip is not None:\n",
    "            used_dba = True\n",
    "    \n",
    "    # Skip if still no ZIP code\n",
    "    if accident_zip is None:\n",
    "        continue\n",
    "        \n",
    "    month = accident.get('Month') \n",
    "    date = accident.get('Day')\n",
    "    year = accident.get('Year')\n",
    "    \n",
    "    # Truncate ZIP if longer than 5 digits\n",
    "    if isinstance(accident_zip, str) and len(accident_zip) > 5:\n",
    "        accident_zip = accident_zip[:5]\n",
    "    elif isinstance(accident_zip, (int, float)):\n",
    "        accident_zip = str(int(accident_zip)).zfill(5)\n",
    "    \n",
    "    # Try to find the ZIP code, then try +1, -1, +2, -2, +3, -3\n",
    "    zip_info = None\n",
    "    found_zip = None\n",
    "    \n",
    "    # Try the original ZIP first\n",
    "    zip_info = zip_to_location.get(accident_zip)\n",
    "    if zip_info:\n",
    "        found_zip = accident_zip\n",
    "    else:\n",
    "        # Try nearby ZIPs up to 3 away\n",
    "        for offset in [1, -1, 2, -2, 3, -3]:\n",
    "            try:\n",
    "                # Convert to int, add offset, then back to string\n",
    "                nearby_zip = str(int(accident_zip) + offset).zfill(5)\n",
    "                zip_info = zip_to_location.get(nearby_zip)\n",
    "                if zip_info:\n",
    "                    found_zip = nearby_zip\n",
    "                    break\n",
    "            except (ValueError, TypeError):\n",
    "                # Handle cases where ZIP can't be converted to int\n",
    "                continue\n",
    "    \n",
    "    if zip_info:\n",
    "        state_id, county_code = zip_info\n",
    "        \n",
    "        # First try exact match for month, year, state_id, and county_code\n",
    "        row = state_crash_full[(state_crash_full[\"Crash Month\"] == month) &\n",
    "                              (state_crash_full[\"Crash Year\"] == year) &\n",
    "                              (state_crash_full[\"state_id\"] == state_id.lower()) & \n",
    "                              (state_crash_full[\"county_code\"] == county_code)]\n",
    "        \n",
    "        # If no exact match, try with just month, year, and state\n",
    "        if len(row) == 0:\n",
    "            row = state_crash_full[(state_crash_full[\"Crash Month\"] == month) &\n",
    "                                  (state_crash_full[\"Crash Year\"] == year) &\n",
    "                                  (state_crash_full[\"state_id\"] == state_id.lower())]\n",
    "            \n",
    "            # If we found rows for this state/month/year but not this county, \n",
    "            # find the closest county\n",
    "            if len(row) > 0:\n",
    "                target_county_int = None\n",
    "                try:\n",
    "                    target_county_int = int(county_code)\n",
    "                    row = row.copy()\n",
    "                    row['county_code_int'] = row['county_code'].apply(\n",
    "                        lambda x: abs(int(x) - target_county_int) if str(x).isdigit() else float('inf')\n",
    "                    )\n",
    "                    row = row.loc[row['county_code_int'].idxmin()].to_frame().T\n",
    "                    inexact_match_count += 1\n",
    "                except (ValueError, TypeError):\n",
    "                    # If county code can't be converted to int, just use first row\n",
    "                    row = row.iloc[[0]]\n",
    "                    inexact_match_count += 1\n",
    "            else:\n",
    "                # Try with just year and state (different month)\n",
    "                row = state_crash_full[(state_crash_full[\"Crash Year\"] == year) &\n",
    "                                      (state_crash_full[\"state_id\"] == state_id.lower())]\n",
    "                \n",
    "                if len(row) > 0:\n",
    "                    # Find closest month\n",
    "                    row = row.copy()\n",
    "                    row['month_diff'] = abs(row['Crash Month'] - month)\n",
    "                    row = row.loc[row['month_diff'].idxmin()].to_frame().T\n",
    "                    inexact_match_count += 1\n",
    "                else:\n",
    "                    # As a last resort, try just the state with any year/month\n",
    "                    row = state_crash_full[state_crash_full[\"state_id\"] == state_id.lower()]\n",
    "                    \n",
    "                    if len(row) > 0:\n",
    "                        # Sort by year and month to get most recent\n",
    "                        row = row.sort_values(by=['Crash Year', 'Crash Month'], ascending=False)\n",
    "                        row = row.iloc[[0]]\n",
    "                        inexact_match_count += 1\n",
    "        \n",
    "        # Copy data from state_crash_data to the accident row if we found a match\n",
    "        if len(row) > 0:\n",
    "            matches_found += 1\n",
    "            \n",
    "            # Set the dba_location indicator if we used dba_zip\n",
    "            if used_dba:\n",
    "                accidents_pd.at[idx, 'dba_location'] = 1\n",
    "            \n",
    "            # Map column names\n",
    "            column_mapping = {\n",
    "                'county_crash_count': 'crash_count',\n",
    "                'county_total_fatalities': 'total_fatalities',\n",
    "                'county_total_injuries': 'total_injuries',\n",
    "                'county_total_vehicles': 'total_vehicles'\n",
    "            }\n",
    "            \n",
    "            # Update values from the state crash data\n",
    "            for dest_col, source_col in column_mapping.items():\n",
    "                if source_col in row.columns:\n",
    "                    value = row[source_col].values[0]\n",
    "                    accidents_pd.at[idx, dest_col] = value"
   ]
  },
  {
   "cell_type": "code",
   "execution_count": 0,
   "metadata": {
    "application/vnd.databricks.v1+cell": {
     "cellMetadata": {
      "byteLimit": 2048000,
      "rowLimit": 10000
     },
     "inputWidgets": {},
     "nuid": "0e01898e-163d-41cc-ac9e-34ba6adedebc",
     "showTitle": false,
     "tableResultSettingsMap": {},
     "title": ""
    }
   },
   "outputs": [
    {
     "output_type": "stream",
     "name": "stdout",
     "output_type": "stream",
     "text": [
      "Total records processed: 335\nMatches found: 335 (100.00%)\nInexact matches: 322\nDBA locations used: 30 (8.96%)\ncounty_crash_count: 100.00% non-null values (335/335)\ncounty_total_fatalities: 100.00% non-null values (335/335)\ncounty_total_injuries: 100.00% non-null values (335/335)\ncounty_total_vehicles: 100.00% non-null values (335/335)\n"
     ]
    }
   ],
   "source": [
    "# Print summary\n",
    "print(f\"Total records processed: {total_processed}\")\n",
    "print(f\"Matches found: {matches_found} ({matches_found/total_processed*100:.2f}%)\")\n",
    "print(f\"Inexact matches: {inexact_match_count}\")\n",
    "print(f\"DBA locations used: {accidents_pd['dba_location'].sum()} ({accidents_pd['dba_location'].sum()/total_processed*100:.2f}%)\")\n",
    "\n",
    "# Check non-null percentages\n",
    "for col in ['county_crash_count', 'county_total_fatalities', 'county_total_injuries', 'county_total_vehicles']:\n",
    "    non_null_count = accidents_pd[col].count()\n",
    "    non_null_pct = (non_null_count / len(accidents_pd)) * 100\n",
    "    print(f\"{col}: {non_null_pct:.2f}% non-null values ({non_null_count}/{len(accidents_pd)})\")"
   ]
  },
  {
   "cell_type": "code",
   "execution_count": 0,
   "metadata": {
    "application/vnd.databricks.v1+cell": {
     "cellMetadata": {
      "byteLimit": 2048000,
      "rowLimit": 10000
     },
     "inputWidgets": {},
     "nuid": "56157790-bd59-4b5f-8acb-ac1bfaa3cb6c",
     "showTitle": false,
     "tableResultSettingsMap": {},
     "title": ""
    }
   },
   "outputs": [
    {
     "output_type": "execute_result",
     "data": {
      "text/plain": [
       "322"
      ]
     },
     "execution_count": 26,
     "metadata": {},
     "output_type": "execute_result"
    }
   ],
   "source": [
    "inexact_match_count"
   ]
  },
  {
   "cell_type": "markdown",
   "metadata": {
    "application/vnd.databricks.v1+cell": {
     "cellMetadata": {},
     "inputWidgets": {},
     "nuid": "dccb1f7e-3766-4dd1-aa7d-85d68bfb3b3e",
     "showTitle": false,
     "tableResultSettingsMap": {},
     "title": ""
    }
   },
   "source": [
    "There are 322 rows in the accident dataset where we did not have an exact match for the county in the state crash data. For now, we will match to the closest county we have data, but we may need to use the crash data at the state level instead. Note that we are currently matching the month that the crash happened, which does not make sense from a modeling perspective and would be data leakage as the crashed in the dataset are probably a part of that count. In the feature engineering stage, we will experiment with different moving average and lags for the location based variables. "
   ]
  },
  {
   "cell_type": "markdown",
   "metadata": {
    "application/vnd.databricks.v1+cell": {
     "cellMetadata": {},
     "inputWidgets": {},
     "nuid": "d3c609d6-9c73-4df9-92c3-032a8af22796",
     "showTitle": false,
     "tableResultSettingsMap": {},
     "title": ""
    }
   },
   "source": [
    "## Mapping precipitation data "
   ]
  },
  {
   "cell_type": "code",
   "execution_count": 0,
   "metadata": {
    "application/vnd.databricks.v1+cell": {
     "cellMetadata": {
      "byteLimit": 2048000,
      "rowLimit": 10000
     },
     "inputWidgets": {},
     "nuid": "90154359-56ee-4f9c-91de-92729944dd5e",
     "showTitle": false,
     "tableResultSettingsMap": {},
     "title": ""
    }
   },
   "outputs": [],
   "source": [
    "# Read in 2025 Precipitation Data /FileStore/intermediate_output/2025_precipitation_data\n",
    "df_precipitation_2024 = spark.read.format(\"parquet\").option(\"header\", \"true\").load(\"/FileStore/intermediate_output/2024_precipitation_data\")"
   ]
  },
  {
   "cell_type": "code",
   "execution_count": 0,
   "metadata": {
    "application/vnd.databricks.v1+cell": {
     "cellMetadata": {},
     "inputWidgets": {},
     "nuid": "1ac7d665-0523-410f-94b7-3c6646826177",
     "showTitle": false,
     "tableResultSettingsMap": {},
     "title": ""
    }
   },
   "outputs": [],
   "source": [
    "import pandas as pd\n",
    "from pyspark.sql import functions as F\n",
    "from pyspark.sql.types import StringType\n",
    "import datetime"
   ]
  },
  {
   "cell_type": "code",
   "execution_count": 0,
   "metadata": {
    "application/vnd.databricks.v1+cell": {
     "cellMetadata": {
      "byteLimit": 2048000,
      "rowLimit": 10000
     },
     "inputWidgets": {},
     "nuid": "715ddfbc-c792-42e2-b5b8-86bdcac2a1b5",
     "showTitle": false,
     "tableResultSettingsMap": {},
     "title": ""
    }
   },
   "outputs": [],
   "source": [
    "# Step 1: Convert PySpark dataframe to Pandas and prepare the precipitation data\n",
    "def prepare_precipitation_data(df_precipitation_2025):\n",
    "    # Add debug print statements\n",
    "    print(\"DEBUG: Preparing precipitation data\")\n",
    "    print(f\"DEBUG: Column names: {df_precipitation_2025.columns}\")\n",
    "    \n",
    "    # Sample a few values to understand data format\n",
    "    sample_df = df_precipitation_2025.limit(2).toPandas()\n",
    "    print(f\"DEBUG: Sample precipitation data (first 2 rows):\")\n",
    "    print(sample_df[[\"ZCTA5CE20\"]].head())\n",
    "    \n",
    "    # Check for a specific ZIP code mentioned in the error\n",
    "    if \"ZCTA5CE20\" in df_precipitation_2025.columns:\n",
    "        sample_34984 = df_precipitation_2025.filter(\"ZCTA5CE20 = '34984'\").limit(1).toPandas()\n",
    "        if not sample_34984.empty:\n",
    "            print(f\"DEBUG: Sample data for ZIP 34984:\")\n",
    "            print(sample_34984[[\"ZCTA5CE20\"]].head())\n",
    "    \n",
    "    # Convert PySpark dataframe to Pandas\n",
    "    print(\"DEBUG: Converting PySpark dataframe to Pandas\")\n",
    "    precipitation_pd = df_precipitation_2025.select(\n",
    "        \"ZCTA5CE20\",  # This is the zip code column\n",
    "        *[col for col in df_precipitation_2025.columns if col.startswith(\"PRISM_ppt_\")]\n",
    "    ).toPandas()\n",
    "    \n",
    "    print(f\"DEBUG: Converted to pandas, shape: {precipitation_pd.shape}\")\n",
    "    \n",
    "    # Rename the zip code column for easier joining\n",
    "    precipitation_pd = precipitation_pd.rename(columns={\"ZCTA5CE20\": \"zip_code\"})\n",
    "    \n",
    "    # Print a sample of ZIP codes to verify format\n",
    "    print(f\"DEBUG: Sample ZIP codes: {precipitation_pd['zip_code'].head(5).tolist()}\")\n",
    "    \n",
    "    # Reshape the precipitation data from wide to long format\n",
    "    print(\"DEBUG: Reshaping from wide to long format\")\n",
    "    precipitation_long = pd.melt(\n",
    "        precipitation_pd,\n",
    "        id_vars=[\"zip_code\"],\n",
    "        value_vars=[col for col in precipitation_pd.columns if col.startswith(\"PRISM_ppt_\")],\n",
    "        var_name=\"date_col\",\n",
    "        value_name=\"precipitation\"\n",
    "    )\n",
    "    \n",
    "    print(f\"DEBUG: After melt, shape: {precipitation_long.shape}\")\n",
    "    \n",
    "    # Extract the date from the column name, show example of what we're parsing\n",
    "    print(f\"DEBUG: Example date column name: {precipitation_long['date_col'].iloc[0] if not precipitation_long.empty else 'No data'}\")\n",
    "    \n",
    "    # Extract year from one of the date columns to validate\n",
    "    if not precipitation_long.empty:\n",
    "        sample_date_col = precipitation_long['date_col'].iloc[0]\n",
    "        date_part = sample_date_col.split(\"_\")[-2]\n",
    "        year_part = date_part[:4]\n",
    "        print(f\"DEBUG: Extracting year from sample date column: {year_part}\")\n",
    "    \n",
    "    # Extract the date from the column name\n",
    "    precipitation_long[\"date\"] = precipitation_long[\"date_col\"].apply(\n",
    "        lambda x: datetime.datetime.strptime(x.split(\"_\")[-2], \"%Y%m%d\").date()\n",
    "    )\n",
    "    \n",
    "    # Print sample dates after extraction\n",
    "    print(f\"DEBUG: Sample extracted dates: {precipitation_long['date'].head(5).tolist() if not precipitation_long.empty else 'No data'}\")\n",
    "    \n",
    "    # Drop the original date column name\n",
    "    precipitation_long = precipitation_long.drop(\"date_col\", axis=1)\n",
    "    \n",
    "    return precipitation_long\n",
    "\n",
    "# Step 2: Prepare the accidents dataframe\n",
    "def prepare_accidents_data(accidents_pd):\n",
    "    print(\"DEBUG: Preparing accident data\")\n",
    "    \n",
    "    # Create a new column for the zip code to use for joining\n",
    "    accidents_pd[\"joining_zip\"] = accidents_pd.apply(\n",
    "        lambda row: row[\"dba_zip\"] if row[\"dba_location\"] == 1 else row[\"zip\"], \n",
    "        axis=1\n",
    "    )\n",
    "    \n",
    "    # Handle multiple zip codes in a single field - with SPACE separation\n",
    "    # Some zip fields may contain multiple values (e.g., \"72032 72035 72034\")\n",
    "    accidents_pd[\"zip_list\"] = accidents_pd[\"joining_zip\"].apply(\n",
    "        lambda z: str(z).split() if pd.notna(z) else []\n",
    "    )\n",
    "    \n",
    "    # Flag records with multiple zip codes\n",
    "    accidents_pd[\"has_multiple_zips\"] = accidents_pd[\"zip_list\"].apply(len) > 1\n",
    "    \n",
    "    # Convert to string type in case it's not already\n",
    "    accidents_pd[\"joining_zip\"] = accidents_pd[\"joining_zip\"].astype(str)\n",
    "    \n",
    "    # Make sure date fields are proper datetime\n",
    "    # First try Date of Accident, then fall back to Date Reported if Date of Accident is null\n",
    "    if \"Date of Accident\" in accidents_pd.columns and \"Date Reported\" in accidents_pd.columns:\n",
    "        # Convert both date fields to datetime\n",
    "        accidents_pd[\"accident_date\"] = pd.to_datetime(accidents_pd[\"Date of Accident\"], errors='coerce')\n",
    "        reported_date = pd.to_datetime(accidents_pd[\"Date Reported\"], errors='coerce')\n",
    "        \n",
    "        # Use Date Reported where Date of Accident is null\n",
    "        accidents_pd.loc[accidents_pd[\"accident_date\"].isna(), \"accident_date\"] = reported_date\n",
    "        \n",
    "        # Convert to date object (without time)\n",
    "        accidents_pd[\"accident_date\"] = accidents_pd[\"accident_date\"].dt.date\n",
    "        \n",
    "        # Print statistics on date coverage\n",
    "        date_count = accidents_pd[\"accident_date\"].notna().sum()\n",
    "        print(f\"DEBUG: Records with date (after using Date Reported as fallback): {date_count} / {len(accidents_pd)}\")\n",
    "    \n",
    "    return accidents_pd\n",
    "\n",
    "# Step 3: Join the datasets\n",
    "def join_precipitation_with_accidents(precipitation_long, accidents_prepared):\n",
    "    print(\"DEBUG: Starting join operation\")\n",
    "    \n",
    "    # Convert zip codes to string for joining\n",
    "    precipitation_long[\"zip_code\"] = precipitation_long[\"zip_code\"].astype(str)\n",
    "    \n",
    "    # Print some stats about the datasets before joining\n",
    "    print(f\"DEBUG: Precipitation data shape: {precipitation_long.shape}\")\n",
    "    print(f\"DEBUG: Accident data shape: {accidents_prepared.shape}\")\n",
    "    \n",
    "    # Check ZIP code formats in both datasets\n",
    "    precip_zip_samples = precipitation_long[\"zip_code\"].dropna().head(5).tolist()\n",
    "    accident_zip_samples = accidents_prepared[\"joining_zip\"].dropna().head(5).tolist()\n",
    "    print(f\"DEBUG: Sample precipitation ZIP codes: {precip_zip_samples}\")\n",
    "    print(f\"DEBUG: Sample accident ZIP codes: {accident_zip_samples}\")\n",
    "    \n",
    "    # Check for specific ZIP mentioned in the error\n",
    "    if \"34984\" in precipitation_long[\"zip_code\"].values:\n",
    "        print(\"DEBUG: ZIP 34984 found in precipitation data\")\n",
    "        precip_34984 = precipitation_long[precipitation_long[\"zip_code\"] == \"34984\"].shape[0]\n",
    "        print(f\"DEBUG: Number of records for ZIP 34984: {precip_34984}\")\n",
    "        \n",
    "        # Sample dates for this ZIP\n",
    "        dates_34984 = precipitation_long[precipitation_long[\"zip_code\"] == \"34984\"][\"date\"].head(5).tolist()\n",
    "        print(f\"DEBUG: Sample dates for ZIP 34984: {dates_34984}\")\n",
    "    else:\n",
    "        print(\"DEBUG: ZIP 34984 NOT found in precipitation data\")\n",
    "    \n",
    "    # Check date ranges in both datasets\n",
    "    if not precipitation_long.empty and \"date\" in precipitation_long.columns:\n",
    "        precip_min_date = precipitation_long[\"date\"].min()\n",
    "        precip_max_date = precipitation_long[\"date\"].max()\n",
    "        print(f\"DEBUG: Precipitation date range: {precip_min_date} to {precip_max_date}\")\n",
    "    \n",
    "    if \"accident_date\" in accidents_prepared.columns:\n",
    "        acc_min_date = accidents_prepared[\"accident_date\"].dropna().min() if accidents_prepared[\"accident_date\"].notna().any() else None\n",
    "        acc_max_date = accidents_prepared[\"accident_date\"].dropna().max() if accidents_prepared[\"accident_date\"].notna().any() else None\n",
    "        print(f\"DEBUG: Accident date range: {acc_min_date} to {acc_max_date}\")\n",
    "    \n",
    "    # For records with single zip code, do a direct join\n",
    "    single_zip_accidents = accidents_prepared[~accidents_prepared[\"has_multiple_zips\"]]\n",
    "    print(f\"DEBUG: Records with single ZIP code: {len(single_zip_accidents)}\")\n",
    "    \n",
    "    # Before joining, check if we have any matching date-ZIP combinations\n",
    "    if not precipitation_long.empty and \"accident_date\" in single_zip_accidents.columns:\n",
    "        sample_accidents = single_zip_accidents.dropna(subset=[\"accident_date\"]).head(5)\n",
    "        for _, acc in sample_accidents.iterrows():\n",
    "            matching = precipitation_long[\n",
    "                (precipitation_long[\"date\"] == acc[\"accident_date\"]) & \n",
    "                (precipitation_long[\"zip_code\"] == acc[\"joining_zip\"])\n",
    "            ]\n",
    "            print(f\"DEBUG: For accident date {acc['accident_date']} and ZIP {acc['joining_zip']}, found {len(matching)} matching precipitation records\")\n",
    "    \n",
    "    merged_data = pd.merge(\n",
    "        single_zip_accidents,\n",
    "        precipitation_long,\n",
    "        left_on=[\"accident_date\", \"joining_zip\"],\n",
    "        right_on=[\"date\", \"zip_code\"],\n",
    "        how=\"left\"\n",
    "    )\n",
    "    \n",
    "    print(f\"DEBUG: After joining single-ZIP records, shape: {merged_data.shape}\")\n",
    "    print(f\"DEBUG: Missing precipitation values: {merged_data['precipitation'].isna().sum()}\")\n",
    "    \n",
    "    # For records with multiple zip codes, we need to handle differently\n",
    "    multi_zip_accidents = accidents_prepared[accidents_prepared[\"has_multiple_zips\"]]\n",
    "    print(f\"DEBUG: Records with multiple ZIP codes: {len(multi_zip_accidents)}\")\n",
    "    \n",
    "    multi_zip_results = []\n",
    "    \n",
    "    for _, accident in multi_zip_accidents.iterrows():\n",
    "        # Get all precipitation values for each zip in the list and average them\n",
    "        zip_list = accident[\"zip_list\"]\n",
    "        accident_date = accident[\"accident_date\"]\n",
    "        \n",
    "        print(f\"DEBUG: Processing multi-ZIP record with date {accident_date} and ZIPs {zip_list}\")\n",
    "        \n",
    "        if pd.isna(accident_date):\n",
    "            print(\"DEBUG: Skipping record with missing date\")\n",
    "            accident_copy = accident.copy()\n",
    "            accident_copy[\"precipitation\"] = None\n",
    "            accident_copy[\"date\"] = None\n",
    "            accident_copy[\"zip_code\"] = \",\".join(zip_list) if zip_list else None\n",
    "            accident_copy[\"multiple_zip_avg\"] = True\n",
    "            multi_zip_results.append(accident_copy)\n",
    "            continue\n",
    "        \n",
    "        # Find precipitation data for each zip code on the accident date\n",
    "        matching_precip = precipitation_long[\n",
    "            (precipitation_long[\"date\"] == accident_date) & \n",
    "            (precipitation_long[\"zip_code\"].isin(zip_list))\n",
    "        ]\n",
    "        \n",
    "        print(f\"DEBUG: Found {len(matching_precip)} matching precipitation records for this multi-ZIP accident\")\n",
    "        if not matching_precip.empty:\n",
    "            for _, p in matching_precip.head(3).iterrows():\n",
    "                print(f\"DEBUG: Sample match - ZIP: {p['zip_code']}, Date: {p['date']}, Precip: {p['precipitation']}\")\n",
    "        \n",
    "        # Calculate average precipitation across all matching zip codes\n",
    "        avg_precip = matching_precip[\"precipitation\"].mean() if not matching_precip.empty else None\n",
    "        print(f\"DEBUG: Average precipitation: {avg_precip}\")\n",
    "        \n",
    "        # Create a copy of the accident record with the average precipitation\n",
    "        accident_copy = accident.copy()\n",
    "        \n",
    "        # Add precipitation data\n",
    "        if pd.notna(avg_precip):\n",
    "            accident_copy[\"precipitation\"] = avg_precip\n",
    "            accident_copy[\"date\"] = accident_date\n",
    "            accident_copy[\"zip_code\"] = \",\".join(zip_list)\n",
    "            accident_copy[\"multiple_zip_avg\"] = True\n",
    "        else:\n",
    "            # No matching precipitation data found for any zip\n",
    "            accident_copy[\"precipitation\"] = None\n",
    "            accident_copy[\"date\"] = accident_date\n",
    "            accident_copy[\"zip_code\"] = \",\".join(zip_list)\n",
    "            accident_copy[\"multiple_zip_avg\"] = True\n",
    "            \n",
    "        multi_zip_results.append(accident_copy)\n",
    "    \n",
    "    # Convert multi-zip results to DataFrame if there are any\n",
    "    if multi_zip_results:\n",
    "        multi_zip_df = pd.DataFrame(multi_zip_results)\n",
    "        print(f\"DEBUG: Multi-ZIP results shape: {multi_zip_df.shape}\")\n",
    "        \n",
    "        # Combine with single-zip results\n",
    "        merged_data = pd.concat([merged_data, multi_zip_df], ignore_index=True)\n",
    "    \n",
    "    print(f\"DEBUG: Final merged data shape: {merged_data.shape}\")\n",
    "    print(f\"DEBUG: Final missing precipitation values: {merged_data['precipitation'].isna().sum()}\")\n",
    "    \n",
    "    return merged_data\n",
    "\n",
    "# Step 4: Main function to orchestrate the process\n",
    "def map_precipitation_to_accidents(df_precipitation_2025, accidents_pd):\n",
    "    # Prepare both datasets\n",
    "    precipitation_long = prepare_precipitation_data(df_precipitation_2025)\n",
    "    accidents_prepared = prepare_accidents_data(accidents_pd)\n",
    "    \n",
    "    # Join the datasets\n",
    "    result = join_precipitation_with_accidents(precipitation_long, accidents_prepared)\n",
    "    \n",
    "    # Check for missing precipitation data\n",
    "    missing_precip_count = result[\"precipitation\"].isna().sum()\n",
    "    missing_precip_percent = (missing_precip_count / len(result)) * 100 if len(result) > 0 else 0\n",
    "    \n",
    "    print(f\"RESULTS SUMMARY:\")\n",
    "    print(f\"Total accident records: {len(result)}\")\n",
    "    print(f\"Records with precipitation data: {len(result) - missing_precip_count} ({100 - missing_precip_percent:.2f}%)\")\n",
    "    print(f\"Records missing precipitation data: {missing_precip_count} ({missing_precip_percent:.2f}%)\")\n",
    "    \n",
    "    # Report on successful matches\n",
    "    if len(result) - missing_precip_count > 0:\n",
    "        print(\"\\nSample of successful matches:\")\n",
    "        matched_sample = result[result[\"precipitation\"].notna()].head(5)\n",
    "        for _, row in matched_sample.iterrows():\n",
    "            if row.get(\"multiple_zip_avg\", False):\n",
    "                print(f\"Date: {row['accident_date']} | Multiple ZIPs: {row['zip_code']} | Precipitation: {row['precipitation']:.2f}\")\n",
    "            else:\n",
    "                print(f\"Date: {row['accident_date']} | ZIP: {row['zip_code']} | Precipitation: {row['precipitation']:.2f}\")\n",
    "    \n",
    "    # Add some summary statistics (works with NaN values too)\n",
    "    result[\"has_precipitation\"] = result[\"precipitation\"] > 0\n",
    "    \n",
    "    return result\n",
    "    \n",
    "    return result\n",
    "\n",
    "# Sample usage:\n",
    "# merged_data = map_precipitation_to_accidents(df_precipitation_2025, accidents_pd)\n",
    "\n",
    "# Display some summary statistics\n",
    "def analyze_precipitation_accidents(merged_data):\n",
    "    # Calculate average precipitation on accident days\n",
    "    avg_precip = merged_data[\"precipitation\"].mean()\n",
    "    \n",
    "    # Count accidents that occurred on rainy days\n",
    "    rainy_day_accidents = merged_data[merged_data[\"precipitation\"] > 0].shape[0]\n",
    "    total_accidents = merged_data.shape[0]\n",
    "    rainy_day_percentage = (rainy_day_accidents / total_accidents) * 100 if total_accidents > 0 else 0\n",
    "    \n",
    "    # Group by precipitation ranges\n",
    "    precip_ranges = [0, 0.1, 0.5, 1, 5, float('inf')]\n",
    "    precip_labels = ['No rain', 'Light (0-0.1)', 'Moderate (0.1-0.5)', 'Heavy (0.5-1)', 'Extreme (>1)']\n",
    "    \n",
    "    merged_data['precip_category'] = pd.cut(\n",
    "        merged_data['precipitation'], \n",
    "        bins=precip_ranges, \n",
    "        labels=precip_labels, \n",
    "        right=False\n",
    "    )\n",
    "    \n",
    "    # Count accidents by precipitation category\n",
    "    accident_counts_by_precip = merged_data['precip_category'].value_counts().sort_index()\n",
    "    \n",
    "    # Severity analysis if the column exists\n",
    "    severity_by_precip = None\n",
    "    if 'Severity' in merged_data.columns:\n",
    "        severity_by_precip = merged_data.groupby('precip_category')['Severity'].value_counts()\n",
    "    \n",
    "    return {\n",
    "        'average_precipitation': avg_precip,\n",
    "        'rainy_day_accidents': rainy_day_accidents,\n",
    "        'rainy_day_percentage': rainy_day_percentage,\n",
    "        'accidents_by_precipitation': accident_counts_by_precip,\n",
    "        'severity_by_precipitation': severity_by_precip\n",
    "    }"
   ]
  },
  {
   "cell_type": "code",
   "execution_count": 0,
   "metadata": {
    "application/vnd.databricks.v1+cell": {
     "cellMetadata": {
      "byteLimit": 2048000,
      "rowLimit": 10000
     },
     "inputWidgets": {},
     "nuid": "242d06ce-9975-4e60-bae1-bf40b9737dce",
     "showTitle": false,
     "tableResultSettingsMap": {},
     "title": ""
    }
   },
   "outputs": [],
   "source": [
    "accidents_pd_2024 = accidents_pd[accidents_pd[\"Year\"] == 2024].copy()"
   ]
  },
  {
   "cell_type": "code",
   "execution_count": 0,
   "metadata": {
    "application/vnd.databricks.v1+cell": {
     "cellMetadata": {
      "byteLimit": 2048000,
      "rowLimit": 10000
     },
     "inputWidgets": {},
     "nuid": "b9dac88c-6f71-4b20-a1ff-e3bbf41e7c8c",
     "showTitle": false,
     "tableResultSettingsMap": {},
     "title": ""
    }
   },
   "outputs": [
    {
     "output_type": "stream",
     "name": "stdout",
     "output_type": "stream",
     "text": [
      "DEBUG: Preparing precipitation data\nDEBUG: Column names: ['AWATER20', 'MTFCC20', 'CLASSFP20', 'INTPTLON20', 'latitude', 'FUNCSTAT20', 'GEOID20', 'ZCTA5CE20', 'INTPTLAT20', 'longitude', 'ALAND20', 'PRISM_ppt_provisional_4kmD2_20240901_bil', 'PRISM_ppt_provisional_4kmD2_20240902_bil', 'PRISM_ppt_provisional_4kmD2_20240911_bil', 'PRISM_ppt_provisional_4kmD2_20241210_bil', 'PRISM_ppt_provisional_4kmD2_20241211_bil', 'PRISM_ppt_provisional_4kmD2_20241212_bil', 'PRISM_ppt_provisional_4kmD2_20241213_bil', 'PRISM_ppt_provisional_4kmD2_20241214_bil', 'PRISM_ppt_provisional_4kmD2_20241215_bil', 'PRISM_ppt_provisional_4kmD2_20241216_bil', 'PRISM_ppt_provisional_4kmD2_20241217_bil', 'PRISM_ppt_provisional_4kmD2_20241218_bil', 'PRISM_ppt_provisional_4kmD2_20241219_bil', 'PRISM_ppt_provisional_4kmD2_20240912_bil', 'PRISM_ppt_provisional_4kmD2_20241220_bil', 'PRISM_ppt_provisional_4kmD2_20241221_bil', 'PRISM_ppt_provisional_4kmD2_20241222_bil', 'PRISM_ppt_provisional_4kmD2_20241223_bil', 'PRISM_ppt_provisional_4kmD2_20241224_bil', 'PRISM_ppt_provisional_4kmD2_20241225_bil', 'PRISM_ppt_provisional_4kmD2_20241226_bil', 'PRISM_ppt_provisional_4kmD2_20241227_bil', 'PRISM_ppt_provisional_4kmD2_20241228_bil', 'PRISM_ppt_provisional_4kmD2_20241229_bil', 'PRISM_ppt_provisional_4kmD2_20240913_bil', 'PRISM_ppt_provisional_4kmD2_20241230_bil', 'PRISM_ppt_provisional_4kmD2_20241231_bil', 'PRISM_ppt_stable_4kmD2_20240101_bil', 'PRISM_ppt_stable_4kmD2_20240102_bil', 'PRISM_ppt_stable_4kmD2_20240103_bil', 'PRISM_ppt_stable_4kmD2_20240104_bil', 'PRISM_ppt_stable_4kmD2_20240105_bil', 'PRISM_ppt_stable_4kmD2_20240106_bil', 'PRISM_ppt_stable_4kmD2_20240107_bil', 'PRISM_ppt_stable_4kmD2_20240108_bil', 'PRISM_ppt_provisional_4kmD2_20240914_bil', 'PRISM_ppt_stable_4kmD2_20240109_bil', 'PRISM_ppt_stable_4kmD2_20240110_bil', 'PRISM_ppt_stable_4kmD2_20240111_bil', 'PRISM_ppt_stable_4kmD2_20240112_bil', 'PRISM_ppt_stable_4kmD2_20240113_bil', 'PRISM_ppt_stable_4kmD2_20240114_bil', 'PRISM_ppt_stable_4kmD2_20240115_bil', 'PRISM_ppt_stable_4kmD2_20240116_bil', 'PRISM_ppt_stable_4kmD2_20240117_bil', 'PRISM_ppt_stable_4kmD2_20240118_bil', 'PRISM_ppt_provisional_4kmD2_20240915_bil', 'PRISM_ppt_stable_4kmD2_20240119_bil', 'PRISM_ppt_stable_4kmD2_20240120_bil', 'PRISM_ppt_stable_4kmD2_20240121_bil', 'PRISM_ppt_stable_4kmD2_20240122_bil', 'PRISM_ppt_stable_4kmD2_20240123_bil', 'PRISM_ppt_stable_4kmD2_20240124_bil', 'PRISM_ppt_stable_4kmD2_20240125_bil', 'PRISM_ppt_stable_4kmD2_20240126_bil', 'PRISM_ppt_stable_4kmD2_20240127_bil', 'PRISM_ppt_stable_4kmD2_20240128_bil', 'PRISM_ppt_provisional_4kmD2_20240916_bil', 'PRISM_ppt_stable_4kmD2_20240129_bil', 'PRISM_ppt_stable_4kmD2_20240130_bil', 'PRISM_ppt_stable_4kmD2_20240131_bil', 'PRISM_ppt_stable_4kmD2_20240201_bil', 'PRISM_ppt_stable_4kmD2_20240202_bil', 'PRISM_ppt_stable_4kmD2_20240203_bil', 'PRISM_ppt_stable_4kmD2_20240204_bil', 'PRISM_ppt_stable_4kmD2_20240205_bil', 'PRISM_ppt_stable_4kmD2_20240206_bil', 'PRISM_ppt_stable_4kmD2_20240207_bil', 'PRISM_ppt_provisional_4kmD2_20240917_bil', 'PRISM_ppt_stable_4kmD2_20240208_bil', 'PRISM_ppt_stable_4kmD2_20240209_bil', 'PRISM_ppt_stable_4kmD2_20240210_bil', 'PRISM_ppt_stable_4kmD2_20240211_bil', 'PRISM_ppt_stable_4kmD2_20240212_bil', 'PRISM_ppt_stable_4kmD2_20240213_bil', 'PRISM_ppt_stable_4kmD2_20240214_bil', 'PRISM_ppt_stable_4kmD2_20240215_bil', 'PRISM_ppt_stable_4kmD2_20240216_bil', 'PRISM_ppt_stable_4kmD2_20240217_bil', 'PRISM_ppt_provisional_4kmD2_20240918_bil', 'PRISM_ppt_stable_4kmD2_20240218_bil', 'PRISM_ppt_stable_4kmD2_20240219_bil', 'PRISM_ppt_stable_4kmD2_20240220_bil', 'PRISM_ppt_stable_4kmD2_20240221_bil', 'PRISM_ppt_stable_4kmD2_20240222_bil', 'PRISM_ppt_stable_4kmD2_20240223_bil', 'PRISM_ppt_stable_4kmD2_20240224_bil', 'PRISM_ppt_stable_4kmD2_20240225_bil', 'PRISM_ppt_stable_4kmD2_20240226_bil', 'PRISM_ppt_stable_4kmD2_20240227_bil', 'PRISM_ppt_provisional_4kmD2_20240919_bil', 'PRISM_ppt_stable_4kmD2_20240228_bil', 'PRISM_ppt_stable_4kmD2_20240229_bil', 'PRISM_ppt_stable_4kmD2_20240301_bil', 'PRISM_ppt_stable_4kmD2_20240302_bil', 'PRISM_ppt_stable_4kmD2_20240303_bil', 'PRISM_ppt_stable_4kmD2_20240304_bil', 'PRISM_ppt_stable_4kmD2_20240305_bil', 'PRISM_ppt_stable_4kmD2_20240306_bil', 'PRISM_ppt_stable_4kmD2_20240307_bil', 'PRISM_ppt_stable_4kmD2_20240308_bil', 'PRISM_ppt_provisional_4kmD2_20240920_bil', 'PRISM_ppt_stable_4kmD2_20240309_bil', 'PRISM_ppt_stable_4kmD2_20240310_bil', 'PRISM_ppt_stable_4kmD2_20240311_bil', 'PRISM_ppt_stable_4kmD2_20240312_bil', 'PRISM_ppt_stable_4kmD2_20240313_bil', 'PRISM_ppt_stable_4kmD2_20240314_bil', 'PRISM_ppt_stable_4kmD2_20240315_bil', 'PRISM_ppt_stable_4kmD2_20240316_bil', 'PRISM_ppt_stable_4kmD2_20240317_bil', 'PRISM_ppt_stable_4kmD2_20240318_bil', 'PRISM_ppt_provisional_4kmD2_20240903_bil', 'PRISM_ppt_provisional_4kmD2_20240921_bil', 'PRISM_ppt_stable_4kmD2_20240319_bil', 'PRISM_ppt_stable_4kmD2_20240320_bil', 'PRISM_ppt_stable_4kmD2_20240321_bil', 'PRISM_ppt_stable_4kmD2_20240322_bil', 'PRISM_ppt_stable_4kmD2_20240323_bil', 'PRISM_ppt_stable_4kmD2_20240324_bil', 'PRISM_ppt_stable_4kmD2_20240325_bil', 'PRISM_ppt_stable_4kmD2_20240326_bil', 'PRISM_ppt_stable_4kmD2_20240327_bil', 'PRISM_ppt_stable_4kmD2_20240328_bil', 'PRISM_ppt_provisional_4kmD2_20240922_bil', 'PRISM_ppt_stable_4kmD2_20240329_bil', 'PRISM_ppt_stable_4kmD2_20240330_bil', 'PRISM_ppt_stable_4kmD2_20240331_bil', 'PRISM_ppt_stable_4kmD2_20240401_bil', 'PRISM_ppt_stable_4kmD2_20240402_bil', 'PRISM_ppt_stable_4kmD2_20240403_bil', 'PRISM_ppt_stable_4kmD2_20240404_bil', 'PRISM_ppt_stable_4kmD2_20240405_bil', 'PRISM_ppt_stable_4kmD2_20240406_bil', 'PRISM_ppt_stable_4kmD2_20240407_bil', 'PRISM_ppt_provisional_4kmD2_20240923_bil', 'PRISM_ppt_stable_4kmD2_20240408_bil', 'PRISM_ppt_stable_4kmD2_20240409_bil', 'PRISM_ppt_stable_4kmD2_20240410_bil', 'PRISM_ppt_stable_4kmD2_20240411_bil', 'PRISM_ppt_stable_4kmD2_20240412_bil', 'PRISM_ppt_stable_4kmD2_20240413_bil', 'PRISM_ppt_stable_4kmD2_20240414_bil', 'PRISM_ppt_stable_4kmD2_20240415_bil', 'PRISM_ppt_stable_4kmD2_20240416_bil', 'PRISM_ppt_stable_4kmD2_20240417_bil', 'PRISM_ppt_provisional_4kmD2_20240924_bil', 'PRISM_ppt_stable_4kmD2_20240418_bil', 'PRISM_ppt_stable_4kmD2_20240419_bil', 'PRISM_ppt_stable_4kmD2_20240420_bil', 'PRISM_ppt_stable_4kmD2_20240421_bil', 'PRISM_ppt_stable_4kmD2_20240422_bil', 'PRISM_ppt_stable_4kmD2_20240423_bil', 'PRISM_ppt_stable_4kmD2_20240424_bil', 'PRISM_ppt_stable_4kmD2_20240425_bil', 'PRISM_ppt_stable_4kmD2_20240426_bil', 'PRISM_ppt_stable_4kmD2_20240427_bil', 'PRISM_ppt_provisional_4kmD2_20240925_bil', 'PRISM_ppt_stable_4kmD2_20240428_bil', 'PRISM_ppt_stable_4kmD2_20240429_bil', 'PRISM_ppt_stable_4kmD2_20240430_bil', 'PRISM_ppt_stable_4kmD2_20240501_bil', 'PRISM_ppt_stable_4kmD2_20240502_bil', 'PRISM_ppt_stable_4kmD2_20240503_bil', 'PRISM_ppt_stable_4kmD2_20240504_bil', 'PRISM_ppt_stable_4kmD2_20240505_bil', 'PRISM_ppt_stable_4kmD2_20240506_bil', 'PRISM_ppt_stable_4kmD2_20240507_bil', 'PRISM_ppt_provisional_4kmD2_20240926_bil', 'PRISM_ppt_stable_4kmD2_20240508_bil', 'PRISM_ppt_stable_4kmD2_20240509_bil', 'PRISM_ppt_stable_4kmD2_20240510_bil', 'PRISM_ppt_stable_4kmD2_20240511_bil', 'PRISM_ppt_stable_4kmD2_20240512_bil', 'PRISM_ppt_stable_4kmD2_20240513_bil', 'PRISM_ppt_stable_4kmD2_20240514_bil', 'PRISM_ppt_stable_4kmD2_20240515_bil', 'PRISM_ppt_stable_4kmD2_20240516_bil', 'PRISM_ppt_stable_4kmD2_20240517_bil', 'PRISM_ppt_provisional_4kmD2_20240927_bil', 'PRISM_ppt_stable_4kmD2_20240518_bil', 'PRISM_ppt_stable_4kmD2_20240519_bil', 'PRISM_ppt_stable_4kmD2_20240520_bil', 'PRISM_ppt_stable_4kmD2_20240521_bil', 'PRISM_ppt_stable_4kmD2_20240522_bil', 'PRISM_ppt_stable_4kmD2_20240523_bil', 'PRISM_ppt_stable_4kmD2_20240524_bil', 'PRISM_ppt_stable_4kmD2_20240525_bil', 'PRISM_ppt_stable_4kmD2_20240526_bil', 'PRISM_ppt_stable_4kmD2_20240527_bil', 'PRISM_ppt_provisional_4kmD2_20240928_bil', 'PRISM_ppt_stable_4kmD2_20240528_bil', 'PRISM_ppt_stable_4kmD2_20240529_bil', 'PRISM_ppt_stable_4kmD2_20240530_bil', 'PRISM_ppt_stable_4kmD2_20240531_bil', 'PRISM_ppt_stable_4kmD2_20240601_bil', 'PRISM_ppt_stable_4kmD2_20240602_bil', 'PRISM_ppt_stable_4kmD2_20240603_bil', 'PRISM_ppt_stable_4kmD2_20240604_bil', 'PRISM_ppt_stable_4kmD2_20240605_bil', 'PRISM_ppt_stable_4kmD2_20240606_bil', 'PRISM_ppt_provisional_4kmD2_20240929_bil', 'PRISM_ppt_stable_4kmD2_20240607_bil', 'PRISM_ppt_stable_4kmD2_20240608_bil', 'PRISM_ppt_stable_4kmD2_20240609_bil', 'PRISM_ppt_stable_4kmD2_20240610_bil', 'PRISM_ppt_stable_4kmD2_20240611_bil', 'PRISM_ppt_stable_4kmD2_20240612_bil', 'PRISM_ppt_stable_4kmD2_20240613_bil', 'PRISM_ppt_stable_4kmD2_20240614_bil', 'PRISM_ppt_stable_4kmD2_20240615_bil', 'PRISM_ppt_stable_4kmD2_20240616_bil', 'PRISM_ppt_provisional_4kmD2_20240930_bil', 'PRISM_ppt_stable_4kmD2_20240617_bil', 'PRISM_ppt_stable_4kmD2_20240618_bil', 'PRISM_ppt_stable_4kmD2_20240619_bil', 'PRISM_ppt_stable_4kmD2_20240620_bil', 'PRISM_ppt_stable_4kmD2_20240621_bil', 'PRISM_ppt_stable_4kmD2_20240622_bil', 'PRISM_ppt_stable_4kmD2_20240623_bil', 'PRISM_ppt_stable_4kmD2_20240624_bil', 'PRISM_ppt_stable_4kmD2_20240625_bil', 'PRISM_ppt_stable_4kmD2_20240626_bil', 'PRISM_ppt_provisional_4kmD2_20240904_bil', 'PRISM_ppt_provisional_4kmD2_20241001_bil', 'PRISM_ppt_stable_4kmD2_20240627_bil', 'PRISM_ppt_stable_4kmD2_20240628_bil', 'PRISM_ppt_stable_4kmD2_20240629_bil', 'PRISM_ppt_stable_4kmD2_20240630_bil', 'PRISM_ppt_stable_4kmD2_20240701_bil', 'PRISM_ppt_stable_4kmD2_20240702_bil', 'PRISM_ppt_stable_4kmD2_20240703_bil', 'PRISM_ppt_stable_4kmD2_20240704_bil', 'PRISM_ppt_stable_4kmD2_20240705_bil', 'PRISM_ppt_stable_4kmD2_20240706_bil', 'PRISM_ppt_provisional_4kmD2_20241002_bil', 'PRISM_ppt_stable_4kmD2_20240707_bil', 'PRISM_ppt_stable_4kmD2_20240708_bil', 'PRISM_ppt_stable_4kmD2_20240709_bil', 'PRISM_ppt_stable_4kmD2_20240710_bil', 'PRISM_ppt_stable_4kmD2_20240711_bil', 'PRISM_ppt_stable_4kmD2_20240712_bil', 'PRISM_ppt_stable_4kmD2_20240713_bil', 'PRISM_ppt_stable_4kmD2_20240714_bil', 'PRISM_ppt_stable_4kmD2_20240715_bil', 'PRISM_ppt_stable_4kmD2_20240716_bil', 'PRISM_ppt_provisional_4kmD2_20241003_bil', 'PRISM_ppt_stable_4kmD2_20240717_bil', 'PRISM_ppt_stable_4kmD2_20240718_bil', 'PRISM_ppt_stable_4kmD2_20240719_bil', 'PRISM_ppt_stable_4kmD2_20240720_bil', 'PRISM_ppt_stable_4kmD2_20240721_bil', 'PRISM_ppt_stable_4kmD2_20240722_bil', 'PRISM_ppt_stable_4kmD2_20240723_bil', 'PRISM_ppt_stable_4kmD2_20240724_bil', 'PRISM_ppt_stable_4kmD2_20240725_bil', 'PRISM_ppt_stable_4kmD2_20240726_bil', 'PRISM_ppt_provisional_4kmD2_20241004_bil', 'PRISM_ppt_stable_4kmD2_20240727_bil', 'PRISM_ppt_stable_4kmD2_20240728_bil', 'PRISM_ppt_stable_4kmD2_20240729_bil', 'PRISM_ppt_stable_4kmD2_20240730_bil', 'PRISM_ppt_stable_4kmD2_20240731_bil', 'PRISM_ppt_stable_4kmD2_20240801_bil', 'PRISM_ppt_stable_4kmD2_20240802_bil', 'PRISM_ppt_stable_4kmD2_20240803_bil', 'PRISM_ppt_stable_4kmD2_20240804_bil', 'PRISM_ppt_stable_4kmD2_20240805_bil', 'PRISM_ppt_provisional_4kmD2_20241005_bil', 'PRISM_ppt_stable_4kmD2_20240806_bil', 'PRISM_ppt_stable_4kmD2_20240807_bil', 'PRISM_ppt_stable_4kmD2_20240808_bil', 'PRISM_ppt_stable_4kmD2_20240809_bil', 'PRISM_ppt_stable_4kmD2_20240810_bil', 'PRISM_ppt_stable_4kmD2_20240811_bil', 'PRISM_ppt_stable_4kmD2_20240812_bil', 'PRISM_ppt_stable_4kmD2_20240813_bil', 'PRISM_ppt_stable_4kmD2_20240814_bil', 'PRISM_ppt_stable_4kmD2_20240815_bil', 'PRISM_ppt_provisional_4kmD2_20241006_bil', 'PRISM_ppt_stable_4kmD2_20240816_bil', 'PRISM_ppt_stable_4kmD2_20240817_bil', 'PRISM_ppt_stable_4kmD2_20240818_bil', 'PRISM_ppt_stable_4kmD2_20240819_bil', 'PRISM_ppt_stable_4kmD2_20240820_bil', 'PRISM_ppt_stable_4kmD2_20240821_bil', 'PRISM_ppt_stable_4kmD2_20240822_bil', 'PRISM_ppt_stable_4kmD2_20240823_bil', 'PRISM_ppt_stable_4kmD2_20240824_bil', 'PRISM_ppt_stable_4kmD2_20240825_bil', 'PRISM_ppt_provisional_4kmD2_20241007_bil', 'PRISM_ppt_stable_4kmD2_20240826_bil', 'PRISM_ppt_stable_4kmD2_20240827_bil', 'PRISM_ppt_stable_4kmD2_20240828_bil', 'PRISM_ppt_stable_4kmD2_20240829_bil', 'PRISM_ppt_stable_4kmD2_20240830_bil', 'PRISM_ppt_stable_4kmD2_20240831_bil', 'PRISM_ppt_provisional_4kmD2_20241008_bil', 'PRISM_ppt_provisional_4kmD2_20241009_bil', 'PRISM_ppt_provisional_4kmD2_20241010_bil', 'PRISM_ppt_provisional_4kmD2_20240905_bil', 'PRISM_ppt_provisional_4kmD2_20241011_bil', 'PRISM_ppt_provisional_4kmD2_20241012_bil', 'PRISM_ppt_provisional_4kmD2_20241013_bil', 'PRISM_ppt_provisional_4kmD2_20241014_bil', 'PRISM_ppt_provisional_4kmD2_20241015_bil', 'PRISM_ppt_provisional_4kmD2_20241016_bil', 'PRISM_ppt_provisional_4kmD2_20241017_bil', 'PRISM_ppt_provisional_4kmD2_20241018_bil', 'PRISM_ppt_provisional_4kmD2_20241019_bil', 'PRISM_ppt_provisional_4kmD2_20241020_bil', 'PRISM_ppt_provisional_4kmD2_20240906_bil', 'PRISM_ppt_provisional_4kmD2_20241021_bil', 'PRISM_ppt_provisional_4kmD2_20241022_bil', 'PRISM_ppt_provisional_4kmD2_20241023_bil', 'PRISM_ppt_provisional_4kmD2_20241024_bil', 'PRISM_ppt_provisional_4kmD2_20241025_bil', 'PRISM_ppt_provisional_4kmD2_20241026_bil', 'PRISM_ppt_provisional_4kmD2_20241027_bil', 'PRISM_ppt_provisional_4kmD2_20241028_bil', 'PRISM_ppt_provisional_4kmD2_20241029_bil', 'PRISM_ppt_provisional_4kmD2_20241030_bil', 'PRISM_ppt_provisional_4kmD2_20240907_bil', 'PRISM_ppt_provisional_4kmD2_20241031_bil', 'PRISM_ppt_provisional_4kmD2_20241101_bil', 'PRISM_ppt_provisional_4kmD2_20241102_bil', 'PRISM_ppt_provisional_4kmD2_20241103_bil', 'PRISM_ppt_provisional_4kmD2_20241104_bil', 'PRISM_ppt_provisional_4kmD2_20241105_bil', 'PRISM_ppt_provisional_4kmD2_20241106_bil', 'PRISM_ppt_provisional_4kmD2_20241107_bil', 'PRISM_ppt_provisional_4kmD2_20241108_bil', 'PRISM_ppt_provisional_4kmD2_20241109_bil', 'PRISM_ppt_provisional_4kmD2_20240908_bil', 'PRISM_ppt_provisional_4kmD2_20241110_bil', 'PRISM_ppt_provisional_4kmD2_20241111_bil', 'PRISM_ppt_provisional_4kmD2_20241112_bil', 'PRISM_ppt_provisional_4kmD2_20241113_bil', 'PRISM_ppt_provisional_4kmD2_20241114_bil', 'PRISM_ppt_provisional_4kmD2_20241115_bil', 'PRISM_ppt_provisional_4kmD2_20241116_bil', 'PRISM_ppt_provisional_4kmD2_20241117_bil', 'PRISM_ppt_provisional_4kmD2_20241118_bil', 'PRISM_ppt_provisional_4kmD2_20241119_bil', 'PRISM_ppt_provisional_4kmD2_20240909_bil', 'PRISM_ppt_provisional_4kmD2_20241120_bil', 'PRISM_ppt_provisional_4kmD2_20241121_bil', 'PRISM_ppt_provisional_4kmD2_20241122_bil', 'PRISM_ppt_provisional_4kmD2_20241123_bil', 'PRISM_ppt_provisional_4kmD2_20241124_bil', 'PRISM_ppt_provisional_4kmD2_20241125_bil', 'PRISM_ppt_provisional_4kmD2_20241126_bil', 'PRISM_ppt_provisional_4kmD2_20241127_bil', 'PRISM_ppt_provisional_4kmD2_20241128_bil', 'PRISM_ppt_provisional_4kmD2_20241129_bil', 'PRISM_ppt_provisional_4kmD2_20240910_bil', 'PRISM_ppt_provisional_4kmD2_20241130_bil', 'PRISM_ppt_provisional_4kmD2_20241201_bil', 'PRISM_ppt_provisional_4kmD2_20241202_bil', 'PRISM_ppt_provisional_4kmD2_20241203_bil', 'PRISM_ppt_provisional_4kmD2_20241204_bil', 'PRISM_ppt_provisional_4kmD2_20241205_bil', 'PRISM_ppt_provisional_4kmD2_20241206_bil', 'PRISM_ppt_provisional_4kmD2_20241207_bil', 'PRISM_ppt_provisional_4kmD2_20241208_bil', 'PRISM_ppt_provisional_4kmD2_20241209_bil']\nDEBUG: Sample precipitation data (first 2 rows):\n  ZCTA5CE20\n0     29059\n1     14903\nDEBUG: Sample data for ZIP 34984:\n  ZCTA5CE20\n0     34984\nDEBUG: Converting PySpark dataframe to Pandas\nDEBUG: Converted to pandas, shape: (33791, 367)\nDEBUG: Sample ZIP codes: ['29059', '14903', '26230', '10451', '49442']\nDEBUG: Reshaping from wide to long format\nDEBUG: After melt, shape: (12367506, 3)\nDEBUG: Example date column name: PRISM_ppt_provisional_4kmD2_20240901_bil\nDEBUG: Extracting year from sample date column: 2024\nDEBUG: Sample extracted dates: [datetime.date(2024, 9, 1), datetime.date(2024, 9, 1), datetime.date(2024, 9, 1), datetime.date(2024, 9, 1), datetime.date(2024, 9, 1)]\nDEBUG: Preparing accident data\nDEBUG: Records with date (after using Date Reported as fallback): 241 / 241\nDEBUG: Starting join operation\nDEBUG: Precipitation data shape: (12367506, 3)\nDEBUG: Accident data shape: (241, 45)\nDEBUG: Sample precipitation ZIP codes: ['29059', '14903', '26230', '10451', '49442']\nDEBUG: Sample accident ZIP codes: ['72032 72035 72034', '34983 34987 34986 34984 34952 34953 34985', '38066', '28150 28152 28151', '28753']\nDEBUG: ZIP 34984 found in precipitation data\nDEBUG: Number of records for ZIP 34984: 366\nDEBUG: Sample dates for ZIP 34984: [datetime.date(2024, 9, 1), datetime.date(2024, 9, 2), datetime.date(2024, 9, 11), datetime.date(2024, 12, 10), datetime.date(2024, 12, 11)]\nDEBUG: Precipitation date range: 2024-01-01 to 2024-12-31\nDEBUG: Accident date range: 2024-01-11 to 2024-12-31\nDEBUG: Records with single ZIP code: 166\nDEBUG: For accident date 2024-05-07 and ZIP 38066, found 1 matching precipitation records\nDEBUG: For accident date 2024-05-16 and ZIP 28753, found 1 matching precipitation records\nDEBUG: For accident date 2024-05-18 and ZIP 34104, found 1 matching precipitation records\nDEBUG: For accident date 2024-05-02 and ZIP 37027, found 1 matching precipitation records\nDEBUG: For accident date 2024-05-21 and ZIP 18949, found 0 matching precipitation records\nDEBUG: After joining single-ZIP records, shape: (166, 48)\nDEBUG: Missing precipitation values: 7\nDEBUG: Records with multiple ZIP codes: 75\nDEBUG: Processing multi-ZIP record with date 2024-04-30 and ZIPs ['72032', '72035', '72034']\nDEBUG: Found 3 matching precipitation records for this multi-ZIP accident\nDEBUG: Sample match - ZIP: 72034, Date: 2024-04-30, Precip: 1.7670999765396118\nDEBUG: Sample match - ZIP: 72035, Date: 2024-04-30, Precip: 3.7024998664855957\nDEBUG: Sample match - ZIP: 72032, Date: 2024-04-30, Precip: 1.0348999500274658\nDEBUG: Average precipitation: 2.1681665976842246\nDEBUG: Processing multi-ZIP record with date 2024-05-06 and ZIPs ['34983', '34987', '34986', '34984', '34952', '34953', '34985']\nDEBUG: Found 6 matching precipitation records for this multi-ZIP accident\nDEBUG: Sample match - ZIP: 34986, Date: 2024-05-06, Precip: 0.8233999609947205\nDEBUG: Sample match - ZIP: 34983, Date: 2024-05-06, Precip: 0.8333999514579773\nDEBUG: Sample match - ZIP: 34984, Date: 2024-05-06, Precip: 0.7666999697685242\nDEBUG: Average precipitation: 0.6698499743361026\nDEBUG: Processing multi-ZIP record with date 2024-05-01 and ZIPs ['28150', '28152', '28151']\nDEBUG: Found 2 matching precipitation records for this multi-ZIP accident\nDEBUG: Sample match - ZIP: 28150, Date: 2024-05-01, Precip: 0.2572000026702881\nDEBUG: Sample match - ZIP: 28152, Date: 2024-05-01, Precip: 0.6940999627113342\nDEBUG: Average precipitation: 0.47564998269081116\nDEBUG: Processing multi-ZIP record with date 2024-05-24 and ZIPs ['47130', '47131', '47132', '47133', '47134', '47144', '47190', '47199']\nDEBUG: Found 1 matching precipitation records for this multi-ZIP accident\nDEBUG: Sample match - ZIP: 47130, Date: 2024-05-24, Precip: 5.436500072479248\nDEBUG: Average precipitation: 5.436500072479248\nDEBUG: Processing multi-ZIP record with date 2024-06-03 and ZIPs ['34994', '34996', '34957']\nDEBUG: Found 3 matching precipitation records for this multi-ZIP accident\nDEBUG: Sample match - ZIP: 34957, Date: 2024-06-03, Precip: 0.3019999861717224\nDEBUG: Sample match - ZIP: 34994, Date: 2024-06-03, Precip: 0.0\nDEBUG: Sample match - ZIP: 34996, Date: 2024-06-03, Precip: 0.0\nDEBUG: Average precipitation: 0.1006666620572408\nDEBUG: Processing multi-ZIP record with date 2024-06-05 and ZIPs ['40165', '40166']\nDEBUG: Found 1 matching precipitation records for this multi-ZIP accident\nDEBUG: Sample match - ZIP: 40165, Date: 2024-06-05, Precip: 9.289599418640137\nDEBUG: Average precipitation: 9.289599418640137\nDEBUG: Processing multi-ZIP record with date 2024-06-07 and ZIPs ['42223', '37043', '37042', '37040', '37041', '37044']\nDEBUG: Found 4 matching precipitation records for this multi-ZIP accident\nDEBUG: Sample match - ZIP: 37042, Date: 2024-06-07, Precip: 0.0\nDEBUG: Sample match - ZIP: 37040, Date: 2024-06-07, Precip: 0.0\nDEBUG: Sample match - ZIP: 37043, Date: 2024-06-07, Precip: 0.0\nDEBUG: Average precipitation: 0.0\nDEBUG: Processing multi-ZIP record with date 2024-06-06 and ZIPs ['32934', '32901', '32903', '32935', '32904', '32912', '32919', '32941']\nDEBUG: Found 5 matching precipitation records for this multi-ZIP accident\nDEBUG: Sample match - ZIP: 32934, Date: 2024-06-06, Precip: 0.0\nDEBUG: Sample match - ZIP: 32901, Date: 2024-06-06, Precip: 0.0\nDEBUG: Sample match - ZIP: 32903, Date: 2024-06-06, Precip: 0.0\nDEBUG: Average precipitation: 0.0\nDEBUG: Processing multi-ZIP record with date 2024-06-07 and ZIPs ['40245', '40242', '40241', '40218', '40219', '40214', '40216', '40211', '40213', '40059', '40291', '40299', '40220', '40223', '40222', '40229', '40228', '40023', '40272', '40207', '40209', '40258', '40118', '40018', '40027', '40225', '40261', '40268', '40269', '40281']\nDEBUG: Found 23 matching precipitation records for this multi-ZIP accident\nDEBUG: Sample match - ZIP: 40228, Date: 2024-06-07, Precip: 0.0\nDEBUG: Sample match - ZIP: 40242, Date: 2024-06-07, Precip: 0.0\nDEBUG: Sample match - ZIP: 40213, Date: 2024-06-07, Precip: 0.0\nDEBUG: Average precipitation: 0.0\nDEBUG: Processing multi-ZIP record with date 2024-05-14 and ZIPs ['28269', '28262', '28105', '28280', '28282', '28209', '28208', '28205', '28204', '28207', '28206', '28203', '28202', '28223', '28227', '28226', '28278', '28270', '28273', '28274', '28277', '28134', '28216', '28217', '28214', '28215', '28212', '28213', '28210', '28211', '28244', '28126', '28130', '28201', '28218', '28219', '28220', '28221', '28222', '28224', '28228', '28229', '28230', '28231', '28232', '28233', '28234', '28235', '28237', '28241', '28242', '28243', '28246', '28247', '28253', '28254', '28255', '28256', '28258', '28260', '28263', '28265', '28266', '28271', '28272', '28275', '28281', '28284', '28285', '28287', '28288', '28289', '28290', '28296', '28297', '28299']\nDEBUG: Found 31 matching precipitation records for this multi-ZIP accident\nDEBUG: Sample match - ZIP: 28227, Date: 2024-05-14, Precip: 8.897199630737305\nDEBUG: Sample match - ZIP: 28105, Date: 2024-05-14, Precip: 9.326399803161621\nDEBUG: Sample match - ZIP: 28216, Date: 2024-05-14, Precip: 10.36929988861084\nDEBUG: Average precipitation: 8.791019024387483\nDEBUG: Processing multi-ZIP record with date 2024-06-18 and ZIPs ['37862', '37876', '37764']\nDEBUG: Found 3 matching precipitation records for this multi-ZIP accident\nDEBUG: Sample match - ZIP: 37764, Date: 2024-06-18, Precip: 0.0\nDEBUG: Sample match - ZIP: 37862, Date: 2024-06-18, Precip: 6.166899681091309\nDEBUG: Sample match - ZIP: 37876, Date: 2024-06-18, Precip: 1.0613999366760254\nDEBUG: Average precipitation: 2.409433205922445\nDEBUG: Processing multi-ZIP record with date 2024-06-25 and ZIPs ['40245', '40242', '40241', '40218', '40219', '40214', '40216', '40211', '40213', '40059', '40291', '40299', '40220', '40223', '40222', '40229', '40228', '40023', '40272', '40207', '40209', '40258', '40118', '40018', '40027', '40225', '40261', '40268', '40269', '40281']\nDEBUG: Found 23 matching precipitation records for this multi-ZIP accident\nDEBUG: Sample match - ZIP: 40228, Date: 2024-06-25, Precip: 0.0\nDEBUG: Sample match - ZIP: 40242, Date: 2024-06-25, Precip: 0.0\nDEBUG: Sample match - ZIP: 40213, Date: 2024-06-25, Precip: 0.0\nDEBUG: Average precipitation: 0.0\nDEBUG: Processing multi-ZIP record with date 2024-06-25 and ZIPs ['19041', '19010']\nDEBUG: Found 2 matching precipitation records for this multi-ZIP accident\nDEBUG: Sample match - ZIP: 19041, Date: 2024-06-25, Precip: 0.0\nDEBUG: Sample match - ZIP: 19010, Date: 2024-06-25, Precip: 0.0\nDEBUG: Average precipitation: 0.0\nDEBUG: Processing multi-ZIP record with date 2024-05-30 and ZIPs ['28269', '28262', '28105', '28280', '28282', '28209', '28208', '28205', '28204', '28207', '28206', '28203', '28202', '28223', '28227', '28226', '28278', '28270', '28273', '28274', '28277', '28134', '28216', '28217', '28214', '28215', '28212', '28213', '28210', '28211', '28244', '28126', '28130', '28201', '28218', '28219', '28220', '28221', '28222', '28224', '28228', '28229', '28230', '28231', '28232', '28233', '28234', '28235', '28237', '28241', '28242', '28243', '28246', '28247', '28253', '28254', '28255', '28256', '28258', '28260', '28263', '28265', '28266', '28271', '28272', '28275', '28281', '28284', '28285', '28287', '28288', '28289', '28290', '28296', '28297', '28299']\nDEBUG: Found 31 matching precipitation records for this multi-ZIP accident\nDEBUG: Sample match - ZIP: 28227, Date: 2024-05-30, Precip: 0.0\nDEBUG: Sample match - ZIP: 28105, Date: 2024-05-30, Precip: 0.0\nDEBUG: Sample match - ZIP: 28216, Date: 2024-05-30, Precip: 0.0\nDEBUG: Average precipitation: 0.0\nDEBUG: Processing multi-ZIP record with date 2024-06-26 and ZIPs ['37027', '37138', '37076', '37072', '37205', '37080', '37218', '37219', '37216', '37217', '37214', '37215', '37212', '37213', '37210', '37211', '37189', '37232', '37238', '37209', '37208', '37204', '37207', '37206', '37201', '37203', '37115', '37013', '37228', '37221', '37220', '37143', '37011', '37116', '\n\n*** WARNING: max output size exceeded, skipping output. ***\n\n7427', '27429', '27435', '27438', '27495', '27497', '27498', '27499']\nDEBUG: Found 13 matching precipitation records for this multi-ZIP accident\nDEBUG: Sample match - ZIP: 27408, Date: 2024-09-18, Precip: 13.356999397277832\nDEBUG: Sample match - ZIP: 27407, Date: 2024-09-18, Precip: 5.404200077056885\nDEBUG: Sample match - ZIP: 27412, Date: 2024-09-18, Precip: 14.290800094604492\nDEBUG: Average precipitation: 19.846999351794903\nDEBUG: Processing multi-ZIP record with date 2024-09-23 and ZIPs ['28269', '28262', '28105', '28280', '28282', '28209', '28208', '28205', '28204', '28207', '28206', '28203', '28202', '28223', '28227', '28226', '28278', '28270', '28273', '28274', '28277', '28134', '28216', '28217', '28214', '28215', '28212', '28213', '28210', '28211', '28244', '28126', '28130', '28201', '28218', '28219', '28220', '28221', '28222', '28224', '28228', '28229', '28230', '28231', '28232', '28233', '28234', '28235', '28237', '28241', '28242', '28243', '28246', '28247', '28253', '28254', '28255', '28256', '28258', '28260', '28263', '28265', '28266', '28271', '28272', '28275', '28281', '28284', '28285', '28287', '28288', '28289', '28290', '28296', '28297', '28299']\nDEBUG: Found 31 matching precipitation records for this multi-ZIP accident\nDEBUG: Sample match - ZIP: 28227, Date: 2024-09-23, Precip: 0.0\nDEBUG: Sample match - ZIP: 28105, Date: 2024-09-23, Precip: 0.0\nDEBUG: Sample match - ZIP: 28216, Date: 2024-09-23, Precip: 0.0\nDEBUG: Average precipitation: 0.0\nDEBUG: Processing multi-ZIP record with date 2024-09-25 and ZIPs ['32909', '32908', '32905', '32907', '32976', '32902', '32906', '32910', '32911']\nDEBUG: Found 5 matching precipitation records for this multi-ZIP accident\nDEBUG: Sample match - ZIP: 32907, Date: 2024-09-25, Precip: 0.10499999672174454\nDEBUG: Sample match - ZIP: 32976, Date: 2024-09-25, Precip: 0.0\nDEBUG: Sample match - ZIP: 32908, Date: 2024-09-25, Precip: 0.22369998693466187\nDEBUG: Average precipitation: 0.10909999459981919\nDEBUG: Processing multi-ZIP record with date 2024-09-26 and ZIPs ['08544', '08540', '08542', '08541']\nDEBUG: Found 3 matching precipitation records for this multi-ZIP accident\nDEBUG: Sample match - ZIP: 08542, Date: 2024-09-26, Precip: 1.072700023651123\nDEBUG: Sample match - ZIP: 08540, Date: 2024-09-26, Precip: 1.072700023651123\nDEBUG: Sample match - ZIP: 08544, Date: 2024-09-26, Precip: 1.9578999280929565\nDEBUG: Average precipitation: 1.3677666584650676\nDEBUG: Processing multi-ZIP record with date 2024-09-27 and ZIPs ['19094', '19022', '19033', '19081']\nDEBUG: Found 4 matching precipitation records for this multi-ZIP accident\nDEBUG: Sample match - ZIP: 19094, Date: 2024-09-27, Precip: 0.0\nDEBUG: Sample match - ZIP: 19022, Date: 2024-09-27, Precip: 0.0\nDEBUG: Sample match - ZIP: 19033, Date: 2024-09-27, Precip: 0.0\nDEBUG: Average precipitation: 0.010924999602138996\nDEBUG: Processing multi-ZIP record with date 2024-09-24 and ZIPs ['38120', '38127', '38126', '38107', '38106', '38105', '38104', '38103', '38109', '38108', '38152', '38132', '38141', '38112', '38114', '38111', '38113', '38115', '38116', '38117', '38118', '38119', '38018', '38016', '38133', '38131', '38134', '38128', '38122', '38125', '37501', '37544', '38088', '38101', '38124', '38130', '38136', '38137', '38145', '38148', '38150', '38151', '38157', '38159', '38161', '38163', '38166', '38168', '38173', '38174', '38175', '38177', '38181', '38182', '38184', '38186', '38187', '38188', '38190', '38193', '38194', '38197']\nDEBUG: Found 30 matching precipitation records for this multi-ZIP accident\nDEBUG: Sample match - ZIP: 38109, Date: 2024-09-24, Precip: 0.046299997717142105\nDEBUG: Sample match - ZIP: 38106, Date: 2024-09-24, Precip: 0.032899998128414154\nDEBUG: Sample match - ZIP: 38114, Date: 2024-09-24, Precip: 0.26510000228881836\nDEBUG: Average precipitation: 1.9095366224646568\nDEBUG: Processing multi-ZIP record with date 2024-10-03 and ZIPs ['37415', '37416', '37410', '37411', '37419', '37409', '37421', '37408', '37403', '37402', '37407', '37405', '37406', '37404', '37343', '37450', '37351', '37401', '37414', '37424']\nDEBUG: Found 17 matching precipitation records for this multi-ZIP accident\nDEBUG: Sample match - ZIP: 37415, Date: 2024-10-03, Precip: 0.0\nDEBUG: Sample match - ZIP: 37343, Date: 2024-10-03, Precip: 0.0\nDEBUG: Sample match - ZIP: 37450, Date: 2024-10-03, Precip: 0.0\nDEBUG: Average precipitation: 0.0\nDEBUG: Processing multi-ZIP record with date 2024-10-04 and ZIPs ['38571', '38555']\nDEBUG: Found 2 matching precipitation records for this multi-ZIP accident\nDEBUG: Sample match - ZIP: 38571, Date: 2024-10-04, Precip: 0.0\nDEBUG: Sample match - ZIP: 38555, Date: 2024-10-04, Precip: 0.0\nDEBUG: Average precipitation: 0.0\nDEBUG: Processing multi-ZIP record with date 2024-09-19 and ZIPs ['37862', '37876', '37764']\nDEBUG: Found 3 matching precipitation records for this multi-ZIP accident\nDEBUG: Sample match - ZIP: 37764, Date: 2024-09-19, Precip: 0.0\nDEBUG: Sample match - ZIP: 37862, Date: 2024-09-19, Precip: 0.0\nDEBUG: Sample match - ZIP: 37876, Date: 2024-09-19, Precip: 0.0\nDEBUG: Average precipitation: 0.0\nDEBUG: Processing multi-ZIP record with date 2024-10-16 and ZIPs ['28150', '28152', '28151']\nDEBUG: Found 2 matching precipitation records for this multi-ZIP accident\nDEBUG: Sample match - ZIP: 28150, Date: 2024-10-16, Precip: 0.0\nDEBUG: Sample match - ZIP: 28152, Date: 2024-10-16, Precip: 0.0\nDEBUG: Average precipitation: 0.0\nDEBUG: Processing multi-ZIP record with date 2024-10-16 and ZIPs ['43062', '43073']\nDEBUG: Found 1 matching precipitation records for this multi-ZIP accident\nDEBUG: Sample match - ZIP: 43062, Date: 2024-10-16, Precip: 1.8317999839782715\nDEBUG: Average precipitation: 1.8317999839782715\nDEBUG: Processing multi-ZIP record with date 2024-10-17 and ZIPs ['19096', '19003']\nDEBUG: Found 2 matching precipitation records for this multi-ZIP accident\nDEBUG: Sample match - ZIP: 19096, Date: 2024-10-17, Precip: 0.0\nDEBUG: Sample match - ZIP: 19003, Date: 2024-10-17, Precip: 0.0\nDEBUG: Average precipitation: 0.0\nDEBUG: Processing multi-ZIP record with date 2024-10-18 and ZIPs ['53706', '53704', '53705', '53703', '53714', '53726', '53792', '53719', '53718', '53715', '53717', '53716', '53711', '53713', '53701', '53702', '53707', '53708', '53725', '53774', '53777', '53782', '53783', '53784', '53785', '53786', '53788', '53790', '53793', '53794']\nDEBUG: Found 14 matching precipitation records for this multi-ZIP accident\nDEBUG: Sample match - ZIP: 53718, Date: 2024-10-18, Precip: 0.0\nDEBUG: Sample match - ZIP: 53715, Date: 2024-10-18, Precip: 0.0\nDEBUG: Sample match - ZIP: 53705, Date: 2024-10-18, Precip: 0.0\nDEBUG: Average precipitation: 0.0\nDEBUG: Processing multi-ZIP record with date 2024-10-17 and ZIPs ['40526', '40509', '40504', '40502', '40503', '40508', '40505', '40507', '40517', '40536', '40513', '40511', '40510', '40516', '40515', '40514', '40506', '40512', '40522', '40523', '40524', '40533', '40544', '40546', '40550', '40555', '40574', '40575', '40576', '40577', '40578', '40579', '40580', '40581', '40582', '40583', '40588', '40591', '40598']\nDEBUG: Found 16 matching precipitation records for this multi-ZIP accident\nDEBUG: Sample match - ZIP: 40510, Date: 2024-10-17, Precip: 0.0\nDEBUG: Sample match - ZIP: 40516, Date: 2024-10-17, Precip: 0.0\nDEBUG: Sample match - ZIP: 40505, Date: 2024-10-17, Precip: 0.0\nDEBUG: Average precipitation: 0.0\nDEBUG: Processing multi-ZIP record with date 2024-10-21 and ZIPs ['34994', '34996', '34957']\nDEBUG: Found 3 matching precipitation records for this multi-ZIP accident\nDEBUG: Sample match - ZIP: 34957, Date: 2024-10-21, Precip: 7.425999641418457\nDEBUG: Sample match - ZIP: 34994, Date: 2024-10-21, Precip: 5.385799884796143\nDEBUG: Sample match - ZIP: 34996, Date: 2024-10-21, Precip: 5.2581000328063965\nDEBUG: Average precipitation: 6.023299853006999\nDEBUG: Processing multi-ZIP record with date 2024-10-25 and ZIPs ['29801', '29803', '29802']\nDEBUG: Found 2 matching precipitation records for this multi-ZIP accident\nDEBUG: Sample match - ZIP: 29803, Date: 2024-10-25, Precip: 0.0\nDEBUG: Sample match - ZIP: 29801, Date: 2024-10-25, Precip: 0.0\nDEBUG: Average precipitation: 0.0\nDEBUG: Processing multi-ZIP record with date 2024-10-25 and ZIPs ['29203', '29207', '29205', '29208', '29209', '29225', '29212', '29210', '29201', '29206', '29204', '29202', '29214', '29215', '29216', '29217', '29218', '29220', '29224', '29226', '29240', '29250']\nDEBUG: Found 11 matching precipitation records for this multi-ZIP accident\nDEBUG: Sample match - ZIP: 29208, Date: 2024-10-25, Precip: 0.0\nDEBUG: Sample match - ZIP: 29204, Date: 2024-10-25, Precip: 0.0\nDEBUG: Sample match - ZIP: 29225, Date: 2024-10-25, Precip: 0.0\nDEBUG: Average precipitation: 0.0\nDEBUG: Processing multi-ZIP record with date 2024-11-18 and ZIPs ['30334', '30331', '30332', '30309', '30308', '30354', '30327', '30322', '30326', '30324', '30319', '30342', '30305', '30307', '30306', '30316', '30317', '30314', '30315', '30312', '30313', '30310', '30311', '30303', '30363', '30318', '30301', '30302', '30304', '30321', '30325', '30333', '30343', '30348', '30353', '30355', '30357', '30361', '30368', '30369', '30370', '30371', '30375', '30377', '30392', '30394', '30398', '31106', '31107', '31126', '31139', '31141', '31193']\nDEBUG: Found 26 matching precipitation records for this multi-ZIP accident\nDEBUG: Sample match - ZIP: 30314, Date: 2024-11-18, Precip: 0.0\nDEBUG: Sample match - ZIP: 30316, Date: 2024-11-18, Precip: 0.0\nDEBUG: Sample match - ZIP: 30310, Date: 2024-11-18, Precip: 0.0\nDEBUG: Average precipitation: 0.0\nDEBUG: Processing multi-ZIP record with date 2024-11-18 and ZIPs ['30268', '30213']\nDEBUG: Found 2 matching precipitation records for this multi-ZIP accident\nDEBUG: Sample match - ZIP: 30213, Date: 2024-11-18, Precip: 0.0\nDEBUG: Sample match - ZIP: 30268, Date: 2024-11-18, Precip: 0.0\nDEBUG: Average precipitation: 0.0\nDEBUG: Processing multi-ZIP record with date 2024-11-21 and ZIPs ['40245', '40242', '40241', '40218', '40219', '40214', '40216', '40211', '40213', '40059', '40291', '40299', '40220', '40223', '40222', '40229', '40228', '40023', '40272', '40207', '40209', '40258', '40118', '40018', '40027', '40225', '40261', '40268', '40269', '40281']\nDEBUG: Found 23 matching precipitation records for this multi-ZIP accident\nDEBUG: Sample match - ZIP: 40228, Date: 2024-11-21, Precip: 0.0\nDEBUG: Sample match - ZIP: 40242, Date: 2024-11-21, Precip: 0.007699999958276749\nDEBUG: Sample match - ZIP: 40213, Date: 2024-11-21, Precip: 0.0\nDEBUG: Average precipitation: 0.008230434892618137\nDEBUG: Processing multi-ZIP record with date 2024-11-21 and ZIPs ['37027', '37138', '37076', '37072', '37205', '37080', '37218', '37219', '37216', '37217', '37214', '37215', '37212', '37213', '37210', '37211', '37189', '37232', '37238', '37209', '37208', '37204', '37207', '37206', '37201', '37203', '37115', '37013', '37228', '37221', '37220', '37143', '37011', '37116', '37202', '37222', '37224', '37227', '37229', '37230', '37234', '37235', '37236', '37240', '37241', '37242', '37243', '37244', '37246', '37250']\nDEBUG: Found 32 matching precipitation records for this multi-ZIP accident\nDEBUG: Sample match - ZIP: 37143, Date: 2024-11-21, Precip: 0.0\nDEBUG: Sample match - ZIP: 37013, Date: 2024-11-21, Precip: 0.0\nDEBUG: Sample match - ZIP: 37204, Date: 2024-11-21, Precip: 0.0\nDEBUG: Average precipitation: 0.0\nDEBUG: Processing multi-ZIP record with date 2024-11-25 and ZIPs ['72359', '72335']\nDEBUG: Found 2 matching precipitation records for this multi-ZIP accident\nDEBUG: Sample match - ZIP: 72335, Date: 2024-11-25, Precip: 0.0\nDEBUG: Sample match - ZIP: 72359, Date: 2024-11-25, Precip: 0.0\nDEBUG: Average precipitation: 0.0\nDEBUG: Processing multi-ZIP record with date 2024-12-03 and ZIPs ['30182', '30110']\nDEBUG: Found 2 matching precipitation records for this multi-ZIP accident\nDEBUG: Sample match - ZIP: 30110, Date: 2024-12-03, Precip: 0.0\nDEBUG: Sample match - ZIP: 30182, Date: 2024-12-03, Precip: 0.0\nDEBUG: Average precipitation: 0.0\nDEBUG: Processing multi-ZIP record with date 2024-12-17 and ZIPs ['72704', '72703', '72701', '72702']\nDEBUG: Found 3 matching precipitation records for this multi-ZIP accident\nDEBUG: Sample match - ZIP: 72701, Date: 2024-12-17, Precip: 10.457599639892578\nDEBUG: Sample match - ZIP: 72703, Date: 2024-12-17, Precip: 7.9178996086120605\nDEBUG: Sample match - ZIP: 72704, Date: 2024-12-17, Precip: 10.952199935913086\nDEBUG: Average precipitation: 9.775899728139242\nDEBUG: Processing multi-ZIP record with date 2024-12-10 and ZIPs ['40526', '40509', '40504', '40502', '40503', '40508', '40505', '40507', '40517', '40536', '40513', '40511', '40510', '40516', '40515', '40514', '40506', '40512', '40522', '40523', '40524', '40533', '40544', '40546', '40550', '40555', '40574', '40575', '40576', '40577', '40578', '40579', '40580', '40581', '40582', '40583', '40588', '40591', '40598']\nDEBUG: Found 16 matching precipitation records for this multi-ZIP accident\nDEBUG: Sample match - ZIP: 40510, Date: 2024-12-10, Precip: 0.0\nDEBUG: Sample match - ZIP: 40516, Date: 2024-12-10, Precip: 0.0\nDEBUG: Sample match - ZIP: 40505, Date: 2024-12-10, Precip: 0.3456999957561493\nDEBUG: Average precipitation: 0.21163124404847622\nDEBUG: Processing multi-ZIP record with date 2024-12-17 and ZIPs ['37027', '37138', '37076', '37072', '37205', '37080', '37218', '37219', '37216', '37217', '37214', '37215', '37212', '37213', '37210', '37211', '37189', '37232', '37238', '37209', '37208', '37204', '37207', '37206', '37201', '37203', '37115', '37013', '37228', '37221', '37220', '37143', '37011', '37116', '37202', '37222', '37224', '37227', '37229', '37230', '37234', '37235', '37236', '37240', '37241', '37242', '37243', '37244', '37246', '37250']\nDEBUG: Found 32 matching precipitation records for this multi-ZIP accident\nDEBUG: Sample match - ZIP: 37143, Date: 2024-12-17, Precip: 21.799699783325195\nDEBUG: Sample match - ZIP: 37013, Date: 2024-12-17, Precip: 24.63640022277832\nDEBUG: Sample match - ZIP: 37204, Date: 2024-12-17, Precip: 22.238800048828125\nDEBUG: Average precipitation: 21.672483950853348\nDEBUG: Processing multi-ZIP record with date 2024-12-10 and ZIPs ['28806', '28805', '28804', '28803', '28801', '28776', '28810', '28814', '28815', '28816']\nDEBUG: Found 5 matching precipitation records for this multi-ZIP accident\nDEBUG: Sample match - ZIP: 28803, Date: 2024-12-10, Precip: 0.2222999930381775\nDEBUG: Sample match - ZIP: 28804, Date: 2024-12-10, Precip: 0.460099995136261\nDEBUG: Sample match - ZIP: 28806, Date: 2024-12-10, Precip: 0.6473000049591064\nDEBUG: Average precipitation: 0.5004999876022339\nDEBUG: Processing multi-ZIP record with date 2024-12-16 and ZIPs ['38651', '38671', '38672']\nDEBUG: Found 3 matching precipitation records for this multi-ZIP accident\nDEBUG: Sample match - ZIP: 38651, Date: 2024-12-16, Precip: 9.790199279785156\nDEBUG: Sample match - ZIP: 38671, Date: 2024-12-16, Precip: 8.88290023803711\nDEBUG: Sample match - ZIP: 38672, Date: 2024-12-16, Precip: 8.403200149536133\nDEBUG: Average precipitation: 9.025433222452799\nDEBUG: Processing multi-ZIP record with date 2024-12-30 and ZIPs ['38120', '38127', '38126', '38107', '38106', '38105', '38104', '38103', '38109', '38108', '38152', '38132', '38141', '38112', '38114', '38111', '38113', '38115', '38116', '38117', '38118', '38119', '38018', '38016', '38133', '38131', '38134', '38128', '38122', '38125', '37501', '37544', '38088', '38101', '38124', '38130', '38136', '38137', '38145', '38148', '38150', '38151', '38157', '38159', '38161', '38163', '38166', '38168', '38173', '38174', '38175', '38177', '38181', '38182', '38184', '38186', '38187', '38188', '38190', '38193', '38194', '38197']\nDEBUG: Found 30 matching precipitation records for this multi-ZIP accident\nDEBUG: Sample match - ZIP: 38109, Date: 2024-12-30, Precip: 0.6541999578475952\nDEBUG: Sample match - ZIP: 38106, Date: 2024-12-30, Precip: 0.7398999929428101\nDEBUG: Sample match - ZIP: 38114, Date: 2024-12-30, Precip: 0.762499988079071\nDEBUG: Average precipitation: 0.8596166431903839\nDEBUG: Processing multi-ZIP record with date 2024-12-02 and ZIPs ['40526', '40509', '40504', '40502', '40503', '40508', '40505', '40507', '40517', '40536', '40513', '40511', '40510', '40516', '40515', '40514', '40506', '40512', '40522', '40523', '40524', '40533', '40544', '40546', '40550', '40555', '40574', '40575', '40576', '40577', '40578', '40579', '40580', '40581', '40582', '40583', '40588', '40591', '40598']\nDEBUG: Found 16 matching precipitation records for this multi-ZIP accident\nDEBUG: Sample match - ZIP: 40510, Date: 2024-12-02, Precip: 0.0\nDEBUG: Sample match - ZIP: 40516, Date: 2024-12-02, Precip: 0.0\nDEBUG: Sample match - ZIP: 40505, Date: 2024-12-02, Precip: 0.0\nDEBUG: Average precipitation: 0.0\nDEBUG: Processing multi-ZIP record with date 2024-03-11 and ZIPs ['72758', '72756', '72716', '72757']\nDEBUG: Found 2 matching precipitation records for this multi-ZIP accident\nDEBUG: Sample match - ZIP: 72758, Date: 2024-03-11, Precip: 0.0\nDEBUG: Sample match - ZIP: 72756, Date: 2024-03-11, Precip: 0.0\nDEBUG: Average precipitation: 0.0\nDEBUG: Processing multi-ZIP record with date 2024-03-19 and ZIPs ['40245', '40242', '40241', '40218', '40219', '40214', '40216', '40211', '40213', '40059', '40291', '40299', '40220', '40223', '40222', '40229', '40228', '40023', '40272', '40207', '40209', '40258', '40118', '40018', '40027', '40225', '40261', '40268', '40269', '40281']\nDEBUG: Found 23 matching precipitation records for this multi-ZIP accident\nDEBUG: Sample match - ZIP: 40228, Date: 2024-03-19, Precip: 0.0\nDEBUG: Sample match - ZIP: 40242, Date: 2024-03-19, Precip: 0.0\nDEBUG: Sample match - ZIP: 40213, Date: 2024-03-19, Precip: 0.0\nDEBUG: Average precipitation: 0.0\nDEBUG: Processing multi-ZIP record with date 2024-04-01 and ZIPs ['37027', '37138', '37076', '37072', '37205', '37080', '37218', '37219', '37216', '37217', '37214', '37215', '37212', '37213', '37210', '37211', '37189', '37232', '37238', '37209', '37208', '37204', '37207', '37206', '37201', '37203', '37115', '37013', '37228', '37221', '37220', '37143', '37011', '37116', '37202', '37222', '37224', '37227', '37229', '37230', '37234', '37235', '37236', '37240', '37241', '37242', '37243', '37244', '37246', '37250']\nDEBUG: Found 32 matching precipitation records for this multi-ZIP accident\nDEBUG: Sample match - ZIP: 37143, Date: 2024-04-01, Precip: 0.0\nDEBUG: Sample match - ZIP: 37013, Date: 2024-04-01, Precip: 0.0\nDEBUG: Sample match - ZIP: 37204, Date: 2024-04-01, Precip: 0.0\nDEBUG: Average precipitation: 0.0\nDEBUG: Processing multi-ZIP record with date 2024-04-03 and ZIPs ['78550', '78552', '78551', '78553']\nDEBUG: Found 2 matching precipitation records for this multi-ZIP accident\nDEBUG: Sample match - ZIP: 78552, Date: 2024-04-03, Precip: 0.0\nDEBUG: Sample match - ZIP: 78550, Date: 2024-04-03, Precip: 0.0\nDEBUG: Average precipitation: 0.0\nDEBUG: Processing multi-ZIP record with date 2024-04-11 and ZIPs ['37027', '37138', '37076', '37072', '37205', '37080', '37218', '37219', '37216', '37217', '37214', '37215', '37212', '37213', '37210', '37211', '37189', '37232', '37238', '37209', '37208', '37204', '37207', '37206', '37201', '37203', '37115', '37013', '37228', '37221', '37220', '37143', '37011', '37116', '37202', '37222', '37224', '37227', '37229', '37230', '37234', '37235', '37236', '37240', '37241', '37242', '37243', '37244', '37246', '37250']\nDEBUG: Found 32 matching precipitation records for this multi-ZIP accident\nDEBUG: Sample match - ZIP: 37143, Date: 2024-04-11, Precip: 8.78499984741211\nDEBUG: Sample match - ZIP: 37013, Date: 2024-04-11, Precip: 5.376100063323975\nDEBUG: Sample match - ZIP: 37204, Date: 2024-04-11, Precip: 7.191199779510498\nDEBUG: Average precipitation: 7.337749853730202\nDEBUG: Processing multi-ZIP record with date 2024-02-23 and ZIPs ['30912', '30815', '30812', '30907', '30906', '30904', '30909', '30905', '30901', '30805', '30903', '30914', '30916', '30917', '30919', '30999']\nDEBUG: Found 10 matching precipitation records for this multi-ZIP accident\nDEBUG: Sample match - ZIP: 30912, Date: 2024-02-23, Precip: 0.0\nDEBUG: Sample match - ZIP: 30907, Date: 2024-02-23, Precip: 0.0\nDEBUG: Sample match - ZIP: 30906, Date: 2024-02-23, Precip: 0.0\nDEBUG: Average precipitation: 0.07476999852806329\nDEBUG: Processing multi-ZIP record with date 2024-02-26 and ZIPs ['40245', '40242', '40241', '40218', '40219', '40214', '40216', '40211', '40213', '40059', '40291', '40299', '40220', '40223', '40222', '40229', '40228', '40023', '40272', '40207', '40209', '40258', '40118', '40018', '40027', '40225', '40261', '40268', '40269', '40281']\nDEBUG: Found 23 matching precipitation records for this multi-ZIP accident\nDEBUG: Sample match - ZIP: 40228, Date: 2024-02-26, Precip: 0.9396999478340149\nDEBUG: Sample match - ZIP: 40242, Date: 2024-02-26, Precip: 0.4927999973297119\nDEBUG: Sample match - ZIP: 40213, Date: 2024-02-26, Precip: 0.8331999778747559\nDEBUG: Average precipitation: 0.7271086832751399\nDEBUG: Processing multi-ZIP record with date 2024-03-15 and ZIPs ['72211', '72210', '72212', '72223', '72227', '72209', '72202', '72201', '72206', '72207', '72204', '72205', '72103', '72215', '72217', '72219', '72222', '72225', '72231', '72255', '72260', '72295']\nDEBUG: Found 13 matching precipitation records for this multi-ZIP accident\nDEBUG: Sample match - ZIP: 72207, Date: 2024-03-15, Precip: 62.732696533203125\nDEBUG: Sample match - ZIP: 72212, Date: 2024-03-15, Precip: 73.63639831542969\nDEBUG: Sample match - ZIP: 72206, Date: 2024-03-15, Precip: 76.2874984741211\nDEBUG: Average precipitation: 69.7401134784405\nDEBUG: Processing multi-ZIP record with date 2024-04-15 and ZIPs ['19154', '19151', '19150', '19153', '19152', '19102', '19103', '19106', '19107', '19104', '19108', '19109', '19128', '19129', '19120', '19121', '19122', '19123', '19124', '19125', '19126', '19127', '19112', '19111', '19115', '19114', '19116', '19119', '19118', '19148', '19149', '19146', '19147', '19144', '19145', '19142', '19143', '19140', '19141', '19139', '19138', '19137', '19136', '19135', '19134', '19133', '19132', '19131', '19130', '19019', '19092', '19093', '19099', '19101', '19105', '19110', '19155', '19160', '19161', '19162', '19170', '19171', '19172', '19173', '19175', '19176', '19177', '19178', '19179', '19181', '19182', '19183', '19184', '19185', '19187', '19188', '19190', '19191', '19192', '19193', '19194', '19195', '19196', '19197', '19244', '19255']\nDEBUG: Found 49 matching precipitation records for this multi-ZIP accident\nDEBUG: Sample match - ZIP: 19143, Date: 2024-04-15, Precip: 1.2072999477386475\nDEBUG: Sample match - ZIP: 19123, Date: 2024-04-15, Precip: 1.1129000186920166\nDEBUG: Sample match - ZIP: 19116, Date: 2024-04-15, Precip: 2.3459999561309814\nDEBUG: Average precipitation: 1.3822979185045983\nDEBUG: Processing multi-ZIP record with date 2024-04-16 and ZIPs ['53706', '53704', '53705', '53703', '53714', '53726', '53792', '53719', '53718', '53715', '53717', '53716', '53711', '53713', '53701', '53702', '53707', '53708', '53725', '53774', '53777', '53782', '53783', '53784', '53785', '53786', '53788', '53790', '53793', '53794']\nDEBUG: Found 14 matching precipitation records for this multi-ZIP accident\nDEBUG: Sample match - ZIP: 53718, Date: 2024-04-16, Precip: 0.0\nDEBUG: Sample match - ZIP: 53715, Date: 2024-04-16, Precip: 0.0\nDEBUG: Sample match - ZIP: 53705, Date: 2024-04-16, Precip: 0.0\nDEBUG: Average precipitation: 0.0\nDEBUG: Processing multi-ZIP record with date 2024-04-18 and ZIPs ['37069', '37064', '37067', '37065', '37068']\nDEBUG: Found 3 matching precipitation records for this multi-ZIP accident\nDEBUG: Sample match - ZIP: 37069, Date: 2024-04-18, Precip: 0.901199996471405\nDEBUG: Sample match - ZIP: 37064, Date: 2024-04-18, Precip: 1.4850999116897583\nDEBUG: Sample match - ZIP: 37067, Date: 2024-04-18, Precip: 1.1937999725341797\nDEBUG: Average precipitation: 1.1933666268984477\nDEBUG: Processing multi-ZIP record with date 2024-04-19 and ZIPs ['37069', '37064', '37067', '37065', '37068']\nDEBUG: Found 3 matching precipitation records for this multi-ZIP accident\nDEBUG: Sample match - ZIP: 37069, Date: 2024-04-19, Precip: 2.183300018310547\nDEBUG: Sample match - ZIP: 37064, Date: 2024-04-19, Precip: 3.859499931335449\nDEBUG: Sample match - ZIP: 37067, Date: 2024-04-19, Precip: 2.1440000534057617\nDEBUG: Average precipitation: 2.728933334350586\nDEBUG: Multi-ZIP results shape: (75, 48)\nDEBUG: Final merged data shape: (241, 50)\nDEBUG: Final missing precipitation values: 7\nRESULTS SUMMARY:\nTotal accident records: 241\nRecords with precipitation data: 234 (97.10%)\nRecords missing precipitation data: 7 (2.90%)\n\nSample of successful matches:\nDate: 2024-05-07 | Multiple ZIPs: nan | Precipitation: 8.50\nDate: 2024-05-16 | Multiple ZIPs: nan | Precipitation: 8.28\nDate: 2024-05-18 | Multiple ZIPs: nan | Precipitation: 0.00\nDate: 2024-05-02 | Multiple ZIPs: nan | Precipitation: 0.00\nDate: 2024-05-22 | Multiple ZIPs: nan | Precipitation: 0.00\n"
     ]
    }
   ],
   "source": [
    "merged_data = map_precipitation_to_accidents(df_precipitation_2024, accidents_pd_2024)"
   ]
  },
  {
   "cell_type": "code",
   "execution_count": 0,
   "metadata": {
    "application/vnd.databricks.v1+cell": {
     "cellMetadata": {
      "byteLimit": 2048000,
      "rowLimit": 10000
     },
     "inputWidgets": {},
     "nuid": "bced1d9a-abcb-4ab5-8080-531c0e90f30e",
     "showTitle": false,
     "tableResultSettingsMap": {},
     "title": ""
    }
   },
   "outputs": [],
   "source": [
    "# Display some summary statistics\n",
    "def analyze_precipitation_accidents(merged_data):\n",
    "    # Calculate average precipitation on accident days\n",
    "    avg_precip = merged_data[\"precipitation\"].mean()\n",
    "    \n",
    "    # Count accidents that occurred on rainy days\n",
    "    rainy_day_accidents = merged_data[merged_data[\"precipitation\"] > 0].shape[0]\n",
    "    total_accidents = merged_data.shape[0]\n",
    "    rainy_day_percentage = (rainy_day_accidents / total_accidents) * 100 if total_accidents > 0 else 0\n",
    "    \n",
    "    # Group by precipitation ranges\n",
    "    precip_ranges = [0, 0.1, 0.5, 1, 5, float('inf')]\n",
    "    precip_labels = ['No rain', 'Light (0-0.1)', 'Moderate (0.1-0.5)', 'Heavy (0.5-1)', 'Extreme (>1)']\n",
    "    \n",
    "    merged_data['precip_category'] = pd.cut(\n",
    "        merged_data['precipitation'], \n",
    "        bins=precip_ranges, \n",
    "        labels=precip_labels, \n",
    "        right=False\n",
    "    )\n",
    "    \n",
    "    # Count accidents by precipitation category\n",
    "    accident_counts_by_precip = merged_data['precip_category'].value_counts().sort_index()\n",
    "    \n",
    "    # Severity analysis if the column exists\n",
    "    severity_by_precip = None\n",
    "    if 'Severity' in merged_data.columns:\n",
    "        severity_by_precip = merged_data.groupby('precip_category')['Severity'].value_counts()\n",
    "    \n",
    "    return {\n",
    "        'average_precipitation': avg_precip,\n",
    "        'rainy_day_accidents': rainy_day_accidents,\n",
    "        'rainy_day_percentage': rainy_day_percentage,\n",
    "        'accidents_by_precipitation': accident_counts_by_precip,\n",
    "        'severity_by_precipitation': severity_by_precip\n",
    "    }"
   ]
  },
  {
   "cell_type": "markdown",
   "metadata": {
    "application/vnd.databricks.v1+cell": {
     "cellMetadata": {},
     "inputWidgets": {},
     "nuid": "6e8b7c00-abc1-41f8-904c-9403298d46dd",
     "showTitle": false,
     "tableResultSettingsMap": {},
     "title": ""
    }
   },
   "source": [
    "Starting with precipitation data that had separate columns for each day, we first transformed it into a long format where each row contains a zip code, date, and the corresponding precipitation amount. For the accident data, we created a \"joining_zip\" column that  selects either the regular \"zip\" or \"dba_zip\" based on the \"dba_location\" value, and ensured proper date formatting. We then joined these datasets using composite keys - matching both the accident date with the precipitation date, and the joining_zip with the precipitation zip code. We preserved all accident records regardless of whether matching precipitation data existed. This approach ensures that each accident is accurately associated with the weather conditions at its specific location and time.  "
   ]
  },
  {
   "cell_type": "code",
   "execution_count": 0,
   "metadata": {
    "application/vnd.databricks.v1+cell": {
     "cellMetadata": {
      "byteLimit": 2048000,
      "rowLimit": 10000
     },
     "inputWidgets": {},
     "nuid": "22f2ba44-db59-40a0-9ed5-fd0213e49b18",
     "showTitle": false,
     "tableResultSettingsMap": {},
     "title": ""
    }
   },
   "outputs": [
    {
     "output_type": "stream",
     "name": "stdout",
     "output_type": "stream",
     "text": [
      "{'average_precipitation': 4.507265493146995, 'rainy_day_accidents': 112, 'rainy_day_percentage': 46.47302904564315, 'accidents_by_precipitation': precip_category\nNo rain               129\nLight (0-0.1)          14\nModerate (0.1-0.5)     14\nHeavy (0.5-1)          29\nExtreme (>1)           48\nName: count, dtype: int64, 'severity_by_precipitation': precip_category     Severity\nNo rain             sev3        106\n                    sev2         17\n                    sev1          3\nLight (0-0.1)       sev3          8\n                    sev2          5\n                    sev1          0\nModerate (0.1-0.5)  sev3         13\n                    sev2          1\n                    sev1          0\nHeavy (0.5-1)       sev3         22\n                    sev2          2\n                    sev1          1\nExtreme (>1)        sev3         39\n                    sev2          9\n                    sev1          0\nName: count, dtype: int64}\n"
     ]
    }
   ],
   "source": [
    "analysis_results = analyze_precipitation_accidents(merged_data)\n",
    "print(analysis_results)"
   ]
  }
 ],
 "metadata": {
  "application/vnd.databricks.v1+notebook": {
   "computePreferences": null,
   "dashboards": [],
   "environmentMetadata": {
    "base_environment": "",
    "environment_version": "2"
   },
   "language": "python",
   "notebookMetadata": {
    "pythonIndentUnit": 4
   },
   "notebookName": "mapping_external_location_data_to_accidents",
   "widgets": {}
  },
  "language_info": {
   "name": "python"
  }
 },
 "nbformat": 4,
 "nbformat_minor": 0
}