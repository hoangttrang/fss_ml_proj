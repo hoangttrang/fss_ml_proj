{
 "cells": [
  {
   "cell_type": "markdown",
   "metadata": {
    "application/vnd.databricks.v1+cell": {
     "cellMetadata": {},
     "inputWidgets": {},
     "nuid": "f22413b5-8bfa-4896-aec1-dc143fc7a96c",
     "showTitle": false,
     "tableResultSettingsMap": {},
     "title": ""
    }
   },
   "source": [
    "# Combining Accident Data "
   ]
  },
  {
   "cell_type": "code",
   "execution_count": 0,
   "metadata": {
    "application/vnd.databricks.v1+cell": {
     "cellMetadata": {
      "byteLimit": 2048000,
      "rowLimit": 10000
     },
     "inputWidgets": {},
     "nuid": "b5cef1da-4063-4d24-9fe2-ab969f8c5004",
     "showTitle": false,
     "tableResultSettingsMap": {},
     "title": ""
    }
   },
   "outputs": [
    {
     "data": {
      "application/vnd.databricks.v1+h3_hint": "",
      "text/plain": []
     },
     "metadata": {},
     "output_type": "display_data"
    }
   ],
   "source": [
    "from pyspark.sql import SparkSession\n",
    "from pyspark.sql.types import DoubleType, BooleanType\n",
    "from shapely.geometry import shape\n",
    "import geopandas as gpd\n",
    "import json\n",
    "import os\n",
    "import re\n",
    "\n",
    "from pyspark.sql.functions import col, format_string,length, expr, when, array, struct, udf, explode, split, array_intersect, size, lit, year, month, sum, count, collect_set,  radians, sin, cos, asin, sqrt, lit\n",
    "from pyspark.sql.types import ArrayType, StructType, StructField, StringType\n",
    "from functools import partial\n",
    "import pandas as pd\n",
    "import matplotlib.pyplot as plt\n",
    "import seaborn as sns\n",
    "from matplotlib.gridspec import GridSpec\n",
    "import numpy as np\n",
    "from pyspark.sql import functions as F\n",
    "from pyspark.sql.window import Window"
   ]
  },
  {
   "cell_type": "code",
   "execution_count": 0,
   "metadata": {
    "application/vnd.databricks.v1+cell": {
     "cellMetadata": {
      "byteLimit": 2048000,
      "rowLimit": 10000
     },
     "inputWidgets": {},
     "nuid": "3783cff7-d4fb-4b64-8e4b-c0a39612dbd3",
     "showTitle": false,
     "tableResultSettingsMap": {},
     "title": ""
    }
   },
   "outputs": [],
   "source": [
    "spark = SparkSession.builder.appName(\"Mapping Insurance Data to Accidents\").getOrCreate()"
   ]
  },
  {
   "cell_type": "code",
   "execution_count": 0,
   "metadata": {
    "application/vnd.databricks.v1+cell": {
     "cellMetadata": {
      "byteLimit": 2048000,
      "rowLimit": 10000
     },
     "inputWidgets": {},
     "nuid": "5ae5dc0e-4a98-41dc-ae41-05dadd3d9c09",
     "showTitle": false,
     "tableResultSettingsMap": {},
     "title": ""
    }
   },
   "outputs": [],
   "source": [
    "registered_accidents = spark.read.csv(\"/FileStore/tables/accident_register_combined_driverid.csv\", header=True, inferSchema=True)"
   ]
  },
  {
   "cell_type": "code",
   "execution_count": 0,
   "metadata": {
    "application/vnd.databricks.v1+cell": {
     "cellMetadata": {
      "byteLimit": 2048000,
      "rowLimit": 10000
     },
     "inputWidgets": {},
     "nuid": "95ff259a-6b6f-4f80-9898-0c8271f5a59a",
     "showTitle": false,
     "tableResultSettingsMap": {},
     "title": ""
    }
   },
   "outputs": [],
   "source": [
    "# Read in data \n",
    "claims_df = spark.read.csv(\"/FileStore/tables/monthly_claims_insurance_driverid.csv\", header=True, inferSchema=True)"
   ]
  },
  {
   "cell_type": "code",
   "execution_count": 0,
   "metadata": {
    "application/vnd.databricks.v1+cell": {
     "cellMetadata": {
      "byteLimit": 2048000,
      "rowLimit": 10000
     },
     "inputWidgets": {},
     "nuid": "d8ec8775-d724-4ede-9147-967669df2c37",
     "showTitle": false,
     "tableResultSettingsMap": {},
     "title": ""
    }
   },
   "outputs": [],
   "source": [
    "\n",
    "# FIlter our rows of registered accidentd where 'Date Reported' and 'Date of Accident' are null\n",
    "registered_accidents = registered_accidents.filter(registered_accidents['Date Reported'].isNotNull() | registered_accidents['Date of Accident'].isNotNull())\n",
    "\n",
    "# FIlter our rows of claims df where loss date and reported date are null \n",
    "claims_df = claims_df.filter(claims_df['Loss Date'].isNotNull() | claims_df['Reported Date'].isNotNull())"
   ]
  },
  {
   "cell_type": "code",
   "execution_count": 0,
   "metadata": {
    "application/vnd.databricks.v1+cell": {
     "cellMetadata": {
      "byteLimit": 2048000,
      "rowLimit": 10000
     },
     "inputWidgets": {},
     "nuid": "ff7842ef-feec-4d3f-9778-62a4ff2bcff2",
     "showTitle": false,
     "tableResultSettingsMap": {},
     "title": ""
    }
   },
   "outputs": [],
   "source": [
    "# For claims_df: Use 'Loss Date' when possible, otherwise 'Reported Date'\n",
    "claims_df = claims_df.withColumn(\n",
    "    \"Date\", \n",
    "    F.when(F.col(\"Loss Date\").isNotNull(), F.col(\"Loss Date\"))\n",
    "     .otherwise(F.col(\"Reported Date\"))\n",
    ")"
   ]
  },
  {
   "cell_type": "code",
   "execution_count": 0,
   "metadata": {
    "application/vnd.databricks.v1+cell": {
     "cellMetadata": {
      "byteLimit": 2048000,
      "rowLimit": 10000
     },
     "inputWidgets": {},
     "nuid": "f38d30df-20ff-411c-9ac6-dd663e48d3f3",
     "showTitle": false,
     "tableResultSettingsMap": {},
     "title": ""
    }
   },
   "outputs": [],
   "source": [
    "# Make a final column Date that uses the value of 'Date of Accident' and if that is not null, if that is null use Date Reported\n",
    "# Create a new Date column that prioritizes 'Date of Accident' and falls back to 'Date Reported'\n",
    "registered_accidents = registered_accidents.withColumn(\n",
    "    \"Date\", \n",
    "    F.when(F.col(\"Date of Accident\").isNotNull(), F.col(\"Date of Accident\"))\n",
    "     .otherwise(F.col(\"Date Reported\"))\n",
    ")"
   ]
  },
  {
   "cell_type": "code",
   "execution_count": 0,
   "metadata": {
    "application/vnd.databricks.v1+cell": {
     "cellMetadata": {
      "byteLimit": 2048000,
      "rowLimit": 10000
     },
     "inputWidgets": {},
     "nuid": "97a4fed9-1854-48e8-a600-30e893116377",
     "showTitle": false,
     "tableResultSettingsMap": {},
     "title": ""
    }
   },
   "outputs": [],
   "source": [
    "# Create subset of claims_df with common columns\n",
    "claims_subset = claims_df.select(\n",
    "    \"driver_id\", \n",
    "    \"Claim Number\", \n",
    "    \"insured_driver_name\", \n",
    "    \"insured_first_name\", \n",
    "    \"insured_last_name\", \n",
    "    \"driver_first_name\", \n",
    "    \"driver_last_name\",\n",
    "    \"Date\",\n",
    "    \"year\"\n",
    ")\n",
    "\n",
    "# Create subset of registered_accidents with common columns\n",
    "accidents_subset = registered_accidents.select(\n",
    "    \"driver_id\", \n",
    "    \"Claim Number\", \n",
    "    \"insured_driver_name\", \n",
    "    \"insured_first_name\", \n",
    "    \"insured_last_name\", \n",
    "    \"driver_first_name\", \n",
    "    \"driver_last_name\",\n",
    "    \"Date\",\n",
    "    \"Year\"\n",
    ")"
   ]
  },
  {
   "cell_type": "code",
   "execution_count": 0,
   "metadata": {
    "application/vnd.databricks.v1+cell": {
     "cellMetadata": {
      "byteLimit": 2048000,
      "rowLimit": 10000
     },
     "inputWidgets": {},
     "nuid": "bbb6f4bb-250e-4635-bd67-21bbc827d029",
     "showTitle": false,
     "tableResultSettingsMap": {},
     "title": ""
    }
   },
   "outputs": [],
   "source": [
    "# Make sure column names match exactly (Year/year)\n",
    "claims_subset = claims_subset.withColumnRenamed(\"year\", \"Year\")\n",
    "\n",
    "# Combine the two dataframes\n",
    "combined_df = claims_subset.union(accidents_subset)"
   ]
  },
  {
   "cell_type": "code",
   "execution_count": 0,
   "metadata": {
    "application/vnd.databricks.v1+cell": {
     "cellMetadata": {
      "byteLimit": 2048000,
      "rowLimit": 10000
     },
     "inputWidgets": {},
     "nuid": "885762d5-bc3e-4b81-8e15-734dc1dac5b4",
     "showTitle": false,
     "tableResultSettingsMap": {},
     "title": ""
    }
   },
   "outputs": [
    {
     "name": "stdout",
     "output_type": "stream",
     "text": [
      "Number of duplicate key combinations: 91\n",
      "+---------+------------------+-------------------+----------------+\n",
      "|driver_id|      Claim Number|               Date|occurrence_count|\n",
      "+---------+------------------+-------------------+----------------+\n",
      "|  4447484|              NULL|2024-09-12 13:40:00|               4|\n",
      "|  4794313|              NULL|2024-06-17 00:00:00|               4|\n",
      "|  4447484|              NULL|2024-05-02 11:15:00|               4|\n",
      "|  4447484|              NULL|2025-01-29 00:00:00|               4|\n",
      "|  4794313|              NULL|2024-12-19 13:58:15|               4|\n",
      "|  4447484|              NULL|2024-06-27 10:27:00|               4|\n",
      "|  4794313|              NULL|2024-07-11 15:32:07|               4|\n",
      "|  4794313|              NULL|2025-03-06 00:00:00|               4|\n",
      "|  4183324|              NULL|2024-12-13 17:00:00|               3|\n",
      "|  4036831|09 PC 000000338613|2024-02-08 00:00:00|               3|\n",
      "+---------+------------------+-------------------+----------------+\n",
      "only showing top 10 rows\n",
      "\n"
     ]
    }
   ],
   "source": [
    "# Group by the key columns and count occurrences\n",
    "duplicate_check = combined_df.groupBy(\"driver_id\", \"Claim Number\", \"Date\") \\\n",
    "    .agg(F.count(\"*\").alias(\"occurrence_count\")) \\\n",
    "    .filter(F.col(\"occurrence_count\") > 1) \\\n",
    "    .orderBy(F.col(\"occurrence_count\").desc())\n",
    "\n",
    "# Show the duplicate records\n",
    "print(\"Number of duplicate key combinations:\", duplicate_check.count())\n",
    "duplicate_check.show(10)"
   ]
  },
  {
   "cell_type": "code",
   "execution_count": 0,
   "metadata": {
    "application/vnd.databricks.v1+cell": {
     "cellMetadata": {
      "byteLimit": 2048000,
      "rowLimit": 10000
     },
     "inputWidgets": {},
     "nuid": "bd4f4f86-7113-4a43-bc4c-1ebe2c43a651",
     "showTitle": false,
     "tableResultSettingsMap": {},
     "title": ""
    }
   },
   "outputs": [],
   "source": [
    "# To see the actual duplicate records\n",
    "if duplicate_check.count() > 0:\n",
    "    # Get the keys of duplicate records\n",
    "    duplicate_keys = duplicate_check.select(\"driver_id\", \"Claim Number\", \"Date\")\n",
    "    \n",
    "    # Join back to get full duplicate records\n",
    "    duplicate_records = combined_df.join(\n",
    "        duplicate_keys,\n",
    "        on=[\"driver_id\", \"Claim Number\", \"Date\"],\n",
    "        how=\"inner\"\n",
    "    )\n",
    "    \n",
    "    # Show the full duplicate records\n",
    "    print(\"Sample of duplicate records:\")\n",
    "    duplicate_records.show(10)"
   ]
  },
  {
   "cell_type": "code",
   "execution_count": 0,
   "metadata": {
    "application/vnd.databricks.v1+cell": {
     "cellMetadata": {
      "byteLimit": 2048000,
      "rowLimit": 10000
     },
     "inputWidgets": {},
     "nuid": "c0935623-e93e-4af4-9f8d-97b1498bdd46",
     "showTitle": false,
     "tableResultSettingsMap": {},
     "title": ""
    }
   },
   "outputs": [
    {
     "data": {
      "text/plain": [
       "27"
      ]
     },
     "execution_count": 39,
     "metadata": {},
     "output_type": "execute_result"
    }
   ],
   "source": [
    "duplicate_records.count()"
   ]
  },
  {
   "cell_type": "code",
   "execution_count": 0,
   "metadata": {
    "application/vnd.databricks.v1+cell": {
     "cellMetadata": {
      "byteLimit": 2048000,
      "rowLimit": 10000
     },
     "inputWidgets": {},
     "nuid": "9f1e5bdf-bd87-4f73-9955-0c7042d1eae2",
     "showTitle": false,
     "tableResultSettingsMap": {},
     "title": ""
    }
   },
   "outputs": [
    {
     "name": "stdout",
     "output_type": "stream",
     "text": [
      "Original combined dataframe row count: 591\n",
      "Unique dataframe row count: 469\n",
      "Number of duplicates removed: 122\n"
     ]
    }
   ],
   "source": [
    "# Remove duplicates by keeping only the first occurrence\n",
    "unique_df = combined_df.dropDuplicates([\"driver_id\", \"Claim Number\", \"Date\"])\n",
    "\n",
    "# Verify the result\n",
    "print(f\"Original combined dataframe row count: {combined_df.count()}\")\n",
    "print(f\"Unique dataframe row count: {unique_df.count()}\")\n",
    "print(f\"Number of duplicates removed: {combined_df.count() - unique_df.count()}\")"
   ]
  },
  {
   "cell_type": "code",
   "execution_count": 0,
   "metadata": {
    "application/vnd.databricks.v1+cell": {
     "cellMetadata": {
      "byteLimit": 2048000,
      "rowLimit": 10000
     },
     "inputWidgets": {},
     "nuid": "db249389-56b1-4fed-af71-670bd4f213a8",
     "showTitle": false,
     "tableResultSettingsMap": {},
     "title": ""
    }
   },
   "outputs": [
    {
     "name": "stdout",
     "output_type": "stream",
     "text": [
      "Number of non-standard dates remaining: 0\n"
     ]
    }
   ],
   "source": [
    "# Remove rows where driver_id is null\n",
    "unique_df = unique_df.filter(F.col(\"driver_id\").isNotNull())\n",
    "\n",
    "# Remove Claim Number Column\n",
    "unique_df = unique_df.drop(\"Claim Number\")\n",
    "\n",
    "\n",
    "from pyspark.sql import functions as F\n",
    "from pyspark.sql.types import TimestampType\n",
    "\n",
    "# Function to standardize date formats\n",
    "def standardize_dates(df):\n",
    "    # First, convert any timestamp columns to string in YYYY-MM-DD format\n",
    "    if df.schema[\"Date\"].dataType == TimestampType():\n",
    "        df = df.withColumn(\"Date\", F.date_format(\"Date\", \"yyyy-MM-dd\"))\n",
    "    \n",
    "    # Then handle various string formats\n",
    "    return df.withColumn(\n",
    "        \"Date\",\n",
    "        F.when(\n",
    "            # Match pattern like \"1/13/2025\"\n",
    "            F.regexp_extract(F.col(\"Date\"), \"^(\\\\d{1,2})/(\\\\d{1,2})/(\\\\d{4})$\", 0) != \"\",\n",
    "            # Convert to YYYY-MM-DD\n",
    "            F.date_format(F.to_date(F.col(\"Date\"), \"M/d/yyyy\"), \"yyyy-MM-dd\")\n",
    "        ).when(\n",
    "            # Match pattern like \"2024-12-31 16:22:37\"\n",
    "            F.regexp_extract(F.col(\"Date\"), \"^(\\\\d{4})-(\\\\d{1,2})-(\\\\d{1,2}).+$\", 0) != \"\",\n",
    "            # Extract just the date part\n",
    "            F.regexp_extract(F.col(\"Date\"), \"^(\\\\d{4}-\\\\d{1,2}-\\\\d{1,2})\", 1)\n",
    "        ).otherwise(F.col(\"Date\"))\n",
    "    )\n",
    "\n",
    "# Apply to our combined dataframe\n",
    "unique_df = standardize_dates(unique_df)\n",
    "\n",
    "# Verify the results\n",
    "\n",
    "# Check if there are any non-standard formats left\n",
    "non_standard = unique_df.filter(~F.regexp_extract(F.col(\"Date\"), \"^\\\\d{4}-\\\\d{1,2}-\\\\d{1,2}$\", 0).rlike(\"^\\\\d{4}-\\\\d{1,2}-\\\\d{1,2}$\"))\n",
    "print(f\"Number of non-standard dates remaining: {non_standard.count()}\")\n",
    "\n",
    "if non_standard.count() > 0:\n",
    "    print(\"Sample of remaining non-standard dates:\")\n",
    "    non_standard.select(\"Date\").distinct().show(10)"
   ]
  },
  {
   "cell_type": "code",
   "execution_count": 0,
   "metadata": {
    "application/vnd.databricks.v1+cell": {
     "cellMetadata": {},
     "inputWidgets": {},
     "nuid": "b244d819-85a7-455a-8db8-dd5017981232",
     "showTitle": false,
     "tableResultSettingsMap": {},
     "title": ""
    }
   },
   "outputs": [],
   "source": [
    "# Check for driver id and date duplicates \n",
    "driver_id_date_duplicates = unique_df.groupBy(\"driver_id\", \"Date\") "
   ]
  },
  {
   "cell_type": "code",
   "execution_count": 0,
   "metadata": {
    "application/vnd.databricks.v1+cell": {
     "cellMetadata": {
      "byteLimit": 2048000,
      "rowLimit": 10000
     },
     "inputWidgets": {},
     "nuid": "291ed123-c29f-44bc-91bd-406c4501b8e0",
     "showTitle": false,
     "tableResultSettingsMap": {},
     "title": ""
    }
   },
   "outputs": [],
   "source": [
    "# Check for driver_id and Date duplicates\n",
    "driver_id_date_duplicates = unique_df.groupBy(\"driver_id\", \"Date\") \\\n",
    "    .agg(F.count(\"*\").alias(\"occurrence_count\")) \\\n",
    "    .filter(F.col(\"occurrence_count\") > 1)\n",
    "\n",
    "# Show the duplicate records\n",
    "print(\"Number of driver_id and Date duplicates:\", driver_id_date_duplicates.count())\n",
    "\n",
    "if driver_id_date_duplicates.count() > 0:\n",
    "    print(\"Sample of driver_id and Date duplicates:\")\n",
    "    driver_id_date_duplicates.show(10)\n",
    "    \n",
    "    # Get the duplicate keys\n",
    "    duplicate_keys = driver_id_date_duplicates.select(\"driver_id\", \"Date\")\n",
    "    \n",
    "    # Join back to see the full duplicate records\n",
    "    full_duplicates = unique_df.join(\n",
    "        duplicate_keys,\n",
    "        on=[\"driver_id\", \"Date\"],\n",
    "        how=\"inner\"\n",
    "    )\n",
    "    \n",
    "    print(\"Sample of full duplicate records:\")\n",
    "    full_duplicates.show(10)\n",
    "\n",
    "# Remove duplicates by keeping only one row per driver_id and Date\n",
    "# We'll keep the first occurrence \n",
    "final_df = unique_df.dropDuplicates([\"driver_id\", \"Date\"])\n",
    "\n",
    "# Verify the result\n",
    "print(f\"Original unique dataframe row count: {unique_df.count()}\")\n",
    "print(f\"Final dataframe row count: {final_df.count()}\")\n",
    "print(f\"Number of duplicates removed: {unique_df.count() - final_df.count()}\")\n",
    "\n",
    "# Show sample of the final da"
   ]
  },
  {
   "cell_type": "code",
   "execution_count": 0,
   "metadata": {
    "application/vnd.databricks.v1+cell": {
     "cellMetadata": {
      "byteLimit": 2048000,
      "rowLimit": 10000
     },
     "inputWidgets": {},
     "nuid": "e00679cc-6b94-4b47-af95-984f27347328",
     "showTitle": false,
     "tableResultSettingsMap": {},
     "title": ""
    }
   },
   "outputs": [
    {
     "data": {
      "text/html": [
       "<style scoped>\n",
       "  .table-result-container {\n",
       "    max-height: 300px;\n",
       "    overflow: auto;\n",
       "  }\n",
       "  table, th, td {\n",
       "    border: 1px solid black;\n",
       "    border-collapse: collapse;\n",
       "  }\n",
       "  th, td {\n",
       "    padding: 5px;\n",
       "  }\n",
       "  th {\n",
       "    text-align: left;\n",
       "  }\n",
       "</style><div class='table-result-container'><table class='table-result'><thead style='background-color: white'><tr><th>driver_id</th><th>insured_driver_name</th><th>insured_first_name</th><th>insured_last_name</th><th>driver_first_name</th><th>driver_last_name</th><th>Date</th><th>Year</th></tr></thead><tbody><tr><td>67876</td><td>Kent Lucas</td><td>Kent</td><td>Lucas</td><td>Kent</td><td>Lucas</td><td>2023-07-29</td><td>2023</td></tr><tr><td>67876</td><td>Kent Lucas</td><td>Kent</td><td>Lucas</td><td>Kent</td><td>Lucas</td><td>2023-08-16</td><td>2023</td></tr><tr><td>3601228</td><td>Derrick Benjamin</td><td>Derrick</td><td>Benjamin</td><td>Derrick</td><td>Benjamin</td><td>2024-08-02</td><td>2024</td></tr><tr><td>3601235</td><td>Patrick Cortlessa</td><td>Patrick</td><td>Cortlessa</td><td>Patrick</td><td>Cortlessa</td><td>2023-06-06</td><td>2023</td></tr><tr><td>3601235</td><td>Patrick Cortlessa</td><td>Patrick</td><td>Cortlessa</td><td>Patrick</td><td>Cortlessa</td><td>2023-10-17</td><td>2023</td></tr><tr><td>3601235</td><td>Patrick Cortlessa</td><td>Patrick</td><td>Cortlessa</td><td>Patrick</td><td>Cortlessa</td><td>2025-02-04</td><td>2025</td></tr><tr><td>3602920</td><td>Mike Brown</td><td>Mike</td><td>Brown</td><td>Michael</td><td>Brown</td><td>2024-05-21</td><td>2024</td></tr><tr><td>3602920</td><td>Michael Brown</td><td>Michael</td><td>Brown</td><td>Michael</td><td>Brown</td><td>2024-06-09</td><td>2024</td></tr><tr><td>3602923</td><td>Romero Perez</td><td>Romero</td><td>Perez</td><td>Romero</td><td>Perez</td><td>2024-04-15</td><td>2024</td></tr><tr><td>3606675</td><td>Neal Fisher</td><td>Neal</td><td>Fisher</td><td>Neal</td><td>Fisher</td><td>2023-08-29</td><td>2023</td></tr><tr><td>3606675</td><td>Neal Fisher</td><td>Neal</td><td>Fisher</td><td>Neal</td><td>Fisher</td><td>2023-10-31</td><td>2023</td></tr><tr><td>3606721</td><td>Dalton Lightner</td><td>Dalton</td><td>Lightner</td><td>Dalton</td><td>lightner</td><td>2024-01-16</td><td>2023</td></tr><tr><td>3749440</td><td>Cody Lawson</td><td>Cody</td><td>Lawson</td><td>Cody</td><td>Lawson</td><td>2023-08-25</td><td>2023</td></tr><tr><td>3749440</td><td>Cody Lawson</td><td>Cody</td><td>Lawson</td><td>Cody</td><td>Lawson</td><td>2023-11-19</td><td>2023</td></tr><tr><td>3757108</td><td>Matthew Price</td><td>Matthew</td><td>Price</td><td>Mathew</td><td>Price</td><td>2023-09-05</td><td>2023</td></tr><tr><td>3757108</td><td>Matthew Price</td><td>Matthew</td><td>Price</td><td>Mathew</td><td>Price</td><td>2023-09-06</td><td>2023</td></tr><tr><td>3769164</td><td>Andrew Munekata</td><td>Andrew</td><td>Munekata</td><td>Andrew</td><td>Munekata</td><td>2024-10-23</td><td>2024</td></tr><tr><td>3771669</td><td>Greg Bradshaw</td><td>Greg</td><td>Bradshaw</td><td>Greg</td><td>Bradshaw</td><td>2024-09-19</td><td>2024</td></tr><tr><td>3771669</td><td>Gregory Bradshaw</td><td>Gregory</td><td>Bradshaw</td><td>Greg</td><td>Bradshaw</td><td>2025-01-09</td><td>2025</td></tr><tr><td>3773186</td><td>\"Charles \"\"Todd\"\" Simmons\"</td><td>Charles</td><td>Todd</td><td>Charles</td><td>Simmons</td><td>2024-02-21</td><td>2024</td></tr><tr><td>3773505</td><td>Brandon Heatherly</td><td>Brandon</td><td>Heatherly</td><td>Brandon</td><td>Heatherly</td><td>2024-11-13</td><td>2024</td></tr><tr><td>3795588</td><td>Brandon Allen</td><td>Brandon</td><td>Allen</td><td>Brandon</td><td>Allen</td><td>2024-09-05</td><td>2024</td></tr><tr><td>3795626</td><td>Bradley Chandler</td><td>Bradley</td><td>Chandler</td><td>Bradley</td><td>Chandler</td><td>2024-06-13</td><td>2024</td></tr><tr><td>3795636</td><td>Timothy Morrow</td><td>Timothy</td><td>Morrow</td><td>Tim</td><td>Morrow</td><td>2024-12-26</td><td>2024</td></tr><tr><td>3796847</td><td>Jaime Conner</td><td>Jaime</td><td>Conner</td><td>Jamie</td><td>Conner</td><td>2024-06-24</td><td>2024</td></tr><tr><td>3797175</td><td>Mike Dewitt</td><td>Mike</td><td>Dewitt</td><td>Mike</td><td>Dewitt</td><td>2024-04-10</td><td>2023</td></tr><tr><td>3797887</td><td>Victoria Harron</td><td>Victoria</td><td>Harron</td><td>Victoria</td><td>Harrin</td><td>2024-09-17</td><td>2024</td></tr><tr><td>3797887</td><td>Victoria Harrin</td><td>Victoria</td><td>Harrin</td><td>Victoria</td><td>Harrin</td><td>2024-09-20</td><td>2024</td></tr><tr><td>3797900</td><td>Lee Jordan</td><td>Lee</td><td>Jordan</td><td>Lee</td><td>Jordan</td><td>2023-05-02</td><td>2023</td></tr><tr><td>3797900</td><td>Lee Jordan</td><td>Lee</td><td>Jordan</td><td>Lee</td><td>Jordan</td><td>2023-08-29</td><td>2023</td></tr><tr><td>3797917</td><td>Jerry Parker</td><td>Jerry</td><td>Parker</td><td>Jerry</td><td>Parker</td><td>2025-01-02</td><td>2025</td></tr><tr><td>3797977</td><td>William Shugart</td><td>William</td><td>Shugart</td><td>William</td><td>Shugart</td><td>2024-09-17</td><td>2024</td></tr><tr><td>3797977</td><td>William Shugart</td><td>William</td><td>Shugart</td><td>William</td><td>Shugart</td><td>2025-01-28</td><td>2025</td></tr><tr><td>3798033</td><td>William Huskey</td><td>William</td><td>Huskey</td><td>William</td><td>Huskey</td><td>2024-07-31</td><td>2024</td></tr><tr><td>3799191</td><td>PERRY HAYNES</td><td>PERRY</td><td>HAYNES</td><td>Perry</td><td>Haynes</td><td>2024-10-17</td><td>2024</td></tr><tr><td>3805017</td><td>Steve Sanford</td><td>Steve</td><td>Sanford</td><td>Steve</td><td>Sanford</td><td>2025-02-11</td><td>2025</td></tr><tr><td>3805025</td><td>Larry Toler</td><td>Larry</td><td>Toler</td><td>Larry</td><td>Toler</td><td>2024-05-24</td><td>2024</td></tr><tr><td>3805163</td><td>Greg Wilcher</td><td>Greg</td><td>Wilcher</td><td>Greg</td><td>Wilcher</td><td>2024-07-31</td><td>2024</td></tr><tr><td>3809234</td><td>William Snawder</td><td>William</td><td>Snawder</td><td>Jason</td><td>Snawder</td><td>2023-06-07</td><td>2023</td></tr><tr><td>3809234</td><td>William Snawder</td><td>William</td><td>Snawder</td><td>Jason</td><td>Snawder</td><td>2023-09-19</td><td>2023</td></tr><tr><td>3810647</td><td>Jason Smith</td><td>Jason</td><td>Smith</td><td>Jason</td><td>Smith</td><td>2024-11-07</td><td>2024</td></tr><tr><td>3810669</td><td>James Tillmon</td><td>James</td><td>Tillmon</td><td>James</td><td>Tillmon</td><td>2025-03-06</td><td>2025</td></tr><tr><td>3811926</td><td>David Ellis</td><td>David</td><td>Ellis</td><td>David</td><td>Ellis</td><td>2024-07-29</td><td>2024</td></tr><tr><td>3811930</td><td>Billy Weaver</td><td>Billy</td><td>Weaver</td><td>Billy</td><td>Weaver</td><td>2024-02-07</td><td>2023</td></tr><tr><td>3848262</td><td>Jason Mays</td><td>Jason</td><td>Mays</td><td>Jason</td><td>Mays</td><td>2024-02-12</td><td>2023</td></tr><tr><td>3848268</td><td>Clay Hutchinson</td><td>Clay</td><td>Hutchinson</td><td>Clay</td><td>Hutchinson</td><td>2024-04-01</td><td>2024</td></tr><tr><td>3848306</td><td>Bob Crabbe</td><td>Bob</td><td>Crabbe</td><td>Bob</td><td>Crabbe</td><td>2024-02-21</td><td>2024</td></tr><tr><td>3862017</td><td>Jerry Alderson</td><td>Jerry</td><td>Alderson</td><td>Jerry</td><td>Alderson</td><td>2023-11-09</td><td>2023</td></tr><tr><td>3862017</td><td>Jerry Alderson</td><td>Jerry</td><td>Alderson</td><td>Jerry</td><td>Alderson</td><td>2023-12-11</td><td>2023</td></tr><tr><td>3862219</td><td>James Stout</td><td>James</td><td>Stout</td><td>James</td><td>Stout</td><td>2023-08-21</td><td>2023</td></tr><tr><td>3862219</td><td>James Stout</td><td>James</td><td>Stout</td><td>James</td><td>Stout</td><td>2023-11-09</td><td>2023</td></tr><tr><td>3868337</td><td>Doug Waymer</td><td>Doug</td><td>Waymer</td><td>Doug</td><td>Waymer</td><td>2024-08-05</td><td>2024</td></tr><tr><td>3868337</td><td>Doug Waymer</td><td>Doug</td><td>Waymer</td><td>Doug</td><td>Waymer</td><td>2024-10-25</td><td>2024</td></tr><tr><td>3875670</td><td>Chris Maye</td><td>Chris</td><td>Maye</td><td>Chris</td><td>Maye</td><td>2024-07-17</td><td>2024</td></tr><tr><td>3875670</td><td>Chris Maye</td><td>Chris</td><td>Maye</td><td>Chris</td><td>Maye</td><td>2025-02-25</td><td>2025</td></tr><tr><td>3895392</td><td>Tony Bella</td><td>Tony</td><td>Bella</td><td>Tony</td><td>Bella</td><td>2024-03-22</td><td>2024</td></tr><tr><td>3895392</td><td>Tony Bella</td><td>Tony</td><td>Bella</td><td>Tony</td><td>Bella</td><td>2025-02-13</td><td>2025</td></tr><tr><td>3895405</td><td>Devon Bailey</td><td>Devon</td><td>Bailey</td><td>Devon</td><td>Bailey</td><td>2024-05-24</td><td>2024</td></tr><tr><td>3895405</td><td>Devon Bailey</td><td>Devon</td><td>Bailey</td><td>Devon</td><td>Bailey</td><td>2024-06-07</td><td>2024</td></tr><tr><td>3895405</td><td>Devon Bailey</td><td>Devon</td><td>Bailey</td><td>Devon</td><td>Bailey</td><td>2025-03-03</td><td>2025</td></tr><tr><td>3904680</td><td>Braun Pruitt</td><td>Braun</td><td>Pruitt</td><td>Braun</td><td>Pruitt</td><td>2023-04-14</td><td>2023</td></tr><tr><td>3904680</td><td>Braun Pruitt</td><td>Braun</td><td>Pruitt</td><td>Braun</td><td>Pruitt</td><td>2023-11-17</td><td>2023</td></tr><tr><td>3904736</td><td>Willie Burns Jr.</td><td>Willie</td><td>Burns</td><td>Willie</td><td>Burns Jr.</td><td>2023-05-08</td><td>2023</td></tr><tr><td>3904736</td><td>Willie Burns Jr.</td><td>Willie</td><td>Burns</td><td>Willie</td><td>Burns Jr.</td><td>2023-12-11</td><td>2023</td></tr><tr><td>3904840</td><td>Jacob Martin</td><td>Jacob</td><td>Martin</td><td>Jacob</td><td>Martin</td><td>2025-02-19</td><td>2025</td></tr><tr><td>3905270</td><td>Nate Gardenhire</td><td>Nate</td><td>Gardenhire</td><td>Napoleon</td><td>Gardenhire</td><td>2024-09-24</td><td>2024</td></tr><tr><td>3905562</td><td>Anthony Johnson</td><td>Anthony</td><td>Johnson</td><td>Anthony</td><td>Johnson</td><td>2025-01-09</td><td>2025</td></tr><tr><td>3906271</td><td>Josh Wolfe</td><td>Josh</td><td>Wolfe</td><td>Josh</td><td>Wolfe</td><td>2023-03-21</td><td>2023</td></tr><tr><td>3906271</td><td>Josh Wolfe</td><td>Josh</td><td>Wolfe</td><td>Josh</td><td>Wolfe</td><td>2023-11-19</td><td>2023</td></tr><tr><td>3906745</td><td>David Biggs</td><td>David</td><td>Biggs</td><td>David</td><td>Biggs</td><td>2025-01-28</td><td>2025</td></tr><tr><td>3919341</td><td>Jeff Fork</td><td>Jeff</td><td>Fork</td><td>Jeffry</td><td>Fork</td><td>2024-08-09</td><td>2024</td></tr><tr><td>3919401</td><td>William Schafer</td><td>William</td><td>Schafer</td><td>William</td><td>Schafer</td><td>2024-05-28</td><td>2024</td></tr><tr><td>3920896</td><td>Kevin Smith</td><td>Kevin</td><td>Smith</td><td>Kevin</td><td>Smith</td><td>2024-12-27</td><td>2024</td></tr><tr><td>3920896</td><td>Kevin Smith</td><td>Kevin</td><td>Smith</td><td>Kevin</td><td>Smith</td><td>2025-02-18</td><td>2025</td></tr><tr><td>3925012</td><td>Pierre Nosewicz, Robert Georges</td><td>Pierre</td><td>Nosewicz,</td><td>Robert</td><td>Georges</td><td>2023-01-11</td><td>2023</td></tr><tr><td>3925012</td><td>Robert Georges</td><td>Robert</td><td>Georges</td><td>Robert</td><td>Georges</td><td>2023-10-31</td><td>2023</td></tr><tr><td>3926365</td><td>Jackie Valentine</td><td>Jackie</td><td>Valentine</td><td>JACKIE</td><td>VALENTINE</td><td>2023-05-16</td><td>2023</td></tr><tr><td>3926457</td><td>Tony Jones</td><td>Tony</td><td>Jones</td><td>Tony</td><td>Jones</td><td>2024-05-07</td><td>2024</td></tr><tr><td>3933126</td><td>Antonio Shells</td><td>Antonio</td><td>Shells</td><td>Antonio</td><td>Shells</td><td>2024-08-14</td><td>2024</td></tr><tr><td>3933445</td><td>Jerdarion Kennedy</td><td>Jerdarion</td><td>Kennedy</td><td>Jerdarian</td><td>Kennedy</td><td>2023-02-08</td><td>2023</td></tr><tr><td>3933445</td><td>Jerdarion Kennedy</td><td>Jerdarion</td><td>Kennedy</td><td>Jerdarian</td><td>Kennedy</td><td>2023-08-16</td><td>2023</td></tr><tr><td>3938726</td><td>Arther Rolle</td><td>Arther</td><td>Rolle</td><td>Arthur</td><td>rolle</td><td>2024-07-06</td><td>2024</td></tr><tr><td>3941827</td><td>Xavier Ellison</td><td>Xavier</td><td>Ellison</td><td>Xavier</td><td>Ellison</td><td>2024-01-30</td><td>2023</td></tr><tr><td>3941836</td><td>Jason Laurance</td><td>Jason</td><td>Laurance</td><td>Jason</td><td>Laurance</td><td>2024-12-10</td><td>2025</td></tr><tr><td>3941837</td><td>Lee Allen Meyers</td><td>Lee</td><td>Allen</td><td>Lee</td><td>Meyers</td><td>2024-01-26</td><td>2024</td></tr><tr><td>3941837</td><td>Lee Meyers</td><td>Lee</td><td>Meyers</td><td>Lee</td><td>Meyers</td><td>2024-09-25</td><td>2024</td></tr><tr><td>3941840</td><td>Antoine Alexander</td><td>Antoine</td><td>Alexander</td><td>Antonio</td><td>Alexander</td><td>2024-05-06</td><td>2024</td></tr><tr><td>3941840</td><td>Antoine Alexander</td><td>Antoine</td><td>Alexander</td><td>Antonio</td><td>Alexander</td><td>2024-10-25</td><td>2024</td></tr><tr><td>3941935</td><td>Travis Kelly</td><td>Travis</td><td>Kelly</td><td>Travis</td><td>Kelly</td><td>2023-03-30</td><td>2023</td></tr><tr><td>3941935</td><td>Travis Kelly</td><td>Travis</td><td>Kelly</td><td>Travis</td><td>Kelly</td><td>2023-05-24</td><td>2023</td></tr><tr><td>3941935</td><td>Travis Kelly</td><td>Travis</td><td>Kelly</td><td>Travis</td><td>Kelly</td><td>2023-08-09</td><td>2023</td></tr><tr><td>3941935</td><td>Travis Kelly</td><td>Travis</td><td>Kelly</td><td>Travis</td><td>Kelly</td><td>2023-12-27</td><td>2023</td></tr><tr><td>3951635</td><td>Howard Lee Salters</td><td>Howard</td><td>Lee</td><td>Howard</td><td>Salters</td><td>2023-03-28</td><td>2023</td></tr><tr><td>3951635</td><td>Howard Lee Salters</td><td>Howard</td><td>Lee</td><td>Howard</td><td>Salters</td><td>2023-10-12</td><td>2023</td></tr><tr><td>3951635</td><td>Howard Salters</td><td>Howard</td><td>Salters</td><td>Howard</td><td>Salters</td><td>2023-10-29</td><td>2023</td></tr><tr><td>3951635</td><td>Howard Salters</td><td>Howard</td><td>Salters</td><td>Howard</td><td>Salters</td><td>2024-12-10</td><td>2024</td></tr><tr><td>3955541</td><td>Jorge Ruiz-Santiago</td><td>Jorge</td><td>Ruiz-Santiago</td><td>Jorge</td><td>Ruiz</td><td>2023-03-04</td><td>2023</td></tr><tr><td>3955541</td><td>Jorge Ruiz-Santiago</td><td>Jorge</td><td>Ruiz-Santiago</td><td>Jorge</td><td>Ruiz</td><td>2023-12-02</td><td>2023</td></tr><tr><td>3980637</td><td>Kristopher Hack</td><td>Kristopher</td><td>Hack</td><td>Kristopher</td><td>Hack</td><td>2024-03-04</td><td>2024</td></tr><tr><td>3983645</td><td>Andy Diaz</td><td>Andy</td><td>Diaz</td><td>Andy</td><td>Diaz</td><td>2024-10-08</td><td>2024</td></tr><tr><td>4024350</td><td>Jeffrey Moline</td><td>Jeffrey</td><td>Moline</td><td>Jeffrey</td><td>Moline</td><td>2024-01-22</td><td>2023</td></tr><tr><td>4036809</td><td>James McGinnis</td><td>James</td><td>McGinnis</td><td>James</td><td>McGinnis</td><td>2024-12-11</td><td>2024</td></tr><tr><td>4036826</td><td>Anthony Nash</td><td>Anthony</td><td>Nash</td><td>Anthony</td><td>Nash</td><td>2024-12-10</td><td>2024</td></tr><tr><td>4036831</td><td>Larry McSwain</td><td>Larry</td><td>McSwain</td><td>Larry</td><td>Mcswain</td><td>2024-02-08</td><td>2023</td></tr><tr><td>4036831</td><td>Larry McSwain</td><td>Larry</td><td>McSwain</td><td>Larry</td><td>Mcswain</td><td>2024-03-27</td><td>2024</td></tr><tr><td>4036831</td><td>Larry McSwain</td><td>Larry</td><td>McSwain</td><td>Larry</td><td>Mcswain</td><td>2024-10-16</td><td>2024</td></tr><tr><td>4039698</td><td>Damon Wright</td><td>Damon</td><td>Wright</td><td>Damon</td><td>Wright</td><td>2024-09-18</td><td>2024</td></tr><tr><td>4039740</td><td>David Crawford</td><td>David</td><td>Crawford</td><td>David</td><td>Crawford</td><td>2024-01-31</td><td>2023</td></tr><tr><td>4039783</td><td>Jacob Todd</td><td>Jacob</td><td>Todd</td><td>Jacob</td><td>Todd</td><td>2024-08-07</td><td>2024</td></tr><tr><td>4041709</td><td>Shaun Huffman</td><td>Shaun</td><td>Huffman</td><td>Shaun</td><td>Huffman</td><td>2023-06-12</td><td>2023</td></tr><tr><td>4041709</td><td>Shaun Huffman</td><td>Shaun</td><td>Huffman</td><td>Shaun</td><td>Huffman</td><td>2023-09-01</td><td>2023</td></tr><tr><td>4052950</td><td>Gale Bluntschly</td><td>Gale</td><td>Bluntschly</td><td>Gale</td><td>Bluntschly</td><td>2023-01-26</td><td>2023</td></tr><tr><td>4052950</td><td>Gale Bluntschly</td><td>Gale</td><td>Bluntschly</td><td>Gale</td><td>Bluntschly</td><td>2023-10-31</td><td>2023</td></tr><tr><td>4064448</td><td>Justin Dunn</td><td>Justin</td><td>Dunn</td><td>Justin</td><td>Dunn</td><td>2024-06-05</td><td>2024</td></tr><tr><td>4064850</td><td>Ronnie Bradley</td><td>Ronnie</td><td>Bradley</td><td>Ronnie</td><td>Bradley</td><td>2024-10-02</td><td>2024</td></tr><tr><td>4064850</td><td>Ronnie Bradley</td><td>Ronnie</td><td>Bradley</td><td>Ronnie</td><td>Bradley</td><td>2024-11-05</td><td>2024</td></tr><tr><td>4064850</td><td>Ronnie Bradley</td><td>Ronnie</td><td>Bradley</td><td>Ronnie</td><td>Bradley</td><td>2024-11-12</td><td>2024</td></tr><tr><td>4064954</td><td>Joseph Orcutt</td><td>Joseph</td><td>Orcutt</td><td>Joseph</td><td>Orcutt</td><td>2024-06-25</td><td>2024</td></tr><tr><td>4064954</td><td>Joseph Orcutt</td><td>Joseph</td><td>Orcutt</td><td>Joseph</td><td>Orcutt</td><td>2024-07-01</td><td>2024</td></tr><tr><td>4064970</td><td>Eddie Hart</td><td>Eddie</td><td>Hart</td><td>Eddie</td><td>Hart</td><td>2024-01-11</td><td>2023</td></tr><tr><td>4064970</td><td>Edward Hart</td><td>Edward</td><td>Hart</td><td>Eddie</td><td>Hart</td><td>2024-04-29</td><td>2023</td></tr><tr><td>4064970</td><td>Edward Hart</td><td>Edward</td><td>Hart</td><td>Eddie</td><td>Hart</td><td>2024-05-01</td><td>2024</td></tr><tr><td>4094941</td><td>Rodney Jones, Jr</td><td>Rodney</td><td>Jones,</td><td>Rodney</td><td>Jones Jr</td><td>2024-05-14</td><td>2024</td></tr><tr><td>4098920</td><td>Javories Abraham</td><td>Javories</td><td>Abraham</td><td>Daryl</td><td>Abraham</td><td>2023-05-11</td><td>2023</td></tr><tr><td>4098920</td><td>Javories Abraham</td><td>Javories</td><td>Abraham</td><td>Daryl</td><td>Abraham</td><td>2023-10-12</td><td>2023</td></tr><tr><td>4105456</td><td>Tracy Newell</td><td>Tracy</td><td>Newell</td><td>Tracy</td><td>Newell</td><td>2023-09-09</td><td>2023</td></tr><tr><td>4105456</td><td>Tracy Newell</td><td>Tracy</td><td>Newell</td><td>Tracy</td><td>Newell</td><td>2023-09-16</td><td>2023</td></tr><tr><td>4107683</td><td>Jeff Meeks</td><td>Jeff</td><td>Meeks</td><td>Jeffery</td><td>Meeks</td><td>2024-03-15</td><td>2024</td></tr><tr><td>4108271</td><td>Matthew Perry</td><td>Matthew</td><td>Perry</td><td>Matthew</td><td>Perry</td><td>2023-09-19</td><td>2023</td></tr><tr><td>4108271</td><td>Matthew Perry</td><td>Matthew</td><td>Perry</td><td>Matthew</td><td>Perry</td><td>2023-12-02</td><td>2023</td></tr><tr><td>4132036</td><td>Geoffery Waddell</td><td>Geoffery</td><td>Waddell</td><td>Geoffery</td><td>Waddell</td><td>2024-05-16</td><td>2024</td></tr><tr><td>4134532</td><td>Willie Nolan</td><td>Willie</td><td>Nolan</td><td>willie</td><td>nolen</td><td>2023-02-15</td><td>2023</td></tr><tr><td>4134532</td><td>Willie Nolan</td><td>Willie</td><td>Nolan</td><td>willie</td><td>nolen</td><td>2023-06-12</td><td>2023</td></tr><tr><td>4172477</td><td>Roger Murphy</td><td>Roger</td><td>Murphy</td><td>Roger</td><td>Murphy</td><td>2024-02-26</td><td>2024</td></tr><tr><td>4178853</td><td>Anthony Easter</td><td>Anthony</td><td>Easter</td><td>Anthony</td><td>Easter</td><td>2023-11-30</td><td>2023</td></tr><tr><td>4183324</td><td>Malcolm Jackson</td><td>Malcolm</td><td>Jackson</td><td>Malcolm</td><td>Jackson</td><td>2024-02-23</td><td>2024</td></tr><tr><td>4183324</td><td>Malcolm Jackson</td><td>Malcolm</td><td>Jackson</td><td>Malcolm</td><td>Jackson</td><td>2024-12-13</td><td>2024</td></tr><tr><td>4183324</td><td>Malcolm Jackson</td><td>Malcolm</td><td>Jackson</td><td>Malcolm</td><td>Jackson</td><td>2025-02-06</td><td>2025</td></tr><tr><td>4225979</td><td>Nathan McCoy</td><td>Nathan</td><td>McCoy</td><td>Nathan</td><td>McCoy</td><td>2023-03-04</td><td>2023</td></tr><tr><td>4225979</td><td>Nathan McCoy</td><td>Nathan</td><td>McCoy</td><td>Nathan</td><td>McCoy</td><td>2023-10-05</td><td>2023</td></tr><tr><td>4236194</td><td>David Leverne Smith</td><td>David</td><td>Leverne</td><td>David</td><td>Leverne</td><td>2024-06-06</td><td>2024</td></tr><tr><td>4239023</td><td>Aaron Lawson</td><td>Aaron</td><td>Lawson</td><td>Antonio</td><td>Lawson</td><td>2023-06-28</td><td>2023</td></tr><tr><td>4247456</td><td>Micheal Roberts</td><td>Micheal</td><td>Roberts</td><td>Michael</td><td>Roberts</td><td>2023-09-06</td><td>2023</td></tr><tr><td>4247456</td><td>Micheal Roberts</td><td>Micheal</td><td>Roberts</td><td>Michael</td><td>Roberts</td><td>2023-10-05</td><td>2023</td></tr><tr><td>4251279</td><td>David Mungarro</td><td>David</td><td>Mungarro</td><td>David</td><td>Mungarro</td><td>2023-08-21</td><td>2023</td></tr><tr><td>4251279</td><td>David Mungarro</td><td>David</td><td>Mungarro</td><td>David</td><td>Mungarro</td><td>2023-11-09</td><td>2023</td></tr><tr><td>4252166</td><td>Allen Adams</td><td>Allen</td><td>Adams</td><td>Allen</td><td>Adams</td><td>2024-03-11</td><td>2024</td></tr><tr><td>4252361</td><td>Charles Perry</td><td>Charles</td><td>Perry</td><td>Charles</td><td>Perry</td><td>2023-03-10</td><td>2023</td></tr><tr><td>4252361</td><td>Charles Perry</td><td>Charles</td><td>Perry</td><td>Charles</td><td>Perry</td><td>2023-07-13</td><td>2023</td></tr><tr><td>4252361</td><td>Charles Perry</td><td>Charles</td><td>Perry</td><td>Charles</td><td>Perry</td><td>2024-08-21</td><td>2024</td></tr><tr><td>4252393</td><td>Chris Nalley</td><td>Chris</td><td>Nalley</td><td>Chris</td><td>Nalley</td><td>2024-11-18</td><td>2024</td></tr><tr><td>4252399</td><td>Aaron Buttrill</td><td>Aaron</td><td>Buttrill</td><td>Aaron</td><td>Buttrill</td><td>2023-07-17</td><td>2023</td></tr><tr><td>4256443</td><td>Trevor Naillon</td><td>Trevor</td><td>Naillon</td><td>Trevor</td><td>Naillon</td><td>2024-09-19</td><td>2024</td></tr><tr><td>4270407</td><td>Kenneth Brown</td><td>Kenneth</td><td>Brown</td><td>Kenneth</td><td>Brown</td><td>2024-12-03</td><td>2024</td></tr><tr><td>4274272</td><td>Miguel Valencia</td><td>Miguel</td><td>Valencia</td><td>Miguel</td><td>Valencia</td><td>2023-09-09</td><td>2023</td></tr><tr><td>4274272</td><td>Miguel Valencia</td><td>Miguel</td><td>Valencia</td><td>Miguel</td><td>Valencia</td><td>2023-10-06</td><td>2023</td></tr><tr><td>4297413</td><td>James Curtis</td><td>James</td><td>Curtis</td><td>James</td><td>Curtis</td><td>2024-03-04</td><td>2024</td></tr><tr><td>4316847</td><td>William Smith</td><td>William</td><td>Smith</td><td>William</td><td>Smith</td><td>2024-09-26</td><td>2024</td></tr><tr><td>4316847</td><td>William Smith</td><td>William</td><td>Smith</td><td>William</td><td>Smith</td><td>2025-01-30</td><td>2025</td></tr><tr><td>4345095</td><td>Joshua Fenech</td><td>Joshua</td><td>Fenech</td><td>Josh</td><td>Fenech</td><td>2023-08-09</td><td>2023</td></tr><tr><td>4345095</td><td>Joshua Fenech</td><td>Joshua</td><td>Fenech</td><td>Josh</td><td>Fenech</td><td>2023-10-05</td><td>2023</td></tr><tr><td>4361005</td><td>Phil Parcus</td><td>Phil</td><td>Parcus</td><td>Phillip</td><td>Parcus</td><td>2024-06-07</td><td>2024</td></tr><tr><td>4364084</td><td>David Douglas</td><td>David</td><td>Douglas</td><td>David</td><td>Douglas</td><td>2024-04-23</td><td>2024</td></tr><tr><td>4364142</td><td>Yung Skates</td><td>Yung</td><td>Skates</td><td>Yung</td><td>Skates</td><td>2024-06-20</td><td>2024</td></tr><tr><td>4385388</td><td>Dwayne Blackmon</td><td>Dwayne</td><td>Blackmon</td><td>Dwayne</td><td>Blackmon</td><td>2024-07-03</td><td>2024</td></tr><tr><td>4385388</td><td>Dwayne Blackmon</td><td>Dwayne</td><td>Blackmon</td><td>Dwayne</td><td>Blackmon</td><td>2024-10-01</td><td>2024</td></tr><tr><td>4385433</td><td>Corey Cobb</td><td>Corey</td><td>Cobb</td><td>Corey</td><td>Cobb</td><td>2024-10-08</td><td>2024</td></tr><tr><td>4385485</td><td>Dustin Fletcher</td><td>Dustin</td><td>Fletcher</td><td>Dustin</td><td>Fletcher</td><td>2024-09-30</td><td>2024</td></tr><tr><td>4385490</td><td>Willie Fletcher</td><td>Willie</td><td>Fletcher</td><td>Willie</td><td>Fletcher</td><td>2024-07-16</td><td>2024</td></tr><tr><td>4385490</td><td>Willie Fletcher</td><td>Willie</td><td>Fletcher</td><td>Willie</td><td>Fletcher</td><td>2024-11-27</td><td>2024</td></tr><tr><td>4385501</td><td>George Madera</td><td>George</td><td>Madera</td><td>George</td><td>Madera</td><td>2023-10-05</td><td>2023</td></tr><tr><td>4385501</td><td>George Madera</td><td>George</td><td>Madera</td><td>George</td><td>Madera</td><td>2023-10-17</td><td>2023</td></tr><tr><td>4385501</td><td>George Madera</td><td>George</td><td>Madera</td><td>George</td><td>Madera</td><td>2024-01-27</td><td>2024</td></tr><tr><td>4404795</td><td>James Newkirk</td><td>James</td><td>Newkirk</td><td>James</td><td>Newkirk</td><td>2024-09-19</td><td>2024</td></tr><tr><td>4404795</td><td>James Newkirk</td><td>James</td><td>Newkirk</td><td>James</td><td>Newkirk</td><td>2024-11-21</td><td>2024</td></tr><tr><td>4404795</td><td>James Newkirk</td><td>James</td><td>Newkirk</td><td>James</td><td>Newkirk</td><td>2025-02-25</td><td>2025</td></tr><tr><td>4425244</td><td>Adriqcus Davis</td><td>Adriqcus</td><td>Davis</td><td>Adriqcus</td><td>Davis</td><td>2024-05-30</td><td>2024</td></tr><tr><td>4447484</td><td>Larry Grammer</td><td>Larry</td><td>Grammer</td><td>Larry</td><td>Grammer</td><td>2024-05-02</td><td>2024</td></tr><tr><td>4447484</td><td>Larry Grammer</td><td>Larry</td><td>Grammer</td><td>Larry</td><td>Grammer</td><td>2024-06-27</td><td>2024</td></tr><tr><td>4447484</td><td>Larry Grammer</td><td>Larry</td><td>Grammer</td><td>Larry</td><td>Grammer</td><td>2024-09-12</td><td>2024</td></tr><tr><td>4447484</td><td>Larry Grammer</td><td>Larry</td><td>Grammer</td><td>Larry</td><td>Grammer</td><td>2025-01-29</td><td>2025</td></tr><tr><td>4471545</td><td>Daniel Sorenson</td><td>Daniel</td><td>Sorenson</td><td>Daniel</td><td>Sorenson</td><td>2024-03-11</td><td>2024</td></tr><tr><td>4476044</td><td>Parker Fitler</td><td>Parker</td><td>Fitler</td><td>Parker</td><td>Fitler</td><td>2023-12-07</td><td>2023</td></tr><tr><td>4485928</td><td>Robert Petty</td><td>Robert</td><td>Petty</td><td>Robert</td><td>Petty</td><td>2024-06-07</td><td>2024</td></tr><tr><td>4487773</td><td>Jaylon Kelly</td><td>Jaylon</td><td>Kelly</td><td>Jaylon</td><td>Kelly</td><td>2024-12-05</td><td>2024</td></tr><tr><td>4493208</td><td>Brandon Lail</td><td>Brandon</td><td>Lail</td><td>Brandon</td><td>Lail</td><td>2024-09-19</td><td>2024</td></tr><tr><td>4493208</td><td>Brandon Lail</td><td>Brandon</td><td>Lail</td><td>Brandon</td><td>Lail</td><td>2024-09-20</td><td>2024</td></tr><tr><td>4493208</td><td>Brandon Lail</td><td>Brandon</td><td>Lail</td><td>Brandon</td><td>Lail</td><td>2024-09-23</td><td>2024</td></tr><tr><td>4502246</td><td>Rodney Bursey</td><td>Rodney</td><td>Bursey</td><td>Rodney</td><td>Bursey</td><td>2024-03-08</td><td>2024</td></tr><tr><td>4507604</td><td>Donavin Ledford</td><td>Donavin</td><td>Ledford</td><td>Donavin</td><td>Ledford</td><td>2024-08-26</td><td>2024</td></tr><tr><td>4515304</td><td>Daniel Hunt</td><td>Daniel</td><td>Hunt</td><td>Daniel</td><td>Hunt</td><td>2024-07-09</td><td>2024</td></tr><tr><td>4515304</td><td>Daniel Hunt</td><td>Daniel</td><td>Hunt</td><td>Daniel</td><td>Hunt</td><td>2024-10-03</td><td>2024</td></tr><tr><td>4515304</td><td>Daniel Hunt</td><td>Daniel</td><td>Hunt</td><td>Daniel</td><td>Hunt</td><td>2025-01-10</td><td>2025</td></tr><tr><td>4515311</td><td>Joe DeStefano</td><td>Joe</td><td>DeStefano</td><td>JOE</td><td>DESTEFANO</td><td>2024-09-04</td><td>2024</td></tr><tr><td>4515325</td><td>Kirby Mathieu</td><td>Kirby</td><td>Mathieu</td><td>KERBY</td><td>MATHIEU</td><td>2025-01-13</td><td>2025</td></tr><tr><td>4515337</td><td>REUBEN MUNOZ</td><td>REUBEN</td><td>MUNOZ</td><td>RUEBEN</td><td>MUNOZ</td><td>2025-01-14</td><td>2025</td></tr><tr><td>4515340</td><td>Samuel Castro</td><td>Samuel</td><td>Castro</td><td>SAM</td><td>CASTRO</td><td>2024-05-03</td><td>2024</td></tr><tr><td>4515340</td><td>Sam Castro</td><td>Sam</td><td>Castro</td><td>SAM</td><td>CASTRO</td><td>2024-05-18</td><td>2024</td></tr><tr><td>4525522</td><td>James Moats</td><td>James</td><td>Moats</td><td>James</td><td>Moats</td><td>2024-10-24</td><td>2024</td></tr><tr><td>4543757</td><td>Octavia Rufus</td><td>Octavia</td><td>Rufus</td><td>Octavia</td><td>Rufus</td><td>2024-08-09</td><td>2024</td></tr><tr><td>4543764</td><td>Kelcy Harmon</td><td>Kelcy</td><td>Harmon</td><td>Kelcy</td><td>Harmon</td><td>2023-10-05</td><td>2023</td></tr><tr><td>4543764</td><td>Kelcy Harmon</td><td>Kelcy</td><td>Harmon</td><td>Kelcy</td><td>Harmon</td><td>2023-10-29</td><td>2023</td></tr><tr><td>4543880</td><td>Xavier Morris</td><td>Xavier</td><td>Morris</td><td>Xavier</td><td>Morris</td><td>2023-11-04</td><td>2023</td></tr><tr><td>4543880</td><td>Xavier Morris</td><td>Xavier</td><td>Morris</td><td>Xavier</td><td>Morris</td><td>2023-11-17</td><td>2023</td></tr><tr><td>4545962</td><td>Robert Earbarotto</td><td>Robert</td><td>Earbarotto</td><td>Robert</td><td>Barbarotto</td><td>2024-02-14</td><td>2023</td></tr><tr><td>4553943</td><td>Jerry Hernadez</td><td>Jerry</td><td>Hernadez</td><td>Jerry</td><td>Hernandez</td><td>2024-10-30</td><td>2024</td></tr><tr><td>4554061</td><td>Juan Castaneda</td><td>Juan</td><td>Castaneda</td><td>Juan</td><td>Castaneda</td><td>2024-12-24</td><td>2024</td></tr><tr><td>4571579</td><td>Michael Baker</td><td>Michael</td><td>Baker</td><td>Michael</td><td>Baker</td><td>2024-07-30</td><td>2024</td></tr><tr><td>4571579</td><td>Michael Baker</td><td>Michael</td><td>Baker</td><td>Michael</td><td>Baker</td><td>2024-10-25</td><td>2024</td></tr><tr><td>4571579</td><td>Mike Baker</td><td>Mike</td><td>Baker</td><td>Michael</td><td>Baker</td><td>2024-12-31</td><td>2025</td></tr><tr><td>4571579</td><td>Mike Baker</td><td>Mike</td><td>Baker</td><td>Michael</td><td>Baker</td><td>2025-02-18</td><td>2025</td></tr><tr><td>4584155</td><td>Jason Weaver</td><td>Jason</td><td>Weaver</td><td>Jason</td><td>Weaver</td><td>2024-12-31</td><td>2025</td></tr><tr><td>4589439</td><td>James Sims</td><td>James</td><td>Sims</td><td>JAMES</td><td>SIMS</td><td>2024-02-13</td><td>2023</td></tr><tr><td>4603596</td><td>Cody Calkins</td><td>Cody</td><td>Calkins</td><td>Cody</td><td>Calkins</td><td>2024-05-29</td><td>2024</td></tr><tr><td>4617934</td><td>Stafford Turner</td><td>Stafford</td><td>Turner</td><td>Stafford</td><td>Turner</td><td>2024-07-08</td><td>2024</td></tr><tr><td>4617934</td><td>Stafford Turner</td><td>Stafford</td><td>Turner</td><td>Stafford</td><td>Turner</td><td>2024-10-17</td><td>2024</td></tr><tr><td>4618465</td><td>Danny Davis</td><td>Danny</td><td>Davis</td><td>Danny</td><td>Davis</td><td>2024-04-30</td><td>2024</td></tr><tr><td>4631748</td><td>Jeremy Priddy</td><td>Jeremy</td><td>Priddy</td><td>Jeremy</td><td>Priddy</td><td>2024-03-19</td><td>2024</td></tr><tr><td>4659774</td><td>Marcus Weaver</td><td>Marcus</td><td>Weaver</td><td>Marcus</td><td>Weaver</td><td>2024-06-18</td><td>2024</td></tr><tr><td>4667148</td><td>Sawyer Kopacka</td><td>Sawyer</td><td>Kopacka</td><td>Sawyer</td><td>Kopacka</td><td>2024-04-16</td><td>2024</td></tr><tr><td>4674713</td><td>Henry Thomas</td><td>Henry</td><td>Thomas</td><td>Henry</td><td>Thomas</td><td>2024-11-01</td><td>2024</td></tr><tr><td>4674713</td><td>Henry Thomas</td><td>Henry</td><td>Thomas</td><td>Henry</td><td>Thomas</td><td>2024-11-27</td><td>2024</td></tr><tr><td>4675253</td><td>William Hartshorn</td><td>William</td><td>Hartshorn</td><td>Bill</td><td>Hartshorn</td><td>2024-12-10</td><td>2024</td></tr><tr><td>4677740</td><td>Corey Maxon</td><td>Corey</td><td>Maxon</td><td>Corey</td><td>Maxon</td><td>2024-12-30</td><td>2025</td></tr><tr><td>4679123</td><td>Lincoln Roberts</td><td>Lincoln</td><td>Roberts</td><td>Lincoln</td><td>Roberts</td><td>2025-01-08</td><td>2025</td></tr><tr><td>4681186</td><td>Charles Angles</td><td>Charles</td><td>Angles</td><td>Charles</td><td>Angles</td><td>2024-05-14</td><td>2024</td></tr><tr><td>4686586</td><td>Chris Newsome</td><td>Chris</td><td>Newsome</td><td>Chris</td><td>Newsome</td><td>2024-04-19</td><td>2024</td></tr><tr><td>4686620</td><td>Bradley Rodriguez</td><td>Bradley</td><td>Rodriguez</td><td>Bradley</td><td>Rodriguez</td><td>2024-10-21</td><td>2024</td></tr><tr><td>4688972</td><td>Mario Coronado</td><td>Mario</td><td>Coronado</td><td>Mario</td><td>Coronado</td><td>2023-04-19</td><td>2023</td></tr><tr><td>4688972</td><td>Mario Coronado</td><td>Mario</td><td>Coronado</td><td>Mario</td><td>Coronado</td><td>2023-12-27</td><td>2023</td></tr><tr><td>4689170</td><td>Rolando Zuniga</td><td>Rolando</td><td>Zuniga</td><td>Rolando</td><td>Zuniga</td><td>2024-02-29</td><td>2023</td></tr><tr><td>4689176</td><td>hector reyes</td><td>hector</td><td>reyes</td><td>Hector</td><td>Reyes</td><td>2025-02-24</td><td>2025</td></tr><tr><td>4691351</td><td>Ashley Ingram</td><td>Ashley</td><td>Ingram</td><td>ASHLEY</td><td>INGRAM</td><td>2024-04-03</td><td>2024</td></tr><tr><td>4693729</td><td>Travon Clark</td><td>Travon</td><td>Clark</td><td>Travon</td><td>Clark</td><td>2024-05-01</td><td>2024</td></tr><tr><td>4695463</td><td>BILLY BRADLEY</td><td>BILLY</td><td>BRADLEY</td><td>Billy</td><td>Bradley</td><td>2024-12-16</td><td>2024</td></tr><tr><td>4698786</td><td>Eduar Aponte</td><td>Eduar</td><td>Aponte</td><td>Eduar</td><td>Aponte</td><td>2024-12-17</td><td>2024</td></tr><tr><td>4698806</td><td>Jacob Clinard</td><td>Jacob</td><td>Clinard</td><td>Jacob</td><td>Clinard</td><td>2024-10-17</td><td>2024</td></tr><tr><td>4698875</td><td>Ivan Torres</td><td>Ivan</td><td>Torres</td><td>Ivan</td><td>Gonzalez Torres</td><td>2024-06-17</td><td>2024</td></tr><tr><td>4699083</td><td>Nathan Lopez</td><td>Nathan</td><td>Lopez</td><td>Nathan</td><td>Lopez</td><td>2024-04-25</td><td>2024</td></tr><tr><td>4699410</td><td>Antony Ortuno</td><td>Antony</td><td>Ortuno</td><td>Antony</td><td>Ortuno</td><td>2024-04-18</td><td>2024</td></tr><tr><td>4699410</td><td>Antony Ortuno</td><td>Antony</td><td>Ortuno</td><td>Antony</td><td>Ortuno</td><td>2024-09-12</td><td>2024</td></tr><tr><td>4699555</td><td>Edtwquan Taylor</td><td>Edtwquan</td><td>Taylor</td><td>Edtwquan</td><td>Taylor</td><td>2024-03-01</td><td>2024</td></tr><tr><td>4699555</td><td>Edtwquan Taylor</td><td>Edtwquan</td><td>Taylor</td><td>Edtwquan</td><td>Taylor</td><td>2024-06-13</td><td>2024</td></tr><tr><td>4699590</td><td>Christopher Vales</td><td>Christopher</td><td>Vales</td><td>Christopher</td><td>Vales</td><td>2025-01-17</td><td>2025</td></tr><tr><td>4700002</td><td>Joshua Storm</td><td>Joshua</td><td>Storm</td><td>Joshua</td><td>Storm</td><td>2024-08-19</td><td>2024</td></tr><tr><td>4700273</td><td>Thomas Harris</td><td>Thomas</td><td>Harris</td><td>Thomas</td><td>Harris</td><td>2024-08-01</td><td>2024</td></tr><tr><td>4700321</td><td>Roman Coronado</td><td>Roman</td><td>Coronado</td><td>Roman</td><td>Coronado</td><td>2024-11-21</td><td>2024</td></tr><tr><td>4700432</td><td>Yoandy Hernandez Ferrales</td><td>Yoandy</td><td>Hernandez</td><td>Yoandy</td><td>Hernandez Ferrales</td><td>2024-09-06</td><td>2024</td></tr><tr><td>4700520</td><td>David Trotter</td><td>David</td><td>Trotter</td><td>David</td><td>Trotter</td><td>2024-04-09</td><td>2024</td></tr><tr><td>4700526</td><td>Billy Martin</td><td>Billy</td><td>Martin</td><td>Billy</td><td>Martin</td><td>2024-04-11</td><td>2024</td></tr><tr><td>4700526</td><td>Billy Martin</td><td>Billy</td><td>Martin</td><td>Billy</td><td>Martin</td><td>2024-09-27</td><td>2024</td></tr><tr><td>4717896</td><td>Joseph Scott</td><td>Joseph</td><td>Scott</td><td>Joseph</td><td>Scott</td><td>2024-08-14</td><td>2024</td></tr><tr><td>4726304</td><td>Ryan Taylor</td><td>Ryan</td><td>Taylor</td><td>Ryan</td><td>Taylor</td><td>2024-08-26</td><td>2024</td></tr><tr><td>4726304</td><td>Ryan Taylor</td><td>Ryan</td><td>Taylor</td><td>Ryan</td><td>Taylor</td><td>2024-10-29</td><td>2024</td></tr><tr><td>4730946</td><td>Kyle Phillip</td><td>Kyle</td><td>Phillip</td><td>Kyle</td><td>Phillip</td><td>2024-06-06</td><td>2024</td></tr><tr><td>4733072</td><td>Martell James</td><td>Martell</td><td>James</td><td>Martell</td><td>James</td><td>2024-04-25</td><td>2023</td></tr><tr><td>4733205</td><td>Ryan Buchanan</td><td>Ryan</td><td>Buchanan</td><td>Ryan</td><td>Buchanan</td><td>2025-02-24</td><td>2025</td></tr><tr><td>4741855</td><td>Nicholas Johnson</td><td>Nicholas</td><td>Johnson</td><td>Nicholas</td><td>Johnson</td><td>2024-06-26</td><td>2024</td></tr><tr><td>4741855</td><td>Nicholas Johnson</td><td>Nicholas</td><td>Johnson</td><td>Nicholas</td><td>Johnson</td><td>2025-02-04</td><td>2025</td></tr><tr><td>4745257</td><td>Kristopher May</td><td>Kristopher</td><td>May</td><td>Kristopher</td><td>May</td><td>2024-05-20</td><td>2024</td></tr><tr><td>4749811</td><td>Christopher Burnette</td><td>Christopher</td><td>Burnette</td><td>Chris</td><td>Burnette</td><td>2024-05-15</td><td>2024</td></tr><tr><td>4758715</td><td>Henry Brewer</td><td>Henry</td><td>Brewer</td><td>Henry</td><td>Brewer</td><td>2024-08-07</td><td>2024</td></tr><tr><td>4762142</td><td>John Powell</td><td>John</td><td>Powell</td><td>John</td><td>Powell</td><td>2024-05-22</td><td>2024</td></tr><tr><td>4762142</td><td>John Powell</td><td>John</td><td>Powell</td><td>John</td><td>Powell</td><td>2024-06-20</td><td>2024</td></tr><tr><td>4769710</td><td>David Woods</td><td>David</td><td>Woods</td><td>David</td><td>Woods jr</td><td>2024-06-06</td><td>2024</td></tr><tr><td>4769952</td><td>Adrian Hughes</td><td>Adrian</td><td>Hughes</td><td>ADRIAN</td><td>HUGHES</td><td>2024-06-28</td><td>2024</td></tr><tr><td>4769952</td><td>Adrian Hughes</td><td>Adrian</td><td>Hughes</td><td>ADRIAN</td><td>HUGHES</td><td>2024-09-24</td><td>2024</td></tr><tr><td>4771305</td><td>Ron Richards</td><td>Ron</td><td>Richards</td><td>Ronald</td><td>Richards</td><td>2024-11-06</td><td>2024</td></tr><tr><td>4788705</td><td>Andre Mathis</td><td>Andre</td><td>Mathis</td><td>andre</td><td>mathis</td><td>2024-06-03</td><td>2024</td></tr><tr><td>4794313</td><td>Justin Correll</td><td>Justin</td><td>Correll</td><td>Justin</td><td>Correll</td><td>2024-06-17</td><td>2024</td></tr><tr><td>4794313</td><td>Justin Correll</td><td>Justin</td><td>Correll</td><td>Justin</td><td>Correll</td><td>2024-07-11</td><td>2024</td></tr><tr><td>4794313</td><td>Justin Correll</td><td>Justin</td><td>Correll</td><td>Justin</td><td>Correll</td><td>2024-12-19</td><td>2024</td></tr><tr><td>4794313</td><td>Justin Correll</td><td>Justin</td><td>Correll</td><td>Justin</td><td>Correll</td><td>2025-03-06</td><td>2025</td></tr><tr><td>4795144</td><td>Kent Lewis</td><td>Kent</td><td>Lewis</td><td>KENT</td><td>LEWIS</td><td>2024-06-12</td><td>2024</td></tr><tr><td>4799088</td><td>Jeremy Duckworth</td><td>Jeremy</td><td>Duckworth</td><td>Jeremy</td><td>Duckworth</td><td>2024-06-25</td><td>2024</td></tr><tr><td>4801640</td><td>Jesse Hall</td><td>Jesse</td><td>Hall</td><td>Jesse</td><td>Hall</td><td>2024-08-13</td><td>2024</td></tr><tr><td>4805197</td><td>Christopher Reed</td><td>Christopher</td><td>Reed</td><td>Christopher</td><td>Reed</td><td>2024-06-10</td><td>2024</td></tr><tr><td>4805197</td><td>Chris Reed</td><td>Chris</td><td>Reed</td><td>Christopher</td><td>Reed</td><td>2024-06-13</td><td>2024</td></tr><tr><td>4819112</td><td>Jonaton Dolan</td><td>Jonaton</td><td>Dolan</td><td>JONATHAN</td><td>DOLAN</td><td>2024-06-17</td><td>2024</td></tr><tr><td>4831370</td><td>Cesar Huerta Dominguez</td><td>Cesar</td><td>Huerta</td><td>Cesar</td><td>Dominguez</td><td>2024-07-19</td><td>2024</td></tr><tr><td>4831370</td><td>Cesar Huerta Dominguez</td><td>Cesar</td><td>Huerta</td><td>Cesar</td><td>Dominguez</td><td>2025-01-21</td><td>2025</td></tr><tr><td>4847334</td><td>Troy Brown</td><td>Troy</td><td>Brown</td><td>Troy</td><td>Brown</td><td>2024-06-25</td><td>2024</td></tr><tr><td>4850139</td><td>Amber DeHart</td><td>Amber</td><td>DeHart</td><td>Amber</td><td>DeHart</td><td>2024-08-08</td><td>2024</td></tr><tr><td>4850139</td><td>Amber Shey</td><td>Amber</td><td>Shey</td><td>Amber</td><td>DeHart</td><td>2024-10-26</td><td>2024</td></tr><tr><td>4850145</td><td>Darrick Parker</td><td>Darrick</td><td>Parker</td><td>Darrick</td><td>Parker</td><td>2024-07-04</td><td>2024</td></tr><tr><td>4850146</td><td>Steven Lopez</td><td>Steven</td><td>Lopez</td><td>Steven</td><td>Lopez</td><td>2024-08-07</td><td>2024</td></tr><tr><td>4852873</td><td>Kelly Walker</td><td>Kelly</td><td>Walker</td><td>Kelly</td><td>Walker</td><td>2024-07-31</td><td>2024</td></tr><tr><td>4854846</td><td>Kewan Littlejohn</td><td>Kewan</td><td>Littlejohn</td><td>Kewan</td><td>Littlejohn</td><td>2025-03-04</td><td>2025</td></tr><tr><td>4859441</td><td>Randy Simmons</td><td>Randy</td><td>Simmons</td><td>Randy</td><td>Simmons</td><td>2024-10-04</td><td>2024</td></tr><tr><td>4867601</td><td>Anthony Thomas</td><td>Anthony</td><td>Thomas</td><td>Anthony</td><td>Thomas</td><td>2024-12-20</td><td>2024</td></tr><tr><td>4871747</td><td>Casey Wimmer</td><td>Casey</td><td>Wimmer</td><td>Casey</td><td>Wimmer</td><td>2025-03-07</td><td>2025</td></tr><tr><td>4876593</td><td>Jaylen Miller</td><td>Jaylen</td><td>Miller</td><td>Jaylen</td><td>Miller</td><td>2024-12-02</td><td>2024</td></tr><tr><td>4876620</td><td>Gary Murrison</td><td>Gary</td><td>Murrison</td><td>Gary</td><td>Murrison</td><td>2024-12-17</td><td>2024</td></tr><tr><td>4876620</td><td>Gary Murrison</td><td>Gary</td><td>Murrison</td><td>Gary</td><td>Murrison</td><td>2025-01-07</td><td>2025</td></tr><tr><td>4877799</td><td>Jose Flores</td><td>Jose</td><td>Flores</td><td>Jose</td><td>Flores</td><td>2025-01-13</td><td>2025</td></tr><tr><td>4895415</td><td>Tymal Pack</td><td>Tymal</td><td>Pack</td><td>Tymal</td><td>Pack</td><td>2024-10-21</td><td>2024</td></tr><tr><td>4895415</td><td>Tymal Pack</td><td>Tymal</td><td>Pack</td><td>Tymal</td><td>Pack</td><td>2024-12-31</td><td>2024</td></tr><tr><td>4898531</td><td>Bryan Ratsaboutseua</td><td>Bryan</td><td>Ratsaboutseua</td><td>Bryan</td><td>Ratsaboutseua</td><td>2024-06-10</td><td>2024</td></tr><tr><td>4901506</td><td>Gabinson Magistrat</td><td>Gabinson</td><td>Magistrat</td><td>GABINSON</td><td>MAGISTRAT</td><td>2025-01-30</td><td>2025</td></tr><tr><td>4901507</td><td>Brandon Roberts</td><td>Brandon</td><td>Roberts</td><td>Brandon</td><td>Roberts</td><td>2024-11-25</td><td>2024</td></tr><tr><td>4917040</td><td>Robert Ford</td><td>Robert</td><td>Ford</td><td>ROBERT</td><td>FORD</td><td>2024-08-19</td><td>2024</td></tr><tr><td>4918147</td><td>Alexis Samon Moreno</td><td>Alexis</td><td>Samon</td><td>Alexis</td><td>Samon Moreno</td><td>2024-11-26</td><td>2024</td></tr><tr><td>4922757</td><td>Herm Tuggle</td><td>Herm</td><td>Tuggle</td><td>Herm</td><td>Tuggles</td><td>2024-08-08</td><td>2024</td></tr><tr><td>4922757</td><td>Herm Tuggles</td><td>Herm</td><td>Tuggles</td><td>Herm</td><td>Tuggles</td><td>2024-09-27</td><td>2024</td></tr><tr><td>4928633</td><td>Kristopher Krock</td><td>Kristopher</td><td>Krock</td><td>Kris</td><td>Krock</td><td>2024-08-27</td><td>2024</td></tr><tr><td>4929595</td><td>Alton Hoover</td><td>Alton</td><td>Hoover</td><td>Alton</td><td>Hoover</td><td>2024-10-17</td><td>2024</td></tr><tr><td>4934308</td><td>Mitch Hardin</td><td>Mitch</td><td>Hardin</td><td>Mitch</td><td>Hardin</td><td>2024-08-23</td><td>2024</td></tr><tr><td>4934308</td><td>Mitch Hardin</td><td>Mitch</td><td>Hardin</td><td>Mitch</td><td>Hardin</td><td>2025-02-27</td><td>2025</td></tr><tr><td>4934322</td><td>Dave Vickery</td><td>Dave</td><td>Vickery</td><td>David</td><td>Vickery</td><td>2024-08-01</td><td>2024</td></tr><tr><td>4934322</td><td>David Vickery</td><td>David</td><td>Vickery</td><td>David</td><td>Vickery</td><td>2024-09-04</td><td>2024</td></tr><tr><td>4934322</td><td>Dave Vickery</td><td>Dave</td><td>Vickery</td><td>David</td><td>Vickery</td><td>2024-10-10</td><td>2024</td></tr><tr><td>4937199</td><td>Brantley Hodges</td><td>Brantley</td><td>Hodges</td><td>Brantley</td><td>Hodge</td><td>2024-07-16</td><td>2024</td></tr><tr><td>4937199</td><td>Brantley Hodge</td><td>Brantley</td><td>Hodge</td><td>Brantley</td><td>Hodge</td><td>2024-11-14</td><td>2024</td></tr><tr><td>4937624</td><td>Joel Stillman</td><td>Joel</td><td>Stillman</td><td>Joel</td><td>stillman</td><td>2024-09-10</td><td>2024</td></tr><tr><td>4940924</td><td>Arika Owens</td><td>Arika</td><td>Owens</td><td>Arika</td><td>Owens</td><td>2024-09-13</td><td>2024</td></tr><tr><td>4942232</td><td>Zachary Queen</td><td>Zachary</td><td>Queen</td><td>Zachary</td><td>Queen</td><td>2024-11-16</td><td>2024</td></tr><tr><td>4942232</td><td>Zachary Queen</td><td>Zachary</td><td>Queen</td><td>Zachary</td><td>Queen</td><td>2024-11-18</td><td>2024</td></tr><tr><td>4967877</td><td>Michael Whitmire</td><td>Michael</td><td>Whitmire</td><td>Michael</td><td>Whitmire</td><td>2024-09-17</td><td>2024</td></tr><tr><td>4973534</td><td>Jorge Viltres Palacios</td><td>Jorge</td><td>Viltres</td><td>Jorge</td><td>Viltres Palacios</td><td>2024-08-19</td><td>2024</td></tr><tr><td>4973534</td><td>Jorge Viltres</td><td>Jorge</td><td>Viltres</td><td>Jorge</td><td>Viltres Palacios</td><td>2024-11-07</td><td>2024</td></tr><tr><td>4973600</td><td>Yoannier Labastida</td><td>Yoannier</td><td>Labastida</td><td>Yoannier</td><td>Labastida</td><td>2024-09-04</td><td>2024</td></tr><tr><td>4975646</td><td>Brix Byers</td><td>Brix</td><td>Byers</td><td>Brix</td><td>Byers</td><td>2024-06-28</td><td>2024</td></tr><tr><td>5019165</td><td>Jacob Bakey</td><td>Jacob</td><td>Bakey</td><td>Jacob</td><td>Bakey</td><td>2024-12-02</td><td>2024</td></tr><tr><td>5020695</td><td>Brittni Underwood-Maclin</td><td>Brittni</td><td>Underwood-Maclin</td><td>Brittni</td><td>Underwood Maclin</td><td>2024-08-30</td><td>2024</td></tr><tr><td>5022909</td><td>Sebastiao Davita</td><td>Sebastiao</td><td>Davita</td><td>Sebastiao</td><td>Davita</td><td>2024-08-29</td><td>2024</td></tr><tr><td>5030936</td><td>Joseph Kashindi</td><td>Joseph</td><td>Kashindi</td><td>Joseph</td><td>Kashindi</td><td>2024-10-28</td><td>2024</td></tr><tr><td>5034814</td><td>Travis Walker</td><td>Travis</td><td>Walker</td><td>Travis</td><td>Walker</td><td>2024-09-24</td><td>2024</td></tr><tr><td>5037692</td><td>Alian Cisneros</td><td>Alian</td><td>Cisneros</td><td>Alain</td><td>Cisneros Alfonso</td><td>2024-12-04</td><td>2024</td></tr><tr><td>5042770</td><td>Jamie Chastain</td><td>Jamie</td><td>Chastain</td><td>JAMIE</td><td>CHASTAIN</td><td>2024-09-12</td><td>2024</td></tr><tr><td>5046067</td><td>Steven Munsen</td><td>Steven</td><td>Munsen</td><td>Steven</td><td>Munsen</td><td>2024-10-17</td><td>2024</td></tr><tr><td>5046067</td><td>Steven Munsen</td><td>Steven</td><td>Munsen</td><td>Steven</td><td>Munsen</td><td>2024-12-10</td><td>2024</td></tr><tr><td>5058437</td><td>Eric Robertson</td><td>Eric</td><td>Robertson</td><td>Eric</td><td>Robertson</td><td>2024-12-10</td><td>2024</td></tr><tr><td>5123349</td><td>Darius Sawyers</td><td>Darius</td><td>Sawyers</td><td>Darius</td><td>Sawyer</td><td>2024-09-26</td><td>2024</td></tr><tr><td>5126062</td><td>Michael Spencer</td><td>Michael</td><td>Spencer</td><td>michael</td><td>spencer</td><td>2025-01-30</td><td>2025</td></tr><tr><td>5140920</td><td>Zeke Reyes</td><td>Zeke</td><td>Reyes</td><td>Ezekiel</td><td>Reyes</td><td>2025-01-09</td><td>2025</td></tr><tr><td>5140927</td><td>Richard Cornelius</td><td>Richard</td><td>Cornelius</td><td>Richard</td><td>Cornelius</td><td>2024-10-31</td><td>2024</td></tr><tr><td>5140931</td><td>Stanley Roberts</td><td>Stanley</td><td>Roberts</td><td>Stanley</td><td>Roberts</td><td>2024-11-21</td><td>2024</td></tr><tr><td>5142623</td><td>Marco Carlisle</td><td>Marco</td><td>Carlisle</td><td>MARCO</td><td>CARLISLE</td><td>2024-12-16</td><td>2024</td></tr><tr><td>5143242</td><td>Marcus Smith</td><td>Marcus</td><td>Smith</td><td>MARCUS</td><td>SMITH</td><td>2024-12-30</td><td>2024</td></tr><tr><td>5145022</td><td>Kendrick Owens</td><td>Kendrick</td><td>Owens</td><td>KENDRICK</td><td>OWENS</td><td>2024-10-08</td><td>2024</td></tr><tr><td>5146024</td><td>Dallas Howell</td><td>Dallas</td><td>Howell</td><td>Dallas</td><td>Howell</td><td>2024-12-02</td><td>2025</td></tr><tr><td>5146047</td><td>James Campbell</td><td>James</td><td>Campbell</td><td>James</td><td>Campbell</td><td>2024-10-16</td><td>2024</td></tr><tr><td>5151833</td><td>Vincent Mcwright</td><td>Vincent</td><td>Mcwright</td><td>VINCENT</td><td>MCWRIGHT</td><td>2025-03-04</td><td>2025</td></tr><tr><td>5152352</td><td>Jonathon Coons</td><td>Jonathon</td><td>Coons</td><td>Jonathan</td><td>Coons</td><td>2024-12-10</td><td>2024</td></tr><tr><td>5153858</td><td>Trenton Strommen</td><td>Trenton</td><td>Strommen</td><td>Trenton</td><td>Strommen</td><td>2024-10-18</td><td>2024</td></tr><tr><td>5161749</td><td>William Davis</td><td>William</td><td>Davis</td><td>William</td><td>Davis</td><td>2025-01-24</td><td>2025</td></tr><tr><td>5161749</td><td>William Davis</td><td>William</td><td>Davis</td><td>William</td><td>Davis</td><td>2025-02-03</td><td>2025</td></tr><tr><td>5169060</td><td>Leo Depaz</td><td>Leo</td><td>Depaz</td><td>Amadeo</td><td>Depaz</td><td>2024-11-27</td><td>2024</td></tr><tr><td>5175010</td><td>Mike Tucker</td><td>Mike</td><td>Tucker</td><td>Mike</td><td>Tucker</td><td>2024-12-30</td><td>2024</td></tr><tr><td>5177440</td><td>Dan Earles</td><td>Dan</td><td>Earles</td><td>Dan</td><td>Earles</td><td>2025-01-24</td><td>2025</td></tr><tr><td>5178258</td><td>Eugene Leicht</td><td>Eugene</td><td>Leicht</td><td>Eugene</td><td>Leicht</td><td>2024-11-05</td><td>2024</td></tr><tr><td>5179148</td><td>Tyler Hensley</td><td>Tyler</td><td>Hensley</td><td>Tyler</td><td>Hensley</td><td>2024-11-05</td><td>2024</td></tr><tr><td>5186247</td><td>Jeromy Atherton</td><td>Jeromy</td><td>Atherton</td><td>Jeromy</td><td>Atherton</td><td>2025-01-20</td><td>2025</td></tr><tr><td>5225723</td><td>Johnny Jenkins</td><td>Johnny</td><td>Jenkins</td><td>Johnny</td><td>Jenkins</td><td>2024-12-10</td><td>2024</td></tr><tr><td>5233624</td><td>Benjamin Lake</td><td>Benjamin</td><td>Lake</td><td>Benjamin</td><td>Lake</td><td>2024-11-19</td><td>2024</td></tr><tr><td>5242742</td><td>BOBBY SCURLOCK</td><td>BOBBY</td><td>SCURLOCK</td><td>Bobby</td><td>Scurlock</td><td>2025-03-04</td><td>2025</td></tr><tr><td>5252157</td><td>Justin Stanford</td><td>Justin</td><td>Stanford</td><td>Justin</td><td>Stanford</td><td>2024-12-11</td><td>2024</td></tr><tr><td>5266970</td><td>Leonel Perez Castillo</td><td>Leonel</td><td>Perez</td><td>Leonel</td><td>Perez Castillo</td><td>2025-02-06</td><td>2025</td></tr><tr><td>5266970</td><td>Leonel</td><td>Leonel</td><td>null</td><td>Leonel</td><td>Perez Castillo</td><td>2025-02-13</td><td>2025</td></tr><tr><td>5283662</td><td>JT Buckmon</td><td>JT</td><td>Buckmon</td><td>Jassamyn</td><td>Buckmon</td><td>2025-01-28</td><td>2025</td></tr><tr><td>5349324</td><td>Ernesto Soto</td><td>Ernesto</td><td>Soto</td><td>ERNESTO</td><td>SOTO</td><td>2024-12-17</td><td>2024</td></tr><tr><td>5379515</td><td>Michael Finley</td><td>Michael</td><td>Finley</td><td>Michael</td><td>Finley</td><td>2025-02-24</td><td>2025</td></tr><tr><td>5400950</td><td>Joe Irvin</td><td>Joe</td><td>Irvin</td><td>Joe</td><td>Irvin</td><td>2025-02-21</td><td>2025</td></tr><tr><td>5422620</td><td>Randy Scarboro</td><td>Randy</td><td>Scarboro</td><td>RANDY</td><td>SCARBORO</td><td>2025-02-28</td><td>2025</td></tr></tbody></table></div>"
      ]
     },
     "metadata": {
      "application/vnd.databricks.v1+output": {
       "addedWidgets": {},
       "aggData": [],
       "aggError": "",
       "aggOverflow": false,
       "aggSchema": [],
       "aggSeriesLimitReached": false,
       "aggType": "",
       "arguments": {},
       "columnCustomDisplayInfos": {},
       "data": [
        [
         67876,
         "Kent Lucas",
         "Kent",
         "Lucas",
         "Kent",
         "Lucas",
         "2023-07-29",
         "2023"
        ],
        [
         67876,
         "Kent Lucas",
         "Kent",
         "Lucas",
         "Kent",
         "Lucas",
         "2023-08-16",
         "2023"
        ],
        [
         3601228,
         "Derrick Benjamin",
         "Derrick",
         "Benjamin",
         "Derrick",
         "Benjamin",
         "2024-08-02",
         "2024"
        ],
        [
         3601235,
         "Patrick Cortlessa",
         "Patrick",
         "Cortlessa",
         "Patrick",
         "Cortlessa",
         "2023-06-06",
         "2023"
        ],
        [
         3601235,
         "Patrick Cortlessa",
         "Patrick",
         "Cortlessa",
         "Patrick",
         "Cortlessa",
         "2023-10-17",
         "2023"
        ],
        [
         3601235,
         "Patrick Cortlessa",
         "Patrick",
         "Cortlessa",
         "Patrick",
         "Cortlessa",
         "2025-02-04",
         "2025"
        ],
        [
         3602920,
         "Mike Brown",
         "Mike",
         "Brown",
         "Michael",
         "Brown",
         "2024-05-21",
         "2024"
        ],
        [
         3602920,
         "Michael Brown",
         "Michael",
         "Brown",
         "Michael",
         "Brown",
         "2024-06-09",
         "2024"
        ],
        [
         3602923,
         "Romero Perez",
         "Romero",
         "Perez",
         "Romero",
         "Perez",
         "2024-04-15",
         "2024"
        ],
        [
         3606675,
         "Neal Fisher",
         "Neal",
         "Fisher",
         "Neal",
         "Fisher",
         "2023-08-29",
         "2023"
        ],
        [
         3606675,
         "Neal Fisher",
         "Neal",
         "Fisher",
         "Neal",
         "Fisher",
         "2023-10-31",
         "2023"
        ],
        [
         3606721,
         "Dalton Lightner",
         "Dalton",
         "Lightner",
         "Dalton",
         "lightner",
         "2024-01-16",
         "2023"
        ],
        [
         3749440,
         "Cody Lawson",
         "Cody",
         "Lawson",
         "Cody",
         "Lawson",
         "2023-08-25",
         "2023"
        ],
        [
         3749440,
         "Cody Lawson",
         "Cody",
         "Lawson",
         "Cody",
         "Lawson",
         "2023-11-19",
         "2023"
        ],
        [
         3757108,
         "Matthew Price",
         "Matthew",
         "Price",
         "Mathew",
         "Price",
         "2023-09-05",
         "2023"
        ],
        [
         3757108,
         "Matthew Price",
         "Matthew",
         "Price",
         "Mathew",
         "Price",
         "2023-09-06",
         "2023"
        ],
        [
         3769164,
         "Andrew Munekata",
         "Andrew",
         "Munekata",
         "Andrew",
         "Munekata",
         "2024-10-23",
         "2024"
        ],
        [
         3771669,
         "Greg Bradshaw",
         "Greg",
         "Bradshaw",
         "Greg",
         "Bradshaw",
         "2024-09-19",
         "2024"
        ],
        [
         3771669,
         "Gregory Bradshaw",
         "Gregory",
         "Bradshaw",
         "Greg",
         "Bradshaw",
         "2025-01-09",
         "2025"
        ],
        [
         3773186,
         "\"Charles \"\"Todd\"\" Simmons\"",
         "Charles",
         "Todd",
         "Charles",
         "Simmons",
         "2024-02-21",
         "2024"
        ],
        [
         3773505,
         "Brandon Heatherly",
         "Brandon",
         "Heatherly",
         "Brandon",
         "Heatherly",
         "2024-11-13",
         "2024"
        ],
        [
         3795588,
         "Brandon Allen",
         "Brandon",
         "Allen",
         "Brandon",
         "Allen",
         "2024-09-05",
         "2024"
        ],
        [
         3795626,
         "Bradley Chandler",
         "Bradley",
         "Chandler",
         "Bradley",
         "Chandler",
         "2024-06-13",
         "2024"
        ],
        [
         3795636,
         "Timothy Morrow",
         "Timothy",
         "Morrow",
         "Tim",
         "Morrow",
         "2024-12-26",
         "2024"
        ],
        [
         3796847,
         "Jaime Conner",
         "Jaime",
         "Conner",
         "Jamie",
         "Conner",
         "2024-06-24",
         "2024"
        ],
        [
         3797175,
         "Mike Dewitt",
         "Mike",
         "Dewitt",
         "Mike",
         "Dewitt",
         "2024-04-10",
         "2023"
        ],
        [
         3797887,
         "Victoria Harron",
         "Victoria",
         "Harron",
         "Victoria",
         "Harrin",
         "2024-09-17",
         "2024"
        ],
        [
         3797887,
         "Victoria Harrin",
         "Victoria",
         "Harrin",
         "Victoria",
         "Harrin",
         "2024-09-20",
         "2024"
        ],
        [
         3797900,
         "Lee Jordan",
         "Lee",
         "Jordan",
         "Lee",
         "Jordan",
         "2023-05-02",
         "2023"
        ],
        [
         3797900,
         "Lee Jordan",
         "Lee",
         "Jordan",
         "Lee",
         "Jordan",
         "2023-08-29",
         "2023"
        ],
        [
         3797917,
         "Jerry Parker",
         "Jerry",
         "Parker",
         "Jerry",
         "Parker",
         "2025-01-02",
         "2025"
        ],
        [
         3797977,
         "William Shugart",
         "William",
         "Shugart",
         "William",
         "Shugart",
         "2024-09-17",
         "2024"
        ],
        [
         3797977,
         "William Shugart",
         "William",
         "Shugart",
         "William",
         "Shugart",
         "2025-01-28",
         "2025"
        ],
        [
         3798033,
         "William Huskey",
         "William",
         "Huskey",
         "William",
         "Huskey",
         "2024-07-31",
         "2024"
        ],
        [
         3799191,
         "PERRY HAYNES",
         "PERRY",
         "HAYNES",
         "Perry",
         "Haynes",
         "2024-10-17",
         "2024"
        ],
        [
         3805017,
         "Steve Sanford",
         "Steve",
         "Sanford",
         "Steve",
         "Sanford",
         "2025-02-11",
         "2025"
        ],
        [
         3805025,
         "Larry Toler",
         "Larry",
         "Toler",
         "Larry",
         "Toler",
         "2024-05-24",
         "2024"
        ],
        [
         3805163,
         "Greg Wilcher",
         "Greg",
         "Wilcher",
         "Greg",
         "Wilcher",
         "2024-07-31",
         "2024"
        ],
        [
         3809234,
         "William Snawder",
         "William",
         "Snawder",
         "Jason",
         "Snawder",
         "2023-06-07",
         "2023"
        ],
        [
         3809234,
         "William Snawder",
         "William",
         "Snawder",
         "Jason",
         "Snawder",
         "2023-09-19",
         "2023"
        ],
        [
         3810647,
         "Jason Smith",
         "Jason",
         "Smith",
         "Jason",
         "Smith",
         "2024-11-07",
         "2024"
        ],
        [
         3810669,
         "James Tillmon",
         "James",
         "Tillmon",
         "James",
         "Tillmon",
         "2025-03-06",
         "2025"
        ],
        [
         3811926,
         "David Ellis",
         "David",
         "Ellis",
         "David",
         "Ellis",
         "2024-07-29",
         "2024"
        ],
        [
         3811930,
         "Billy Weaver",
         "Billy",
         "Weaver",
         "Billy",
         "Weaver",
         "2024-02-07",
         "2023"
        ],
        [
         3848262,
         "Jason Mays",
         "Jason",
         "Mays",
         "Jason",
         "Mays",
         "2024-02-12",
         "2023"
        ],
        [
         3848268,
         "Clay Hutchinson",
         "Clay",
         "Hutchinson",
         "Clay",
         "Hutchinson",
         "2024-04-01",
         "2024"
        ],
        [
         3848306,
         "Bob Crabbe",
         "Bob",
         "Crabbe",
         "Bob",
         "Crabbe",
         "2024-02-21",
         "2024"
        ],
        [
         3862017,
         "Jerry Alderson",
         "Jerry",
         "Alderson",
         "Jerry",
         "Alderson",
         "2023-11-09",
         "2023"
        ],
        [
         3862017,
         "Jerry Alderson",
         "Jerry",
         "Alderson",
         "Jerry",
         "Alderson",
         "2023-12-11",
         "2023"
        ],
        [
         3862219,
         "James Stout",
         "James",
         "Stout",
         "James",
         "Stout",
         "2023-08-21",
         "2023"
        ],
        [
         3862219,
         "James Stout",
         "James",
         "Stout",
         "James",
         "Stout",
         "2023-11-09",
         "2023"
        ],
        [
         3868337,
         "Doug Waymer",
         "Doug",
         "Waymer",
         "Doug",
         "Waymer",
         "2024-08-05",
         "2024"
        ],
        [
         3868337,
         "Doug Waymer",
         "Doug",
         "Waymer",
         "Doug",
         "Waymer",
         "2024-10-25",
         "2024"
        ],
        [
         3875670,
         "Chris Maye",
         "Chris",
         "Maye",
         "Chris",
         "Maye",
         "2024-07-17",
         "2024"
        ],
        [
         3875670,
         "Chris Maye",
         "Chris",
         "Maye",
         "Chris",
         "Maye",
         "2025-02-25",
         "2025"
        ],
        [
         3895392,
         "Tony Bella",
         "Tony",
         "Bella",
         "Tony",
         "Bella",
         "2024-03-22",
         "2024"
        ],
        [
         3895392,
         "Tony Bella",
         "Tony",
         "Bella",
         "Tony",
         "Bella",
         "2025-02-13",
         "2025"
        ],
        [
         3895405,
         "Devon Bailey",
         "Devon",
         "Bailey",
         "Devon",
         "Bailey",
         "2024-05-24",
         "2024"
        ],
        [
         3895405,
         "Devon Bailey",
         "Devon",
         "Bailey",
         "Devon",
         "Bailey",
         "2024-06-07",
         "2024"
        ],
        [
         3895405,
         "Devon Bailey",
         "Devon",
         "Bailey",
         "Devon",
         "Bailey",
         "2025-03-03",
         "2025"
        ],
        [
         3904680,
         "Braun Pruitt",
         "Braun",
         "Pruitt",
         "Braun",
         "Pruitt",
         "2023-04-14",
         "2023"
        ],
        [
         3904680,
         "Braun Pruitt",
         "Braun",
         "Pruitt",
         "Braun",
         "Pruitt",
         "2023-11-17",
         "2023"
        ],
        [
         3904736,
         "Willie Burns Jr.",
         "Willie",
         "Burns",
         "Willie",
         "Burns Jr.",
         "2023-05-08",
         "2023"
        ],
        [
         3904736,
         "Willie Burns Jr.",
         "Willie",
         "Burns",
         "Willie",
         "Burns Jr.",
         "2023-12-11",
         "2023"
        ],
        [
         3904840,
         "Jacob Martin",
         "Jacob",
         "Martin",
         "Jacob",
         "Martin",
         "2025-02-19",
         "2025"
        ],
        [
         3905270,
         "Nate Gardenhire",
         "Nate",
         "Gardenhire",
         "Napoleon",
         "Gardenhire",
         "2024-09-24",
         "2024"
        ],
        [
         3905562,
         "Anthony Johnson",
         "Anthony",
         "Johnson",
         "Anthony",
         "Johnson",
         "2025-01-09",
         "2025"
        ],
        [
         3906271,
         "Josh Wolfe",
         "Josh",
         "Wolfe",
         "Josh",
         "Wolfe",
         "2023-03-21",
         "2023"
        ],
        [
         3906271,
         "Josh Wolfe",
         "Josh",
         "Wolfe",
         "Josh",
         "Wolfe",
         "2023-11-19",
         "2023"
        ],
        [
         3906745,
         "David Biggs",
         "David",
         "Biggs",
         "David",
         "Biggs",
         "2025-01-28",
         "2025"
        ],
        [
         3919341,
         "Jeff Fork",
         "Jeff",
         "Fork",
         "Jeffry",
         "Fork",
         "2024-08-09",
         "2024"
        ],
        [
         3919401,
         "William Schafer",
         "William",
         "Schafer",
         "William",
         "Schafer",
         "2024-05-28",
         "2024"
        ],
        [
         3920896,
         "Kevin Smith",
         "Kevin",
         "Smith",
         "Kevin",
         "Smith",
         "2024-12-27",
         "2024"
        ],
        [
         3920896,
         "Kevin Smith",
         "Kevin",
         "Smith",
         "Kevin",
         "Smith",
         "2025-02-18",
         "2025"
        ],
        [
         3925012,
         "Pierre Nosewicz, Robert Georges",
         "Pierre",
         "Nosewicz,",
         "Robert",
         "Georges",
         "2023-01-11",
         "2023"
        ],
        [
         3925012,
         "Robert Georges",
         "Robert",
         "Georges",
         "Robert",
         "Georges",
         "2023-10-31",
         "2023"
        ],
        [
         3926365,
         "Jackie Valentine",
         "Jackie",
         "Valentine",
         "JACKIE",
         "VALENTINE",
         "2023-05-16",
         "2023"
        ],
        [
         3926457,
         "Tony Jones",
         "Tony",
         "Jones",
         "Tony",
         "Jones",
         "2024-05-07",
         "2024"
        ],
        [
         3933126,
         "Antonio Shells",
         "Antonio",
         "Shells",
         "Antonio",
         "Shells",
         "2024-08-14",
         "2024"
        ],
        [
         3933445,
         "Jerdarion Kennedy",
         "Jerdarion",
         "Kennedy",
         "Jerdarian",
         "Kennedy",
         "2023-02-08",
         "2023"
        ],
        [
         3933445,
         "Jerdarion Kennedy",
         "Jerdarion",
         "Kennedy",
         "Jerdarian",
         "Kennedy",
         "2023-08-16",
         "2023"
        ],
        [
         3938726,
         "Arther Rolle",
         "Arther",
         "Rolle",
         "Arthur",
         "rolle",
         "2024-07-06",
         "2024"
        ],
        [
         3941827,
         "Xavier Ellison",
         "Xavier",
         "Ellison",
         "Xavier",
         "Ellison",
         "2024-01-30",
         "2023"
        ],
        [
         3941836,
         "Jason Laurance",
         "Jason",
         "Laurance",
         "Jason",
         "Laurance",
         "2024-12-10",
         "2025"
        ],
        [
         3941837,
         "Lee Allen Meyers",
         "Lee",
         "Allen",
         "Lee",
         "Meyers",
         "2024-01-26",
         "2024"
        ],
        [
         3941837,
         "Lee Meyers",
         "Lee",
         "Meyers",
         "Lee",
         "Meyers",
         "2024-09-25",
         "2024"
        ],
        [
         3941840,
         "Antoine Alexander",
         "Antoine",
         "Alexander",
         "Antonio",
         "Alexander",
         "2024-05-06",
         "2024"
        ],
        [
         3941840,
         "Antoine Alexander",
         "Antoine",
         "Alexander",
         "Antonio",
         "Alexander",
         "2024-10-25",
         "2024"
        ],
        [
         3941935,
         "Travis Kelly",
         "Travis",
         "Kelly",
         "Travis",
         "Kelly",
         "2023-03-30",
         "2023"
        ],
        [
         3941935,
         "Travis Kelly",
         "Travis",
         "Kelly",
         "Travis",
         "Kelly",
         "2023-05-24",
         "2023"
        ],
        [
         3941935,
         "Travis Kelly",
         "Travis",
         "Kelly",
         "Travis",
         "Kelly",
         "2023-08-09",
         "2023"
        ],
        [
         3941935,
         "Travis Kelly",
         "Travis",
         "Kelly",
         "Travis",
         "Kelly",
         "2023-12-27",
         "2023"
        ],
        [
         3951635,
         "Howard Lee Salters",
         "Howard",
         "Lee",
         "Howard",
         "Salters",
         "2023-03-28",
         "2023"
        ],
        [
         3951635,
         "Howard Lee Salters",
         "Howard",
         "Lee",
         "Howard",
         "Salters",
         "2023-10-12",
         "2023"
        ],
        [
         3951635,
         "Howard Salters",
         "Howard",
         "Salters",
         "Howard",
         "Salters",
         "2023-10-29",
         "2023"
        ],
        [
         3951635,
         "Howard Salters",
         "Howard",
         "Salters",
         "Howard",
         "Salters",
         "2024-12-10",
         "2024"
        ],
        [
         3955541,
         "Jorge Ruiz-Santiago",
         "Jorge",
         "Ruiz-Santiago",
         "Jorge",
         "Ruiz",
         "2023-03-04",
         "2023"
        ],
        [
         3955541,
         "Jorge Ruiz-Santiago",
         "Jorge",
         "Ruiz-Santiago",
         "Jorge",
         "Ruiz",
         "2023-12-02",
         "2023"
        ],
        [
         3980637,
         "Kristopher Hack",
         "Kristopher",
         "Hack",
         "Kristopher",
         "Hack",
         "2024-03-04",
         "2024"
        ],
        [
         3983645,
         "Andy Diaz",
         "Andy",
         "Diaz",
         "Andy",
         "Diaz",
         "2024-10-08",
         "2024"
        ],
        [
         4024350,
         "Jeffrey Moline",
         "Jeffrey",
         "Moline",
         "Jeffrey",
         "Moline",
         "2024-01-22",
         "2023"
        ],
        [
         4036809,
         "James McGinnis",
         "James",
         "McGinnis",
         "James",
         "McGinnis",
         "2024-12-11",
         "2024"
        ],
        [
         4036826,
         "Anthony Nash",
         "Anthony",
         "Nash",
         "Anthony",
         "Nash",
         "2024-12-10",
         "2024"
        ],
        [
         4036831,
         "Larry McSwain",
         "Larry",
         "McSwain",
         "Larry",
         "Mcswain",
         "2024-02-08",
         "2023"
        ],
        [
         4036831,
         "Larry McSwain",
         "Larry",
         "McSwain",
         "Larry",
         "Mcswain",
         "2024-03-27",
         "2024"
        ],
        [
         4036831,
         "Larry McSwain",
         "Larry",
         "McSwain",
         "Larry",
         "Mcswain",
         "2024-10-16",
         "2024"
        ],
        [
         4039698,
         "Damon Wright",
         "Damon",
         "Wright",
         "Damon",
         "Wright",
         "2024-09-18",
         "2024"
        ],
        [
         4039740,
         "David Crawford",
         "David",
         "Crawford",
         "David",
         "Crawford",
         "2024-01-31",
         "2023"
        ],
        [
         4039783,
         "Jacob Todd",
         "Jacob",
         "Todd",
         "Jacob",
         "Todd",
         "2024-08-07",
         "2024"
        ],
        [
         4041709,
         "Shaun Huffman",
         "Shaun",
         "Huffman",
         "Shaun",
         "Huffman",
         "2023-06-12",
         "2023"
        ],
        [
         4041709,
         "Shaun Huffman",
         "Shaun",
         "Huffman",
         "Shaun",
         "Huffman",
         "2023-09-01",
         "2023"
        ],
        [
         4052950,
         "Gale Bluntschly",
         "Gale",
         "Bluntschly",
         "Gale",
         "Bluntschly",
         "2023-01-26",
         "2023"
        ],
        [
         4052950,
         "Gale Bluntschly",
         "Gale",
         "Bluntschly",
         "Gale",
         "Bluntschly",
         "2023-10-31",
         "2023"
        ],
        [
         4064448,
         "Justin Dunn",
         "Justin",
         "Dunn",
         "Justin",
         "Dunn",
         "2024-06-05",
         "2024"
        ],
        [
         4064850,
         "Ronnie Bradley",
         "Ronnie",
         "Bradley",
         "Ronnie",
         "Bradley",
         "2024-10-02",
         "2024"
        ],
        [
         4064850,
         "Ronnie Bradley",
         "Ronnie",
         "Bradley",
         "Ronnie",
         "Bradley",
         "2024-11-05",
         "2024"
        ],
        [
         4064850,
         "Ronnie Bradley",
         "Ronnie",
         "Bradley",
         "Ronnie",
         "Bradley",
         "2024-11-12",
         "2024"
        ],
        [
         4064954,
         "Joseph Orcutt",
         "Joseph",
         "Orcutt",
         "Joseph",
         "Orcutt",
         "2024-06-25",
         "2024"
        ],
        [
         4064954,
         "Joseph Orcutt",
         "Joseph",
         "Orcutt",
         "Joseph",
         "Orcutt",
         "2024-07-01",
         "2024"
        ],
        [
         4064970,
         "Eddie Hart",
         "Eddie",
         "Hart",
         "Eddie",
         "Hart",
         "2024-01-11",
         "2023"
        ],
        [
         4064970,
         "Edward Hart",
         "Edward",
         "Hart",
         "Eddie",
         "Hart",
         "2024-04-29",
         "2023"
        ],
        [
         4064970,
         "Edward Hart",
         "Edward",
         "Hart",
         "Eddie",
         "Hart",
         "2024-05-01",
         "2024"
        ],
        [
         4094941,
         "Rodney Jones, Jr",
         "Rodney",
         "Jones,",
         "Rodney",
         "Jones Jr",
         "2024-05-14",
         "2024"
        ],
        [
         4098920,
         "Javories Abraham",
         "Javories",
         "Abraham",
         "Daryl",
         "Abraham",
         "2023-05-11",
         "2023"
        ],
        [
         4098920,
         "Javories Abraham",
         "Javories",
         "Abraham",
         "Daryl",
         "Abraham",
         "2023-10-12",
         "2023"
        ],
        [
         4105456,
         "Tracy Newell",
         "Tracy",
         "Newell",
         "Tracy",
         "Newell",
         "2023-09-09",
         "2023"
        ],
        [
         4105456,
         "Tracy Newell",
         "Tracy",
         "Newell",
         "Tracy",
         "Newell",
         "2023-09-16",
         "2023"
        ],
        [
         4107683,
         "Jeff Meeks",
         "Jeff",
         "Meeks",
         "Jeffery",
         "Meeks",
         "2024-03-15",
         "2024"
        ],
        [
         4108271,
         "Matthew Perry",
         "Matthew",
         "Perry",
         "Matthew",
         "Perry",
         "2023-09-19",
         "2023"
        ],
        [
         4108271,
         "Matthew Perry",
         "Matthew",
         "Perry",
         "Matthew",
         "Perry",
         "2023-12-02",
         "2023"
        ],
        [
         4132036,
         "Geoffery Waddell",
         "Geoffery",
         "Waddell",
         "Geoffery",
         "Waddell",
         "2024-05-16",
         "2024"
        ],
        [
         4134532,
         "Willie Nolan",
         "Willie",
         "Nolan",
         "willie",
         "nolen",
         "2023-02-15",
         "2023"
        ],
        [
         4134532,
         "Willie Nolan",
         "Willie",
         "Nolan",
         "willie",
         "nolen",
         "2023-06-12",
         "2023"
        ],
        [
         4172477,
         "Roger Murphy",
         "Roger",
         "Murphy",
         "Roger",
         "Murphy",
         "2024-02-26",
         "2024"
        ],
        [
         4178853,
         "Anthony Easter",
         "Anthony",
         "Easter",
         "Anthony",
         "Easter",
         "2023-11-30",
         "2023"
        ],
        [
         4183324,
         "Malcolm Jackson",
         "Malcolm",
         "Jackson",
         "Malcolm",
         "Jackson",
         "2024-02-23",
         "2024"
        ],
        [
         4183324,
         "Malcolm Jackson",
         "Malcolm",
         "Jackson",
         "Malcolm",
         "Jackson",
         "2024-12-13",
         "2024"
        ],
        [
         4183324,
         "Malcolm Jackson",
         "Malcolm",
         "Jackson",
         "Malcolm",
         "Jackson",
         "2025-02-06",
         "2025"
        ],
        [
         4225979,
         "Nathan McCoy",
         "Nathan",
         "McCoy",
         "Nathan",
         "McCoy",
         "2023-03-04",
         "2023"
        ],
        [
         4225979,
         "Nathan McCoy",
         "Nathan",
         "McCoy",
         "Nathan",
         "McCoy",
         "2023-10-05",
         "2023"
        ],
        [
         4236194,
         "David Leverne Smith",
         "David",
         "Leverne",
         "David",
         "Leverne",
         "2024-06-06",
         "2024"
        ],
        [
         4239023,
         "Aaron Lawson",
         "Aaron",
         "Lawson",
         "Antonio",
         "Lawson",
         "2023-06-28",
         "2023"
        ],
        [
         4247456,
         "Micheal Roberts",
         "Micheal",
         "Roberts",
         "Michael",
         "Roberts",
         "2023-09-06",
         "2023"
        ],
        [
         4247456,
         "Micheal Roberts",
         "Micheal",
         "Roberts",
         "Michael",
         "Roberts",
         "2023-10-05",
         "2023"
        ],
        [
         4251279,
         "David Mungarro",
         "David",
         "Mungarro",
         "David",
         "Mungarro",
         "2023-08-21",
         "2023"
        ],
        [
         4251279,
         "David Mungarro",
         "David",
         "Mungarro",
         "David",
         "Mungarro",
         "2023-11-09",
         "2023"
        ],
        [
         4252166,
         "Allen Adams",
         "Allen",
         "Adams",
         "Allen",
         "Adams",
         "2024-03-11",
         "2024"
        ],
        [
         4252361,
         "Charles Perry",
         "Charles",
         "Perry",
         "Charles",
         "Perry",
         "2023-03-10",
         "2023"
        ],
        [
         4252361,
         "Charles Perry",
         "Charles",
         "Perry",
         "Charles",
         "Perry",
         "2023-07-13",
         "2023"
        ],
        [
         4252361,
         "Charles Perry",
         "Charles",
         "Perry",
         "Charles",
         "Perry",
         "2024-08-21",
         "2024"
        ],
        [
         4252393,
         "Chris Nalley",
         "Chris",
         "Nalley",
         "Chris",
         "Nalley",
         "2024-11-18",
         "2024"
        ],
        [
         4252399,
         "Aaron Buttrill",
         "Aaron",
         "Buttrill",
         "Aaron",
         "Buttrill",
         "2023-07-17",
         "2023"
        ],
        [
         4256443,
         "Trevor Naillon",
         "Trevor",
         "Naillon",
         "Trevor",
         "Naillon",
         "2024-09-19",
         "2024"
        ],
        [
         4270407,
         "Kenneth Brown",
         "Kenneth",
         "Brown",
         "Kenneth",
         "Brown",
         "2024-12-03",
         "2024"
        ],
        [
         4274272,
         "Miguel Valencia",
         "Miguel",
         "Valencia",
         "Miguel",
         "Valencia",
         "2023-09-09",
         "2023"
        ],
        [
         4274272,
         "Miguel Valencia",
         "Miguel",
         "Valencia",
         "Miguel",
         "Valencia",
         "2023-10-06",
         "2023"
        ],
        [
         4297413,
         "James Curtis",
         "James",
         "Curtis",
         "James",
         "Curtis",
         "2024-03-04",
         "2024"
        ],
        [
         4316847,
         "William Smith",
         "William",
         "Smith",
         "William",
         "Smith",
         "2024-09-26",
         "2024"
        ],
        [
         4316847,
         "William Smith",
         "William",
         "Smith",
         "William",
         "Smith",
         "2025-01-30",
         "2025"
        ],
        [
         4345095,
         "Joshua Fenech",
         "Joshua",
         "Fenech",
         "Josh",
         "Fenech",
         "2023-08-09",
         "2023"
        ],
        [
         4345095,
         "Joshua Fenech",
         "Joshua",
         "Fenech",
         "Josh",
         "Fenech",
         "2023-10-05",
         "2023"
        ],
        [
         4361005,
         "Phil Parcus",
         "Phil",
         "Parcus",
         "Phillip",
         "Parcus",
         "2024-06-07",
         "2024"
        ],
        [
         4364084,
         "David Douglas",
         "David",
         "Douglas",
         "David",
         "Douglas",
         "2024-04-23",
         "2024"
        ],
        [
         4364142,
         "Yung Skates",
         "Yung",
         "Skates",
         "Yung",
         "Skates",
         "2024-06-20",
         "2024"
        ],
        [
         4385388,
         "Dwayne Blackmon",
         "Dwayne",
         "Blackmon",
         "Dwayne",
         "Blackmon",
         "2024-07-03",
         "2024"
        ],
        [
         4385388,
         "Dwayne Blackmon",
         "Dwayne",
         "Blackmon",
         "Dwayne",
         "Blackmon",
         "2024-10-01",
         "2024"
        ],
        [
         4385433,
         "Corey Cobb",
         "Corey",
         "Cobb",
         "Corey",
         "Cobb",
         "2024-10-08",
         "2024"
        ],
        [
         4385485,
         "Dustin Fletcher",
         "Dustin",
         "Fletcher",
         "Dustin",
         "Fletcher",
         "2024-09-30",
         "2024"
        ],
        [
         4385490,
         "Willie Fletcher",
         "Willie",
         "Fletcher",
         "Willie",
         "Fletcher",
         "2024-07-16",
         "2024"
        ],
        [
         4385490,
         "Willie Fletcher",
         "Willie",
         "Fletcher",
         "Willie",
         "Fletcher",
         "2024-11-27",
         "2024"
        ],
        [
         4385501,
         "George Madera",
         "George",
         "Madera",
         "George",
         "Madera",
         "2023-10-05",
         "2023"
        ],
        [
         4385501,
         "George Madera",
         "George",
         "Madera",
         "George",
         "Madera",
         "2023-10-17",
         "2023"
        ],
        [
         4385501,
         "George Madera",
         "George",
         "Madera",
         "George",
         "Madera",
         "2024-01-27",
         "2024"
        ],
        [
         4404795,
         "James Newkirk",
         "James",
         "Newkirk",
         "James",
         "Newkirk",
         "2024-09-19",
         "2024"
        ],
        [
         4404795,
         "James Newkirk",
         "James",
         "Newkirk",
         "James",
         "Newkirk",
         "2024-11-21",
         "2024"
        ],
        [
         4404795,
         "James Newkirk",
         "James",
         "Newkirk",
         "James",
         "Newkirk",
         "2025-02-25",
         "2025"
        ],
        [
         4425244,
         "Adriqcus Davis",
         "Adriqcus",
         "Davis",
         "Adriqcus",
         "Davis",
         "2024-05-30",
         "2024"
        ],
        [
         4447484,
         "Larry Grammer",
         "Larry",
         "Grammer",
         "Larry",
         "Grammer",
         "2024-05-02",
         "2024"
        ],
        [
         4447484,
         "Larry Grammer",
         "Larry",
         "Grammer",
         "Larry",
         "Grammer",
         "2024-06-27",
         "2024"
        ],
        [
         4447484,
         "Larry Grammer",
         "Larry",
         "Grammer",
         "Larry",
         "Grammer",
         "2024-09-12",
         "2024"
        ],
        [
         4447484,
         "Larry Grammer",
         "Larry",
         "Grammer",
         "Larry",
         "Grammer",
         "2025-01-29",
         "2025"
        ],
        [
         4471545,
         "Daniel Sorenson",
         "Daniel",
         "Sorenson",
         "Daniel",
         "Sorenson",
         "2024-03-11",
         "2024"
        ],
        [
         4476044,
         "Parker Fitler",
         "Parker",
         "Fitler",
         "Parker",
         "Fitler",
         "2023-12-07",
         "2023"
        ],
        [
         4485928,
         "Robert Petty",
         "Robert",
         "Petty",
         "Robert",
         "Petty",
         "2024-06-07",
         "2024"
        ],
        [
         4487773,
         "Jaylon Kelly",
         "Jaylon",
         "Kelly",
         "Jaylon",
         "Kelly",
         "2024-12-05",
         "2024"
        ],
        [
         4493208,
         "Brandon Lail",
         "Brandon",
         "Lail",
         "Brandon",
         "Lail",
         "2024-09-19",
         "2024"
        ],
        [
         4493208,
         "Brandon Lail",
         "Brandon",
         "Lail",
         "Brandon",
         "Lail",
         "2024-09-20",
         "2024"
        ],
        [
         4493208,
         "Brandon Lail",
         "Brandon",
         "Lail",
         "Brandon",
         "Lail",
         "2024-09-23",
         "2024"
        ],
        [
         4502246,
         "Rodney Bursey",
         "Rodney",
         "Bursey",
         "Rodney",
         "Bursey",
         "2024-03-08",
         "2024"
        ],
        [
         4507604,
         "Donavin Ledford",
         "Donavin",
         "Ledford",
         "Donavin",
         "Ledford",
         "2024-08-26",
         "2024"
        ],
        [
         4515304,
         "Daniel Hunt",
         "Daniel",
         "Hunt",
         "Daniel",
         "Hunt",
         "2024-07-09",
         "2024"
        ],
        [
         4515304,
         "Daniel Hunt",
         "Daniel",
         "Hunt",
         "Daniel",
         "Hunt",
         "2024-10-03",
         "2024"
        ],
        [
         4515304,
         "Daniel Hunt",
         "Daniel",
         "Hunt",
         "Daniel",
         "Hunt",
         "2025-01-10",
         "2025"
        ],
        [
         4515311,
         "Joe DeStefano",
         "Joe",
         "DeStefano",
         "JOE",
         "DESTEFANO",
         "2024-09-04",
         "2024"
        ],
        [
         4515325,
         "Kirby Mathieu",
         "Kirby",
         "Mathieu",
         "KERBY",
         "MATHIEU",
         "2025-01-13",
         "2025"
        ],
        [
         4515337,
         "REUBEN MUNOZ",
         "REUBEN",
         "MUNOZ",
         "RUEBEN",
         "MUNOZ",
         "2025-01-14",
         "2025"
        ],
        [
         4515340,
         "Samuel Castro",
         "Samuel",
         "Castro",
         "SAM",
         "CASTRO",
         "2024-05-03",
         "2024"
        ],
        [
         4515340,
         "Sam Castro",
         "Sam",
         "Castro",
         "SAM",
         "CASTRO",
         "2024-05-18",
         "2024"
        ],
        [
         4525522,
         "James Moats",
         "James",
         "Moats",
         "James",
         "Moats",
         "2024-10-24",
         "2024"
        ],
        [
         4543757,
         "Octavia Rufus",
         "Octavia",
         "Rufus",
         "Octavia",
         "Rufus",
         "2024-08-09",
         "2024"
        ],
        [
         4543764,
         "Kelcy Harmon",
         "Kelcy",
         "Harmon",
         "Kelcy",
         "Harmon",
         "2023-10-05",
         "2023"
        ],
        [
         4543764,
         "Kelcy Harmon",
         "Kelcy",
         "Harmon",
         "Kelcy",
         "Harmon",
         "2023-10-29",
         "2023"
        ],
        [
         4543880,
         "Xavier Morris",
         "Xavier",
         "Morris",
         "Xavier",
         "Morris",
         "2023-11-04",
         "2023"
        ],
        [
         4543880,
         "Xavier Morris",
         "Xavier",
         "Morris",
         "Xavier",
         "Morris",
         "2023-11-17",
         "2023"
        ],
        [
         4545962,
         "Robert Earbarotto",
         "Robert",
         "Earbarotto",
         "Robert",
         "Barbarotto",
         "2024-02-14",
         "2023"
        ],
        [
         4553943,
         "Jerry Hernadez",
         "Jerry",
         "Hernadez",
         "Jerry",
         "Hernandez",
         "2024-10-30",
         "2024"
        ],
        [
         4554061,
         "Juan Castaneda",
         "Juan",
         "Castaneda",
         "Juan",
         "Castaneda",
         "2024-12-24",
         "2024"
        ],
        [
         4571579,
         "Michael Baker",
         "Michael",
         "Baker",
         "Michael",
         "Baker",
         "2024-07-30",
         "2024"
        ],
        [
         4571579,
         "Michael Baker",
         "Michael",
         "Baker",
         "Michael",
         "Baker",
         "2024-10-25",
         "2024"
        ],
        [
         4571579,
         "Mike Baker",
         "Mike",
         "Baker",
         "Michael",
         "Baker",
         "2024-12-31",
         "2025"
        ],
        [
         4571579,
         "Mike Baker",
         "Mike",
         "Baker",
         "Michael",
         "Baker",
         "2025-02-18",
         "2025"
        ],
        [
         4584155,
         "Jason Weaver",
         "Jason",
         "Weaver",
         "Jason",
         "Weaver",
         "2024-12-31",
         "2025"
        ],
        [
         4589439,
         "James Sims",
         "James",
         "Sims",
         "JAMES",
         "SIMS",
         "2024-02-13",
         "2023"
        ],
        [
         4603596,
         "Cody Calkins",
         "Cody",
         "Calkins",
         "Cody",
         "Calkins",
         "2024-05-29",
         "2024"
        ],
        [
         4617934,
         "Stafford Turner",
         "Stafford",
         "Turner",
         "Stafford",
         "Turner",
         "2024-07-08",
         "2024"
        ],
        [
         4617934,
         "Stafford Turner",
         "Stafford",
         "Turner",
         "Stafford",
         "Turner",
         "2024-10-17",
         "2024"
        ],
        [
         4618465,
         "Danny Davis",
         "Danny",
         "Davis",
         "Danny",
         "Davis",
         "2024-04-30",
         "2024"
        ],
        [
         4631748,
         "Jeremy Priddy",
         "Jeremy",
         "Priddy",
         "Jeremy",
         "Priddy",
         "2024-03-19",
         "2024"
        ],
        [
         4659774,
         "Marcus Weaver",
         "Marcus",
         "Weaver",
         "Marcus",
         "Weaver",
         "2024-06-18",
         "2024"
        ],
        [
         4667148,
         "Sawyer Kopacka",
         "Sawyer",
         "Kopacka",
         "Sawyer",
         "Kopacka",
         "2024-04-16",
         "2024"
        ],
        [
         4674713,
         "Henry Thomas",
         "Henry",
         "Thomas",
         "Henry",
         "Thomas",
         "2024-11-01",
         "2024"
        ],
        [
         4674713,
         "Henry Thomas",
         "Henry",
         "Thomas",
         "Henry",
         "Thomas",
         "2024-11-27",
         "2024"
        ],
        [
         4675253,
         "William Hartshorn",
         "William",
         "Hartshorn",
         "Bill",
         "Hartshorn",
         "2024-12-10",
         "2024"
        ],
        [
         4677740,
         "Corey Maxon",
         "Corey",
         "Maxon",
         "Corey",
         "Maxon",
         "2024-12-30",
         "2025"
        ],
        [
         4679123,
         "Lincoln Roberts",
         "Lincoln",
         "Roberts",
         "Lincoln",
         "Roberts",
         "2025-01-08",
         "2025"
        ],
        [
         4681186,
         "Charles Angles",
         "Charles",
         "Angles",
         "Charles",
         "Angles",
         "2024-05-14",
         "2024"
        ],
        [
         4686586,
         "Chris Newsome",
         "Chris",
         "Newsome",
         "Chris",
         "Newsome",
         "2024-04-19",
         "2024"
        ],
        [
         4686620,
         "Bradley Rodriguez",
         "Bradley",
         "Rodriguez",
         "Bradley",
         "Rodriguez",
         "2024-10-21",
         "2024"
        ],
        [
         4688972,
         "Mario Coronado",
         "Mario",
         "Coronado",
         "Mario",
         "Coronado",
         "2023-04-19",
         "2023"
        ],
        [
         4688972,
         "Mario Coronado",
         "Mario",
         "Coronado",
         "Mario",
         "Coronado",
         "2023-12-27",
         "2023"
        ],
        [
         4689170,
         "Rolando Zuniga",
         "Rolando",
         "Zuniga",
         "Rolando",
         "Zuniga",
         "2024-02-29",
         "2023"
        ],
        [
         4689176,
         "hector reyes",
         "hector",
         "reyes",
         "Hector",
         "Reyes",
         "2025-02-24",
         "2025"
        ],
        [
         4691351,
         "Ashley Ingram",
         "Ashley",
         "Ingram",
         "ASHLEY",
         "INGRAM",
         "2024-04-03",
         "2024"
        ],
        [
         4693729,
         "Travon Clark",
         "Travon",
         "Clark",
         "Travon",
         "Clark",
         "2024-05-01",
         "2024"
        ],
        [
         4695463,
         "BILLY BRADLEY",
         "BILLY",
         "BRADLEY",
         "Billy",
         "Bradley",
         "2024-12-16",
         "2024"
        ],
        [
         4698786,
         "Eduar Aponte",
         "Eduar",
         "Aponte",
         "Eduar",
         "Aponte",
         "2024-12-17",
         "2024"
        ],
        [
         4698806,
         "Jacob Clinard",
         "Jacob",
         "Clinard",
         "Jacob",
         "Clinard",
         "2024-10-17",
         "2024"
        ],
        [
         4698875,
         "Ivan Torres",
         "Ivan",
         "Torres",
         "Ivan",
         "Gonzalez Torres",
         "2024-06-17",
         "2024"
        ],
        [
         4699083,
         "Nathan Lopez",
         "Nathan",
         "Lopez",
         "Nathan",
         "Lopez",
         "2024-04-25",
         "2024"
        ],
        [
         4699410,
         "Antony Ortuno",
         "Antony",
         "Ortuno",
         "Antony",
         "Ortuno",
         "2024-04-18",
         "2024"
        ],
        [
         4699410,
         "Antony Ortuno",
         "Antony",
         "Ortuno",
         "Antony",
         "Ortuno",
         "2024-09-12",
         "2024"
        ],
        [
         4699555,
         "Edtwquan Taylor",
         "Edtwquan",
         "Taylor",
         "Edtwquan",
         "Taylor",
         "2024-03-01",
         "2024"
        ],
        [
         4699555,
         "Edtwquan Taylor",
         "Edtwquan",
         "Taylor",
         "Edtwquan",
         "Taylor",
         "2024-06-13",
         "2024"
        ],
        [
         4699590,
         "Christopher Vales",
         "Christopher",
         "Vales",
         "Christopher",
         "Vales",
         "2025-01-17",
         "2025"
        ],
        [
         4700002,
         "Joshua Storm",
         "Joshua",
         "Storm",
         "Joshua",
         "Storm",
         "2024-08-19",
         "2024"
        ],
        [
         4700273,
         "Thomas Harris",
         "Thomas",
         "Harris",
         "Thomas",
         "Harris",
         "2024-08-01",
         "2024"
        ],
        [
         4700321,
         "Roman Coronado",
         "Roman",
         "Coronado",
         "Roman",
         "Coronado",
         "2024-11-21",
         "2024"
        ],
        [
         4700432,
         "Yoandy Hernandez Ferrales",
         "Yoandy",
         "Hernandez",
         "Yoandy",
         "Hernandez Ferrales",
         "2024-09-06",
         "2024"
        ],
        [
         4700520,
         "David Trotter",
         "David",
         "Trotter",
         "David",
         "Trotter",
         "2024-04-09",
         "2024"
        ],
        [
         4700526,
         "Billy Martin",
         "Billy",
         "Martin",
         "Billy",
         "Martin",
         "2024-04-11",
         "2024"
        ],
        [
         4700526,
         "Billy Martin",
         "Billy",
         "Martin",
         "Billy",
         "Martin",
         "2024-09-27",
         "2024"
        ],
        [
         4717896,
         "Joseph Scott",
         "Joseph",
         "Scott",
         "Joseph",
         "Scott",
         "2024-08-14",
         "2024"
        ],
        [
         4726304,
         "Ryan Taylor",
         "Ryan",
         "Taylor",
         "Ryan",
         "Taylor",
         "2024-08-26",
         "2024"
        ],
        [
         4726304,
         "Ryan Taylor",
         "Ryan",
         "Taylor",
         "Ryan",
         "Taylor",
         "2024-10-29",
         "2024"
        ],
        [
         4730946,
         "Kyle Phillip",
         "Kyle",
         "Phillip",
         "Kyle",
         "Phillip",
         "2024-06-06",
         "2024"
        ],
        [
         4733072,
         "Martell James",
         "Martell",
         "James",
         "Martell",
         "James",
         "2024-04-25",
         "2023"
        ],
        [
         4733205,
         "Ryan Buchanan",
         "Ryan",
         "Buchanan",
         "Ryan",
         "Buchanan",
         "2025-02-24",
         "2025"
        ],
        [
         4741855,
         "Nicholas Johnson",
         "Nicholas",
         "Johnson",
         "Nicholas",
         "Johnson",
         "2024-06-26",
         "2024"
        ],
        [
         4741855,
         "Nicholas Johnson",
         "Nicholas",
         "Johnson",
         "Nicholas",
         "Johnson",
         "2025-02-04",
         "2025"
        ],
        [
         4745257,
         "Kristopher May",
         "Kristopher",
         "May",
         "Kristopher",
         "May",
         "2024-05-20",
         "2024"
        ],
        [
         4749811,
         "Christopher Burnette",
         "Christopher",
         "Burnette",
         "Chris",
         "Burnette",
         "2024-05-15",
         "2024"
        ],
        [
         4758715,
         "Henry Brewer",
         "Henry",
         "Brewer",
         "Henry",
         "Brewer",
         "2024-08-07",
         "2024"
        ],
        [
         4762142,
         "John Powell",
         "John",
         "Powell",
         "John",
         "Powell",
         "2024-05-22",
         "2024"
        ],
        [
         4762142,
         "John Powell",
         "John",
         "Powell",
         "John",
         "Powell",
         "2024-06-20",
         "2024"
        ],
        [
         4769710,
         "David Woods",
         "David",
         "Woods",
         "David",
         "Woods jr",
         "2024-06-06",
         "2024"
        ],
        [
         4769952,
         "Adrian Hughes",
         "Adrian",
         "Hughes",
         "ADRIAN",
         "HUGHES",
         "2024-06-28",
         "2024"
        ],
        [
         4769952,
         "Adrian Hughes",
         "Adrian",
         "Hughes",
         "ADRIAN",
         "HUGHES",
         "2024-09-24",
         "2024"
        ],
        [
         4771305,
         "Ron Richards",
         "Ron",
         "Richards",
         "Ronald",
         "Richards",
         "2024-11-06",
         "2024"
        ],
        [
         4788705,
         "Andre Mathis",
         "Andre",
         "Mathis",
         "andre",
         "mathis",
         "2024-06-03",
         "2024"
        ],
        [
         4794313,
         "Justin Correll",
         "Justin",
         "Correll",
         "Justin",
         "Correll",
         "2024-06-17",
         "2024"
        ],
        [
         4794313,
         "Justin Correll",
         "Justin",
         "Correll",
         "Justin",
         "Correll",
         "2024-07-11",
         "2024"
        ],
        [
         4794313,
         "Justin Correll",
         "Justin",
         "Correll",
         "Justin",
         "Correll",
         "2024-12-19",
         "2024"
        ],
        [
         4794313,
         "Justin Correll",
         "Justin",
         "Correll",
         "Justin",
         "Correll",
         "2025-03-06",
         "2025"
        ],
        [
         4795144,
         "Kent Lewis",
         "Kent",
         "Lewis",
         "KENT",
         "LEWIS",
         "2024-06-12",
         "2024"
        ],
        [
         4799088,
         "Jeremy Duckworth",
         "Jeremy",
         "Duckworth",
         "Jeremy",
         "Duckworth",
         "2024-06-25",
         "2024"
        ],
        [
         4801640,
         "Jesse Hall",
         "Jesse",
         "Hall",
         "Jesse",
         "Hall",
         "2024-08-13",
         "2024"
        ],
        [
         4805197,
         "Christopher Reed",
         "Christopher",
         "Reed",
         "Christopher",
         "Reed",
         "2024-06-10",
         "2024"
        ],
        [
         4805197,
         "Chris Reed",
         "Chris",
         "Reed",
         "Christopher",
         "Reed",
         "2024-06-13",
         "2024"
        ],
        [
         4819112,
         "Jonaton Dolan",
         "Jonaton",
         "Dolan",
         "JONATHAN",
         "DOLAN",
         "2024-06-17",
         "2024"
        ],
        [
         4831370,
         "Cesar Huerta Dominguez",
         "Cesar",
         "Huerta",
         "Cesar",
         "Dominguez",
         "2024-07-19",
         "2024"
        ],
        [
         4831370,
         "Cesar Huerta Dominguez",
         "Cesar",
         "Huerta",
         "Cesar",
         "Dominguez",
         "2025-01-21",
         "2025"
        ],
        [
         4847334,
         "Troy Brown",
         "Troy",
         "Brown",
         "Troy",
         "Brown",
         "2024-06-25",
         "2024"
        ],
        [
         4850139,
         "Amber DeHart",
         "Amber",
         "DeHart",
         "Amber",
         "DeHart",
         "2024-08-08",
         "2024"
        ],
        [
         4850139,
         "Amber Shey",
         "Amber",
         "Shey",
         "Amber",
         "DeHart",
         "2024-10-26",
         "2024"
        ],
        [
         4850145,
         "Darrick Parker",
         "Darrick",
         "Parker",
         "Darrick",
         "Parker",
         "2024-07-04",
         "2024"
        ],
        [
         4850146,
         "Steven Lopez",
         "Steven",
         "Lopez",
         "Steven",
         "Lopez",
         "2024-08-07",
         "2024"
        ],
        [
         4852873,
         "Kelly Walker",
         "Kelly",
         "Walker",
         "Kelly",
         "Walker",
         "2024-07-31",
         "2024"
        ],
        [
         4854846,
         "Kewan Littlejohn",
         "Kewan",
         "Littlejohn",
         "Kewan",
         "Littlejohn",
         "2025-03-04",
         "2025"
        ],
        [
         4859441,
         "Randy Simmons",
         "Randy",
         "Simmons",
         "Randy",
         "Simmons",
         "2024-10-04",
         "2024"
        ],
        [
         4867601,
         "Anthony Thomas",
         "Anthony",
         "Thomas",
         "Anthony",
         "Thomas",
         "2024-12-20",
         "2024"
        ],
        [
         4871747,
         "Casey Wimmer",
         "Casey",
         "Wimmer",
         "Casey",
         "Wimmer",
         "2025-03-07",
         "2025"
        ],
        [
         4876593,
         "Jaylen Miller",
         "Jaylen",
         "Miller",
         "Jaylen",
         "Miller",
         "2024-12-02",
         "2024"
        ],
        [
         4876620,
         "Gary Murrison",
         "Gary",
         "Murrison",
         "Gary",
         "Murrison",
         "2024-12-17",
         "2024"
        ],
        [
         4876620,
         "Gary Murrison",
         "Gary",
         "Murrison",
         "Gary",
         "Murrison",
         "2025-01-07",
         "2025"
        ],
        [
         4877799,
         "Jose Flores",
         "Jose",
         "Flores",
         "Jose",
         "Flores",
         "2025-01-13",
         "2025"
        ],
        [
         4895415,
         "Tymal Pack",
         "Tymal",
         "Pack",
         "Tymal",
         "Pack",
         "2024-10-21",
         "2024"
        ],
        [
         4895415,
         "Tymal Pack",
         "Tymal",
         "Pack",
         "Tymal",
         "Pack",
         "2024-12-31",
         "2024"
        ],
        [
         4898531,
         "Bryan Ratsaboutseua",
         "Bryan",
         "Ratsaboutseua",
         "Bryan",
         "Ratsaboutseua",
         "2024-06-10",
         "2024"
        ],
        [
         4901506,
         "Gabinson Magistrat",
         "Gabinson",
         "Magistrat",
         "GABINSON",
         "MAGISTRAT",
         "2025-01-30",
         "2025"
        ],
        [
         4901507,
         "Brandon Roberts",
         "Brandon",
         "Roberts",
         "Brandon",
         "Roberts",
         "2024-11-25",
         "2024"
        ],
        [
         4917040,
         "Robert Ford",
         "Robert",
         "Ford",
         "ROBERT",
         "FORD",
         "2024-08-19",
         "2024"
        ],
        [
         4918147,
         "Alexis Samon Moreno",
         "Alexis",
         "Samon",
         "Alexis",
         "Samon Moreno",
         "2024-11-26",
         "2024"
        ],
        [
         4922757,
         "Herm Tuggle",
         "Herm",
         "Tuggle",
         "Herm",
         "Tuggles",
         "2024-08-08",
         "2024"
        ],
        [
         4922757,
         "Herm Tuggles",
         "Herm",
         "Tuggles",
         "Herm",
         "Tuggles",
         "2024-09-27",
         "2024"
        ],
        [
         4928633,
         "Kristopher Krock",
         "Kristopher",
         "Krock",
         "Kris",
         "Krock",
         "2024-08-27",
         "2024"
        ],
        [
         4929595,
         "Alton Hoover",
         "Alton",
         "Hoover",
         "Alton",
         "Hoover",
         "2024-10-17",
         "2024"
        ],
        [
         4934308,
         "Mitch Hardin",
         "Mitch",
         "Hardin",
         "Mitch",
         "Hardin",
         "2024-08-23",
         "2024"
        ],
        [
         4934308,
         "Mitch Hardin",
         "Mitch",
         "Hardin",
         "Mitch",
         "Hardin",
         "2025-02-27",
         "2025"
        ],
        [
         4934322,
         "Dave Vickery",
         "Dave",
         "Vickery",
         "David",
         "Vickery",
         "2024-08-01",
         "2024"
        ],
        [
         4934322,
         "David Vickery",
         "David",
         "Vickery",
         "David",
         "Vickery",
         "2024-09-04",
         "2024"
        ],
        [
         4934322,
         "Dave Vickery",
         "Dave",
         "Vickery",
         "David",
         "Vickery",
         "2024-10-10",
         "2024"
        ],
        [
         4937199,
         "Brantley Hodges",
         "Brantley",
         "Hodges",
         "Brantley",
         "Hodge",
         "2024-07-16",
         "2024"
        ],
        [
         4937199,
         "Brantley Hodge",
         "Brantley",
         "Hodge",
         "Brantley",
         "Hodge",
         "2024-11-14",
         "2024"
        ],
        [
         4937624,
         "Joel Stillman",
         "Joel",
         "Stillman",
         "Joel",
         "stillman",
         "2024-09-10",
         "2024"
        ],
        [
         4940924,
         "Arika Owens",
         "Arika",
         "Owens",
         "Arika",
         "Owens",
         "2024-09-13",
         "2024"
        ],
        [
         4942232,
         "Zachary Queen",
         "Zachary",
         "Queen",
         "Zachary",
         "Queen",
         "2024-11-16",
         "2024"
        ],
        [
         4942232,
         "Zachary Queen",
         "Zachary",
         "Queen",
         "Zachary",
         "Queen",
         "2024-11-18",
         "2024"
        ],
        [
         4967877,
         "Michael Whitmire",
         "Michael",
         "Whitmire",
         "Michael",
         "Whitmire",
         "2024-09-17",
         "2024"
        ],
        [
         4973534,
         "Jorge Viltres Palacios",
         "Jorge",
         "Viltres",
         "Jorge",
         "Viltres Palacios",
         "2024-08-19",
         "2024"
        ],
        [
         4973534,
         "Jorge Viltres",
         "Jorge",
         "Viltres",
         "Jorge",
         "Viltres Palacios",
         "2024-11-07",
         "2024"
        ],
        [
         4973600,
         "Yoannier Labastida",
         "Yoannier",
         "Labastida",
         "Yoannier",
         "Labastida",
         "2024-09-04",
         "2024"
        ],
        [
         4975646,
         "Brix Byers",
         "Brix",
         "Byers",
         "Brix",
         "Byers",
         "2024-06-28",
         "2024"
        ],
        [
         5019165,
         "Jacob Bakey",
         "Jacob",
         "Bakey",
         "Jacob",
         "Bakey",
         "2024-12-02",
         "2024"
        ],
        [
         5020695,
         "Brittni Underwood-Maclin",
         "Brittni",
         "Underwood-Maclin",
         "Brittni",
         "Underwood Maclin",
         "2024-08-30",
         "2024"
        ],
        [
         5022909,
         "Sebastiao Davita",
         "Sebastiao",
         "Davita",
         "Sebastiao",
         "Davita",
         "2024-08-29",
         "2024"
        ],
        [
         5030936,
         "Joseph Kashindi",
         "Joseph",
         "Kashindi",
         "Joseph",
         "Kashindi",
         "2024-10-28",
         "2024"
        ],
        [
         5034814,
         "Travis Walker",
         "Travis",
         "Walker",
         "Travis",
         "Walker",
         "2024-09-24",
         "2024"
        ],
        [
         5037692,
         "Alian Cisneros",
         "Alian",
         "Cisneros",
         "Alain",
         "Cisneros Alfonso",
         "2024-12-04",
         "2024"
        ],
        [
         5042770,
         "Jamie Chastain",
         "Jamie",
         "Chastain",
         "JAMIE",
         "CHASTAIN",
         "2024-09-12",
         "2024"
        ],
        [
         5046067,
         "Steven Munsen",
         "Steven",
         "Munsen",
         "Steven",
         "Munsen",
         "2024-10-17",
         "2024"
        ],
        [
         5046067,
         "Steven Munsen",
         "Steven",
         "Munsen",
         "Steven",
         "Munsen",
         "2024-12-10",
         "2024"
        ],
        [
         5058437,
         "Eric Robertson",
         "Eric",
         "Robertson",
         "Eric",
         "Robertson",
         "2024-12-10",
         "2024"
        ],
        [
         5123349,
         "Darius Sawyers",
         "Darius",
         "Sawyers",
         "Darius",
         "Sawyer",
         "2024-09-26",
         "2024"
        ],
        [
         5126062,
         "Michael Spencer",
         "Michael",
         "Spencer",
         "michael",
         "spencer",
         "2025-01-30",
         "2025"
        ],
        [
         5140920,
         "Zeke Reyes",
         "Zeke",
         "Reyes",
         "Ezekiel",
         "Reyes",
         "2025-01-09",
         "2025"
        ],
        [
         5140927,
         "Richard Cornelius",
         "Richard",
         "Cornelius",
         "Richard",
         "Cornelius",
         "2024-10-31",
         "2024"
        ],
        [
         5140931,
         "Stanley Roberts",
         "Stanley",
         "Roberts",
         "Stanley",
         "Roberts",
         "2024-11-21",
         "2024"
        ],
        [
         5142623,
         "Marco Carlisle",
         "Marco",
         "Carlisle",
         "MARCO",
         "CARLISLE",
         "2024-12-16",
         "2024"
        ],
        [
         5143242,
         "Marcus Smith",
         "Marcus",
         "Smith",
         "MARCUS",
         "SMITH",
         "2024-12-30",
         "2024"
        ],
        [
         5145022,
         "Kendrick Owens",
         "Kendrick",
         "Owens",
         "KENDRICK",
         "OWENS",
         "2024-10-08",
         "2024"
        ],
        [
         5146024,
         "Dallas Howell",
         "Dallas",
         "Howell",
         "Dallas",
         "Howell",
         "2024-12-02",
         "2025"
        ],
        [
         5146047,
         "James Campbell",
         "James",
         "Campbell",
         "James",
         "Campbell",
         "2024-10-16",
         "2024"
        ],
        [
         5151833,
         "Vincent Mcwright",
         "Vincent",
         "Mcwright",
         "VINCENT",
         "MCWRIGHT",
         "2025-03-04",
         "2025"
        ],
        [
         5152352,
         "Jonathon Coons",
         "Jonathon",
         "Coons",
         "Jonathan",
         "Coons",
         "2024-12-10",
         "2024"
        ],
        [
         5153858,
         "Trenton Strommen",
         "Trenton",
         "Strommen",
         "Trenton",
         "Strommen",
         "2024-10-18",
         "2024"
        ],
        [
         5161749,
         "William Davis",
         "William",
         "Davis",
         "William",
         "Davis",
         "2025-01-24",
         "2025"
        ],
        [
         5161749,
         "William Davis",
         "William",
         "Davis",
         "William",
         "Davis",
         "2025-02-03",
         "2025"
        ],
        [
         5169060,
         "Leo Depaz",
         "Leo",
         "Depaz",
         "Amadeo",
         "Depaz",
         "2024-11-27",
         "2024"
        ],
        [
         5175010,
         "Mike Tucker",
         "Mike",
         "Tucker",
         "Mike",
         "Tucker",
         "2024-12-30",
         "2024"
        ],
        [
         5177440,
         "Dan Earles",
         "Dan",
         "Earles",
         "Dan",
         "Earles",
         "2025-01-24",
         "2025"
        ],
        [
         5178258,
         "Eugene Leicht",
         "Eugene",
         "Leicht",
         "Eugene",
         "Leicht",
         "2024-11-05",
         "2024"
        ],
        [
         5179148,
         "Tyler Hensley",
         "Tyler",
         "Hensley",
         "Tyler",
         "Hensley",
         "2024-11-05",
         "2024"
        ],
        [
         5186247,
         "Jeromy Atherton",
         "Jeromy",
         "Atherton",
         "Jeromy",
         "Atherton",
         "2025-01-20",
         "2025"
        ],
        [
         5225723,
         "Johnny Jenkins",
         "Johnny",
         "Jenkins",
         "Johnny",
         "Jenkins",
         "2024-12-10",
         "2024"
        ],
        [
         5233624,
         "Benjamin Lake",
         "Benjamin",
         "Lake",
         "Benjamin",
         "Lake",
         "2024-11-19",
         "2024"
        ],
        [
         5242742,
         "BOBBY SCURLOCK",
         "BOBBY",
         "SCURLOCK",
         "Bobby",
         "Scurlock",
         "2025-03-04",
         "2025"
        ],
        [
         5252157,
         "Justin Stanford",
         "Justin",
         "Stanford",
         "Justin",
         "Stanford",
         "2024-12-11",
         "2024"
        ],
        [
         5266970,
         "Leonel Perez Castillo",
         "Leonel",
         "Perez",
         "Leonel",
         "Perez Castillo",
         "2025-02-06",
         "2025"
        ],
        [
         5266970,
         "Leonel",
         "Leonel",
         null,
         "Leonel",
         "Perez Castillo",
         "2025-02-13",
         "2025"
        ],
        [
         5283662,
         "JT Buckmon",
         "JT",
         "Buckmon",
         "Jassamyn",
         "Buckmon",
         "2025-01-28",
         "2025"
        ],
        [
         5349324,
         "Ernesto Soto",
         "Ernesto",
         "Soto",
         "ERNESTO",
         "SOTO",
         "2024-12-17",
         "2024"
        ],
        [
         5379515,
         "Michael Finley",
         "Michael",
         "Finley",
         "Michael",
         "Finley",
         "2025-02-24",
         "2025"
        ],
        [
         5400950,
         "Joe Irvin",
         "Joe",
         "Irvin",
         "Joe",
         "Irvin",
         "2025-02-21",
         "2025"
        ],
        [
         5422620,
         "Randy Scarboro",
         "Randy",
         "Scarboro",
         "RANDY",
         "SCARBORO",
         "2025-02-28",
         "2025"
        ]
       ],
       "datasetInfos": [],
       "dbfsResultPath": null,
       "isJsonSchema": true,
       "metadata": {},
       "overflow": false,
       "plotOptions": {
        "customPlotOptions": {},
        "displayType": "table",
        "pivotAggregation": null,
        "pivotColumns": null,
        "xColumns": null,
        "yColumns": null
       },
       "removedWidgets": [],
       "schema": [
        {
         "metadata": "{}",
         "name": "driver_id",
         "type": "\"integer\""
        },
        {
         "metadata": "{}",
         "name": "insured_driver_name",
         "type": "\"string\""
        },
        {
         "metadata": "{}",
         "name": "insured_first_name",
         "type": "\"string\""
        },
        {
         "metadata": "{}",
         "name": "insured_last_name",
         "type": "\"string\""
        },
        {
         "metadata": "{}",
         "name": "driver_first_name",
         "type": "\"string\""
        },
        {
         "metadata": "{}",
         "name": "driver_last_name",
         "type": "\"string\""
        },
        {
         "metadata": "{}",
         "name": "Date",
         "type": "\"string\""
        },
        {
         "metadata": "{}",
         "name": "Year",
         "type": "\"string\""
        }
       ],
       "type": "table"
      }
     },
     "output_type": "display_data"
    }
   ],
   "source": [
    "display(final_df)"
   ]
  }
 ],
 "metadata": {
  "application/vnd.databricks.v1+notebook": {
   "computePreferences": null,
   "dashboards": [],
   "environmentMetadata": {
    "base_environment": "",
    "environment_version": "2"
   },
   "inputWidgetPreferences": null,
   "language": "python",
   "notebookMetadata": {
    "pythonIndentUnit": 4
   },
   "notebookName": "accident_claims_data",
   "widgets": {}
  },
  "language_info": {
   "name": "python"
  }
 },
 "nbformat": 4,
 "nbformat_minor": 0
}
