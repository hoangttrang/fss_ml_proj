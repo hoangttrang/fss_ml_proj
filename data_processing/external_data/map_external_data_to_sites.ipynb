{
 "cells": [
  {
   "cell_type": "markdown",
   "metadata": {
    "application/vnd.databricks.v1+cell": {
     "cellMetadata": {},
     "inputWidgets": {},
     "nuid": "14fb2cc1-b84d-4c78-8731-d784d3c5176f",
     "showTitle": false,
     "tableResultSettingsMap": {},
     "title": ""
    }
   },
   "source": [
    "# Mapping External Data to Site Location"
   ]
  },
  {
   "cell_type": "markdown",
   "metadata": {
    "application/vnd.databricks.v1+cell": {
     "cellMetadata": {},
     "inputWidgets": {},
     "nuid": "5ed4dee2-fcfd-429e-af1d-f9af880ab01c",
     "showTitle": false,
     "tableResultSettingsMap": {},
     "title": ""
    }
   },
   "source": [
    "This notebook integrates crash data with precipitation information through a series of transformations and joins. First, it maps sites to counties via zip codes, then joins site/county mapping with crash data while simultaneously connecting site data with precipitation measurements. Finally, it aggregates this combined data by site/month and site ID/date to calculate key metrics including crash statistics (fatalities, injuries) and precipitation patterns (mean, median, standard deviation)."
   ]
  },
  {
   "cell_type": "code",
   "execution_count": 0,
   "metadata": {
    "application/vnd.databricks.v1+cell": {
     "cellMetadata": {
      "byteLimit": 2048000,
      "rowLimit": 10000
     },
     "inputWidgets": {},
     "nuid": "c45942b4-4234-44e7-837f-c6e42e6d2982",
     "showTitle": false,
     "tableResultSettingsMap": {},
     "title": ""
    }
   },
   "outputs": [
    {
     "output_type": "display_data",
     "data": {
      "application/vnd.databricks.v1+h3_hint": "",
      "text/plain": []
     },
     "metadata": {},
     "output_type": "display_data"
    }
   ],
   "source": [
    "from pyspark.sql import SparkSession\n",
    "from pyspark.sql.types import DoubleType, BooleanType\n",
    "from shapely.geometry import shape\n",
    "import geopandas as gpd\n",
    "import json\n",
    "import os\n",
    "import re\n",
    "from pyspark.sql.functions import to_date\n",
    "\n",
    "from pyspark.sql.functions import col, format_string,length, expr, when, array, struct, udf, explode, split, array_intersect, size, lit, year, month, sum, count, collect_set,  radians, sin, cos, asin, sqrt, lit\n",
    "from pyspark.sql.types import ArrayType, StructType, StructField, StringType\n",
    "from functools import partial\n",
    "import pandas as pd\n",
    "from pyspark.sql.functions import col\n",
    "from pyspark.sql import SparkSession\n",
    "from pyspark.sql.functions import col, when, lpad, lower, expr, substring\n",
    "from pyspark.sql.functions import col, explode, mean, stddev, min, max, expr\n"
   ]
  },
  {
   "cell_type": "code",
   "execution_count": 0,
   "metadata": {
    "application/vnd.databricks.v1+cell": {
     "cellMetadata": {
      "byteLimit": 2048000,
      "rowLimit": 10000
     },
     "inputWidgets": {},
     "nuid": "b47fe527-1933-417f-ae45-1807fb73eaa8",
     "showTitle": false,
     "tableResultSettingsMap": {},
     "title": ""
    }
   },
   "outputs": [],
   "source": [
    "# Setting up Spark Session\n",
    "spark = SparkSession.builder.appName(\"Data to Site Location Mapping\").getOrCreate()"
   ]
  },
  {
   "cell_type": "markdown",
   "metadata": {
    "application/vnd.databricks.v1+cell": {
     "cellMetadata": {},
     "inputWidgets": {},
     "nuid": "1e7c6c01-275f-4dd3-8b2b-be0c2887df05",
     "showTitle": false,
     "tableResultSettingsMap": {},
     "title": ""
    }
   },
   "source": [
    "## Workflow\n",
    "\n",
    "**Cartesian Product of Sites and Months:**\n",
    "* The pipeline begins by creating a Cartesian product of site data and months. The months_df DataFrame, which contains a range of months from 2023 to 2025, is cross-joined with the site_data_df DataFrame. This results in a new row for every combination of site and month, preparing the data for later joins and aggregations.\n",
    "\n",
    "**Exploding Site Data:**\n",
    "* The site_data_df is then \"exploded\" to create a new DataFrame where each row represents a single zip code associated with a specific site. This step is crucial for later joins with both precipitation data and crash data, as a site may cover multiple zip codes.\n",
    "\n",
    "**Joining Site Data with Crash Data:**\n",
    "* Mapping Sites to Counties: The exploded site data is joined with the crash data to establish a relationship between each site and the counties it covers based on zip codes.\n",
    "* County-Crash Join: The site-to-county mapping is then joined with the crash data (unique_county_crashes) to associate each site-month combination with the corresponding crash statistics.\n",
    "\n",
    "**Aggregating Crash Data:**\n",
    "Once the site and crash data are joined, the pipeline aggregates the data by site and month. Aggregation includes calculating various crash-related statistics, such as:\n",
    "* Total crashes\n",
    "* Fatalities\n",
    "* Injuries\n",
    "* Vehicles involved\n",
    "\n",
    "\n",
    "**Precipitation Data Transformation**\n",
    "* Unpivoting Precipitation Data: Precipitation data, which I saved a wide format with daily columns, is transformed into a long format using the stack() function. This unpivoting process makes it easier to analyze precipitation data by date.\n",
    "* Handling Precipitation Data by Year: Separate precipitation DataFrames for the years 2023, 2024, and 2025 are processed and then combined into one unified DataFrame, preparing the precipitation data for integration with site data.\n",
    "\n",
    "**Joining Site Data with Precipitation Data:**\n",
    "\n",
    "* Zip Code Mapping: A distinct mapping between site IDs and their zip codes is created. This mapping will be used to link site locations with the corresponding precipitation data.\n",
    "* Joining with Precipitation Data: The site data is joined with the precipitation data based on zip codes using an inner join. This ensures that only zip codes with corresponding precipitation data are retained.\n",
    "\n",
    "**Aggregating Precipitation Data:**\n",
    "* After the join, the precipitation data is aggregated by site ID and date to calculate key precipitation statistics:\n",
    "  * Mean precipitation\n",
    "  * Median precipitation\n",
    "  * Standard deviation of precipitation\n",
    "  * Interquartile range (IQR) of precipitation\n"
   ]
  },
  {
   "cell_type": "markdown",
   "metadata": {
    "application/vnd.databricks.v1+cell": {
     "cellMetadata": {},
     "inputWidgets": {},
     "nuid": "ba32cb13-cb5e-4f31-90da-e6546571f28c",
     "showTitle": false,
     "tableResultSettingsMap": {},
     "title": ""
    }
   },
   "source": []
  },
  {
   "cell_type": "markdown",
   "metadata": {
    "application/vnd.databricks.v1+cell": {
     "cellMetadata": {},
     "inputWidgets": {},
     "nuid": "adf9bd35-e64a-4d8e-80ad-61dbfc409b31",
     "showTitle": false,
     "tableResultSettingsMap": {},
     "title": ""
    }
   },
   "source": [
    "## Reading in Data and Basic Preprocessing"
   ]
  },
  {
   "cell_type": "code",
   "execution_count": 0,
   "metadata": {
    "application/vnd.databricks.v1+cell": {
     "cellMetadata": {
      "byteLimit": 2048000,
      "rowLimit": 10000
     },
     "inputWidgets": {},
     "nuid": "6feb9504-f354-4e66-ba1d-b8d4e2c3c281",
     "showTitle": false,
     "tableResultSettingsMap": {},
     "title": ""
    }
   },
   "outputs": [],
   "source": [
    "# read site data f\"/FileStore/tables/fusionsite_regional_df.csv\")\n",
    "site_data_df = spark.read.csv(\"/FileStore/tables/fusionsite_regional_df.csv\", header=True)"
   ]
  },
  {
   "cell_type": "code",
   "execution_count": 0,
   "metadata": {
    "application/vnd.databricks.v1+cell": {
     "cellMetadata": {
      "byteLimit": 2048000,
      "rowLimit": 10000
     },
     "inputWidgets": {},
     "nuid": "83a1f60e-85fe-4c48-b05d-64212278ccb1",
     "showTitle": false,
     "tableResultSettingsMap": {},
     "title": ""
    }
   },
   "outputs": [],
   "source": [
    "# Turn Zip into a string and make sure its forward filled up to five places so 8057 would become \"08057\"\n",
    "site_data_df = site_data_df.withColumn(\"Zip\", format_string(\"%05d\", col(\"Zip\").cast(\"int\")))"
   ]
  },
  {
   "cell_type": "code",
   "execution_count": 0,
   "metadata": {
    "application/vnd.databricks.v1+cell": {
     "cellMetadata": {
      "byteLimit": 2048000,
      "rowLimit": 10000
     },
     "inputWidgets": {},
     "nuid": "e9e17927-72ba-4f52-beb2-7e8e7dbce410",
     "showTitle": false,
     "tableResultSettingsMap": {},
     "title": ""
    }
   },
   "outputs": [],
   "source": [
    "state_crash_monthly_county_counts = spark.read.csv(\"/FileStore/tables/state_crash_monthly_county_counts.csv\", header=True)\n",
    "\n",
    "files = os.listdir(\"/dbfs/FileStore/intermediate_output\")\n",
    "table_names = [file for file in files if re.search(r\"\\d{5}$\", file)]\n",
    "\n",
    "# Filter table names to only be zips in site_data_df Zip column\n",
    "table_names = [table_name for table_name in table_names if table_name in site_data_df.select(\"Zip\").rdd.flatMap(lambda x: x).collect()]\n",
    "\n",
    "dataframes = {\n",
    "    table_name: spark.read.option(\"header\", \"false\").csv(f\"/FileStore/intermediate_output/{table_name}\")\n",
    "    for table_name in table_names\n",
    "}\n",
    "\n",
    "# Read the second CSV file\n",
    "us_city_states = spark.read.csv(\"/FileStore/tables/uscities.csv\", header=True)\n",
    "\n",
    "# load the 2023 precipitation data parquet \n",
    "precipitation_data_2023 = spark.read.parquet(\"/FileStore/intermediate_output/2023_precipitation_data\")\n",
    "precipitation_data_2024 = spark.read.parquet(\"/FileStore/intermediate_output/2024_precipitation_data\")\n",
    "precipitation_data_2025 = spark.read.parquet(\"/FileStore/intermediate_output/2025_precipitation_data\")"
   ]
  },
  {
   "cell_type": "code",
   "execution_count": 0,
   "metadata": {
    "application/vnd.databricks.v1+cell": {
     "cellMetadata": {
      "byteLimit": 2048000,
      "rowLimit": 10000
     },
     "inputWidgets": {},
     "nuid": "a06bad66-4dd0-4972-b9d9-2c7e0509079d",
     "showTitle": false,
     "tableResultSettingsMap": {},
     "title": ""
    }
   },
   "outputs": [],
   "source": [
    "# Rename State3 to State and State26 to State_ID\n",
    "site_data_df = site_data_df.withColumnRenamed(\"State3\", \"State\") \n",
    "site_data_df = site_data_df.withColumnRenamed(\"State26\", \"State_ID\")\n",
    "\n",
    "site_data_df = site_data_df.withColumnRenamed(\"City4\", \"City\") \n",
    "site_data_df = site_data_df.withColumnRenamed(\"City25\", \"Full_City_Name\")"
   ]
  },
  {
   "cell_type": "code",
   "execution_count": 0,
   "metadata": {
    "application/vnd.databricks.v1+cell": {
     "cellMetadata": {
      "byteLimit": 2048000,
      "rowLimit": 10000
     },
     "inputWidgets": {},
     "nuid": "3df8e4a2-1b5e-4ec6-8dad-19c63892fa1d",
     "showTitle": false,
     "tableResultSettingsMap": {},
     "title": ""
    }
   },
   "outputs": [],
   "source": [
    "# elect only the required columns\n",
    "site_data_df = site_data_df.select(\"ID\", \"Brand\", \"Region\", \"State\", \"City\", \"Address\",\n",
    "            \"Latitude\", \"Longitude\", \"County\", \"Zip\", \"Country\")"
   ]
  },
  {
   "cell_type": "code",
   "execution_count": 0,
   "metadata": {
    "application/vnd.databricks.v1+cell": {
     "cellMetadata": {
      "byteLimit": 2048000,
      "rowLimit": 10000
     },
     "inputWidgets": {},
     "nuid": "3cf04ef0-748c-4fee-8c9d-33ba00d587d6",
     "showTitle": false,
     "tableResultSettingsMap": {},
     "title": ""
    }
   },
   "outputs": [],
   "source": [
    "# rename the columns in each dataframe to be zip and distance \n",
    "for table_name, df in dataframes.items():\n",
    "    dataframes[table_name] = df.withColumnRenamed(\"_c0\", \"zip\").withColumnRenamed(\"_c1\", \"distance\")"
   ]
  },
  {
   "cell_type": "code",
   "execution_count": 0,
   "metadata": {
    "application/vnd.databricks.v1+cell": {
     "cellMetadata": {
      "byteLimit": 2048000,
      "rowLimit": 10000
     },
     "inputWidgets": {},
     "nuid": "61afc788-49a0-4880-abf6-626dd95da0a5",
     "showTitle": false,
     "tableResultSettingsMap": {},
     "title": ""
    }
   },
   "outputs": [],
   "source": [
    "# Create a dictionary to store the zip codes for each key\n",
    "zip_codes_dict = {}\n",
    "for key, df in dataframes.items():\n",
    "    zip_codes_dict[key] = df.select(\"zip\").rdd.flatMap(lambda x: x).collect()\n",
    "\n",
    "# Define a UDF that simply returns the value from the dictionary\n",
    "def get_zip_codes(key):\n",
    "    # Make sure the key is treated as a string\n",
    "    str_key = str(key) if key is not None else \"\"\n",
    "    return zip_codes_dict.get(str_key, [])\n",
    "\n",
    "# Register the UDF with the correct return type\n",
    "get_zip_codes_udf = udf(get_zip_codes, ArrayType(StringType()))\n",
    "\n",
    "# Apply the UDF to the column\n",
    "site_data_df = site_data_df.withColumn(\"Zip Codes\", get_zip_codes_udf(col(\"Zip\")))"
   ]
  },
  {
   "cell_type": "code",
   "execution_count": 0,
   "metadata": {
    "application/vnd.databricks.v1+cell": {
     "cellMetadata": {
      "byteLimit": 2048000,
      "rowLimit": 10000
     },
     "inputWidgets": {},
     "nuid": "c5b0afa5-7d0a-4369-8618-a77e7e5f5985",
     "showTitle": false,
     "tableResultSettingsMap": {},
     "title": ""
    }
   },
   "outputs": [
    {
     "output_type": "stream",
     "name": "stdout",
     "output_type": "stream",
     "text": [
      "root\n |-- ID: string (nullable = true)\n |-- Brand: string (nullable = true)\n |-- Region: string (nullable = true)\n |-- State: string (nullable = true)\n |-- City: string (nullable = true)\n |-- Address: string (nullable = true)\n |-- Latitude: string (nullable = true)\n |-- Longitude: string (nullable = true)\n |-- County: string (nullable = true)\n |-- Zip: string (nullable = false)\n |-- Country: string (nullable = true)\n |-- Zip Codes: array (nullable = true)\n |    |-- element: string (containsNull = true)\n\n"
     ]
    }
   ],
   "source": [
    "site_data_df.printSchema()"
   ]
  },
  {
   "cell_type": "code",
   "execution_count": 0,
   "metadata": {
    "application/vnd.databricks.v1+cell": {
     "cellMetadata": {
      "byteLimit": 2048000,
      "rowLimit": 10000
     },
     "inputWidgets": {},
     "nuid": "d84f07f4-2130-47d9-8e0a-2b07ec7d04b3",
     "showTitle": false,
     "tableResultSettingsMap": {},
     "title": ""
    }
   },
   "outputs": [
    {
     "output_type": "stream",
     "name": "stdout",
     "output_type": "stream",
     "text": [
      "+----+----------+-------------+--------------+---------+--------------------+--------+---------+------+-----+-------+--------------------+\n|  ID|     Brand|       Region|         State|     City|             Address|Latitude|Longitude|County|  Zip|Country|           Zip Codes|\n+----+----------+-------------+--------------+---------+--------------------+--------+---------+------+-----+-------+--------------------+\n|52.0|A Sani-Can|South Central|North Carolina|Salisbury|1882 Briggs Rd Sa...|    NULL|     NULL|  NULL|28147|   NULL|[28144, 28159, 28...|\n+----+----------+-------------+--------------+---------+--------------------+--------+---------+------+-----+-------+--------------------+\n\n"
     ]
    }
   ],
   "source": [
    "# Check if any rows are missing value for county\n",
    "site_data_df.filter(col(\"County\").isNull()).show()"
   ]
  },
  {
   "cell_type": "code",
   "execution_count": 0,
   "metadata": {
    "application/vnd.databricks.v1+cell": {
     "cellMetadata": {
      "byteLimit": 2048000,
      "rowLimit": 10000
     },
     "inputWidgets": {},
     "nuid": "183e332a-5752-4fbc-9ee1-105bf2d49d06",
     "showTitle": false,
     "tableResultSettingsMap": {},
     "title": ""
    }
   },
   "outputs": [],
   "source": [
    "# Fill misisng county with Rowan County\n",
    "site_data_df = site_data_df.withColumn(\"County\", when(col(\"County\").isNull(), \"Rowan County\").otherwise(col(\"County\")))"
   ]
  },
  {
   "cell_type": "code",
   "execution_count": 0,
   "metadata": {
    "application/vnd.databricks.v1+cell": {
     "cellMetadata": {
      "byteLimit": 2048000,
      "rowLimit": 10000
     },
     "inputWidgets": {},
     "nuid": "9acae44e-4e57-434d-b27e-e6bd5facb2f9",
     "showTitle": false,
     "tableResultSettingsMap": {},
     "title": ""
    }
   },
   "outputs": [],
   "source": [
    "site_data_df = site_data_df.withColumn(\n",
    "    \"County\",\n",
    "    expr(\"substring(County, 1, length(County) - 7)\")\n",
    ")"
   ]
  },
  {
   "cell_type": "code",
   "execution_count": 0,
   "metadata": {
    "application/vnd.databricks.v1+cell": {
     "cellMetadata": {
      "byteLimit": 2048000,
      "rowLimit": 10000
     },
     "inputWidgets": {},
     "nuid": "6730cb8f-c338-4364-b078-3cf1041e84c4",
     "showTitle": false,
     "tableResultSettingsMap": {},
     "title": ""
    }
   },
   "outputs": [],
   "source": [
    "# Convert County Code column to numeric, handle errors, fill nulls, and format as 3-digit string\n",
    "state_crash_monthly_county_counts = state_crash_monthly_county_counts \\\n",
    "    .withColumn(\"County Code\", col(\"County Code\").cast(\"double\")) \\\n",
    "    .withColumn(\"County Code\", when(col(\"County Code\").isNull(), 0).otherwise(col(\"County Code\"))) \\\n",
    "    .withColumn(\"County Code\", lpad(col(\"County Code\").cast(\"int\").cast(\"string\"), 3, \"0\")) \\\n",
    "    .withColumn(\"State\", lower(col(\"State\")))\n",
    "\n",
    "# Extract first two digits of county fips for state fips and last 3 for county code\n",
    "us_city_states = us_city_states \\\n",
    "    .withColumn(\"state_fips\", substring(col(\"county_fips\"), 1, 2)) \\\n",
    "    .withColumn(\"county_code\", substring(col(\"county_fips\"), -3, 3))\n",
    "\n",
    "# Convert county_code to numeric, handle errors, fill nulls, and format as 3-digit string\n",
    "us_city_states = us_city_states \\\n",
    "    .withColumn(\"county_code\", col(\"county_code\").cast(\"double\")) \\\n",
    "    .withColumn(\"county_code\", when(col(\"county_code\").isNull(), 0).otherwise(col(\"county_code\"))) \\\n",
    "    .withColumn(\"county_code\", lpad(col(\"county_code\").cast(\"int\").cast(\"string\"), 3, \"0\")) \\\n",
    "    .withColumn(\"state_id\", lower(col(\"state_id\")))"
   ]
  },
  {
   "cell_type": "code",
   "execution_count": 0,
   "metadata": {
    "application/vnd.databricks.v1+cell": {
     "cellMetadata": {
      "byteLimit": 2048000,
      "rowLimit": 10000
     },
     "inputWidgets": {},
     "nuid": "7c3fdc01-e600-4435-997e-9c68d3cec0c9",
     "showTitle": false,
     "tableResultSettingsMap": {},
     "title": ""
    }
   },
   "outputs": [],
   "source": [
    "# Get unique country\n",
    "county_data = us_city_states.select(\"county_code\", \"county_name\", \"state_id\", \"zips\")"
   ]
  },
  {
   "cell_type": "code",
   "execution_count": 0,
   "metadata": {
    "application/vnd.databricks.v1+cell": {
     "cellMetadata": {
      "byteLimit": 2048000,
      "rowLimit": 10000
     },
     "inputWidgets": {},
     "nuid": "fd213acf-ca0e-48d1-a315-f115ba35387c",
     "showTitle": false,
     "tableResultSettingsMap": {},
     "title": ""
    }
   },
   "outputs": [],
   "source": [
    "state_crash_monthly_county_counts = state_crash_monthly_county_counts.join(\n",
    "    county_data,\n",
    "    (state_crash_monthly_county_counts[\"County Code\"]== county_data[\"county_code\"]) & \n",
    "    (state_crash_monthly_county_counts[\"State\"]== county_data[\"state_id\"]),\n",
    "    \"left\"\n",
    ")"
   ]
  },
  {
   "cell_type": "code",
   "execution_count": 0,
   "metadata": {
    "application/vnd.databricks.v1+cell": {
     "cellMetadata": {
      "byteLimit": 2048000,
      "rowLimit": 10000
     },
     "inputWidgets": {},
     "nuid": "e260dd4e-f217-4f9e-91a4-08f783fb2e21",
     "showTitle": false,
     "tableResultSettingsMap": {},
     "title": ""
    }
   },
   "outputs": [],
   "source": [
    "# Prepare crash data by extracting zip codes into an array\n",
    "crash_df_with_zip_array = state_crash_monthly_county_counts.withColumn(\n",
    "    \"zip_array\", split(col(\"zips\"), \" \")\n",
    ")"
   ]
  },
  {
   "cell_type": "code",
   "execution_count": 0,
   "metadata": {
    "application/vnd.databricks.v1+cell": {
     "cellMetadata": {
      "byteLimit": 2048000,
      "rowLimit": 10000
     },
     "inputWidgets": {},
     "nuid": "e6f4ff9a-a6ac-4068-b78d-c337a26b4235",
     "showTitle": false,
     "tableResultSettingsMap": {},
     "title": ""
    }
   },
   "outputs": [],
   "source": [
    "months_df = spark.createDataFrame(\n",
    "    [(2023, 1), (2023, 2), (2023, 3), (2023, 4), (2023, 5), (2023, 6),\n",
    "     (2023, 7), (2023, 8), (2023, 9), (2023, 10), (2023, 11), (2023, 12),\n",
    "     (2024, 1), (2024, 2), (2024, 3), (2024, 4), (2024, 5), (2024, 6),\n",
    "     (2024, 7), (2024, 8), (2024, 9), (2024, 10), (2024, 11), (2024, 12),\n",
    "     (2025, 1)],\n",
    "    [\"Crash Year\", \"Crash Month\"]\n",
    ")\n",
    "\n",
    "# Create a cartesian product of sites and months\n",
    "sites_months_df = site_data_df.crossJoin(months_df)"
   ]
  },
  {
   "cell_type": "code",
   "execution_count": 0,
   "metadata": {
    "application/vnd.databricks.v1+cell": {
     "cellMetadata": {
      "byteLimit": 2048000,
      "rowLimit": 10000
     },
     "inputWidgets": {},
     "nuid": "99359428-17c5-481c-97e9-79bf8de3cfb0",
     "showTitle": false,
     "tableResultSettingsMap": {},
     "title": ""
    }
   },
   "outputs": [],
   "source": [
    "# Get unique crash data per county-month combination\n",
    "unique_county_crashes = crash_df_with_zip_array.select(\n",
    "    \"Crash Year\", \n",
    "    \"Crash Month\", \n",
    "    \"County Code\",\n",
    "    \"crash_count\", \n",
    "    \"total_fatalities\", \n",
    "    \"total_injuries\", \n",
    "    \"total_vehicles\"\n",
    ").distinct()"
   ]
  },
  {
   "cell_type": "code",
   "execution_count": 0,
   "metadata": {
    "application/vnd.databricks.v1+cell": {
     "cellMetadata": {
      "byteLimit": 2048000,
      "rowLimit": 10000
     },
     "inputWidgets": {},
     "nuid": "d71347a9-8252-4672-b4df-77601151f0d3",
     "showTitle": false,
     "tableResultSettingsMap": {},
     "title": ""
    }
   },
   "outputs": [],
   "source": [
    "exploded_sites = site_data_df.select(\n",
    "    \"ID\", \"Brand\", \"State\", explode(\"Zip Codes\").alias(\"site_zip\")\n",
    ")"
   ]
  },
  {
   "cell_type": "code",
   "execution_count": 0,
   "metadata": {
    "application/vnd.databricks.v1+cell": {
     "cellMetadata": {
      "byteLimit": 2048000,
      "rowLimit": 10000
     },
     "inputWidgets": {},
     "nuid": "56055fc6-bd78-47ed-9050-d6546a982dfc",
     "showTitle": false,
     "tableResultSettingsMap": {},
     "title": ""
    }
   },
   "outputs": [],
   "source": [
    "# Create a mapping between site IDs and the unique counties they cover\n",
    "site_to_counties = exploded_sites.select(\n",
    "    \"ID\", \n",
    "    \"Brand\",\n",
    "    \"site_zip\"\n",
    ").join(\n",
    "    crash_df_with_zip_array.select(\n",
    "        \"County Code\",\n",
    "        explode(\"zip_array\").alias(\"site_zip\")\n",
    "    ).distinct(),\n",
    "    on=\"site_zip\",\n",
    "    how=\"inner\"\n",
    ").select(\n",
    "    \"ID\", \n",
    "    \"Brand\", \n",
    "    \"County Code\"\n",
    ").distinct()"
   ]
  },
  {
   "cell_type": "code",
   "execution_count": 0,
   "metadata": {
    "application/vnd.databricks.v1+cell": {
     "cellMetadata": {
      "byteLimit": 2048000,
      "rowLimit": 10000
     },
     "inputWidgets": {},
     "nuid": "33b03395-b308-4fc8-a151-c41ff706257e",
     "showTitle": false,
     "tableResultSettingsMap": {},
     "title": ""
    }
   },
   "outputs": [],
   "source": [
    "# Now join the sites with their covered counties and then with crash data\n",
    "site_county_crashes = sites_months_df.join(\n",
    "    site_to_counties,\n",
    "    on=[\"ID\", \"Brand\"],\n",
    "    how=\"inner\"\n",
    ").join(\n",
    "    unique_county_crashes,\n",
    "    on=[\"Crash Year\", \"Crash Month\", \"County Code\"],\n",
    "    how=\"inner\"\n",
    ")\n",
    "\n",
    "# Aggregate to get totals per site-month\n",
    "aggregated_site_radius_crash_df = site_county_crashes.groupBy(\n",
    "    \"ID\", \"Brand\", \"Crash Year\", \"Crash Month\"\n",
    ").agg(\n",
    "    sum(\"crash_count\").alias(\"total_crashes\"),\n",
    "    sum(\"total_fatalities\").alias(\"total_fatalities\"),\n",
    "    sum(\"total_injuries\").alias(\"total_injuries\"),\n",
    "    sum(\"total_vehicles\").alias(\"total_vehicles\")\n",
    ")"
   ]
  },
  {
   "cell_type": "code",
   "execution_count": 0,
   "metadata": {
    "application/vnd.databricks.v1+cell": {
     "cellMetadata": {
      "byteLimit": 2048000,
      "rowLimit": 10000
     },
     "inputWidgets": {},
     "nuid": "073b95c3-4640-4a00-8b0d-9e56f63d69a3",
     "showTitle": false,
     "tableResultSettingsMap": {},
     "title": ""
    }
   },
   "outputs": [
    {
     "output_type": "execute_result",
     "data": {
      "text/plain": [
       "DataFrame[ID: string, Brand: string, Crash Year: bigint, Crash Month: bigint, total_crashes: double, total_fatalities: double, total_injuries: double, total_vehicles: double]"
      ]
     },
     "execution_count": 32,
     "metadata": {},
     "output_type": "execute_result"
    }
   ],
   "source": [
    "aggregated_site_radius_crash_df.cache()"
   ]
  },
  {
   "cell_type": "code",
   "execution_count": 0,
   "metadata": {
    "application/vnd.databricks.v1+cell": {
     "cellMetadata": {
      "byteLimit": 2048000,
      "rowLimit": 10000
     },
     "inputWidgets": {},
     "nuid": "71fda4fe-0ad2-45f4-95a3-cc2e5ebf9507",
     "showTitle": false,
     "tableResultSettingsMap": {},
     "title": ""
    }
   },
   "outputs": [
    {
     "output_type": "execute_result",
     "data": {
      "text/plain": [
       "1175"
      ]
     },
     "execution_count": 33,
     "metadata": {},
     "output_type": "execute_result"
    }
   ],
   "source": [
    "aggregated_site_radius_crash_df.count()"
   ]
  },
  {
   "cell_type": "code",
   "execution_count": 0,
   "metadata": {
    "application/vnd.databricks.v1+cell": {
     "cellMetadata": {
      "byteLimit": 2048000,
      "rowLimit": 10000
     },
     "inputWidgets": {},
     "nuid": "72649f2c-f7dd-4081-ba57-d662b680f9df",
     "showTitle": false,
     "tableResultSettingsMap": {},
     "title": ""
    }
   },
   "outputs": [
    {
     "output_type": "display_data",
     "data": {
      "text/html": [
       "<style scoped>\n",
       "  .table-result-container {\n",
       "    max-height: 300px;\n",
       "    overflow: auto;\n",
       "  }\n",
       "  table, th, td {\n",
       "    border: 1px solid black;\n",
       "    border-collapse: collapse;\n",
       "  }\n",
       "  th, td {\n",
       "    padding: 5px;\n",
       "  }\n",
       "  th {\n",
       "    text-align: left;\n",
       "  }\n",
       "</style><div class='table-result-container'><table class='table-result'><thead style='background-color: white'><tr><th>ID</th><th>Brand</th><th>Crash Year</th><th>Crash Month</th><th>total_crashes</th><th>total_fatalities</th><th>total_injuries</th><th>total_vehicles</th></tr></thead><tbody><tr><td>9.0</td><td>Bullitt Septic Service</td><td>2023</td><td>1</td><td>2550.0</td><td>99.0</td><td>1144.0</td><td>5151.0</td></tr><tr><td>6.0</td><td>Georgia Container Inc./ Portable Toilets of Georgia</td><td>2023</td><td>7</td><td>2752.0</td><td>93.0</td><td>1365.0</td><td>5672.0</td></tr><tr><td>46.0</td><td>J Bar</td><td>2023</td><td>8</td><td>1135.0</td><td>37.0</td><td>585.0</td><td>2422.0</td></tr><tr><td>17.0</td><td>Ace Disposal</td><td>2023</td><td>9</td><td>3092.0</td><td>108.0</td><td>1582.0</td><td>6478.0</td></tr><tr><td>44.0</td><td>Forzas Site Services</td><td>2024</td><td>5</td><td>221.0</td><td>7.0</td><td>95.0</td><td>507.0</td></tr></tbody></table></div>"
      ]
     },
     "metadata": {
      "application/vnd.databricks.v1+output": {
       "addedWidgets": {},
       "aggData": [],
       "aggError": "",
       "aggOverflow": false,
       "aggSchema": [],
       "aggSeriesLimitReached": false,
       "aggType": "",
       "arguments": {},
       "columnCustomDisplayInfos": {},
       "data": [
        [
         "9.0",
         "Bullitt Septic Service",
         2023,
         1,
         2550.0,
         99.0,
         1144.0,
         5151.0
        ],
        [
         "6.0",
         "Georgia Container Inc./ Portable Toilets of Georgia",
         2023,
         7,
         2752.0,
         93.0,
         1365.0,
         5672.0
        ],
        [
         "46.0",
         "J Bar",
         2023,
         8,
         1135.0,
         37.0,
         585.0,
         2422.0
        ],
        [
         "17.0",
         "Ace Disposal",
         2023,
         9,
         3092.0,
         108.0,
         1582.0,
         6478.0
        ],
        [
         "44.0",
         "Forzas Site Services",
         2024,
         5,
         221.0,
         7.0,
         95.0,
         507.0
        ]
       ],
       "datasetInfos": [],
       "dbfsResultPath": null,
       "isJsonSchema": true,
       "metadata": {},
       "overflow": false,
       "plotOptions": {
        "customPlotOptions": {},
        "displayType": "table",
        "pivotAggregation": null,
        "pivotColumns": null,
        "xColumns": null,
        "yColumns": null
       },
       "removedWidgets": [],
       "schema": [
        {
         "metadata": "{}",
         "name": "ID",
         "type": "\"string\""
        },
        {
         "metadata": "{}",
         "name": "Brand",
         "type": "\"string\""
        },
        {
         "metadata": "{}",
         "name": "Crash Year",
         "type": "\"long\""
        },
        {
         "metadata": "{}",
         "name": "Crash Month",
         "type": "\"long\""
        },
        {
         "metadata": "{}",
         "name": "total_crashes",
         "type": "\"double\""
        },
        {
         "metadata": "{}",
         "name": "total_fatalities",
         "type": "\"double\""
        },
        {
         "metadata": "{}",
         "name": "total_injuries",
         "type": "\"double\""
        },
        {
         "metadata": "{}",
         "name": "total_vehicles",
         "type": "\"double\""
        }
       ],
       "type": "table"
      }
     },
     "output_type": "display_data"
    }
   ],
   "source": [
    "display(aggregated_site_radius_crash_df.limit(5))"
   ]
  },
  {
   "cell_type": "code",
   "execution_count": 0,
   "metadata": {
    "application/vnd.databricks.v1+cell": {
     "cellMetadata": {
      "byteLimit": 2048000,
      "rowLimit": 10000
     },
     "inputWidgets": {},
     "nuid": "1c4547f3-0c52-45a6-b83f-7ec0a62b7214",
     "showTitle": false,
     "tableResultSettingsMap": {},
     "title": ""
    }
   },
   "outputs": [],
   "source": [
    "# Save aggregated_site_radius_crash_df as a csv\n",
    "aggregated_site_radius_crash_df.write.csv(\n",
    "    \"/FileStore/intermediate_output/aggregated_site_radius_crash_df.csv\",\n",
    "    header=True,\n",
    "    mode=\"overwrite\"\n",
    "    )"
   ]
  },
  {
   "cell_type": "code",
   "execution_count": 0,
   "metadata": {
    "application/vnd.databricks.v1+cell": {
     "cellMetadata": {
      "byteLimit": 2048000,
      "rowLimit": 10000
     },
     "inputWidgets": {},
     "nuid": "561c0d6a-39ff-4be3-a402-9151a99382e3",
     "showTitle": false,
     "tableResultSettingsMap": {},
     "title": ""
    }
   },
   "outputs": [
    {
     "output_type": "display_data",
     "data": {
      "text/html": [
       "<style scoped>\n",
       "  .table-result-container {\n",
       "    max-height: 300px;\n",
       "    overflow: auto;\n",
       "  }\n",
       "  table, th, td {\n",
       "    border: 1px solid black;\n",
       "    border-collapse: collapse;\n",
       "  }\n",
       "  th, td {\n",
       "    padding: 5px;\n",
       "  }\n",
       "  th {\n",
       "    text-align: left;\n",
       "  }\n",
       "</style><div class='table-result-container'><table class='table-result'><thead style='background-color: white'><tr><th>ID</th><th>count</th></tr></thead><tbody><tr><td>50.0</td><td>25</td></tr><tr><td>44.0</td><td>25</td></tr><tr><td>17.0</td><td>25</td></tr><tr><td>9.0</td><td>25</td></tr><tr><td>18.0</td><td>25</td></tr><tr><td>46.0</td><td>25</td></tr><tr><td>6.0</td><td>25</td></tr><tr><td>30.0</td><td>25</td></tr><tr><td>15.0</td><td>25</td></tr><tr><td>26.0</td><td>25</td></tr><tr><td>29.0</td><td>25</td></tr><tr><td>7.0</td><td>25</td></tr><tr><td>43.0</td><td>25</td></tr><tr><td>47.0</td><td>25</td></tr><tr><td>52.0</td><td>25</td></tr><tr><td>19.0</td><td>25</td></tr><tr><td>33.0</td><td>25</td></tr><tr><td>1.0</td><td>25</td></tr><tr><td>45.0</td><td>25</td></tr><tr><td>23.0</td><td>25</td></tr><tr><td>32.0</td><td>25</td></tr><tr><td>24.0</td><td>25</td></tr><tr><td>28.0</td><td>25</td></tr><tr><td>11.0</td><td>25</td></tr><tr><td>49.0</td><td>25</td></tr><tr><td>13.0</td><td>25</td></tr><tr><td>22.0</td><td>25</td></tr><tr><td>42.0</td><td>25</td></tr><tr><td>40.0</td><td>25</td></tr><tr><td>10.0</td><td>25</td></tr><tr><td>14.0</td><td>25</td></tr><tr><td>48.0</td><td>25</td></tr><tr><td>4.0</td><td>25</td></tr><tr><td>3.0</td><td>25</td></tr><tr><td>51.0</td><td>25</td></tr><tr><td>2.0</td><td>25</td></tr><tr><td>8.0</td><td>25</td></tr><tr><td>5.0</td><td>25</td></tr><tr><td>41.0</td><td>25</td></tr><tr><td>16.0</td><td>25</td></tr><tr><td>25.0</td><td>25</td></tr><tr><td>21.0</td><td>25</td></tr><tr><td>31.0</td><td>25</td></tr><tr><td>27.0</td><td>25</td></tr><tr><td>12.0</td><td>25</td></tr><tr><td>39.0</td><td>25</td></tr><tr><td>34.0</td><td>25</td></tr></tbody></table></div>"
      ]
     },
     "metadata": {
      "application/vnd.databricks.v1+output": {
       "addedWidgets": {},
       "aggData": [],
       "aggError": "",
       "aggOverflow": false,
       "aggSchema": [],
       "aggSeriesLimitReached": false,
       "aggType": "",
       "arguments": {},
       "columnCustomDisplayInfos": {},
       "data": [
        [
         "50.0",
         25
        ],
        [
         "44.0",
         25
        ],
        [
         "17.0",
         25
        ],
        [
         "9.0",
         25
        ],
        [
         "18.0",
         25
        ],
        [
         "46.0",
         25
        ],
        [
         "6.0",
         25
        ],
        [
         "30.0",
         25
        ],
        [
         "15.0",
         25
        ],
        [
         "26.0",
         25
        ],
        [
         "29.0",
         25
        ],
        [
         "7.0",
         25
        ],
        [
         "43.0",
         25
        ],
        [
         "47.0",
         25
        ],
        [
         "52.0",
         25
        ],
        [
         "19.0",
         25
        ],
        [
         "33.0",
         25
        ],
        [
         "1.0",
         25
        ],
        [
         "45.0",
         25
        ],
        [
         "23.0",
         25
        ],
        [
         "32.0",
         25
        ],
        [
         "24.0",
         25
        ],
        [
         "28.0",
         25
        ],
        [
         "11.0",
         25
        ],
        [
         "49.0",
         25
        ],
        [
         "13.0",
         25
        ],
        [
         "22.0",
         25
        ],
        [
         "42.0",
         25
        ],
        [
         "40.0",
         25
        ],
        [
         "10.0",
         25
        ],
        [
         "14.0",
         25
        ],
        [
         "48.0",
         25
        ],
        [
         "4.0",
         25
        ],
        [
         "3.0",
         25
        ],
        [
         "51.0",
         25
        ],
        [
         "2.0",
         25
        ],
        [
         "8.0",
         25
        ],
        [
         "5.0",
         25
        ],
        [
         "41.0",
         25
        ],
        [
         "16.0",
         25
        ],
        [
         "25.0",
         25
        ],
        [
         "21.0",
         25
        ],
        [
         "31.0",
         25
        ],
        [
         "27.0",
         25
        ],
        [
         "12.0",
         25
        ],
        [
         "39.0",
         25
        ],
        [
         "34.0",
         25
        ]
       ],
       "datasetInfos": [],
       "dbfsResultPath": null,
       "isJsonSchema": true,
       "metadata": {},
       "overflow": false,
       "plotOptions": {
        "customPlotOptions": {},
        "displayType": "table",
        "pivotAggregation": null,
        "pivotColumns": null,
        "xColumns": null,
        "yColumns": null
       },
       "removedWidgets": [],
       "schema": [
        {
         "metadata": "{}",
         "name": "ID",
         "type": "\"string\""
        },
        {
         "metadata": "{}",
         "name": "count",
         "type": "\"long\""
        }
       ],
       "type": "table"
      }
     },
     "output_type": "display_data"
    }
   ],
   "source": [
    "# Validation \n",
    "# Group by ID and count number of observations \n",
    "display(aggregated_site_radius_crash_df.groupBy(\"ID\").count().orderBy(\"count\", ascending=False))"
   ]
  },
  {
   "cell_type": "code",
   "execution_count": 0,
   "metadata": {
    "application/vnd.databricks.v1+cell": {
     "cellMetadata": {
      "byteLimit": 2048000,
      "rowLimit": 10000
     },
     "inputWidgets": {},
     "nuid": "aad5f71f-89ee-48a7-8072-706e4f53e8ae",
     "showTitle": false,
     "tableResultSettingsMap": {},
     "title": ""
    }
   },
   "outputs": [],
   "source": [
    "def transform_precipitation_df(precipitation_df, year):\n",
    "    # Get all the precipitation column names \n",
    "    prism_cols = [col_name for col_name in precipitation_df.columns if col_name.startswith(\"PRISM_\")]\n",
    "    \n",
    "    # Prepare for unpivoting: create a list of expressions to select\n",
    "    stack_expr = []\n",
    "    for prism_col in prism_cols:\n",
    "        # Extract date from column name using regex\n",
    "        date_str = re.search(r\"_(\\d{8})_\", prism_col).group(1)\n",
    "        year_str = date_str[0:4]\n",
    "        month = date_str[4:6]\n",
    "        day = date_str[6:8]\n",
    "        \n",
    "        # Add to stack expression\n",
    "        stack_expr.append(f\"'{year_str}-{month}-{day}', `{prism_col}`\")\n",
    "    \n",
    "    # Create the unpivot expression\n",
    "    stack_expr_str = \", \".join(stack_expr)\n",
    "    unpivot_expr = f\"stack({len(prism_cols)}, {stack_expr_str}) as (date_str, precipitation)\"\n",
    "    \n",
    "    # Apply the unpivot\n",
    "    precipitation_unpivoted = precipitation_df.selectExpr(\n",
    "        \"ZCTA5CE20\", \n",
    "        \"latitude\", \n",
    "        \"longitude\",\n",
    "        unpivot_expr\n",
    "    ).withColumn(\"date\", to_date(\"date_str\", \"yyyy-MM-dd\"))\n",
    "    \n",
    "    return precipitation_unpivoted\n",
    "\n",
    "# Process each year's data separately\n",
    "precipitation_2023_unpivoted = transform_precipitation_df(precipitation_data_2023, 2023)\n",
    "precipitation_2024_unpivoted = transform_precipitation_df(precipitation_data_2024, 2024)\n",
    "precipitation_2025_unpivoted = transform_precipitation_df(precipitation_data_2025, 2025)"
   ]
  },
  {
   "cell_type": "code",
   "execution_count": 0,
   "metadata": {
    "application/vnd.databricks.v1+cell": {
     "cellMetadata": {
      "byteLimit": 2048000,
      "rowLimit": 10000
     },
     "inputWidgets": {},
     "nuid": "dcfa9236-a9b3-4293-b80b-51e7a1f10f79",
     "showTitle": false,
     "tableResultSettingsMap": {},
     "title": ""
    }
   },
   "outputs": [],
   "source": [
    "# Combine all three years as before\n",
    "all_precipitation_unpivoted = precipitation_2023_unpivoted.union(\n",
    "    precipitation_2024_unpivoted\n",
    ").union(\n",
    "    precipitation_2025_unpivoted\n",
    ")\n",
    "\n",
    "# Instead of exploding sites, create a distinct mapping between site IDs and zip codes\n",
    "site_zip_mapping = site_data_df.select(\n",
    "    \"ID\", \"Brand\", explode(\"Zip Codes\").alias(\"site_zip\")\n",
    ").distinct()\n",
    "\n",
    "# Find unique zip code to precipitation mappings\n",
    "# This ensures we only use each (zip, date) precipitation value once\n",
    "unique_precipitation = all_precipitation_unpivoted.select(\n",
    "    \"ZCTA5CE20\", \"date\", \"precipitation\"\n",
    ").distinct()\n",
    "\n",
    "# Join using the mapping\n",
    "joined_df = site_zip_mapping.join(\n",
    "    unique_precipitation,\n",
    "    site_zip_mapping[\"site_zip\"] == unique_precipitation[\"ZCTA5CE20\"],\n",
    "    \"inner\"\n",
    ")\n",
    "\n",
    "# Aggregate statistics by site and date\n",
    "agg_precipitation = joined_df.groupBy(\"ID\", \"date\").agg(\n",
    "    mean(\"precipitation\").alias(\"mean_precipitation\"),\n",
    "    expr(\"percentile_approx(precipitation, 0.5)\").alias(\"median_precipitation\"),\n",
    "    stddev(\"precipitation\").alias(\"stddev_precipitation\"),\n",
    "    expr(\"percentile_approx(precipitation, 0.75)\").alias(\"q3_precipitation\"),\n",
    "    expr(\"percentile_approx(precipitation, 0.25)\").alias(\"q1_precipitation\"),\n",
    "    min(\"precipitation\").alias(\"min_precipitation\"),\n",
    "    max(\"precipitation\").alias(\"max_precipitation\")\n",
    ")\n",
    "\n",
    "# Calculate IQR directly in the agg function\n",
    "final_precipitation_stats = agg_precipitation.withColumn(\n",
    "    \"iqr_precipitation\", expr(\"q3_precipitation - q1_precipitation\")\n",
    ")"
   ]
  },
  {
   "cell_type": "code",
   "execution_count": 0,
   "metadata": {
    "application/vnd.databricks.v1+cell": {
     "cellMetadata": {
      "byteLimit": 2048000,
      "rowLimit": 10000
     },
     "inputWidgets": {},
     "nuid": "0813b79e-5d99-4257-a0ea-cbabcf8576a0",
     "showTitle": false,
     "tableResultSettingsMap": {},
     "title": ""
    }
   },
   "outputs": [
    {
     "output_type": "execute_result",
     "data": {
      "text/plain": [
       "DataFrame[ID: string, date: date, mean_precipitation: double, median_precipitation: double, stddev_precipitation: double, q3_precipitation: double, q1_precipitation: double, min_precipitation: double, max_precipitation: double, iqr_precipitation: double]"
      ]
     },
     "execution_count": 40,
     "metadata": {},
     "output_type": "execute_result"
    }
   ],
   "source": [
    "final_precipitation_stats.cache()"
   ]
  },
  {
   "cell_type": "code",
   "execution_count": 0,
   "metadata": {
    "application/vnd.databricks.v1+cell": {
     "cellMetadata": {
      "byteLimit": 2048000,
      "rowLimit": 10000
     },
     "inputWidgets": {},
     "nuid": "e9aa35c1-5d92-4159-9d51-12567418165a",
     "showTitle": false,
     "tableResultSettingsMap": {},
     "title": ""
    }
   },
   "outputs": [
    {
     "output_type": "display_data",
     "data": {
      "text/html": [
       "<style scoped>\n",
       "  .table-result-container {\n",
       "    max-height: 300px;\n",
       "    overflow: auto;\n",
       "  }\n",
       "  table, th, td {\n",
       "    border: 1px solid black;\n",
       "    border-collapse: collapse;\n",
       "  }\n",
       "  th, td {\n",
       "    padding: 5px;\n",
       "  }\n",
       "  th {\n",
       "    text-align: left;\n",
       "  }\n",
       "</style><div class='table-result-container'><table class='table-result'><thead style='background-color: white'><tr><th>ID</th><th>count</th></tr></thead><tbody><tr><td>1.0</td><td>809</td></tr><tr><td>50.0</td><td>809</td></tr><tr><td>22.0</td><td>809</td></tr><tr><td>15.0</td><td>809</td></tr><tr><td>45.0</td><td>809</td></tr><tr><td>47.0</td><td>809</td></tr><tr><td>44.0</td><td>809</td></tr><tr><td>25.0</td><td>809</td></tr><tr><td>26.0</td><td>809</td></tr><tr><td>17.0</td><td>809</td></tr><tr><td>41.0</td><td>809</td></tr><tr><td>51.0</td><td>809</td></tr><tr><td>52.0</td><td>809</td></tr><tr><td>9.0</td><td>809</td></tr><tr><td>12.0</td><td>809</td></tr><tr><td>18.0</td><td>809</td></tr><tr><td>48.0</td><td>809</td></tr><tr><td>10.0</td><td>809</td></tr><tr><td>29.0</td><td>809</td></tr><tr><td>14.0</td><td>809</td></tr><tr><td>46.0</td><td>809</td></tr><tr><td>19.0</td><td>809</td></tr><tr><td>23.0</td><td>809</td></tr><tr><td>5.0</td><td>809</td></tr><tr><td>6.0</td><td>809</td></tr><tr><td>34.0</td><td>809</td></tr><tr><td>32.0</td><td>809</td></tr><tr><td>4.0</td><td>809</td></tr><tr><td>7.0</td><td>809</td></tr><tr><td>27.0</td><td>809</td></tr><tr><td>24.0</td><td>809</td></tr><tr><td>21.0</td><td>809</td></tr><tr><td>28.0</td><td>809</td></tr><tr><td>31.0</td><td>809</td></tr><tr><td>11.0</td><td>809</td></tr><tr><td>2.0</td><td>809</td></tr><tr><td>30.0</td><td>809</td></tr><tr><td>33.0</td><td>809</td></tr><tr><td>39.0</td><td>809</td></tr><tr><td>49.0</td><td>809</td></tr><tr><td>8.0</td><td>809</td></tr><tr><td>3.0</td><td>809</td></tr><tr><td>43.0</td><td>809</td></tr><tr><td>16.0</td><td>809</td></tr><tr><td>13.0</td><td>809</td></tr><tr><td>40.0</td><td>809</td></tr><tr><td>42.0</td><td>809</td></tr></tbody></table></div>"
      ]
     },
     "metadata": {
      "application/vnd.databricks.v1+output": {
       "addedWidgets": {},
       "aggData": [],
       "aggError": "",
       "aggOverflow": false,
       "aggSchema": [],
       "aggSeriesLimitReached": false,
       "aggType": "",
       "arguments": {},
       "columnCustomDisplayInfos": {},
       "data": [
        [
         "1.0",
         809
        ],
        [
         "50.0",
         809
        ],
        [
         "22.0",
         809
        ],
        [
         "15.0",
         809
        ],
        [
         "45.0",
         809
        ],
        [
         "47.0",
         809
        ],
        [
         "44.0",
         809
        ],
        [
         "25.0",
         809
        ],
        [
         "26.0",
         809
        ],
        [
         "17.0",
         809
        ],
        [
         "41.0",
         809
        ],
        [
         "51.0",
         809
        ],
        [
         "52.0",
         809
        ],
        [
         "9.0",
         809
        ],
        [
         "12.0",
         809
        ],
        [
         "18.0",
         809
        ],
        [
         "48.0",
         809
        ],
        [
         "10.0",
         809
        ],
        [
         "29.0",
         809
        ],
        [
         "14.0",
         809
        ],
        [
         "46.0",
         809
        ],
        [
         "19.0",
         809
        ],
        [
         "23.0",
         809
        ],
        [
         "5.0",
         809
        ],
        [
         "6.0",
         809
        ],
        [
         "34.0",
         809
        ],
        [
         "32.0",
         809
        ],
        [
         "4.0",
         809
        ],
        [
         "7.0",
         809
        ],
        [
         "27.0",
         809
        ],
        [
         "24.0",
         809
        ],
        [
         "21.0",
         809
        ],
        [
         "28.0",
         809
        ],
        [
         "31.0",
         809
        ],
        [
         "11.0",
         809
        ],
        [
         "2.0",
         809
        ],
        [
         "30.0",
         809
        ],
        [
         "33.0",
         809
        ],
        [
         "39.0",
         809
        ],
        [
         "49.0",
         809
        ],
        [
         "8.0",
         809
        ],
        [
         "3.0",
         809
        ],
        [
         "43.0",
         809
        ],
        [
         "16.0",
         809
        ],
        [
         "13.0",
         809
        ],
        [
         "40.0",
         809
        ],
        [
         "42.0",
         809
        ]
       ],
       "datasetInfos": [],
       "dbfsResultPath": null,
       "isJsonSchema": true,
       "metadata": {},
       "overflow": false,
       "plotOptions": {
        "customPlotOptions": {},
        "displayType": "table",
        "pivotAggregation": null,
        "pivotColumns": null,
        "xColumns": null,
        "yColumns": null
       },
       "removedWidgets": [],
       "schema": [
        {
         "metadata": "{}",
         "name": "ID",
         "type": "\"string\""
        },
        {
         "metadata": "{}",
         "name": "count",
         "type": "\"long\""
        }
       ],
       "type": "table"
      }
     },
     "output_type": "display_data"
    }
   ],
   "source": [
    "# group by ID and count \n",
    "display(final_precipitation_stats.groupBy(\"ID\").count())"
   ]
  },
  {
   "cell_type": "code",
   "execution_count": 0,
   "metadata": {
    "application/vnd.databricks.v1+cell": {
     "cellMetadata": {
      "byteLimit": 2048000,
      "rowLimit": 10000
     },
     "inputWidgets": {},
     "nuid": "c8da2e6d-9056-443c-a0d8-82c6a0a41f2b",
     "showTitle": false,
     "tableResultSettingsMap": {},
     "title": ""
    }
   },
   "outputs": [
    {
     "output_type": "execute_result",
     "data": {
      "text/plain": [
       "datetime.date(2025, 3, 19)"
      ]
     },
     "execution_count": 42,
     "metadata": {},
     "output_type": "execute_result"
    }
   ],
   "source": [
    "# Maximum Date in precipitation_df\n",
    "final_precipitation_stats.select(max(\"date\")).collect()[0][0]"
   ]
  },
  {
   "cell_type": "code",
   "execution_count": 0,
   "metadata": {
    "application/vnd.databricks.v1+cell": {
     "cellMetadata": {
      "byteLimit": 2048000,
      "rowLimit": 10000
     },
     "inputWidgets": {},
     "nuid": "cae7d8cd-f803-44fc-837a-5154fbf3bb70",
     "showTitle": false,
     "tableResultSettingsMap": {},
     "title": ""
    }
   },
   "outputs": [],
   "source": [
    "# Save the final results \n",
    "final_precipitation_stats.write.mode(\"overwrite\").parquet(\"/FileStore/intermediate_output/site_daily_radius_precipitation_stats\")"
   ]
  },
  {
   "cell_type": "code",
   "execution_count": 0,
   "metadata": {
    "application/vnd.databricks.v1+cell": {
     "cellMetadata": {
      "byteLimit": 2048000,
      "rowLimit": 10000
     },
     "inputWidgets": {},
     "nuid": "e17b0882-715e-4d40-8272-5384386ec0c8",
     "showTitle": false,
     "tableResultSettingsMap": {},
     "title": ""
    }
   },
   "outputs": [
    {
     "output_type": "stream",
     "name": "stdout",
     "output_type": "stream",
     "text": [
      "Total unique zip codes in precipitation data: 33791\n"
     ]
    }
   ],
   "source": [
    "## Zip Code Coverage \n",
    "precip_2023_zips = precipitation_data_2023.select(\"ZCTA5CE20\").distinct()\n",
    "precip_2024_zips = precipitation_data_2024.select(\"ZCTA5CE20\").distinct()\n",
    "precip_2025_zips = precipitation_data_2025.select(\"ZCTA5CE20\").distinct()\n",
    "\n",
    "# Union all zip codes\n",
    "all_precip_zips = precip_2023_zips.union(precip_2024_zips).union(precip_2025_zips).distinct()\n",
    "\n",
    "# Calculate the total number of unique zip codes in precipitation data\n",
    "total_precip_zips = all_precip_zips.count()\n",
    "print(f\"Total unique zip codes in precipitation data: {total_precip_zips}\")\n",
    "\n",
    "# Explode the site data to get all site-zipcode pairs\n",
    "exploded_sites = site_data_df.select(\n",
    "    \"ID\", \"Brand\", \"State\", explode(\"Zip Codes\").alias(\"site_zip\")\n",
    ")"
   ]
  },
  {
   "cell_type": "code",
   "execution_count": 0,
   "metadata": {
    "application/vnd.databricks.v1+cell": {
     "cellMetadata": {
      "byteLimit": 2048000,
      "rowLimit": 10000
     },
     "inputWidgets": {},
     "nuid": "85cf825a-cb79-4df8-826e-c6292df550a0",
     "showTitle": false,
     "tableResultSettingsMap": {},
     "title": ""
    }
   },
   "outputs": [],
   "source": [
    "# Count unique zip codes for each site\n",
    "site_zip_counts = exploded_sites.groupBy(\"ID\").agg(\n",
    "    count(\"site_zip\").alias(\"total_zips\"),\n",
    "    collect_set(\"site_zip\").alias(\"all_site_zips\")\n",
    ")\n",
    "\n",
    "# Convert all precipitation zip codes to a list (to be used in the UDF)\n",
    "all_precip_zips_list = [row.ZCTA5CE20 for row in all_precip_zips.collect()]\n",
    "\n",
    "# Create a function to check coverage\n",
    "def calculate_coverage(site_zips):\n",
    "    if site_zips is None or len(site_zips) == 0:\n",
    "        return 0, 0, []\n",
    "    \n",
    "    covered_zips = [z for z in site_zips if z in all_precip_zips_list]\n",
    "    coverage_percent = (len(covered_zips) / len(site_zips)) * 100 if len(site_zips) > 0 else 0\n",
    "    return len(covered_zips), coverage_percent, covered_zips"
   ]
  },
  {
   "cell_type": "code",
   "execution_count": 0,
   "metadata": {
    "application/vnd.databricks.v1+cell": {
     "cellMetadata": {
      "byteLimit": 2048000,
      "rowLimit": 10000
     },
     "inputWidgets": {},
     "nuid": "7ebffc19-2e7b-46c6-a9bc-a7174513d543",
     "showTitle": false,
     "tableResultSettingsMap": {},
     "title": ""
    }
   },
   "outputs": [],
   "source": [
    "from pyspark.sql.types import IntegerType, DoubleType, ArrayType, StringType, StructType, StructField"
   ]
  },
  {
   "cell_type": "code",
   "execution_count": 0,
   "metadata": {
    "application/vnd.databricks.v1+cell": {
     "cellMetadata": {
      "byteLimit": 2048000,
      "rowLimit": 10000
     },
     "inputWidgets": {},
     "nuid": "ef1b286e-1186-4e00-8d7d-42f7246d9fd6",
     "showTitle": false,
     "tableResultSettingsMap": {},
     "title": ""
    }
   },
   "outputs": [],
   "source": [
    "coverage_schema = StructType([\n",
    "    StructField(\"covered_count\", IntegerType(), False),\n",
    "    StructField(\"coverage_percent\", DoubleType(), False),\n",
    "    StructField(\"covered_zips\", ArrayType(StringType()), False)\n",
    "])\n",
    "\n",
    "coverage_udf = udf(calculate_coverage, coverage_schema)\n",
    "\n",
    "# Apply the UDF to calculate coverage\n",
    "coverage_df = site_zip_counts.withColumn(\n",
    "    \"coverage\", coverage_udf(\"all_site_zips\")\n",
    ").select(\n",
    "    \"ID\", \n",
    "    \"total_zips\",\n",
    "    col(\"coverage.covered_count\").alias(\"covered_zips\"),\n",
    "    col(\"coverage.coverage_percent\").alias(\"coverage_percent\"),\n",
    "    col(\"coverage.covered_zips\").alias(\"covered_zip_list\")\n",
    ")"
   ]
  },
  {
   "cell_type": "code",
   "execution_count": 0,
   "metadata": {
    "application/vnd.databricks.v1+cell": {
     "cellMetadata": {
      "byteLimit": 2048000,
      "rowLimit": 10000
     },
     "inputWidgets": {},
     "nuid": "86a36e89-56a7-4626-bb6f-2dba57e5d022",
     "showTitle": false,
     "tableResultSettingsMap": {},
     "title": ""
    }
   },
   "outputs": [
    {
     "output_type": "stream",
     "name": "stdout",
     "output_type": "stream",
     "text": [
      "+----+----------+------------+-----------------+--------------------+\n|  ID|total_zips|covered_zips| coverage_percent|    covered_zip_list|\n+----+----------+------------+-----------------+--------------------+\n|18.0|       462|         461|99.78354978354979|[08901, 19050, 18...|\n|17.0|       438|         437|99.77168949771689|[19050, 19806, 19...|\n|39.0|       112|         111|99.10714285714286|[29687, 29321, 28...|\n+----+----------+------------+-----------------+--------------------+\n\n"
     ]
    }
   ],
   "source": [
    "# Show the results\n",
    "coverage_df.filter(col(\"coverage_percent\") < 100).orderBy(col(\"coverage_percent\").desc()).show()"
   ]
  },
  {
   "cell_type": "code",
   "execution_count": 0,
   "metadata": {
    "application/vnd.databricks.v1+cell": {
     "cellMetadata": {
      "byteLimit": 2048000,
      "rowLimit": 10000
     },
     "inputWidgets": {},
     "nuid": "1af417e4-76b4-406c-be4a-e56d451bd90f",
     "showTitle": false,
     "tableResultSettingsMap": {},
     "title": ""
    }
   },
   "outputs": [
    {
     "output_type": "stream",
     "name": "stdout",
     "output_type": "stream",
     "text": [
      "+----+----------+------------+-----------------+--------------------+\n|  ID|total_zips|covered_zips| coverage_percent|    covered_zip_list|\n+----+----------+------------+-----------------+--------------------+\n|18.0|       462|         461|99.78354978354979|[08901, 19050, 18...|\n|17.0|       438|         437|99.77168949771689|[19050, 19806, 19...|\n|12.0|       288|         288|            100.0|[18340, 12420, 10...|\n|15.0|       140|         140|            100.0|[43571, 48159, 48...|\n| 9.0|       133|         133|            100.0|[47142, 40207, 40...|\n|16.0|       133|         133|            100.0|[45368, 43748, 43...|\n| 8.0|       132|         132|            100.0|[40006, 47174, 40...|\n|13.0|       130|         130|            100.0|[28244, 28208, 28...|\n|32.0|       116|         116|            100.0|[25922, 24311, 24...|\n|52.0|       114|         114|            100.0|[28071, 27262, 28...|\n+----+----------+------------+-----------------+--------------------+\n\n"
     ]
    }
   ],
   "source": [
    "coverage_df.orderBy(col(\"covered_zips\").desc()).limit(10).show()"
   ]
  },
  {
   "cell_type": "code",
   "execution_count": 0,
   "metadata": {
    "application/vnd.databricks.v1+cell": {
     "cellMetadata": {
      "byteLimit": 2048000,
      "rowLimit": 10000
     },
     "inputWidgets": {},
     "nuid": "c346fe17-034e-453d-a9e7-1f2b24e1c5c9",
     "showTitle": false,
     "tableResultSettingsMap": {},
     "title": ""
    }
   },
   "outputs": [],
   "source": [
    "# Save coverage df\n",
    "coverage_df.write.mode(\"overwrite\").parquet(\"/FileStore/intermediate_output/site_coverage_df\")"
   ]
  },
  {
   "cell_type": "code",
   "execution_count": 0,
   "metadata": {
    "application/vnd.databricks.v1+cell": {
     "cellMetadata": {},
     "inputWidgets": {},
     "nuid": "ca14f6e8-919d-4c71-9099-812912016fe8",
     "showTitle": false,
     "tableResultSettingsMap": {},
     "title": ""
    }
   },
   "outputs": [],
   "source": [
    "spark.stop()"
   ]
  }
 ],
 "metadata": {
  "application/vnd.databricks.v1+notebook": {
   "computePreferences": null,
   "dashboards": [],
   "environmentMetadata": {
    "base_environment": "",
    "environment_version": "2"
   },
   "inputWidgetPreferences": null,
   "language": "python",
   "notebookMetadata": {
    "pythonIndentUnit": 4
   },
   "notebookName": "map_external_data_to_sites",
   "widgets": {}
  },
  "language_info": {
   "name": "python"
  }
 },
 "nbformat": 4,
 "nbformat_minor": 0
}