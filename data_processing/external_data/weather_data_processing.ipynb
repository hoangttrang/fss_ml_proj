{
 "cells": [
  {
   "cell_type": "markdown",
   "metadata": {
    "application/vnd.databricks.v1+cell": {
     "cellMetadata": {},
     "inputWidgets": {},
     "nuid": "af27dbf1-d435-496f-8423-08fd28387aeb",
     "showTitle": false,
     "tableResultSettingsMap": {},
     "title": ""
    }
   },
   "source": [
    "# Reading in Daily Precipitation Data "
   ]
  },
  {
   "cell_type": "markdown",
   "metadata": {
    "application/vnd.databricks.v1+cell": {
     "cellMetadata": {},
     "inputWidgets": {},
     "nuid": "4692c02b-81dd-4bf5-b9ac-d7a93a3c4b4e",
     "showTitle": false,
     "tableResultSettingsMap": {},
     "title": ""
    }
   },
   "source": [
    "This daily precipitation represents spatially gridded daily total precipitation at 4km grid cell resolution. Distribution of the point measurements to the spatial grid was accomplished using the PRISM model, developed and applied by Dr. Christopher Daly of the [PRISM Climate Group](https://prism.oregonstate.edu) at Oregon State University . "
   ]
  },
  {
   "cell_type": "markdown",
   "metadata": {
    "application/vnd.databricks.v1+cell": {
     "cellMetadata": {},
     "inputWidgets": {},
     "nuid": "bc0d6f41-8e28-4ef9-a5f5-11b8780b3d8c",
     "showTitle": false,
     "tableResultSettingsMap": {},
     "title": ""
    }
   },
   "source": [
    "\n",
    "## Workflow \n",
    "\n",
    "**Data Ingestion:**\n",
    "* The code reads BIL (Band Interleaved by Line) raster files containing precipitation data\n",
    "* It also loads zip code boundary data from a shapefile to map precipitation to geographic areas\n",
    "* The data spans years 2023-2025\n",
    "\n",
    "**Location Data Preprocessing:**\n",
    "* For each zip code area, a representative point is calculated to ensure data sampling occurs within the polygon\n",
    "* BIL files are filtered by year and processed in batches of 10 files at a time\n",
    "* The code extracts the date information from each filename\n",
    "\n",
    "**Precipitation Data Processing:**\n",
    "* For each BIL file, the code:\n",
    "  * Reads the raster data using the rasterio library\n",
    "  * Extracts precipitation values at each zip code's representative point\n",
    "  * Handles coordinate system transformations if needed\n",
    "\n",
    "**Data Merging:**\n",
    "* Results from each batch are joined together using common columns (geographic identifiers and coordinates)\n",
    "* The data is periodically checkpointed to disk to optimize memory usage\n",
    "* Each year's data is processed separately\n",
    "\n",
    "**Output Storage:**\n",
    "* Final datasets are written as Parquet files to intermediate storage locations\n",
    "* The datasets include precipitation values mapped to zip codes with their coordinates\n",
    "* Each year's data is saved separately (\"/FileStore/intermediate_output/YYYY_precipitation_data\")"
   ]
  },
  {
   "cell_type": "markdown",
   "metadata": {
    "application/vnd.databricks.v1+cell": {
     "cellMetadata": {},
     "inputWidgets": {},
     "nuid": "8f63262f-e54f-4f25-9872-dabd1bbe275f",
     "showTitle": false,
     "tableResultSettingsMap": {},
     "title": ""
    }
   },
   "source": [
    "<img src=\"assets/weather_data_processing_viz.png\" alt=\"alt text\" width=\"800\" height=\"400\">"
   ]
  },
  {
   "cell_type": "code",
   "execution_count": 0,
   "metadata": {
    "application/vnd.databricks.v1+cell": {
     "cellMetadata": {
      "byteLimit": 2048000,
      "rowLimit": 10000
     },
     "inputWidgets": {},
     "nuid": "28a3c257-bbb6-4cc7-af02-7a5e23ee1b7c",
     "showTitle": false,
     "tableResultSettingsMap": {},
     "title": ""
    }
   },
   "outputs": [],
   "source": [
    "from pyspark.sql import SparkSession\n",
    "from pyspark.sql import functions as F\n",
    "from pyspark.sql.types import *\n",
    "import pandas as pd\n",
    "import geopandas as gpd\n",
    "import numpy as np\n",
    "import gc\n",
    "import os \n",
    "import re\n",
    "import datetime\n",
    "import rasterio\n",
    "from rasterio.transform import rowcol\n",
    "from functools import reduce\n",
    "from pyspark.sql import DataFrame"
   ]
  },
  {
   "cell_type": "code",
   "execution_count": 0,
   "metadata": {
    "application/vnd.databricks.v1+cell": {
     "cellMetadata": {
      "byteLimit": 2048000,
      "rowLimit": 10000
     },
     "inputWidgets": {},
     "nuid": "2ccf8f49-7b43-4bf6-acab-7ffb9086bab6",
     "showTitle": false,
     "tableResultSettingsMap": {},
     "title": ""
    }
   },
   "outputs": [],
   "source": [
    "# Initialize Spark Session\n",
    "spark = SparkSession.builder.appName(\"Precipitation Data Processing\").getOrCreate()"
   ]
  },
  {
   "cell_type": "markdown",
   "metadata": {
    "application/vnd.databricks.v1+cell": {
     "cellMetadata": {},
     "inputWidgets": {},
     "nuid": "e967d2c1-f0a6-4a48-b86e-a7c5bd688bab",
     "showTitle": false,
     "tableResultSettingsMap": {},
     "title": ""
    }
   },
   "source": [
    "## Functions to Process Data "
   ]
  },
  {
   "cell_type": "code",
   "execution_count": 0,
   "metadata": {
    "application/vnd.databricks.v1+cell": {
     "cellMetadata": {
      "byteLimit": 2048000,
      "rowLimit": 10000
     },
     "inputWidgets": {},
     "nuid": "7d8d8c52-aae4-4840-a7a1-05077955be04",
     "showTitle": false,
     "tableResultSettingsMap": {},
     "title": ""
    }
   },
   "outputs": [],
   "source": [
    "def list_bil_files(base_path, recursive=True):\n",
    "    \"\"\"\n",
    "    List all bile files in directory\n",
    "    \"\"\"\n",
    "    all_files = []\n",
    "    \n",
    "    # Remove /dbfs prefix if it exists for listing\n",
    "    list_path = base_path.replace(\"/dbfs\", \"\") if base_path.startswith(\"/dbfs\") else base_path\n",
    "    \n",
    "    if recursive:\n",
    "        files = dbutils.fs.ls(list_path)\n",
    "        for file_info in files:\n",
    "            path = file_info.path\n",
    "            if file_info.isDir():\n",
    "                # Recursively list files in subdirectory\n",
    "                all_files.extend(list_bil_files(f\"{path}\", recursive))\n",
    "            elif path.lower().endswith('.bil'):\n",
    "                # Add /dbfs prefix for local file system access\n",
    "                # Convert dbfs:/ path to /dbfs/ path\n",
    "                local_path = \"/dbfs\" + path[5:] if path.startswith(\"dbfs:\") else f\"/dbfs{path}\"\n",
    "                all_files.append(local_path)\n",
    "    else:\n",
    "        files = dbutils.fs.ls(list_path)\n",
    "        for file_info in files:\n",
    "            path = file_info.path\n",
    "            if path.lower().endswith('.bil'):\n",
    "                # Convert dbfs:/ path to /dbfs/ path\n",
    "                local_path = \"/dbfs\" + path[5:] if path.startswith(\"dbfs:\") else f\"/dbfs{path}\"\n",
    "                all_files.append(local_path)\n",
    "    \n",
    "    return all_files\n",
    "\n",
    "def load_zip_shapefile():\n",
    "    \"\"\" \n",
    "    Load the zip code shapefile\n",
    "    \"\"\"\n",
    "    zip_shapefile = os.path.join(data_path, \"tl_2020_us_zcta520.shp\")\n",
    "    \n",
    "    if os.path.exists(zip_shapefile):\n",
    "        zip_gdf = gpd.read_file(zip_shapefile)\n",
    "        print(f\"Loaded {len(zip_gdf)} zip code boundaries\")\n",
    "        return zip_gdf\n",
    "    else:\n",
    "        print(\"Zip code shapefile not found. Will proceed without zip code assignment.\")\n",
    "        return None\n",
    "\n",
    "def get_zip_points(zip_gdf):\n",
    "    \"\"\"\n",
    "    Get representative points for each zip code polygon\n",
    "    \"\"\"\n",
    "    points_data = []\n",
    "    \n",
    "    for idx, row in zip_gdf.iterrows():\n",
    "        # Get a point guaranteed to be inside the polygon\n",
    "        point = row.geometry.representative_point()\n",
    "        \n",
    "        # Create a dictionary with all attributes plus coordinates\n",
    "        point_data = {col: row[col] for col in zip_gdf.columns if col != 'geometry'}\n",
    "        point_data['longitude'] = point.x\n",
    "        point_data['latitude'] = point.y\n",
    "        point_data['geometry'] = point\n",
    "        \n",
    "        points_data.append(point_data)\n",
    "    \n",
    "    # Create a GeoDataFrame with the points\n",
    "    points_gdf = gpd.GeoDataFrame(points_data, geometry='geometry', crs=zip_gdf.crs)\n",
    "    \n",
    "    return points_gdf\n",
    "\n",
    "def read_bil_file(file_path):\n",
    "    try:\n",
    "        with rasterio.open(file_path) as src:\n",
    "            # Read the raster data\n",
    "            data = src.read(1)  # Read the first band\n",
    "            \n",
    "            # Get metadata\n",
    "            metadata = {\n",
    "                \"width\": src.width,\n",
    "                \"height\": src.height,\n",
    "                \"crs\": src.crs,\n",
    "                \"transform\": src.transform,\n",
    "                \"bounds\": src.bounds,\n",
    "                \"nodata\": src.nodata\n",
    "            }\n",
    "            \n",
    "            return data, metadata\n",
    "    except Exception as e:\n",
    "        print(f\"Error reading {file_path}: {str(e)}\")\n",
    "        return None, None\n",
    "\n",
    "def get_values_at_points(points_gdf, bil_data, bil_metadata):\n",
    "    \"\"\"\n",
    "    Extract values from BIL data at specified points.\n",
    "    \"\"\"\n",
    "    # Get the transformation from the metadata\n",
    "    transform = bil_metadata[\"transform\"]\n",
    "    bil_crs = bil_metadata.get(\"crs\")\n",
    "    \n",
    "    # If BIL has a CRS and it's different from points, reproject points\n",
    "    if bil_crs is not None and str(bil_crs) != str(points_gdf.crs):\n",
    "        points_gdf = points_gdf.to_crs(bil_crs)\n",
    "    \n",
    "    # Initialize results array\n",
    "    values = []\n",
    "    \n",
    "    # Extract value at each point\n",
    "    for idx, point in points_gdf.iterrows():\n",
    "        # Get point coordinates\n",
    "        x, y = point.geometry.x, point.geometry.y\n",
    "        \n",
    "        try:\n",
    "            # Convert coordinates to pixel indices\n",
    "            row, col = rowcol(transform, x, y)\n",
    "            \n",
    "            # Check if point is within raster bounds\n",
    "            if (0 <= row < bil_metadata[\"height\"] and 0 <= col < bil_metadata[\"width\"]):\n",
    "                value = bil_data[row, col]\n",
    "                # Check for nodata value\n",
    "                if bil_metadata[\"nodata\"] is not None and value == bil_metadata[\"nodata\"]:\n",
    "                    values.append(np.nan)\n",
    "                else:\n",
    "                    values.append(float(value))\n",
    "            else:\n",
    "                values.append(np.nan)\n",
    "        except Exception as e:\n",
    "            print(f\"Error getting value at point ({x}, {y}): {str(e)}\")\n",
    "            values.append(np.nan)\n",
    "    \n",
    "    return values\n",
    "\n",
    "\n",
    "def map_bil_to_zip_codes(bil_files, points_gdf, sample_count=None):\n",
    "    \"\"\"\n",
    "    Process BIL files and map values to zip codes using Spark\n",
    "    \"\"\"\n",
    "    # If sample_count is provided, limit the number of files\n",
    "    if sample_count is not None and sample_count < len(bil_files):\n",
    "        bil_files = bil_files[:sample_count]\n",
    "    \n",
    "    # Initialize empty list for all results\n",
    "    all_results = []\n",
    "    \n",
    "    # Process each BIL file\n",
    "    for bil_file in bil_files:\n",
    "        file_name = os.path.basename(bil_file)\n",
    "        column_name = os.path.splitext(file_name)[0]\n",
    "        \n",
    "        print(f\"Processing {file_name}...\")\n",
    "        \n",
    "        # Read BIL file\n",
    "        bil_data, bil_metadata = read_bil_file(bil_file)\n",
    "        \n",
    "        if bil_data is None or bil_metadata is None:\n",
    "            print(f\"Skipping {file_name} due to reading errors\")\n",
    "            continue\n",
    "        \n",
    "        # Extract values at zip code points\n",
    "        values = get_values_at_points(points_gdf, bil_data, bil_metadata)\n",
    "        \n",
    "        # Add to results list\n",
    "        for idx, point in points_gdf.iterrows():\n",
    "            result = {col: point[col] for col in points_gdf.columns if col != 'geometry'}\n",
    "            result['longitude'] = point.geometry.x\n",
    "            result['latitude'] = point.geometry.y\n",
    "            result['file_name'] = file_name\n",
    "            result['column_name'] = column_name\n",
    "            result['value'] = values[idx]\n",
    "            all_results.append(result)\n",
    "    \n",
    "    # Convert to Spark DataFrame\n",
    "    if all_results:\n",
    "        result_df = spark.createDataFrame(all_results)\n",
    "        \n",
    "        # Pivot the data to have one column per BIL file\n",
    "        result_pivot = result_df.groupBy([col for col in result_df.columns \n",
    "                                         if col not in ['file_name', 'column_name', 'value']])\\\n",
    "                                .pivot('column_name')\\\n",
    "                                .agg(F.first('value'))\n",
    "        \n",
    "        return result_pivot\n",
    "    else:\n",
    "        return spark.createDataFrame([])\n",
    "\n",
    "def list_and_filter_bil_files(data_path, year_filter=\"2025\"):\n",
    "    \"\"\"\n",
    "    Get all BIL files at once and filter in one pass\n",
    "    \"\"\"\n",
    "    all_files = list_bil_files(data_path)\n",
    "    filtered_files = [f for f in all_files if year_filter in f]\n",
    "    print(f\"Found {len(filtered_files)} BIL files for {year_filter}\")\n",
    "    return filtered_files\n",
    "\n",
    "def process_files_spark(bil_files, points_gdf, batch_size=10):\n",
    "    \"\"\"\n",
    "    Parallelize batch processing with Spark\n",
    "    \"\"\"\n",
    "    # Create schema for result to avoid schema inference\n",
    "    result_schema = StructType([\n",
    "        StructField(\"GEOID20\", StringType(), True),\n",
    "        StructField(\"ZCTA5CE20\", StringType(), True),\n",
    "        StructField(\"latitude\", FloatType(), True),\n",
    "        StructField(\"longitude\", FloatType(), True),\n",
    "        StructField(\"value\", FloatType(), True),\n",
    "        StructField(\"date\", TimestampType(), True)\n",
    "    ])\n",
    "    \n",
    "    # Broadcast the points GeoDataFrame to all executors\n",
    "    broadcast_points = sc.broadcast(points_gdf)\n",
    "    \n",
    "    # Split files into batches\n",
    "    batches = [bil_files[i:i + batch_size] for i in range(0, len(bil_files), batch_size)]\n",
    "    \n",
    "    result_df = spark.createDataFrame([], result_schema)\n",
    "    \n",
    "    # Process each batch and union results\n",
    "    for i, batch in enumerate(batches):\n",
    "        print(f\"Processing batch {i+1}/{len(batches)}\")\n",
    "        \n",
    "        # Process this batch in parallel across cluster\n",
    "        batch_rdd = sc.parallelize(batch)\n",
    "        batch_results = batch_rdd.mapPartitions(\n",
    "            lambda files: process_files_partition(files, broadcast_points.value)\n",
    "        ).collect()\n",
    "        \n",
    "        # Convert batch results to DataFrame and union with main result\n",
    "        if batch_results:\n",
    "            batch_df = spark.createDataFrame(batch_results, result_schema)\n",
    "            result_df = result_df.unionByName(batch_df)\n",
    "        \n",
    "            if (i+1) % 5 == 0:\n",
    "                temp_path = f\"/FileStore/intermediate_output/temp_batch_{i}\"\n",
    "                result_df.write.mode(\"overwrite\").parquet(temp_path)\n",
    "                result_df = spark.read.parquet(temp_path)\n",
    "    \n",
    "    return result_df\n",
    "\n",
    "\n",
    "def process_files_partition(files_iterator, points_gdf):\n",
    "    \"\"\"\n",
    "    Process files within a partition\n",
    "    \"\"\"\n",
    "    results = []\n",
    "    for file_path in files_iterator:\n",
    "        try:\n",
    "            # Process single file and get results\n",
    "            file_results = process_single_file(file_path, points_gdf)\n",
    "            results.extend(file_results)\n",
    "        except Exception as e:\n",
    "            print(f\"Error processing {file_path}: {str(e)}\")\n",
    "    return results\n",
    "\n",
    "\n",
    "def process_single_file(file_path, points_gdf):\n",
    "    \"\"\"\n",
    "    Process a single file and return row dictionaries\n",
    "    \"\"\"\n",
    "    # Extract date from filename\n",
    "    date_match = re.search(r'(\\d{4})(\\d{2})(\\d{2})', os.path.basename(file_path))\n",
    "    if date_match:\n",
    "        year, month, day = map(int, date_match.groups())\n",
    "        date = pd.to_datetime(f\"{year}-{month}-{day}\")\n",
    "    else:\n",
    "        mod_time = os.path.getmtime(file_path)\n",
    "        date = pd.to_datetime(datetime.datetime.fromtimestamp(mod_time))\n",
    "    \n",
    "    # Read BIL file\n",
    "    data, metadata = read_bil_file(file_path)\n",
    "    if data is None or metadata is None:\n",
    "        return []\n",
    "    \n",
    "    # Extract values at points\n",
    "    values = get_values_at_points(points_gdf, data, metadata)\n",
    "    \n",
    "    # Create result dictionaries\n",
    "    results = []\n",
    "    for idx, point in points_gdf.iterrows():\n",
    "        result = {col: point[col] for col in points_gdf.columns if col != 'geometry'}\n",
    "        result['value'] = values[idx]\n",
    "        result['date'] = date\n",
    "        results.append(result)\n",
    "    \n",
    "    return results\n",
    "\n",
    "def process_batch(bil_files_batch, points_gdf):\n",
    "    \"\"\"\n",
    "    Process a batch of BIL files \n",
    "    \"\"\"\n",
    "    # Create a list for batch results\n",
    "    batch_dfs = []\n",
    "    \n",
    "    # Process each BIL file\n",
    "    for bil_file in bil_files_batch:\n",
    "        file_name = os.path.basename(bil_file)\n",
    "        column_name = os.path.splitext(file_name)[0]\n",
    "        \n",
    "        print(f\"Processing {file_name}...\")\n",
    "        \n",
    "        # Read BIL file\n",
    "        bil_data, bil_metadata = read_bil_file(bil_file)\n",
    "        \n",
    "        if bil_data is None or bil_metadata is None:\n",
    "            print(f\"Skipping {file_name} due to reading errors\")\n",
    "            continue\n",
    "        \n",
    "        # Extract values at zip code points\n",
    "        values = get_values_at_points(points_gdf, bil_data, bil_metadata)\n",
    "        \n",
    "        # Create a list of dictionaries for this file's results\n",
    "        file_results = []\n",
    "        for idx, point in points_gdf.iterrows():\n",
    "            result = {}\n",
    "            # Add only non-geometry columns from points_gdf\n",
    "            for col in points_gdf.columns:\n",
    "                if col != 'geometry':\n",
    "                    result[col] = point[col]\n",
    "            \n",
    "            # Add coordinates\n",
    "            result['longitude'] = point.geometry.x\n",
    "            result['latitude'] = point.geometry.y\n",
    "            \n",
    "            # Add value for this file\n",
    "            result[column_name] = float(values[idx]) if not pd.isna(values[idx]) else None\n",
    "            \n",
    "            file_results.append(result)\n",
    "        \n",
    "        # Create DataFrame for this file\n",
    "        if file_results:\n",
    "            file_df = spark.createDataFrame(file_results)\n",
    "            batch_dfs.append(file_df)\n",
    "    \n",
    "    return batch_dfs"
   ]
  },
  {
   "cell_type": "markdown",
   "metadata": {
    "application/vnd.databricks.v1+cell": {
     "cellMetadata": {},
     "inputWidgets": {},
     "nuid": "948c585a-cd16-4e4a-9d76-50ad28dde299",
     "showTitle": false,
     "tableResultSettingsMap": {},
     "title": ""
    }
   },
   "source": [
    "## Location Data Ingestion"
   ]
  },
  {
   "cell_type": "code",
   "execution_count": 0,
   "metadata": {
    "application/vnd.databricks.v1+cell": {
     "cellMetadata": {
      "byteLimit": 2048000,
      "rowLimit": 10000
     },
     "inputWidgets": {},
     "nuid": "d4e1c7ee-0524-4a9e-b3f0-1d800ca04b22",
     "showTitle": false,
     "tableResultSettingsMap": {},
     "title": ""
    }
   },
   "outputs": [
    {
     "output_type": "stream",
     "name": "stdout",
     "output_type": "stream",
     "text": [
      "Loaded 33791 zip code boundaries\n"
     ]
    }
   ],
   "source": [
    "# DBFS path\n",
    "data_path = \"/dbfs/FileStore/tables/\"\n",
    "\n",
    "# Load zip code boundaries\n",
    "zip_gdf = load_zip_shapefile()"
   ]
  },
  {
   "cell_type": "code",
   "execution_count": 0,
   "metadata": {
    "application/vnd.databricks.v1+cell": {
     "cellMetadata": {
      "byteLimit": 2048000,
      "rowLimit": 10000
     },
     "inputWidgets": {},
     "nuid": "095544dd-5598-40ce-96c2-410797133b36",
     "showTitle": false,
     "tableResultSettingsMap": {},
     "title": ""
    }
   },
   "outputs": [],
   "source": [
    "zip_state_df_path = \"/FileStore/tables/uscities.csv\"\n",
    "zip_state_df = spark.read.csv(zip_state_df_path, header=True, inferSchema=True)"
   ]
  },
  {
   "cell_type": "code",
   "execution_count": 0,
   "metadata": {
    "application/vnd.databricks.v1+cell": {
     "cellMetadata": {
      "byteLimit": 2048000,
      "rowLimit": 10000
     },
     "inputWidgets": {},
     "nuid": "baa395dd-efcc-4aa3-8897-93dbb1620c91",
     "showTitle": false,
     "tableResultSettingsMap": {},
     "title": ""
    }
   },
   "outputs": [
    {
     "output_type": "stream",
     "name": "stdout",
     "output_type": "stream",
     "text": [
      "Calculating zip code representative points...\n"
     ]
    }
   ],
   "source": [
    "print(\"Calculating zip code representative points...\")\n",
    "points_gdf = get_zip_points(zip_gdf)"
   ]
  },
  {
   "cell_type": "markdown",
   "metadata": {
    "application/vnd.databricks.v1+cell": {
     "cellMetadata": {},
     "inputWidgets": {},
     "nuid": "044279f2-e493-4ffb-bd4f-c866ddf33bc6",
     "showTitle": false,
     "tableResultSettingsMap": {},
     "title": ""
    }
   },
   "source": [
    "## Precipitation Data Ingestion and Processing"
   ]
  },
  {
   "cell_type": "code",
   "execution_count": 0,
   "metadata": {
    "application/vnd.databricks.v1+cell": {
     "cellMetadata": {},
     "inputWidgets": {},
     "nuid": "91a522c9-35f5-4482-9462-133537d9a38e",
     "showTitle": false,
     "tableResultSettingsMap": {},
     "title": ""
    }
   },
   "outputs": [],
   "source": [
    "batch_size = 10\n",
    "data_path = \"/FileStore/tables/\"\n",
    "all_bil_files = list_bil_files(data_path)\n",
    "sc = spark.sparkContext"
   ]
  },
  {
   "cell_type": "markdown",
   "metadata": {
    "application/vnd.databricks.v1+cell": {
     "cellMetadata": {},
     "inputWidgets": {},
     "nuid": "b570c1c7-5b5e-40d8-a34e-f9b9ed6e2b78",
     "showTitle": false,
     "tableResultSettingsMap": {},
     "title": ""
    }
   },
   "source": [
    "### 2023 Data "
   ]
  },
  {
   "cell_type": "code",
   "execution_count": 0,
   "metadata": {
    "application/vnd.databricks.v1+cell": {
     "cellMetadata": {
      "byteLimit": 2048000,
      "rowLimit": 10000
     },
     "inputWidgets": {},
     "nuid": "0c4d2fc4-0f4c-41db-88d0-1de153fcebe2",
     "showTitle": false,
     "tableResultSettingsMap": {},
     "title": ""
    }
   },
   "outputs": [
    {
     "output_type": "stream",
     "name": "stdout",
     "output_type": "stream",
     "text": [
      "Found 365 BIL files for 2023\n"
     ]
    }
   ],
   "source": [
    "# Filter to year 2023 files\n",
    "bil_files = [f for f in all_bil_files if \"2023\" in f]\n",
    "print(f\"Found {len(bil_files)} BIL files for 2023\")"
   ]
  },
  {
   "cell_type": "code",
   "execution_count": 0,
   "metadata": {
    "application/vnd.databricks.v1+cell": {
     "cellMetadata": {
      "byteLimit": 2048000,
      "rowLimit": 10000
     },
     "inputWidgets": {},
     "nuid": "7271b84e-1a26-49e4-a0e0-ca704b8edd47",
     "showTitle": false,
     "tableResultSettingsMap": {},
     "title": ""
    }
   },
   "outputs": [],
   "source": [
    "# Split into batches\n",
    "batches = [bil_files[i:i + batch_size] for i in range(0, len(bil_files), batch_size)]"
   ]
  },
  {
   "cell_type": "code",
   "execution_count": 0,
   "metadata": {
    "application/vnd.databricks.v1+cell": {
     "cellMetadata": {
      "byteLimit": 2048000,
      "rowLimit": 10000
     },
     "inputWidgets": {},
     "nuid": "002f176f-64bc-414c-9ae7-dfbdb74c08ab",
     "showTitle": false,
     "tableResultSettingsMap": {},
     "title": ""
    }
   },
   "outputs": [],
   "source": [
    "# Define common columns for joining\n",
    "common_cols = [\n",
    "    'ALAND20', 'AWATER20', 'CLASSFP20', 'FUNCSTAT20', 'GEOID20', \n",
    "    'INTPTLAT20', 'INTPTLON20', 'MTFCC20', 'ZCTA5CE20', \n",
    "    'latitude', 'longitude'\n",
    "]\n",
    "\n",
    "# Broadcast the points GeoDataFrame\n",
    "broadcast_points = sc.broadcast(points_gdf)"
   ]
  },
  {
   "cell_type": "code",
   "execution_count": 0,
   "metadata": {
    "application/vnd.databricks.v1+cell": {
     "cellMetadata": {
      "byteLimit": 2048000,
      "rowLimit": 10000
     },
     "inputWidgets": {},
     "nuid": "8ff1f061-6848-45f7-8e02-c7b0391efafd",
     "showTitle": false,
     "tableResultSettingsMap": {},
     "title": ""
    }
   },
   "outputs": [],
   "source": [
    "points_dict = points_gdf.to_dict('records')\n",
    "geometries = {i: {'x': point.geometry.x, 'y': point.geometry.y} \n",
    "                for i, point in enumerate(points_gdf.itertuples())}"
   ]
  },
  {
   "cell_type": "code",
   "execution_count": 0,
   "metadata": {
    "application/vnd.databricks.v1+cell": {
     "cellMetadata": {
      "byteLimit": 2048000,
      "rowLimit": 10000
     },
     "inputWidgets": {},
     "nuid": "af2a3bab-5afc-4118-9920-250beabd7414",
     "showTitle": false,
     "tableResultSettingsMap": {},
     "title": ""
    }
   },
   "outputs": [],
   "source": [
    "result_df = None"
   ]
  },
  {
   "cell_type": "code",
   "execution_count": 0,
   "metadata": {
    "application/vnd.databricks.v1+cell": {
     "cellMetadata": {
      "byteLimit": 2048000,
      "rowLimit": 10000
     },
     "inputWidgets": {},
     "nuid": "c8db28cc-eb7e-42ec-a2ab-a3f09d84a55f",
     "showTitle": false,
     "tableResultSettingsMap": {},
     "title": ""
    }
   },
   "outputs": [
    {
     "output_type": "stream",
     "name": "stdout",
     "output_type": "stream",
     "text": [
      "Processing batch 1/37\nProcessing PRISM_ppt_stable_4kmD2_20230101_bil.bil...\nProcessing PRISM_ppt_stable_4kmD2_20230102_bil.bil...\nProcessing PRISM_ppt_stable_4kmD2_20230103_bil.bil...\nProcessing PRISM_ppt_stable_4kmD2_20230104_bil.bil...\nProcessing PRISM_ppt_stable_4kmD2_20230105_bil.bil...\nProcessing PRISM_ppt_stable_4kmD2_20230106_bil.bil...\nProcessing PRISM_ppt_stable_4kmD2_20230107_bil.bil...\nProcessing PRISM_ppt_stable_4kmD2_20230108_bil.bil...\nProcessing PRISM_ppt_stable_4kmD2_20230109_bil.bil...\nProcessing PRISM_ppt_stable_4kmD2_20230110_bil.bil...\nProcessing batch 2/37\nProcessing PRISM_ppt_stable_4kmD2_20230111_bil.bil...\nProcessing PRISM_ppt_stable_4kmD2_20230112_bil.bil...\nProcessing PRISM_ppt_stable_4kmD2_20230113_bil.bil...\nProcessing PRISM_ppt_stable_4kmD2_20230114_bil.bil...\nProcessing PRISM_ppt_stable_4kmD2_20230115_bil.bil...\nProcessing PRISM_ppt_stable_4kmD2_20230116_bil.bil...\nProcessing PRISM_ppt_stable_4kmD2_20230117_bil.bil...\nProcessing PRISM_ppt_stable_4kmD2_20230118_bil.bil...\nProcessing PRISM_ppt_stable_4kmD2_20230119_bil.bil...\nProcessing PRISM_ppt_stable_4kmD2_20230120_bil.bil...\nProcessing batch 3/37\nProcessing PRISM_ppt_stable_4kmD2_20230121_bil.bil...\nProcessing PRISM_ppt_stable_4kmD2_20230122_bil.bil...\nProcessing PRISM_ppt_stable_4kmD2_20230123_bil.bil...\nProcessing PRISM_ppt_stable_4kmD2_20230124_bil.bil...\nProcessing PRISM_ppt_stable_4kmD2_20230125_bil.bil...\nProcessing PRISM_ppt_stable_4kmD2_20230126_bil.bil...\nProcessing PRISM_ppt_stable_4kmD2_20230127_bil.bil...\nProcessing PRISM_ppt_stable_4kmD2_20230128_bil.bil...\nProcessing PRISM_ppt_stable_4kmD2_20230129_bil.bil...\nProcessing PRISM_ppt_stable_4kmD2_20230130_bil.bil...\nProcessing batch 4/37\nProcessing PRISM_ppt_stable_4kmD2_20230131_bil.bil...\nProcessing PRISM_ppt_stable_4kmD2_20230201_bil.bil...\nProcessing PRISM_ppt_stable_4kmD2_20230202_bil.bil...\nProcessing PRISM_ppt_stable_4kmD2_20230203_bil.bil...\nProcessing PRISM_ppt_stable_4kmD2_20230204_bil.bil...\nProcessing PRISM_ppt_stable_4kmD2_20230205_bil.bil...\nProcessing PRISM_ppt_stable_4kmD2_20230206_bil.bil...\nProcessing PRISM_ppt_stable_4kmD2_20230207_bil.bil...\nProcessing PRISM_ppt_stable_4kmD2_20230208_bil.bil...\nProcessing PRISM_ppt_stable_4kmD2_20230209_bil.bil...\nProcessing batch 5/37\nProcessing PRISM_ppt_stable_4kmD2_20230210_bil.bil...\nProcessing PRISM_ppt_stable_4kmD2_20230211_bil.bil...\nProcessing PRISM_ppt_stable_4kmD2_20230212_bil.bil...\nProcessing PRISM_ppt_stable_4kmD2_20230213_bil.bil...\nProcessing PRISM_ppt_stable_4kmD2_20230214_bil.bil...\nProcessing PRISM_ppt_stable_4kmD2_20230215_bil.bil...\nProcessing PRISM_ppt_stable_4kmD2_20230216_bil.bil...\nProcessing PRISM_ppt_stable_4kmD2_20230217_bil.bil...\nProcessing PRISM_ppt_stable_4kmD2_20230218_bil.bil...\nProcessing PRISM_ppt_stable_4kmD2_20230219_bil.bil...\nProcessing batch 6/37\nProcessing PRISM_ppt_stable_4kmD2_20230220_bil.bil...\nProcessing PRISM_ppt_stable_4kmD2_20230221_bil.bil...\nProcessing PRISM_ppt_stable_4kmD2_20230222_bil.bil...\nProcessing PRISM_ppt_stable_4kmD2_20230223_bil.bil...\nProcessing PRISM_ppt_stable_4kmD2_20230224_bil.bil...\nProcessing PRISM_ppt_stable_4kmD2_20230225_bil.bil...\nProcessing PRISM_ppt_stable_4kmD2_20230226_bil.bil...\nProcessing PRISM_ppt_stable_4kmD2_20230227_bil.bil...\nProcessing PRISM_ppt_stable_4kmD2_20230228_bil.bil...\nProcessing PRISM_ppt_stable_4kmD2_20230301_bil.bil...\nProcessing batch 7/37\nProcessing PRISM_ppt_stable_4kmD2_20230302_bil.bil...\nProcessing PRISM_ppt_stable_4kmD2_20230303_bil.bil...\nProcessing PRISM_ppt_stable_4kmD2_20230304_bil.bil...\nProcessing PRISM_ppt_stable_4kmD2_20230305_bil.bil...\nProcessing PRISM_ppt_stable_4kmD2_20230306_bil.bil...\nProcessing PRISM_ppt_stable_4kmD2_20230307_bil.bil...\nProcessing PRISM_ppt_stable_4kmD2_20230308_bil.bil...\nProcessing PRISM_ppt_stable_4kmD2_20230309_bil.bil...\nProcessing PRISM_ppt_stable_4kmD2_20230310_bil.bil...\nProcessing PRISM_ppt_stable_4kmD2_20230311_bil.bil...\nProcessing batch 8/37\nProcessing PRISM_ppt_stable_4kmD2_20230312_bil.bil...\nProcessing PRISM_ppt_stable_4kmD2_20230313_bil.bil...\nProcessing PRISM_ppt_stable_4kmD2_20230314_bil.bil...\nProcessing PRISM_ppt_stable_4kmD2_20230315_bil.bil...\nProcessing PRISM_ppt_stable_4kmD2_20230316_bil.bil...\nProcessing PRISM_ppt_stable_4kmD2_20230317_bil.bil...\nProcessing PRISM_ppt_stable_4kmD2_20230318_bil.bil...\nProcessing PRISM_ppt_stable_4kmD2_20230319_bil.bil...\nProcessing PRISM_ppt_stable_4kmD2_20230320_bil.bil...\nProcessing PRISM_ppt_stable_4kmD2_20230321_bil.bil...\nProcessing batch 9/37\nProcessing PRISM_ppt_stable_4kmD2_20230322_bil.bil...\nProcessing PRISM_ppt_stable_4kmD2_20230323_bil.bil...\nProcessing PRISM_ppt_stable_4kmD2_20230324_bil.bil...\nProcessing PRISM_ppt_stable_4kmD2_20230325_bil.bil...\nProcessing PRISM_ppt_stable_4kmD2_20230326_bil.bil...\nProcessing PRISM_ppt_stable_4kmD2_20230327_bil.bil...\nProcessing PRISM_ppt_stable_4kmD2_20230328_bil.bil...\nProcessing PRISM_ppt_stable_4kmD2_20230329_bil.bil...\nProcessing PRISM_ppt_stable_4kmD2_20230330_bil.bil...\nProcessing PRISM_ppt_stable_4kmD2_20230331_bil.bil...\nProcessing batch 10/37\nProcessing PRISM_ppt_stable_4kmD2_20230401_bil.bil...\nProcessing PRISM_ppt_stable_4kmD2_20230402_bil.bil...\nProcessing PRISM_ppt_stable_4kmD2_20230403_bil.bil...\nProcessing PRISM_ppt_stable_4kmD2_20230404_bil.bil...\nProcessing PRISM_ppt_stable_4kmD2_20230405_bil.bil...\nProcessing PRISM_ppt_stable_4kmD2_20230406_bil.bil...\nProcessing PRISM_ppt_stable_4kmD2_20230407_bil.bil...\nProcessing PRISM_ppt_stable_4kmD2_20230408_bil.bil...\nProcessing PRISM_ppt_stable_4kmD2_20230409_bil.bil...\nProcessing PRISM_ppt_stable_4kmD2_20230410_bil.bil...\nProcessing batch 11/37\nProcessing PRISM_ppt_stable_4kmD2_20230411_bil.bil...\nProcessing PRISM_ppt_stable_4kmD2_20230412_bil.bil...\nProcessing PRISM_ppt_stable_4kmD2_20230413_bil.bil...\nProcessing PRISM_ppt_stable_4kmD2_20230414_bil.bil...\nProcessing PRISM_ppt_stable_4kmD2_20230415_bil.bil...\nProcessing PRISM_ppt_stable_4kmD2_20230416_bil.bil...\nProcessing PRISM_ppt_stable_4kmD2_20230417_bil.bil...\nProcessing PRISM_ppt_stable_4kmD2_20230418_bil.bil...\nProcessing PRISM_ppt_stable_4kmD2_20230419_bil.bil...\nProcessing PRISM_ppt_stable_4kmD2_20230420_bil.bil...\nProcessing batch 12/37\nProcessing PRISM_ppt_stable_4kmD2_20230421_bil.bil...\nProcessing PRISM_ppt_stable_4kmD2_20230422_bil.bil...\nProcessing PRISM_ppt_stable_4kmD2_20230423_bil.bil...\nProcessing PRISM_ppt_stable_4kmD2_20230424_bil.bil...\nProcessing PRISM_ppt_stable_4kmD2_20230425_bil.bil...\nProcessing PRISM_ppt_stable_4kmD2_20230426_bil.bil...\nProcessing PRISM_ppt_stable_4kmD2_20230427_bil.bil...\nProcessing PRISM_ppt_stable_4kmD2_20230428_bil.bil...\nProcessing PRISM_ppt_stable_4kmD2_20230429_bil.bil...\nProcessing PRISM_ppt_stable_4kmD2_20230430_bil.bil...\nProcessing batch 13/37\nProcessing PRISM_ppt_stable_4kmD2_20230501_bil.bil...\nProcessing PRISM_ppt_stable_4kmD2_20230502_bil.bil...\nProcessing PRISM_ppt_stable_4kmD2_20230503_bil.bil...\nProcessing PRISM_ppt_stable_4kmD2_20230504_bil.bil...\nProcessing PRISM_ppt_stable_4kmD2_20230505_bil.bil...\nProcessing PRISM_ppt_stable_4kmD2_20230506_bil.bil...\nProcessing PRISM_ppt_stable_4kmD2_20230507_bil.bil...\nProcessing PRISM_ppt_stable_4kmD2_20230508_bil.bil...\nProcessing PRISM_ppt_stable_4kmD2_20230509_bil.bil...\nProcessing PRISM_ppt_stable_4kmD2_20230510_bil.bil...\nProcessing batch 14/37\nProcessing PRISM_ppt_stable_4kmD2_20230511_bil.bil...\nProcessing PRISM_ppt_stable_4kmD2_20230512_bil.bil...\nProcessing PRISM_ppt_stable_4kmD2_20230513_bil.bil...\nProcessing PRISM_ppt_stable_4kmD2_20230514_bil.bil...\nProcessing PRISM_ppt_stable_4kmD2_20230515_bil.bil...\nProcessing PRISM_ppt_stable_4kmD2_20230516_bil.bil...\nProcessing PRISM_ppt_stable_4kmD2_20230517_bil.bil...\nProcessing PRISM_ppt_stable_4kmD2_20230518_bil.bil...\nProcessing PRISM_ppt_stable_4kmD2_20230519_bil.bil...\nProcessing PRISM_ppt_stable_4kmD2_20230520_bil.bil...\nProcessing batch 15/37\nProcessing PRISM_ppt_stable_4kmD2_20230521_bil.bil...\nProcessing PRISM_ppt_stable_4kmD2_20230522_bil.bil...\nProcessing PRISM_ppt_stable_4kmD2_20230523_bil.bil...\nProcessing PRISM_ppt_stable_4kmD2_20230524_bil.bil...\nProcessing PRISM_ppt_stable_4kmD2_20230525_bil.bil...\nProcessing PRISM_ppt_stable_4kmD2_20230526_bil.bil...\nProcessing PRISM_ppt_stable_4kmD2_20230527_bil.bil...\nProcessing PRISM_ppt_stable_4kmD2_20230528_bil.bil...\nProcessing PRISM_ppt_stable_4kmD2_20230529_bil.bil...\nProcessing PRISM_ppt_stable_4kmD2_20230530_bil.bil...\nProcessing batch 16/37\nProcessing PRISM_ppt_stable_4kmD2_20230531_bil.bil...\nProcessing PRISM_ppt_stable_4kmD2_20230601_bil.bil...\nProcessing PRISM_ppt_stable_4kmD2_20230602_bil.bil...\nProcessing PRISM_ppt_stable_4kmD2_20230603_bil.bil...\nProcessing PRISM_ppt_stable_4kmD2_20230604_bil.bil...\nProcessing PRISM_ppt_stable_4kmD2_20230605_bil.bil...\nProcessing PRISM_ppt_stable_4kmD2_20230606_bil.bil...\nProcessing PRISM_ppt_stable_4kmD2_20230607_bil.bil...\nProcessing PRISM_ppt_stable_4kmD2_20230608_bil.bil...\nProcessing PRISM_ppt_stable_4kmD2_20230609_bil.bil...\nProcessing batch 17/37\nProcessing PRISM_ppt_stable_4kmD2_20230610_bil.bil...\nProcessing PRISM_ppt_stable_4kmD2_20230611_bil.bil...\nProcessing PRISM_ppt_stable_4kmD2_20230612_bil.bil...\nProcessing PRISM_ppt_stable_4kmD2_20230613_bil.bil...\nProcessing PRISM_ppt_stable_4kmD2_20230614_bil.bil...\nProcessing PRISM_ppt_stable_4kmD2_20230615_bil.bil...\nProcessing PRISM_ppt_stable_4kmD2_20230616_bil.bil...\nProcessing PRISM_ppt_stable_4kmD2_20230617_bil.bil...\nProcessing PRISM_ppt_stable_4kmD2_20230618_bil.bil...\nProcessing PRISM_ppt_stable_4kmD2_20230619_bil.bil...\nProcessing batch 18/37\nProcessing PRISM_ppt_stable_4kmD2_20230620_bil.bil...\nProcessing PRISM_ppt_stable_4kmD2_20230621_bil.bil...\nProcessing PRISM_ppt_stable_4kmD2_20230622_bil.bil...\nProcessing PRISM_ppt_stable_4kmD2_20230623_bil.bil...\nProcessing PRISM_ppt_stable_4kmD2_20230624_bil.bil...\nProcessing PRISM_ppt_stable_4kmD2_20230625_bil.bil...\nProcessing PRISM_ppt_stable_4kmD2_20230626_bil.bil...\nProcessing PRISM_ppt_stable_4kmD2_20230627_bil.bil...\nProcessing PRISM_ppt_stable_4kmD2_20230628_bil.bil...\nProcessing PRISM_ppt_stable_4kmD2_20230629_bil.bil...\nProcessing batch 19/37\nProcessing PRISM_ppt_stable_4kmD2_20230630_bil.bil...\nProcessing PRISM_ppt_stable_4kmD2_20230701_bil.bil...\nProcessing PRISM_ppt_stable_4kmD2_20230702_bil.bil...\nProcessing PRISM_ppt_stable_4kmD2_20230703_bil.bil...\nProcessing PRISM_ppt_stable_4kmD2_20230704_bil.bil...\nProcessing PRISM_ppt_stable_4kmD2_20230705_bil.bil...\nProcessing PRISM_ppt_stable_4kmD2_20230706_bil.bil...\nProcessing PRISM_ppt_stable_4kmD2_20230707_bil.bil...\nProcessing PRISM_ppt_stable_4kmD2_20230708_bil.bil...\nProcessing PRISM_ppt_stable_4kmD2_20230709_bil.bil...\nProcessing batch 20/37\nProcessing PRISM_ppt_stable_4kmD2_20230710_bil.bil...\nProcessing PRISM_ppt_stable_4kmD2_20230711_bil.bil...\nProcessing PRISM_ppt_stable_4kmD2_20230712_bil.bil...\nProcessing PRISM_ppt_stable_4kmD2_20230713_bil.bil...\nProcessing PRISM_ppt_stable_4kmD2_20230714_bil.bil...\nProcessing PRISM_ppt_stable_4kmD2_20230715_bil.bil...\nProcessing PRISM_ppt_stable_4kmD2_20230716_bil.bil...\nProcessing PRISM_ppt_stable_4kmD2_20230717_bil.bil...\nProcessing PRISM_ppt_stable_4kmD2_20230718_bil.bil...\nProcessing PRISM_ppt_stable_4kmD2_20230719_bil.bil...\nProcessing batch 21/37\nProcessing PRISM_ppt_stable_4kmD2_20230720_bil.bil...\nProcessing PRISM_ppt_stable_4kmD2_20230721_bil.bil...\nProcessing PRISM_ppt_stable_4kmD2_20230722_bil.bil...\nProcessing PRISM_ppt_stable_4kmD2_20230723_bil.bil...\nProcessing PRISM_ppt_stable_4kmD2_20230724_bil.bil...\nProcessing PRISM_ppt_stable_4kmD2_20230725_bil.bil...\nProcessing PRISM_ppt_stable_4kmD2_20230726_bil.bil...\nProcessing PRISM_ppt_stable_4kmD2_20230727_bil.bil...\nProcessing PRISM_ppt_stable_4kmD2_20230728_bil.bil...\nProcessing PRISM_ppt_stable_4kmD2_20230729_bil.bil...\nProcessing batch 22/37\nProcessing PRISM_ppt_stable_4kmD2_20230730_bil.bil...\nProcessing PRISM_ppt_stable_4kmD2_20230731_bil.bil...\nProcessing PRISM_ppt_stable_4kmD2_20230801_bil.bil...\nProcessing PRISM_ppt_stable_4kmD2_20230802_bil.bil...\nProcessing PRISM_ppt_stable_4kmD2_20230803_bil.bil...\nProcessing PRISM_ppt_stable_4kmD2_20230804_bil.bil...\nProcessing PRISM_ppt_stable_4kmD2_20230805_bil.bil...\nProcessing PRISM_ppt_stable_4kmD2_20230806_bil.bil...\nProcessing PRISM_ppt_stable_4kmD2_20230807_bil.bil...\nProcessing PRISM_ppt_stable_4kmD2_20230808_bil.bil...\nProcessing batch 23/37\nProcessing PRISM_ppt_stable_4kmD2_20230809_bil.bil...\nProcessing PRISM_ppt_stable_4kmD2_20230810_bil.bil...\nProcessing PRISM_ppt_stable_4kmD2_20230811_bil.bil...\nProcessing PRISM_ppt_stable_4kmD2_20230812_bil.bil...\nProcessing PRISM_ppt_stable_4kmD2_20230813_bil.bil...\nProcessing PRISM_ppt_stable_4kmD2_20230814_bil.bil...\nProcessing PRISM_ppt_stable_4kmD2_20230815_bil.bil...\nProcessing PRISM_ppt_stable_4kmD2_20230816_bil.bil...\nProcessing PRISM_ppt_stable_4kmD2_20230817_bil.bil...\nProcessing PRISM_ppt_stable_4kmD2_20230818_bil.bil...\nProcessing batch 24/37\nProcessing PRISM_ppt_stable_4kmD2_20230819_bil.bil...\nProcessing PRISM_ppt_stable_4kmD2_20230820_bil.bil...\nProcessing PRISM_ppt_stable_4kmD2_20230821_bil.bil...\nProcessing PRISM_ppt_stable_4kmD2_20230822_bil.bil...\nProcessing PRISM_ppt_stable_4kmD2_20230823_bil.bil...\nProcessing PRISM_ppt_stable_4kmD2_20230824_bil.bil...\nProcessing PRISM_ppt_stable_4kmD2_20230825_bil.bil...\nProcessing PRISM_ppt_stable_4kmD2_20230826_bil.bil...\nProcessing PRISM_ppt_stable_4kmD2_20230827_bil.bil...\nProcessing PRISM_ppt_stable_4kmD2_20230828_bil.bil...\nProcessing batch 25/37\nProcessing PRISM_ppt_stable_4kmD2_20230829_bil.bil...\nProcessing PRISM_ppt_stable_4kmD2_20230830_bil.bil...\nProcessing PRISM_ppt_stable_4kmD2_20230831_bil.bil...\nProcessing PRISM_ppt_stable_4kmD2_20230901_bil.bil...\nProcessing PRISM_ppt_stable_4kmD2_20230902_bil.bil...\nProcessing PRISM_ppt_stable_4kmD2_20230903_bil.bil...\nProcessing PRISM_ppt_stable_4kmD2_20230904_bil.bil...\nProcessing PRISM_ppt_stable_4kmD2_20230905_bil.bil...\nProcessing PRISM_ppt_stable_4kmD2_20230906_bil.bil...\nProcessing PRISM_ppt_stable_4kmD2_20230907_bil.bil...\nProcessing batch 26/37\nProcessing PRISM_ppt_stable_4kmD2_20230908_bil.bil...\nProcessing PRISM_ppt_stable_4kmD2_20230909_bil.bil...\nProcessing PRISM_ppt_stable_4kmD2_20230910_bil.bil...\nProcessing PRISM_ppt_stable_4kmD2_20230911_bil.bil...\nProcessing PRISM_ppt_stable_4kmD2_20230912_bil.bil...\nProcessing PRISM_ppt_stable_4kmD2_20230913_bil.bil...\nProcessing PRISM_ppt_stable_4kmD2_20230914_bil.bil...\nProcessing PRISM_ppt_stable_4kmD2_20230915_bil.bil...\nProcessing PRISM_ppt_stable_4kmD2_20230916_bil.bil...\nProcessing PRISM_ppt_stable_4kmD2_20230917_bil.bil...\nProcessing batch 27/37\nProcessing PRISM_ppt_stable_4kmD2_20230918_bil.bil...\nProcessing PRISM_ppt_stable_4kmD2_20230919_bil.bil...\nProcessing PRISM_ppt_stable_4kmD2_20230920_bil.bil...\nProcessing PRISM_ppt_stable_4kmD2_20230921_bil.bil...\nProcessing PRISM_ppt_stable_4kmD2_20230922_bil.bil...\nProcessing PRISM_ppt_stable_4kmD2_20230923_bil.bil...\nProcessing PRISM_ppt_stable_4kmD2_20230924_bil.bil...\nProcessing PRISM_ppt_stable_4kmD2_20230925_bil.bil...\nProcessing PRISM_ppt_stable_4kmD2_20230926_bil.bil...\nProcessing PRISM_ppt_stable_4kmD2_20230927_bil.bil...\nProcessing batch 28/37\nProcessing PRISM_ppt_stable_4kmD2_20230928_bil.bil...\nProcessing PRISM_ppt_stable_4kmD2_20230929_bil.bil...\nProcessing PRISM_ppt_stable_4kmD2_20230930_bil.bil...\nProcessing PRISM_ppt_stable_4kmD2_20231001_bil.bil...\nProcessing PRISM_ppt_stable_4kmD2_20231002_bil.bil...\nProcessing PRISM_ppt_stable_4kmD2_20231003_bil.bil...\nProcessing PRISM_ppt_stable_4kmD2_20231004_bil.bil...\nProcessing PRISM_ppt_stable_4kmD2_20231005_bil.bil...\nProcessing PRISM_ppt_stable_4kmD2_20231006_bil.bil...\nProcessing PRISM_ppt_stable_4kmD2_20231007_bil.bil...\nProcessing batch 29/37\nProcessing PRISM_ppt_stable_4kmD2_20231008_bil.bil...\nProcessing PRISM_ppt_stable_4kmD2_20231009_bil.bil...\nProcessing PRISM_ppt_stable_4kmD2_20231010_bil.bil...\nProcessing PRISM_ppt_stable_4kmD2_20231011_bil.bil...\nProcessing PRISM_ppt_stable_4kmD2_20231012_bil.bil...\nProcessing PRISM_ppt_stable_4kmD2_20231013_bil.bil...\nProcessing PRISM_ppt_stable_4kmD2_20231014_bil.bil...\nProcessing PRISM_ppt_stable_4kmD2_20231015_bil.bil...\nProcessing PRISM_ppt_stable_4kmD2_20231016_bil.bil...\nProcessing PRISM_ppt_stable_4kmD2_20231017_bil.bil...\nProcessing batch 30/37\nProcessing PRISM_ppt_stable_4kmD2_20231018_bil.bil...\nProcessing PRISM_ppt_stable_4kmD2_20231019_bil.bil...\nProcessing PRISM_ppt_stable_4kmD2_20231020_bil.bil...\nProcessing PRISM_ppt_stable_4kmD2_20231021_bil.bil...\nProcessing PRISM_ppt_stable_4kmD2_20231022_bil.bil...\nProcessing PRISM_ppt_stable_4kmD2_20231023_bil.bil...\nProcessing PRISM_ppt_stable_4kmD2_20231024_bil.bil...\nProcessing PRISM_ppt_stable_4kmD2_20231025_bil.bil...\nProcessing PRISM_ppt_stable_4kmD2_20231026_bil.bil...\nProcessing PRISM_ppt_stable_4kmD2_20231027_bil.bil...\nProcessing batch 31/37\nProcessing PRISM_ppt_stable_4kmD2_20231028_bil.bil...\nProcessing PRISM_ppt_stable_4kmD2_20231029_bil.bil...\nProcessing PRISM_ppt_stable_4kmD2_20231030_bil.bil...\nProcessing PRISM_ppt_stable_4kmD2_20231031_bil.bil...\nProcessing PRISM_ppt_stable_4kmD2_20231101_bil.bil...\nProcessing PRISM_ppt_stable_4kmD2_20231102_bil.bil...\nProcessing PRISM_ppt_stable_4kmD2_20231103_bil.bil...\nProcessing PRISM_ppt_stable_4kmD2_20231104_bil.bil...\nProcessing PRISM_ppt_stable_4kmD2_20231105_bil.bil...\nProcessing PRISM_ppt_stable_4kmD2_20231106_bil.bil...\nProcessing batch 32/37\nProcessing PRISM_ppt_stable_4kmD2_20231107_bil.bil...\nProcessing PRISM_ppt_stable_4kmD2_20231108_bil.bil...\nProcessing PRISM_ppt_stable_4kmD2_20231109_bil.bil...\nProcessing PRISM_ppt_stable_4kmD2_20231110_bil.bil...\nProcessing PRISM_ppt_stable_4kmD2_20231111_bil.bil...\nProcessing PRISM_ppt_stable_4kmD2_20231112_bil.bil...\nProcessing PRISM_ppt_stable_4kmD2_20231113_bil.bil...\nProcessing PRISM_ppt_stable_4kmD2_20231114_bil.bil...\nProcessing PRISM_ppt_stable_4kmD2_20231115_bil.bil...\nProcessing PRISM_ppt_stable_4kmD2_20231116_bil.bil...\nProcessing batch 33/37\nProcessing PRISM_ppt_stable_4kmD2_20231117_bil.bil...\nProcessing PRISM_ppt_stable_4kmD2_20231118_bil.bil...\nProcessing PRISM_ppt_stable_4kmD2_20231119_bil.bil...\nProcessing PRISM_ppt_stable_4kmD2_20231120_bil.bil...\nProcessing PRISM_ppt_stable_4kmD2_20231121_bil.bil...\nProcessing PRISM_ppt_stable_4kmD2_20231122_bil.bil...\nProcessing PRISM_ppt_stable_4kmD2_20231123_bil.bil...\nProcessing PRISM_ppt_stable_4kmD2_20231124_bil.bil...\nProcessing PRISM_ppt_stable_4kmD2_20231125_bil.bil...\nProcessing PRISM_ppt_stable_4kmD2_20231126_bil.bil...\nProcessing batch 34/37\nProcessing PRISM_ppt_stable_4kmD2_20231127_bil.bil...\nProcessing PRISM_ppt_stable_4kmD2_20231128_bil.bil...\nProcessing PRISM_ppt_stable_4kmD2_20231129_bil.bil...\nProcessing PRISM_ppt_stable_4kmD2_20231130_bil.bil...\nProcessing PRISM_ppt_stable_4kmD2_20231201_bil.bil...\nProcessing PRISM_ppt_stable_4kmD2_20231202_bil.bil...\nProcessing PRISM_ppt_stable_4kmD2_20231203_bil.bil...\nProcessing PRISM_ppt_stable_4kmD2_20231204_bil.bil...\nProcessing PRISM_ppt_stable_4kmD2_20231205_bil.bil...\nProcessing PRISM_ppt_stable_4kmD2_20231206_bil.bil...\nProcessing batch 35/37\nProcessing PRISM_ppt_stable_4kmD2_20231207_bil.bil...\nProcessing PRISM_ppt_stable_4kmD2_20231208_bil.bil...\nProcessing PRISM_ppt_stable_4kmD2_20231209_bil.bil...\nProcessing PRISM_ppt_stable_4kmD2_20231210_bil.bil...\nProcessing PRISM_ppt_stable_4kmD2_20231211_bil.bil...\nProcessing PRISM_ppt_stable_4kmD2_20231212_bil.bil...\nProcessing PRISM_ppt_stable_4kmD2_20231213_bil.bil...\nProcessing PRISM_ppt_stable_4kmD2_20231214_bil.bil...\nProcessing PRISM_ppt_stable_4kmD2_20231215_bil.bil...\nProcessing PRISM_ppt_stable_4kmD2_20231216_bil.bil...\nProcessing batch 36/37\nProcessing PRISM_ppt_stable_4kmD2_20231217_bil.bil...\nProcessing PRISM_ppt_stable_4kmD2_20231218_bil.bil...\nProcessing PRISM_ppt_stable_4kmD2_20231219_bil.bil...\nProcessing PRISM_ppt_stable_4kmD2_20231220_bil.bil...\nProcessing PRISM_ppt_stable_4kmD2_20231221_bil.bil...\nProcessing PRISM_ppt_stable_4kmD2_20231222_bil.bil...\nProcessing PRISM_ppt_stable_4kmD2_20231223_bil.bil...\nProcessing PRISM_ppt_stable_4kmD2_20231224_bil.bil...\nProcessing PRISM_ppt_stable_4kmD2_20231225_bil.bil...\nProcessing PRISM_ppt_stable_4kmD2_20231226_bil.bil...\nProcessing batch 37/37\nProcessing PRISM_ppt_stable_4kmD2_20231227_bil.bil...\nProcessing PRISM_ppt_stable_4kmD2_20231228_bil.bil...\nProcessing PRISM_ppt_stable_4kmD2_20231229_bil.bil...\nProcessing PRISM_ppt_stable_4kmD2_20231230_bil.bil...\nProcessing PRISM_ppt_stable_4kmD2_20231231_bil.bil...\nProcessing complete. Final dataset has 33791 rows.\n"
     ]
    }
   ],
   "source": [
    "for i, batch in enumerate(batches):\n",
    "    print(f\"Processing batch {i+1}/{len(batches)}\")\n",
    "    \n",
    "    # Process this batch\n",
    "    batch_dfs = process_batch(batch, points_gdf)\n",
    "    \n",
    "    if not batch_dfs:\n",
    "        continue\n",
    "    \n",
    "    # Join all DataFrames in this batch\n",
    "    batch_result = reduce(lambda df1, df2: df1.join(df2, common_cols, \"left\"), batch_dfs)\n",
    "    \n",
    "    # If this is the first batch, initialize result_df\n",
    "    if result_df is None:\n",
    "        result_df = batch_result\n",
    "    else:\n",
    "        # Join with previous batches\n",
    "        result_df = result_df.join(batch_result, common_cols, \"left\")\n",
    "        \n",
    "        # Checkpoint to disk periodically\n",
    "        if (i+1) % 5 == 0 or i == len(batches)-1:\n",
    "            checkpoint_path = f\"/FileStore/intermediate_output/checkpoint_{i}\"\n",
    "            result_df.write.mode(\"overwrite\").parquet(checkpoint_path)\n",
    "            result_df = spark.read.parquet(checkpoint_path)\n",
    "\n",
    "# Write final result\n",
    "if result_df is not None:\n",
    "    result_df.write.mode(\"overwrite\").parquet(\"/FileStore/intermediate_output/2025_precipitation_data\")\n",
    "    print(f\"Processing complete. Final dataset has {result_df.count()} rows.\")\n",
    "else:\n",
    "    print(\"No results were produced.\")"
   ]
  },
  {
   "cell_type": "code",
   "execution_count": 0,
   "metadata": {
    "application/vnd.databricks.v1+cell": {
     "cellMetadata": {
      "byteLimit": 2048000,
      "rowLimit": 10000
     },
     "inputWidgets": {},
     "nuid": "83e6734b-2a90-44df-ae99-8f255e4cee72",
     "showTitle": false,
     "tableResultSettingsMap": {},
     "title": ""
    }
   },
   "outputs": [
    {
     "output_type": "execute_result",
     "data": {
      "text/plain": [
       "65228"
      ]
     },
     "execution_count": 17,
     "metadata": {},
     "output_type": "execute_result"
    }
   ],
   "source": [
    "# Clear memory and decache everything\n",
    "spark.catalog.clearCache()\n",
    "gc.collect()"
   ]
  },
  {
   "cell_type": "markdown",
   "metadata": {
    "application/vnd.databricks.v1+cell": {
     "cellMetadata": {},
     "inputWidgets": {},
     "nuid": "f599e6a8-fa6b-42cb-81f1-171babf47d25",
     "showTitle": false,
     "tableResultSettingsMap": {},
     "title": ""
    }
   },
   "source": [
    "## 2024 Data"
   ]
  },
  {
   "cell_type": "code",
   "execution_count": 0,
   "metadata": {
    "application/vnd.databricks.v1+cell": {
     "cellMetadata": {
      "byteLimit": 2048000,
      "rowLimit": 10000
     },
     "inputWidgets": {},
     "nuid": "401e4c56-ce6b-4d20-a199-b25a6496ff96",
     "showTitle": false,
     "tableResultSettingsMap": {},
     "title": ""
    }
   },
   "outputs": [
    {
     "output_type": "stream",
     "name": "stdout",
     "output_type": "stream",
     "text": [
      "Found 366 BIL files for 2024\n"
     ]
    }
   ],
   "source": [
    "data_path = \"/FileStore/tables/\"\n",
    "all_bil_files = list_bil_files(data_path)\n",
    "\n",
    "# Filter to year 2025 files\n",
    "bil_files = [f for f in all_bil_files if \"2024\" in f]\n",
    "print(f\"Found {len(bil_files)} BIL files for 2024\")"
   ]
  },
  {
   "cell_type": "code",
   "execution_count": 0,
   "metadata": {
    "application/vnd.databricks.v1+cell": {
     "cellMetadata": {
      "byteLimit": 2048000,
      "rowLimit": 10000
     },
     "inputWidgets": {},
     "nuid": "83447016-bb2e-42de-baa3-a79fb4265f31",
     "showTitle": false,
     "tableResultSettingsMap": {},
     "title": ""
    }
   },
   "outputs": [],
   "source": [
    "batches = [bil_files[i:i + batch_size] for i in range(0, len(bil_files), batch_size)]"
   ]
  },
  {
   "cell_type": "code",
   "execution_count": 0,
   "metadata": {
    "application/vnd.databricks.v1+cell": {
     "cellMetadata": {
      "byteLimit": 2048000,
      "rowLimit": 10000
     },
     "inputWidgets": {},
     "nuid": "13cb8cb7-03ac-4c59-9f96-ba4d6863978a",
     "showTitle": false,
     "tableResultSettingsMap": {},
     "title": ""
    }
   },
   "outputs": [
    {
     "output_type": "stream",
     "name": "stdout",
     "output_type": "stream",
     "text": [
      "Processing batch 1/37\nProcessing PRISM_ppt_provisional_4kmD2_20240901_bil.bil...\nProcessing PRISM_ppt_provisional_4kmD2_20240902_bil.bil...\nProcessing PRISM_ppt_provisional_4kmD2_20240903_bil.bil...\nProcessing PRISM_ppt_provisional_4kmD2_20240904_bil.bil...\nProcessing PRISM_ppt_provisional_4kmD2_20240905_bil.bil...\nProcessing PRISM_ppt_provisional_4kmD2_20240906_bil.bil...\nProcessing PRISM_ppt_provisional_4kmD2_20240907_bil.bil...\nProcessing PRISM_ppt_provisional_4kmD2_20240908_bil.bil...\nProcessing PRISM_ppt_provisional_4kmD2_20240909_bil.bil...\nProcessing PRISM_ppt_provisional_4kmD2_20240910_bil.bil...\nProcessing batch 2/37\nProcessing PRISM_ppt_provisional_4kmD2_20240911_bil.bil...\nProcessing PRISM_ppt_provisional_4kmD2_20240912_bil.bil...\nProcessing PRISM_ppt_provisional_4kmD2_20240913_bil.bil...\nProcessing PRISM_ppt_provisional_4kmD2_20240914_bil.bil...\nProcessing PRISM_ppt_provisional_4kmD2_20240915_bil.bil...\nProcessing PRISM_ppt_provisional_4kmD2_20240916_bil.bil...\nProcessing PRISM_ppt_provisional_4kmD2_20240917_bil.bil...\nProcessing PRISM_ppt_provisional_4kmD2_20240918_bil.bil...\nProcessing PRISM_ppt_provisional_4kmD2_20240919_bil.bil...\nProcessing PRISM_ppt_provisional_4kmD2_20240920_bil.bil...\nProcessing batch 3/37\nProcessing PRISM_ppt_provisional_4kmD2_20240921_bil.bil...\nProcessing PRISM_ppt_provisional_4kmD2_20240922_bil.bil...\nProcessing PRISM_ppt_provisional_4kmD2_20240923_bil.bil...\nProcessing PRISM_ppt_provisional_4kmD2_20240924_bil.bil...\nProcessing PRISM_ppt_provisional_4kmD2_20240925_bil.bil...\nProcessing PRISM_ppt_provisional_4kmD2_20240926_bil.bil...\nProcessing PRISM_ppt_provisional_4kmD2_20240927_bil.bil...\nProcessing PRISM_ppt_provisional_4kmD2_20240928_bil.bil...\nProcessing PRISM_ppt_provisional_4kmD2_20240929_bil.bil...\nProcessing PRISM_ppt_provisional_4kmD2_20240930_bil.bil...\nProcessing batch 4/37\nProcessing PRISM_ppt_provisional_4kmD2_20241001_bil.bil...\nProcessing PRISM_ppt_provisional_4kmD2_20241002_bil.bil...\nProcessing PRISM_ppt_provisional_4kmD2_20241003_bil.bil...\nProcessing PRISM_ppt_provisional_4kmD2_20241004_bil.bil...\nProcessing PRISM_ppt_provisional_4kmD2_20241005_bil.bil...\nProcessing PRISM_ppt_provisional_4kmD2_20241006_bil.bil...\nProcessing PRISM_ppt_provisional_4kmD2_20241007_bil.bil...\nProcessing PRISM_ppt_provisional_4kmD2_20241008_bil.bil...\nProcessing PRISM_ppt_provisional_4kmD2_20241009_bil.bil...\nProcessing PRISM_ppt_provisional_4kmD2_20241010_bil.bil...\nProcessing batch 5/37\nProcessing PRISM_ppt_provisional_4kmD2_20241011_bil.bil...\nProcessing PRISM_ppt_provisional_4kmD2_20241012_bil.bil...\nProcessing PRISM_ppt_provisional_4kmD2_20241013_bil.bil...\nProcessing PRISM_ppt_provisional_4kmD2_20241014_bil.bil...\nProcessing PRISM_ppt_provisional_4kmD2_20241015_bil.bil...\nProcessing PRISM_ppt_provisional_4kmD2_20241016_bil.bil...\nProcessing PRISM_ppt_provisional_4kmD2_20241017_bil.bil...\nProcessing PRISM_ppt_provisional_4kmD2_20241018_bil.bil...\nProcessing PRISM_ppt_provisional_4kmD2_20241019_bil.bil...\nProcessing PRISM_ppt_provisional_4kmD2_20241020_bil.bil...\nProcessing batch 6/37\nProcessing PRISM_ppt_provisional_4kmD2_20241021_bil.bil...\nProcessing PRISM_ppt_provisional_4kmD2_20241022_bil.bil...\nProcessing PRISM_ppt_provisional_4kmD2_20241023_bil.bil...\nProcessing PRISM_ppt_provisional_4kmD2_20241024_bil.bil...\nProcessing PRISM_ppt_provisional_4kmD2_20241025_bil.bil...\nProcessing PRISM_ppt_provisional_4kmD2_20241026_bil.bil...\nProcessing PRISM_ppt_provisional_4kmD2_20241027_bil.bil...\nProcessing PRISM_ppt_provisional_4kmD2_20241028_bil.bil...\nProcessing PRISM_ppt_provisional_4kmD2_20241029_bil.bil...\nProcessing PRISM_ppt_provisional_4kmD2_20241030_bil.bil...\nProcessing batch 7/37\nProcessing PRISM_ppt_provisional_4kmD2_20241031_bil.bil...\nProcessing PRISM_ppt_provisional_4kmD2_20241101_bil.bil...\nProcessing PRISM_ppt_provisional_4kmD2_20241102_bil.bil...\nProcessing PRISM_ppt_provisional_4kmD2_20241103_bil.bil...\nProcessing PRISM_ppt_provisional_4kmD2_20241104_bil.bil...\nProcessing PRISM_ppt_provisional_4kmD2_20241105_bil.bil...\nProcessing PRISM_ppt_provisional_4kmD2_20241106_bil.bil...\nProcessing PRISM_ppt_provisional_4kmD2_20241107_bil.bil...\nProcessing PRISM_ppt_provisional_4kmD2_20241108_bil.bil...\nProcessing PRISM_ppt_provisional_4kmD2_20241109_bil.bil...\nProcessing batch 8/37\nProcessing PRISM_ppt_provisional_4kmD2_20241110_bil.bil...\nProcessing PRISM_ppt_provisional_4kmD2_20241111_bil.bil...\nProcessing PRISM_ppt_provisional_4kmD2_20241112_bil.bil...\nProcessing PRISM_ppt_provisional_4kmD2_20241113_bil.bil...\nProcessing PRISM_ppt_provisional_4kmD2_20241114_bil.bil...\nProcessing PRISM_ppt_provisional_4kmD2_20241115_bil.bil...\nProcessing PRISM_ppt_provisional_4kmD2_20241116_bil.bil...\nProcessing PRISM_ppt_provisional_4kmD2_20241117_bil.bil...\nProcessing PRISM_ppt_provisional_4kmD2_20241118_bil.bil...\nProcessing PRISM_ppt_provisional_4kmD2_20241119_bil.bil...\nProcessing batch 9/37\nProcessing PRISM_ppt_provisional_4kmD2_20241120_bil.bil...\nProcessing PRISM_ppt_provisional_4kmD2_20241121_bil.bil...\nProcessing PRISM_ppt_provisional_4kmD2_20241122_bil.bil...\nProcessing PRISM_ppt_provisional_4kmD2_20241123_bil.bil...\nProcessing PRISM_ppt_provisional_4kmD2_20241124_bil.bil...\nProcessing PRISM_ppt_provisional_4kmD2_20241125_bil.bil...\nProcessing PRISM_ppt_provisional_4kmD2_20241126_bil.bil...\nProcessing PRISM_ppt_provisional_4kmD2_20241127_bil.bil...\nProcessing PRISM_ppt_provisional_4kmD2_20241128_bil.bil...\nProcessing PRISM_ppt_provisional_4kmD2_20241129_bil.bil...\nProcessing batch 10/37\nProcessing PRISM_ppt_provisional_4kmD2_20241130_bil.bil...\nProcessing PRISM_ppt_provisional_4kmD2_20241201_bil.bil...\nProcessing PRISM_ppt_provisional_4kmD2_20241202_bil.bil...\nProcessing PRISM_ppt_provisional_4kmD2_20241203_bil.bil...\nProcessing PRISM_ppt_provisional_4kmD2_20241204_bil.bil...\nProcessing PRISM_ppt_provisional_4kmD2_20241205_bil.bil...\nProcessing PRISM_ppt_provisional_4kmD2_20241206_bil.bil...\nProcessing PRISM_ppt_provisional_4kmD2_20241207_bil.bil...\nProcessing PRISM_ppt_provisional_4kmD2_20241208_bil.bil...\nProcessing PRISM_ppt_provisional_4kmD2_20241209_bil.bil...\nProcessing batch 11/37\nProcessing PRISM_ppt_provisional_4kmD2_20241210_bil.bil...\nProcessing PRISM_ppt_provisional_4kmD2_20241211_bil.bil...\nProcessing PRISM_ppt_provisional_4kmD2_20241212_bil.bil...\nProcessing PRISM_ppt_provisional_4kmD2_20241213_bil.bil...\nProcessing PRISM_ppt_provisional_4kmD2_20241214_bil.bil...\nProcessing PRISM_ppt_provisional_4kmD2_20241215_bil.bil...\nProcessing PRISM_ppt_provisional_4kmD2_20241216_bil.bil...\nProcessing PRISM_ppt_provisional_4kmD2_20241217_bil.bil...\nProcessing PRISM_ppt_provisional_4kmD2_20241218_bil.bil...\nProcessing PRISM_ppt_provisional_4kmD2_20241219_bil.bil...\nProcessing batch 12/37\nProcessing PRISM_ppt_provisional_4kmD2_20241220_bil.bil...\nProcessing PRISM_ppt_provisional_4kmD2_20241221_bil.bil...\nProcessing PRISM_ppt_provisional_4kmD2_20241222_bil.bil...\nProcessing PRISM_ppt_provisional_4kmD2_20241223_bil.bil...\nProcessing PRISM_ppt_provisional_4kmD2_20241224_bil.bil...\nProcessing PRISM_ppt_provisional_4kmD2_20241225_bil.bil...\nProcessing PRISM_ppt_provisional_4kmD2_20241226_bil.bil...\nProcessing PRISM_ppt_provisional_4kmD2_20241227_bil.bil...\nProcessing PRISM_ppt_provisional_4kmD2_20241228_bil.bil...\nProcessing PRISM_ppt_provisional_4kmD2_20241229_bil.bil...\nProcessing batch 13/37\nProcessing PRISM_ppt_provisional_4kmD2_20241230_bil.bil...\nProcessing PRISM_ppt_provisional_4kmD2_20241231_bil.bil...\nProcessing PRISM_ppt_stable_4kmD2_20240101_bil.bil...\nProcessing PRISM_ppt_stable_4kmD2_20240102_bil.bil...\nProcessing PRISM_ppt_stable_4kmD2_20240103_bil.bil...\nProcessing PRISM_ppt_stable_4kmD2_20240104_bil.bil...\nProcessing PRISM_ppt_stable_4kmD2_20240105_bil.bil...\nProcessing PRISM_ppt_stable_4kmD2_20240106_bil.bil...\nProcessing PRISM_ppt_stable_4kmD2_20240107_bil.bil...\nProcessing PRISM_ppt_stable_4kmD2_20240108_bil.bil...\nProcessing batch 14/37\nProcessing PRISM_ppt_stable_4kmD2_20240109_bil.bil...\nProcessing PRISM_ppt_stable_4kmD2_20240110_bil.bil...\nProcessing PRISM_ppt_stable_4kmD2_20240111_bil.bil...\nProcessing PRISM_ppt_stable_4kmD2_20240112_bil.bil...\nProcessing PRISM_ppt_stable_4kmD2_20240113_bil.bil...\nProcessing PRISM_ppt_stable_4kmD2_20240114_bil.bil...\nProcessing PRISM_ppt_stable_4kmD2_20240115_bil.bil...\nProcessing PRISM_ppt_stable_4kmD2_20240116_bil.bil...\nProcessing PRISM_ppt_stable_4kmD2_20240117_bil.bil...\nProcessing PRISM_ppt_stable_4kmD2_20240118_bil.bil...\nProcessing batch 15/37\nProcessing PRISM_ppt_stable_4kmD2_20240119_bil.bil...\nProcessing PRISM_ppt_stable_4kmD2_20240120_bil.bil...\nProcessing PRISM_ppt_stable_4kmD2_20240121_bil.bil...\nProcessing PRISM_ppt_stable_4kmD2_20240122_bil.bil...\nProcessing PRISM_ppt_stable_4kmD2_20240123_bil.bil...\nProcessing PRISM_ppt_stable_4kmD2_20240124_bil.bil...\nProcessing PRISM_ppt_stable_4kmD2_20240125_bil.bil...\nProcessing PRISM_ppt_stable_4kmD2_20240126_bil.bil...\nProcessing PRISM_ppt_stable_4kmD2_20240127_bil.bil...\nProcessing PRISM_ppt_stable_4kmD2_20240128_bil.bil...\nProcessing batch 16/37\nProcessing PRISM_ppt_stable_4kmD2_20240129_bil.bil...\nProcessing PRISM_ppt_stable_4kmD2_20240130_bil.bil...\nProcessing PRISM_ppt_stable_4kmD2_20240131_bil.bil...\nProcessing PRISM_ppt_stable_4kmD2_20240201_bil.bil...\nProcessing PRISM_ppt_stable_4kmD2_20240202_bil.bil...\nProcessing PRISM_ppt_stable_4kmD2_20240203_bil.bil...\nProcessing PRISM_ppt_stable_4kmD2_20240204_bil.bil...\nProcessing PRISM_ppt_stable_4kmD2_20240205_bil.bil...\nProcessing PRISM_ppt_stable_4kmD2_20240206_bil.bil...\nProcessing PRISM_ppt_stable_4kmD2_20240207_bil.bil...\nProcessing batch 17/37\nProcessing PRISM_ppt_stable_4kmD2_20240208_bil.bil...\nProcessing PRISM_ppt_stable_4kmD2_20240209_bil.bil...\nProcessing PRISM_ppt_stable_4kmD2_20240210_bil.bil...\nProcessing PRISM_ppt_stable_4kmD2_20240211_bil.bil...\nProcessing PRISM_ppt_stable_4kmD2_20240212_bil.bil...\nProcessing PRISM_ppt_stable_4kmD2_20240213_bil.bil...\nProcessing PRISM_ppt_stable_4kmD2_20240214_bil.bil...\nProcessing PRISM_ppt_stable_4kmD2_20240215_bil.bil...\nProcessing PRISM_ppt_stable_4kmD2_20240216_bil.bil...\nProcessing PRISM_ppt_stable_4kmD2_20240217_bil.bil...\nProcessing batch 18/37\nProcessing PRISM_ppt_stable_4kmD2_20240218_bil.bil...\nProcessing PRISM_ppt_stable_4kmD2_20240219_bil.bil...\nProcessing PRISM_ppt_stable_4kmD2_20240220_bil.bil...\nProcessing PRISM_ppt_stable_4kmD2_20240221_bil.bil...\nProcessing PRISM_ppt_stable_4kmD2_20240222_bil.bil...\nProcessing PRISM_ppt_stable_4kmD2_20240223_bil.bil...\nProcessing PRISM_ppt_stable_4kmD2_20240224_bil.bil...\nProcessing PRISM_ppt_stable_4kmD2_20240225_bil.bil...\nProcessing PRISM_ppt_stable_4kmD2_20240226_bil.bil...\nProcessing PRISM_ppt_stable_4kmD2_20240227_bil.bil...\nProcessing batch 19/37\nProcessing PRISM_ppt_stable_4kmD2_20240228_bil.bil...\nProcessing PRISM_ppt_stable_4kmD2_20240229_bil.bil...\nProcessing PRISM_ppt_stable_4kmD2_20240301_bil.bil...\nProcessing PRISM_ppt_stable_4kmD2_20240302_bil.bil...\nProcessing PRISM_ppt_stable_4kmD2_20240303_bil.bil...\nProcessing PRISM_ppt_stable_4kmD2_20240304_bil.bil...\nProcessing PRISM_ppt_stable_4kmD2_20240305_bil.bil...\nProcessing PRISM_ppt_stable_4kmD2_20240306_bil.bil...\nProcessing PRISM_ppt_stable_4kmD2_20240307_bil.bil...\nProcessing PRISM_ppt_stable_4kmD2_20240308_bil.bil...\nProcessing batch 20/37\nProcessing PRISM_ppt_stable_4kmD2_20240309_bil.bil...\nProcessing PRISM_ppt_stable_4kmD2_20240310_bil.bil...\nProcessing PRISM_ppt_stable_4kmD2_20240311_bil.bil...\nProcessing PRISM_ppt_stable_4kmD2_20240312_bil.bil...\nProcessing PRISM_ppt_stable_4kmD2_20240313_bil.bil...\nProcessing PRISM_ppt_stable_4kmD2_20240314_bil.bil...\nProcessing PRISM_ppt_stable_4kmD2_20240315_bil.bil...\nProcessing PRISM_ppt_stable_4kmD2_20240316_bil.bil...\nProcessing PRISM_ppt_stable_4kmD2_20240317_bil.bil...\nProcessing PRISM_ppt_stable_4kmD2_20240318_bil.bil...\nProcessing batch 21/37\nProcessing PRISM_ppt_stable_4kmD2_20240319_bil.bil...\nProcessing PRISM_ppt_stable_4kmD2_20240320_bil.bil...\nProcessing PRISM_ppt_stable_4kmD2_20240321_bil.bil...\nProcessing PRISM_ppt_stable_4kmD2_20240322_bil.bil...\nProcessing PRISM_ppt_stable_4kmD2_20240323_bil.bil...\nProcessing PRISM_ppt_stable_4kmD2_20240324_bil.bil...\nProcessing PRISM_ppt_stable_4kmD2_20240325_bil.bil...\nProcessing PRISM_ppt_stable_4kmD2_20240326_bil.bil...\nProcessing PRISM_ppt_stable_4kmD2_20240327_bil.bil...\nProcessing PRISM_ppt_stable_4kmD2_20240328_bil.bil...\nProcessing batch 22/37\nProcessing PRISM_ppt_stable_4kmD2_20240329_bil.bil...\nProcessing PRISM_ppt_stable_4kmD2_20240330_bil.bil...\nProcessing PRISM_ppt_stable_4kmD2_20240331_bil.bil...\nProcessing PRISM_ppt_stable_4kmD2_20240401_bil.bil...\nProcessing PRISM_ppt_stable_4kmD2_20240402_bil.bil...\nProcessing PRISM_ppt_stable_4kmD2_20240403_bil.bil...\nProcessing PRISM_ppt_stable_4kmD2_20240404_bil.bil...\nProcessing PRISM_ppt_stable_4kmD2_20240405_bil.bil...\nProcessing PRISM_ppt_stable_4kmD2_20240406_bil.bil...\nProcessing PRISM_ppt_stable_4kmD2_20240407_bil.bil...\nProcessing batch 23/37\nProcessing PRISM_ppt_stable_4kmD2_20240408_bil.bil...\nProcessing PRISM_ppt_stable_4kmD2_20240409_bil.bil...\nProcessing PRISM_ppt_stable_4kmD2_20240410_bil.bil...\nProcessing PRISM_ppt_stable_4kmD2_20240411_bil.bil...\nProcessing PRISM_ppt_stable_4kmD2_20240412_bil.bil...\nProcessing PRISM_ppt_stable_4kmD2_20240413_bil.bil...\nProcessing PRISM_ppt_stable_4kmD2_20240414_bil.bil...\nProcessing PRISM_ppt_stable_4kmD2_20240415_bil.bil...\nProcessing PRISM_ppt_stable_4kmD2_20240416_bil.bil...\nProcessing PRISM_ppt_stable_4kmD2_20240417_bil.bil...\nProcessing batch 24/37\nProcessing PRISM_ppt_stable_4kmD2_20240418_bil.bil...\nProcessing PRISM_ppt_stable_4kmD2_20240419_bil.bil...\nProcessing PRISM_ppt_stable_4kmD2_20240420_bil.bil...\nProcessing PRISM_ppt_stable_4kmD2_20240421_bil.bil...\nProcessing PRISM_ppt_stable_4kmD2_20240422_bil.bil...\nProcessing PRISM_ppt_stable_4kmD2_20240423_bil.bil...\nProcessing PRISM_ppt_stable_4kmD2_20240424_bil.bil...\nProcessing PRISM_ppt_stable_4kmD2_20240425_bil.bil...\nProcessing PRISM_ppt_stable_4kmD2_20240426_bil.bil...\nProcessing PRISM_ppt_stable_4kmD2_20240427_bil.bil...\nProcessing batch 25/37\nProcessing PRISM_ppt_stable_4kmD2_20240428_bil.bil...\nProcessing PRISM_ppt_stable_4kmD2_20240429_bil.bil...\nProcessing PRISM_ppt_stable_4kmD2_20240430_bil.bil...\nProcessing PRISM_ppt_stable_4kmD2_20240501_bil.bil...\nProcessing PRISM_ppt_stable_4kmD2_20240502_bil.bil...\nProcessing PRISM_ppt_stable_4kmD2_20240503_bil.bil...\nProcessing PRISM_ppt_stable_4kmD2_20240504_bil.bil...\nProcessing PRISM_ppt_stable_4kmD2_20240505_bil.bil...\nProcessing PRISM_ppt_stable_4kmD2_20240506_bil.bil...\nProcessing PRISM_ppt_stable_4kmD2_20240507_bil.bil...\nProcessing batch 26/37\nProcessing PRISM_ppt_stable_4kmD2_20240508_bil.bil...\nProcessing PRISM_ppt_stable_4kmD2_20240509_bil.bil...\nProcessing PRISM_ppt_stable_4kmD2_20240510_bil.bil...\nProcessing PRISM_ppt_stable_4kmD2_20240511_bil.bil...\nProcessing PRISM_ppt_stable_4kmD2_20240512_bil.bil...\nProcessing PRISM_ppt_stable_4kmD2_20240513_bil.bil...\nProcessing PRISM_ppt_stable_4kmD2_20240514_bil.bil...\nProcessing PRISM_ppt_stable_4kmD2_20240515_bil.bil...\nProcessing PRISM_ppt_stable_4kmD2_20240516_bil.bil...\nProcessing PRISM_ppt_stable_4kmD2_20240517_bil.bil...\nProcessing batch 27/37\nProcessing PRISM_ppt_stable_4kmD2_20240518_bil.bil...\nProcessing PRISM_ppt_stable_4kmD2_20240519_bil.bil...\nProcessing PRISM_ppt_stable_4kmD2_20240520_bil.bil...\nProcessing PRISM_ppt_stable_4kmD2_20240521_bil.bil...\nProcessing PRISM_ppt_stable_4kmD2_20240522_bil.bil...\nProcessing PRISM_ppt_stable_4kmD2_20240523_bil.bil...\nProcessing PRISM_ppt_stable_4kmD2_20240524_bil.bil...\nProcessing PRISM_ppt_stable_4kmD2_20240525_bil.bil...\nProcessing PRISM_ppt_stable_4kmD2_20240526_bil.bil...\nProcessing PRISM_ppt_stable_4kmD2_20240527_bil.bil...\nProcessing batch 28/37\nProcessing PRISM_ppt_stable_4kmD2_20240528_bil.bil...\nProcessing PRISM_ppt_stable_4kmD2_20240529_bil.bil...\nProcessing PRISM_ppt_stable_4kmD2_20240530_bil.bil...\nProcessing PRISM_ppt_stable_4kmD2_20240531_bil.bil...\nProcessing PRISM_ppt_stable_4kmD2_20240601_bil.bil...\nProcessing PRISM_ppt_stable_4kmD2_20240602_bil.bil...\nProcessing PRISM_ppt_stable_4kmD2_20240603_bil.bil...\nProcessing PRISM_ppt_stable_4kmD2_20240604_bil.bil...\nProcessing PRISM_ppt_stable_4kmD2_20240605_bil.bil...\nProcessing PRISM_ppt_stable_4kmD2_20240606_bil.bil...\nProcessing batch 29/37\nProcessing PRISM_ppt_stable_4kmD2_20240607_bil.bil...\nProcessing PRISM_ppt_stable_4kmD2_20240608_bil.bil...\nProcessing PRISM_ppt_stable_4kmD2_20240609_bil.bil...\nProcessing PRISM_ppt_stable_4kmD2_20240610_bil.bil...\nProcessing PRISM_ppt_stable_4kmD2_20240611_bil.bil...\nProcessing PRISM_ppt_stable_4kmD2_20240612_bil.bil...\nProcessing PRISM_ppt_stable_4kmD2_20240613_bil.bil...\nProcessing PRISM_ppt_stable_4kmD2_20240614_bil.bil...\nProcessing PRISM_ppt_stable_4kmD2_20240615_bil.bil...\nProcessing PRISM_ppt_stable_4kmD2_20240616_bil.bil...\nProcessing batch 30/37\nProcessing PRISM_ppt_stable_4kmD2_20240617_bil.bil...\nProcessing PRISM_ppt_stable_4kmD2_20240618_bil.bil...\nProcessing PRISM_ppt_stable_4kmD2_20240619_bil.bil...\nProcessing PRISM_ppt_stable_4kmD2_20240620_bil.bil...\nProcessing PRISM_ppt_stable_4kmD2_20240621_bil.bil...\nProcessing PRISM_ppt_stable_4kmD2_20240622_bil.bil...\nProcessing PRISM_ppt_stable_4kmD2_20240623_bil.bil...\nProcessing PRISM_ppt_stable_4kmD2_20240624_bil.bil...\nProcessing PRISM_ppt_stable_4kmD2_20240625_bil.bil...\nProcessing PRISM_ppt_stable_4kmD2_20240626_bil.bil...\nProcessing batch 31/37\nProcessing PRISM_ppt_stable_4kmD2_20240627_bil.bil...\nProcessing PRISM_ppt_stable_4kmD2_20240628_bil.bil...\nProcessing PRISM_ppt_stable_4kmD2_20240629_bil.bil...\nProcessing PRISM_ppt_stable_4kmD2_20240630_bil.bil...\nProcessing PRISM_ppt_stable_4kmD2_20240701_bil.bil...\nProcessing PRISM_ppt_stable_4kmD2_20240702_bil.bil...\nProcessing PRISM_ppt_stable_4kmD2_20240703_bil.bil...\nProcessing PRISM_ppt_stable_4kmD2_20240704_bil.bil...\nProcessing PRISM_ppt_stable_4kmD2_20240705_bil.bil...\nProcessing PRISM_ppt_stable_4kmD2_20240706_bil.bil...\nProcessing batch 32/37\nProcessing PRISM_ppt_stable_4kmD2_20240707_bil.bil...\nProcessing PRISM_ppt_stable_4kmD2_20240708_bil.bil...\nProcessing PRISM_ppt_stable_4kmD2_20240709_bil.bil...\nProcessing PRISM_ppt_stable_4kmD2_20240710_bil.bil...\nProcessing PRISM_ppt_stable_4kmD2_20240711_bil.bil...\nProcessing PRISM_ppt_stable_4kmD2_20240712_bil.bil...\nProcessing PRISM_ppt_stable_4kmD2_20240713_bil.bil...\nProcessing PRISM_ppt_stable_4kmD2_20240714_bil.bil...\nProcessing PRISM_ppt_stable_4kmD2_20240715_bil.bil...\nProcessing PRISM_ppt_stable_4kmD2_20240716_bil.bil...\nProcessing batch 33/37\nProcessing PRISM_ppt_stable_4kmD2_20240717_bil.bil...\nProcessing PRISM_ppt_stable_4kmD2_20240718_bil.bil...\nProcessing PRISM_ppt_stable_4kmD2_20240719_bil.bil...\nProcessing PRISM_ppt_stable_4kmD2_20240720_bil.bil...\nProcessing PRISM_ppt_stable_4kmD2_20240721_bil.bil...\nProcessing PRISM_ppt_stable_4kmD2_20240722_bil.bil...\nProcessing PRISM_ppt_stable_4kmD2_20240723_bil.bil...\nProcessing PRISM_ppt_stable_4kmD2_20240724_bil.bil...\nProcessing PRISM_ppt_stable_4kmD2_20240725_bil.bil...\nProcessing PRISM_ppt_stable_4kmD2_20240726_bil.bil...\nProcessing batch 34/37\nProcessing PRISM_ppt_stable_4kmD2_20240727_bil.bil...\nProcessing PRISM_ppt_stable_4kmD2_20240728_bil.bil...\nProcessing PRISM_ppt_stable_4kmD2_20240729_bil.bil...\nProcessing PRISM_ppt_stable_4kmD2_20240730_bil.bil...\nProcessing PRISM_ppt_stable_4kmD2_20240731_bil.bil...\nProcessing PRISM_ppt_stable_4kmD2_20240801_bil.bil...\nProcessing PRISM_ppt_stable_4kmD2_20240802_bil.bil...\nProcessing PRISM_ppt_stable_4kmD2_20240803_bil.bil...\nProcessing PRISM_ppt_stable_4kmD2_20240804_bil.bil...\nProcessing PRISM_ppt_stable_4kmD2_20240805_bil.bil...\nProcessing batch 35/37\nProcessing PRISM_ppt_stable_4kmD2_20240806_bil.bil...\nProcessing PRISM_ppt_stable_4kmD2_20240807_bil.bil...\nProcessing PRISM_ppt_stable_4kmD2_20240808_bil.bil...\nProcessing PRISM_ppt_stable_4kmD2_20240809_bil.bil...\nProcessing PRISM_ppt_stable_4kmD2_20240810_bil.bil...\nProcessing PRISM_ppt_stable_4kmD2_20240811_bil.bil...\nProcessing PRISM_ppt_stable_4kmD2_20240812_bil.bil...\nProcessing PRISM_ppt_stable_4kmD2_20240813_bil.bil...\nProcessing PRISM_ppt_stable_4kmD2_20240814_bil.bil...\nProcessing PRISM_ppt_stable_4kmD2_20240815_bil.bil...\nProcessing batch 36/37\nProcessing PRISM_ppt_stable_4kmD2_20240816_bil.bil...\nProcessing PRISM_ppt_stable_4kmD2_20240817_bil.bil...\nProcessing PRISM_ppt_stable_4kmD2_20240818_bil.bil...\nProcessing PRISM_ppt_stable_4kmD2_20240819_bil.bil...\nProcessing PRISM_ppt_stable_4kmD2_20240820_bil.bil...\nProcessing PRISM_ppt_stable_4kmD2_20240821_bil.bil...\nProcessing PRISM_ppt_stable_4kmD2_20240822_bil.bil...\nProcessing PRISM_ppt_stable_4kmD2_20240823_bil.bil...\nProcessing PRISM_ppt_stable_4kmD2_20240824_bil.bil...\nProcessing PRISM_ppt_stable_4kmD2_20240825_bil.bil...\nProcessing batch 37/37\nProcessing PRISM_ppt_stable_4kmD2_20240826_bil.bil...\nProcessing PRISM_ppt_stable_4kmD2_20240827_bil.bil...\nProcessing PRISM_ppt_stable_4kmD2_20240828_bil.bil...\nProcessing PRISM_ppt_stable_4kmD2_20240829_bil.bil...\nProcessing PRISM_ppt_stable_4kmD2_20240830_bil.bil...\nProcessing PRISM_ppt_stable_4kmD2_20240831_bil.bil...\nProcessing complete. Final dataset has 33791 rows.\n"
     ]
    }
   ],
   "source": [
    "for i, batch in enumerate(batches):\n",
    "    print(f\"Processing batch {i+1}/{len(batches)}\")\n",
    "    \n",
    "    # Process this batch\n",
    "    batch_dfs = process_batch(batch, points_gdf)\n",
    "    \n",
    "    if not batch_dfs:\n",
    "        continue\n",
    "    \n",
    "    # Join all DataFrames in this batch\n",
    "    batch_result = reduce(lambda df1, df2: df1.join(df2, common_cols, \"left\"), batch_dfs)\n",
    "    \n",
    "    # If this is the first batch, initialize result_df\n",
    "    if result_df is None:\n",
    "        result_df = batch_result\n",
    "    else:\n",
    "        # Join with previous batches\n",
    "        result_df = result_df.join(batch_result, common_cols, \"left\")\n",
    "        \n",
    "        # Checkpoint to disk periodically\n",
    "        if (i+1) % 5 == 0 or i == len(batches)-1:\n",
    "            checkpoint_path = f\"/FileStore/intermediate_output/checkpoint_{i}\"\n",
    "            result_df.write.mode(\"overwrite\").parquet(checkpoint_path)\n",
    "            result_df = spark.read.parquet(checkpoint_path)\n",
    "\n",
    "# Write final result\n",
    "if result_df is not None:\n",
    "    result_df.write.mode(\"overwrite\").parquet(\"/FileStore/intermediate_output/2024_precipitation_data\")\n",
    "    print(f\"Processing complete. Final dataset has {result_df.count()} rows.\")\n",
    "else:\n",
    "    print(\"No results were produced.\")"
   ]
  },
  {
   "cell_type": "markdown",
   "metadata": {
    "application/vnd.databricks.v1+cell": {
     "cellMetadata": {},
     "inputWidgets": {},
     "nuid": "e5c37561-6aa2-4254-8a90-96da96586db6",
     "showTitle": false,
     "tableResultSettingsMap": {},
     "title": ""
    }
   },
   "source": []
  },
  {
   "cell_type": "markdown",
   "metadata": {
    "application/vnd.databricks.v1+cell": {
     "cellMetadata": {},
     "inputWidgets": {},
     "nuid": "5b21af53-452b-4ab6-9965-9cbc1d729533",
     "showTitle": false,
     "tableResultSettingsMap": {},
     "title": ""
    }
   },
   "source": [
    "## 2025 data "
   ]
  },
  {
   "cell_type": "code",
   "execution_count": 0,
   "metadata": {
    "application/vnd.databricks.v1+cell": {
     "cellMetadata": {
      "byteLimit": 2048000,
      "rowLimit": 10000
     },
     "inputWidgets": {},
     "nuid": "d4eb06aa-671a-4aa9-8d73-ea88f1194da4",
     "showTitle": false,
     "tableResultSettingsMap": {},
     "title": ""
    }
   },
   "outputs": [
    {
     "output_type": "stream",
     "name": "stdout",
     "output_type": "stream",
     "text": [
      "Found 78 BIL files for 2025\n"
     ]
    }
   ],
   "source": [
    "data_path = \"/FileStore/tables/\"\n",
    "all_bil_files = list_bil_files(data_path)\n",
    "\n",
    "# Filter to year 2025 files\n",
    "bil_files = [f for f in all_bil_files if \"2025\" in f]\n",
    "print(f\"Found {len(bil_files)} BIL files for 2025\")\n",
    "\n",
    "batches = [bil_files[i:i + batch_size] for i in range(0, len(bil_files), batch_size)]"
   ]
  },
  {
   "cell_type": "code",
   "execution_count": 0,
   "metadata": {
    "application/vnd.databricks.v1+cell": {
     "cellMetadata": {
      "byteLimit": 2048000,
      "rowLimit": 10000
     },
     "inputWidgets": {},
     "nuid": "7a8bf136-58f2-4c9d-a5a1-ca3071410a46",
     "showTitle": false,
     "tableResultSettingsMap": {},
     "title": ""
    }
   },
   "outputs": [
    {
     "output_type": "stream",
     "name": "stdout",
     "output_type": "stream",
     "text": [
      "Processing batch 1/8\nProcessing PRISM_ppt_early_4kmD2_20250301_bil.bil...\nProcessing PRISM_ppt_early_4kmD2_20250302_bil.bil...\nProcessing PRISM_ppt_early_4kmD2_20250303_bil.bil...\nProcessing PRISM_ppt_early_4kmD2_20250304_bil.bil...\nProcessing PRISM_ppt_early_4kmD2_20250305_bil.bil...\nProcessing PRISM_ppt_early_4kmD2_20250306_bil.bil...\nProcessing PRISM_ppt_early_4kmD2_20250307_bil.bil...\nProcessing PRISM_ppt_early_4kmD2_20250308_bil.bil...\nProcessing PRISM_ppt_early_4kmD2_20250309_bil.bil...\nProcessing PRISM_ppt_early_4kmD2_20250310_bil.bil...\nProcessing batch 2/8\nProcessing PRISM_ppt_early_4kmD2_20250311_bil.bil...\nProcessing PRISM_ppt_early_4kmD2_20250312_bil.bil...\nProcessing PRISM_ppt_early_4kmD2_20250313_bil.bil...\nProcessing PRISM_ppt_early_4kmD2_20250314_bil.bil...\nProcessing PRISM_ppt_early_4kmD2_20250315_bil.bil...\nProcessing PRISM_ppt_early_4kmD2_20250316_bil.bil...\nProcessing PRISM_ppt_early_4kmD2_20250317_bil.bil...\nProcessing PRISM_ppt_early_4kmD2_20250318_bil.bil...\nProcessing PRISM_ppt_early_4kmD2_20250319_bil.bil...\nProcessing PRISM_ppt_provisional_4kmD2_20250101_bil.bil...\nProcessing batch 3/8\nProcessing PRISM_ppt_provisional_4kmD2_20250102_bil.bil...\nProcessing PRISM_ppt_provisional_4kmD2_20250103_bil.bil...\nProcessing PRISM_ppt_provisional_4kmD2_20250104_bil.bil...\nProcessing PRISM_ppt_provisional_4kmD2_20250105_bil.bil...\nProcessing PRISM_ppt_provisional_4kmD2_20250106_bil.bil...\nProcessing PRISM_ppt_provisional_4kmD2_20250107_bil.bil...\nProcessing PRISM_ppt_provisional_4kmD2_20250108_bil.bil...\nProcessing PRISM_ppt_provisional_4kmD2_20250109_bil.bil...\nProcessing PRISM_ppt_provisional_4kmD2_20250110_bil.bil...\nProcessing PRISM_ppt_provisional_4kmD2_20250111_bil.bil...\nProcessing batch 4/8\nProcessing PRISM_ppt_provisional_4kmD2_20250112_bil.bil...\nProcessing PRISM_ppt_provisional_4kmD2_20250113_bil.bil...\nProcessing PRISM_ppt_provisional_4kmD2_20250114_bil.bil...\nProcessing PRISM_ppt_provisional_4kmD2_20250115_bil.bil...\nProcessing PRISM_ppt_provisional_4kmD2_20250116_bil.bil...\nProcessing PRISM_ppt_provisional_4kmD2_20250117_bil.bil...\nProcessing PRISM_ppt_provisional_4kmD2_20250118_bil.bil...\nProcessing PRISM_ppt_provisional_4kmD2_20250119_bil.bil...\nProcessing PRISM_ppt_provisional_4kmD2_20250120_bil.bil...\nProcessing PRISM_ppt_provisional_4kmD2_20250121_bil.bil...\nProcessing batch 5/8\nProcessing PRISM_ppt_provisional_4kmD2_20250122_bil.bil...\nProcessing PRISM_ppt_provisional_4kmD2_20250123_bil.bil...\nProcessing PRISM_ppt_provisional_4kmD2_20250124_bil.bil...\nProcessing PRISM_ppt_provisional_4kmD2_20250125_bil.bil...\nProcessing PRISM_ppt_provisional_4kmD2_20250126_bil.bil...\nProcessing PRISM_ppt_provisional_4kmD2_20250127_bil.bil...\nProcessing PRISM_ppt_provisional_4kmD2_20250128_bil.bil...\nProcessing PRISM_ppt_provisional_4kmD2_20250129_bil.bil...\nProcessing PRISM_ppt_provisional_4kmD2_20250130_bil.bil...\nProcessing PRISM_ppt_provisional_4kmD2_20250131_bil.bil...\nProcessing batch 6/8\nProcessing PRISM_ppt_provisional_4kmD2_20250201_bil.bil...\nProcessing PRISM_ppt_provisional_4kmD2_20250202_bil.bil...\nProcessing PRISM_ppt_provisional_4kmD2_20250203_bil.bil...\nProcessing PRISM_ppt_provisional_4kmD2_20250204_bil.bil...\nProcessing PRISM_ppt_provisional_4kmD2_20250205_bil.bil...\nProcessing PRISM_ppt_provisional_4kmD2_20250206_bil.bil...\nProcessing PRISM_ppt_provisional_4kmD2_20250207_bil.bil...\nProcessing PRISM_ppt_provisional_4kmD2_20250208_bil.bil...\nProcessing PRISM_ppt_provisional_4kmD2_20250209_bil.bil...\nProcessing PRISM_ppt_provisional_4kmD2_20250210_bil.bil...\nProcessing batch 7/8\nProcessing PRISM_ppt_provisional_4kmD2_20250211_bil.bil...\nProcessing PRISM_ppt_provisional_4kmD2_20250212_bil.bil...\nProcessing PRISM_ppt_provisional_4kmD2_20250213_bil.bil...\nProcessing PRISM_ppt_provisional_4kmD2_20250214_bil.bil...\nProcessing PRISM_ppt_provisional_4kmD2_20250215_bil.bil...\nProcessing PRISM_ppt_provisional_4kmD2_20250216_bil.bil...\nProcessing PRISM_ppt_provisional_4kmD2_20250217_bil.bil...\nProcessing PRISM_ppt_provisional_4kmD2_20250218_bil.bil...\nProcessing PRISM_ppt_provisional_4kmD2_20250219_bil.bil...\nProcessing PRISM_ppt_provisional_4kmD2_20250220_bil.bil...\nProcessing batch 8/8\nProcessing PRISM_ppt_provisional_4kmD2_20250221_bil.bil...\nProcessing PRISM_ppt_provisional_4kmD2_20250222_bil.bil...\nProcessing PRISM_ppt_provisional_4kmD2_20250223_bil.bil...\nProcessing PRISM_ppt_provisional_4kmD2_20250224_bil.bil...\nProcessing PRISM_ppt_provisional_4kmD2_20250225_bil.bil...\nProcessing PRISM_ppt_provisional_4kmD2_20250226_bil.bil...\nProcessing PRISM_ppt_provisional_4kmD2_20250227_bil.bil...\nProcessing PRISM_ppt_provisional_4kmD2_20250228_bil.bil...\nProcessing complete. Final dataset has 33791 rows.\n"
     ]
    }
   ],
   "source": [
    "for i, batch in enumerate(batches):\n",
    "    print(f\"Processing batch {i+1}/{len(batches)}\")\n",
    "    \n",
    "    # Process this batch\n",
    "    batch_dfs = process_batch(batch, points_gdf)\n",
    "    \n",
    "    if not batch_dfs:\n",
    "        continue\n",
    "    \n",
    "    # Join all DataFrames in this batch\n",
    "    batch_result = reduce(lambda df1, df2: df1.join(df2, common_cols, \"left\"), batch_dfs)\n",
    "    \n",
    "    # If this is the first batch, initialize result_df\n",
    "    if result_df is None:\n",
    "        result_df = batch_result\n",
    "    else:\n",
    "        # Join with previous batches\n",
    "        result_df = result_df.join(batch_result, common_cols, \"left\")\n",
    "        \n",
    "        # Checkpoint to disk periodically\n",
    "        if (i+1) % 5 == 0 or i == len(batches)-1:\n",
    "            checkpoint_path = f\"/FileStore/intermediate_output/checkpoint_{i}\"\n",
    "            result_df.write.mode(\"overwrite\").parquet(checkpoint_path)\n",
    "            result_df = spark.read.parquet(checkpoint_path)\n",
    "\n",
    "# Write final result\n",
    "if result_df is not None:\n",
    "    result_df.write.mode(\"overwrite\").parquet(\"/FileStore/intermediate_output/2025_precipitation_data\")\n",
    "    print(f\"Processing complete. Final dataset has {result_df.count()} rows.\")\n",
    "else:\n",
    "    print(\"No results were produced.\")"
   ]
  },
  {
   "cell_type": "code",
   "execution_count": 0,
   "metadata": {
    "application/vnd.databricks.v1+cell": {
     "cellMetadata": {},
     "inputWidgets": {},
     "nuid": "c1ab2e3f-36ce-4941-9303-b33feb3bb15e",
     "showTitle": false,
     "tableResultSettingsMap": {},
     "title": ""
    }
   },
   "outputs": [],
   "source": [
    "spark.stop()"
   ]
  }
 ],
 "metadata": {
  "application/vnd.databricks.v1+notebook": {
   "computePreferences": null,
   "dashboards": [],
   "environmentMetadata": {
    "base_environment": "",
    "environment_version": "2"
   },
   "inputWidgetPreferences": null,
   "language": "python",
   "notebookMetadata": {
    "pythonIndentUnit": 4
   },
   "notebookName": "weather_data_processing",
   "widgets": {}
  },
  "language_info": {
   "name": "python"
  }
 },
 "nbformat": 4,
 "nbformat_minor": 0
}