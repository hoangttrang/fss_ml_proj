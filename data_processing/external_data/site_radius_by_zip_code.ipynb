{
 "cells": [
  {
   "cell_type": "markdown",
   "metadata": {
    "application/vnd.databricks.v1+cell": {
     "cellMetadata": {},
     "inputWidgets": {},
     "nuid": "fc593ecf-6d1c-426b-a9ca-2be0678f72b9",
     "showTitle": false,
     "tableResultSettingsMap": {},
     "title": ""
    }
   },
   "source": [
    "# Site Zip Code Radius"
   ]
  },
  {
   "cell_type": "markdown",
   "metadata": {
    "application/vnd.databricks.v1+cell": {
     "cellMetadata": {},
     "inputWidgets": {},
     "nuid": "38a25d42-dceb-4979-8e70-facf0d2b4df1",
     "showTitle": false,
     "tableResultSettingsMap": {},
     "title": ""
    }
   },
   "source": [
    "\n",
    "Since we do not have any data on the routes, intended routes or intended destination for each driver when they leave the site location. We are broadly using location information for the surrounding radius of each site based on what we observed to be the distribution of trip lengths. "
   ]
  },
  {
   "cell_type": "markdown",
   "metadata": {
    "application/vnd.databricks.v1+cell": {
     "cellMetadata": {},
     "inputWidgets": {},
     "nuid": "daf88d95-1f1c-44c3-ace5-58a7c11157c0",
     "showTitle": false,
     "tableResultSettingsMap": {},
     "title": ""
    }
   },
   "source": [
    "## Workflow \n",
    "\n",
    "\n",
    "**Data Ingestion and Setup**\n",
    "* Define constants such as file paths, ZIP field names, and the radius (40 miles) for distance filtering.\n",
    "* Load the ZIP code shapefile (tl_2020_us_zcta520.shp) and the site ZIP code data from an Excel file (FusionSite_Services_Regional_Footprint_January_2025.xlsx).\n",
    "\n",
    "**Data Pre Processing**\n",
    "* Transform CRS for Accurate Distance Calculation\n",
    "  * Check and transform the shapefile’s Coordinate Reference System (CRS) to EPSG:5070 for accurate distance measurements. Convert centroids to EPSG:4326 for latitude/longitude.\n",
    "* Create Target ZIP Code Lookup: Filter the shapefile for the target ZIP codes from the regional site data manually add any missing ZIP codes with known latitude and longitude.\n",
    "\n",
    "**Data Wrangling**\n",
    "* Cross Join ZIP Code Data\n",
    "  * Create a Spark DataFrame from the ZIP code data and cross join it with the target ZIP code DataFrame to generate all combinations of site and target ZIP codes.\n",
    "\n",
    "* Add Target Coordinates to DataFrame: For each target ZIP code, add its latitude and longitude as literal columns to the DataFrame for easy access in distance calculations.\n",
    "\n",
    "* Calculate Distance Using Haversine Formula\n",
    "  * Apply the haversine_distance() UDF to compute the distance between each site ZIP code and the corresponding target ZIP code.\n",
    "    * The UDF haversine_distance() computes the great-circle distance between two geographic points (latitude and longitude) using the Haversine formula.\n",
    "\n",
    "* Filter by Radius: Filter the DataFrame to only retain rows where the distance is within the specified radius (40 miles).\n",
    "\n",
    "**Save Intermediate Data**\n",
    "* Sort and Cache Results\n",
    "* Save Results\n",
    "\n",
    "\n"
   ]
  },
  {
   "cell_type": "code",
   "execution_count": 0,
   "metadata": {
    "application/vnd.databricks.v1+cell": {
     "cellMetadata": {
      "byteLimit": 2048000,
      "rowLimit": 10000
     },
     "inputWidgets": {},
     "nuid": "397972e7-07f7-4f6a-9470-a64082b99f59",
     "showTitle": false,
     "tableResultSettingsMap": {},
     "title": ""
    }
   },
   "outputs": [
    {
     "output_type": "display_data",
     "data": {
      "application/vnd.databricks.v1+h3_hint": "",
      "text/plain": []
     },
     "metadata": {},
     "output_type": "display_data"
    }
   ],
   "source": [
    "from pyspark.sql import SparkSession\n",
    "from pyspark.sql.functions import udf, col, radians, sin, cos, asin, sqrt, lit\n",
    "from pyspark.sql.types import DoubleType, BooleanType\n",
    "from shapely.geometry import shape\n",
    "import geopandas as gpd\n",
    "import json\n",
    "import re\n",
    "import os\n",
    "from pyspark.sql.functions import array, struct\n",
    "from pyspark.sql.types import ArrayType, StructType, StructField, StringType\n",
    "from functools import partial\n",
    "import pandas as pd\n",
    "from pyspark.sql.functions import udf, col, broadcast, explode\n",
    "from pyspark.sql import functions as F\n",
    "\n",
    "import matplotlib.pyplot as plt\n",
    "import numpy as np\n",
    "import geopandas as gpd\n",
    "from shapely.geometry import Point\n",
    "import contextily as ctx"
   ]
  },
  {
   "cell_type": "code",
   "execution_count": 0,
   "metadata": {
    "application/vnd.databricks.v1+cell": {
     "cellMetadata": {
      "byteLimit": 2048000,
      "rowLimit": 10000
     },
     "inputWidgets": {},
     "nuid": "b9e73a3b-2203-47d5-bc6e-7362faf402c5",
     "showTitle": false,
     "tableResultSettingsMap": {},
     "title": ""
    }
   },
   "outputs": [],
   "source": [
    "spark = SparkSession.builder \\\n",
    "    .appName(\"ZipCodeRadiusSearch\") \\\n",
    "    .getOrCreate()"
   ]
  },
  {
   "cell_type": "code",
   "execution_count": 0,
   "metadata": {
    "application/vnd.databricks.v1+cell": {
     "cellMetadata": {
      "byteLimit": 2048000,
      "rowLimit": 10000
     },
     "inputWidgets": {},
     "nuid": "1a0d1e27-ea7c-447e-9764-17eb1ebc6d8b",
     "showTitle": false,
     "tableResultSettingsMap": {},
     "title": ""
    }
   },
   "outputs": [],
   "source": [
    "# Haversine distance UDF for radius search\n",
    "@udf(returnType=DoubleType())\n",
    "def haversine_distance(lat1, lon1, lat2, lon2):\n",
    "    \"\"\"Calculate the great circle distance between two points in miles\"\"\"\n",
    "    import math\n",
    "    \n",
    "    # Convert decimal degrees to radians\n",
    "    try:\n",
    "        lon1, lat1, lon2, lat2 = map(\n",
    "            lambda x: math.radians(float(x)), [lon1, lat1, lon2, lat2]\n",
    "        )\n",
    "        \n",
    "        # Haversine formula\n",
    "        dlon = lon2 - lon1\n",
    "        dlat = lat2 - lat1\n",
    "        a = math.sin(dlat/2)**2 + math.cos(lat1) * math.cos(lat2) * math.sin(dlon/2)**2\n",
    "        c = 2 * math.asin(math.sqrt(a))\n",
    "        r = 3956  # Radius of earth in miles\n",
    "        return float(c * r)\n",
    "    except Exception as e:\n",
    "        # Return a very large number if there's an error\n",
    "        return float(9999999)"
   ]
  },
  {
   "cell_type": "code",
   "execution_count": 0,
   "metadata": {
    "application/vnd.databricks.v1+cell": {
     "cellMetadata": {
      "byteLimit": 2048000,
      "rowLimit": 10000
     },
     "inputWidgets": {},
     "nuid": "a1f32f2e-e4a8-40e7-884c-b5a499ce14db",
     "showTitle": false,
     "tableResultSettingsMap": {},
     "title": ""
    }
   },
   "outputs": [],
   "source": [
    "# Define Global Variable\n",
    "DATA_PATH = \"/dbfs/FileStore/tables/\"\n",
    "ZIP_FIELD = 'ZCTA5CE20'\n",
    "RADIUS_MILES=40"
   ]
  },
  {
   "cell_type": "code",
   "execution_count": 0,
   "metadata": {
    "application/vnd.databricks.v1+cell": {
     "cellMetadata": {
      "byteLimit": 2048000,
      "rowLimit": 10000
     },
     "inputWidgets": {},
     "nuid": "0a2ed1da-e5ec-4513-b2d7-93525aea645b",
     "showTitle": false,
     "tableResultSettingsMap": {},
     "title": ""
    }
   },
   "outputs": [],
   "source": [
    "shapefile_path = os.path.join(DATA_PATH, \"tl_2020_us_zcta520.shp\")\n",
    "gdf = gpd.read_file(shapefile_path)\n",
    "\n",
    "# Site data\n",
    "fusionsite_regional_df =  spark.read.format(\"com.crealytics.spark.excel\") \\\n",
    "    .option(\"header\", \"true\") \\\n",
    "    .option(\"inferSchema\", \"true\") \\\n",
    "    .load(\"/FileStore/tables/FusionSite_Services_Regional_Footprint_January_2025.xlsx\")"
   ]
  },
  {
   "cell_type": "code",
   "execution_count": 0,
   "metadata": {
    "application/vnd.databricks.v1+cell": {
     "cellMetadata": {
      "byteLimit": 2048000,
      "rowLimit": 10000
     },
     "inputWidgets": {},
     "nuid": "35e0163e-f01a-452d-a20d-4cfd3d8903e3",
     "showTitle": false,
     "tableResultSettingsMap": {},
     "title": ""
    }
   },
   "outputs": [],
   "source": [
    "# Drop Brand29\n",
    "# Rename Brand1 to Brand\n",
    "fusionsite_regional_df = fusionsite_regional_df.withColumnRenamed(\"Brand1\", \"Brand\")\n",
    "fusionsite_regional_df = fusionsite_regional_df.drop(\"Brand29\")\n",
    "\n"
   ]
  },
  {
   "cell_type": "code",
   "execution_count": 0,
   "metadata": {
    "application/vnd.databricks.v1+cell": {
     "cellMetadata": {
      "byteLimit": 2048000,
      "rowLimit": 10000
     },
     "inputWidgets": {},
     "nuid": "6f6679bc-93e4-4da9-8914-71b1dcb5b905",
     "showTitle": false,
     "tableResultSettingsMap": {},
     "title": ""
    }
   },
   "outputs": [],
   "source": [
    "from pyspark.sql import Row\n",
    "from pyspark.sql.types import *"
   ]
  },
  {
   "cell_type": "code",
   "execution_count": 0,
   "metadata": {
    "application/vnd.databricks.v1+cell": {
     "cellMetadata": {
      "byteLimit": 2048000,
      "rowLimit": 10000
     },
     "inputWidgets": {},
     "nuid": "8de332cb-69cd-44d0-99a1-bf88f7fcf1ad",
     "showTitle": false,
     "tableResultSettingsMap": {},
     "title": ""
    }
   },
   "outputs": [
    {
     "output_type": "stream",
     "name": "stdout",
     "output_type": "stream",
     "text": [
      "+----+--------------------+------+------+----------+-------+----+----+------+----+------------+------+------+--------+----+-----+--------------+-----------+-------------+--------+----------+------+------+---------+-----------+------+-------+----------------+-------+-------+\n|  ID|               Brand|Region|State3|     City4|Address|  PR| RRT|Shower|  RO|Front Loader|Septic|Grease|Concrete| S&B|Conex|Mobile Offices|Res Storage|Refrigeration|Latitude| Longitude|Number|Street|Unit Type|Unit Number|City25|State26|          County|    Zip|Country|\n+----+--------------------+------+------+----------+-------+----+----+------+----+------------+------+------+--------+----+-----+--------------+-----------+-------------+--------+----------+------+------+---------+-----------+------+-------+----------------+-------+-------+\n|51.0|SAN ANGELO- TOPS ...|  NULL| Texas|San Angelo|   NULL|NULL|NULL|  NULL|NULL|        NULL|  NULL|  NULL|    NULL|NULL| NULL|          NULL|       NULL|         NULL|31.49987|-100.31583|  NULL|  NULL|     NULL|       NULL|  NULL|   NULL|Tom Green County|76905.0|   NULL|\n+----+--------------------+------+------+----------+-------+----+----+------+----+------------+------+------+--------+----+-----+--------------+-----------+-------------+--------+----------+------+------+---------+-----------+------+-------+----------------+-------+-------+\n\n"
     ]
    }
   ],
   "source": [
    "from pyspark.sql import Row\n",
    "from pyspark.sql.types import *\n",
    "\n",
    "# Define the schema explicitly matching your dataframe structure\n",
    "schema = StructType([\n",
    "    StructField(\"ID\", DoubleType(), True),\n",
    "    StructField(\"Brand\", StringType(), True),\n",
    "    StructField(\"Region\", StringType(), True),\n",
    "    StructField(\"State3\", StringType(), True),\n",
    "    StructField(\"City4\", StringType(), True),\n",
    "    StructField(\"Address\", StringType(), True),\n",
    "    StructField(\"PR\", StringType(), True),\n",
    "    StructField(\"RRT\", StringType(), True),\n",
    "    StructField(\"Shower\", StringType(), True),\n",
    "    StructField(\"RO\", StringType(), True),\n",
    "    StructField(\"Front Loader\", StringType(), True),\n",
    "    StructField(\"Septic\", StringType(), True),\n",
    "    StructField(\"Grease\", StringType(), True),\n",
    "    StructField(\"Concrete\", StringType(), True),\n",
    "    StructField(\"S&B\", StringType(), True),\n",
    "    StructField(\"Conex\", StringType(), True),\n",
    "    StructField(\"Mobile Offices\", StringType(), True),\n",
    "    StructField(\"Res Storage\", StringType(), True),\n",
    "    StructField(\"Refrigeration\", StringType(), True),\n",
    "    StructField(\"Latitude\", DoubleType(), True),\n",
    "    StructField(\"Longitude\", DoubleType(), True),\n",
    "    StructField(\"Number\", DoubleType(), True),\n",
    "    StructField(\"Street\", StringType(), True),\n",
    "    StructField(\"Unit Type\", StringType(), True),\n",
    "    StructField(\"Unit Number\", StringType(), True),\n",
    "    StructField(\"City25\", StringType(), True),\n",
    "    StructField(\"State26\", StringType(), True),\n",
    "    StructField(\"County\", StringType(), True),\n",
    "    StructField(\"Zip\", DoubleType(), True),\n",
    "    StructField(\"Country\", StringType(), True)\n",
    "])\n",
    "\n",
    "# Find the last ID\n",
    "last_id = fusionsite_regional_df.agg({\"ID\": \"max\"}).collect()[0][0]\n",
    "new_id = last_id + 1\n",
    "\n",
    "# Create the new row as a list of values in the correct order\n",
    "new_row_values = [\n",
    "    float(new_id),                 # ID\n",
    "    \"SAN ANGELO- TOPS SEPTIC\",     # Brand\n",
    "    None,                          # Region\n",
    "    \"Texas\",                       # State3\n",
    "    \"San Angelo\",                  # City4\n",
    "    None,                          # Address\n",
    "    None,                          # PR\n",
    "    None,                          # RRT\n",
    "    None,                          # Shower\n",
    "    None,                          # RO\n",
    "    None,                          # Front Loader\n",
    "    None,                          # Septic\n",
    "    None,                          # Grease\n",
    "    None,                          # Concrete\n",
    "    None,                          # S&B\n",
    "    None,                          # Conex\n",
    "    None,                          # Mobile Offices\n",
    "    None,                          # Res Storage\n",
    "    None,                          # Refrigeration\n",
    "    31.49987,                      # Latitude\n",
    "    -100.31583,                    # Longitude\n",
    "    None,                          # Number\n",
    "    None,                          # Street\n",
    "    None,                          # Unit Type\n",
    "    None,                          # Unit Number\n",
    "    None,                          # City25\n",
    "    None,                          # State26\n",
    "    \"Tom Green County\",            # County\n",
    "    76905.0,                       # Zip\n",
    "    None                           # Country\n",
    "]\n",
    "\n",
    "# Create a dataframe with the explicit schema\n",
    "new_row_df = spark.createDataFrame([new_row_values], schema)\n",
    "\n",
    "# Append the new row to the existing dataframe\n",
    "fusionsite_regional_df = fusionsite_regional_df.union(new_row_df)\n",
    "\n",
    "# Show the new row\n",
    "fusionsite_regional_df.filter(f\"ID = {new_id}\").show()"
   ]
  },
  {
   "cell_type": "code",
   "execution_count": 0,
   "metadata": {
    "application/vnd.databricks.v1+cell": {
     "cellMetadata": {
      "byteLimit": 2048000,
      "rowLimit": 10000
     },
     "inputWidgets": {},
     "nuid": "9336a7a7-3944-4317-9c5c-338f0c84dc73",
     "showTitle": false,
     "tableResultSettingsMap": {},
     "title": ""
    }
   },
   "outputs": [],
   "source": [
    "# Fill in missing value for Zip =  \"28147\" when Brand == \"A Sani-Can\" and Address == 1882 Briggs Rd Salisbury NC 28147\n",
    "fusionsite_regional_df = fusionsite_regional_df.withColumn(\n",
    "    \"Zip\", \n",
    "    F.when(\n",
    "        (F.col(\"Brand\") == \"A Sani-Can\") & (F.col(\"Address\") == \"1882 Briggs Rd Salisbury NC 28147\"), \n",
    "        F.lit(\"28147\")\n",
    "    ).otherwise(F.col(\"Zip\"))\n",
    ")\n",
    "\n",
    "# Assign this row ID 52\n",
    "fusionsite_regional_df = fusionsite_regional_df.withColumn(\n",
    "    \"ID\", \n",
    "    F.when(\n",
    "        (F.col(\"Brand\") == \"A Sani-Can\") & (F.col(\"Address\") == \"1882 Briggs Rd Salisbury NC 28147\"), \n",
    "        F.lit(52)\n",
    "    ).otherwise(F.col(\"ID\"))\n",
    ")"
   ]
  },
  {
   "cell_type": "code",
   "execution_count": 0,
   "metadata": {
    "application/vnd.databricks.v1+cell": {
     "cellMetadata": {
      "byteLimit": 2048000,
      "rowLimit": 10000
     },
     "inputWidgets": {},
     "nuid": "2a4759ab-752f-4317-bbf2-05119b04ab5a",
     "showTitle": false,
     "tableResultSettingsMap": {},
     "title": ""
    }
   },
   "outputs": [
    {
     "output_type": "stream",
     "name": "stdout",
     "output_type": "stream",
     "text": [
      "Converting from EPSG:4269 to EPSG:5070 for accurate distance measurements\n"
     ]
    }
   ],
   "source": [
    "if gdf.crs is None or gdf.crs.to_string() != 'EPSG:5070':\n",
    "    print(f\"Converting from {gdf.crs} to EPSG:5070 for accurate distance measurements\")\n",
    "    gdf = gdf.to_crs('EPSG:5070')\n",
    "\n",
    "target_zips = [\n",
    "    str(int(float(zip))) for zip in fusionsite_regional_df.select('Zip').rdd.flatMap(lambda x: x).collect() \n",
    "    if pd.notnull(zip)\n",
    "]\n",
    "\n",
    "# Calculate centroids in the projected CRS\n",
    "gdf['centroid'] = gdf.geometry.centroid\n",
    "\n",
    "# Convert back to WGS84 for lat/lon\n",
    "centroid_gdf = gpd.GeoDataFrame(geometry=gdf['centroid'], crs=gdf.crs)\n",
    "centroid_gdf = centroid_gdf.to_crs('EPSG:4326')\n",
    "\n",
    "# Extract latitude and longitude\n",
    "gdf['latitude'] = centroid_gdf.geometry.y\n",
    "gdf['longitude'] = centroid_gdf.geometry.x"
   ]
  },
  {
   "cell_type": "code",
   "execution_count": 0,
   "metadata": {
    "application/vnd.databricks.v1+cell": {
     "cellMetadata": {
      "byteLimit": 2048000,
      "rowLimit": 10000
     },
     "inputWidgets": {},
     "nuid": "42ea3328-82a0-4965-8e2e-09fb82a449d0",
     "showTitle": false,
     "tableResultSettingsMap": {},
     "title": ""
    }
   },
   "outputs": [],
   "source": [
    "zip_df = spark.createDataFrame(gdf[[ZIP_FIELD, 'latitude', 'longitude']].copy())\n",
    "\n",
    "# Create missing zips directly as a Spark DataFrame\n",
    "missing_zips_schema = StructType([\n",
    "    StructField(\"ZCTA5CE20\", StringType(), True),\n",
    "    StructField(\"latitude\", DoubleType(), True),\n",
    "    StructField(\"longitude\", DoubleType(), True)\n",
    "])\n",
    "\n",
    "missing_zips_data = [\n",
    "    (\"29604\", 34.850750, -82.398956),\n",
    "    (\"18949\", 40.389820, -75.144081)\n",
    "]\n",
    "\n",
    "missing_zips_df = spark.createDataFrame(missing_zips_data, schema=missing_zips_schema)\n",
    "\n",
    "# Union the existing zip data with missing zips\n",
    "zip_df = zip_df.unionByName(missing_zips_df)"
   ]
  },
  {
   "cell_type": "code",
   "execution_count": 0,
   "metadata": {
    "application/vnd.databricks.v1+cell": {
     "cellMetadata": {
      "byteLimit": 2048000,
      "rowLimit": 10000
     },
     "inputWidgets": {},
     "nuid": "0d916f1b-3387-4f87-ac47-5b5dcda05ead",
     "showTitle": false,
     "tableResultSettingsMap": {},
     "title": ""
    }
   },
   "outputs": [
    {
     "output_type": "stream",
     "name": "stdout",
     "output_type": "stream",
     "text": [
      "Number of unique ZCTA5CE20 values in zip_df: 33793\n"
     ]
    }
   ],
   "source": [
    "# Get number of unique ZCTA5CE20 values in zip_df\n",
    "print(f\"Number of unique ZCTA5CE20 values in zip_df: {zip_df.select(ZIP_FIELD).distinct().count()}\")"
   ]
  },
  {
   "cell_type": "code",
   "execution_count": 0,
   "metadata": {
    "application/vnd.databricks.v1+cell": {
     "cellMetadata": {
      "byteLimit": 2048000,
      "rowLimit": 10000
     },
     "inputWidgets": {},
     "nuid": "99b983a6-6850-451d-8eb5-b7330d4d9264",
     "showTitle": false,
     "tableResultSettingsMap": {},
     "title": ""
    }
   },
   "outputs": [
    {
     "output_type": "stream",
     "name": "stdout",
     "output_type": "stream",
     "text": [
      "Number of unique ZIP values in zip_df: 48\n"
     ]
    }
   ],
   "source": [
    "print(f\"Number of unique ZIP values in zip_df: {fusionsite_regional_df.select('ZIP').distinct().count()}\")"
   ]
  },
  {
   "cell_type": "code",
   "execution_count": 0,
   "metadata": {
    "application/vnd.databricks.v1+cell": {
     "cellMetadata": {
      "byteLimit": 2048000,
      "rowLimit": 10000
     },
     "inputWidgets": {},
     "nuid": "566b5d12-4369-41be-b5b7-80db69ac9ab3",
     "showTitle": false,
     "tableResultSettingsMap": {},
     "title": ""
    }
   },
   "outputs": [],
   "source": [
    "# Extract target zip codes from fusionsite_regional_df_pandas and convert to a list\n",
    "\n",
    "target_zips = [\n",
    "    str(int(float(zip))) for zip in fusionsite_regional_df.select('Zip').rdd.flatMap(lambda x: x).collect() \n",
    "    if pd.notnull(zip)\n",
    "]\n",
    "\n",
    "# Create target zip code lookup\n",
    "target_info = zip_df.filter(F.col(ZIP_FIELD).isin(target_zips))\n",
    "\n",
    "# Check if all target zip codes were found\n",
    "target_zips_found = [row[ZIP_FIELD] for row in target_info.select(ZIP_FIELD).collect()]\n",
    "found_zips = set(target_zips_found)\n",
    "missing_zips_set = set(target_zips) - found_zips"
   ]
  },
  {
   "cell_type": "code",
   "execution_count": 0,
   "metadata": {
    "application/vnd.databricks.v1+cell": {
     "cellMetadata": {
      "byteLimit": 2048000,
      "rowLimit": 10000
     },
     "inputWidgets": {},
     "nuid": "7be6a485-5e84-4c96-9c4b-09adce454a0f",
     "showTitle": false,
     "tableResultSettingsMap": {},
     "title": ""
    }
   },
   "outputs": [
    {
     "output_type": "execute_result",
     "data": {
      "text/plain": [
       "set()"
      ]
     },
     "execution_count": 50,
     "metadata": {},
     "output_type": "execute_result"
    }
   ],
   "source": [
    "missing_zips_set "
   ]
  },
  {
   "cell_type": "code",
   "execution_count": 0,
   "metadata": {
    "application/vnd.databricks.v1+cell": {
     "cellMetadata": {
      "byteLimit": 2048000,
      "rowLimit": 10000
     },
     "inputWidgets": {},
     "nuid": "ed9a3626-d607-45af-9d5b-fb2d7f878bdc",
     "showTitle": false,
     "tableResultSettingsMap": {},
     "title": ""
    }
   },
   "outputs": [
    {
     "output_type": "stream",
     "name": "stdout",
     "output_type": "stream",
     "text": [
      "root\n |-- ZCTA5CE20: string (nullable = true)\n |-- latitude: double (nullable = true)\n |-- longitude: double (nullable = true)\n\n"
     ]
    }
   ],
   "source": [
    "zip_df.printSchema()"
   ]
  },
  {
   "cell_type": "code",
   "execution_count": 0,
   "metadata": {
    "application/vnd.databricks.v1+cell": {
     "cellMetadata": {
      "byteLimit": 2048000,
      "rowLimit": 10000
     },
     "inputWidgets": {},
     "nuid": "c8c43ebe-8f95-40d2-a80a-8a40c54ee0c0",
     "showTitle": false,
     "tableResultSettingsMap": {},
     "title": ""
    }
   },
   "outputs": [
    {
     "output_type": "display_data",
     "data": {
      "text/html": [
       "<style scoped>\n",
       "  .table-result-container {\n",
       "    max-height: 300px;\n",
       "    overflow: auto;\n",
       "  }\n",
       "  table, th, td {\n",
       "    border: 1px solid black;\n",
       "    border-collapse: collapse;\n",
       "  }\n",
       "  th, td {\n",
       "    padding: 5px;\n",
       "  }\n",
       "  th {\n",
       "    text-align: left;\n",
       "  }\n",
       "</style><div class='table-result-container'><table class='table-result'><thead style='background-color: white'><tr><th>ID</th><th>Brand</th><th>Region</th><th>State3</th><th>City4</th><th>Address</th><th>PR</th><th>RRT</th><th>Shower</th><th>RO</th><th>Front Loader</th><th>Septic</th><th>Grease</th><th>Concrete</th><th>S&B</th><th>Conex</th><th>Mobile Offices</th><th>Res Storage</th><th>Refrigeration</th><th>Latitude</th><th>Longitude</th><th>Number</th><th>Street</th><th>Unit Type</th><th>Unit Number</th><th>City25</th><th>State26</th><th>County</th><th>Zip</th><th>Country</th></tr></thead><tbody><tr><td>1.0</td><td>Arkansas Portable Toilets</td><td>Gulf South</td><td>Arkansas</td><td>Little Rock</td><td>924 W 15th St. N Little Rock Arkansas 72114</td><td>X</td><td>X</td><td>X</td><td>X</td><td>null</td><td>null</td><td>null</td><td>null</td><td>null</td><td>null</td><td>null</td><td>null</td><td>null</td><td>34.768452</td><td>-92.277291</td><td>924.0</td><td>W 15th St</td><td>null</td><td>null</td><td>North Little Rock</td><td>AR</td><td>Pulaski County</td><td>72114.0</td><td>US</td></tr><tr><td>2.0</td><td>Arkansas Portable Toilets</td><td>Gulf South</td><td>Arkansas</td><td>Fayetteville</td><td>1975 Morningside Dr Fayetteville AR 72701</td><td>X</td><td>X</td><td>X</td><td>X</td><td>null</td><td>null</td><td>null</td><td>null</td><td>null</td><td>null</td><td>null</td><td>null</td><td>null</td><td>36.042659</td><td>-94.150036</td><td>1975.0</td><td>S Morningside Dr</td><td>null</td><td>null</td><td>Fayetteville</td><td>AR</td><td>Washington County</td><td>72701.0</td><td>US</td></tr><tr><td>11.0</td><td>Gotta Go Site Service Rentals</td><td>Gulf South</td><td>Mississippi</td><td>Jackson</td><td>120 US 49 N  Jackson  MS 39209</td><td>X</td><td>X</td><td>null</td><td>X</td><td>null</td><td>null</td><td>null</td><td>null</td><td>null</td><td>null</td><td>null</td><td>null</td><td>null</td><td>32.488432</td><td>-90.292417</td><td>120.0</td><td>US-49</td><td>null</td><td>null</td><td>Jackson</td><td>MS</td><td>Madison County</td><td>39209.0</td><td>US</td></tr><tr><td>40.0</td><td>American Johnny</td><td>Gulf South</td><td>Mississippi</td><td>Satillo</td><td>242 Old Saltillo Rd  Satillo MS 38866</td><td>null</td><td>null</td><td>null</td><td>null</td><td>null</td><td>null</td><td>null</td><td>null</td><td>null</td><td>null</td><td>null</td><td>null</td><td>null</td><td>34.363529</td><td>-88.686359</td><td>242.0</td><td>Old Saltillo Rd</td><td>null</td><td>null</td><td>Saltillo</td><td>MS</td><td>Lee County</td><td>38866.0</td><td>US</td></tr><tr><td>23.0</td><td>Safety-Quip Portable Toilets</td><td>Gulf South</td><td>Tennessee</td><td>Memphis</td><td>4950 Getwell Rd. Memphis TN 38118</td><td>X</td><td>X</td><td>null</td><td>null</td><td>null</td><td>null</td><td>null</td><td>X</td><td>X</td><td>null</td><td>null</td><td>null</td><td>null</td><td>35.013868</td><td>-89.936507</td><td>4950.0</td><td>Getwell Rd</td><td>null</td><td>null</td><td>Memphis</td><td>TN</td><td>Shelby County</td><td>38118.0</td><td>US</td></tr><tr><td>49.0</td><td>Stamback Services</td><td>West</td><td>Arizona</td><td>Tucson</td><td>8939 S Eisenhower Rd Tucson  AZ 85756</td><td>X</td><td>X</td><td>null</td><td>X</td><td>null</td><td>X</td><td>X</td><td>null</td><td>null</td><td>null</td><td>null</td><td>null</td><td>null</td><td>32.089109</td><td>-110.956899</td><td>8939.0</td><td>S Eisenhower Rd</td><td>null</td><td>null</td><td>Tucson</td><td>AZ</td><td>Pima County</td><td>85756.0</td><td>US</td></tr><tr><td>50.0</td><td>Stamback Services</td><td>West</td><td>Arizona</td><td>Wilcox</td><td>1111 E Maley St Willcox  AZ 85643</td><td>X</td><td>X</td><td>null</td><td>null</td><td>null</td><td>X</td><td>X</td><td>null</td><td>null</td><td>null</td><td>null</td><td>null</td><td>null</td><td>32.243469</td><td>-109.818113</td><td>1111.0</td><td>E Maley St</td><td>null</td><td>null</td><td>Willcox</td><td>AZ</td><td>Cochise County</td><td>85643.0</td><td>US</td></tr><tr><td>28.0</td><td>A Clean Portoco</td><td>West</td><td>Texas</td><td>Laredo</td><td>402 Wildcat Dr. Laredo TX 78043 </td><td>X</td><td>X</td><td>X</td><td>null</td><td>null</td><td>null</td><td>null</td><td>null</td><td>null</td><td>null</td><td>null</td><td>null</td><td>null</td><td>27.496295</td><td>-99.453422</td><td>402.0</td><td>Wildcat Dr</td><td>null</td><td>null</td><td>Laredo</td><td>TX</td><td>Webb County</td><td>78043.0</td><td>US</td></tr><tr><td>29.0</td><td>A Clean Portoco</td><td>West</td><td>Texas</td><td>Harlingen</td><td>2206 W Teege Ave Harlingen  TX 78550</td><td>X</td><td>X</td><td>X</td><td>null</td><td>null</td><td>null</td><td>null</td><td>null</td><td>null</td><td>null</td><td>null</td><td>null</td><td>null</td><td>26.200354</td><td>-97.719826</td><td>2206.0</td><td>W Teege Ave</td><td>null</td><td>null</td><td>Harlingen</td><td>TX</td><td>Cameron County</td><td>78550.0</td><td>US</td></tr><tr><td>31.0</td><td>Redi2Go</td><td>West</td><td>Texas</td><td>Martindale</td><td>155 Ladybug Ln Martindale TX 78655</td><td>null</td><td>X</td><td>X</td><td>null</td><td>null</td><td>null</td><td>null</td><td>null</td><td>X</td><td>null</td><td>null</td><td>null</td><td>null</td><td>29.863864</td><td>-97.863737</td><td>155.0</td><td>Lady Bug Ln</td><td>null</td><td>null</td><td>Martindale</td><td>TX</td><td>Caldwell County</td><td>78655.0</td><td>US</td></tr><tr><td>42.0</td><td>Forza Site Services</td><td>West</td><td>Texas</td><td>Lubbock</td><td>73rd St Lubbock  TX 79423</td><td>X</td><td>X</td><td>X</td><td>X</td><td>null</td><td>X</td><td>null</td><td>null</td><td>null</td><td>null</td><td>null</td><td>null</td><td>null</td><td>33.527814</td><td>-101.868328</td><td>null</td><td>73rd St</td><td>null</td><td>null</td><td>Lubbock</td><td>TX</td><td>Lubbock County</td><td>79423.0</td><td>US</td></tr><tr><td>43.0</td><td>Forza Site Services</td><td>West</td><td>Texas</td><td>Kermit</td><td>406 N Oak St Kermit  TX 79745</td><td>X</td><td>X</td><td>X</td><td>X</td><td>null</td><td>X</td><td>null</td><td>null</td><td>null</td><td>null</td><td>null</td><td>null</td><td>null</td><td>31.860687</td><td>-103.095715</td><td>406.0</td><td>N Oak St</td><td>null</td><td>null</td><td>Kermit</td><td>TX</td><td>Winkler County</td><td>79745.0</td><td>US</td></tr><tr><td>44.0</td><td>Forzas Site Services</td><td>West</td><td>Texas</td><td>Midland</td><td>5000 TX-158 Midland  TX 79706</td><td>X</td><td>X</td><td>X</td><td>X</td><td>null</td><td>X</td><td>null</td><td>null</td><td>null</td><td>null</td><td>null</td><td>null</td><td>null</td><td>31.967084</td><td>-101.983375</td><td>5000.0</td><td>State Hwy 158</td><td>null</td><td>null</td><td>Midland</td><td>TX</td><td>Midland County</td><td>79706.0</td><td>US</td></tr><tr><td>45.0</td><td>Forza Site Services</td><td>West</td><td>Texas</td><td>Pecos</td><td>419 S Oak St Pecos  TX 79772</td><td>X</td><td>X</td><td>X</td><td>X</td><td>null</td><td>X</td><td>null</td><td>null</td><td>null</td><td>null</td><td>null</td><td>null</td><td>null</td><td>31.424365</td><td>-103.494939</td><td>419.0</td><td>S Oak St</td><td>null</td><td>null</td><td>Pecos</td><td>TX</td><td>Reeves County</td><td>79772.0</td><td>US</td></tr><tr><td>47.0</td><td>Forza Site Services</td><td>West</td><td>New Mexico</td><td>Las Cruces</td><td>5475 Del Rey Blvd, Las Cruces, NM 88012</td><td>X</td><td>X</td><td>X</td><td>X</td><td>null</td><td>X</td><td>null</td><td>null</td><td>null</td><td>null</td><td>null</td><td>null</td><td>null</td><td>32.388954</td><td>-106.804732</td><td>5475.0</td><td>Del Rey Blvd</td><td>null</td><td>null</td><td>Las Cruces</td><td>NM</td><td>DoÃ±a Ana County</td><td>88012.0</td><td>US</td></tr><tr><td>46.0</td><td>J Bar</td><td>West</td><td>Texas</td><td>Burnet</td><td>2105 S. Water St Burnet  TX</td><td>X</td><td>X</td><td>X</td><td>X</td><td>null</td><td>null</td><td>null</td><td>null</td><td>null</td><td>null</td><td>null</td><td>null</td><td>null</td><td>30.740418</td><td>-98.234061</td><td>2105.0</td><td>S Water St</td><td>null</td><td>null</td><td>Burnet</td><td>TX</td><td>Burnet County</td><td>78611.0</td><td>US</td></tr><tr><td>7.0</td><td>Portable Services</td><td>South Central</td><td>Georgia</td><td>Augusta</td><td>1831 Old Savannah Rd Augusta GA 30901</td><td>X</td><td>X</td><td>null</td><td>null</td><td>null</td><td>null</td><td>null</td><td>null</td><td>null</td><td>null</td><td>null</td><td>null</td><td>null</td><td>33.451075</td><td>-81.987107</td><td>1831.0</td><td>Old Savannah Rd</td><td>null</td><td>null</td><td>Augusta</td><td>GA</td><td>Richmond County</td><td>30901.0</td><td>US</td></tr><tr><td>14.0</td><td>Griffin Waste</td><td>South Central</td><td>North Carolina</td><td>Asheville</td><td>432 Old Leicester Hwy Asheville NC 28806</td><td>X</td><td>X</td><td>null</td><td>X</td><td>null</td><td>null</td><td>null</td><td>null</td><td>null</td><td>null</td><td>null</td><td>null</td><td>null</td><td>35.63133</td><td>-82.619392</td><td>432.0</td><td>Old Leicester Hwy</td><td>null</td><td>null</td><td>Asheville</td><td>NC</td><td>Buncombe County</td><td>28806.0</td><td>US</td></tr><tr><td>13.0</td><td>A Sani-Can</td><td>South Central</td><td>North Carolina</td><td>Denver</td><td>8151 Webbs Rd Denver NC 28037</td><td>X</td><td>X</td><td>null</td><td>X</td><td>X</td><td>X</td><td>null</td><td>null</td><td>null</td><td>null</td><td>null</td><td>null</td><td>null</td><td>35.524003</td><td>-80.98074</td><td>8151.0</td><td>Webbs Rd</td><td>null</td><td>null</td><td>Denver</td><td>NC</td><td>Lincoln County</td><td>28037.0</td><td>US</td></tr><tr><td>26.0</td><td>A Sani-Can</td><td>South Central</td><td>North Carolina</td><td>Greensboro</td><td>2316 Joe Brown Drive Greensboro</td><td>X</td><td>X</td><td>null</td><td>X</td><td>null</td><td>null</td><td>null</td><td>null</td><td>null</td><td>null</td><td>null</td><td>null</td><td>null</td><td>36.123675</td><td>-79.74608</td><td>2316.0</td><td>Joe Brown Dr</td><td>null</td><td>null</td><td>Greensboro</td><td>NC</td><td>Guilford County</td><td>27405.0</td><td>US</td></tr><tr><td>52.0</td><td>A Sani-Can</td><td>South Central</td><td>North Carolina</td><td>Salisbury</td><td>1882 Briggs Rd Salisbury NC 28147</td><td>X</td><td>X</td><td>null</td><td>null</td><td>null</td><td>X</td><td>null</td><td>null</td><td>null</td><td>null</td><td>null</td><td>null</td><td>null</td><td>null</td><td>null</td><td>null</td><td>null</td><td>null</td><td>null</td><td>null</td><td>null</td><td>null</td><td>28147</td><td>null</td></tr><tr><td>39.0</td><td>LittleJohn Portable Toilets</td><td>South Central</td><td>South Carolina</td><td>Greenville</td><td>P.O. Box 8622 Greenville  SC 29604</td><td>X</td><td>`X</td><td>X</td><td>null</td><td>null</td><td>null</td><td>null</td><td>null</td><td>null</td><td>null</td><td>null</td><td>null</td><td>null</td><td>34.848567</td><td>-82.402871</td><td>8622.0</td><td>PO Box</td><td>null</td><td>null</td><td>Greenville</td><td>SC</td><td>Greenville County</td><td>29604.0</td><td>US</td></tr><tr><td>19.0</td><td>Portable Services</td><td>South Central</td><td>South Carolina</td><td>Columbia</td><td>1728 Hard Scrabble Rd Columbia  SC 29203</td><td>X</td><td>X</td><td>null</td><td>null</td><td>null</td><td>null</td><td>null</td><td>null</td><td>null</td><td>null</td><td>null</td><td>null</td><td>null</td><td>34.113987</td><td>-80.967376</td><td>1728.0</td><td>Hard Scrabble Rd</td><td>null</td><td>null</td><td>Columbia</td><td>SC</td><td>Richland County</td><td>29203.0</td><td>US</td></tr><tr><td>21.0</td><td>East Tennessee Portables</td><td>South Central</td><td>Tennessee</td><td>Knoxville</td><td>6618 Rutledge Pike Knoxville Tennessee 37924</td><td>X</td><td>X</td><td>null</td><td>null</td><td>null</td><td>null</td><td>null</td><td>null</td><td>null</td><td>null</td><td>null</td><td>null</td><td>null</td><td>36.042809</td><td>-83.824389</td><td>6618.0</td><td>Rutledge Pike</td><td>null</td><td>null</td><td>Knoxville</td><td>TN</td><td>Knox County</td><td>37924.0</td><td>US</td></tr><tr><td>24.0</td><td>East Tennessee Portables</td><td>South Central</td><td>Tennessee</td><td>Crossville</td><td>988 Crabtree Rd Crossville  TN 38571</td><td>X</td><td>X</td><td>null</td><td>null</td><td>null</td><td>null</td><td>null</td><td>null</td><td>null</td><td>null</td><td>null</td><td>null</td><td>null</td><td>35.991735</td><td>-85.02638</td><td>988.0</td><td>Crabtree Rd</td><td>null</td><td>null</td><td>Crossville</td><td>TN</td><td>Cumberland County</td><td>38571.0</td><td>US</td></tr><tr><td>22.0</td><td>MC Septic</td><td>South Central</td><td>Tennessee</td><td>Greeneville</td><td>250 State St Greeneville TN 37743</td><td>X</td><td>X</td><td>null</td><td>null</td><td>null</td><td>X</td><td>null</td><td>null</td><td>null</td><td>null</td><td>null</td><td>null</td><td>null</td><td>36.173656</td><td>-82.856456</td><td>250.0</td><td>State St</td><td>null</td><td>null</td><td>Greeneville</td><td>TN</td><td>Greene County</td><td>37743.0</td><td>US</td></tr><tr><td>32.0</td><td>R & R Septic & Porta - Toilets</td><td>South Central</td><td>Virginia</td><td>Wytheville</td><td>3572 Peppers Ferry Rd VA 24382</td><td>X</td><td>X</td><td>X</td><td>null</td><td>null</td><td>X</td><td>null</td><td>null</td><td>null</td><td>null</td><td>null</td><td>null</td><td>null</td><td>39.827264</td><td>-84.124066</td><td>null</td><td>Pepper Dr</td><td>null</td><td>null</td><td>Dayton</td><td>VA</td><td>Montgomery County</td><td>24382.0</td><td>US</td></tr><tr><td>3.0</td><td>Freedom Waste Services</td><td>Southeast</td><td>Florida</td><td>Jensen Beach</td><td>940 NE Dixie Highway Jensen Beach Florida 34957</td><td>X</td><td>X</td><td>null</td><td>X</td><td>null</td><td>X</td><td>null</td><td>null</td><td>null</td><td>null</td><td>null</td><td>null</td><td>null</td><td>27.21931</td><td>-80.239958</td><td>940.0</td><td>NE Dixie Hwy</td><td>null</td><td>null</td><td>Jensen Beach</td><td>FL</td><td>Martin County</td><td>34957.0</td><td>US</td></tr><tr><td>4.0</td><td>JW Craft Portable Restrooms</td><td>Southeast</td><td>Florida</td><td>Naples</td><td>4329 Enterprise Ave. Naples  FL 34104</td><td>X</td><td>X</td><td>null</td><td>null</td><td>null</td><td>null</td><td>null</td><td>null</td><td>null</td><td>null</td><td>null</td><td>null</td><td>null</td><td>26.161464</td><td>-81.756482</td><td>4329.0</td><td>Enterprise Ave</td><td>null</td><td>null</td><td>Naples</td><td>FL</td><td>Collier County</td><td>34104.0</td><td>US</td></tr><tr><td>5.0</td><td>Premier Portables/ Prestigious Restrooms</td><td>Southeast</td><td>Florida</td><td>Fort Myers</td><td>5420 Division Dr Fort Myers Florida 33905</td><td>X</td><td>X</td><td>null</td><td>null</td><td>null</td><td>null</td><td>null</td><td>null</td><td>null</td><td>null</td><td>null</td><td>null</td><td>null</td><td>26.66856</td><td>-81.802993</td><td>5420.0</td><td>Division Dr</td><td>null</td><td>null</td><td>Fort Myers</td><td>FL</td><td>Lee County</td><td>33905.0</td><td>US</td></tr><tr><td>33.0</td><td>Porta Serve</td><td>Southeast</td><td>Florida</td><td>Newberry</td><td>25370 NW 8 Lane Newberry FL 32669</td><td>X</td><td>X</td><td>X</td><td>null</td><td>null</td><td>null</td><td>null</td><td>null</td><td>null</td><td>null</td><td>null</td><td>null</td><td>null</td><td>29.656221</td><td>-82.61069</td><td>25370.0</td><td>NW 8th Ln</td><td>null</td><td>null</td><td>Newberry</td><td>FL</td><td>Alachua County</td><td>32669.0</td><td>US</td></tr><tr><td>6.0</td><td>Georgia Container Inc./ Portable Toilets of Georgia</td><td>Southeast</td><td>Georgia</td><td>Carronllton</td><td>175 Miller Academy Rd  Carrollton  GA 30117</td><td>X</td><td>X</td><td>null</td><td>X</td><td>null</td><td>null</td><td>null</td><td>null</td><td>null</td><td>null</td><td>null</td><td>null</td><td>null</td><td>33.632214</td><td>-85.109366</td><td>175.0</td><td>Miller Academy Rd</td><td>null</td><td>null</td><td>Carrollton</td><td>GA</td><td>Carroll County</td><td>30117.0</td><td>US</td></tr><tr><td>34.0</td><td>Fusionsite Services</td><td>Southeast</td><td>Tenneessee</td><td>Nashville</td><td>411 Woodycrest Ave Nashville TN</td><td>X</td><td>X</td><td>X</td><td>X</td><td>null</td><td>null</td><td>null</td><td>null</td><td>null</td><td>X</td><td>X</td><td>null</td><td>null</td><td>36.13829</td><td>-86.752148</td><td>411.0</td><td>Woodycrest Ave</td><td>null</td><td>null</td><td>Nashville</td><td>TN</td><td>Davidson County</td><td>37210.0</td><td>US</td></tr><tr><td>48.0</td><td>Maxwell Septic</td><td>Southeast</td><td>Tennessee</td><td>Gallatin</td><td>695 Nashville Pike Ste 200 Gallatin  TN 37066</td><td>null</td><td>null</td><td>null</td><td>null</td><td>null</td><td>x</td><td>x</td><td>null</td><td>null</td><td>null</td><td>null</td><td>null</td><td>null</td><td>36.380414</td><td>-86.463318</td><td>695.0</td><td>Nashville Pike</td><td>Ste</td><td>200</td><td>Gallatin</td><td>TN</td><td>Sumner County</td><td>37066.0</td><td>US</td></tr><tr><td>30.0</td><td>The Bolles Company</td><td>Southeast</td><td>Tennessee</td><td>Chattanooga</td><td>1850 W Polymer Dr Chattanooga  TN 37421</td><td>X</td><td>X</td><td>null</td><td>null</td><td>null</td><td>null</td><td>null</td><td>null</td><td>null</td><td>X</td><td>X</td><td>null</td><td>null</td><td>35.039867</td><td>-85.194757</td><td>1850.0</td><td>W Polymer Dr</td><td>null</td><td>null</td><td>Chattanooga</td><td>TN</td><td>Hamilton County</td><td>37421.0</td><td>US</td></tr><tr><td>41.0</td><td>FusionSite - Cedar Rapids</td><td>North</td><td>Iowa</td><td>Cedar Rapids</td><td>5910 4th St SW Cedar Rapids  IA 52404</td><td>X</td><td>X</td><td>X</td><td>null</td><td>null</td><td>null</td><td>null</td><td>null</td><td>null</td><td>null</td><td>null</td><td>null</td><td>null</td><td>41.920655</td><td>-91.67345</td><td>5910.0</td><td>4th St SW</td><td>null</td><td>null</td><td>Cedar Rapids</td><td>IA</td><td>Linn County</td><td>52404.0</td><td>US</td></tr><tr><td>10.0</td><td>Blue Moon Restrooms</td><td>North</td><td>Kentucky</td><td>Nicholasville</td><td>109 Means Dr  Nicholasville  KY 40356</td><td>X</td><td>X</td><td>null</td><td>X</td><td>null</td><td>null</td><td>null</td><td>null</td><td>null</td><td>null</td><td>null</td><td>null</td><td>null</td><td>37.941486</td><td>-84.55274</td><td>109.0</td><td>Means Dr</td><td>null</td><td>null</td><td>Nicholasville</td><td>KY</td><td>Jessamine County</td><td>40356.0</td><td>US</td></tr><tr><td>9.0</td><td>Bullitt Septic Service</td><td>North</td><td>Kentucky</td><td>Shepherdsville</td><td>204-D Old Ford Rd  Shepherdsville  KY 40165</td><td>X</td><td>X</td><td>null</td><td>null</td><td>null</td><td>X</td><td>X</td><td>null</td><td>null</td><td>null</td><td>null</td><td>null</td><td>null</td><td>37.980807</td><td>-85.725926</td><td>204.0</td><td>Old Ford Rd</td><td>null</td><td>null</td><td>Shepherdsville</td><td>KY</td><td>Bullitt County</td><td>40165.0</td><td>US</td></tr><tr><td>8.0</td><td>Moon Companies</td><td>North</td><td>Kentucky</td><td>Louisville</td><td>2021 Dubourg Ave Louisville KY 40216</td><td>X</td><td>X</td><td>X</td><td>X</td><td>null</td><td>null</td><td>X</td><td>null</td><td>null</td><td>X</td><td>X</td><td>X</td><td>X</td><td>38.211012</td><td>-85.804432</td><td>2021.0</td><td>Dubourg Ave</td><td>null</td><td>null</td><td>Louisville</td><td>KY</td><td>Jefferson County</td><td>40216.0</td><td>US</td></tr><tr><td>12.0</td><td>A. John/A1 Portable Toilets</td><td>North</td><td>New York</td><td>Walden</td><td>901 Route 52 Walden NY 12586</td><td>X</td><td>X</td><td>X</td><td>null</td><td>null</td><td>null</td><td>null</td><td>null</td><td>null</td><td>null</td><td>null</td><td>null</td><td>null</td><td>41.558348</td><td>-74.161866</td><td>901.0</td><td>State Route 52</td><td>null</td><td>null</td><td>Walden</td><td>NY</td><td>Orange County</td><td>12586.0</td><td>US</td></tr><tr><td>15.0</td><td>C&L Sanitation; Safe-Way Barricades</td><td>North</td><td>Ohio</td><td>Perrysburg</td><td>27545 Glenwood Rd Perrysburg OH 43551</td><td>X</td><td>X</td><td>X</td><td>null</td><td>null</td><td>X</td><td>null</td><td>null</td><td>X</td><td>null</td><td>null</td><td>null</td><td>null</td><td>41.551664</td><td>-83.557511</td><td>27545.0</td><td>Glenwood Rd</td><td>null</td><td>null</td><td>Perrysburg</td><td>OH</td><td>Wood County</td><td>43551.0</td><td>US</td></tr><tr><td>16.0</td><td>Rent-A-John</td><td>North</td><td>Ohio</td><td>Columbus</td><td>4522 Lockbourne Rd  Columbus  OH 43207</td><td>X</td><td>X</td><td>X</td><td>null</td><td>null</td><td>null</td><td>null</td><td>null</td><td>null</td><td>null</td><td>null</td><td>null</td><td>null</td><td>39.871202</td><td>-82.967868</td><td>4522.0</td><td>Lockbourne Rd</td><td>null</td><td>null</td><td>Columbus</td><td>OH</td><td>Franklin County</td><td>43207.0</td><td>US</td></tr><tr><td>18.0</td><td>Port A Bowl Restroom Co</td><td>North</td><td>Pennsylvania</td><td>Plumsteadville</td><td>5519 Old Easton Rd  Plumsteadville  PA 18949</td><td>X</td><td>X</td><td>null</td><td>null</td><td>null</td><td>X</td><td>null</td><td>null</td><td>null</td><td>null</td><td>null</td><td>null</td><td>null</td><td>40.38123</td><td>-75.145335</td><td>5707.0</td><td>Easton Rd</td><td>null</td><td>null</td><td>Plumsteadville</td><td>PA</td><td>Bucks County</td><td>18949.0</td><td>US</td></tr><tr><td>17.0</td><td>Ace Disposal</td><td>North</td><td>Pennsylvania</td><td>Malvern</td><td>1133 W Valley Hill Rd Malvern  PA 19355</td><td>X</td><td>X</td><td>null</td><td>null</td><td>null</td><td>null</td><td>null</td><td>null</td><td>null</td><td>null</td><td>null</td><td>null</td><td>null</td><td>40.054339</td><td>-75.60434</td><td>1133.0</td><td>W Valley Hill Rd</td><td>null</td><td>null</td><td>Malvern</td><td>PA</td><td>Chester County</td><td>19355.0</td><td>US</td></tr><tr><td>25.0</td><td>Bucky's Restrooms</td><td>North</td><td>Wisconsin</td><td>Fitchburg</td><td>2186 Co Hwy MM Fitchburg  WI 53575</td><td>X</td><td>X</td><td>null</td><td>X</td><td>null</td><td>null</td><td>null</td><td>null</td><td>null</td><td>null</td><td>null</td><td>null</td><td>null</td><td>42.973084</td><td>-89.371609</td><td>2186.0</td><td>County Rd Mm</td><td>null</td><td>null</td><td>Fitchburg</td><td>WI</td><td>Dane County</td><td>53575.0</td><td>US</td></tr><tr><td>27.0</td><td>Stranders Sanitary</td><td>North</td><td>Wisconsin</td><td>Madison</td><td>N2535 Co Rd V Lodi  WI 53555</td><td>X</td><td>X</td><td>null</td><td>X</td><td>null</td><td>X</td><td>null</td><td>null</td><td>null</td><td>null</td><td>null</td><td>null</td><td>null</td><td>43.367495</td><td>-89.519295</td><td>NaN</td><td>County Rd V</td><td>null</td><td>null</td><td>Lodi</td><td>WI</td><td>Columbia County</td><td>53555.0</td><td>US</td></tr><tr><td>51.0</td><td>SAN ANGELO- TOPS SEPTIC</td><td>null</td><td>Texas</td><td>San Angelo</td><td>null</td><td>null</td><td>null</td><td>null</td><td>null</td><td>null</td><td>null</td><td>null</td><td>null</td><td>null</td><td>null</td><td>null</td><td>null</td><td>null</td><td>31.49987</td><td>-100.31583</td><td>null</td><td>null</td><td>null</td><td>null</td><td>null</td><td>null</td><td>Tom Green County</td><td>76905.0</td><td>null</td></tr></tbody></table></div>"
      ]
     },
     "metadata": {
      "application/vnd.databricks.v1+output": {
       "addedWidgets": {},
       "aggData": [],
       "aggError": "",
       "aggOverflow": false,
       "aggSchema": [],
       "aggSeriesLimitReached": false,
       "aggType": "",
       "arguments": {},
       "columnCustomDisplayInfos": {},
       "data": [
        [
         1.0,
         "Arkansas Portable Toilets",
         "Gulf South",
         "Arkansas",
         "Little Rock",
         "924 W 15th St. N Little Rock Arkansas 72114",
         "X",
         "X",
         "X",
         "X",
         null,
         null,
         null,
         null,
         null,
         null,
         null,
         null,
         null,
         34.768452,
         -92.277291,
         924.0,
         "W 15th St",
         null,
         null,
         "North Little Rock",
         "AR",
         "Pulaski County",
         "72114.0",
         "US"
        ],
        [
         2.0,
         "Arkansas Portable Toilets",
         "Gulf South",
         "Arkansas",
         "Fayetteville",
         "1975 Morningside Dr Fayetteville AR 72701",
         "X",
         "X",
         "X",
         "X",
         null,
         null,
         null,
         null,
         null,
         null,
         null,
         null,
         null,
         36.042659,
         -94.150036,
         1975.0,
         "S Morningside Dr",
         null,
         null,
         "Fayetteville",
         "AR",
         "Washington County",
         "72701.0",
         "US"
        ],
        [
         11.0,
         "Gotta Go Site Service Rentals",
         "Gulf South",
         "Mississippi",
         "Jackson",
         "120 US 49 N  Jackson  MS 39209",
         "X",
         "X",
         null,
         "X",
         null,
         null,
         null,
         null,
         null,
         null,
         null,
         null,
         null,
         32.488432,
         -90.292417,
         120.0,
         "US-49",
         null,
         null,
         "Jackson",
         "MS",
         "Madison County",
         "39209.0",
         "US"
        ],
        [
         40.0,
         "American Johnny",
         "Gulf South",
         "Mississippi",
         "Satillo",
         "242 Old Saltillo Rd  Satillo MS 38866",
         null,
         null,
         null,
         null,
         null,
         null,
         null,
         null,
         null,
         null,
         null,
         null,
         null,
         34.363529,
         -88.686359,
         242.0,
         "Old Saltillo Rd",
         null,
         null,
         "Saltillo",
         "MS",
         "Lee County",
         "38866.0",
         "US"
        ],
        [
         23.0,
         "Safety-Quip Portable Toilets",
         "Gulf South",
         "Tennessee",
         "Memphis",
         "4950 Getwell Rd. Memphis TN 38118",
         "X",
         "X",
         null,
         null,
         null,
         null,
         null,
         "X",
         "X",
         null,
         null,
         null,
         null,
         35.013868,
         -89.936507,
         4950.0,
         "Getwell Rd",
         null,
         null,
         "Memphis",
         "TN",
         "Shelby County",
         "38118.0",
         "US"
        ],
        [
         49.0,
         "Stamback Services",
         "West",
         "Arizona",
         "Tucson",
         "8939 S Eisenhower Rd Tucson  AZ 85756",
         "X",
         "X",
         null,
         "X",
         null,
         "X",
         "X",
         null,
         null,
         null,
         null,
         null,
         null,
         32.089109,
         -110.956899,
         8939.0,
         "S Eisenhower Rd",
         null,
         null,
         "Tucson",
         "AZ",
         "Pima County",
         "85756.0",
         "US"
        ],
        [
         50.0,
         "Stamback Services",
         "West",
         "Arizona",
         "Wilcox",
         "1111 E Maley St Willcox  AZ 85643",
         "X",
         "X",
         null,
         null,
         null,
         "X",
         "X",
         null,
         null,
         null,
         null,
         null,
         null,
         32.243469,
         -109.818113,
         1111.0,
         "E Maley St",
         null,
         null,
         "Willcox",
         "AZ",
         "Cochise County",
         "85643.0",
         "US"
        ],
        [
         28.0,
         "A Clean Portoco",
         "West",
         "Texas",
         "Laredo",
         "402 Wildcat Dr. Laredo TX 78043 ",
         "X",
         "X",
         "X",
         null,
         null,
         null,
         null,
         null,
         null,
         null,
         null,
         null,
         null,
         27.496295,
         -99.453422,
         402.0,
         "Wildcat Dr",
         null,
         null,
         "Laredo",
         "TX",
         "Webb County",
         "78043.0",
         "US"
        ],
        [
         29.0,
         "A Clean Portoco",
         "West",
         "Texas",
         "Harlingen",
         "2206 W Teege Ave Harlingen  TX 78550",
         "X",
         "X",
         "X",
         null,
         null,
         null,
         null,
         null,
         null,
         null,
         null,
         null,
         null,
         26.200354,
         -97.719826,
         2206.0,
         "W Teege Ave",
         null,
         null,
         "Harlingen",
         "TX",
         "Cameron County",
         "78550.0",
         "US"
        ],
        [
         31.0,
         "Redi2Go",
         "West",
         "Texas",
         "Martindale",
         "155 Ladybug Ln Martindale TX 78655",
         null,
         "X",
         "X",
         null,
         null,
         null,
         null,
         null,
         "X",
         null,
         null,
         null,
         null,
         29.863864,
         -97.863737,
         155.0,
         "Lady Bug Ln",
         null,
         null,
         "Martindale",
         "TX",
         "Caldwell County",
         "78655.0",
         "US"
        ],
        [
         42.0,
         "Forza Site Services",
         "West",
         "Texas",
         "Lubbock",
         "73rd St Lubbock  TX 79423",
         "X",
         "X",
         "X",
         "X",
         null,
         "X",
         null,
         null,
         null,
         null,
         null,
         null,
         null,
         33.527814,
         -101.868328,
         null,
         "73rd St",
         null,
         null,
         "Lubbock",
         "TX",
         "Lubbock County",
         "79423.0",
         "US"
        ],
        [
         43.0,
         "Forza Site Services",
         "West",
         "Texas",
         "Kermit",
         "406 N Oak St Kermit  TX 79745",
         "X",
         "X",
         "X",
         "X",
         null,
         "X",
         null,
         null,
         null,
         null,
         null,
         null,
         null,
         31.860687,
         -103.095715,
         406.0,
         "N Oak St",
         null,
         null,
         "Kermit",
         "TX",
         "Winkler County",
         "79745.0",
         "US"
        ],
        [
         44.0,
         "Forzas Site Services",
         "West",
         "Texas",
         "Midland",
         "5000 TX-158 Midland  TX 79706",
         "X",
         "X",
         "X",
         "X",
         null,
         "X",
         null,
         null,
         null,
         null,
         null,
         null,
         null,
         31.967084,
         -101.983375,
         5000.0,
         "State Hwy 158",
         null,
         null,
         "Midland",
         "TX",
         "Midland County",
         "79706.0",
         "US"
        ],
        [
         45.0,
         "Forza Site Services",
         "West",
         "Texas",
         "Pecos",
         "419 S Oak St Pecos  TX 79772",
         "X",
         "X",
         "X",
         "X",
         null,
         "X",
         null,
         null,
         null,
         null,
         null,
         null,
         null,
         31.424365,
         -103.494939,
         419.0,
         "S Oak St",
         null,
         null,
         "Pecos",
         "TX",
         "Reeves County",
         "79772.0",
         "US"
        ],
        [
         47.0,
         "Forza Site Services",
         "West",
         "New Mexico",
         "Las Cruces",
         "5475 Del Rey Blvd, Las Cruces, NM 88012",
         "X",
         "X",
         "X",
         "X",
         null,
         "X",
         null,
         null,
         null,
         null,
         null,
         null,
         null,
         32.388954,
         -106.804732,
         5475.0,
         "Del Rey Blvd",
         null,
         null,
         "Las Cruces",
         "NM",
         "DoÃ±a Ana County",
         "88012.0",
         "US"
        ],
        [
         46.0,
         "J Bar",
         "West",
         "Texas",
         "Burnet",
         "2105 S. Water St Burnet  TX",
         "X",
         "X",
         "X",
         "X",
         null,
         null,
         null,
         null,
         null,
         null,
         null,
         null,
         null,
         30.740418,
         -98.234061,
         2105.0,
         "S Water St",
         null,
         null,
         "Burnet",
         "TX",
         "Burnet County",
         "78611.0",
         "US"
        ],
        [
         7.0,
         "Portable Services",
         "South Central",
         "Georgia",
         "Augusta",
         "1831 Old Savannah Rd Augusta GA 30901",
         "X",
         "X",
         null,
         null,
         null,
         null,
         null,
         null,
         null,
         null,
         null,
         null,
         null,
         33.451075,
         -81.987107,
         1831.0,
         "Old Savannah Rd",
         null,
         null,
         "Augusta",
         "GA",
         "Richmond County",
         "30901.0",
         "US"
        ],
        [
         14.0,
         "Griffin Waste",
         "South Central",
         "North Carolina",
         "Asheville",
         "432 Old Leicester Hwy Asheville NC 28806",
         "X",
         "X",
         null,
         "X",
         null,
         null,
         null,
         null,
         null,
         null,
         null,
         null,
         null,
         35.63133,
         -82.619392,
         432.0,
         "Old Leicester Hwy",
         null,
         null,
         "Asheville",
         "NC",
         "Buncombe County",
         "28806.0",
         "US"
        ],
        [
         13.0,
         "A Sani-Can",
         "South Central",
         "North Carolina",
         "Denver",
         "8151 Webbs Rd Denver NC 28037",
         "X",
         "X",
         null,
         "X",
         "X",
         "X",
         null,
         null,
         null,
         null,
         null,
         null,
         null,
         35.524003,
         -80.98074,
         8151.0,
         "Webbs Rd",
         null,
         null,
         "Denver",
         "NC",
         "Lincoln County",
         "28037.0",
         "US"
        ],
        [
         26.0,
         "A Sani-Can",
         "South Central",
         "North Carolina",
         "Greensboro",
         "2316 Joe Brown Drive Greensboro",
         "X",
         "X",
         null,
         "X",
         null,
         null,
         null,
         null,
         null,
         null,
         null,
         null,
         null,
         36.123675,
         -79.74608,
         2316.0,
         "Joe Brown Dr",
         null,
         null,
         "Greensboro",
         "NC",
         "Guilford County",
         "27405.0",
         "US"
        ],
        [
         52.0,
         "A Sani-Can",
         "South Central",
         "North Carolina",
         "Salisbury",
         "1882 Briggs Rd Salisbury NC 28147",
         "X",
         "X",
         null,
         null,
         null,
         "X",
         null,
         null,
         null,
         null,
         null,
         null,
         null,
         null,
         null,
         null,
         null,
         null,
         null,
         null,
         null,
         null,
         "28147",
         null
        ],
        [
         39.0,
         "LittleJohn Portable Toilets",
         "South Central",
         "South Carolina",
         "Greenville",
         "P.O. Box 8622 Greenville  SC 29604",
         "X",
         "`X",
         "X",
         null,
         null,
         null,
         null,
         null,
         null,
         null,
         null,
         null,
         null,
         34.848567,
         -82.402871,
         8622.0,
         "PO Box",
         null,
         null,
         "Greenville",
         "SC",
         "Greenville County",
         "29604.0",
         "US"
        ],
        [
         19.0,
         "Portable Services",
         "South Central",
         "South Carolina",
         "Columbia",
         "1728 Hard Scrabble Rd Columbia  SC 29203",
         "X",
         "X",
         null,
         null,
         null,
         null,
         null,
         null,
         null,
         null,
         null,
         null,
         null,
         34.113987,
         -80.967376,
         1728.0,
         "Hard Scrabble Rd",
         null,
         null,
         "Columbia",
         "SC",
         "Richland County",
         "29203.0",
         "US"
        ],
        [
         21.0,
         "East Tennessee Portables",
         "South Central",
         "Tennessee",
         "Knoxville",
         "6618 Rutledge Pike Knoxville Tennessee 37924",
         "X",
         "X",
         null,
         null,
         null,
         null,
         null,
         null,
         null,
         null,
         null,
         null,
         null,
         36.042809,
         -83.824389,
         6618.0,
         "Rutledge Pike",
         null,
         null,
         "Knoxville",
         "TN",
         "Knox County",
         "37924.0",
         "US"
        ],
        [
         24.0,
         "East Tennessee Portables",
         "South Central",
         "Tennessee",
         "Crossville",
         "988 Crabtree Rd Crossville  TN 38571",
         "X",
         "X",
         null,
         null,
         null,
         null,
         null,
         null,
         null,
         null,
         null,
         null,
         null,
         35.991735,
         -85.02638,
         988.0,
         "Crabtree Rd",
         null,
         null,
         "Crossville",
         "TN",
         "Cumberland County",
         "38571.0",
         "US"
        ],
        [
         22.0,
         "MC Septic",
         "South Central",
         "Tennessee",
         "Greeneville",
         "250 State St Greeneville TN 37743",
         "X",
         "X",
         null,
         null,
         null,
         "X",
         null,
         null,
         null,
         null,
         null,
         null,
         null,
         36.173656,
         -82.856456,
         250.0,
         "State St",
         null,
         null,
         "Greeneville",
         "TN",
         "Greene County",
         "37743.0",
         "US"
        ],
        [
         32.0,
         "R & R Septic & Porta - Toilets",
         "South Central",
         "Virginia",
         "Wytheville",
         "3572 Peppers Ferry Rd VA 24382",
         "X",
         "X",
         "X",
         null,
         null,
         "X",
         null,
         null,
         null,
         null,
         null,
         null,
         null,
         39.827264,
         -84.124066,
         null,
         "Pepper Dr",
         null,
         null,
         "Dayton",
         "VA",
         "Montgomery County",
         "24382.0",
         "US"
        ],
        [
         3.0,
         "Freedom Waste Services",
         "Southeast",
         "Florida",
         "Jensen Beach",
         "940 NE Dixie Highway Jensen Beach Florida 34957",
         "X",
         "X",
         null,
         "X",
         null,
         "X",
         null,
         null,
         null,
         null,
         null,
         null,
         null,
         27.21931,
         -80.239958,
         940.0,
         "NE Dixie Hwy",
         null,
         null,
         "Jensen Beach",
         "FL",
         "Martin County",
         "34957.0",
         "US"
        ],
        [
         4.0,
         "JW Craft Portable Restrooms",
         "Southeast",
         "Florida",
         "Naples",
         "4329 Enterprise Ave. Naples  FL 34104",
         "X",
         "X",
         null,
         null,
         null,
         null,
         null,
         null,
         null,
         null,
         null,
         null,
         null,
         26.161464,
         -81.756482,
         4329.0,
         "Enterprise Ave",
         null,
         null,
         "Naples",
         "FL",
         "Collier County",
         "34104.0",
         "US"
        ],
        [
         5.0,
         "Premier Portables/ Prestigious Restrooms",
         "Southeast",
         "Florida",
         "Fort Myers",
         "5420 Division Dr Fort Myers Florida 33905",
         "X",
         "X",
         null,
         null,
         null,
         null,
         null,
         null,
         null,
         null,
         null,
         null,
         null,
         26.66856,
         -81.802993,
         5420.0,
         "Division Dr",
         null,
         null,
         "Fort Myers",
         "FL",
         "Lee County",
         "33905.0",
         "US"
        ],
        [
         33.0,
         "Porta Serve",
         "Southeast",
         "Florida",
         "Newberry",
         "25370 NW 8 Lane Newberry FL 32669",
         "X",
         "X",
         "X",
         null,
         null,
         null,
         null,
         null,
         null,
         null,
         null,
         null,
         null,
         29.656221,
         -82.61069,
         25370.0,
         "NW 8th Ln",
         null,
         null,
         "Newberry",
         "FL",
         "Alachua County",
         "32669.0",
         "US"
        ],
        [
         6.0,
         "Georgia Container Inc./ Portable Toilets of Georgia",
         "Southeast",
         "Georgia",
         "Carronllton",
         "175 Miller Academy Rd  Carrollton  GA 30117",
         "X",
         "X",
         null,
         "X",
         null,
         null,
         null,
         null,
         null,
         null,
         null,
         null,
         null,
         33.632214,
         -85.109366,
         175.0,
         "Miller Academy Rd",
         null,
         null,
         "Carrollton",
         "GA",
         "Carroll County",
         "30117.0",
         "US"
        ],
        [
         34.0,
         "Fusionsite Services",
         "Southeast",
         "Tenneessee",
         "Nashville",
         "411 Woodycrest Ave Nashville TN",
         "X",
         "X",
         "X",
         "X",
         null,
         null,
         null,
         null,
         null,
         "X",
         "X",
         null,
         null,
         36.13829,
         -86.752148,
         411.0,
         "Woodycrest Ave",
         null,
         null,
         "Nashville",
         "TN",
         "Davidson County",
         "37210.0",
         "US"
        ],
        [
         48.0,
         "Maxwell Septic",
         "Southeast",
         "Tennessee",
         "Gallatin",
         "695 Nashville Pike Ste 200 Gallatin  TN 37066",
         null,
         null,
         null,
         null,
         null,
         "x",
         "x",
         null,
         null,
         null,
         null,
         null,
         null,
         36.380414,
         -86.463318,
         695.0,
         "Nashville Pike",
         "Ste",
         "200",
         "Gallatin",
         "TN",
         "Sumner County",
         "37066.0",
         "US"
        ],
        [
         30.0,
         "The Bolles Company",
         "Southeast",
         "Tennessee",
         "Chattanooga",
         "1850 W Polymer Dr Chattanooga  TN 37421",
         "X",
         "X",
         null,
         null,
         null,
         null,
         null,
         null,
         null,
         "X",
         "X",
         null,
         null,
         35.039867,
         -85.194757,
         1850.0,
         "W Polymer Dr",
         null,
         null,
         "Chattanooga",
         "TN",
         "Hamilton County",
         "37421.0",
         "US"
        ],
        [
         41.0,
         "FusionSite - Cedar Rapids",
         "North",
         "Iowa",
         "Cedar Rapids",
         "5910 4th St SW Cedar Rapids  IA 52404",
         "X",
         "X",
         "X",
         null,
         null,
         null,
         null,
         null,
         null,
         null,
         null,
         null,
         null,
         41.920655,
         -91.67345,
         5910.0,
         "4th St SW",
         null,
         null,
         "Cedar Rapids",
         "IA",
         "Linn County",
         "52404.0",
         "US"
        ],
        [
         10.0,
         "Blue Moon Restrooms",
         "North",
         "Kentucky",
         "Nicholasville",
         "109 Means Dr  Nicholasville  KY 40356",
         "X",
         "X",
         null,
         "X",
         null,
         null,
         null,
         null,
         null,
         null,
         null,
         null,
         null,
         37.941486,
         -84.55274,
         109.0,
         "Means Dr",
         null,
         null,
         "Nicholasville",
         "KY",
         "Jessamine County",
         "40356.0",
         "US"
        ],
        [
         9.0,
         "Bullitt Septic Service",
         "North",
         "Kentucky",
         "Shepherdsville",
         "204-D Old Ford Rd  Shepherdsville  KY 40165",
         "X",
         "X",
         null,
         null,
         null,
         "X",
         "X",
         null,
         null,
         null,
         null,
         null,
         null,
         37.980807,
         -85.725926,
         204.0,
         "Old Ford Rd",
         null,
         null,
         "Shepherdsville",
         "KY",
         "Bullitt County",
         "40165.0",
         "US"
        ],
        [
         8.0,
         "Moon Companies",
         "North",
         "Kentucky",
         "Louisville",
         "2021 Dubourg Ave Louisville KY 40216",
         "X",
         "X",
         "X",
         "X",
         null,
         null,
         "X",
         null,
         null,
         "X",
         "X",
         "X",
         "X",
         38.211012,
         -85.804432,
         2021.0,
         "Dubourg Ave",
         null,
         null,
         "Louisville",
         "KY",
         "Jefferson County",
         "40216.0",
         "US"
        ],
        [
         12.0,
         "A. John/A1 Portable Toilets",
         "North",
         "New York",
         "Walden",
         "901 Route 52 Walden NY 12586",
         "X",
         "X",
         "X",
         null,
         null,
         null,
         null,
         null,
         null,
         null,
         null,
         null,
         null,
         41.558348,
         -74.161866,
         901.0,
         "State Route 52",
         null,
         null,
         "Walden",
         "NY",
         "Orange County",
         "12586.0",
         "US"
        ],
        [
         15.0,
         "C&L Sanitation; Safe-Way Barricades",
         "North",
         "Ohio",
         "Perrysburg",
         "27545 Glenwood Rd Perrysburg OH 43551",
         "X",
         "X",
         "X",
         null,
         null,
         "X",
         null,
         null,
         "X",
         null,
         null,
         null,
         null,
         41.551664,
         -83.557511,
         27545.0,
         "Glenwood Rd",
         null,
         null,
         "Perrysburg",
         "OH",
         "Wood County",
         "43551.0",
         "US"
        ],
        [
         16.0,
         "Rent-A-John",
         "North",
         "Ohio",
         "Columbus",
         "4522 Lockbourne Rd  Columbus  OH 43207",
         "X",
         "X",
         "X",
         null,
         null,
         null,
         null,
         null,
         null,
         null,
         null,
         null,
         null,
         39.871202,
         -82.967868,
         4522.0,
         "Lockbourne Rd",
         null,
         null,
         "Columbus",
         "OH",
         "Franklin County",
         "43207.0",
         "US"
        ],
        [
         18.0,
         "Port A Bowl Restroom Co",
         "North",
         "Pennsylvania",
         "Plumsteadville",
         "5519 Old Easton Rd  Plumsteadville  PA 18949",
         "X",
         "X",
         null,
         null,
         null,
         "X",
         null,
         null,
         null,
         null,
         null,
         null,
         null,
         40.38123,
         -75.145335,
         5707.0,
         "Easton Rd",
         null,
         null,
         "Plumsteadville",
         "PA",
         "Bucks County",
         "18949.0",
         "US"
        ],
        [
         17.0,
         "Ace Disposal",
         "North",
         "Pennsylvania",
         "Malvern",
         "1133 W Valley Hill Rd Malvern  PA 19355",
         "X",
         "X",
         null,
         null,
         null,
         null,
         null,
         null,
         null,
         null,
         null,
         null,
         null,
         40.054339,
         -75.60434,
         1133.0,
         "W Valley Hill Rd",
         null,
         null,
         "Malvern",
         "PA",
         "Chester County",
         "19355.0",
         "US"
        ],
        [
         25.0,
         "Bucky's Restrooms",
         "North",
         "Wisconsin",
         "Fitchburg",
         "2186 Co Hwy MM Fitchburg  WI 53575",
         "X",
         "X",
         null,
         "X",
         null,
         null,
         null,
         null,
         null,
         null,
         null,
         null,
         null,
         42.973084,
         -89.371609,
         2186.0,
         "County Rd Mm",
         null,
         null,
         "Fitchburg",
         "WI",
         "Dane County",
         "53575.0",
         "US"
        ],
        [
         27.0,
         "Stranders Sanitary",
         "North",
         "Wisconsin",
         "Madison",
         "N2535 Co Rd V Lodi  WI 53555",
         "X",
         "X",
         null,
         "X",
         null,
         "X",
         null,
         null,
         null,
         null,
         null,
         null,
         null,
         43.367495,
         -89.519295,
         "NaN",
         "County Rd V",
         null,
         null,
         "Lodi",
         "WI",
         "Columbia County",
         "53555.0",
         "US"
        ],
        [
         51.0,
         "SAN ANGELO- TOPS SEPTIC",
         null,
         "Texas",
         "San Angelo",
         null,
         null,
         null,
         null,
         null,
         null,
         null,
         null,
         null,
         null,
         null,
         null,
         null,
         null,
         31.49987,
         -100.31583,
         null,
         null,
         null,
         null,
         null,
         null,
         "Tom Green County",
         "76905.0",
         null
        ]
       ],
       "datasetInfos": [],
       "dbfsResultPath": null,
       "isJsonSchema": true,
       "metadata": {},
       "overflow": false,
       "plotOptions": {
        "customPlotOptions": {},
        "displayType": "table",
        "pivotAggregation": null,
        "pivotColumns": null,
        "xColumns": null,
        "yColumns": null
       },
       "removedWidgets": [],
       "schema": [
        {
         "metadata": "{}",
         "name": "ID",
         "type": "\"double\""
        },
        {
         "metadata": "{}",
         "name": "Brand",
         "type": "\"string\""
        },
        {
         "metadata": "{}",
         "name": "Region",
         "type": "\"string\""
        },
        {
         "metadata": "{}",
         "name": "State3",
         "type": "\"string\""
        },
        {
         "metadata": "{}",
         "name": "City4",
         "type": "\"string\""
        },
        {
         "metadata": "{}",
         "name": "Address",
         "type": "\"string\""
        },
        {
         "metadata": "{}",
         "name": "PR",
         "type": "\"string\""
        },
        {
         "metadata": "{}",
         "name": "RRT",
         "type": "\"string\""
        },
        {
         "metadata": "{}",
         "name": "Shower",
         "type": "\"string\""
        },
        {
         "metadata": "{}",
         "name": "RO",
         "type": "\"string\""
        },
        {
         "metadata": "{}",
         "name": "Front Loader",
         "type": "\"string\""
        },
        {
         "metadata": "{}",
         "name": "Septic",
         "type": "\"string\""
        },
        {
         "metadata": "{}",
         "name": "Grease",
         "type": "\"string\""
        },
        {
         "metadata": "{}",
         "name": "Concrete",
         "type": "\"string\""
        },
        {
         "metadata": "{}",
         "name": "S&B",
         "type": "\"string\""
        },
        {
         "metadata": "{}",
         "name": "Conex",
         "type": "\"string\""
        },
        {
         "metadata": "{}",
         "name": "Mobile Offices",
         "type": "\"string\""
        },
        {
         "metadata": "{}",
         "name": "Res Storage",
         "type": "\"string\""
        },
        {
         "metadata": "{}",
         "name": "Refrigeration",
         "type": "\"string\""
        },
        {
         "metadata": "{}",
         "name": "Latitude",
         "type": "\"double\""
        },
        {
         "metadata": "{}",
         "name": "Longitude",
         "type": "\"double\""
        },
        {
         "metadata": "{}",
         "name": "Number",
         "type": "\"double\""
        },
        {
         "metadata": "{}",
         "name": "Street",
         "type": "\"string\""
        },
        {
         "metadata": "{}",
         "name": "Unit Type",
         "type": "\"string\""
        },
        {
         "metadata": "{}",
         "name": "Unit Number",
         "type": "\"string\""
        },
        {
         "metadata": "{}",
         "name": "City25",
         "type": "\"string\""
        },
        {
         "metadata": "{}",
         "name": "State26",
         "type": "\"string\""
        },
        {
         "metadata": "{}",
         "name": "County",
         "type": "\"string\""
        },
        {
         "metadata": "{}",
         "name": "Zip",
         "type": "\"string\""
        },
        {
         "metadata": "{}",
         "name": "Country",
         "type": "\"string\""
        }
       ],
       "type": "table"
      }
     },
     "output_type": "display_data"
    }
   ],
   "source": [
    "display(fusionsite_regional_df)"
   ]
  },
  {
   "cell_type": "code",
   "execution_count": 0,
   "metadata": {
    "application/vnd.databricks.v1+cell": {
     "cellMetadata": {
      "byteLimit": 2048000,
      "rowLimit": 10000
     },
     "inputWidgets": {},
     "nuid": "a2fd6014-e754-45bb-9103-15ddff5a8257",
     "showTitle": false,
     "tableResultSettingsMap": {},
     "title": ""
    }
   },
   "outputs": [],
   "source": [
    "# Drop rows from site_radius_by_zip_code where ID is null\n",
    "fusionsite_regional_df = fusionsite_regional_df.filter(F.col(\"ID\").isNotNull())"
   ]
  },
  {
   "cell_type": "code",
   "execution_count": 0,
   "metadata": {
    "application/vnd.databricks.v1+cell": {
     "cellMetadata": {
      "byteLimit": 2048000,
      "rowLimit": 10000
     },
     "inputWidgets": {},
     "nuid": "ec3af18c-e58d-47d3-9480-4d80ccf1c8f7",
     "showTitle": false,
     "tableResultSettingsMap": {},
     "title": ""
    }
   },
   "outputs": [
    {
     "output_type": "stream",
     "name": "stdout",
     "output_type": "stream",
     "text": [
      "Joining datasets...\nCross join complete with 1588271 rows\n"
     ]
    }
   ],
   "source": [
    "# Rename columns to match the target schema\n",
    "target_info_renamed = target_info.select(\n",
    "    F.col(ZIP_FIELD).alias(\"target_zip\"),\n",
    "    F.col(\"latitude\").alias(\"target_lat\"),\n",
    "    F.col(\"longitude\").alias(\"target_lon\")\n",
    ")\n",
    "\n",
    "# Create the target DataFrame with the specified schema\n",
    "target_schema = StructType([\n",
    "    StructField(\"target_zip\", StringType(), False),\n",
    "    StructField(\"target_lat\", DoubleType(), False),\n",
    "    StructField(\"target_lon\", DoubleType(), False)\n",
    "])\n",
    "\n",
    "# Convert to the specified schema\n",
    "target_df = target_info_renamed.select(\n",
    "    F.col(\"target_zip\").cast(StringType()),\n",
    "    F.col(\"target_lat\").cast(DoubleType()),\n",
    "    F.col(\"target_lon\").cast(DoubleType())\n",
    ")\n",
    "\n",
    "# Broadcast the target DataFrame for better join performance\n",
    "target_df = broadcast(target_df)\n",
    "\n",
    "# Perform the cross join to get all combinations\n",
    "print(\"Joining datasets...\")\n",
    "cross_df = zip_df.crossJoin(target_df)\n",
    "\n",
    "print(f\"Cross join complete with {cross_df.count()} rows\")"
   ]
  },
  {
   "cell_type": "code",
   "execution_count": 0,
   "metadata": {
    "application/vnd.databricks.v1+cell": {
     "cellMetadata": {
      "byteLimit": 2048000,
      "rowLimit": 10000
     },
     "inputWidgets": {},
     "nuid": "66e6432e-c6f9-48ed-b571-73b19f9baf0b",
     "showTitle": false,
     "tableResultSettingsMap": {},
     "title": ""
    }
   },
   "outputs": [
    {
     "output_type": "stream",
     "name": "stdout",
     "output_type": "stream",
     "text": [
      "Calculating distances...\nProcessing all target zip codes at once...\nProcessing results for target zip 79745\nFound 17 zip codes within 40 miles of 79745\nProcessing results for target zip 40356\nFound 68 zip codes within 40 miles of 40356\nProcessing results for target zip 19355\nFound 438 zip codes within 40 miles of 19355\nProcessing results for target zip 79423\nFound 42 zip codes within 40 miles of 79423\nProcessing results for target zip 30901\nFound 62 zip codes within 40 miles of 30901\nProcessing results for target zip 37066\nFound 97 zip codes within 40 miles of 37066\nProcessing results for target zip 38118\nFound 90 zip codes within 40 miles of 38118\nProcessing results for target zip 43551\nFound 140 zip codes within 40 miles of 43551\nProcessing results for target zip 37924\nFound 89 zip codes within 40 miles of 37924\nProcessing results for target zip 37421\nFound 92 zip codes within 40 miles of 37421\nProcessing results for target zip 28147\nFound 114 zip codes within 40 miles of 28147\nProcessing results for target zip 52404\nFound 105 zip codes within 40 miles of 52404\nProcessing results for target zip 30117\nFound 76 zip codes within 40 miles of 30117\nProcessing results for target zip 78043\nFound 11 zip codes within 40 miles of 78043\nProcessing results for target zip 12586\nFound 288 zip codes within 40 miles of 12586\nProcessing results for target zip 40216\nFound 132 zip codes within 40 miles of 40216\nProcessing results for target zip 32669\nFound 61 zip codes within 40 miles of 32669\nProcessing results for target zip 39209\nFound 58 zip codes within 40 miles of 39209\nProcessing results for target zip 40165\nFound 133 zip codes within 40 miles of 40165\nProcessing results for target zip 38866\nFound 50 zip codes within 40 miles of 38866\nProcessing results for target zip 29203\nFound 63 zip codes within 40 miles of 29203\nProcessing results for target zip 53575\nFound 97 zip codes within 40 miles of 53575\nProcessing results for target zip 38571\nFound 59 zip codes within 40 miles of 38571\nProcessing results for target zip 34104\nFound 51 zip codes within 40 miles of 34104\nProcessing results for target zip 37210\nFound 92 zip codes within 40 miles of 37210\nProcessing results for target zip 28806\nFound 80 zip codes within 40 miles of 28806\nProcessing results for target zip 27405\nFound 105 zip codes within 40 miles of 27405\nProcessing results for target zip 53555\nFound 93 zip codes within 40 miles of 53555\nProcessing results for target zip 28037\nFound 130 zip codes within 40 miles of 28037\nProcessing results for target zip 43207\nFound 133 zip codes within 40 miles of 43207\nProcessing results for target zip 24382\nFound 116 zip codes within 40 miles of 24382\nProcessing results for target zip 37743\nFound 74 zip codes within 40 miles of 37743\nProcessing results for target zip 33905\nFound 72 zip codes within 40 miles of 33905\nProcessing results for target zip 72114\nFound 79 zip codes within 40 miles of 72114\nProcessing results for target zip 76905\nFound 27 zip codes within 40 miles of 76905\nProcessing results for target zip 78550\nFound 43 zip codes within 40 miles of 78550\nProcessing results for target zip 79706\nFound 22 zip codes within 40 miles of 79706\nProcessing results for target zip 34957\nFound 45 zip codes within 40 miles of 34957\nProcessing results for target zip 79772\nFound 11 zip codes within 40 miles of 79772\nProcessing results for target zip 88012\nFound 22 zip codes within 40 miles of 88012\nProcessing results for target zip 85756\nFound 55 zip codes within 40 miles of 85756\nProcessing results for target zip 78655\nFound 91 zip codes within 40 miles of 78655\nProcessing results for target zip 78611\nFound 43 zip codes within 40 miles of 78611\nProcessing results for target zip 85643\nFound 13 zip codes within 40 miles of 85643\nProcessing results for target zip 72701\nFound 61 zip codes within 40 miles of 72701\nProcessing results for target zip 29604\nFound 112 zip codes within 40 miles of 29604\nProcessing results for target zip 18949\nFound 462 zip codes within 40 miles of 18949\n"
     ]
    }
   ],
   "source": [
    "# We already have cross_df from the previous step with all combinations\n",
    "# Now calculate distances for all combinations at once\n",
    "print(\"Calculating distances...\")\n",
    "result_df = cross_df.withColumn(\n",
    "    \"distance_miles\",\n",
    "    haversine_distance(\n",
    "        col(\"latitude\"), \n",
    "        col(\"longitude\"),\n",
    "        col(\"target_lat\"),\n",
    "        col(\"target_lon\")\n",
    "    )\n",
    ")\n",
    "\n",
    "# Filter by radius\n",
    "result_df = result_df.filter(col(\"distance_miles\") <= RADIUS_MILES)\n",
    "\n",
    "# Group the results by target zip\n",
    "print(\"Processing all target zip codes at once...\")\n",
    "grouped_results = {}\n",
    "\n",
    "# Get list of target zips for iteration\n",
    "target_zip_list = [row[\"target_zip\"] for row in target_df.select(\"target_zip\").distinct().collect()]\n",
    "\n",
    "for target_zip in target_zip_list:\n",
    "    print(f\"Processing results for target zip {target_zip}\")\n",
    "    \n",
    "    # Filter for this specific target zip\n",
    "    zip_result = result_df.filter(col(\"target_zip\") == target_zip)\n",
    "    \n",
    "    # Select only necessary columns for output\n",
    "    output_columns = [ZIP_FIELD, \"distance_miles\"]\n",
    "    zip_result = zip_result.select(*output_columns)\n",
    "    \n",
    "    # Sort by distance\n",
    "    zip_result = zip_result.orderBy(\"distance_miles\")\n",
    "    \n",
    "    # Cache the results\n",
    "    zip_result.cache()\n",
    "    \n",
    "    # Store in the results dictionary\n",
    "    grouped_results[target_zip] = zip_result\n",
    "    \n",
    "    # Show sample of results\n",
    "    print(f\"Found {zip_result.count()} zip codes within {RADIUS_MILES} miles of {target_zip}\")"
   ]
  },
  {
   "cell_type": "code",
   "execution_count": 0,
   "metadata": {
    "application/vnd.databricks.v1+cell": {
     "cellMetadata": {
      "byteLimit": 2048000,
      "rowLimit": 10000
     },
     "inputWidgets": {},
     "nuid": "5e3832e6-ba30-4640-a8fd-42e1bbc14835",
     "showTitle": false,
     "tableResultSettingsMap": {},
     "title": ""
    }
   },
   "outputs": [
    {
     "output_type": "stream",
     "name": "stdout",
     "output_type": "stream",
     "text": [
      "Found results for 47 target zip codes\n"
     ]
    }
   ],
   "source": [
    "print(f\"Found results for {len(grouped_results)} target zip codes\")"
   ]
  },
  {
   "cell_type": "code",
   "execution_count": 0,
   "metadata": {
    "application/vnd.databricks.v1+cell": {
     "cellMetadata": {
      "byteLimit": 2048000,
      "rowLimit": 10000
     },
     "inputWidgets": {},
     "nuid": "95c0e8d5-279b-4807-82c8-cd91458a22ff",
     "showTitle": false,
     "tableResultSettingsMap": {},
     "title": ""
    }
   },
   "outputs": [],
   "source": [
    "# Save fusionsite_regional_df to a csv\n",
    "fusionsite_regional_df.write.mode(\"overwrite\").csv(f\"/FileStore/tables/fusionsite_regional_df.csv\", header=True)"
   ]
  },
  {
   "cell_type": "code",
   "execution_count": 0,
   "metadata": {
    "application/vnd.databricks.v1+cell": {
     "cellMetadata": {
      "byteLimit": 2048000,
      "rowLimit": 10000
     },
     "inputWidgets": {},
     "nuid": "7a85b7bb-1a91-44df-a304-c7b3a31af70c",
     "showTitle": false,
     "tableResultSettingsMap": {},
     "title": ""
    }
   },
   "outputs": [],
   "source": [
    "# Save results \n",
    "for target_zip, result_df in grouped_results.items():\n",
    "    result_df.write.mode(\"overwrite\").csv(f\"/FileStore/intermediate_output/{target_zip}\")"
   ]
  },
  {
   "cell_type": "code",
   "execution_count": 0,
   "metadata": {
    "application/vnd.databricks.v1+cell": {
     "cellMetadata": {
      "byteLimit": 2048000,
      "rowLimit": 10000
     },
     "inputWidgets": {},
     "nuid": "7813f04b-3e53-465e-9637-2d238af38f9f",
     "showTitle": false,
     "tableResultSettingsMap": {},
     "title": ""
    }
   },
   "outputs": [],
   "source": [
    "files = os.listdir(\"/dbfs/FileStore/intermediate_output\")\n",
    "table_names = [file for file in files if re.search(r\"\\d{5}$\", file)]"
   ]
  },
  {
   "cell_type": "code",
   "execution_count": 0,
   "metadata": {
    "application/vnd.databricks.v1+cell": {
     "cellMetadata": {
      "byteLimit": 2048000,
      "rowLimit": 10000
     },
     "inputWidgets": {},
     "nuid": "47ea9c79-3587-411a-80b0-f99060842d20",
     "showTitle": false,
     "tableResultSettingsMap": {},
     "title": ""
    }
   },
   "outputs": [],
   "source": [
    "dataframes = {\n",
    "    table_name: spark.read.option(\"header\", \"false\").csv(f\"/FileStore/intermediate_output/{table_name}\")\n",
    "    for table_name in table_names\n",
    "}\n",
    "\n",
    "for table_name, df in dataframes.items():\n",
    "    dataframes[table_name] = df.withColumnRenamed(\"_c0\", \"zip\").withColumnRenamed(\"_c1\", \"distance\")"
   ]
  },
  {
   "cell_type": "code",
   "execution_count": 0,
   "metadata": {
    "application/vnd.databricks.v1+cell": {
     "cellMetadata": {
      "byteLimit": 2048000,
      "rowLimit": 10000
     },
     "inputWidgets": {},
     "nuid": "df2fac88-c060-4591-b98c-83f333e27162",
     "showTitle": false,
     "tableResultSettingsMap": {},
     "title": ""
    }
   },
   "outputs": [],
   "source": [
    "# ONLY USING PANDAS FOR VISUALIZATION BELOW \n",
    "if not isinstance(zip_df, pd.DataFrame):\n",
    "    zip_df = zip_df.toPandas()"
   ]
  },
  {
   "cell_type": "code",
   "execution_count": 0,
   "metadata": {
    "application/vnd.databricks.v1+cell": {
     "cellMetadata": {
      "byteLimit": 2048000,
      "rowLimit": 10000
     },
     "inputWidgets": {},
     "nuid": "5cc68d5f-4297-4d18-96f5-9bbd49e7c86e",
     "showTitle": false,
     "tableResultSettingsMap": {},
     "title": ""
    }
   },
   "outputs": [],
   "source": [
    "# Create a mapping of zip codes to lat/lon\n",
    "zip_to_coords = dict(zip(zip_df['ZCTA5CE20'], zip(zip_df['latitude'], zip_df['longitude'])))\n",
    "\n",
    "# Convert all Spark DataFrames to pandas\n",
    "pd_dataframes = {}\n",
    "for core_zip, df in dataframes.items():\n",
    "    if not isinstance(df, pd.DataFrame):\n",
    "        pd_dataframes[core_zip] = df.toPandas()\n",
    "    else:\n",
    "        pd_dataframes[core_zip] = df"
   ]
  },
  {
   "cell_type": "code",
   "execution_count": 0,
   "metadata": {
    "application/vnd.databricks.v1+cell": {
     "cellMetadata": {
      "byteLimit": 2048000,
      "rowLimit": 10000
     },
     "inputWidgets": {},
     "nuid": "4f22ed54-ce84-4a1e-aff5-f31c6dd40e26",
     "showTitle": false,
     "tableResultSettingsMap": {},
     "title": ""
    }
   },
   "outputs": [],
   "source": [
    "# Get a colormap with distinct colors for each core zip\n",
    "num_core_zips = len(pd_dataframes)\n",
    "colors = plt.cm.tab20(np.linspace(0, 1, num_core_zips))"
   ]
  },
  {
   "cell_type": "code",
   "execution_count": 0,
   "metadata": {
    "application/vnd.databricks.v1+cell": {
     "cellMetadata": {
      "byteLimit": 2048000,
      "rowLimit": 10000
     },
     "inputWidgets": {},
     "nuid": "99bb0a35-c94c-410a-a6c9-d86d2fa69bd1",
     "showTitle": false,
     "tableResultSettingsMap": {},
     "title": ""
    }
   },
   "outputs": [],
   "source": [
    "from matplotlib.colors import LinearSegmentedColormap\n",
    "import matplotlib.patches as mpatches"
   ]
  },
  {
   "cell_type": "code",
   "execution_count": 0,
   "metadata": {
    "application/vnd.databricks.v1+cell": {
     "cellMetadata": {
      "byteLimit": 2048000,
      "rowLimit": 10000
     },
     "inputWidgets": {},
     "nuid": "6bc55f6c-6e05-4f60-88b6-8cc6153ff163",
     "showTitle": false,
     "tableResultSettingsMap": {},
     "title": ""
    }
   },
   "outputs": [],
   "source": [
    "zip_gdf = gdf\n",
    "zip_gdf['ZCTA5CE20'] = zip_gdf['ZCTA5CE20'].astype(str)\n",
    "zip_gdf = zip_gdf[(zip_gdf[\"longitude\"] < 130) & (zip_gdf[\"latitude\"] > 25)]"
   ]
  },
  {
   "cell_type": "code",
   "execution_count": 0,
   "metadata": {
    "application/vnd.databricks.v1+cell": {
     "cellMetadata": {
      "byteLimit": 2048000,
      "rowLimit": 10000
     },
     "inputWidgets": {},
     "nuid": "ddfdb709-1987-4ab8-a7cd-c72a74e82e8d",
     "showTitle": false,
     "tableResultSettingsMap": {},
     "title": ""
    }
   },
   "outputs": [
    {
     "output_type": "display_data",
     "data": {
      "image/png": "[encoded data removed]",
      "text/plain": [
       "<Figure size 1200x1000 with 1 Axes>"
      ]
     },
     "metadata": {},
     "output_type": "display_data"
    }
   ],
   "source": [
    "# Create figure\n",
    "fig, ax = plt.subplots(figsize=(12, 10))\n",
    "\n",
    "# Get distinct colors for each core zip\n",
    "colors = plt.cm.tab20(np.linspace(0, 1, len(pd_dataframes)))\n",
    "\n",
    "# Store all points for bounding\n",
    "all_lats, all_lons = [], []\n",
    "\n",
    "# Plot each core zip with circular radius\n",
    "for i, (core_zip, df) in enumerate(pd_dataframes.items()):\n",
    "    # Get coordinates for the core zip\n",
    "    core_row = zip_df[zip_df['ZCTA5CE20'] == core_zip]\n",
    "    if not core_row.empty:\n",
    "        core_lat = core_row['latitude'].values[0]\n",
    "        core_lon = core_row['longitude'].values[0]\n",
    "        all_lats.append(core_lat)\n",
    "        all_lons.append(core_lon)\n",
    "        \n",
    "        # Plot circular representation \n",
    "        ax.scatter(core_lon, core_lat, s=100, color=colors[i], edgecolor='black', zorder=5)\n",
    "\n",
    "        for _, row in df.iterrows():\n",
    "            zip_code = row['zip']\n",
    "            zip_row = zip_df[zip_df['ZCTA5CE20'] == zip_code]\n",
    "            if not zip_row.empty:\n",
    "                zip_lat = zip_row['latitude'].values[0]\n",
    "                zip_lon = zip_row['longitude'].values[0]\n",
    "                all_lats.append(zip_lat)\n",
    "                all_lons.append(zip_lon)\n",
    "                ax.scatter(zip_lon, zip_lat, s=20, alpha=0.15, color=colors[i], zorder=3)\n",
    "\n",
    "# Set boundaries\n",
    "margin = 0.1\n",
    "ax.set_xlim(min(all_lons) - margin, max(all_lons) + margin)\n",
    "ax.set_ylim(min(all_lats) - margin, max(all_lats) + margin)\n",
    "\n",
    "# Add state boundaries for reference\n",
    "try:\n",
    "    import geopandas as gpd\n",
    "    states = gpd.read_file('GeoJSON:https://gist.github.com/krithin/7d694393e8a0b69dd3bd30336ecd46ad')\n",
    "    states.boundary.plot(ax=ax, color='gray', linewidth=0.5)\n",
    "except Exception:\n",
    "    print(\"Could not add state boundaries\")\n",
    "\n",
    "plt.title('Zip Code Radius Coverage (40-mile radius)')\n",
    "plt.tight_layout()"
   ]
  },
  {
   "cell_type": "code",
   "execution_count": 0,
   "metadata": {
    "application/vnd.databricks.v1+cell": {
     "cellMetadata": {
      "byteLimit": 2048000,
      "rowLimit": 10000
     },
     "inputWidgets": {},
     "nuid": "ed95781f-45a9-4826-892e-4a7a5425beba",
     "showTitle": false,
     "tableResultSettingsMap": {},
     "title": ""
    }
   },
   "outputs": [],
   "source": [
    "spark.stop()"
   ]
  },
  {
   "cell_type": "code",
   "execution_count": 0,
   "metadata": {
    "application/vnd.databricks.v1+cell": {
     "cellMetadata": {},
     "inputWidgets": {},
     "nuid": "ffbb648b-b7a9-4c97-91f1-e408d997e38e",
     "showTitle": false,
     "tableResultSettingsMap": {},
     "title": ""
    }
   },
   "outputs": [],
   "source": []
  }
 ],
 "metadata": {
  "application/vnd.databricks.v1+notebook": {
   "computePreferences": null,
   "dashboards": [],
   "environmentMetadata": {
    "base_environment": "",
    "environment_version": "2"
   },
   "inputWidgetPreferences": null,
   "language": "python",
   "notebookMetadata": {
    "pythonIndentUnit": 4
   },
   "notebookName": "site_radius_by_zip_code",
   "widgets": {}
  },
  "language_info": {
   "name": "python"
  }
 },
 "nbformat": 4,
 "nbformat_minor": 0
}