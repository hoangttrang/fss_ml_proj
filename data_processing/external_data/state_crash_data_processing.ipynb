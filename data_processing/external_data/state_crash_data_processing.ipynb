{
 "cells": [
  {
   "cell_type": "markdown",
   "metadata": {},
   "source": [
    "# State Crash Data Preprocessing and EDA"
   ]
  },
  {
   "cell_type": "markdown",
   "metadata": {},
   "source": [
    "This data was sourced from [Federal Motor Carrier Safety Administration](https://ai.fmcsa.dot.gov/CrashStatistics/?tab=Summary&type=&report_id=1&crash_type_id=4&datasource_id=1&time_period_id=2&report_date=2025&vehicle_type=1&state=AllStates&domicile=US&measure_id=1&operation_id=null) and reports data on all large truck and bus crashes between 2018 and 2025. \n",
    "\n",
    "The data was available for download as a .xlsx files so we uploaded it as a folder to the Local Filesystem and then copied it to GCS for persistent storage. "
   ]
  },
  {
   "cell_type": "code",
   "execution_count": 1,
   "metadata": {},
   "outputs": [],
   "source": [
    "from pyspark.sql import SparkSession\n",
    "from pyspark.sql.functions import col, to_date, month, year, avg, count\n",
    "from pyspark.sql.types import StructType, StructField, StringType\n",
    "import os\n",
    "import pandas as pd\n",
    "from functools import reduce\n",
    "from pyspark.sql import DataFrame\n",
    "import os\n",
    "from pyspark.sql.functions import lit, col, to_date, month\n",
    "from pyspark.sql.functions import col, count, sum, when, isnan, mean, corr, month, year, desc\n",
    "from pyspark.sql.types import IntegerType, DoubleType, FloatType, DateType"
   ]
  },
  {
   "cell_type": "code",
   "execution_count": 2,
   "metadata": {},
   "outputs": [],
   "source": [
    "# Initialize Spark session\n",
    "spark = SparkSession.builder \\\n",
    "    .appName(\"State Crash Data Analysis\") \\\n",
    "    .config(\"spark.driver.memory\", \"4g\") \\\n",
    "    .config(\"spark.jars.packages\", \n",
    "            \"com.crealytics:spark-excel_2.12:0.14.0,com.google.cloud.bigdataoss:gcs-connector:hadoop2-2.2.0\") \\\n",
    "    .config(\"spark.hadoop.fs.gs.impl\", \"com.google.cloud.hadoop.fs.gcs.GoogleHadoopFileSystem\") \\\n",
    "    .config(\"spark.hadoop.fs.AbstractFileSystem.gs.impl\", \"com.google.cloud.hadoop.fs.gcs.GoogleHadoopFS\") \\\n",
    "    .getOrCreate()"
   ]
  },
  {
   "cell_type": "code",
   "execution_count": 3,
   "metadata": {
    "scrolled": true
   },
   "outputs": [
    {
     "name": "stdout",
     "output_type": "stream",
     "text": [
      "Copying gs://ds5460-arvelo-bucket0311/notebooks/jupyter/state_crash_data/AK_crash_250131.xlsx...\n",
      "Copying gs://ds5460-arvelo-bucket0311/notebooks/jupyter/state_crash_data/AL_crash_250131.xlsx...\n",
      "Copying gs://ds5460-arvelo-bucket0311/notebooks/jupyter/state_crash_data/AR_crash_250131.xlsx...\n",
      "Copying gs://ds5460-arvelo-bucket0311/notebooks/jupyter/state_crash_data/CA_crash_250131.xlsx...\n",
      "Copying gs://ds5460-arvelo-bucket0311/notebooks/jupyter/state_crash_data/KY_crash_250131.xlsx...\n",
      "Copying gs://ds5460-arvelo-bucket0311/notebooks/jupyter/state_crash_data/CO_crash_250131.xlsx...\n",
      "Copying gs://ds5460-arvelo-bucket0311/notebooks/jupyter/state_crash_data/AS_crash_250131.xlsx...\n",
      "Copying gs://ds5460-arvelo-bucket0311/notebooks/jupyter/state_crash_data/AZ_crash_250131.xlsx...\n",
      "Copying gs://ds5460-arvelo-bucket0311/notebooks/jupyter/state_crash_data/FL_crash_250131.xlsx...\n",
      "Copying gs://ds5460-arvelo-bucket0311/notebooks/jupyter/state_crash_data/DC_crash_250131.xlsx...\n",
      "Copying gs://ds5460-arvelo-bucket0311/notebooks/jupyter/state_crash_data/CT_crash_250131.xlsx...\n",
      "Copying gs://ds5460-arvelo-bucket0311/notebooks/jupyter/state_crash_data/GA_crash_250131.xlsx...\n",
      "Copying gs://ds5460-arvelo-bucket0311/notebooks/jupyter/state_crash_data/ID_crash_250131.xlsx...\n",
      "Copying gs://ds5460-arvelo-bucket0311/notebooks/jupyter/state_crash_data/HI_crash_250131.xlsx...\n",
      "Copying gs://ds5460-arvelo-bucket0311/notebooks/jupyter/state_crash_data/GU_crash_250131.xlsx...\n",
      "Copying gs://ds5460-arvelo-bucket0311/notebooks/jupyter/state_crash_data/IN_crash_250131.xlsx...\n",
      "Copying gs://ds5460-arvelo-bucket0311/notebooks/jupyter/state_crash_data/IA_crash_250131.xlsx...\n",
      "Copying gs://ds5460-arvelo-bucket0311/notebooks/jupyter/state_crash_data/KS_crash_250131.xlsx...\n",
      "Copying gs://ds5460-arvelo-bucket0311/notebooks/jupyter/state_crash_data/IL_crash_250131.xlsx...\n",
      "Copying gs://ds5460-arvelo-bucket0311/notebooks/jupyter/state_crash_data/DE_crash_250131.xlsx...\n",
      "Copying gs://ds5460-arvelo-bucket0311/notebooks/jupyter/state_crash_data/LA_crash_250131.xlsx...\n",
      "Copying gs://ds5460-arvelo-bucket0311/notebooks/jupyter/state_crash_data/MA_crash_250131.xlsx...\n",
      "Copying gs://ds5460-arvelo-bucket0311/notebooks/jupyter/state_crash_data/MD_crash_250131.xlsx...\n",
      "Copying gs://ds5460-arvelo-bucket0311/notebooks/jupyter/state_crash_data/ME_crash_250131.xlsx...\n",
      "Copying gs://ds5460-arvelo-bucket0311/notebooks/jupyter/state_crash_data/MI_crash_250131.xlsx...\n",
      "Copying gs://ds5460-arvelo-bucket0311/notebooks/jupyter/state_crash_data/MN_crash_250131.xlsx...\n",
      "Copying gs://ds5460-arvelo-bucket0311/notebooks/jupyter/state_crash_data/MO_crash_250131.xlsx...\n",
      "Copying gs://ds5460-arvelo-bucket0311/notebooks/jupyter/state_crash_data/MP_crash_250131.xlsx...\n",
      "Copying gs://ds5460-arvelo-bucket0311/notebooks/jupyter/state_crash_data/MS_crash_250131.xlsx...\n",
      "Copying gs://ds5460-arvelo-bucket0311/notebooks/jupyter/state_crash_data/MT_crash_250131.xlsx...\n",
      "Copying gs://ds5460-arvelo-bucket0311/notebooks/jupyter/state_crash_data/NC_crash_250131.xlsx...\n",
      "Copying gs://ds5460-arvelo-bucket0311/notebooks/jupyter/state_crash_data/ND_crash_250131.xlsx...\n",
      "Copying gs://ds5460-arvelo-bucket0311/notebooks/jupyter/state_crash_data/NE_crash_250131.xlsx...\n",
      "Copying gs://ds5460-arvelo-bucket0311/notebooks/jupyter/state_crash_data/NH_crash_250131.xlsx...\n",
      "Copying gs://ds5460-arvelo-bucket0311/notebooks/jupyter/state_crash_data/NJ_crash_250131.xlsx...\n",
      "Copying gs://ds5460-arvelo-bucket0311/notebooks/jupyter/state_crash_data/NM_crash_250131.xlsx...\n",
      "Copying gs://ds5460-arvelo-bucket0311/notebooks/jupyter/state_crash_data/NV_crash_250131.xlsx...\n",
      "Copying gs://ds5460-arvelo-bucket0311/notebooks/jupyter/state_crash_data/NY_crash_250131.xlsx...\n",
      "Copying gs://ds5460-arvelo-bucket0311/notebooks/jupyter/state_crash_data/OH_crash_250131.xlsx...\n",
      "Copying gs://ds5460-arvelo-bucket0311/notebooks/jupyter/state_crash_data/OK_crash_250131.xlsx...\n",
      "Copying gs://ds5460-arvelo-bucket0311/notebooks/jupyter/state_crash_data/OR_crash_250131.xlsx...\n",
      "Copying gs://ds5460-arvelo-bucket0311/notebooks/jupyter/state_crash_data/PA_crash_250131.xlsx...\n",
      "Copying gs://ds5460-arvelo-bucket0311/notebooks/jupyter/state_crash_data/PR_crash_250131.xlsx...\n",
      "Copying gs://ds5460-arvelo-bucket0311/notebooks/jupyter/state_crash_data/RI_crash_250131.xlsx...\n",
      "Copying gs://ds5460-arvelo-bucket0311/notebooks/jupyter/state_crash_data/SC_crash_250131.xlsx...\n",
      "Copying gs://ds5460-arvelo-bucket0311/notebooks/jupyter/state_crash_data/SD_crash_250131.xlsx...\n",
      "Copying gs://ds5460-arvelo-bucket0311/notebooks/jupyter/state_crash_data/TN_crash_250131.xlsx...\n",
      "Copying gs://ds5460-arvelo-bucket0311/notebooks/jupyter/state_crash_data/TX_crash_250131.xlsx...\n",
      "Copying gs://ds5460-arvelo-bucket0311/notebooks/jupyter/state_crash_data/UT_crash_250131.xlsx...\n",
      "Copying gs://ds5460-arvelo-bucket0311/notebooks/jupyter/state_crash_data/VA_crash_250131.xlsx...\n",
      "Copying gs://ds5460-arvelo-bucket0311/notebooks/jupyter/state_crash_data/VI_crash_250131.xlsx...\n",
      "Copying gs://ds5460-arvelo-bucket0311/notebooks/jupyter/state_crash_data/VT_crash_250131.xlsx...\n",
      "Copying gs://ds5460-arvelo-bucket0311/notebooks/jupyter/state_crash_data/WA_crash_250131.xlsx...\n",
      "Copying gs://ds5460-arvelo-bucket0311/notebooks/jupyter/state_crash_data/WI_crash_250131.xlsx...\n",
      "Copying gs://ds5460-arvelo-bucket0311/notebooks/jupyter/state_crash_data/WV_crash_250131.xlsx...\n",
      "Copying gs://ds5460-arvelo-bucket0311/notebooks/jupyter/state_crash_data/WY_crash_250131.xlsx...\n",
      "\\ [56/56 files][950.7 MiB/950.7 MiB] 100% Done                                  \n",
      "Operation completed over 56 objects/950.7 MiB.                                   \n"
     ]
    }
   ],
   "source": [
    "# Set path to your data folder \n",
    "data_path = \"gs://ds5460-arvelo-bucket0311/notebooks/jupyter/state_crash_data\"\n",
    "\n",
    "# Create local directory if it doesn't exist\n",
    "!mkdir -p /data/state_crash_data\n",
    "\n",
    "# Copy recursively from GCS to local\n",
    "!gsutil -m cp -r {data_path}/* /data/state_crash_data/"
   ]
  },
  {
   "cell_type": "code",
   "execution_count": 4,
   "metadata": {},
   "outputs": [],
   "source": [
    "data_path = \"/data/state_crash_data\""
   ]
  },
  {
   "cell_type": "code",
   "execution_count": 5,
   "metadata": {},
   "outputs": [],
   "source": [
    "def read_state_year_data(state, year):\n",
    "    file_path = f\"{data_path}/{state}_crash_250131.xlsx\"\n",
    "    sheet_name = f\"{state} {year} MCMIS\"\n",
    "    \n",
    "    # Check if file exists\n",
    "    if not os.path.exists(file_path):\n",
    "        print(f\"File not found: {file_path}\")\n",
    "        return None\n",
    "    \n",
    "    try:\n",
    "        # First check if the sheet exists\n",
    "        excel_file = pd.ExcelFile(file_path)\n",
    "        if sheet_name not in excel_file.sheet_names:\n",
    "            print(f\"Sheet '{sheet_name}' not found in {file_path}\")\n",
    "            print(f\"Available sheets: {excel_file.sheet_names}\")\n",
    "            return None\n",
    "            \n",
    "        # Read the sheet\n",
    "        pdf = pd.read_excel(file_path, sheet_name=sheet_name)\n",
    "        \n",
    "        # Add state and year columns if they don't exist\n",
    "        if \"State\" not in pdf.columns:\n",
    "            pdf[\"State\"] = state\n",
    "        if \"Crash Year\" not in pdf.columns:\n",
    "            pdf[\"Crash Year\"] = year\n",
    "            \n",
    "        # Fix data type issues before converting to Spark DataFrame\n",
    "        \n",
    "        # Convert all numeric-looking strings to strings\n",
    "        for col in pdf.columns:\n",
    "            # Check if column contains date-like values\n",
    "            if 'date' in col.lower() or 'time' in col.lower():\n",
    "                # Convert to string to avoid date parsing issues\n",
    "                pdf[col] = pdf[col].astype(str)\n",
    "            # Handle potential mixed types\n",
    "            elif pdf[col].dtype == 'object':\n",
    "                # Convert to string to maintain consistency\n",
    "                pdf[col] = pdf[col].astype(str)\n",
    "        \n",
    "        # Replace any NaN values with None for consistent null handling\n",
    "        pdf = pdf.where(pd.notnull(pdf), None)\n",
    "        \n",
    "        # Create a schema where all fields are StringType\n",
    "        fields = [StructField(col_name, StringType(), True) for col_name in pdf.columns]\n",
    "        schema = StructType(fields)\n",
    "        \n",
    "        # Create Spark DataFrame with string schema\n",
    "        df = spark.createDataFrame(pdf.astype(str), schema=schema)\n",
    "        return df\n",
    "    \n",
    "    except Exception as e:\n",
    "        print(f\"Error reading {state} {year}: {str(e)}\")\n",
    "        return None"
   ]
  },
  {
   "cell_type": "code",
   "execution_count": 6,
   "metadata": {},
   "outputs": [],
   "source": [
    "# Only Reading TN Data "
   ]
  },
  {
   "cell_type": "code",
   "execution_count": 7,
   "metadata": {},
   "outputs": [],
   "source": [
    "years = list(range(2023, 2026))"
   ]
  },
  {
   "cell_type": "code",
   "execution_count": 8,
   "metadata": {},
   "outputs": [],
   "source": [
    "states = [\"AL\", \"AK\", \"AZ\", \"AR\", \"CA\", \"CO\", \"CT\", \"DE\", \"FL\", \"GA\",\n",
    "          \"HI\", \"ID\", \"IL\", \"IN\", \"IA\", \"KS\", \"KY\", \"LA\", \"ME\", \"MD\",\n",
    "          \"MA\", \"MI\", \"MN\", \"MS\", \"MO\", \"MT\", \"NE\", \"NV\", \"NH\", \"NJ\",\n",
    "          \"NM\", \"NY\", \"NC\", \"ND\", \"OH\", \"OK\", \"OR\", \"PA\", \"RI\", \"SC\",\n",
    "          \"SD\", \"TN\", \"TX\", \"UT\", \"VT\", \"VA\", \"WA\", \"WV\", \"WI\", \"WY\"]"
   ]
  },
  {
   "cell_type": "code",
   "execution_count": null,
   "metadata": {},
   "outputs": [],
   "source": [
    "# Process all files and combine into one dataframe\n",
    "all_dfs = []\n",
    "\n",
    "for state in states:  \n",
    "    for year in years:  \n",
    "        df = read_state_year_data(state, year)\n",
    "        if df is not None:\n",
    "            all_dfs.append(df)\n",
    "        else:\n",
    "            print(f\"Failed to read data for {state} {year}\")"
   ]
  },
  {
   "cell_type": "code",
   "execution_count": null,
   "metadata": {},
   "outputs": [],
   "source": [
    "# Combine all dataframes if we found any\n",
    "if all_dfs:\n",
    "    # Union all dataframes\n",
    "    all_data = reduce(DataFrame.unionByName, all_dfs)"
   ]
  },
  {
   "cell_type": "code",
   "execution_count": null,
   "metadata": {},
   "outputs": [],
   "source": [
    "# Convert date string to date type\n",
    "all_data = all_data.withColumn(\"Crash Date\", to_date(col(\"Crash Date\"), \"MM/dd/yyyy\"))\n",
    "\n",
    "# Create month and year columns for analysis\n",
    "all_data = all_data.withColumn(\"Crash Month\", month(\"Crash Date\"))\n",
    "\n",
    "# Ensure Crash Year is numeric\n",
    "all_data = all_data.withColumn(\"Crash Year\", col(\"Crash Year\").cast(\"integer\"))"
   ]
  },
  {
   "cell_type": "code",
   "execution_count": null,
   "metadata": {},
   "outputs": [
    {
     "data": {
      "text/plain": [
       "DataFrame[Crash ID: string, Crash Year: int, Quarter-CY: string, Report State: string, Crash Date: date, Truck Bus Indicator: string, Fatal Count: string, Non Fatal Count: string, Fatalities: string, Injuries: string, Injury Count: string, Tow Away: string, Federal Recordable: string, State Recordable: string, Vehicles In Accident: string, City Code: string, City: string, County Code: string, County Name: string, State: string, Location: string, Trafficway Desc: string, Road Surface Condition Desc: string, Weather Condition Desc: string, Light Condition Desc: string, First Harmful Event: string, USDOT Number: string, Carrier Name: string, Carrier Street: string, Carrier City: string, Carrier State: string, Carrier Zip Code: string, Carrier Domicile: string, Carrier Add Date: string, New Entrant: string, Mexican Location: string, Interstate Carrier: string, State Number: string, State Issuing Number: string, Driver Age Category: string, Driver License State: string, Valid Driver License: string, Driver License Class Desc: string, Citation Issued Code Desc: string, Vehicle Configuration Desc: string, Cargo Body Type Desc: string, Axles: string, GVWR: string, GVW Rating Desc: string, Vehicle License Number: string, Vehicle License State: string, Hazmat Placard: string, Crash Number: string, Crash Date.1: string, Day of Week Category: string, Crash Time: string, Time of Day Category: string, Crash Seq No: string, Agency: string, Record Status: string, Matched Status: string, SAFETYNET Input Date: string, MCMIS Original Upload Date: string, MCMIS Upload Date: string, Number Days to SAFETYNET: string, Number Days to MCMIS: string, Counter: string, Crash Month: int]"
      ]
     },
     "execution_count": 12,
     "metadata": {},
     "output_type": "execute_result"
    }
   ],
   "source": [
    "all_data.cache()"
   ]
  },
  {
   "cell_type": "markdown",
   "metadata": {},
   "source": [
    "## Basic EDA "
   ]
  },
  {
   "cell_type": "code",
   "execution_count": null,
   "metadata": {},
   "outputs": [],
   "source": [
    "total_rows = all_data.count()"
   ]
  },
  {
   "cell_type": "code",
   "execution_count": null,
   "metadata": {},
   "outputs": [
    {
     "name": "stdout",
     "output_type": "stream",
     "text": [
      "Total records: 370407\n"
     ]
    }
   ],
   "source": [
    "# Basic EDA\n",
    "print(\"Total records:\", total_rows)"
   ]
  },
  {
   "cell_type": "code",
   "execution_count": null,
   "metadata": {},
   "outputs": [
    {
     "name": "stdout",
     "output_type": "stream",
     "text": [
      "+----------+------+\n",
      "|Crash Year| count|\n",
      "+----------+------+\n",
      "|      2023|184302|\n",
      "|      2024|178943|\n",
      "|      2025|  7162|\n",
      "+----------+------+\n",
      "\n"
     ]
    }
   ],
   "source": [
    "# Monthly crash counts overall\n",
    "annual_counts = all_data.groupBy(\"Crash Year\") \\\n",
    "    .count() \\\n",
    "    .orderBy(\"Crash Year\")\n",
    "annual_counts.show()"
   ]
  },
  {
   "cell_type": "code",
   "execution_count": null,
   "metadata": {},
   "outputs": [
    {
     "name": "stdout",
     "output_type": "stream",
     "text": [
      "Error checking nulls for column Crash Date.1: \"Can't extract value from Crash Date#19970: need struct type but got string;\"\n"
     ]
    }
   ],
   "source": [
    "# Calculate missing values for each column\n",
    "missing_counts = []\n",
    "\n",
    "for column in df.columns:\n",
    "    # Create explicit null check expression\n",
    "    null_check = (col(column).isNull()) | (col(column) == '')\n",
    "\n",
    "    # Get the column's data type from schema\n",
    "    column_type = None\n",
    "    for field in df.schema.fields:\n",
    "        if field.name == column:\n",
    "            column_type = field.dataType\n",
    "            break\n",
    "\n",
    "    # For numeric columns, also check for NaN values\n",
    "    nan_count = 0\n",
    "    if isinstance(column_type, (IntegerType, DoubleType, FloatType)):\n",
    "        try:\n",
    "            nan_count = df.filter(isnan(col(column))).count()\n",
    "        except:\n",
    "            # If isnan fails, just continue\n",
    "            pass\n",
    "\n",
    "    # Count null values\n",
    "    try:\n",
    "        null_count = df.filter(null_check).count() + nan_count\n",
    "    except Exception as e:\n",
    "        print(f\"Error checking nulls for column {column}: {str(e)}\")\n",
    "        null_count = 0  # Default if error\n",
    "\n",
    "    missing_pct = (null_count / total_rows) * 100\n",
    "    missing_counts.append((column, null_count, missing_pct))\n",
    "\n",
    "# Convert to pandas for better display\n",
    "missing_df = pd.DataFrame(missing_counts, columns=['Column', 'Missing Count', 'Missing Percentage'])\n",
    "missing_df = missing_df.sort_values('Missing Percentage', ascending=False)"
   ]
  },
  {
   "cell_type": "code",
   "execution_count": null,
   "metadata": {},
   "outputs": [
    {
     "data": {
      "text/html": [
       "<div>\n",
       "<style scoped>\n",
       "    .dataframe tbody tr th:only-of-type {\n",
       "        vertical-align: middle;\n",
       "    }\n",
       "\n",
       "    .dataframe tbody tr th {\n",
       "        vertical-align: top;\n",
       "    }\n",
       "\n",
       "    .dataframe thead th {\n",
       "        text-align: right;\n",
       "    }\n",
       "</style>\n",
       "<table border=\"1\" class=\"dataframe\">\n",
       "  <thead>\n",
       "    <tr style=\"text-align: right;\">\n",
       "      <th></th>\n",
       "      <th>Column</th>\n",
       "      <th>Missing Count</th>\n",
       "      <th>Missing Percentage</th>\n",
       "    </tr>\n",
       "  </thead>\n",
       "  <tbody>\n",
       "  </tbody>\n",
       "</table>\n",
       "</div>"
      ],
      "text/plain": [
       "Empty DataFrame\n",
       "Columns: [Column, Missing Count, Missing Percentage]\n",
       "Index: []"
      ]
     },
     "execution_count": 17,
     "metadata": {},
     "output_type": "execute_result"
    }
   ],
   "source": [
    "missing_df[missing_df[\"Missing Count\"] != 0]"
   ]
  },
  {
   "cell_type": "markdown",
   "metadata": {},
   "source": [
    "There is no missing data in this dataset!"
   ]
  },
  {
   "cell_type": "code",
   "execution_count": null,
   "metadata": {},
   "outputs": [],
   "source": [
    "# Check for missigness in columns"
   ]
  },
  {
   "cell_type": "code",
   "execution_count": null,
   "metadata": {},
   "outputs": [],
   "source": [
    "from pyspark.sql import functions as F"
   ]
  },
  {
   "cell_type": "code",
   "execution_count": null,
   "metadata": {},
   "outputs": [],
   "source": [
    "monthly_county_counts = all_data.groupBy(\"Crash Year\", \n",
    "                                         \"Crash Month\", \n",
    "                                         \"State\", \n",
    "                                         \"County Code\") \\\n",
    "                               .agg(F.count(\"*\").alias(\"crash_count\"),\n",
    "                                    F.sum(F.col(\"Fatalities\").cast(\"int\")).alias(\"total_fatalities\"),\n",
    "                                    F.sum(F.col(\"Injuries\").cast(\"int\")).alias(\"total_injuries\"),\n",
    "                                    F.sum(F.col(\"Vehicles In Accident\").cast(\"int\")).alias(\"total_vehicles\"))"
   ]
  },
  {
   "cell_type": "code",
   "execution_count": null,
   "metadata": {},
   "outputs": [
    {
     "name": "stdout",
     "output_type": "stream",
     "text": [
      "root\n",
      " |-- Crash Year: integer (nullable = true)\n",
      " |-- Crash Month: integer (nullable = true)\n",
      " |-- State: string (nullable = true)\n",
      " |-- County Code: string (nullable = true)\n",
      " |-- crash_count: long (nullable = false)\n",
      " |-- total_fatalities: long (nullable = true)\n",
      " |-- total_injuries: long (nullable = true)\n",
      " |-- total_vehicles: long (nullable = true)\n",
      "\n"
     ]
    }
   ],
   "source": [
    "monthly_county_counts.printSchema()"
   ]
  },
  {
   "cell_type": "code",
   "execution_count": null,
   "metadata": {},
   "outputs": [
    {
     "name": "stdout",
     "output_type": "stream",
     "text": [
      "Correlation matrix for key metrics:\n",
      "                  crash_count  total_fatalities  total_injuries  \\\n",
      "crash_count             1.000             0.437           0.851   \n",
      "total_fatalities        0.437             1.000           0.440   \n",
      "total_injuries          0.851             0.440           1.000   \n",
      "total_vehicles          0.932             0.481           0.752   \n",
      "\n",
      "                  total_vehicles  \n",
      "crash_count                0.932  \n",
      "total_fatalities           0.481  \n",
      "total_injuries             0.752  \n",
      "total_vehicles             1.000  \n"
     ]
    }
   ],
   "source": [
    "correlation_metrics = [\"crash_count\", \"total_fatalities\", \"total_injuries\", \"total_vehicles\"]\n",
    "\n",
    "# Check if all metrics exist in the dataframe\n",
    "available_metrics = [metric for metric in correlation_metrics if metric in monthly_county_counts.columns]\n",
    "\n",
    "if len(available_metrics) >= 2:\n",
    "    # Calculate correlations\n",
    "    correlation_matrix = []\n",
    "    \n",
    "    for i, metric1 in enumerate(available_metrics):\n",
    "        corr_row = []\n",
    "        for j, metric2 in enumerate(available_metrics):\n",
    "            if i == j:\n",
    "                corr_row.append(1.0)  # Perfect correlation with itself\n",
    "            else:\n",
    "                # Calculate correlation\n",
    "                try:\n",
    "                    correlation = monthly_county_counts.stat.corr(metric1, metric2)\n",
    "                    corr_row.append(correlation)\n",
    "                except Exception as e:\n",
    "                    print(f\"Error calculating correlation between {metric1} and {metric2}: {str(e)}\")\n",
    "                    corr_row.append(None)  # Use None for failed correlations\n",
    "        correlation_matrix.append(corr_row)\n",
    "    \n",
    "    # Convert to pandas for visualization\n",
    "    corr_pd = pd.DataFrame(correlation_matrix, \n",
    "                          index=available_metrics, \n",
    "                          columns=available_metrics)\n",
    "    \n",
    "    print(\"Correlation matrix for key metrics:\")\n",
    "    print(corr_pd.round(3))"
   ]
  },
  {
   "cell_type": "code",
   "execution_count": null,
   "metadata": {},
   "outputs": [
    {
     "name": "stderr",
     "output_type": "stream",
     "text": [
      "/opt/conda/anaconda/lib/python3.7/site-packages/statsmodels/tools/_testing.py:19: FutureWarning: pandas.util.testing is deprecated. Use the functions in the public API at pandas.testing instead.\n",
      "  import pandas.util.testing as tm\n"
     ]
    }
   ],
   "source": [
    "import matplotlib.pyplot as plt\n",
    "import seaborn as sns"
   ]
  },
  {
   "cell_type": "code",
   "execution_count": null,
   "metadata": {},
   "outputs": [
    {
     "data": {
      "text/html": [
       "<style  type=\"text/css\" >\n",
       "#T_76fab_row0_col0,#T_76fab_row1_col1,#T_76fab_row2_col2,#T_76fab_row3_col3{\n",
       "            background-color:  #b40426;\n",
       "            color:  #f1f1f1;\n",
       "        }#T_76fab_row0_col1,#T_76fab_row1_col0,#T_76fab_row1_col2,#T_76fab_row1_col3{\n",
       "            background-color:  #3b4cc0;\n",
       "            color:  #f1f1f1;\n",
       "        }#T_76fab_row0_col2{\n",
       "            background-color:  #f5a081;\n",
       "            color:  #000000;\n",
       "        }#T_76fab_row0_col3{\n",
       "            background-color:  #df634e;\n",
       "            color:  #000000;\n",
       "        }#T_76fab_row2_col0{\n",
       "            background-color:  #f59f80;\n",
       "            color:  #000000;\n",
       "        }#T_76fab_row2_col1{\n",
       "            background-color:  #3c4ec2;\n",
       "            color:  #f1f1f1;\n",
       "        }#T_76fab_row2_col3{\n",
       "            background-color:  #e2dad5;\n",
       "            color:  #000000;\n",
       "        }#T_76fab_row3_col0{\n",
       "            background-color:  #dc5d4a;\n",
       "            color:  #000000;\n",
       "        }#T_76fab_row3_col1{\n",
       "            background-color:  #516ddb;\n",
       "            color:  #000000;\n",
       "        }#T_76fab_row3_col2{\n",
       "            background-color:  #ead4c8;\n",
       "            color:  #000000;\n",
       "        }</style><table id=\"T_76fab_\" ><thead>    <tr>        <th class=\"blank level0\" ></th>        <th class=\"col_heading level0 col0\" >crash_count</th>        <th class=\"col_heading level0 col1\" >total_fatalities</th>        <th class=\"col_heading level0 col2\" >total_injuries</th>        <th class=\"col_heading level0 col3\" >total_vehicles</th>    </tr></thead><tbody>\n",
       "                <tr>\n",
       "                        <th id=\"T_76fab_level0_row0\" class=\"row_heading level0 row0\" >crash_count</th>\n",
       "                        <td id=\"T_76fab_row0_col0\" class=\"data row0 col0\" >1.000000</td>\n",
       "                        <td id=\"T_76fab_row0_col1\" class=\"data row0 col1\" >0.436945</td>\n",
       "                        <td id=\"T_76fab_row0_col2\" class=\"data row0 col2\" >0.851129</td>\n",
       "                        <td id=\"T_76fab_row0_col3\" class=\"data row0 col3\" >0.932276</td>\n",
       "            </tr>\n",
       "            <tr>\n",
       "                        <th id=\"T_76fab_level0_row1\" class=\"row_heading level0 row1\" >total_fatalities</th>\n",
       "                        <td id=\"T_76fab_row1_col0\" class=\"data row1 col0\" >0.436945</td>\n",
       "                        <td id=\"T_76fab_row1_col1\" class=\"data row1 col1\" >1.000000</td>\n",
       "                        <td id=\"T_76fab_row1_col2\" class=\"data row1 col2\" >0.440262</td>\n",
       "                        <td id=\"T_76fab_row1_col3\" class=\"data row1 col3\" >0.480797</td>\n",
       "            </tr>\n",
       "            <tr>\n",
       "                        <th id=\"T_76fab_level0_row2\" class=\"row_heading level0 row2\" >total_injuries</th>\n",
       "                        <td id=\"T_76fab_row2_col0\" class=\"data row2 col0\" >0.851129</td>\n",
       "                        <td id=\"T_76fab_row2_col1\" class=\"data row2 col1\" >0.440262</td>\n",
       "                        <td id=\"T_76fab_row2_col2\" class=\"data row2 col2\" >1.000000</td>\n",
       "                        <td id=\"T_76fab_row2_col3\" class=\"data row2 col3\" >0.752023</td>\n",
       "            </tr>\n",
       "            <tr>\n",
       "                        <th id=\"T_76fab_level0_row3\" class=\"row_heading level0 row3\" >total_vehicles</th>\n",
       "                        <td id=\"T_76fab_row3_col0\" class=\"data row3 col0\" >0.932276</td>\n",
       "                        <td id=\"T_76fab_row3_col1\" class=\"data row3 col1\" >0.480797</td>\n",
       "                        <td id=\"T_76fab_row3_col2\" class=\"data row3 col2\" >0.752023</td>\n",
       "                        <td id=\"T_76fab_row3_col3\" class=\"data row3 col3\" >1.000000</td>\n",
       "            </tr>\n",
       "    </tbody></table>"
      ],
      "text/plain": [
       "<pandas.io.formats.style.Styler at 0x7f4766c93d90>"
      ]
     },
     "execution_count": 24,
     "metadata": {},
     "output_type": "execute_result"
    }
   ],
   "source": [
    "corr_pd.style.background_gradient(cmap='coolwarm')"
   ]
  },
  {
   "cell_type": "markdown",
   "metadata": {},
   "source": [
    "* **Crash Count and Total Vehicles (0.93)**: There's an extremely strong positive correlation between the number of crashes and the number of vehicles involved. This nearly perfect correlation suggests that most crashes involve a consistent number of vehicles, or that the number of vehicles is a direct function of the number of crashes.\n",
    "* **Total Vehicles and Total Injuries (0.75)**: There's a strong positive correlation between the number of vehicles involved and the number of injuries. This makes intuitive sense - more vehicles in accidents generally mean more people at risk of injury.\n",
    "* **Crash Count and Total Injuries (0.85)**: Similarly, there's a strong positive correlation between the number of crashes and the number of injuries. This suggests that as crashes increase, injuries increase at a fairly consistent rate.\n",
    "* **Total Injuries and Total Fatalities (0.44)**: There's only a moderate positive correlation between injuries and fatalities. This suggests that while there is some relationship (more injuries tend to mean more fatalities), many factors influence whether injuries result in fatalities.\n",
    "* **Total Vehicles and Total Fatalities (0.48)**: Similarly, there's only a moderate correlation between the number of vehicles involved and fatalities. This indicates that the raw number of vehicles isn't strongly predictive of fatal outcomes.\n",
    "* **Crash Count and Total Fatalities (0.44)**: This is the weakest correlation in the matrix, suggesting that the raw number of crashes isn't strongly predictive of fatalities. Fatal crashes may be influenced by other factors not captured in simple crash counts."
   ]
  },
  {
   "cell_type": "code",
   "execution_count": null,
   "metadata": {},
   "outputs": [],
   "source": [
    "# Visualize nuber crashes each month in TN "
   ]
  },
  {
   "cell_type": "code",
   "execution_count": null,
   "metadata": {},
   "outputs": [
    {
     "name": "stdout",
     "output_type": "stream",
     "text": [
      "Total records for Tennessee: 25\n",
      "\n",
      "Sample of monthly crash data for Tennessee:\n"
     ]
    }
   ],
   "source": [
    "tn_data = monthly_county_counts.filter(col(\"State\") == \"TN\")\n",
    "\n",
    "# Group by year and month, sum crash counts\n",
    "tn_monthly_crashes = tn_data.groupBy(\n",
    "    col(\"Crash Year\").alias(\"year\"), \n",
    "    col(\"Crash Month\").alias(\"month\")\n",
    ").agg(\n",
    "    sum(\"crash_count\").alias(\"total_crashes\")\n",
    ").orderBy(\"year\", \"month\")\n",
    "\n",
    "# Convert to pandas for easier analysis and plotting\n",
    "tn_monthly_pd = tn_monthly_crashes.toPandas()\n",
    "\n",
    "# Create year-month string for x-axis\n",
    "tn_monthly_pd['year_month'] = tn_monthly_pd['year'].astype(str) + '-' + tn_monthly_pd['month'].astype(str).str.zfill(2)\n",
    "\n",
    "print(f\"Total records for Tennessee: {tn_monthly_pd.shape[0]}\")\n",
    "print(\"\\nSample of monthly crash data for Tennessee:\")"
   ]
  },
  {
   "cell_type": "code",
   "execution_count": null,
   "metadata": {},
   "outputs": [
    {
     "name": "stderr",
     "output_type": "stream",
     "text": [
      "/opt/conda/anaconda/lib/python3.7/site-packages/matplotlib/cbook/__init__.py:1402: FutureWarning: Support for multi-dimensional indexing (e.g. `obj[:, None]`) is deprecated and will be removed in a future version.  Convert to a numpy array before indexing instead.\n",
      "  x[:, None]\n",
      "/opt/conda/anaconda/lib/python3.7/site-packages/matplotlib/axes/_base.py:276: FutureWarning: Support for multi-dimensional indexing (e.g. `obj[:, None]`) is deprecated and will be removed in a future version.  Convert to a numpy array before indexing instead.\n",
      "  x = x[:, np.newaxis]\n",
      "/opt/conda/anaconda/lib/python3.7/site-packages/matplotlib/axes/_base.py:278: FutureWarning: Support for multi-dimensional indexing (e.g. `obj[:, None]`) is deprecated and will be removed in a future version.  Convert to a numpy array before indexing instead.\n",
      "  y = y[:, np.newaxis]\n"
     ]
    },
    {
     "data": {
      "image/png": "[encoded data removed]",
      "text/plain": [
       "<Figure size 1080x432 with 1 Axes>"
      ]
     },
     "metadata": {
      "needs_background": "light"
     },
     "output_type": "display_data"
    }
   ],
   "source": [
    "# Plot TN monthly crashes\n",
    "plt.figure(figsize=(15, 6))\n",
    "plt.plot(tn_monthly_pd['year_month'], tn_monthly_pd['total_crashes'])\n",
    "plt.xticks(rotation=90)\n",
    "plt.xlabel('Year-Month')\n",
    "plt.ylabel('Number of Crashes')\n",
    "plt.title('Monthly Crashes in Tennessee')\n",
    "plt.grid(True, alpha=0.3)\n",
    "plt.tight_layout()"
   ]
  },
  {
   "cell_type": "markdown",
   "metadata": {},
   "source": [
    "There appears to be a general decreasing trend in number of crashes. At first glance, it looks like there is some sort of seasonal pattern, but the peaks and troughs of the graph do not occur at regular interval of time. "
   ]
  },
  {
   "cell_type": "code",
   "execution_count": null,
   "metadata": {},
   "outputs": [],
   "source": [
    "# Convert to pandas DataFrame\n",
    "pandas_df = monthly_county_counts.toPandas()\n",
    "\n",
    "# Save to a temporary local file\n",
    "pandas_df.to_csv('/tmp/monthly_county_counts.csv', index=False)"
   ]
  },
  {
   "cell_type": "code",
   "execution_count": null,
   "metadata": {},
   "outputs": [
    {
     "name": "stdout",
     "output_type": "stream",
     "text": [
      "Copying file:///tmp/monthly_county_counts.csv [Content-Type=text/csv]...\n",
      "/ [1 files][  1.1 MiB/  1.1 MiB]                                                \n",
      "Operation completed over 1 objects/1.1 MiB.                                      \n"
     ]
    }
   ],
   "source": [
    "# Use Google Cloud SDK to copy the file to GCS\n",
    "# Run this as a shell command\n",
    "!gsutil cp /tmp/monthly_county_counts.csv gs://ds5460-arvelo-bucket0311/notebooks/jupyter/monthly_county_counts.csv"
   ]
  },
  {
   "cell_type": "code",
   "execution_count": null,
   "metadata": {},
   "outputs": [],
   "source": [
    "spark.stop()"
   ]
  },
  {
   "cell_type": "markdown",
   "metadata": {},
   "source": [
    "Since this is a reasonably small dataset (41,712 rows and 8 columns of mostly numeric data) and we are only moving forward using Databricks as our primary cloud environment we decided to export the preprocessed dataframe as a csv for the ease of being able to read this into DBFS for the following steps in the project. "
   ]
  }
 ],
 "metadata": {
  "kernelspec": {
   "display_name": "Python 3",
   "language": "python",
   "name": "python3"
  },
  "language_info": {
   "codemirror_mode": {
    "name": "ipython",
    "version": 3
   },
   "file_extension": ".py",
   "mimetype": "text/x-python",
   "name": "python",
   "nbconvert_exporter": "python",
   "pygments_lexer": "ipython3",
   "version": "3.7.4"
  }
 },
 "nbformat": 4,
 "nbformat_minor": 4
}