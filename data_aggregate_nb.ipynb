{
 "cells": [
  {
   "cell_type": "markdown",
   "metadata": {
    "application/vnd.databricks.v1+cell": {
     "cellMetadata": {
      "byteLimit": 2048000,
      "rowLimit": 10000
     },
     "inputWidgets": {},
     "nuid": "9cbca051-9e77-45a9-ad3b-d12a6037414e",
     "showTitle": false,
     "tableResultSettingsMap": {},
     "title": ""
    }
   },
   "source": [
    "# Joining and Feature Selection\n",
    "This notebook is used for joining internal driving data with external data (weather, crashes and car accidents from insurance) and performing feature selection. \n",
    "\n",
    "## Environmental SetUp\n"
   ]
  },
  {
   "cell_type": "code",
   "execution_count": 0,
   "metadata": {
    "application/vnd.databricks.v1+cell": {
     "cellMetadata": {
      "byteLimit": 2048000,
      "rowLimit": 10000
     },
     "inputWidgets": {},
     "nuid": "26ddb7d3-31b4-4975-864a-9c026c2cd10d",
     "showTitle": false,
     "tableResultSettingsMap": {},
     "title": ""
    }
   },
   "outputs": [],
   "source": [
    "# import libraries\n",
    "from pyspark.sql import SparkSession\n",
    "from pyspark.sql import SparkSession\n",
    "from pyspark.sql import functions as F\n",
    "from pyspark.sql.types import *\n",
    "from pyspark.sql.functions import col, count, mean, stddev, min, max, when, isnan, countDistinct, lit, to_timestamp, to_date, hour, avg, sum, date_sub, current_date, datediff, floor, row_number, date_format, weekofyear, year, round, substring, concat, regexp_replace, max as Fmax, lag, last, rank, unix_timestamp, to_timestamp, expr\n",
    "\n",
    "\n",
    "from pyspark.sql.functions import max as spark_max\n",
    "from pyspark.ml.feature import StringIndexer, OneHotEncoder\n",
    "from pyspark.sql.types import DoubleType\n",
    "from pyspark.sql.types import StructType, StructField, StringType, IntegerType, NumericType, DateType\n",
    "from pyspark.ml.evaluation import BinaryClassificationEvaluator\n",
    "from pyspark.mllib.evaluation import BinaryClassificationMetrics\n",
    "from pyspark.mllib.evaluation import MulticlassMetrics\n",
    "from pyspark.ml.feature import VectorAssembler\n",
    "from pyspark.ml.classification import RandomForestClassifier\n",
    "from pyspark.ml import Pipeline\n",
    "from pyspark.sql.window import Window\n",
    "import matplotlib.pyplot  as plt \n"
   ]
  },
  {
   "cell_type": "code",
   "execution_count": 0,
   "metadata": {
    "application/vnd.databricks.v1+cell": {
     "cellMetadata": {
      "byteLimit": 2048000,
      "rowLimit": 10000
     },
     "inputWidgets": {},
     "nuid": "2aa9e515-1ae8-4829-af3d-6fec7f68180c",
     "showTitle": false,
     "tableResultSettingsMap": {},
     "title": ""
    }
   },
   "outputs": [],
   "source": [
    "app_name = \"feature-selection\"\n",
    "master = \"local[*]\"\n",
    "spark = SparkSession\\\n",
    "        .builder\\\n",
    "        .appName(app_name)\\\n",
    "        .master(master)\\\n",
    "        .getOrCreate()\n",
    "\n",
    "sc = spark.sparkContext"
   ]
  },
  {
   "cell_type": "markdown",
   "metadata": {
    "application/vnd.databricks.v1+cell": {
     "cellMetadata": {
      "byteLimit": 2048000,
      "rowLimit": 10000
     },
     "inputWidgets": {},
     "nuid": "f954f4ad-96a5-428c-a306-02ab329f9c86",
     "showTitle": false,
     "tableResultSettingsMap": {},
     "title": ""
    }
   },
   "source": [
    "## Load Data\n"
   ]
  },
  {
   "cell_type": "code",
   "execution_count": 0,
   "metadata": {
    "application/vnd.databricks.v1+cell": {
     "cellMetadata": {
      "byteLimit": 2048000,
      "rowLimit": 10000
     },
     "inputWidgets": {},
     "nuid": "3b5b447d-2888-433a-9817-6d3f7dfca977",
     "showTitle": false,
     "tableResultSettingsMap": {},
     "title": ""
    }
   },
   "outputs": [],
   "source": [
    "def clean_column_name(name):\n",
    "    # Replace invalid characters\n",
    "    invalid_chars = \",;{}()\\n\\t=\"\n",
    "    clean_name = name\n",
    "    for char in invalid_chars:\n",
    "        clean_name = clean_name.replace(char, \"_\")\n",
    "    return clean_name"
   ]
  },
  {
   "cell_type": "code",
   "execution_count": 0,
   "metadata": {
    "application/vnd.databricks.v1+cell": {
     "cellMetadata": {
      "byteLimit": 2048000,
      "rowLimit": 10000
     },
     "inputWidgets": {},
     "nuid": "2b91f6a9-0c97-4f5f-8dad-889193ec7982",
     "showTitle": false,
     "tableResultSettingsMap": {},
     "title": ""
    }
   },
   "outputs": [],
   "source": [
    "# load internal data \n",
    "internal_data = spark.read.parquet(\"dbfs:/FileStore/tables/features_data_cleaned.parquet\")\n",
    "insurance_data = spark.read.csv(\"dbfs:/FileStore/tables/combined_accident.csv\", inferSchema=True, header=True)\n",
    "\n",
    "# convert driver_id to matched datatype with internal_data\n",
    "insurance_data = insurance_data.withColumn(\"driver_id\", F.col(\"driver_id\").cast(DoubleType()))\n",
    "\n",
    "# drop group_id from internal data\n",
    "internal_data = internal_data.drop(\"group_id\")"
   ]
  },
  {
   "cell_type": "code",
   "execution_count": 0,
   "metadata": {
    "application/vnd.databricks.v1+cell": {
     "cellMetadata": {
      "byteLimit": 2048000,
      "rowLimit": 10000
     },
     "inputWidgets": {},
     "nuid": "c6b35302-85d0-46f0-9ed8-5c2cc42bb96f",
     "showTitle": false,
     "tableResultSettingsMap": {},
     "title": ""
    }
   },
   "outputs": [],
   "source": [
    "# 1) Ensure proper data types and column names \n",
    "\n",
    "driver_trips = internal_data.select(\"driver_id\", \"trip_date\").distinct().withColumn(\"trip_date\", F.col(\"trip_date\").cast(\"date\"))\n",
    "insurance_data = insurance_data.withColumn(\"Date\", F.col(\"Date\").cast(\"date\"))\n"
   ]
  },
  {
   "cell_type": "code",
   "execution_count": 0,
   "metadata": {
    "application/vnd.databricks.v1+cell": {
     "cellMetadata": {
      "byteLimit": 2048000,
      "rowLimit": 10000
     },
     "inputWidgets": {},
     "nuid": "2ab77266-346c-4f6e-8f0d-af621ea8dfe6",
     "showTitle": false,
     "tableResultSettingsMap": {},
     "title": ""
    }
   },
   "outputs": [],
   "source": [
    "# 2) Join *from* insurance_data -> driver_trips, matching on driver_id.\n",
    "joined_df = (\n",
    "    insurance_data.alias(\"ins\")\n",
    "    .join(\n",
    "        driver_trips.alias(\"i\"),\n",
    "        on=\"driver_id\",\n",
    "        how=\"left\"\n",
    "    )\n",
    "    .withColumn(\n",
    "        \"date_diff\",\n",
    "        F.abs(F.datediff(F.col(\"ins.Date\"), F.col(\"i.trip_date\")))\n",
    "    )\n",
    ")\n",
    "\n",
    "# 3) For every accident row (driver_id + Date), we want the single internal_data trip_date\n",
    "#    that has the smallest date_diff (and is < 15 days).\n",
    "#    Define a window partitioned by (driver_id, Date) and order by date_diff ascending.\n",
    "w = Window.partitionBy(\"ins.driver_id\", \"ins.Date\").orderBy(F.col(\"date_diff\").asc())\n",
    "\n",
    "# 4) Find the single best match by picking row_number=1 within each partition \n",
    "#    and filter out any rows that exceed 30 days.\n",
    "best_match_df = (\n",
    "    joined_df\n",
    "    .withColumn(\"rownum\", F.row_number().over(w))\n",
    "    .filter((F.col(\"rownum\") == 1) & (F.col(\"date_diff\") < 30))\n",
    ")\n",
    "\n",
    "# 5) best_match_df now contains at most one best match row in internal_data\n",
    "#    for every row in insurance_data (within 30 days).\n",
    "#    This is effectively the *unique* mapping from each accident row to a single trip_date.\n",
    "#    We'll pick out the columns needed to map back to internal_data.\n",
    "best_match_df = best_match_df.select(\n",
    "    F.col(\"ins.driver_id\").alias(\"accident_driver_id\"),\n",
    "    F.col(\"ins.Date\").alias(\"accident_date\"),\n",
    "    F.col(\"i.trip_date\")\n",
    ")\n",
    "\n",
    "# create column is_accident = 1\n",
    "best_match_df = best_match_df.withColumn(\"is_accident\", F.lit(1))"
   ]
  },
  {
   "cell_type": "code",
   "execution_count": 0,
   "metadata": {
    "application/vnd.databricks.v1+cell": {
     "cellMetadata": {
      "byteLimit": 2048000,
      "rowLimit": 10000
     },
     "inputWidgets": {},
     "nuid": "492357ee-407f-4cce-a2be-9b64a7637143",
     "showTitle": false,
     "tableResultSettingsMap": {},
     "title": ""
    }
   },
   "outputs": [],
   "source": [
    "# 6) Now we want to mark those matched internal_data rows as is_accident=1.\n",
    "#    So we can left-join best_match back to internal_data on (driver_id, trip_date).\n",
    "final_df = (\n",
    "    driver_trips.alias(\"i\")\n",
    "    .join(\n",
    "       best_match_df.alias(\"b\"),\n",
    "       on=[\n",
    "          F.col(\"i.driver_id\") == F.col(\"b.accident_driver_id\"),\n",
    "          F.col(\"i.trip_date\") == F.col(\"b.trip_date\")\n",
    "       ],\n",
    "       how=\"left\"\n",
    "    )\n",
    "    .withColumn(\"is_accident\",\n",
    "        when(F.col(\"b.accident_driver_id\").isNotNull(), 1).otherwise(0)\n",
    "    )\n",
    "    .select(\"i.*\", \"is_accident\")\n",
    ")\n",
    "\n",
    "# remove duplication\n",
    "final_df = final_df.dropDuplicates()"
   ]
  },
  {
   "cell_type": "code",
   "execution_count": 0,
   "metadata": {
    "application/vnd.databricks.v1+cell": {
     "cellMetadata": {
      "byteLimit": 2048000,
      "rowLimit": 10000
     },
     "inputWidgets": {},
     "nuid": "baf44400-707c-4d05-a7d5-90ffda296c91",
     "showTitle": false,
     "tableResultSettingsMap": {},
     "title": ""
    }
   },
   "outputs": [],
   "source": [
    "# 7) calculate if the driver previously had an accident \n",
    "accident_window = Window.partitionBy(\"driver_id\").orderBy(\"trip_date\").rowsBetween(Window.unboundedPreceding, -1)\n",
    "\n",
    "final_df = final_df.withColumn(\n",
    "    \"has_prev_accidents\",\n",
    "    when(max(col(\"is_accident\")).over(accident_window) == 1, lit(1)).otherwise(lit(0))\n",
    ")"
   ]
  },
  {
   "cell_type": "code",
   "execution_count": 0,
   "metadata": {
    "application/vnd.databricks.v1+cell": {
     "cellMetadata": {
      "byteLimit": 2048000,
      "rowLimit": 10000
     },
     "inputWidgets": {},
     "nuid": "cf8168f6-3d2f-4fd0-a9ca-f38a911ff5c8",
     "showTitle": false,
     "tableResultSettingsMap": {},
     "title": ""
    }
   },
   "outputs": [
    {
     "output_type": "stream",
     "name": "stdout",
     "output_type": "stream",
     "text": [
      "Num of matched driver_trips rows = 336\nNum of insurance_data rows = 364\n"
     ]
    }
   ],
   "source": [
    "\n",
    "accident_count_in_internal = final_df.filter(F.col(\"is_accident\") == 1)\n",
    "\n",
    "# Compare with the row count in insurance_data to verify that\n",
    "#    every row in insurance_data found exactly one match. \n",
    "num_insurance_rows = insurance_data.count()\n",
    "print(f\"Num of matched driver_trips rows = {accident_count_in_internal.count()}\")\n",
    "print(f\"Num of insurance_data rows = {num_insurance_rows}\")"
   ]
  },
  {
   "cell_type": "markdown",
   "metadata": {
    "application/vnd.databricks.v1+cell": {
     "cellMetadata": {
      "byteLimit": 2048000,
      "rowLimit": 10000
     },
     "inputWidgets": {},
     "nuid": "6dcc217d-d27f-435e-ab10-050000356f35",
     "showTitle": false,
     "tableResultSettingsMap": {},
     "title": ""
    }
   },
   "source": [
    "(**) Unassigned driver causes not being to matched 100 percent when does the accident happen. Evenwith an 30 days lenient, the matched is only 92%. Because of this, I am going to create another columns in `internal_data` called `has_accidents` basically what is trying to is based on the driver id and Date from insurance data. Given a driver, we can then has that driver commit incidents in the past based on trip_date"
   ]
  },
  {
   "cell_type": "code",
   "execution_count": 0,
   "metadata": {
    "application/vnd.databricks.v1+cell": {
     "cellMetadata": {
      "byteLimit": 2048000,
      "rowLimit": 10000
     },
     "inputWidgets": {},
     "nuid": "bee02bfa-9064-464a-a0a5-897dafdf8dfa",
     "showTitle": false,
     "tableResultSettingsMap": {},
     "title": ""
    }
   },
   "outputs": [
    {
     "output_type": "stream",
     "name": "stdout",
     "output_type": "stream",
     "text": [
      "+-----------+------+\n|is_accident| count|\n+-----------+------+\n|          1|   336|\n|          0|201498|\n+-----------+------+\n\n"
     ]
    }
   ],
   "source": [
    "final_df.groupBy('is_accident').count().show()"
   ]
  },
  {
   "cell_type": "code",
   "execution_count": 0,
   "metadata": {
    "application/vnd.databricks.v1+cell": {
     "cellMetadata": {
      "byteLimit": 2048000,
      "rowLimit": 10000
     },
     "inputWidgets": {},
     "nuid": "559f0ca6-26b7-4662-94fb-251b2084cf12",
     "showTitle": false,
     "tableResultSettingsMap": {},
     "title": ""
    },
    "scrolled": true
   },
   "outputs": [
    {
     "output_type": "stream",
     "name": "stdout",
     "output_type": "stream",
     "text": [
      "Dropping 135 columns:\n  - change_in_distance\n  - change_in_minutes\n  - rolling_7day_trip_count\n  - rolling_30day_trip_count\n  - rolling_7trip_avg_speed_mph\n  - rolling_30trip_avg_speed_mph\n  - rolling_7day_total_distance\n  - rolling_7day_total_minutes\n  - rolling_30day_total_distance\n  - rolling_30day_total_minutes\n  - vehicle_rolling_7trip_num_inspect\n  - vehicle_rolling_7trip_num_issues\n  - vehicle_rolling_7trip_sum_travel_dist\n  - vehicle_rolling_7trip_sum_minutes_driving\n  - vehicle_rolling_7trip_num_driving_events\n  - vehicle_rolling_30trip_num_inspect\n  - vehicle_rolling_30trip_num_issues\n  - vehicle_rolling_30trip_sum_travel_dist\n  - vehicle_rolling_30trip_sum_minutes_driving\n  - vehicle_rolling_30trip_num_driving_events\n  - vehicle_rolling_7trip_insp_distance\n  - vehicle_rolling_7trip_insp_minutes\n  - vehicle_rolling_7trip_insp_events\n  - vehicle_rolling_7trip_issues_distance\n  - vehicle_rolling_7trip_issues_minutes\n  - vehicle_rolling_7trip_issues_events\n  - vehicle_rolling_30trip_insp_distance\n  - vehicle_rolling_30trip_insp_minutes\n  - vehicle_rolling_30trip_insp_events\n  - vehicle_rolling_30trip_issues_distance\n  - vehicle_rolling_30trip_issues_minutes\n  - vehicle_rolling_30trip_issues_events\n  - vehicle_rolling_7trip_insp_given_date\n  - vehicle_rolling_7trip_issues_given_date\n  - vehicle_rolling_30trip_insp_given_date\n  - vehicle_rolling_30trip_issues_given_date\n  - rolling_7trip_idle_count\n  - rolling_7trip_avg_idle_duration\n  - rolling_7trip_avg_idle_minutes\n  - driver_sum_travel_distance_roll7d\n  - driver_sum_travel_distance_roll30d\n  - driver_sum_minutes_driving_roll7d\n  - driver_sum_minutes_driving_roll30d\n  - driver_num_driving_events_roll7d\n  - driver_num_driving_events_roll30d\n  - camera_obstruction_roll7d\n  - camera_obstruction_roll30d\n  - cell_phone_roll7d\n  - cell_phone_roll30d\n  - crash_roll7d\n  - crash_roll30d\n  - distraction_roll7d\n  - distraction_roll30d\n  - driver_facing_cam_obstruction_roll7d\n  - driver_facing_cam_obstruction_roll30d\n  - drowsiness_roll7d\n  - drowsiness_roll30d\n  - forward_collision_warning_roll7d\n  - forward_collision_warning_roll30d\n  - manual_event_roll7d\n  - manual_event_roll30d\n  - near_miss_roll7d\n  - near_miss_roll30d\n  - ran_a_red_light_roll7d\n  - ran_a_red_light_roll30d\n  - road_facing_cam_obstruction_roll7d\n  - road_facing_cam_obstruction_roll30d\n  - seat_belt_violation_roll7d\n  - seat_belt_violation_roll30d\n  - speeding_roll7d\n  - speeding_roll30d\n  - stop_sign_violation_roll7d\n  - stop_sign_violation_roll30d\n  - tailgating_roll7d\n  - tailgating_roll30d\n  - unsafe_lane_change_roll7d\n  - unsafe_lane_change_roll30d\n  - total_events_per_trip_roll7d\n  - total_events_per_trip_roll30d\n  - trip_ts_roll7d\n  - trip_ts_roll30d\n  - low_roll7d\n  - low_roll30d\n  - mid_roll7d\n  - mid_roll30d\n  - high_roll7d\n  - high_roll30d\n  - ratio_driver_sum_travel_distance_roll7d_per_year\n  - ratio_driver_sum_travel_distance_roll30d_per_year\n  - ratio_driver_sum_minutes_driving_roll7d_per_year\n  - ratio_driver_sum_minutes_driving_roll30d_per_year\n  - ratio_driver_num_driving_events_roll7d_per_year\n  - ratio_driver_num_driving_events_roll30d_per_year\n  - ratio_camera_obstruction_roll7d_per_year\n  - ratio_camera_obstruction_roll30d_per_year\n  - ratio_cell_phone_roll7d_per_year\n  - ratio_cell_phone_roll30d_per_year\n  - ratio_crash_roll7d_per_year\n  - ratio_crash_roll30d_per_year\n  - ratio_distraction_roll7d_per_year\n  - ratio_distraction_roll30d_per_year\n  - ratio_driver_facing_cam_obstruction_roll7d_per_year\n  - ratio_driver_facing_cam_obstruction_roll30d_per_year\n  - ratio_drowsiness_roll7d_per_year\n  - ratio_drowsiness_roll30d_per_year\n  - ratio_forward_collision_warning_roll7d_per_year\n  - ratio_forward_collision_warning_roll30d_per_year\n  - ratio_manual_event_roll7d_per_year\n  - ratio_manual_event_roll30d_per_year\n  - ratio_near_miss_roll7d_per_year\n  - ratio_near_miss_roll30d_per_year\n  - ratio_ran_a_red_light_roll7d_per_year\n  - ratio_ran_a_red_light_roll30d_per_year\n  - ratio_road_facing_cam_obstruction_roll7d_per_year\n  - ratio_road_facing_cam_obstruction_roll30d_per_year\n  - ratio_seat_belt_violation_roll7d_per_year\n  - ratio_seat_belt_violation_roll30d_per_year\n  - ratio_speeding_roll7d_per_year\n  - ratio_speeding_roll30d_per_year\n  - ratio_stop_sign_violation_roll7d_per_year\n  - ratio_stop_sign_violation_roll30d_per_year\n  - ratio_tailgating_roll7d_per_year\n  - ratio_tailgating_roll30d_per_year\n  - ratio_unsafe_lane_change_roll7d_per_year\n  - ratio_unsafe_lane_change_roll30d_per_year\n  - ratio_total_events_per_trip_roll7d_per_year\n  - ratio_total_events_per_trip_roll30d_per_year\n  - ratio_trip_ts_roll7d_per_year\n  - ratio_trip_ts_roll30d_per_year\n  - ratio_low_roll7d_per_year\n  - ratio_low_roll30d_per_year\n  - ratio_mid_roll7d_per_year\n  - ratio_mid_roll30d_per_year\n  - ratio_high_roll7d_per_year\n  - ratio_high_roll30d_per_year\n"
     ]
    }
   ],
   "source": [
    "all_columns = internal_data.columns\n",
    "\n",
    "# Create a list of columns to drop\n",
    "columns_to_drop = ['change_in_distance', 'change_in_minutes']\n",
    "\n",
    "# Add columns containing '7' or '30' to the drop list\n",
    "for col in all_columns:\n",
    "    if '7' in col or '30' in col:\n",
    "        columns_to_drop.append(col)\n",
    "\n",
    "# Print columns that will be dropped for verification\n",
    "print(f\"Dropping {len(columns_to_drop)} columns:\")\n",
    "for col in columns_to_drop:\n",
    "    print(f\"  - {col}\")\n",
    "\n",
    "# Create a new DataFrame without the dropped columns\n",
    "internal_data = internal_data.drop(*columns_to_drop)"
   ]
  },
  {
   "cell_type": "code",
   "execution_count": 0,
   "metadata": {
    "application/vnd.databricks.v1+cell": {
     "cellMetadata": {
      "byteLimit": 2048000,
      "rowLimit": 10000
     },
     "inputWidgets": {},
     "nuid": "097b616d-b0cb-4f68-94cc-b6640510d9d2",
     "showTitle": false,
     "tableResultSettingsMap": {},
     "title": ""
    }
   },
   "outputs": [
    {
     "output_type": "execute_result",
     "data": {
      "text/plain": [
       "['driver_id', 'trip_date', 'is_accident', 'has_prev_accidents']"
      ]
     },
     "execution_count": 30,
     "metadata": {},
     "output_type": "execute_result"
    }
   ],
   "source": [
    "final_combined_df.columns"
   ]
  },
  {
   "cell_type": "code",
   "execution_count": 0,
   "metadata": {
    "application/vnd.databricks.v1+cell": {
     "cellMetadata": {
      "byteLimit": 2048000,
      "rowLimit": 10000
     },
     "inputWidgets": {},
     "nuid": "e704643f-d053-43fb-b3ce-4852654d3090",
     "showTitle": false,
     "tableResultSettingsMap": {},
     "title": ""
    }
   },
   "outputs": [
    {
     "output_type": "stream",
     "name": "stdout",
     "output_type": "stream",
     "text": [
      "216942\n216942\n216942\n"
     ]
    }
   ],
   "source": [
    "# join with internal_data \n",
    "complete_driver_df = internal_data.join(final_df, on=[\"driver_id\", \"trip_date\"], how=\"left\")\n",
    "\n",
    "# check to see if join correctly \n",
    "print(complete_driver_df.count())\n",
    "print(internal_data.select(\"driver_id\", \"vehicle_id\", \"trip_date\").distinct().count())\n",
    "print(complete_driver_df.select(\"driver_id\",\"vehicle_id\", \"trip_date\").distinct().count())"
   ]
  },
  {
   "cell_type": "code",
   "execution_count": 0,
   "metadata": {
    "application/vnd.databricks.v1+cell": {
     "cellMetadata": {
      "byteLimit": 2048000,
      "rowLimit": 10000
     },
     "inputWidgets": {},
     "nuid": "8d25731d-f3a4-4cd6-a6cc-b9b4a554ddab",
     "showTitle": false,
     "tableResultSettingsMap": {},
     "title": ""
    }
   },
   "outputs": [],
   "source": [
    "# load external data\n",
    "external_data = spark.read.csv(\"dbfs:/FileStore/tables/location_data_feature_engineering.csv\", \n",
    "                               inferSchema=True, \n",
    "                               header=True)"
   ]
  },
  {
   "cell_type": "code",
   "execution_count": 0,
   "metadata": {
    "application/vnd.databricks.v1+cell": {
     "cellMetadata": {
      "byteLimit": 2048000,
      "rowLimit": 10000
     },
     "inputWidgets": {},
     "nuid": "13c0f0ce-f36f-4934-8e27-315585089155",
     "showTitle": false,
     "tableResultSettingsMap": {},
     "title": ""
    }
   },
   "outputs": [],
   "source": [
    "# Remove Extraneous Columns + Feature Selection\n",
    "# A lot of the aggregated variables capture the same information \n",
    "removed_columns = [\n",
    "    \"ID\",\"Brand\",\"Region\",\"State\",\n",
    "    \"City\",\n",
    "    \"Address\",\n",
    "    \"Latitude\",\n",
    "    \"Longitude\",\n",
    "    \"County\",\n",
    "    \"Country\",\n",
    "    \"local_month_first_day\",\n",
    "    \"timezone\",\n",
    "    \"Crash Year\",\"Crash Month\",\n",
    "    \"mean_precipitation\", \"median_precipitation\", \"stddev_precipitation\", \n",
    "    \"q3_precipitation\", \"q1_precipitation\", \"min_precipitation\", \"max_precipitation\", \"iqr_precipitation\",\n",
    "    \"total_crashes\",\"total_fatalities\",\"total_injuries\",\"total_vehicles\",\n",
    "    \"year_month\", \"first_day_of_month\", \n",
    "    \"adjusted_date\",\n",
    "    \"date\",\n",
    "    \"period_end_utc\",\n",
    "    \"period_start_utc\",\n",
    "    \"period_end_eastern\",\n",
    "    \"period_start_eastern\",\n",
    "    \"collection_date_utc\",\n",
    "    \"collection_date_eastern\", \n",
    "    \"stddev_precipitation_prev_1d_avg\",\n",
    "    \"q3_precipitation_prev_1d_avg\",\n",
    "    \"q1_precipitation_prev_1d_avg\",\n",
    "    \"min_precipitation_prev_1d_avg\",\n",
    "    \"max_precipitation_prev_1d_avg\",\n",
    "    \"iqr_precipitation_prev_1d_avg\",\n",
    "\n",
    "    \"stddev_precipitation_prev_2d_avg\",\n",
    "    \"q3_precipitation_prev_2d_avg\",\n",
    "    \"q1_precipitation_prev_2d_avg\",\n",
    "    \"min_precipitation_prev_2d_avg\",\n",
    "    \"max_precipitation_prev_2d_avg\",\n",
    "    \"iqr_precipitation_prev_2d_avg\",\n",
    "\n",
    "    \"stddev_precipitation_prev_3d_avg\",\n",
    "    \"q3_precipitation_prev_3d_avg\",\n",
    "    \"q1_precipitation_prev_3d_avg\",\n",
    "    \"min_precipitation_prev_3d_avg\",\n",
    "    \"max_precipitation_prev_3d_avg\",\n",
    "    \"iqr_precipitation_prev_3d_avg\",\n",
    "\n",
    "    \"total_crashes_prev_4m_avg\",\n",
    "    \"total_crashes_prev_5m_avg\",\n",
    "    \"total_crashes_prev_6m_avg\",\n",
    "\n",
    "    \"total_injuries_prev_4m_avg\",\n",
    "    \"total_injuries_prev_5m_avg\",\n",
    "    \"total_injuries_prev_6m_avg\",\n",
    "\n",
    "    \"total_vehicles_prev_4m_avg\",\n",
    "    \"total_vehicles_prev_5m_avg\",\n",
    "    \"total_vehicles_prev_6m_avg\",\n",
    "    \n",
    "    \"total_fatalities_prev_4m_avg\",\n",
    "    \"total_fatalities_prev_5m_avg\",\n",
    "    \"total_fatalities_prev_6m_avg\",\n",
    "    \n",
    "    \"mean_precipitation_prev_1d_avg\", \n",
    "    \"mean_precipitation_prev_2d_avg\",\n",
    "    \"mean_precipitation_prev_3d_avg\",\n",
    "    \"mean_precipitation_prev_2d_avg\",\n",
    "    \"stddev_precipitation_prev_1d_avg\",\n",
    "    \n",
    "    \"max_precipitation_prev_2d_avg\", \n",
    "    \"iqr_precipitation_prev_2d_avg\",\n",
    "    \"stddev_precipitation_prev_3d_avg\",\n",
    "    \"q3_precipitation_prev_3d_avg\", \n",
    "    \"q1_precipitation_prev_3d_avg\", \n",
    "    \"min_precipitation_prev_3d_avg\",\n",
    "    \"max_precipitation_prev_3d_avg\", \n",
    "    \"iqr_precipitation_prev_3d_avg\",\n",
    "    \"total_crashes_prev_1m_avg\", \n",
    "    \"total_crashes_prev_2m_avg\", \n",
    "    \"total_crashes_prev_4m_avg\", \"total_crashes_prev_5m_avg\", \"total_crashes_prev_6m_avg\",\n",
    "    \"total_fatalities_prev_1m_avg\", \"total_fatalities_prev_2m_avg\",\n",
    "    \"total_fatalities_prev_4m_avg\", \"total_fatalities_prev_5m_avg\", \"total_fatalities_prev_6m_avg\", \n",
    "    \"total_injuries_prev_1m_avg\", \"total_injuries_prev_2m_avg\", \n",
    "    \"total_injuries_prev_4m_avg\", \"total_injuries_prev_5m_avg\", \"total_injuries_prev_6m_avg\",\n",
    "    \"total_vehicles_prev_1m_avg\", \"total_vehicles_prev_2m_avg\", \n",
    "    \"total_vehicles_prev_4m_avg\", \"total_vehicles_prev_5m_avg\", \"total_vehicles_prev_6m_avg\"\n",
    "    \n",
    "]\n",
    "external_data= external_data.drop(*removed_columns).cache()"
   ]
  },
  {
   "cell_type": "code",
   "execution_count": 0,
   "metadata": {
    "application/vnd.databricks.v1+cell": {
     "cellMetadata": {
      "byteLimit": 2048000,
      "rowLimit": 10000
     },
     "inputWidgets": {},
     "nuid": "3561094d-2aca-479a-825a-2dc980f2f252",
     "showTitle": false,
     "tableResultSettingsMap": {},
     "title": ""
    }
   },
   "outputs": [
    {
     "output_type": "stream",
     "name": "stdout",
     "output_type": "stream",
     "text": [
      "root\n |-- driver_id: double (nullable = true)\n |-- trip_date: date (nullable = true)\n |-- is_accident: integer (nullable = false)\n |-- has_prev_accidents: integer (nullable = false)\n\n"
     ]
    }
   ],
   "source": [
    "final_df.printSchema()"
   ]
  },
  {
   "cell_type": "code",
   "execution_count": 0,
   "metadata": {
    "application/vnd.databricks.v1+cell": {
     "cellMetadata": {
      "byteLimit": 2048000,
      "rowLimit": 10000
     },
     "inputWidgets": {},
     "nuid": "1d2f0cc2-de44-4c97-ab2a-4dc9b0da40e0",
     "showTitle": false,
     "tableResultSettingsMap": {},
     "title": ""
    }
   },
   "outputs": [
    {
     "output_type": "stream",
     "name": "stdout",
     "output_type": "stream",
     "text": [
      "median_precipitation_prev_1d_avg\nmedian_precipitation_prev_2d_avg\nmedian_precipitation_prev_3d_avg\ntotal_crashes_prev_3m_avg\ntotal_fatalities_prev_3m_avg\ntotal_injuries_prev_3m_avg\ntotal_vehicles_prev_3m_avg\n"
     ]
    }
   ],
   "source": [
    "# convert numerical to integer \n",
    "# List of string columns that are actually numeric and should be cast\n",
    "string_columns_to_convert = [\n",
    "    \"median_precipitation_prev_1d_avg\", \n",
    "     \"median_precipitation_prev_2d_avg\",\n",
    "     \"median_precipitation_prev_3d_avg\", \n",
    "    \"total_crashes_prev_3m_avg\",\n",
    "    \"total_fatalities_prev_3m_avg\",\n",
    "    \"total_injuries_prev_3m_avg\",\n",
    "    \"total_vehicles_prev_3m_avg\"\n",
    "]\n",
    "\n",
    "# Cast each string column to double\n",
    "for col_name in string_columns_to_convert:\n",
    "    if col_name in external_data.columns:\n",
    "        print(col_name)\n",
    "        external_data = external_data.withColumn(col_name, F.col(col_name).cast(DoubleType()))"
   ]
  },
  {
   "cell_type": "code",
   "execution_count": 0,
   "metadata": {
    "application/vnd.databricks.v1+cell": {
     "cellMetadata": {
      "byteLimit": 2048000,
      "rowLimit": 10000
     },
     "inputWidgets": {},
     "nuid": "837afe2f-c804-47fe-821e-0996c6776a1b",
     "showTitle": false,
     "tableResultSettingsMap": {},
     "title": ""
    }
   },
   "outputs": [],
   "source": [
    "# Identify numeric columns\n",
    "numeric_cols = [field.name for field in external_data.schema.fields if isinstance(field.dataType, NumericType)]\n",
    "\n",
    "# Fill nulls in numeric columns with 0 (or another value if preferred)\n",
    "external_data = external_data.fillna(0, subset=numeric_cols)\n",
    "external_data= external_data.withColumnRenamed(\"local_date\", \"trip_date\")\n",
    "external_data= external_data.withColumnRenamed(\"Zip\", \"zipcode\")"
   ]
  },
  {
   "cell_type": "code",
   "execution_count": 0,
   "metadata": {
    "application/vnd.databricks.v1+cell": {
     "cellMetadata": {
      "byteLimit": 2048000,
      "rowLimit": 10000
     },
     "inputWidgets": {},
     "nuid": "c0ca20dd-4c67-43bc-a8c6-03ae37e3cf59",
     "showTitle": false,
     "tableResultSettingsMap": {},
     "title": ""
    }
   },
   "outputs": [],
   "source": [
    "# join between those 2 together on zipcode and local_date\n",
    "joined_data = complete_driver_df.join(external_data, on = ['zipcode',\"trip_date\"], how = 'left').cache()"
   ]
  },
  {
   "cell_type": "code",
   "execution_count": 0,
   "metadata": {
    "application/vnd.databricks.v1+cell": {
     "cellMetadata": {
      "byteLimit": 2048000,
      "rowLimit": 10000
     },
     "inputWidgets": {},
     "nuid": "0b0e0582-dd8b-4bc0-8ea7-412fd644a3f7",
     "showTitle": false,
     "tableResultSettingsMap": {},
     "title": ""
    }
   },
   "outputs": [
    {
     "output_type": "stream",
     "name": "stdout",
     "output_type": "stream",
     "text": [
      "+-----------+------+\n|is_accident| count|\n+-----------+------+\n|          1|   368|\n|          0|216574|\n+-----------+------+\n\n"
     ]
    }
   ],
   "source": [
    "joined_data.groupBy('is_accident').count().show()"
   ]
  },
  {
   "cell_type": "code",
   "execution_count": 0,
   "metadata": {
    "application/vnd.databricks.v1+cell": {
     "cellMetadata": {
      "byteLimit": 2048000,
      "rowLimit": 10000
     },
     "inputWidgets": {},
     "nuid": "e5fc2e33-c673-40c4-99cb-31a62a0ff2d0",
     "showTitle": false,
     "tableResultSettingsMap": {},
     "title": ""
    }
   },
   "outputs": [
    {
     "output_type": "stream",
     "name": "stdout",
     "output_type": "stream",
     "text": [
      "Non-numerical columns: ['trip_date']\n"
     ]
    }
   ],
   "source": [
    "schema = joined_data.schema\n",
    "\n",
    "# find non-numerical columns\n",
    "numerical_cols = [field.name for field in schema if isinstance(field.dataType, NumericType)]\n",
    "# remove is_accident column\n",
    "numerical_cols = [col for col in numerical_cols if col != \"is_accident\"]\n",
    "non_numerical_cols = [field.name for field in schema if not isinstance(field.dataType, NumericType)]\n",
    "\n",
    "# Show results\n",
    "print(\"Non-numerical columns:\", non_numerical_cols)"
   ]
  },
  {
   "cell_type": "code",
   "execution_count": 0,
   "metadata": {
    "application/vnd.databricks.v1+cell": {
     "cellMetadata": {
      "byteLimit": 2048000,
      "rowLimit": 10000
     },
     "inputWidgets": {},
     "nuid": "134ba828-41ec-4ad2-abc0-21ecd5e1794b",
     "showTitle": false,
     "tableResultSettingsMap": {},
     "title": ""
    }
   },
   "outputs": [
    {
     "output_type": "display_data",
     "data": {
      "text/html": [
       "<style scoped>\n",
       "  .ansiout {\n",
       "    display: block;\n",
       "    unicode-bidi: embed;\n",
       "    white-space: pre-wrap;\n",
       "    word-wrap: break-word;\n",
       "    word-break: break-all;\n",
       "    font-family: \"Menlo\", \"Monaco\", \"Consolas\", \"Ubuntu Mono\", \"Source Code Pro\", monospace;\n",
       "    font-size: 13px;\n",
       "    color: #555;\n",
       "    margin-left: 4px;\n",
       "    line-height: 19px;\n",
       "  }\n",
       "</style>"
      ]
     },
     "metadata": {
      "application/vnd.databricks.v1+output": {
       "arguments": {},
       "data": "",
       "errorSummary": "Cancelled",
       "errorTraceType": "html",
       "metadata": {},
       "type": "ipynbError"
      }
     },
     "output_type": "display_data"
    }
   ],
   "source": [
    "# check for null values\n",
    "# Count nulls per column\n",
    "null_counts = joined_data.select([\n",
    "    sum(F.col(c).isNull().cast(\"int\")).alias(c)\n",
    "    for c in joined_data.columns\n",
    "])\n",
    "\n",
    "null_counts.show()\n",
    "\n"
   ]
  },
  {
   "cell_type": "markdown",
   "metadata": {
    "application/vnd.databricks.v1+cell": {
     "cellMetadata": {
      "byteLimit": 2048000,
      "rowLimit": 10000
     },
     "inputWidgets": {},
     "nuid": "511567d6-5fb2-4f27-a35b-19dc26f11ff3",
     "showTitle": false,
     "tableResultSettingsMap": {},
     "title": ""
    }
   },
   "source": [
    "## Data Splitting \n",
    "\n",
    "Our task is binary classfication of whether an accidents will occur. We can't use random train-test splitting because this method would leak future information into the past, which violates the temporal order (trip_date). This is why I am going to do time-based (chronological split) using `trip_date` columns "
   ]
  },
  {
   "cell_type": "code",
   "execution_count": 0,
   "metadata": {
    "application/vnd.databricks.v1+cell": {
     "cellMetadata": {
      "byteLimit": 2048000,
      "rowLimit": 10000
     },
     "inputWidgets": {},
     "nuid": "6b14e774-fd2b-4500-a873-d2702f392afe",
     "showTitle": false,
     "tableResultSettingsMap": {},
     "title": ""
    }
   },
   "outputs": [
    {
     "output_type": "stream",
     "name": "stdout",
     "output_type": "stream",
     "text": [
      "Earliest accident:\n+----------+\n|trip_date |\n+----------+\n|2023-03-01|\n+----------+\n\n"
     ]
    }
   ],
   "source": [
    "# Filter for accidents only\n",
    "accident_df = joined_data.filter(F.col(\"is_accident\") == 1)\n",
    "\n",
    "# Sort by date and get the earliest accident\n",
    "earliest_accident = accident_df.orderBy(F.col(\"trip_date\").asc()).limit(1)\n",
    "\n",
    "# Show the earliest accident|\n",
    "print(\"Earliest accident:\")\n",
    "earliest_accident.select(\"trip_date\").show(truncate=False)"
   ]
  },
  {
   "cell_type": "code",
   "execution_count": 0,
   "metadata": {
    "application/vnd.databricks.v1+cell": {
     "cellMetadata": {
      "byteLimit": 2048000,
      "rowLimit": 10000
     },
     "inputWidgets": {},
     "nuid": "4cdac57b-4157-451b-83bb-a7ec04ab7796",
     "showTitle": false,
     "tableResultSettingsMap": {},
     "title": ""
    }
   },
   "outputs": [],
   "source": [
    "non_accident_df = joined_data.filter(F.col(\"is_accident\") == 0)\n",
    "non_accident_df_cnt = non_accident_df.count()\n",
    "accident_count = accident_df.count()\n"
   ]
  },
  {
   "cell_type": "code",
   "execution_count": 0,
   "metadata": {
    "application/vnd.databricks.v1+cell": {
     "cellMetadata": {
      "byteLimit": 2048000,
      "rowLimit": 10000
     },
     "inputWidgets": {},
     "nuid": "cef7109d-e8b8-446b-900e-5dd858723469",
     "showTitle": false,
     "tableResultSettingsMap": {},
     "title": ""
    }
   },
   "outputs": [
    {
     "output_type": "stream",
     "name": "stdout",
     "output_type": "stream",
     "text": [
      "216574\n368\n0.0016991882682131742\n"
     ]
    }
   ],
   "source": [
    "print(non_accident_df_cnt)\n",
    "print(accident_count)\n",
    "print(accident_count/non_accident_df_cnt)"
   ]
  },
  {
   "cell_type": "code",
   "execution_count": 0,
   "metadata": {
    "application/vnd.databricks.v1+cell": {
     "cellMetadata": {
      "byteLimit": 2048000,
      "rowLimit": 10000
     },
     "inputWidgets": {},
     "nuid": "35480216-2908-4f76-9143-4316c36c8932",
     "showTitle": false,
     "tableResultSettingsMap": {},
     "title": ""
    }
   },
   "outputs": [
    {
     "output_type": "stream",
     "name": "stdout",
     "output_type": "stream",
     "text": [
      "+----+-----+-----+\n|year|month|count|\n+----+-----+-----+\n|2023|    3|    5|\n|2023|    4|    2|\n|2023|    5|    4|\n|2023|    6|    3|\n|2023|    7|    2|\n|2023|    8|   10|\n|2023|    9|    8|\n|2023|   10|   14|\n|2023|   11|    5|\n|2023|   12|    6|\n|2024|    1|    8|\n|2024|    2|   12|\n|2024|    3|   10|\n|2024|    4|   15|\n|2024|    5|   19|\n|2024|    6|   31|\n|2024|    7|   18|\n|2024|    8|   23|\n|2024|    9|   33|\n|2024|   10|   32|\n|2024|   11|   22|\n|2024|   12|   35|\n|2025|    1|   24|\n|2025|    2|   27|\n+----+-----+-----+\n\n"
     ]
    }
   ],
   "source": [
    "from pyspark.sql.functions import col, year, month, count\n",
    "\n",
    "# Create month and year columns from trip_date\n",
    "df_with_date_parts = joined_data.withColumn(\"year\", year(col(\"trip_date\"))) \\\n",
    "                             .withColumn(\"month\", month(col(\"trip_date\")))\n",
    "\n",
    "# Group by year and month to get accident counts\n",
    "accidents_by_month = df_with_date_parts.filter(col(\"is_accident\") == 1) \\\n",
    "                                       .groupBy(\"year\", \"month\") \\\n",
    "                                       .count() \\\n",
    "                                       .orderBy(\"year\", \"month\")\n",
    "\n",
    "# Show the results\n",
    "accidents_by_month.show(100)  "
   ]
  },
  {
   "cell_type": "code",
   "execution_count": 0,
   "metadata": {
    "application/vnd.databricks.v1+cell": {
     "cellMetadata": {
      "byteLimit": 2048000,
      "rowLimit": 10000
     },
     "inputWidgets": {},
     "nuid": "141738ff-0989-48d7-a270-709b4ab85ea7",
     "showTitle": false,
     "tableResultSettingsMap": {},
     "title": ""
    }
   },
   "outputs": [],
   "source": [
    "# Excluding data before 3/2023 as Motive API adoption was still low and there are not of accidents for our model to \n",
    "# learn from in this period.\n",
    "cutoff_date = earliest_accident.select(\"trip_date\").first()[\"trip_date\"]\n",
    "\n",
    "# Split chronologically\n",
    "data_for_model = joined_data.filter(F.col(\"trip_date\") >= cutoff_date)\n",
    "\n",
    "# Convert driver id and vehicle id for one hot encoding \n",
    "vehicle_indexer = StringIndexer(inputCol=\"vehicle_id\", outputCol=\"vehicle_id_index\", handleInvalid=\"keep\")\n",
    "driver_indexer = StringIndexer(inputCol=\"driver_id\", outputCol=\"driver_id_index\", handleInvalid=\"keep\")\n",
    "\n",
    "# OneHotEncoders for the indexed columns\n",
    "vehicle_encoder = OneHotEncoder(inputCols=[\"vehicle_id_index\"], outputCols=[\"vehicle_id_encoded\"])\n",
    "driver_encoder = OneHotEncoder(inputCols=[\"driver_id_index\"], outputCols=[\"driver_id_encoded\"])\n",
    "\n",
    "#  Create and fit the pipeline\n",
    "encoding_pipeline = Pipeline(stages=[vehicle_indexer, driver_indexer, vehicle_encoder, driver_encoder])\n",
    "\n",
    "# Apply transformations to data_for_model\n",
    "encoded_data = encoding_pipeline.fit(data_for_model).transform(data_for_model)\n",
    "# drop vehicle_id and driver_id\n",
    "encoded_data = encoded_data.drop(\"vehicle_id\", \"driver_id\", \"vehicle_id_index\", \"driver_id_index\")\n"
   ]
  },
  {
   "cell_type": "code",
   "execution_count": 0,
   "metadata": {
    "application/vnd.databricks.v1+cell": {
     "cellMetadata": {
      "byteLimit": 2048000,
      "rowLimit": 10000
     },
     "inputWidgets": {},
     "nuid": "1367d59c-ca8e-4dbf-9a05-2db9c6fea8a6",
     "showTitle": false,
     "tableResultSettingsMap": {},
     "title": ""
    }
   },
   "outputs": [
    {
     "output_type": "stream",
     "name": "stdout",
     "output_type": "stream",
     "text": [
      "root\n |-- zipcode: integer (nullable = true)\n |-- trip_date: date (nullable = true)\n |-- days_since_last_trip: integer (nullable = true)\n |-- driving_year_since_first_trip: double (nullable = true)\n |-- previous_trip_date_avg_speed_mph: double (nullable = true)\n |-- rolling_15trip_avg_speed_mph: double (nullable = true)\n |-- prev_trip_date_distance: double (nullable = true)\n |-- prev_trip_date_minutes: double (nullable = true)\n |-- rolling_15day_total_distance: double (nullable = true)\n |-- rolling_15day_total_minutes: double (nullable = true)\n |-- last_has_issues: integer (nullable = true)\n |-- vehicle_inspection_rate: double (nullable = true)\n |-- vehicle_cum_issues: long (nullable = true)\n |-- vehicle_rolling_15trip_num_inspect: long (nullable = true)\n |-- vehicle_rolling_15trip_num_issues: long (nullable = true)\n |-- vehicle_rolling_15trip_sum_travel_dist: double (nullable = true)\n |-- vehicle_rolling_15trip_sum_minutes_driving: double (nullable = true)\n |-- vehicle_rolling_15trip_num_driving_events: long (nullable = true)\n |-- vehicle_rolling_15trip_insp_distance: double (nullable = true)\n |-- vehicle_rolling_15trip_insp_minutes: double (nullable = true)\n |-- vehicle_rolling_15trip_insp_events: double (nullable = true)\n |-- vehicle_rolling_15trip_issues_distance: double (nullable = true)\n |-- vehicle_rolling_15trip_issues_minutes: double (nullable = true)\n |-- vehicle_rolling_15trip_issues_events: double (nullable = true)\n |-- vehicle_rolling_15trip_insp_given_date: double (nullable = true)\n |-- vehicle_rolling_15trip_issues_given_date: double (nullable = true)\n |-- days_since_last_inspection: integer (nullable = true)\n |-- prev_sum_travel_distance: double (nullable = true)\n |-- prev_sum_minutes_driving: double (nullable = true)\n |-- prev_num_driving_events: long (nullable = true)\n |-- years_since_min_trip_date: double (nullable = true)\n |-- driver_sum_travel_distance_roll15d: double (nullable = true)\n |-- driver_sum_minutes_driving_roll15d: double (nullable = true)\n |-- driver_num_driving_events_roll15d: long (nullable = true)\n |-- camera_obstruction_roll15d: long (nullable = true)\n |-- cell_phone_roll15d: long (nullable = true)\n |-- crash_roll15d: long (nullable = true)\n |-- distraction_roll15d: long (nullable = true)\n |-- driver_facing_cam_obstruction_roll15d: long (nullable = true)\n |-- drowsiness_roll15d: long (nullable = true)\n |-- forward_collision_warning_roll15d: long (nullable = true)\n |-- manual_event_roll15d: long (nullable = true)\n |-- near_miss_roll15d: long (nullable = true)\n |-- ran_a_red_light_roll15d: long (nullable = true)\n |-- road_facing_cam_obstruction_roll15d: long (nullable = true)\n |-- seat_belt_violation_roll15d: long (nullable = true)\n |-- speeding_roll15d: long (nullable = true)\n |-- stop_sign_violation_roll15d: long (nullable = true)\n |-- tailgating_roll15d: long (nullable = true)\n |-- unsafe_lane_change_roll15d: long (nullable = true)\n |-- total_events_per_trip_roll15d: long (nullable = true)\n |-- trip_ts_roll15d: long (nullable = true)\n |-- prev_pending_review_count: long (nullable = true)\n |-- low_roll15d: long (nullable = true)\n |-- mid_roll15d: long (nullable = true)\n |-- high_roll15d: long (nullable = true)\n |-- ratio_driver_sum_travel_distance_roll15d_per_year: double (nullable = true)\n |-- ratio_driver_sum_minutes_driving_roll15d_per_year: double (nullable = true)\n |-- ratio_driver_num_driving_events_roll15d_per_year: double (nullable = true)\n |-- ratio_camera_obstruction_roll15d_per_year: double (nullable = true)\n |-- ratio_cell_phone_roll15d_per_year: double (nullable = true)\n |-- ratio_crash_roll15d_per_year: double (nullable = true)\n |-- ratio_distraction_roll15d_per_year: double (nullable = true)\n |-- ratio_driver_facing_cam_obstruction_roll15d_per_year: double (nullable = true)\n |-- ratio_drowsiness_roll15d_per_year: double (nullable = true)\n |-- ratio_forward_collision_warning_roll15d_per_year: double (nullable = true)\n |-- ratio_manual_event_roll15d_per_year: double (nullable = true)\n |-- ratio_near_miss_roll15d_per_year: double (nullable = true)\n |-- ratio_ran_a_red_light_roll15d_per_year: double (nullable = true)\n |-- ratio_road_facing_cam_obstruction_roll15d_per_year: double (nullable = true)\n |-- ratio_seat_belt_violation_roll15d_per_year: double (nullable = true)\n |-- ratio_speeding_roll15d_per_year: double (nullable = true)\n |-- ratio_stop_sign_violation_roll15d_per_year: double (nullable = true)\n |-- ratio_tailgating_roll15d_per_year: double (nullable = true)\n |-- ratio_unsafe_lane_change_roll15d_per_year: double (nullable = true)\n |-- ratio_total_events_per_trip_roll15d_per_year: double (nullable = true)\n |-- ratio_trip_ts_roll15d_per_year: double (nullable = true)\n |-- ratio_low_roll15d_per_year: double (nullable = true)\n |-- ratio_mid_roll15d_per_year: double (nullable = true)\n |-- ratio_high_roll15d_per_year: double (nullable = true)\n |-- prev_review_rate_per_km: double (nullable = true)\n |-- prev_review_rate_per_min: double (nullable = true)\n |-- prev_review_rate_per_event: double (nullable = true)\n |-- group_wi__buckys: integer (nullable = true)\n |-- group_ga_psi_augusta: integer (nullable = true)\n |-- group_nc__denver: integer (nullable = true)\n |-- group_tn__memphis__safety_quip: integer (nullable = true)\n |-- group_tn__fusionsite_(nashville): integer (nullable = true)\n |-- group_fl__freedom: integer (nullable = true)\n |-- group_fl__jw_craft: integer (nullable = true)\n |-- group_ms__american_johnny: integer (nullable = true)\n |-- group_fl__gainsville_porta_serve: integer (nullable = true)\n |-- group_pa__port_a_bowl: integer (nullable = true)\n |-- group_ia__cedar_rapids: integer (nullable = true)\n |-- group_ga__gci: integer (nullable = true)\n |-- group_ms__gotta_go: integer (nullable = true)\n |-- group_pa__malvern: integer (nullable = true)\n |-- group_tx__forza: integer (nullable = true)\n |-- group_tn__fusionsite_(clark): integer (nullable = true)\n |-- group_san_angelo_tops_septic: integer (nullable = true)\n |-- group_wi__stranders: integer (nullable = true)\n |-- group_az__stamback_admin: integer (nullable = true)\n |-- group_oh__rent__a__john: integer (nullable = true)\n |-- group_az__stamback_rolloffs_: integer (nullable = true)\n |-- group_nc__griffin_hook_trucks: integer (nullable = true)\n |-- group_tn__maxwell_septic: integer (nullable = true)\n |-- group_ky__lex: integer (nullable = true)\n |-- group_nc__asc: integer (nullable = true)\n |-- group_tn__chattanooga_bolles: integer (nullable = true)\n |-- group_tn__mc_septic: integer (nullable = true)\n |-- group_tn__etp_: integer (nullable = true)\n |-- group_sc__littlejohn: integer (nullable = true)\n |-- group_tx__acp: integer (nullable = true)\n |-- group_ny__a__john: integer (nullable = true)\n |-- group_va__r_r: integer (nullable = true)\n |-- group_nc__griffin_waste_pump_trucks: integer (nullable = true)\n |-- group_sc__psi_columbia: integer (nullable = true)\n |-- group_ky__bullitt_sep_service: integer (nullable = true)\n |-- group_ky__moon_minis: integer (nullable = true)\n |-- group_oh__c_l_and_safeway: integer (nullable = true)\n |-- group_ar__little_rock: integer (nullable = true)\n |-- group_ky__moon_leasing: integer (nullable = true)\n |-- group_nc__greensboro: integer (nullable = true)\n |-- group_tn__fusionsite_(woodycrest): integer (nullable = true)\n |-- group_ky__moon_portables: integer (nullable = true)\n |-- group_tx__j_bar: integer (nullable = true)\n |-- group_ar__fay: integer (nullable = true)\n |-- group_lubbock_hd_: integer (nullable = true)\n |-- group_az__stamback_septic: integer (nullable = true)\n |-- group_kermit: integer (nullable = true)\n |-- group_lubbock: integer (nullable = true)\n |-- group_wi__cesspool: integer (nullable = true)\n |-- is_accident: integer (nullable = true)\n |-- has_prev_accidents: integer (nullable = true)\n |-- year: integer (nullable = true)\n |-- month: integer (nullable = true)\n |-- median_precipitation_prev_1d_avg: double (nullable = true)\n |-- median_precipitation_prev_2d_avg: double (nullable = true)\n |-- median_precipitation_prev_3d_avg: double (nullable = true)\n |-- total_crashes_prev_3m_avg: double (nullable = true)\n |-- total_fatalities_prev_3m_avg: double (nullable = true)\n |-- total_injuries_prev_3m_avg: double (nullable = true)\n |-- total_vehicles_prev_3m_avg: double (nullable = true)\n |-- vehicle_id_encoded: vector (nullable = true)\n |-- driver_id_encoded: vector (nullable = true)\n\n"
     ]
    }
   ],
   "source": [
    "encoded_data.printSchema()"
   ]
  },
  {
   "cell_type": "code",
   "execution_count": 0,
   "metadata": {
    "application/vnd.databricks.v1+cell": {
     "cellMetadata": {
      "byteLimit": 2048000,
      "rowLimit": 10000
     },
     "inputWidgets": {},
     "nuid": "5ea7cffe-7b37-476e-9683-a83225ec5ce6",
     "showTitle": false,
     "tableResultSettingsMap": {},
     "title": ""
    }
   },
   "outputs": [],
   "source": [
    "# remove information that depends on current value\n",
    "columns_exclude=[\"driver_total_trip_count\", \"driver_log_trip_count\", \"vehicle_cum_distance\", \"vehicle_cum_inspections\", \"vehicle_inspection_rate\"\n",
    "                 \"vehicle_cum_issues\", \"vehicle_issues_rate\", \"\"]\n",
    "encoded_data= encoded_data.drop(*columns_exclude)"
   ]
  },
  {
   "cell_type": "code",
   "execution_count": 0,
   "metadata": {
    "application/vnd.databricks.v1+cell": {
     "cellMetadata": {
      "byteLimit": 2048000,
      "rowLimit": 10000
     },
     "inputWidgets": {},
     "nuid": "71a3fd11-27a7-4486-b9fd-aee16064df22",
     "showTitle": false,
     "tableResultSettingsMap": {},
     "title": ""
    }
   },
   "outputs": [
    {
     "output_type": "stream",
     "name": "stdout",
     "output_type": "stream",
     "text": [
      "Train count: 167079\nTest count: 45271\nRatio of train  0.7868095125971274\nratio of test  0.2131904874028726\n"
     ]
    }
   ],
   "source": [
    "# Choose a split date \n",
    "split_date = \"2024-11-01\"\n",
    "\n",
    "# Split chronologically\n",
    "train_data  = encoded_data.filter(F.col(\"trip_date\") < split_date)\n",
    "test_data = encoded_data.filter(F.col(\"trip_date\") >= split_date)\n",
    "\n",
    "# Cache if reused\n",
    "#train_df = train_data.cache()\n",
    "#test_df = test_data.cache()\n",
    "\n",
    "# Verify sizes\n",
    "print(\"Train count:\", train_data.count())\n",
    "print(\"Test count:\", test_data.count())\n",
    "\n",
    "print(\"Ratio of train \", train_data.count()/encoded_data.count())\n",
    "print(\"ratio of test \", test_data.count()/encoded_data.count())"
   ]
  },
  {
   "cell_type": "code",
   "execution_count": 0,
   "metadata": {
    "application/vnd.databricks.v1+cell": {
     "cellMetadata": {
      "byteLimit": 2048000,
      "rowLimit": 10000
     },
     "inputWidgets": {},
     "nuid": "f73d249e-4ae1-4ab2-bf56-950b23ea09c3",
     "showTitle": false,
     "tableResultSettingsMap": {},
     "title": ""
    }
   },
   "outputs": [
    {
     "output_type": "stream",
     "name": "stdout",
     "output_type": "stream",
     "text": [
      "+-----------+------+\n|is_accident| count|\n+-----------+------+\n|          1|   260|\n|          0|166819|\n+-----------+------+\n\n"
     ]
    }
   ],
   "source": [
    "train_data.groupBy(\"is_accident\").count().show()"
   ]
  },
  {
   "cell_type": "code",
   "execution_count": 0,
   "metadata": {
    "application/vnd.databricks.v1+cell": {
     "cellMetadata": {
      "byteLimit": 2048000,
      "rowLimit": 10000
     },
     "inputWidgets": {},
     "nuid": "dda5f694-d4c9-44d8-9fb7-0c01f95e873f",
     "showTitle": false,
     "tableResultSettingsMap": {},
     "title": ""
    }
   },
   "outputs": [
    {
     "output_type": "stream",
     "name": "stdout",
     "output_type": "stream",
     "text": [
      "+-----------+-----+\n|is_accident|count|\n+-----------+-----+\n|          1|  108|\n|          0|45163|\n+-----------+-----+\n\n"
     ]
    }
   ],
   "source": [
    "test_data.groupBy(\"is_accident\").count().show()"
   ]
  },
  {
   "cell_type": "code",
   "execution_count": 0,
   "metadata": {
    "application/vnd.databricks.v1+cell": {
     "cellMetadata": {
      "byteLimit": 2048000,
      "rowLimit": 10000
     },
     "inputWidgets": {},
     "nuid": "169e10d6-e8f7-4754-bfa0-33e61442f314",
     "showTitle": false,
     "tableResultSettingsMap": {},
     "title": ""
    }
   },
   "outputs": [
    {
     "output_type": "stream",
     "name": "stdout",
     "output_type": "stream",
     "text": [
      "+-------+---------+--------------------+-----------------------------+--------------------------------+----------------------------+-----------------------+----------------------+----------------------------+---------------------------+---------------+-----------------------+------------------+----------------------------------+---------------------------------+--------------------------------------+------------------------------------------+-----------------------------------------+------------------------------------+-----------------------------------+----------------------------------+--------------------------------------+-------------------------------------+------------------------------------+--------------------------------------+----------------------------------------+--------------------------+------------------------+------------------------+-----------------------+-------------------------+----------------------------------+----------------------------------+---------------------------------+--------------------------+------------------+-------------+-------------------+-------------------------------------+------------------+---------------------------------+--------------------+-----------------+-----------------------+-----------------------------------+---------------------------+----------------+---------------------------+------------------+--------------------------+-----------------------------+---------------+-------------------------+-----------+-----------+------------+-------------------------------------------------+-------------------------------------------------+------------------------------------------------+-----------------------------------------+---------------------------------+----------------------------+----------------------------------+----------------------------------------------------+---------------------------------+------------------------------------------------+-----------------------------------+--------------------------------+--------------------------------------+--------------------------------------------------+------------------------------------------+-------------------------------+------------------------------------------+---------------------------------+-----------------------------------------+--------------------------------------------+------------------------------+--------------------------+--------------------------+---------------------------+-----------------------+------------------------+--------------------------+----------------+--------------------+----------------+------------------------------+--------------------------------+-----------------+------------------+-------------------------+--------------------------------+---------------------+----------------------+-------------+------------------+-----------------+---------------+----------------------------+----------------------------+-------------------+------------------------+-----------------------+----------------------------+-----------------------------+------------------------+-------------+-------------+----------------------------+-------------------+--------------+--------------------+-------------+-----------------+-------------+-----------------------------------+----------------------+-----------------------------+--------------------+-------------------------+---------------------+----------------------+--------------------+---------------------------------+------------------------+---------------+-------------+-----------------+-------------------------+------------+-------------+------------------+-----------+------------------+----+-----+--------------------------------+--------------------------------+--------------------------------+-------------------------+----------------------------+--------------------------+--------------------------+------------------+-----------------+\n|zipcode|trip_date|days_since_last_trip|driving_year_since_first_trip|previous_trip_date_avg_speed_mph|rolling_15trip_avg_speed_mph|prev_trip_date_distance|prev_trip_date_minutes|rolling_15day_total_distance|rolling_15day_total_minutes|last_has_issues|vehicle_inspection_rate|vehicle_cum_issues|vehicle_rolling_15trip_num_inspect|vehicle_rolling_15trip_num_issues|vehicle_rolling_15trip_sum_travel_dist|vehicle_rolling_15trip_sum_minutes_driving|vehicle_rolling_15trip_num_driving_events|vehicle_rolling_15trip_insp_distance|vehicle_rolling_15trip_insp_minutes|vehicle_rolling_15trip_insp_events|vehicle_rolling_15trip_issues_distance|vehicle_rolling_15trip_issues_minutes|vehicle_rolling_15trip_issues_events|vehicle_rolling_15trip_insp_given_date|vehicle_rolling_15trip_issues_given_date|days_since_last_inspection|prev_sum_travel_distance|prev_sum_minutes_driving|prev_num_driving_events|years_since_min_trip_date|driver_sum_travel_distance_roll15d|driver_sum_minutes_driving_roll15d|driver_num_driving_events_roll15d|camera_obstruction_roll15d|cell_phone_roll15d|crash_roll15d|distraction_roll15d|driver_facing_cam_obstruction_roll15d|drowsiness_roll15d|forward_collision_warning_roll15d|manual_event_roll15d|near_miss_roll15d|ran_a_red_light_roll15d|road_facing_cam_obstruction_roll15d|seat_belt_violation_roll15d|speeding_roll15d|stop_sign_violation_roll15d|tailgating_roll15d|unsafe_lane_change_roll15d|total_events_per_trip_roll15d|trip_ts_roll15d|prev_pending_review_count|low_roll15d|mid_roll15d|high_roll15d|ratio_driver_sum_travel_distance_roll15d_per_year|ratio_driver_sum_minutes_driving_roll15d_per_year|ratio_driver_num_driving_events_roll15d_per_year|ratio_camera_obstruction_roll15d_per_year|ratio_cell_phone_roll15d_per_year|ratio_crash_roll15d_per_year|ratio_distraction_roll15d_per_year|ratio_driver_facing_cam_obstruction_roll15d_per_year|ratio_drowsiness_roll15d_per_year|ratio_forward_collision_warning_roll15d_per_year|ratio_manual_event_roll15d_per_year|ratio_near_miss_roll15d_per_year|ratio_ran_a_red_light_roll15d_per_year|ratio_road_facing_cam_obstruction_roll15d_per_year|ratio_seat_belt_violation_roll15d_per_year|ratio_speeding_roll15d_per_year|ratio_stop_sign_violation_roll15d_per_year|ratio_tailgating_roll15d_per_year|ratio_unsafe_lane_change_roll15d_per_year|ratio_total_events_per_trip_roll15d_per_year|ratio_trip_ts_roll15d_per_year|ratio_low_roll15d_per_year|ratio_mid_roll15d_per_year|ratio_high_roll15d_per_year|prev_review_rate_per_km|prev_review_rate_per_min|prev_review_rate_per_event|group_wi__buckys|group_ga_psi_augusta|group_nc__denver|group_tn__memphis__safety_quip|group_tn__fusionsite_(nashville)|group_fl__freedom|group_fl__jw_craft|group_ms__american_johnny|group_fl__gainsville_porta_serve|group_pa__port_a_bowl|group_ia__cedar_rapids|group_ga__gci|group_ms__gotta_go|group_pa__malvern|group_tx__forza|group_tn__fusionsite_(clark)|group_san_angelo_tops_septic|group_wi__stranders|group_az__stamback_admin|group_oh__rent__a__john|group_az__stamback_rolloffs_|group_nc__griffin_hook_trucks|group_tn__maxwell_septic|group_ky__lex|group_nc__asc|group_tn__chattanooga_bolles|group_tn__mc_septic|group_tn__etp_|group_sc__littlejohn|group_tx__acp|group_ny__a__john|group_va__r_r|group_nc__griffin_waste_pump_trucks|group_sc__psi_columbia|group_ky__bullitt_sep_service|group_ky__moon_minis|group_oh__c_l_and_safeway|group_ar__little_rock|group_ky__moon_leasing|group_nc__greensboro|group_tn__fusionsite_(woodycrest)|group_ky__moon_portables|group_tx__j_bar|group_ar__fay|group_lubbock_hd_|group_az__stamback_septic|group_kermit|group_lubbock|group_wi__cesspool|is_accident|has_prev_accidents|year|month|median_precipitation_prev_1d_avg|median_precipitation_prev_2d_avg|median_precipitation_prev_3d_avg|total_crashes_prev_3m_avg|total_fatalities_prev_3m_avg|total_injuries_prev_3m_avg|total_vehicles_prev_3m_avg|vehicle_id_encoded|driver_id_encoded|\n+-------+---------+--------------------+-----------------------------+--------------------------------+----------------------------+-----------------------+----------------------+----------------------------+---------------------------+---------------+-----------------------+------------------+----------------------------------+---------------------------------+--------------------------------------+------------------------------------------+-----------------------------------------+------------------------------------+-----------------------------------+----------------------------------+--------------------------------------+-------------------------------------+------------------------------------+--------------------------------------+----------------------------------------+--------------------------+------------------------+------------------------+-----------------------+-------------------------+----------------------------------+----------------------------------+---------------------------------+--------------------------+------------------+-------------+-------------------+-------------------------------------+------------------+---------------------------------+--------------------+-----------------+-----------------------+-----------------------------------+---------------------------+----------------+---------------------------+------------------+--------------------------+-----------------------------+---------------+-------------------------+-----------+-----------+------------+-------------------------------------------------+-------------------------------------------------+------------------------------------------------+-----------------------------------------+---------------------------------+----------------------------+----------------------------------+----------------------------------------------------+---------------------------------+------------------------------------------------+-----------------------------------+--------------------------------+--------------------------------------+--------------------------------------------------+------------------------------------------+-------------------------------+------------------------------------------+---------------------------------+-----------------------------------------+--------------------------------------------+------------------------------+--------------------------+--------------------------+---------------------------+-----------------------+------------------------+--------------------------+----------------+--------------------+----------------+------------------------------+--------------------------------+-----------------+------------------+-------------------------+--------------------------------+---------------------+----------------------+-------------+------------------+-----------------+---------------+----------------------------+----------------------------+-------------------+------------------------+-----------------------+----------------------------+-----------------------------+------------------------+-------------+-------------+----------------------------+-------------------+--------------+--------------------+-------------+-----------------+-------------+-----------------------------------+----------------------+-----------------------------+--------------------+-------------------------+---------------------+----------------------+--------------------+---------------------------------+------------------------+---------------+-------------+-----------------+-------------------------+------------+-------------+------------------+-----------+------------------+----+-----+--------------------------------+--------------------------------+--------------------------------+-------------------------+----------------------------+--------------------------+--------------------------+------------------+-----------------+\n|      0|        0|                   0|                            0|                               0|                           0|                      0|                     0|                           0|                          0|              0|                      0|                 0|                                 0|                                0|                                     0|                                         0|                                        0|                                   0|                                  0|                                 0|                                     0|                                    0|                                   0|                                     0|                                       0|                         0|                       0|                       0|                      0|                        0|                                 0|                                 0|                                0|                         0|                 0|            0|                  0|                                    0|                 0|                                0|                   0|                0|                      0|                                  0|                          0|               0|                          0|                 0|                         0|                            0|              0|                        0|          0|          0|           0|                                                0|                                                0|                                               0|                                        0|                                0|                           0|                                 0|                                                   0|                                0|                                               0|                                  0|                               0|                                     0|                                                 0|                                         0|                              0|                                         0|                                0|                                        0|                                           0|                             0|                         0|                         0|                          0|                      0|                       0|                         0|               0|                   0|               0|                             0|                               0|                0|                 0|                        0|                               0|                    0|                     0|            0|                 0|                0|              0|                           0|                           0|                  0|                       0|                      0|                           0|                            0|                       0|            0|            0|                           0|                  0|             0|                   0|            0|                0|            0|                                  0|                     0|                            0|                   0|                        0|                    0|                     0|                   0|                                0|                       0|              0|            0|                0|                        0|           0|            0|                 0|          0|                 0|   0|    0|                               0|                               0|                               0|                        0|                           0|                         0|                         0|                 0|                0|\n+-------+---------+--------------------+-----------------------------+--------------------------------+----------------------------+-----------------------+----------------------+----------------------------+---------------------------+---------------+-----------------------+------------------+----------------------------------+---------------------------------+--------------------------------------+------------------------------------------+-----------------------------------------+------------------------------------+-----------------------------------+----------------------------------+--------------------------------------+-------------------------------------+------------------------------------+--------------------------------------+----------------------------------------+--------------------------+------------------------+------------------------+-----------------------+-------------------------+----------------------------------+----------------------------------+---------------------------------+--------------------------+------------------+-------------+-------------------+-------------------------------------+------------------+---------------------------------+--------------------+-----------------+-----------------------+-----------------------------------+---------------------------+----------------+---------------------------+------------------+--------------------------+-----------------------------+---------------+-------------------------+-----------+-----------+------------+-------------------------------------------------+-------------------------------------------------+------------------------------------------------+-----------------------------------------+---------------------------------+----------------------------+----------------------------------+----------------------------------------------------+---------------------------------+------------------------------------------------+-----------------------------------+--------------------------------+--------------------------------------+--------------------------------------------------+------------------------------------------+-------------------------------+------------------------------------------+---------------------------------+-----------------------------------------+--------------------------------------------+------------------------------+--------------------------+--------------------------+---------------------------+-----------------------+------------------------+--------------------------+----------------+--------------------+----------------+------------------------------+--------------------------------+-----------------+------------------+-------------------------+--------------------------------+---------------------+----------------------+-------------+------------------+-----------------+---------------+----------------------------+----------------------------+-------------------+------------------------+-----------------------+----------------------------+-----------------------------+------------------------+-------------+-------------+----------------------------+-------------------+--------------+--------------------+-------------+-----------------+-------------+-----------------------------------+----------------------+-----------------------------+--------------------+-------------------------+---------------------+----------------------+--------------------+---------------------------------+------------------------+---------------+-------------+-----------------+-------------------------+------------+-------------+------------------+-----------+------------------+----+-----+--------------------------------+--------------------------------+--------------------------------+-------------------------+----------------------------+--------------------------+--------------------------+------------------+-----------------+\n\n"
     ]
    }
   ],
   "source": [
    "null_counts = train_data.select([\n",
    "    sum(F.col(c).isNull().cast(\"int\")).alias(c)\n",
    "    for c in train_data.columns\n",
    "])\n",
    "null_counts.show()"
   ]
  },
  {
   "cell_type": "code",
   "execution_count": 0,
   "metadata": {
    "application/vnd.databricks.v1+cell": {
     "cellMetadata": {
      "byteLimit": 2048000,
      "rowLimit": 10000
     },
     "inputWidgets": {},
     "nuid": "78088e2b-3b96-4d57-8839-68f27d4dc919",
     "showTitle": false,
     "tableResultSettingsMap": {},
     "title": ""
    }
   },
   "outputs": [
    {
     "output_type": "stream",
     "name": "stdout",
     "output_type": "stream",
     "text": [
      "+-------+---------+--------------------+-----------------------------+--------------------------------+----------------------------+-----------------------+----------------------+----------------------------+---------------------------+---------------+-----------------------+------------------+----------------------------------+---------------------------------+--------------------------------------+------------------------------------------+-----------------------------------------+------------------------------------+-----------------------------------+----------------------------------+--------------------------------------+-------------------------------------+------------------------------------+--------------------------------------+----------------------------------------+--------------------------+------------------------+------------------------+-----------------------+-------------------------+----------------------------------+----------------------------------+---------------------------------+--------------------------+------------------+-------------+-------------------+-------------------------------------+------------------+---------------------------------+--------------------+-----------------+-----------------------+-----------------------------------+---------------------------+----------------+---------------------------+------------------+--------------------------+-----------------------------+---------------+-------------------------+-----------+-----------+------------+-------------------------------------------------+-------------------------------------------------+------------------------------------------------+-----------------------------------------+---------------------------------+----------------------------+----------------------------------+----------------------------------------------------+---------------------------------+------------------------------------------------+-----------------------------------+--------------------------------+--------------------------------------+--------------------------------------------------+------------------------------------------+-------------------------------+------------------------------------------+---------------------------------+-----------------------------------------+--------------------------------------------+------------------------------+--------------------------+--------------------------+---------------------------+-----------------------+------------------------+--------------------------+----------------+--------------------+----------------+------------------------------+--------------------------------+-----------------+------------------+-------------------------+--------------------------------+---------------------+----------------------+-------------+------------------+-----------------+---------------+----------------------------+----------------------------+-------------------+------------------------+-----------------------+----------------------------+-----------------------------+------------------------+-------------+-------------+----------------------------+-------------------+--------------+--------------------+-------------+-----------------+-------------+-----------------------------------+----------------------+-----------------------------+--------------------+-------------------------+---------------------+----------------------+--------------------+---------------------------------+------------------------+---------------+-------------+-----------------+-------------------------+------------+-------------+------------------+-----------+------------------+----+-----+--------------------------------+--------------------------------+--------------------------------+-------------------------+----------------------------+--------------------------+--------------------------+------------------+-----------------+\n|zipcode|trip_date|days_since_last_trip|driving_year_since_first_trip|previous_trip_date_avg_speed_mph|rolling_15trip_avg_speed_mph|prev_trip_date_distance|prev_trip_date_minutes|rolling_15day_total_distance|rolling_15day_total_minutes|last_has_issues|vehicle_inspection_rate|vehicle_cum_issues|vehicle_rolling_15trip_num_inspect|vehicle_rolling_15trip_num_issues|vehicle_rolling_15trip_sum_travel_dist|vehicle_rolling_15trip_sum_minutes_driving|vehicle_rolling_15trip_num_driving_events|vehicle_rolling_15trip_insp_distance|vehicle_rolling_15trip_insp_minutes|vehicle_rolling_15trip_insp_events|vehicle_rolling_15trip_issues_distance|vehicle_rolling_15trip_issues_minutes|vehicle_rolling_15trip_issues_events|vehicle_rolling_15trip_insp_given_date|vehicle_rolling_15trip_issues_given_date|days_since_last_inspection|prev_sum_travel_distance|prev_sum_minutes_driving|prev_num_driving_events|years_since_min_trip_date|driver_sum_travel_distance_roll15d|driver_sum_minutes_driving_roll15d|driver_num_driving_events_roll15d|camera_obstruction_roll15d|cell_phone_roll15d|crash_roll15d|distraction_roll15d|driver_facing_cam_obstruction_roll15d|drowsiness_roll15d|forward_collision_warning_roll15d|manual_event_roll15d|near_miss_roll15d|ran_a_red_light_roll15d|road_facing_cam_obstruction_roll15d|seat_belt_violation_roll15d|speeding_roll15d|stop_sign_violation_roll15d|tailgating_roll15d|unsafe_lane_change_roll15d|total_events_per_trip_roll15d|trip_ts_roll15d|prev_pending_review_count|low_roll15d|mid_roll15d|high_roll15d|ratio_driver_sum_travel_distance_roll15d_per_year|ratio_driver_sum_minutes_driving_roll15d_per_year|ratio_driver_num_driving_events_roll15d_per_year|ratio_camera_obstruction_roll15d_per_year|ratio_cell_phone_roll15d_per_year|ratio_crash_roll15d_per_year|ratio_distraction_roll15d_per_year|ratio_driver_facing_cam_obstruction_roll15d_per_year|ratio_drowsiness_roll15d_per_year|ratio_forward_collision_warning_roll15d_per_year|ratio_manual_event_roll15d_per_year|ratio_near_miss_roll15d_per_year|ratio_ran_a_red_light_roll15d_per_year|ratio_road_facing_cam_obstruction_roll15d_per_year|ratio_seat_belt_violation_roll15d_per_year|ratio_speeding_roll15d_per_year|ratio_stop_sign_violation_roll15d_per_year|ratio_tailgating_roll15d_per_year|ratio_unsafe_lane_change_roll15d_per_year|ratio_total_events_per_trip_roll15d_per_year|ratio_trip_ts_roll15d_per_year|ratio_low_roll15d_per_year|ratio_mid_roll15d_per_year|ratio_high_roll15d_per_year|prev_review_rate_per_km|prev_review_rate_per_min|prev_review_rate_per_event|group_wi__buckys|group_ga_psi_augusta|group_nc__denver|group_tn__memphis__safety_quip|group_tn__fusionsite_(nashville)|group_fl__freedom|group_fl__jw_craft|group_ms__american_johnny|group_fl__gainsville_porta_serve|group_pa__port_a_bowl|group_ia__cedar_rapids|group_ga__gci|group_ms__gotta_go|group_pa__malvern|group_tx__forza|group_tn__fusionsite_(clark)|group_san_angelo_tops_septic|group_wi__stranders|group_az__stamback_admin|group_oh__rent__a__john|group_az__stamback_rolloffs_|group_nc__griffin_hook_trucks|group_tn__maxwell_septic|group_ky__lex|group_nc__asc|group_tn__chattanooga_bolles|group_tn__mc_septic|group_tn__etp_|group_sc__littlejohn|group_tx__acp|group_ny__a__john|group_va__r_r|group_nc__griffin_waste_pump_trucks|group_sc__psi_columbia|group_ky__bullitt_sep_service|group_ky__moon_minis|group_oh__c_l_and_safeway|group_ar__little_rock|group_ky__moon_leasing|group_nc__greensboro|group_tn__fusionsite_(woodycrest)|group_ky__moon_portables|group_tx__j_bar|group_ar__fay|group_lubbock_hd_|group_az__stamback_septic|group_kermit|group_lubbock|group_wi__cesspool|is_accident|has_prev_accidents|year|month|median_precipitation_prev_1d_avg|median_precipitation_prev_2d_avg|median_precipitation_prev_3d_avg|total_crashes_prev_3m_avg|total_fatalities_prev_3m_avg|total_injuries_prev_3m_avg|total_vehicles_prev_3m_avg|vehicle_id_encoded|driver_id_encoded|\n+-------+---------+--------------------+-----------------------------+--------------------------------+----------------------------+-----------------------+----------------------+----------------------------+---------------------------+---------------+-----------------------+------------------+----------------------------------+---------------------------------+--------------------------------------+------------------------------------------+-----------------------------------------+------------------------------------+-----------------------------------+----------------------------------+--------------------------------------+-------------------------------------+------------------------------------+--------------------------------------+----------------------------------------+--------------------------+------------------------+------------------------+-----------------------+-------------------------+----------------------------------+----------------------------------+---------------------------------+--------------------------+------------------+-------------+-------------------+-------------------------------------+------------------+---------------------------------+--------------------+-----------------+-----------------------+-----------------------------------+---------------------------+----------------+---------------------------+------------------+--------------------------+-----------------------------+---------------+-------------------------+-----------+-----------+------------+-------------------------------------------------+-------------------------------------------------+------------------------------------------------+-----------------------------------------+---------------------------------+----------------------------+----------------------------------+----------------------------------------------------+---------------------------------+------------------------------------------------+-----------------------------------+--------------------------------+--------------------------------------+--------------------------------------------------+------------------------------------------+-------------------------------+------------------------------------------+---------------------------------+-----------------------------------------+--------------------------------------------+------------------------------+--------------------------+--------------------------+---------------------------+-----------------------+------------------------+--------------------------+----------------+--------------------+----------------+------------------------------+--------------------------------+-----------------+------------------+-------------------------+--------------------------------+---------------------+----------------------+-------------+------------------+-----------------+---------------+----------------------------+----------------------------+-------------------+------------------------+-----------------------+----------------------------+-----------------------------+------------------------+-------------+-------------+----------------------------+-------------------+--------------+--------------------+-------------+-----------------+-------------+-----------------------------------+----------------------+-----------------------------+--------------------+-------------------------+---------------------+----------------------+--------------------+---------------------------------+------------------------+---------------+-------------+-----------------+-------------------------+------------+-------------+------------------+-----------+------------------+----+-----+--------------------------------+--------------------------------+--------------------------------+-------------------------+----------------------------+--------------------------+--------------------------+------------------+-----------------+\n|      0|        0|                   0|                            0|                               0|                           0|                      0|                     0|                           0|                          0|              0|                      0|                 0|                                 0|                                0|                                     0|                                         0|                                        0|                                   0|                                  0|                                 0|                                     0|                                    0|                                   0|                                     0|                                       0|                         0|                       0|                       0|                      0|                        0|                                 0|                                 0|                                0|                         0|                 0|            0|                  0|                                    0|                 0|                                0|                   0|                0|                      0|                                  0|                          0|               0|                          0|                 0|                         0|                            0|              0|                        0|          0|          0|           0|                                                0|                                                0|                                               0|                                        0|                                0|                           0|                                 0|                                                   0|                                0|                                               0|                                  0|                               0|                                     0|                                                 0|                                         0|                              0|                                         0|                                0|                                        0|                                           0|                             0|                         0|                         0|                          0|                      0|                       0|                         0|               0|                   0|               0|                             0|                               0|                0|                 0|                        0|                               0|                    0|                     0|            0|                 0|                0|              0|                           0|                           0|                  0|                       0|                      0|                           0|                            0|                       0|            0|            0|                           0|                  0|             0|                   0|            0|                0|            0|                                  0|                     0|                            0|                   0|                        0|                    0|                     0|                   0|                                0|                       0|              0|            0|                0|                        0|           0|            0|                 0|          0|                 0|   0|    0|                               0|                               0|                               0|                        0|                           0|                         0|                         0|                 0|                0|\n+-------+---------+--------------------+-----------------------------+--------------------------------+----------------------------+-----------------------+----------------------+----------------------------+---------------------------+---------------+-----------------------+------------------+----------------------------------+---------------------------------+--------------------------------------+------------------------------------------+-----------------------------------------+------------------------------------+-----------------------------------+----------------------------------+--------------------------------------+-------------------------------------+------------------------------------+--------------------------------------+----------------------------------------+--------------------------+------------------------+------------------------+-----------------------+-------------------------+----------------------------------+----------------------------------+---------------------------------+--------------------------+------------------+-------------+-------------------+-------------------------------------+------------------+---------------------------------+--------------------+-----------------+-----------------------+-----------------------------------+---------------------------+----------------+---------------------------+------------------+--------------------------+-----------------------------+---------------+-------------------------+-----------+-----------+------------+-------------------------------------------------+-------------------------------------------------+------------------------------------------------+-----------------------------------------+---------------------------------+----------------------------+----------------------------------+----------------------------------------------------+---------------------------------+------------------------------------------------+-----------------------------------+--------------------------------+--------------------------------------+--------------------------------------------------+------------------------------------------+-------------------------------+------------------------------------------+---------------------------------+-----------------------------------------+--------------------------------------------+------------------------------+--------------------------+--------------------------+---------------------------+-----------------------+------------------------+--------------------------+----------------+--------------------+----------------+------------------------------+--------------------------------+-----------------+------------------+-------------------------+--------------------------------+---------------------+----------------------+-------------+------------------+-----------------+---------------+----------------------------+----------------------------+-------------------+------------------------+-----------------------+----------------------------+-----------------------------+------------------------+-------------+-------------+----------------------------+-------------------+--------------+--------------------+-------------+-----------------+-------------+-----------------------------------+----------------------+-----------------------------+--------------------+-------------------------+---------------------+----------------------+--------------------+---------------------------------+------------------------+---------------+-------------+-----------------+-------------------------+------------+-------------+------------------+-----------+------------------+----+-----+--------------------------------+--------------------------------+--------------------------------+-------------------------+----------------------------+--------------------------+--------------------------+------------------+-----------------+\n\n"
     ]
    }
   ],
   "source": [
    "null_counts = test_data.select([\n",
    "    sum(F.col(c).isNull().cast(\"int\")).alias(c)\n",
    "    for c in test_data.columns\n",
    "])\n",
    "null_counts.show()"
   ]
  },
  {
   "cell_type": "code",
   "execution_count": 0,
   "metadata": {
    "application/vnd.databricks.v1+cell": {
     "cellMetadata": {
      "byteLimit": 2048000,
      "rowLimit": 10000
     },
     "inputWidgets": {},
     "nuid": "612628ea-0a71-4bd9-b74a-a495c65986de",
     "showTitle": false,
     "tableResultSettingsMap": {},
     "title": ""
    }
   },
   "outputs": [
    {
     "output_type": "execute_result",
     "data": {
      "text/plain": [
       "True"
      ]
     },
     "execution_count": 40,
     "metadata": {},
     "output_type": "execute_result"
    }
   ],
   "source": [
    "dbutils.fs.rm(\"dbfs:/FileStore/tables/train_data3.parquet\", recurse=True)\n",
    "dbutils.fs.rm(\"dbfs:/FileStore/tables/test_data3.parquet\", recurse=True)\n",
    "\n"
   ]
  },
  {
   "cell_type": "code",
   "execution_count": 0,
   "metadata": {
    "application/vnd.databricks.v1+cell": {
     "cellMetadata": {
      "byteLimit": 2048000,
      "rowLimit": 10000
     },
     "inputWidgets": {},
     "nuid": "ab54b163-f919-4483-b714-de4408e7f603",
     "showTitle": false,
     "tableResultSettingsMap": {},
     "title": ""
    }
   },
   "outputs": [],
   "source": [
    "train_data.coalesce(1).write.parquet(\"dbfs:/FileStore/tables/train_data3.parquet\")\n",
    "test_data.coalesce(1).write.parquet(\"dbfs:/FileStore/tables/test_data3.parquet\")"
   ]
  },
  {
   "cell_type": "code",
   "execution_count": 0,
   "metadata": {
    "application/vnd.databricks.v1+cell": {
     "cellMetadata": {
      "byteLimit": 2048000,
      "rowLimit": 10000
     },
     "inputWidgets": {},
     "nuid": "94061d84-8eb4-4839-9e80-3c3ca8633bcc",
     "showTitle": false,
     "tableResultSettingsMap": {},
     "title": ""
    }
   },
   "outputs": [
    {
     "output_type": "stream",
     "name": "stdout",
     "output_type": "stream",
     "text": [
      "root\n |-- zipcode: integer (nullable = true)\n |-- trip_date: date (nullable = true)\n |-- days_since_last_trip: integer (nullable = true)\n |-- driving_year_since_first_trip: double (nullable = true)\n |-- previous_trip_date_avg_speed_mph: double (nullable = true)\n |-- rolling_15trip_avg_speed_mph: double (nullable = true)\n |-- prev_trip_date_distance: double (nullable = true)\n |-- prev_trip_date_minutes: double (nullable = true)\n |-- rolling_15day_total_distance: double (nullable = true)\n |-- rolling_15day_total_minutes: double (nullable = true)\n |-- last_has_issues: integer (nullable = true)\n |-- vehicle_inspection_rate: double (nullable = true)\n |-- vehicle_cum_issues: long (nullable = true)\n |-- vehicle_rolling_15trip_num_inspect: long (nullable = true)\n |-- vehicle_rolling_15trip_num_issues: long (nullable = true)\n |-- vehicle_rolling_15trip_sum_travel_dist: double (nullable = true)\n |-- vehicle_rolling_15trip_sum_minutes_driving: double (nullable = true)\n |-- vehicle_rolling_15trip_num_driving_events: long (nullable = true)\n |-- vehicle_rolling_15trip_insp_distance: double (nullable = true)\n |-- vehicle_rolling_15trip_insp_minutes: double (nullable = true)\n |-- vehicle_rolling_15trip_insp_events: double (nullable = true)\n |-- vehicle_rolling_15trip_issues_distance: double (nullable = true)\n |-- vehicle_rolling_15trip_issues_minutes: double (nullable = true)\n |-- vehicle_rolling_15trip_issues_events: double (nullable = true)\n |-- vehicle_rolling_15trip_insp_given_date: double (nullable = true)\n |-- vehicle_rolling_15trip_issues_given_date: double (nullable = true)\n |-- days_since_last_inspection: integer (nullable = true)\n |-- prev_sum_travel_distance: double (nullable = true)\n |-- prev_sum_minutes_driving: double (nullable = true)\n |-- prev_num_driving_events: long (nullable = true)\n |-- years_since_min_trip_date: double (nullable = true)\n |-- driver_sum_travel_distance_roll15d: double (nullable = true)\n |-- driver_sum_minutes_driving_roll15d: double (nullable = true)\n |-- driver_num_driving_events_roll15d: long (nullable = true)\n |-- camera_obstruction_roll15d: long (nullable = true)\n |-- cell_phone_roll15d: long (nullable = true)\n |-- crash_roll15d: long (nullable = true)\n |-- distraction_roll15d: long (nullable = true)\n |-- driver_facing_cam_obstruction_roll15d: long (nullable = true)\n |-- drowsiness_roll15d: long (nullable = true)\n |-- forward_collision_warning_roll15d: long (nullable = true)\n |-- manual_event_roll15d: long (nullable = true)\n |-- near_miss_roll15d: long (nullable = true)\n |-- ran_a_red_light_roll15d: long (nullable = true)\n |-- road_facing_cam_obstruction_roll15d: long (nullable = true)\n |-- seat_belt_violation_roll15d: long (nullable = true)\n |-- speeding_roll15d: long (nullable = true)\n |-- stop_sign_violation_roll15d: long (nullable = true)\n |-- tailgating_roll15d: long (nullable = true)\n |-- unsafe_lane_change_roll15d: long (nullable = true)\n |-- total_events_per_trip_roll15d: long (nullable = true)\n |-- trip_ts_roll15d: long (nullable = true)\n |-- prev_pending_review_count: long (nullable = true)\n |-- low_roll15d: long (nullable = true)\n |-- mid_roll15d: long (nullable = true)\n |-- high_roll15d: long (nullable = true)\n |-- ratio_driver_sum_travel_distance_roll15d_per_year: double (nullable = true)\n |-- ratio_driver_sum_minutes_driving_roll15d_per_year: double (nullable = true)\n |-- ratio_driver_num_driving_events_roll15d_per_year: double (nullable = true)\n |-- ratio_camera_obstruction_roll15d_per_year: double (nullable = true)\n |-- ratio_cell_phone_roll15d_per_year: double (nullable = true)\n |-- ratio_crash_roll15d_per_year: double (nullable = true)\n |-- ratio_distraction_roll15d_per_year: double (nullable = true)\n |-- ratio_driver_facing_cam_obstruction_roll15d_per_year: double (nullable = true)\n |-- ratio_drowsiness_roll15d_per_year: double (nullable = true)\n |-- ratio_forward_collision_warning_roll15d_per_year: double (nullable = true)\n |-- ratio_manual_event_roll15d_per_year: double (nullable = true)\n |-- ratio_near_miss_roll15d_per_year: double (nullable = true)\n |-- ratio_ran_a_red_light_roll15d_per_year: double (nullable = true)\n |-- ratio_road_facing_cam_obstruction_roll15d_per_year: double (nullable = true)\n |-- ratio_seat_belt_violation_roll15d_per_year: double (nullable = true)\n |-- ratio_speeding_roll15d_per_year: double (nullable = true)\n |-- ratio_stop_sign_violation_roll15d_per_year: double (nullable = true)\n |-- ratio_tailgating_roll15d_per_year: double (nullable = true)\n |-- ratio_unsafe_lane_change_roll15d_per_year: double (nullable = true)\n |-- ratio_total_events_per_trip_roll15d_per_year: double (nullable = true)\n |-- ratio_trip_ts_roll15d_per_year: double (nullable = true)\n |-- ratio_low_roll15d_per_year: double (nullable = true)\n |-- ratio_mid_roll15d_per_year: double (nullable = true)\n |-- ratio_high_roll15d_per_year: double (nullable = true)\n |-- prev_review_rate_per_km: double (nullable = true)\n |-- prev_review_rate_per_min: double (nullable = true)\n |-- prev_review_rate_per_event: double (nullable = true)\n |-- group_wi__buckys: integer (nullable = true)\n |-- group_ga_psi_augusta: integer (nullable = true)\n |-- group_nc__denver: integer (nullable = true)\n |-- group_tn__memphis__safety_quip: integer (nullable = true)\n |-- group_tn__fusionsite_(nashville): integer (nullable = true)\n |-- group_fl__freedom: integer (nullable = true)\n |-- group_fl__jw_craft: integer (nullable = true)\n |-- group_ms__american_johnny: integer (nullable = true)\n |-- group_fl__gainsville_porta_serve: integer (nullable = true)\n |-- group_pa__port_a_bowl: integer (nullable = true)\n |-- group_ia__cedar_rapids: integer (nullable = true)\n |-- group_ga__gci: integer (nullable = true)\n |-- group_ms__gotta_go: integer (nullable = true)\n |-- group_pa__malvern: integer (nullable = true)\n |-- group_tx__forza: integer (nullable = true)\n |-- group_tn__fusionsite_(clark): integer (nullable = true)\n |-- group_san_angelo_tops_septic: integer (nullable = true)\n |-- group_wi__stranders: integer (nullable = true)\n |-- group_az__stamback_admin: integer (nullable = true)\n |-- group_oh__rent__a__john: integer (nullable = true)\n |-- group_az__stamback_rolloffs_: integer (nullable = true)\n |-- group_nc__griffin_hook_trucks: integer (nullable = true)\n |-- group_tn__maxwell_septic: integer (nullable = true)\n |-- group_ky__lex: integer (nullable = true)\n |-- group_nc__asc: integer (nullable = true)\n |-- group_tn__chattanooga_bolles: integer (nullable = true)\n |-- group_tn__mc_septic: integer (nullable = true)\n |-- group_tn__etp_: integer (nullable = true)\n |-- group_sc__littlejohn: integer (nullable = true)\n |-- group_tx__acp: integer (nullable = true)\n |-- group_ny__a__john: integer (nullable = true)\n |-- group_va__r_r: integer (nullable = true)\n |-- group_nc__griffin_waste_pump_trucks: integer (nullable = true)\n |-- group_sc__psi_columbia: integer (nullable = true)\n |-- group_ky__bullitt_sep_service: integer (nullable = true)\n |-- group_ky__moon_minis: integer (nullable = true)\n |-- group_oh__c_l_and_safeway: integer (nullable = true)\n |-- group_ar__little_rock: integer (nullable = true)\n |-- group_ky__moon_leasing: integer (nullable = true)\n |-- group_nc__greensboro: integer (nullable = true)\n |-- group_tn__fusionsite_(woodycrest): integer (nullable = true)\n |-- group_ky__moon_portables: integer (nullable = true)\n |-- group_tx__j_bar: integer (nullable = true)\n |-- group_ar__fay: integer (nullable = true)\n |-- group_lubbock_hd_: integer (nullable = true)\n |-- group_az__stamback_septic: integer (nullable = true)\n |-- group_kermit: integer (nullable = true)\n |-- group_lubbock: integer (nullable = true)\n |-- group_wi__cesspool: integer (nullable = true)\n |-- is_accident: integer (nullable = true)\n |-- has_prev_accidents: integer (nullable = true)\n |-- year: integer (nullable = true)\n |-- month: integer (nullable = true)\n |-- median_precipitation_prev_1d_avg: double (nullable = true)\n |-- median_precipitation_prev_2d_avg: double (nullable = true)\n |-- median_precipitation_prev_3d_avg: double (nullable = true)\n |-- total_crashes_prev_3m_avg: double (nullable = true)\n |-- total_fatalities_prev_3m_avg: double (nullable = true)\n |-- total_injuries_prev_3m_avg: double (nullable = true)\n |-- total_vehicles_prev_3m_avg: double (nullable = true)\n |-- vehicle_id_encoded: vector (nullable = true)\n |-- driver_id_encoded: vector (nullable = true)\n\n"
     ]
    }
   ],
   "source": [
    "train_data.printSchema()"
   ]
  },
  {
   "cell_type": "code",
   "execution_count": 0,
   "metadata": {
    "application/vnd.databricks.v1+cell": {
     "cellMetadata": {
      "byteLimit": 2048000,
      "rowLimit": 10000
     },
     "inputWidgets": {},
     "nuid": "f3800bf4-6d0a-43f1-af20-7448b1a938a9",
     "showTitle": false,
     "tableResultSettingsMap": {},
     "title": ""
    }
   },
   "outputs": [
    {
     "output_type": "stream",
     "name": "stdout",
     "output_type": "stream",
     "text": [
      "root\n |-- zipcode: integer (nullable = true)\n |-- trip_date: date (nullable = true)\n |-- days_since_last_trip: integer (nullable = true)\n |-- driving_year_since_first_trip: double (nullable = true)\n |-- previous_trip_date_avg_speed_mph: double (nullable = true)\n |-- rolling_15trip_avg_speed_mph: double (nullable = true)\n |-- prev_trip_date_distance: double (nullable = true)\n |-- prev_trip_date_minutes: double (nullable = true)\n |-- rolling_15day_total_distance: double (nullable = true)\n |-- rolling_15day_total_minutes: double (nullable = true)\n |-- last_has_issues: integer (nullable = true)\n |-- vehicle_inspection_rate: double (nullable = true)\n |-- vehicle_cum_issues: long (nullable = true)\n |-- vehicle_rolling_15trip_num_inspect: long (nullable = true)\n |-- vehicle_rolling_15trip_num_issues: long (nullable = true)\n |-- vehicle_rolling_15trip_sum_travel_dist: double (nullable = true)\n |-- vehicle_rolling_15trip_sum_minutes_driving: double (nullable = true)\n |-- vehicle_rolling_15trip_num_driving_events: long (nullable = true)\n |-- vehicle_rolling_15trip_insp_distance: double (nullable = true)\n |-- vehicle_rolling_15trip_insp_minutes: double (nullable = true)\n |-- vehicle_rolling_15trip_insp_events: double (nullable = true)\n |-- vehicle_rolling_15trip_issues_distance: double (nullable = true)\n |-- vehicle_rolling_15trip_issues_minutes: double (nullable = true)\n |-- vehicle_rolling_15trip_issues_events: double (nullable = true)\n |-- vehicle_rolling_15trip_insp_given_date: double (nullable = true)\n |-- vehicle_rolling_15trip_issues_given_date: double (nullable = true)\n |-- days_since_last_inspection: integer (nullable = true)\n |-- prev_sum_travel_distance: double (nullable = true)\n |-- prev_sum_minutes_driving: double (nullable = true)\n |-- prev_num_driving_events: long (nullable = true)\n |-- years_since_min_trip_date: double (nullable = true)\n |-- driver_sum_travel_distance_roll15d: double (nullable = true)\n |-- driver_sum_minutes_driving_roll15d: double (nullable = true)\n |-- driver_num_driving_events_roll15d: long (nullable = true)\n |-- camera_obstruction_roll15d: long (nullable = true)\n |-- cell_phone_roll15d: long (nullable = true)\n |-- crash_roll15d: long (nullable = true)\n |-- distraction_roll15d: long (nullable = true)\n |-- driver_facing_cam_obstruction_roll15d: long (nullable = true)\n |-- drowsiness_roll15d: long (nullable = true)\n |-- forward_collision_warning_roll15d: long (nullable = true)\n |-- manual_event_roll15d: long (nullable = true)\n |-- near_miss_roll15d: long (nullable = true)\n |-- ran_a_red_light_roll15d: long (nullable = true)\n |-- road_facing_cam_obstruction_roll15d: long (nullable = true)\n |-- seat_belt_violation_roll15d: long (nullable = true)\n |-- speeding_roll15d: long (nullable = true)\n |-- stop_sign_violation_roll15d: long (nullable = true)\n |-- tailgating_roll15d: long (nullable = true)\n |-- unsafe_lane_change_roll15d: long (nullable = true)\n |-- total_events_per_trip_roll15d: long (nullable = true)\n |-- trip_ts_roll15d: long (nullable = true)\n |-- prev_pending_review_count: long (nullable = true)\n |-- low_roll15d: long (nullable = true)\n |-- mid_roll15d: long (nullable = true)\n |-- high_roll15d: long (nullable = true)\n |-- ratio_driver_sum_travel_distance_roll15d_per_year: double (nullable = true)\n |-- ratio_driver_sum_minutes_driving_roll15d_per_year: double (nullable = true)\n |-- ratio_driver_num_driving_events_roll15d_per_year: double (nullable = true)\n |-- ratio_camera_obstruction_roll15d_per_year: double (nullable = true)\n |-- ratio_cell_phone_roll15d_per_year: double (nullable = true)\n |-- ratio_crash_roll15d_per_year: double (nullable = true)\n |-- ratio_distraction_roll15d_per_year: double (nullable = true)\n |-- ratio_driver_facing_cam_obstruction_roll15d_per_year: double (nullable = true)\n |-- ratio_drowsiness_roll15d_per_year: double (nullable = true)\n |-- ratio_forward_collision_warning_roll15d_per_year: double (nullable = true)\n |-- ratio_manual_event_roll15d_per_year: double (nullable = true)\n |-- ratio_near_miss_roll15d_per_year: double (nullable = true)\n |-- ratio_ran_a_red_light_roll15d_per_year: double (nullable = true)\n |-- ratio_road_facing_cam_obstruction_roll15d_per_year: double (nullable = true)\n |-- ratio_seat_belt_violation_roll15d_per_year: double (nullable = true)\n |-- ratio_speeding_roll15d_per_year: double (nullable = true)\n |-- ratio_stop_sign_violation_roll15d_per_year: double (nullable = true)\n |-- ratio_tailgating_roll15d_per_year: double (nullable = true)\n |-- ratio_unsafe_lane_change_roll15d_per_year: double (nullable = true)\n |-- ratio_total_events_per_trip_roll15d_per_year: double (nullable = true)\n |-- ratio_trip_ts_roll15d_per_year: double (nullable = true)\n |-- ratio_low_roll15d_per_year: double (nullable = true)\n |-- ratio_mid_roll15d_per_year: double (nullable = true)\n |-- ratio_high_roll15d_per_year: double (nullable = true)\n |-- prev_review_rate_per_km: double (nullable = true)\n |-- prev_review_rate_per_min: double (nullable = true)\n |-- prev_review_rate_per_event: double (nullable = true)\n |-- group_wi__buckys: integer (nullable = true)\n |-- group_ga_psi_augusta: integer (nullable = true)\n |-- group_nc__denver: integer (nullable = true)\n |-- group_tn__memphis__safety_quip: integer (nullable = true)\n |-- group_tn__fusionsite_(nashville): integer (nullable = true)\n |-- group_fl__freedom: integer (nullable = true)\n |-- group_fl__jw_craft: integer (nullable = true)\n |-- group_ms__american_johnny: integer (nullable = true)\n |-- group_fl__gainsville_porta_serve: integer (nullable = true)\n |-- group_pa__port_a_bowl: integer (nullable = true)\n |-- group_ia__cedar_rapids: integer (nullable = true)\n |-- group_ga__gci: integer (nullable = true)\n |-- group_ms__gotta_go: integer (nullable = true)\n |-- group_pa__malvern: integer (nullable = true)\n |-- group_tx__forza: integer (nullable = true)\n |-- group_tn__fusionsite_(clark): integer (nullable = true)\n |-- group_san_angelo_tops_septic: integer (nullable = true)\n |-- group_wi__stranders: integer (nullable = true)\n |-- group_az__stamback_admin: integer (nullable = true)\n |-- group_oh__rent__a__john: integer (nullable = true)\n |-- group_az__stamback_rolloffs_: integer (nullable = true)\n |-- group_nc__griffin_hook_trucks: integer (nullable = true)\n |-- group_tn__maxwell_septic: integer (nullable = true)\n |-- group_ky__lex: integer (nullable = true)\n |-- group_nc__asc: integer (nullable = true)\n |-- group_tn__chattanooga_bolles: integer (nullable = true)\n |-- group_tn__mc_septic: integer (nullable = true)\n |-- group_tn__etp_: integer (nullable = true)\n |-- group_sc__littlejohn: integer (nullable = true)\n |-- group_tx__acp: integer (nullable = true)\n |-- group_ny__a__john: integer (nullable = true)\n |-- group_va__r_r: integer (nullable = true)\n |-- group_nc__griffin_waste_pump_trucks: integer (nullable = true)\n |-- group_sc__psi_columbia: integer (nullable = true)\n |-- group_ky__bullitt_sep_service: integer (nullable = true)\n |-- group_ky__moon_minis: integer (nullable = true)\n |-- group_oh__c_l_and_safeway: integer (nullable = true)\n |-- group_ar__little_rock: integer (nullable = true)\n |-- group_ky__moon_leasing: integer (nullable = true)\n |-- group_nc__greensboro: integer (nullable = true)\n |-- group_tn__fusionsite_(woodycrest): integer (nullable = true)\n |-- group_ky__moon_portables: integer (nullable = true)\n |-- group_tx__j_bar: integer (nullable = true)\n |-- group_ar__fay: integer (nullable = true)\n |-- group_lubbock_hd_: integer (nullable = true)\n |-- group_az__stamback_septic: integer (nullable = true)\n |-- group_kermit: integer (nullable = true)\n |-- group_lubbock: integer (nullable = true)\n |-- group_wi__cesspool: integer (nullable = true)\n |-- is_accident: integer (nullable = true)\n |-- has_prev_accidents: integer (nullable = true)\n |-- year: integer (nullable = true)\n |-- month: integer (nullable = true)\n |-- median_precipitation_prev_1d_avg: double (nullable = true)\n |-- median_precipitation_prev_2d_avg: double (nullable = true)\n |-- median_precipitation_prev_3d_avg: double (nullable = true)\n |-- total_crashes_prev_3m_avg: double (nullable = true)\n |-- total_fatalities_prev_3m_avg: double (nullable = true)\n |-- total_injuries_prev_3m_avg: double (nullable = true)\n |-- total_vehicles_prev_3m_avg: double (nullable = true)\n |-- vehicle_id_encoded: vector (nullable = true)\n |-- driver_id_encoded: vector (nullable = true)\n\n"
     ]
    }
   ],
   "source": [
    "loaded_test= spark.read.parquet(\"dbfs:/FileStore/tables/test_data.parquet\")\n",
    "loaded_test.printSchema()"
   ]
  },
  {
   "cell_type": "code",
   "execution_count": 0,
   "metadata": {
    "application/vnd.databricks.v1+cell": {
     "cellMetadata": {},
     "inputWidgets": {},
     "nuid": "e29c2e38-c1d0-4742-a79d-06af1244002a",
     "showTitle": false,
     "tableResultSettingsMap": {},
     "title": ""
    }
   },
   "outputs": [],
   "source": []
  }
 ],
 "metadata": {
  "application/vnd.databricks.v1+notebook": {
   "computePreferences": null,
   "dashboards": [],
   "environmentMetadata": {
    "base_environment": "",
    "environment_version": "2"
   },
   "inputWidgetPreferences": null,
   "language": "python",
   "notebookMetadata": {
    "pythonIndentUnit": 4
   },
   "notebookName": "join_and_prelim_feature_selection",
   "widgets": {}
  },
  "kernelspec": {
   "display_name": "Python 3",
   "language": "python",
   "name": "python3"
  },
  "language_info": {
   "name": "python"
  }
 },
 "nbformat": 4,
 "nbformat_minor": 0
}